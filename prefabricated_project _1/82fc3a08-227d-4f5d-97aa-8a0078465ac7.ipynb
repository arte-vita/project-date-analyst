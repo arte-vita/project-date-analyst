{
 "cells": [
  {
   "cell_type": "markdown",
   "metadata": {},
   "source": [
    "# Исследование игровой индустрии\n",
    "\n",
    "Вы работаете в интернет-магазине «Стримчик», который продаёт по всему миру компьютерные игры. Из открытых источников доступны исторические данные о продажах игр, оценки пользователей и экспертов, жанры и платформы (например, Xbox или PlayStation). Вам нужно выявить определяющие успешность игры закономерности. Это позволит сделать ставку на потенциально популярный продукт и спланировать рекламные кампании.\\\n",
    "Перед вами данные до 2016 года. Представим, что сейчас декабрь 2016 г., и вы планируете кампанию на 2017-й. Нужно отработать принцип работы с данными для прогноза продаж на 2017 год по данным 2016-го года."
   ]
  },
  {
   "cell_type": "markdown",
   "metadata": {},
   "source": [
    "### Откройте файл с данными и изучите общую информацию. "
   ]
  },
  {
   "cell_type": "code",
   "execution_count": 1,
   "metadata": {},
   "outputs": [],
   "source": [
    "#импортируем библиотеку pandas, matplotlib, scipy, seaborn\n",
    "import pandas as pd\n",
    "import matplotlib.pyplot as plt\n",
    "import scipy.stats as st\n",
    "import seaborn as sns\n",
    "\n",
    "#используем параметр sep для разделения колонок \n",
    "#укажем два пути к файлу в случае ошибки \n",
    "try:\n",
    "    data = pd.read_csv('/datasets/games.csv')\n",
    "except:\n",
    "    data = pd.read_csv(\"https://code.s3.yandex.net/datasets/games.csv\")"
   ]
  },
  {
   "cell_type": "code",
   "execution_count": 2,
   "metadata": {},
   "outputs": [
    {
     "data": {
      "text/html": [
       "<div>\n",
       "<style scoped>\n",
       "    .dataframe tbody tr th:only-of-type {\n",
       "        vertical-align: middle;\n",
       "    }\n",
       "\n",
       "    .dataframe tbody tr th {\n",
       "        vertical-align: top;\n",
       "    }\n",
       "\n",
       "    .dataframe thead th {\n",
       "        text-align: right;\n",
       "    }\n",
       "</style>\n",
       "<table border=\"1\" class=\"dataframe\">\n",
       "  <thead>\n",
       "    <tr style=\"text-align: right;\">\n",
       "      <th></th>\n",
       "      <th>Name</th>\n",
       "      <th>Platform</th>\n",
       "      <th>Year_of_Release</th>\n",
       "      <th>Genre</th>\n",
       "      <th>NA_sales</th>\n",
       "      <th>EU_sales</th>\n",
       "      <th>JP_sales</th>\n",
       "      <th>Other_sales</th>\n",
       "      <th>Critic_Score</th>\n",
       "      <th>User_Score</th>\n",
       "      <th>Rating</th>\n",
       "    </tr>\n",
       "  </thead>\n",
       "  <tbody>\n",
       "    <tr>\n",
       "      <th>0</th>\n",
       "      <td>Wii Sports</td>\n",
       "      <td>Wii</td>\n",
       "      <td>2006.0</td>\n",
       "      <td>Sports</td>\n",
       "      <td>41.36</td>\n",
       "      <td>28.96</td>\n",
       "      <td>3.77</td>\n",
       "      <td>8.45</td>\n",
       "      <td>76.0</td>\n",
       "      <td>8</td>\n",
       "      <td>E</td>\n",
       "    </tr>\n",
       "    <tr>\n",
       "      <th>1</th>\n",
       "      <td>Super Mario Bros.</td>\n",
       "      <td>NES</td>\n",
       "      <td>1985.0</td>\n",
       "      <td>Platform</td>\n",
       "      <td>29.08</td>\n",
       "      <td>3.58</td>\n",
       "      <td>6.81</td>\n",
       "      <td>0.77</td>\n",
       "      <td>NaN</td>\n",
       "      <td>NaN</td>\n",
       "      <td>NaN</td>\n",
       "    </tr>\n",
       "    <tr>\n",
       "      <th>2</th>\n",
       "      <td>Mario Kart Wii</td>\n",
       "      <td>Wii</td>\n",
       "      <td>2008.0</td>\n",
       "      <td>Racing</td>\n",
       "      <td>15.68</td>\n",
       "      <td>12.76</td>\n",
       "      <td>3.79</td>\n",
       "      <td>3.29</td>\n",
       "      <td>82.0</td>\n",
       "      <td>8.3</td>\n",
       "      <td>E</td>\n",
       "    </tr>\n",
       "    <tr>\n",
       "      <th>3</th>\n",
       "      <td>Wii Sports Resort</td>\n",
       "      <td>Wii</td>\n",
       "      <td>2009.0</td>\n",
       "      <td>Sports</td>\n",
       "      <td>15.61</td>\n",
       "      <td>10.93</td>\n",
       "      <td>3.28</td>\n",
       "      <td>2.95</td>\n",
       "      <td>80.0</td>\n",
       "      <td>8</td>\n",
       "      <td>E</td>\n",
       "    </tr>\n",
       "    <tr>\n",
       "      <th>4</th>\n",
       "      <td>Pokemon Red/Pokemon Blue</td>\n",
       "      <td>GB</td>\n",
       "      <td>1996.0</td>\n",
       "      <td>Role-Playing</td>\n",
       "      <td>11.27</td>\n",
       "      <td>8.89</td>\n",
       "      <td>10.22</td>\n",
       "      <td>1.00</td>\n",
       "      <td>NaN</td>\n",
       "      <td>NaN</td>\n",
       "      <td>NaN</td>\n",
       "    </tr>\n",
       "    <tr>\n",
       "      <th>5</th>\n",
       "      <td>Tetris</td>\n",
       "      <td>GB</td>\n",
       "      <td>1989.0</td>\n",
       "      <td>Puzzle</td>\n",
       "      <td>23.20</td>\n",
       "      <td>2.26</td>\n",
       "      <td>4.22</td>\n",
       "      <td>0.58</td>\n",
       "      <td>NaN</td>\n",
       "      <td>NaN</td>\n",
       "      <td>NaN</td>\n",
       "    </tr>\n",
       "    <tr>\n",
       "      <th>6</th>\n",
       "      <td>New Super Mario Bros.</td>\n",
       "      <td>DS</td>\n",
       "      <td>2006.0</td>\n",
       "      <td>Platform</td>\n",
       "      <td>11.28</td>\n",
       "      <td>9.14</td>\n",
       "      <td>6.50</td>\n",
       "      <td>2.88</td>\n",
       "      <td>89.0</td>\n",
       "      <td>8.5</td>\n",
       "      <td>E</td>\n",
       "    </tr>\n",
       "    <tr>\n",
       "      <th>7</th>\n",
       "      <td>Wii Play</td>\n",
       "      <td>Wii</td>\n",
       "      <td>2006.0</td>\n",
       "      <td>Misc</td>\n",
       "      <td>13.96</td>\n",
       "      <td>9.18</td>\n",
       "      <td>2.93</td>\n",
       "      <td>2.84</td>\n",
       "      <td>58.0</td>\n",
       "      <td>6.6</td>\n",
       "      <td>E</td>\n",
       "    </tr>\n",
       "    <tr>\n",
       "      <th>8</th>\n",
       "      <td>New Super Mario Bros. Wii</td>\n",
       "      <td>Wii</td>\n",
       "      <td>2009.0</td>\n",
       "      <td>Platform</td>\n",
       "      <td>14.44</td>\n",
       "      <td>6.94</td>\n",
       "      <td>4.70</td>\n",
       "      <td>2.24</td>\n",
       "      <td>87.0</td>\n",
       "      <td>8.4</td>\n",
       "      <td>E</td>\n",
       "    </tr>\n",
       "    <tr>\n",
       "      <th>9</th>\n",
       "      <td>Duck Hunt</td>\n",
       "      <td>NES</td>\n",
       "      <td>1984.0</td>\n",
       "      <td>Shooter</td>\n",
       "      <td>26.93</td>\n",
       "      <td>0.63</td>\n",
       "      <td>0.28</td>\n",
       "      <td>0.47</td>\n",
       "      <td>NaN</td>\n",
       "      <td>NaN</td>\n",
       "      <td>NaN</td>\n",
       "    </tr>\n",
       "    <tr>\n",
       "      <th>10</th>\n",
       "      <td>Nintendogs</td>\n",
       "      <td>DS</td>\n",
       "      <td>2005.0</td>\n",
       "      <td>Simulation</td>\n",
       "      <td>9.05</td>\n",
       "      <td>10.95</td>\n",
       "      <td>1.93</td>\n",
       "      <td>2.74</td>\n",
       "      <td>NaN</td>\n",
       "      <td>NaN</td>\n",
       "      <td>NaN</td>\n",
       "    </tr>\n",
       "    <tr>\n",
       "      <th>11</th>\n",
       "      <td>Mario Kart DS</td>\n",
       "      <td>DS</td>\n",
       "      <td>2005.0</td>\n",
       "      <td>Racing</td>\n",
       "      <td>9.71</td>\n",
       "      <td>7.47</td>\n",
       "      <td>4.13</td>\n",
       "      <td>1.90</td>\n",
       "      <td>91.0</td>\n",
       "      <td>8.6</td>\n",
       "      <td>E</td>\n",
       "    </tr>\n",
       "    <tr>\n",
       "      <th>12</th>\n",
       "      <td>Pokemon Gold/Pokemon Silver</td>\n",
       "      <td>GB</td>\n",
       "      <td>1999.0</td>\n",
       "      <td>Role-Playing</td>\n",
       "      <td>9.00</td>\n",
       "      <td>6.18</td>\n",
       "      <td>7.20</td>\n",
       "      <td>0.71</td>\n",
       "      <td>NaN</td>\n",
       "      <td>NaN</td>\n",
       "      <td>NaN</td>\n",
       "    </tr>\n",
       "    <tr>\n",
       "      <th>13</th>\n",
       "      <td>Wii Fit</td>\n",
       "      <td>Wii</td>\n",
       "      <td>2007.0</td>\n",
       "      <td>Sports</td>\n",
       "      <td>8.92</td>\n",
       "      <td>8.03</td>\n",
       "      <td>3.60</td>\n",
       "      <td>2.15</td>\n",
       "      <td>80.0</td>\n",
       "      <td>7.7</td>\n",
       "      <td>E</td>\n",
       "    </tr>\n",
       "    <tr>\n",
       "      <th>14</th>\n",
       "      <td>Kinect Adventures!</td>\n",
       "      <td>X360</td>\n",
       "      <td>2010.0</td>\n",
       "      <td>Misc</td>\n",
       "      <td>15.00</td>\n",
       "      <td>4.89</td>\n",
       "      <td>0.24</td>\n",
       "      <td>1.69</td>\n",
       "      <td>61.0</td>\n",
       "      <td>6.3</td>\n",
       "      <td>E</td>\n",
       "    </tr>\n",
       "    <tr>\n",
       "      <th>15</th>\n",
       "      <td>Wii Fit Plus</td>\n",
       "      <td>Wii</td>\n",
       "      <td>2009.0</td>\n",
       "      <td>Sports</td>\n",
       "      <td>9.01</td>\n",
       "      <td>8.49</td>\n",
       "      <td>2.53</td>\n",
       "      <td>1.77</td>\n",
       "      <td>80.0</td>\n",
       "      <td>7.4</td>\n",
       "      <td>E</td>\n",
       "    </tr>\n",
       "    <tr>\n",
       "      <th>16</th>\n",
       "      <td>Grand Theft Auto V</td>\n",
       "      <td>PS3</td>\n",
       "      <td>2013.0</td>\n",
       "      <td>Action</td>\n",
       "      <td>7.02</td>\n",
       "      <td>9.09</td>\n",
       "      <td>0.98</td>\n",
       "      <td>3.96</td>\n",
       "      <td>97.0</td>\n",
       "      <td>8.2</td>\n",
       "      <td>M</td>\n",
       "    </tr>\n",
       "    <tr>\n",
       "      <th>17</th>\n",
       "      <td>Grand Theft Auto: San Andreas</td>\n",
       "      <td>PS2</td>\n",
       "      <td>2004.0</td>\n",
       "      <td>Action</td>\n",
       "      <td>9.43</td>\n",
       "      <td>0.40</td>\n",
       "      <td>0.41</td>\n",
       "      <td>10.57</td>\n",
       "      <td>95.0</td>\n",
       "      <td>9</td>\n",
       "      <td>M</td>\n",
       "    </tr>\n",
       "    <tr>\n",
       "      <th>18</th>\n",
       "      <td>Super Mario World</td>\n",
       "      <td>SNES</td>\n",
       "      <td>1990.0</td>\n",
       "      <td>Platform</td>\n",
       "      <td>12.78</td>\n",
       "      <td>3.75</td>\n",
       "      <td>3.54</td>\n",
       "      <td>0.55</td>\n",
       "      <td>NaN</td>\n",
       "      <td>NaN</td>\n",
       "      <td>NaN</td>\n",
       "    </tr>\n",
       "    <tr>\n",
       "      <th>19</th>\n",
       "      <td>Brain Age: Train Your Brain in Minutes a Day</td>\n",
       "      <td>DS</td>\n",
       "      <td>2005.0</td>\n",
       "      <td>Misc</td>\n",
       "      <td>4.74</td>\n",
       "      <td>9.20</td>\n",
       "      <td>4.16</td>\n",
       "      <td>2.04</td>\n",
       "      <td>77.0</td>\n",
       "      <td>7.9</td>\n",
       "      <td>E</td>\n",
       "    </tr>\n",
       "  </tbody>\n",
       "</table>\n",
       "</div>"
      ],
      "text/plain": [
       "                                            Name Platform  Year_of_Release  \\\n",
       "0                                     Wii Sports      Wii           2006.0   \n",
       "1                              Super Mario Bros.      NES           1985.0   \n",
       "2                                 Mario Kart Wii      Wii           2008.0   \n",
       "3                              Wii Sports Resort      Wii           2009.0   \n",
       "4                       Pokemon Red/Pokemon Blue       GB           1996.0   \n",
       "5                                         Tetris       GB           1989.0   \n",
       "6                          New Super Mario Bros.       DS           2006.0   \n",
       "7                                       Wii Play      Wii           2006.0   \n",
       "8                      New Super Mario Bros. Wii      Wii           2009.0   \n",
       "9                                      Duck Hunt      NES           1984.0   \n",
       "10                                    Nintendogs       DS           2005.0   \n",
       "11                                 Mario Kart DS       DS           2005.0   \n",
       "12                   Pokemon Gold/Pokemon Silver       GB           1999.0   \n",
       "13                                       Wii Fit      Wii           2007.0   \n",
       "14                            Kinect Adventures!     X360           2010.0   \n",
       "15                                  Wii Fit Plus      Wii           2009.0   \n",
       "16                            Grand Theft Auto V      PS3           2013.0   \n",
       "17                 Grand Theft Auto: San Andreas      PS2           2004.0   \n",
       "18                             Super Mario World     SNES           1990.0   \n",
       "19  Brain Age: Train Your Brain in Minutes a Day       DS           2005.0   \n",
       "\n",
       "           Genre  NA_sales  EU_sales  JP_sales  Other_sales  Critic_Score  \\\n",
       "0         Sports     41.36     28.96      3.77         8.45          76.0   \n",
       "1       Platform     29.08      3.58      6.81         0.77           NaN   \n",
       "2         Racing     15.68     12.76      3.79         3.29          82.0   \n",
       "3         Sports     15.61     10.93      3.28         2.95          80.0   \n",
       "4   Role-Playing     11.27      8.89     10.22         1.00           NaN   \n",
       "5         Puzzle     23.20      2.26      4.22         0.58           NaN   \n",
       "6       Platform     11.28      9.14      6.50         2.88          89.0   \n",
       "7           Misc     13.96      9.18      2.93         2.84          58.0   \n",
       "8       Platform     14.44      6.94      4.70         2.24          87.0   \n",
       "9        Shooter     26.93      0.63      0.28         0.47           NaN   \n",
       "10    Simulation      9.05     10.95      1.93         2.74           NaN   \n",
       "11        Racing      9.71      7.47      4.13         1.90          91.0   \n",
       "12  Role-Playing      9.00      6.18      7.20         0.71           NaN   \n",
       "13        Sports      8.92      8.03      3.60         2.15          80.0   \n",
       "14          Misc     15.00      4.89      0.24         1.69          61.0   \n",
       "15        Sports      9.01      8.49      2.53         1.77          80.0   \n",
       "16        Action      7.02      9.09      0.98         3.96          97.0   \n",
       "17        Action      9.43      0.40      0.41        10.57          95.0   \n",
       "18      Platform     12.78      3.75      3.54         0.55           NaN   \n",
       "19          Misc      4.74      9.20      4.16         2.04          77.0   \n",
       "\n",
       "   User_Score Rating  \n",
       "0           8      E  \n",
       "1         NaN    NaN  \n",
       "2         8.3      E  \n",
       "3           8      E  \n",
       "4         NaN    NaN  \n",
       "5         NaN    NaN  \n",
       "6         8.5      E  \n",
       "7         6.6      E  \n",
       "8         8.4      E  \n",
       "9         NaN    NaN  \n",
       "10        NaN    NaN  \n",
       "11        8.6      E  \n",
       "12        NaN    NaN  \n",
       "13        7.7      E  \n",
       "14        6.3      E  \n",
       "15        7.4      E  \n",
       "16        8.2      M  \n",
       "17          9      M  \n",
       "18        NaN    NaN  \n",
       "19        7.9      E  "
      ]
     },
     "execution_count": 2,
     "metadata": {},
     "output_type": "execute_result"
    }
   ],
   "source": [
    "#выведем первые 20 строчек таблицы на экран\n",
    "data.head(20)"
   ]
  },
  {
   "cell_type": "code",
   "execution_count": 3,
   "metadata": {},
   "outputs": [
    {
     "name": "stdout",
     "output_type": "stream",
     "text": [
      "<class 'pandas.core.frame.DataFrame'>\n",
      "RangeIndex: 16715 entries, 0 to 16714\n",
      "Data columns (total 11 columns):\n",
      " #   Column           Non-Null Count  Dtype  \n",
      "---  ------           --------------  -----  \n",
      " 0   Name             16713 non-null  object \n",
      " 1   Platform         16715 non-null  object \n",
      " 2   Year_of_Release  16446 non-null  float64\n",
      " 3   Genre            16713 non-null  object \n",
      " 4   NA_sales         16715 non-null  float64\n",
      " 5   EU_sales         16715 non-null  float64\n",
      " 6   JP_sales         16715 non-null  float64\n",
      " 7   Other_sales      16715 non-null  float64\n",
      " 8   Critic_Score     8137 non-null   float64\n",
      " 9   User_Score       10014 non-null  object \n",
      " 10  Rating           9949 non-null   object \n",
      "dtypes: float64(6), object(5)\n",
      "memory usage: 1.4+ MB\n"
     ]
    }
   ],
   "source": [
    "#выведем основную информацию о таблице с помощью метода info()\n",
    "data.info()"
   ]
  },
  {
   "cell_type": "markdown",
   "metadata": {},
   "source": [
    "Датафрейм имеет 11 столбцов и 16715 строк данных. "
   ]
  },
  {
   "cell_type": "code",
   "execution_count": 4,
   "metadata": {},
   "outputs": [
    {
     "data": {
      "text/plain": [
       "array([[<AxesSubplot:title={'center':'Year_of_Release'}>,\n",
       "        <AxesSubplot:title={'center':'NA_sales'}>],\n",
       "       [<AxesSubplot:title={'center':'EU_sales'}>,\n",
       "        <AxesSubplot:title={'center':'JP_sales'}>],\n",
       "       [<AxesSubplot:title={'center':'Other_sales'}>,\n",
       "        <AxesSubplot:title={'center':'Critic_Score'}>]], dtype=object)"
      ]
     },
     "execution_count": 4,
     "metadata": {},
     "output_type": "execute_result"
    },
    {
     "data": {
      "image/png": "[encoded data removed]",
      "text/plain": [
       "<Figure size 1080x1440 with 6 Axes>"
      ]
     },
     "metadata": {
      "needs_background": "light"
     },
     "output_type": "display_data"
    }
   ],
   "source": [
    "#построим общую гистограмму для всех столбцов таблицы\n",
    "data.hist(bins=40, figsize=(15, 20))"
   ]
  },
  {
   "cell_type": "markdown",
   "metadata": {},
   "source": [
    "### Предобработка данных\n",
    "#### Изменение названий столбцов"
   ]
  },
  {
   "cell_type": "code",
   "execution_count": 5,
   "metadata": {},
   "outputs": [
    {
     "data": {
      "text/html": [
       "<div>\n",
       "<style scoped>\n",
       "    .dataframe tbody tr th:only-of-type {\n",
       "        vertical-align: middle;\n",
       "    }\n",
       "\n",
       "    .dataframe tbody tr th {\n",
       "        vertical-align: top;\n",
       "    }\n",
       "\n",
       "    .dataframe thead th {\n",
       "        text-align: right;\n",
       "    }\n",
       "</style>\n",
       "<table border=\"1\" class=\"dataframe\">\n",
       "  <thead>\n",
       "    <tr style=\"text-align: right;\">\n",
       "      <th></th>\n",
       "      <th>name</th>\n",
       "      <th>platform</th>\n",
       "      <th>year_of_release</th>\n",
       "      <th>genre</th>\n",
       "      <th>na_sales</th>\n",
       "      <th>eu_sales</th>\n",
       "      <th>jp_sales</th>\n",
       "      <th>other_sales</th>\n",
       "      <th>critic_score</th>\n",
       "      <th>user_score</th>\n",
       "      <th>rating</th>\n",
       "    </tr>\n",
       "  </thead>\n",
       "  <tbody>\n",
       "    <tr>\n",
       "      <th>0</th>\n",
       "      <td>Wii Sports</td>\n",
       "      <td>Wii</td>\n",
       "      <td>2006.0</td>\n",
       "      <td>Sports</td>\n",
       "      <td>41.36</td>\n",
       "      <td>28.96</td>\n",
       "      <td>3.77</td>\n",
       "      <td>8.45</td>\n",
       "      <td>76.0</td>\n",
       "      <td>8</td>\n",
       "      <td>E</td>\n",
       "    </tr>\n",
       "    <tr>\n",
       "      <th>1</th>\n",
       "      <td>Super Mario Bros.</td>\n",
       "      <td>NES</td>\n",
       "      <td>1985.0</td>\n",
       "      <td>Platform</td>\n",
       "      <td>29.08</td>\n",
       "      <td>3.58</td>\n",
       "      <td>6.81</td>\n",
       "      <td>0.77</td>\n",
       "      <td>NaN</td>\n",
       "      <td>NaN</td>\n",
       "      <td>NaN</td>\n",
       "    </tr>\n",
       "    <tr>\n",
       "      <th>2</th>\n",
       "      <td>Mario Kart Wii</td>\n",
       "      <td>Wii</td>\n",
       "      <td>2008.0</td>\n",
       "      <td>Racing</td>\n",
       "      <td>15.68</td>\n",
       "      <td>12.76</td>\n",
       "      <td>3.79</td>\n",
       "      <td>3.29</td>\n",
       "      <td>82.0</td>\n",
       "      <td>8.3</td>\n",
       "      <td>E</td>\n",
       "    </tr>\n",
       "    <tr>\n",
       "      <th>3</th>\n",
       "      <td>Wii Sports Resort</td>\n",
       "      <td>Wii</td>\n",
       "      <td>2009.0</td>\n",
       "      <td>Sports</td>\n",
       "      <td>15.61</td>\n",
       "      <td>10.93</td>\n",
       "      <td>3.28</td>\n",
       "      <td>2.95</td>\n",
       "      <td>80.0</td>\n",
       "      <td>8</td>\n",
       "      <td>E</td>\n",
       "    </tr>\n",
       "    <tr>\n",
       "      <th>4</th>\n",
       "      <td>Pokemon Red/Pokemon Blue</td>\n",
       "      <td>GB</td>\n",
       "      <td>1996.0</td>\n",
       "      <td>Role-Playing</td>\n",
       "      <td>11.27</td>\n",
       "      <td>8.89</td>\n",
       "      <td>10.22</td>\n",
       "      <td>1.00</td>\n",
       "      <td>NaN</td>\n",
       "      <td>NaN</td>\n",
       "      <td>NaN</td>\n",
       "    </tr>\n",
       "    <tr>\n",
       "      <th>...</th>\n",
       "      <td>...</td>\n",
       "      <td>...</td>\n",
       "      <td>...</td>\n",
       "      <td>...</td>\n",
       "      <td>...</td>\n",
       "      <td>...</td>\n",
       "      <td>...</td>\n",
       "      <td>...</td>\n",
       "      <td>...</td>\n",
       "      <td>...</td>\n",
       "      <td>...</td>\n",
       "    </tr>\n",
       "    <tr>\n",
       "      <th>16710</th>\n",
       "      <td>Samurai Warriors: Sanada Maru</td>\n",
       "      <td>PS3</td>\n",
       "      <td>2016.0</td>\n",
       "      <td>Action</td>\n",
       "      <td>0.00</td>\n",
       "      <td>0.00</td>\n",
       "      <td>0.01</td>\n",
       "      <td>0.00</td>\n",
       "      <td>NaN</td>\n",
       "      <td>NaN</td>\n",
       "      <td>NaN</td>\n",
       "    </tr>\n",
       "    <tr>\n",
       "      <th>16711</th>\n",
       "      <td>LMA Manager 2007</td>\n",
       "      <td>X360</td>\n",
       "      <td>2006.0</td>\n",
       "      <td>Sports</td>\n",
       "      <td>0.00</td>\n",
       "      <td>0.01</td>\n",
       "      <td>0.00</td>\n",
       "      <td>0.00</td>\n",
       "      <td>NaN</td>\n",
       "      <td>NaN</td>\n",
       "      <td>NaN</td>\n",
       "    </tr>\n",
       "    <tr>\n",
       "      <th>16712</th>\n",
       "      <td>Haitaka no Psychedelica</td>\n",
       "      <td>PSV</td>\n",
       "      <td>2016.0</td>\n",
       "      <td>Adventure</td>\n",
       "      <td>0.00</td>\n",
       "      <td>0.00</td>\n",
       "      <td>0.01</td>\n",
       "      <td>0.00</td>\n",
       "      <td>NaN</td>\n",
       "      <td>NaN</td>\n",
       "      <td>NaN</td>\n",
       "    </tr>\n",
       "    <tr>\n",
       "      <th>16713</th>\n",
       "      <td>Spirits &amp; Spells</td>\n",
       "      <td>GBA</td>\n",
       "      <td>2003.0</td>\n",
       "      <td>Platform</td>\n",
       "      <td>0.01</td>\n",
       "      <td>0.00</td>\n",
       "      <td>0.00</td>\n",
       "      <td>0.00</td>\n",
       "      <td>NaN</td>\n",
       "      <td>NaN</td>\n",
       "      <td>NaN</td>\n",
       "    </tr>\n",
       "    <tr>\n",
       "      <th>16714</th>\n",
       "      <td>Winning Post 8 2016</td>\n",
       "      <td>PSV</td>\n",
       "      <td>2016.0</td>\n",
       "      <td>Simulation</td>\n",
       "      <td>0.00</td>\n",
       "      <td>0.00</td>\n",
       "      <td>0.01</td>\n",
       "      <td>0.00</td>\n",
       "      <td>NaN</td>\n",
       "      <td>NaN</td>\n",
       "      <td>NaN</td>\n",
       "    </tr>\n",
       "  </tbody>\n",
       "</table>\n",
       "<p>16715 rows × 11 columns</p>\n",
       "</div>"
      ],
      "text/plain": [
       "                                name platform  year_of_release         genre  \\\n",
       "0                         Wii Sports      Wii           2006.0        Sports   \n",
       "1                  Super Mario Bros.      NES           1985.0      Platform   \n",
       "2                     Mario Kart Wii      Wii           2008.0        Racing   \n",
       "3                  Wii Sports Resort      Wii           2009.0        Sports   \n",
       "4           Pokemon Red/Pokemon Blue       GB           1996.0  Role-Playing   \n",
       "...                              ...      ...              ...           ...   \n",
       "16710  Samurai Warriors: Sanada Maru      PS3           2016.0        Action   \n",
       "16711               LMA Manager 2007     X360           2006.0        Sports   \n",
       "16712        Haitaka no Psychedelica      PSV           2016.0     Adventure   \n",
       "16713               Spirits & Spells      GBA           2003.0      Platform   \n",
       "16714            Winning Post 8 2016      PSV           2016.0    Simulation   \n",
       "\n",
       "       na_sales  eu_sales  jp_sales  other_sales  critic_score user_score  \\\n",
       "0         41.36     28.96      3.77         8.45          76.0          8   \n",
       "1         29.08      3.58      6.81         0.77           NaN        NaN   \n",
       "2         15.68     12.76      3.79         3.29          82.0        8.3   \n",
       "3         15.61     10.93      3.28         2.95          80.0          8   \n",
       "4         11.27      8.89     10.22         1.00           NaN        NaN   \n",
       "...         ...       ...       ...          ...           ...        ...   \n",
       "16710      0.00      0.00      0.01         0.00           NaN        NaN   \n",
       "16711      0.00      0.01      0.00         0.00           NaN        NaN   \n",
       "16712      0.00      0.00      0.01         0.00           NaN        NaN   \n",
       "16713      0.01      0.00      0.00         0.00           NaN        NaN   \n",
       "16714      0.00      0.00      0.01         0.00           NaN        NaN   \n",
       "\n",
       "      rating  \n",
       "0          E  \n",
       "1        NaN  \n",
       "2          E  \n",
       "3          E  \n",
       "4        NaN  \n",
       "...      ...  \n",
       "16710    NaN  \n",
       "16711    NaN  \n",
       "16712    NaN  \n",
       "16713    NaN  \n",
       "16714    NaN  \n",
       "\n",
       "[16715 rows x 11 columns]"
      ]
     },
     "execution_count": 5,
     "metadata": {},
     "output_type": "execute_result"
    }
   ],
   "source": [
    "#приведем все столбцы к нижнему регистру\n",
    "data.columns = data.columns.str.lower()\n",
    "data"
   ]
  },
  {
   "cell_type": "markdown",
   "metadata": {},
   "source": [
    "#### Удаление пропусков"
   ]
  },
  {
   "cell_type": "code",
   "execution_count": 7,
   "metadata": {},
   "outputs": [
    {
     "data": {
      "text/plain": [
       "name                  2\n",
       "platform              0\n",
       "year_of_release     269\n",
       "genre                 2\n",
       "na_sales              0\n",
       "eu_sales              0\n",
       "jp_sales              0\n",
       "other_sales           0\n",
       "critic_score       8578\n",
       "user_score         6701\n",
       "rating             6766\n",
       "dtype: int64"
      ]
     },
     "execution_count": 7,
     "metadata": {},
     "output_type": "execute_result"
    }
   ],
   "source": [
    "#выведем количество пропущенных значений для каждого столбца\n",
    "data.isna().sum()"
   ]
  },
  {
   "cell_type": "code",
   "execution_count": 8,
   "metadata": {},
   "outputs": [
    {
     "data": {
      "text/plain": [
       "name                0.01\n",
       "platform            0.00\n",
       "year_of_release     1.61\n",
       "genre               0.01\n",
       "na_sales            0.00\n",
       "eu_sales            0.00\n",
       "jp_sales            0.00\n",
       "other_sales         0.00\n",
       "critic_score       51.32\n",
       "user_score         40.09\n",
       "rating             40.48\n",
       "dtype: float64"
      ]
     },
     "execution_count": 8,
     "metadata": {},
     "output_type": "execute_result"
    }
   ],
   "source": [
    "#найдем долю пропущенных значений для каждого столбца\n",
    "round(data.isna().sum() / len(data) * 100, 2)"
   ]
  },
  {
   "cell_type": "markdown",
   "metadata": {},
   "source": [
    "Не имеют пропуски следующие столбцы:\n",
    "- платформа,\n",
    "- продажи во всех странах."
   ]
  },
  {
   "cell_type": "code",
   "execution_count": 9,
   "metadata": {},
   "outputs": [
    {
     "data": {
      "text/plain": [
       "0"
      ]
     },
     "execution_count": 9,
     "metadata": {},
     "output_type": "execute_result"
    }
   ],
   "source": [
    "#поищем количество одинаковых строк\n",
    "data.duplicated().sum()"
   ]
  },
  {
   "cell_type": "markdown",
   "metadata": {},
   "source": [
    "Одинаковые строки в датафрейме отсутствуют.\\\n",
    "Столбцы название и жанр игры имеют по 2 пропуска или долю 0,01 %. Удаление пропущенных значений не повлияет на выборку в целом. "
   ]
  },
  {
   "cell_type": "code",
   "execution_count": 10,
   "metadata": {},
   "outputs": [],
   "source": [
    "data = data.dropna(subset=['name', 'genre']).reset_index()"
   ]
  },
  {
   "cell_type": "markdown",
   "metadata": {},
   "source": [
    "Изучим данные выборки из столбца **год выпуска** с помощью метода describe."
   ]
  },
  {
   "cell_type": "code",
   "execution_count": 11,
   "metadata": {},
   "outputs": [
    {
     "data": {
      "text/plain": [
       "count    16444.000000\n",
       "mean      2006.486256\n",
       "std          5.875525\n",
       "min       1980.000000\n",
       "25%       2003.000000\n",
       "50%       2007.000000\n",
       "75%       2010.000000\n",
       "max       2016.000000\n",
       "Name: year_of_release, dtype: float64"
      ]
     },
     "execution_count": 11,
     "metadata": {},
     "output_type": "execute_result"
    }
   ],
   "source": [
    "data['year_of_release'].describe()"
   ]
  },
  {
   "cell_type": "markdown",
   "metadata": {},
   "source": [
    "Среднее арифметическое и медиана выборки столбца **год выпуска** практически совпадают, это говорит о малой доле выбросов. Поэтому можно заполнить пропущенные значения средним арифметическим значением."
   ]
  },
  {
   "cell_type": "code",
   "execution_count": 12,
   "metadata": {},
   "outputs": [],
   "source": [
    "#Заполним пропуски в столбце год выпуска средним арифметическим значением\n",
    "data.loc[data['year_of_release'].isna(), 'year_of_release'] = data['year_of_release'].mean()"
   ]
  },
  {
   "cell_type": "markdown",
   "metadata": {},
   "source": [
    "В столбце **рейтинг от организации ESRB** доля пропущенных значений составляет 40,48 %. Заменим значения на unknown. "
   ]
  },
  {
   "cell_type": "code",
   "execution_count": 13,
   "metadata": {},
   "outputs": [
    {
     "data": {
      "text/plain": [
       "array(['E', 'unknown', 'M', 'T', 'E10+', 'K-A', 'AO', 'EC', 'RP'],\n",
       "      dtype=object)"
      ]
     },
     "execution_count": 13,
     "metadata": {},
     "output_type": "execute_result"
    }
   ],
   "source": [
    "data['rating'] = data['rating'].fillna('unknown')\n",
    "data['rating'].unique()"
   ]
  },
  {
   "cell_type": "code",
   "execution_count": 14,
   "metadata": {},
   "outputs": [
    {
     "data": {
      "text/html": [
       "<div>\n",
       "<style scoped>\n",
       "    .dataframe tbody tr th:only-of-type {\n",
       "        vertical-align: middle;\n",
       "    }\n",
       "\n",
       "    .dataframe tbody tr th {\n",
       "        vertical-align: top;\n",
       "    }\n",
       "\n",
       "    .dataframe thead th {\n",
       "        text-align: right;\n",
       "    }\n",
       "</style>\n",
       "<table border=\"1\" class=\"dataframe\">\n",
       "  <thead>\n",
       "    <tr style=\"text-align: right;\">\n",
       "      <th></th>\n",
       "      <th>index</th>\n",
       "      <th>name</th>\n",
       "      <th>platform</th>\n",
       "      <th>year_of_release</th>\n",
       "      <th>genre</th>\n",
       "      <th>na_sales</th>\n",
       "      <th>eu_sales</th>\n",
       "      <th>jp_sales</th>\n",
       "      <th>other_sales</th>\n",
       "      <th>critic_score</th>\n",
       "      <th>user_score</th>\n",
       "      <th>rating</th>\n",
       "    </tr>\n",
       "  </thead>\n",
       "  <tbody>\n",
       "    <tr>\n",
       "      <th>119</th>\n",
       "      <td>119</td>\n",
       "      <td>Zumba Fitness</td>\n",
       "      <td>Wii</td>\n",
       "      <td>2010.000000</td>\n",
       "      <td>Sports</td>\n",
       "      <td>3.45</td>\n",
       "      <td>2.59</td>\n",
       "      <td>0.0</td>\n",
       "      <td>0.66</td>\n",
       "      <td>NaN</td>\n",
       "      <td>tbd</td>\n",
       "      <td>E</td>\n",
       "    </tr>\n",
       "    <tr>\n",
       "      <th>301</th>\n",
       "      <td>301</td>\n",
       "      <td>Namco Museum: 50th Anniversary</td>\n",
       "      <td>PS2</td>\n",
       "      <td>2005.000000</td>\n",
       "      <td>Misc</td>\n",
       "      <td>2.08</td>\n",
       "      <td>1.35</td>\n",
       "      <td>0.0</td>\n",
       "      <td>0.54</td>\n",
       "      <td>61.0</td>\n",
       "      <td>tbd</td>\n",
       "      <td>E10+</td>\n",
       "    </tr>\n",
       "    <tr>\n",
       "      <th>520</th>\n",
       "      <td>520</td>\n",
       "      <td>Zumba Fitness 2</td>\n",
       "      <td>Wii</td>\n",
       "      <td>2011.000000</td>\n",
       "      <td>Sports</td>\n",
       "      <td>1.51</td>\n",
       "      <td>1.03</td>\n",
       "      <td>0.0</td>\n",
       "      <td>0.27</td>\n",
       "      <td>NaN</td>\n",
       "      <td>tbd</td>\n",
       "      <td>T</td>\n",
       "    </tr>\n",
       "    <tr>\n",
       "      <th>645</th>\n",
       "      <td>645</td>\n",
       "      <td>uDraw Studio</td>\n",
       "      <td>Wii</td>\n",
       "      <td>2010.000000</td>\n",
       "      <td>Misc</td>\n",
       "      <td>1.65</td>\n",
       "      <td>0.57</td>\n",
       "      <td>0.0</td>\n",
       "      <td>0.20</td>\n",
       "      <td>71.0</td>\n",
       "      <td>tbd</td>\n",
       "      <td>E</td>\n",
       "    </tr>\n",
       "    <tr>\n",
       "      <th>657</th>\n",
       "      <td>657</td>\n",
       "      <td>Frogger's Adventures: Temple of the Frog</td>\n",
       "      <td>GBA</td>\n",
       "      <td>2006.486256</td>\n",
       "      <td>Adventure</td>\n",
       "      <td>2.15</td>\n",
       "      <td>0.18</td>\n",
       "      <td>0.0</td>\n",
       "      <td>0.07</td>\n",
       "      <td>73.0</td>\n",
       "      <td>tbd</td>\n",
       "      <td>E</td>\n",
       "    </tr>\n",
       "  </tbody>\n",
       "</table>\n",
       "</div>"
      ],
      "text/plain": [
       "     index                                      name platform  \\\n",
       "119    119                             Zumba Fitness      Wii   \n",
       "301    301            Namco Museum: 50th Anniversary      PS2   \n",
       "520    520                           Zumba Fitness 2      Wii   \n",
       "645    645                              uDraw Studio      Wii   \n",
       "657    657  Frogger's Adventures: Temple of the Frog      GBA   \n",
       "\n",
       "     year_of_release      genre  na_sales  eu_sales  jp_sales  other_sales  \\\n",
       "119      2010.000000     Sports      3.45      2.59       0.0         0.66   \n",
       "301      2005.000000       Misc      2.08      1.35       0.0         0.54   \n",
       "520      2011.000000     Sports      1.51      1.03       0.0         0.27   \n",
       "645      2010.000000       Misc      1.65      0.57       0.0         0.20   \n",
       "657      2006.486256  Adventure      2.15      0.18       0.0         0.07   \n",
       "\n",
       "     critic_score user_score rating  \n",
       "119           NaN        tbd      E  \n",
       "301          61.0        tbd   E10+  \n",
       "520           NaN        tbd      T  \n",
       "645          71.0        tbd      E  \n",
       "657          73.0        tbd      E  "
      ]
     },
     "execution_count": 14,
     "metadata": {},
     "output_type": "execute_result"
    }
   ],
   "source": [
    "data.query('user_score == \"tbd\"').head()"
   ]
  },
  {
   "cell_type": "markdown",
   "metadata": {},
   "source": [
    "Аббревиатура 'tbd' в столбце с оценкой пользователей может означать To Be Determined, то есть \"Будет определено\". Видимо, рейтинг в процессе формирования, пока данной категории игр можно присвоить рейтинг 0. "
   ]
  },
  {
   "cell_type": "code",
   "execution_count": 15,
   "metadata": {},
   "outputs": [
    {
     "data": {
      "text/plain": [
       "array(['8', nan, '8.3', '8.5', '6.6', '8.4', '8.6', '7.7', '6.3', '7.4',\n",
       "       '8.2', '9', '7.9', '8.1', '8.7', '7.1', '3.4', '5.3', '4.8', '3.2',\n",
       "       '8.9', '6.4', '7.8', '7.5', '2.6', '7.2', '9.2', '7', '7.3', '4.3',\n",
       "       '7.6', '5.7', '5', '9.1', '6.5', 0, '8.8', '6.9', '9.4', '6.8',\n",
       "       '6.1', '6.7', '5.4', '4', '4.9', '4.5', '9.3', '6.2', '4.2', '6',\n",
       "       '3.7', '4.1', '5.8', '5.6', '5.5', '4.4', '4.6', '5.9', '3.9',\n",
       "       '3.1', '2.9', '5.2', '3.3', '4.7', '5.1', '3.5', '2.5', '1.9', '3',\n",
       "       '2.7', '2.2', '2', '9.5', '2.1', '3.6', '2.8', '1.8', '3.8', '0',\n",
       "       '1.6', '9.6', '2.4', '1.7', '1.1', '0.3', '1.5', '0.7', '1.2',\n",
       "       '2.3', '0.5', '1.3', '0.2', '0.6', '1.4', '0.9', '1', '9.7'],\n",
       "      dtype=object)"
      ]
     },
     "execution_count": 15,
     "metadata": {},
     "output_type": "execute_result"
    }
   ],
   "source": [
    "data.loc[data['user_score'] == 'tbd', 'user_score'] = 0\n",
    "data['user_score'].unique()"
   ]
  },
  {
   "cell_type": "markdown",
   "metadata": {},
   "source": [
    "Пропущенные значения в столбцах **оценка критиков** и **оценка пользователей** составляют 51 и 40 %, удалить эти значения нельзя из-за большой доли в данных, заполнить медианным значением не получится в связи с искажением общей оценки. Оставим эти значения незаполненными. "
   ]
  },
  {
   "cell_type": "markdown",
   "metadata": {},
   "source": [
    "#### Изменение типов данных"
   ]
  },
  {
   "cell_type": "code",
   "execution_count": 16,
   "metadata": {},
   "outputs": [],
   "source": [
    "#изменим тип данных в столбце год релиза на целочисленное число\n",
    "data['year_of_release'] = data['year_of_release'].astype(int)"
   ]
  },
  {
   "cell_type": "code",
   "execution_count": 17,
   "metadata": {},
   "outputs": [],
   "source": [
    "#изменим тип данных в столбце оценка пользователей на вещественное число\n",
    "data['user_score'] = data['user_score'].astype(float)"
   ]
  },
  {
   "cell_type": "markdown",
   "metadata": {},
   "source": [
    "Столбцы **название, жанр игры, рейтинг от организации ESRB** и **платформа** имеют тип данных object, столбцы содержат строки.\\\n",
    "Столбцы с **продажами** оставим вещественного типа, в них отображены данные в миллионах.\\\n",
    "В столбцах **оценка критиков** и **оценка пользователей** остались незаполненные значения NaN, тип данных может быть только вещественным числом."
   ]
  },
  {
   "cell_type": "markdown",
   "metadata": {},
   "source": [
    "#### Посчитайте и добавьте в таблицу столбец суммарные продажи во всех регионах"
   ]
  },
  {
   "cell_type": "code",
   "execution_count": 18,
   "metadata": {},
   "outputs": [],
   "source": [
    "#посчитаем суммарные продажи\n",
    "data['all_sales'] = data[['na_sales', 'eu_sales', 'jp_sales', 'other_sales']].sum(axis = 1)"
   ]
  },
  {
   "cell_type": "markdown",
   "metadata": {},
   "source": [
    "#### Причины пропусков "
   ]
  },
  {
   "cell_type": "markdown",
   "metadata": {},
   "source": [
    "\n",
    "При предобработке данных было выявлено 40-50 % пропусков значений в рейтингах игр. Это связано со многими факторами:\n",
    "    \n",
    "- При анализе **рейтинга от организации ESRB**, играм мог быть как не присвоен рейтинг (значение RP («Rating Pending») — «Рейтинг ожидается»), так и в Японии больше всего игр не оцененных по этому рейтингу (видимо, они применяют свой рейтинг – CERO).\n",
    "    \n",
    "- **Пользовательский рейтинг** так же имеет большую долю пропусков, в том числе встречается аббревиатура “tbd” (To Be Determined, то есть \"Будет определено\"). Возможно, похожая ситуация с рейтингом ESRB, когда у многих игр еще не определен рейтинг, поэтому информация не заполнена.\n",
    "\n",
    "- Самый большой пропуск в **рейтинге критиков**, 51 %. Возможно эти пропуски связаны с тем, что не все игры получают оценку от критиков.\n",
    "    \n",
    "Также были пропущены значения в столбце **год выпуска игры**. Видимо в датасет были неправильно заполнены данные, что привело к пропускам в значениях.\n"
   ]
  },
  {
   "cell_type": "code",
   "execution_count": 19,
   "metadata": {},
   "outputs": [
    {
     "data": {
      "text/html": [
       "<div>\n",
       "<style scoped>\n",
       "    .dataframe tbody tr th:only-of-type {\n",
       "        vertical-align: middle;\n",
       "    }\n",
       "\n",
       "    .dataframe tbody tr th {\n",
       "        vertical-align: top;\n",
       "    }\n",
       "\n",
       "    .dataframe thead th {\n",
       "        text-align: right;\n",
       "    }\n",
       "</style>\n",
       "<table border=\"1\" class=\"dataframe\">\n",
       "  <thead>\n",
       "    <tr style=\"text-align: right;\">\n",
       "      <th></th>\n",
       "      <th>critic_score</th>\n",
       "      <th>user_score</th>\n",
       "    </tr>\n",
       "  </thead>\n",
       "  <tbody>\n",
       "    <tr>\n",
       "      <th>critic_score</th>\n",
       "      <td>1.000000</td>\n",
       "      <td>0.787411</td>\n",
       "    </tr>\n",
       "    <tr>\n",
       "      <th>user_score</th>\n",
       "      <td>0.787411</td>\n",
       "      <td>1.000000</td>\n",
       "    </tr>\n",
       "  </tbody>\n",
       "</table>\n",
       "</div>"
      ],
      "text/plain": [
       "              critic_score  user_score\n",
       "critic_score      1.000000    0.787411\n",
       "user_score        0.787411    1.000000"
      ]
     },
     "execution_count": 19,
     "metadata": {},
     "output_type": "execute_result"
    }
   ],
   "source": [
    "#посчитаем зависисмость между наиболее пропущенными значениями\n",
    "data[['critic_score', 'user_score']].isna().corr()"
   ]
  },
  {
   "cell_type": "markdown",
   "metadata": {},
   "source": [
    "\n",
    "   \n",
    "Имеется сильная линейная зависимость между пропущенными значениями в столбцах пользовательский рейтинг и рейтинг критиков. "
   ]
  },
  {
   "cell_type": "markdown",
   "metadata": {},
   "source": [
    "### Проведите исследовательский анализ данных\n",
    "#### Количество игр в разные годы\n",
    "\n",
    "Составим столбчатый график, где отобразим зависимость выпуска игр с 1980 по 2016 годы."
   ]
  },
  {
   "cell_type": "code",
   "execution_count": 20,
   "metadata": {},
   "outputs": [
    {
     "data": {
      "image/png": "[encoded data removed]",
      "text/plain": [
       "<Figure size 720x504 with 1 Axes>"
      ]
     },
     "metadata": {
      "needs_background": "light"
     },
     "output_type": "display_data"
    }
   ],
   "source": [
    "data.groupby('year_of_release')['year_of_release'].count()\\\n",
    "    .plot(kind='bar', figsize=(10,7), grid=True)\n",
    "plt.title('Количество игр в разные годы')\n",
    "plt.xlabel('Годы')\n",
    "plt.ylabel('Количество игр')\n",
    "plt.show()"
   ]
  },
  {
   "cell_type": "code",
   "execution_count": 21,
   "metadata": {},
   "outputs": [
    {
     "data": {
      "text/plain": [
       "1.32"
      ]
     },
     "execution_count": 21,
     "metadata": {},
     "output_type": "execute_result"
    }
   ],
   "source": [
    "round(data.query('year_of_release < 1991')['year_of_release'].count() / data['year_of_release'].shape[0] * 100, 2)"
   ]
  },
  {
   "cell_type": "markdown",
   "metadata": {},
   "source": [
    "До 1991 года игровая индустрия выпускала достаточно мало игр, меньше 50 в год. Для составления прогноза на 2017 год достаточно будет данных за предшествующие 26 лет.\\\n",
    "Игры, выпущенные до 1991 года, составляют 1,32 % от всех игр. Их можно не учитывать для дальнейшего анализа.\\\n",
    "Больше всего игр было выпущено в 2006-2011 гг."
   ]
  },
  {
   "cell_type": "markdown",
   "metadata": {},
   "source": [
    "#### Продажи по платформам за актуальный период\n",
    "\n",
    "Найдем общие продажи игр на каждой платформе за все время, отобразив информацию на столбчатом графике."
   ]
  },
  {
   "cell_type": "code",
   "execution_count": 22,
   "metadata": {},
   "outputs": [],
   "source": [
    "#data.pivot_table(index='platform', values='all_sales', aggfunc=('sum', 'count'))\\\n",
    "#.sort_values('sum', ascending=False).head(10)"
   ]
  },
  {
   "cell_type": "code",
   "execution_count": 23,
   "metadata": {},
   "outputs": [
    {
     "data": {
      "image/png": "[encoded data removed]",
      "text/plain": [
       "<Figure size 720x504 with 1 Axes>"
      ]
     },
     "metadata": {
      "needs_background": "light"
     },
     "output_type": "display_data"
    }
   ],
   "source": [
    "data.groupby('platform')['all_sales'].sum().sort_values(ascending=False)\\\n",
    "    .plot(kind='bar', figsize=(10,7), grid=True)\n",
    "plt.title('Продажи по платформам')\n",
    "plt.xlabel('Платформы')\n",
    "plt.ylabel('Общие продажи')\n",
    "plt.show()"
   ]
  },
  {
   "cell_type": "markdown",
   "metadata": {},
   "source": [
    "Первые 6 платформ лидируют по суммарным продажам, сохраним их в отдельную переменную `top_platform`."
   ]
  },
  {
   "cell_type": "code",
   "execution_count": 24,
   "metadata": {},
   "outputs": [
    {
     "data": {
      "text/plain": [
       "0     PS2\n",
       "1    X360\n",
       "2     PS3\n",
       "3     Wii\n",
       "4      DS\n",
       "5      PS\n",
       "Name: platform, dtype: object"
      ]
     },
     "execution_count": 24,
     "metadata": {},
     "output_type": "execute_result"
    }
   ],
   "source": [
    "top_platform = data.groupby('platform')['all_sales']\\\n",
    "    .sum().sort_values(ascending=False).reset_index().head(6)['platform']\n",
    "top_platform"
   ]
  },
  {
   "cell_type": "markdown",
   "metadata": {},
   "source": [
    "Построим распределение по годам, отобразив 6 платформ на одном графике."
   ]
  },
  {
   "cell_type": "code",
   "execution_count": 25,
   "metadata": {},
   "outputs": [
    {
     "data": {
      "image/png": "[encoded data removed]",
      "text/plain": [
       "<Figure size 1440x720 with 1 Axes>"
      ]
     },
     "metadata": {
      "needs_background": "light"
     },
     "output_type": "display_data"
    }
   ],
   "source": [
    "(data.query('year_of_release > 1990 and platform in @top_platform')\\\n",
    "    .pivot_table(index='year_of_release', columns='platform', values='all_sales', aggfunc='sum')\n",
    ").plot(kind='bar', figsize=(20, 10))\n",
    "plt.title('Общее количество проданных копий игр для ТОП платформ', fontsize=20)\n",
    "plt.xlabel('Годы продаж', fontsize=15)\n",
    "plt.ylabel('Общее количество проданных копий, млн.шт', fontsize=15)\n",
    "plt.show()"
   ]
  },
  {
   "cell_type": "markdown",
   "metadata": {},
   "source": [
    "Можно выделить следующие характерные особенности:\\\n",
    "    1. средний цикл продаж игр на платформе составляет 10-12 лет;\\\n",
    "    2. платформа PS или Playstation выпускала игры на трех своих платформах:\\\n",
    "       - PS - в 1994-2006 гг.,\\\n",
    "       - PS2 - в 2000-2011 гг.,\\\n",
    "       - PS3 - в 2006-2016 гг.\\\n",
    "    Пик продаж игр на этих платформах был соответсвенно в 1998, 2004 и 2011 годах.\\\n",
    "    3. Лидерами по продажам стала платформа PS2, у нее максимальные общие продажи за все время существования платформ, и в 2004 году она продала больше всего млн. копий игр."
   ]
  },
  {
   "cell_type": "markdown",
   "metadata": {},
   "source": [
    "#### Выбор актуального периода для анализа\n",
    "Потенциально прибыльными платформами на период с 2005 по 2016 год можно выделить три платформы:\n",
    " - X360,\n",
    " - PS3,\n",
    " - Wii.\\\n",
    "Наиболее прибыльной из них является платформа X360, суммарные продажи у нее выше, чем у остальных.\\\n",
    "Однако платформа Wii в 2009 году продала больше всех млн. копий игр.\n",
    "\n",
    "Но на конец 2016 года продажи игр упали на всех перечисленных платформах. Также можно увидеть, что данные платформы уже действуют около 10 лет и скорее всего продажи на них в скором времени прекратятся.\n",
    "\n",
    "Следовательно, для прогнозирования на 2017 год необходимо рассматривать актуальные данные за последние 3 года. Если продажи игр на платформе только увеличиваются, то для прогноза прибыльности лучше рассматривать эти платформы. В среднем, платформы достигают пика продаж игр на 3-7 году существования. "
   ]
  },
  {
   "cell_type": "code",
   "execution_count": 26,
   "metadata": {},
   "outputs": [
    {
     "data": {
      "image/png": "[encoded data removed]",
      "text/plain": [
       "<Figure size 1440x720 with 1 Axes>"
      ]
     },
     "metadata": {
      "needs_background": "light"
     },
     "output_type": "display_data"
    }
   ],
   "source": [
    "(data.query('year_of_release > 2013')\\\n",
    "    .pivot_table(index='year_of_release', columns='platform', values='all_sales', aggfunc='sum')\n",
    ").plot(kind='bar', figsize=(20, 10))\n",
    "plt.title('Общее количество проданных копий игр для актуальных платформ', fontsize=20)\n",
    "plt.xlabel('Годы продаж', fontsize=15)\n",
    "plt.ylabel('Общее количество проданных копий, млн.шт', fontsize=15)\n",
    "plt.show()"
   ]
  },
  {
   "cell_type": "markdown",
   "metadata": {},
   "source": [
    "Потенциально прибыльными платформами являются платформы 3DS, PS4 и XOne.\\\n",
    "Рассмотрим также платформы X360, PS3 и построим по ним диаграммы размаха."
   ]
  },
  {
   "cell_type": "code",
   "execution_count": 27,
   "metadata": {},
   "outputs": [
    {
     "data": {
      "image/png": "[encoded data removed]",
      "text/plain": [
       "<Figure size 1080x720 with 1 Axes>"
      ]
     },
     "metadata": {
      "needs_background": "light"
     },
     "output_type": "display_data"
    }
   ],
   "source": [
    "platform_list = data.query(\"platform in ['PS3','X360','PS4','3DS','XOne']\")\n",
    "plt.figure(figsize=(15, 10))\n",
    "sns.boxplot(data=platform_list, x='platform', y='all_sales')\\\n",
    "    .set(title = 'Продажи по платформам', xlabel = 'Платформы', ylabel = 'Продажи игр, млн.шт')\n",
    "plt.show()"
   ]
  },
  {
   "cell_type": "code",
   "execution_count": 28,
   "metadata": {},
   "outputs": [
    {
     "data": {
      "image/png": "[encoded data removed]",
      "text/plain": [
       "<Figure size 1080x720 with 1 Axes>"
      ]
     },
     "metadata": {
      "needs_background": "light"
     },
     "output_type": "display_data"
    }
   ],
   "source": [
    "plt.figure(figsize=(15, 10))\n",
    "sns.boxplot(data=platform_list, x='platform', y='all_sales')\\\n",
    "    .set(ylim=(0, 2), title = 'Продажи по платформам без выбросов', xlabel = 'Платформы', ylabel = 'Продажи игр, млн.шт')\n",
    "plt.show()"
   ]
  },
  {
   "cell_type": "markdown",
   "metadata": {},
   "source": [
    "По пяти платформам можно проследить следующую закономерность:\n",
    " - основная доля продаж приходится на 0.1 - 0.75 млн. копий игр, на это указывает ящики Boxplot по платформам X360, PS3,  PS4,  и XOne;\n",
    " - продажи более 1,7 млн. копий (у платформы 3DS более 0,75 млн.копий) являются выбросами и сливаются в единую жирную линию: таких продаж очень много. И всё же значения, которые отсёк верхний «ус», — редкие.\n",
    " \n",
    "При прогнозировании на 2017 год максимальное внимание можно уделить платформам X360 и PS3, у них были самые высокие показатели выбросов продаж, свыше 20 млн. копий игр. Но хороший потенциал роста имеют платформы PS4, 3DS и XOne, они новые, только развивающиеся и еще не скоро уйдут с игрового рынка."
   ]
  },
  {
   "cell_type": "markdown",
   "metadata": {},
   "source": [
    "#### Влияние на продажи отзывов пользователей и критиков\n",
    "\n",
    "Рассмотрим влияние отзывов на продажи игр на **платформе PS4**."
   ]
  },
  {
   "cell_type": "code",
   "execution_count": 29,
   "metadata": {},
   "outputs": [
    {
     "data": {
      "text/html": [
       "<div>\n",
       "<style scoped>\n",
       "    .dataframe tbody tr th:only-of-type {\n",
       "        vertical-align: middle;\n",
       "    }\n",
       "\n",
       "    .dataframe tbody tr th {\n",
       "        vertical-align: top;\n",
       "    }\n",
       "\n",
       "    .dataframe thead th {\n",
       "        text-align: right;\n",
       "    }\n",
       "</style>\n",
       "<table border=\"1\" class=\"dataframe\">\n",
       "  <thead>\n",
       "    <tr style=\"text-align: right;\">\n",
       "      <th></th>\n",
       "      <th>critic_score</th>\n",
       "      <th>user_score</th>\n",
       "      <th>all_sales</th>\n",
       "    </tr>\n",
       "  </thead>\n",
       "  <tbody>\n",
       "    <tr>\n",
       "      <th>31</th>\n",
       "      <td>NaN</td>\n",
       "      <td>NaN</td>\n",
       "      <td>14.63</td>\n",
       "    </tr>\n",
       "    <tr>\n",
       "      <th>42</th>\n",
       "      <td>97.0</td>\n",
       "      <td>8.3</td>\n",
       "      <td>12.62</td>\n",
       "    </tr>\n",
       "    <tr>\n",
       "      <th>77</th>\n",
       "      <td>82.0</td>\n",
       "      <td>4.3</td>\n",
       "      <td>8.58</td>\n",
       "    </tr>\n",
       "    <tr>\n",
       "      <th>87</th>\n",
       "      <td>NaN</td>\n",
       "      <td>NaN</td>\n",
       "      <td>7.98</td>\n",
       "    </tr>\n",
       "    <tr>\n",
       "      <th>92</th>\n",
       "      <td>83.0</td>\n",
       "      <td>5.7</td>\n",
       "      <td>7.66</td>\n",
       "    </tr>\n",
       "  </tbody>\n",
       "</table>\n",
       "</div>"
      ],
      "text/plain": [
       "    critic_score  user_score  all_sales\n",
       "31           NaN         NaN      14.63\n",
       "42          97.0         8.3      12.62\n",
       "77          82.0         4.3       8.58\n",
       "87           NaN         NaN       7.98\n",
       "92          83.0         5.7       7.66"
      ]
     },
     "execution_count": 29,
     "metadata": {},
     "output_type": "execute_result"
    }
   ],
   "source": [
    "#сделаем срез по платформе PS4\n",
    "scatter_ps4 = data.query('year_of_release > 2013 and platform == \"PS4\"')[['critic_score', 'user_score', 'all_sales']]\n",
    "scatter_ps4.head()"
   ]
  },
  {
   "cell_type": "code",
   "execution_count": 30,
   "metadata": {},
   "outputs": [
    {
     "data": {
      "image/png": "[encoded data removed]",
      "text/plain": [
       "<Figure size 720x504 with 1 Axes>"
      ]
     },
     "metadata": {
      "needs_background": "light"
     },
     "output_type": "display_data"
    }
   ],
   "source": [
    "#с помощью графика рассеивания отобразим зависимость оценки критиков от общей суммы продаж\n",
    "scatter_ps4.plot.scatter(x='critic_score', y='all_sales', grid=True, figsize=(10,7))\n",
    "plt.title('Зависимость оценки критиков от общей суммы продаж')\n",
    "plt.xlabel('Оценка критиков')\n",
    "plt.ylabel('Суммарные продажи на платформа PS4')\n",
    "plt.show()"
   ]
  },
  {
   "cell_type": "code",
   "execution_count": 31,
   "metadata": {},
   "outputs": [
    {
     "data": {
      "image/png": "[encoded data removed]",
      "text/plain": [
       "<Figure size 720x504 with 1 Axes>"
      ]
     },
     "metadata": {
      "needs_background": "light"
     },
     "output_type": "display_data"
    }
   ],
   "source": [
    "#с помощью графика рассеивания отобразим зависимость оценки пользователей от общей суммы продаж\n",
    "scatter_ps4.plot.scatter(x='user_score', y='all_sales', grid=True, figsize=(10,7))\n",
    "plt.title('Зависимость оценки пользователей от общей суммы продаж')\n",
    "plt.xlabel('Оценка пользователей')\n",
    "plt.ylabel('Суммарные продажи на платформа PS4')\n",
    "plt.show()"
   ]
  },
  {
   "cell_type": "code",
   "execution_count": 32,
   "metadata": {},
   "outputs": [
    {
     "data": {
      "text/html": [
       "<div>\n",
       "<style scoped>\n",
       "    .dataframe tbody tr th:only-of-type {\n",
       "        vertical-align: middle;\n",
       "    }\n",
       "\n",
       "    .dataframe tbody tr th {\n",
       "        vertical-align: top;\n",
       "    }\n",
       "\n",
       "    .dataframe thead th {\n",
       "        text-align: right;\n",
       "    }\n",
       "</style>\n",
       "<table border=\"1\" class=\"dataframe\">\n",
       "  <thead>\n",
       "    <tr style=\"text-align: right;\">\n",
       "      <th></th>\n",
       "      <th>critic_score</th>\n",
       "      <th>user_score</th>\n",
       "      <th>all_sales</th>\n",
       "    </tr>\n",
       "  </thead>\n",
       "  <tbody>\n",
       "    <tr>\n",
       "      <th>critic_score</th>\n",
       "      <td>1.000000</td>\n",
       "      <td>0.504455</td>\n",
       "      <td>0.402661</td>\n",
       "    </tr>\n",
       "    <tr>\n",
       "      <th>user_score</th>\n",
       "      <td>0.504455</td>\n",
       "      <td>1.000000</td>\n",
       "      <td>0.018962</td>\n",
       "    </tr>\n",
       "    <tr>\n",
       "      <th>all_sales</th>\n",
       "      <td>0.402661</td>\n",
       "      <td>0.018962</td>\n",
       "      <td>1.000000</td>\n",
       "    </tr>\n",
       "  </tbody>\n",
       "</table>\n",
       "</div>"
      ],
      "text/plain": [
       "              critic_score  user_score  all_sales\n",
       "critic_score      1.000000    0.504455   0.402661\n",
       "user_score        0.504455    1.000000   0.018962\n",
       "all_sales         0.402661    0.018962   1.000000"
      ]
     },
     "execution_count": 32,
     "metadata": {},
     "output_type": "execute_result"
    }
   ],
   "source": [
    "#посчитаем матрицу корреляции\n",
    "scatter_ps4.corr() "
   ]
  },
  {
   "cell_type": "markdown",
   "metadata": {},
   "source": [
    "Рассматривая взаимосвязь оценки пользователей и критиков на суммарные продажи на **платформе PS4**, можно сделать следующий вывод:\n",
    "- между оценкой пользователей и суммарными продажами практически отсутствует зависисмость, корреляция равна 0,02;\n",
    "- кореляция между оценкой критиков и суммарными продажами равна 0,4, прослеживается небольшая зависимость.\n",
    "\n",
    "Необходимо изучить влияние оценок на другую платформу, рассмотрим **платформу X360**."
   ]
  },
  {
   "cell_type": "code",
   "execution_count": 33,
   "metadata": {},
   "outputs": [
    {
     "data": {
      "text/html": [
       "<div>\n",
       "<style scoped>\n",
       "    .dataframe tbody tr th:only-of-type {\n",
       "        vertical-align: middle;\n",
       "    }\n",
       "\n",
       "    .dataframe tbody tr th {\n",
       "        vertical-align: top;\n",
       "    }\n",
       "\n",
       "    .dataframe thead th {\n",
       "        text-align: right;\n",
       "    }\n",
       "</style>\n",
       "<table border=\"1\" class=\"dataframe\">\n",
       "  <thead>\n",
       "    <tr style=\"text-align: right;\">\n",
       "      <th></th>\n",
       "      <th>critic_score</th>\n",
       "      <th>user_score</th>\n",
       "      <th>all_sales</th>\n",
       "    </tr>\n",
       "  </thead>\n",
       "  <tbody>\n",
       "    <tr>\n",
       "      <th>critic_score</th>\n",
       "      <td>1.000000</td>\n",
       "      <td>0.625309</td>\n",
       "      <td>0.525723</td>\n",
       "    </tr>\n",
       "    <tr>\n",
       "      <th>user_score</th>\n",
       "      <td>0.625309</td>\n",
       "      <td>1.000000</td>\n",
       "      <td>0.019421</td>\n",
       "    </tr>\n",
       "    <tr>\n",
       "      <th>all_sales</th>\n",
       "      <td>0.525723</td>\n",
       "      <td>0.019421</td>\n",
       "      <td>1.000000</td>\n",
       "    </tr>\n",
       "  </tbody>\n",
       "</table>\n",
       "</div>"
      ],
      "text/plain": [
       "              critic_score  user_score  all_sales\n",
       "critic_score      1.000000    0.625309   0.525723\n",
       "user_score        0.625309    1.000000   0.019421\n",
       "all_sales         0.525723    0.019421   1.000000"
      ]
     },
     "execution_count": 33,
     "metadata": {},
     "output_type": "execute_result"
    }
   ],
   "source": [
    "#сделаем срез по платформе X360\n",
    "scatter_x360 = data.query('year_of_release > 2013 and platform == \"X360\"')[['critic_score', 'user_score', 'all_sales']]\n",
    "#посчитаем матрицу корреляции\n",
    "scatter_x360.corr() "
   ]
  },
  {
   "cell_type": "markdown",
   "metadata": {},
   "source": [
    "Взаимосвязь оценки пользователей и критиков на суммарные продажи на **платформе X360** совпали с **платформой PS4**:\n",
    "- между оценкой пользователей и суммарными продажами корреляция такая же маленькая, практически нулевая, и также равна 0,02;\n",
    "- кореляция между оценкой критиков и суммарными продажами больше, чем у платформы PS4, она равна 0,5, но также прослеживается небольшая зависимость."
   ]
  },
  {
   "cell_type": "markdown",
   "metadata": {},
   "source": [
    "#### Распределение игр по жанрам"
   ]
  },
  {
   "cell_type": "code",
   "execution_count": 34,
   "metadata": {},
   "outputs": [
    {
     "data": {
      "image/png": "[encoded data removed]",
      "text/plain": [
       "<Figure size 720x576 with 1 Axes>"
      ]
     },
     "metadata": {},
     "output_type": "display_data"
    }
   ],
   "source": [
    "data.groupby('genre')['all_sales'].median().sort_values(ascending=False)\\\n",
    "    .plot(kind='pie', figsize=(10, 8), autopct='%1.1f%%')\n",
    "plt.title('Распределение продаж игр по жанрам')\n",
    "plt.xlabel('Жанры игр')\n",
    "plt.ylabel('Продажи')\n",
    "plt.show()"
   ]
  },
  {
   "cell_type": "code",
   "execution_count": 35,
   "metadata": {},
   "outputs": [
    {
     "data": {
      "image/png": "[encoded data removed]",
      "text/plain": [
       "<Figure size 1080x720 with 1 Axes>"
      ]
     },
     "metadata": {
      "needs_background": "light"
     },
     "output_type": "display_data"
    }
   ],
   "source": [
    "plt.figure(figsize=(15, 10))\n",
    "sns.boxplot(data=data, x='genre', y='all_sales')\\\n",
    "    .set(ylim=(0, 1), title = 'Продажи по жанрам', xlabel = 'Жанры игр', ylabel = 'Продажи игр, млн.шт')\n",
    "plt.show()"
   ]
  },
  {
   "cell_type": "markdown",
   "metadata": {},
   "source": [
    "Самыми популярными продаваемыми жанрами игр являются:\n",
    " - жанр Platform (прыжки по платформам);\n",
    " - жанр Shooter (стрелялки);\n",
    " - жанр Sports (спортивные стимуляторы);\n",
    " - жанр Fighting (борьба).\n",
    "\n",
    "Самым непопулярным жанром является жанр Adventure (приключения)."
   ]
  },
  {
   "cell_type": "markdown",
   "metadata": {},
   "source": [
    "### Портрет пользователя каждого региона\n",
    "#### Топ-5 популярных платформ"
   ]
  },
  {
   "cell_type": "code",
   "execution_count": 36,
   "metadata": {},
   "outputs": [
    {
     "data": {
      "image/png": "[encoded data removed]",
      "text/plain": [
       "<Figure size 720x504 with 1 Axes>"
      ]
     },
     "metadata": {
      "needs_background": "light"
     },
     "output_type": "display_data"
    }
   ],
   "source": [
    "region_platform = data[data['year_of_release'] > 2013].groupby('platform')[['eu_sales', 'jp_sales', 'na_sales']]\\\n",
    "    .sum().sort_values(by='eu_sales', ascending=False).head().stack().reset_index()\n",
    "region_platform.columns = ['Топ-5 популярных платформ', 'Регион', 'Суммарные продажи']\n",
    "\n",
    "plt.figure(figsize=(10,7))\n",
    "sns.barplot(data=region_platform, x='Топ-5 популярных платформ', y='Суммарные продажи', hue='Регион')\n",
    "plt.show()"
   ]
  },
  {
   "cell_type": "markdown",
   "metadata": {},
   "source": [
    "C 2014 по 2016 годы самые продаваемые платформы по регионам были следующие:\\\n",
    "у Северной Америки и у Европы - PS4 и XOne, у Японии - 3DS."
   ]
  },
  {
   "cell_type": "markdown",
   "metadata": {},
   "source": [
    "#### Топ-5 популярных жанров"
   ]
  },
  {
   "cell_type": "code",
   "execution_count": 37,
   "metadata": {},
   "outputs": [
    {
     "data": {
      "image/png": "[encoded data removed]",
      "text/plain": [
       "<Figure size 720x504 with 1 Axes>"
      ]
     },
     "metadata": {
      "needs_background": "light"
     },
     "output_type": "display_data"
    }
   ],
   "source": [
    "region_genre = data[data['year_of_release'] > 2013].groupby('genre')[['eu_sales', 'jp_sales', 'na_sales']].sum()\\\n",
    "    .sort_values(by='na_sales', ascending=False).head().stack().reset_index()\n",
    "region_genre.columns = ['Топ-5 популярных жанров', 'Регион', 'Суммарные продажи']\n",
    "\n",
    "plt.figure(figsize=(10,7))\n",
    "sns.barplot(data=region_genre, x='Топ-5 популярных жанров', y='Суммарные продажи', hue='Регион')\n",
    "plt.show()"
   ]
  },
  {
   "cell_type": "markdown",
   "metadata": {},
   "source": [
    "C 2014 по 2016 годы самые популярные жанры по регионам были следующие:\\\n",
    "у Северной Америки - Shooter, у Европы - Action, у Японии - Role-Playing."
   ]
  },
  {
   "cell_type": "markdown",
   "metadata": {},
   "source": [
    "####  Зависимость рейтинга ESRB на продажи"
   ]
  },
  {
   "cell_type": "code",
   "execution_count": 38,
   "metadata": {},
   "outputs": [
    {
     "data": {
      "image/png": "[encoded data removed]",
      "text/plain": [
       "<Figure size 1080x360 with 3 Axes>"
      ]
     },
     "metadata": {},
     "output_type": "display_data"
    }
   ],
   "source": [
    "regions = ['na_sales', 'eu_sales', 'jp_sales']\n",
    "region_names = ['North America', 'Europe', 'Japan']\n",
    "fig, axs = plt.subplots(1, 3, figsize=(15, 5))\n",
    "fig.suptitle('Продажи по регионам в зависимости от рейтинга ESRB')\n",
    "for i in range(3):\n",
    "    data_region = (data[data['year_of_release'] > 2013].groupby('rating')[regions[i]].sum()\\\n",
    "            .reset_index()\\\n",
    "            .sort_values(regions[i], ascending = False, ignore_index = True))\n",
    "\n",
    "    axs[i].pie(data_region[regions[i]], labels = data_region['rating'])\n",
    "#Зададим название региона\n",
    "    axs[i].set_title(region_names[i])\n",
    "plt.show()"
   ]
  },
  {
   "cell_type": "markdown",
   "metadata": {},
   "source": [
    "У Северной Америки и у Европы совпадают продажи по регионам в зависимости от рейтинга ESRB:\n",
    " - M («Mature») — «Для взрослых»;\n",
    " - E («Everyone») — «Для всех»;\n",
    " - T («Teen») — «Подросткам».\\\n",
    "Большую долю занимает категория пропущеенных значений, которую мы определили как unknown.\n",
    "\n",
    "У Японии же основная доля продаж - категория unknown. Скорее всего в Японии не доверяют рейтингу ESRB и у них есть какой-либо свой рейтинг, например, CERO. "
   ]
  },
  {
   "cell_type": "markdown",
   "metadata": {},
   "source": [
    "### Проверка гипотез\n",
    "#### Гипотеза 1. \n",
    "\n",
    "Средние пользовательские рейтинги платформ Xbox One и PC одинаковые.\n",
    "\n",
    "```\n",
    "H_0: Среднее пользовательского рейтинга платформы Xbox One = среднему пользовательского рейтинга платформы PC`\n",
    "H_a: Среднее пользовательского рейтинга платформы Xbox One ≠ среднему пользовательского рейтинга платформы PC`\n",
    "alpha = 0.05\n",
    "```"
   ]
  },
  {
   "cell_type": "markdown",
   "metadata": {},
   "source": [
    "Для проверки гипотезы о равенстве среднего двух генеральных совокупностей по взятым из них выборкам применяется специальный метод:\n",
    "`scipy.stats.ttest_ind (array1, array2, equal_var)`"
   ]
  },
  {
   "cell_type": "code",
   "execution_count": 39,
   "metadata": {},
   "outputs": [
    {
     "name": "stdout",
     "output_type": "stream",
     "text": [
      "p-значение: 0.585620476179421\n",
      "Не получилось отвергнуть нулевую гипотезу\n"
     ]
    }
   ],
   "source": [
    "# results = вызов метода для проверки гипотезы\n",
    "results = st.ttest_ind(data.query('year_of_release > 2013 and platform == \"XOne\"')['user_score'].dropna(),\\\n",
    "                       data.query('year_of_release > 2013 and platform == \"PC\"')['user_score'].dropna(), equal_var=False)\n",
    "# alpha = задайте значение уровня значимости\n",
    "alpha = 0.05\n",
    "# вывод значения p-value на экран \n",
    "print('p-значение:', results.pvalue)\n",
    "# условный оператор с выводом строки с ответом\n",
    "if results.pvalue < alpha:\n",
    "    print('Отвергаем нулевую гипотезу')\n",
    "else:\n",
    "    print('Не получилось отвергнуть нулевую гипотезу') "
   ]
  },
  {
   "cell_type": "markdown",
   "metadata": {},
   "source": [
    "Среднее пользовательского рейтинга платформы Xbox One равно среднему пользовательского рейтинга платформы PC`."
   ]
  },
  {
   "cell_type": "markdown",
   "metadata": {},
   "source": [
    "#### Гипотеза 2. \n",
    "\n",
    "Средние пользовательские рейтинги жанров Action и Sports разные.\n",
    "\n",
    "```\n",
    "H_0: Среднее пользовательского рейтинга жанра Action = среднему пользовательского рейтинга жанра Sports`\n",
    "H_a: Среднее пользовательского рейтинга жанра Action ≠ среднему пользовательского рейтинга жанра Sports`\n",
    "alpha = 0.05\n",
    "```"
   ]
  },
  {
   "cell_type": "markdown",
   "metadata": {},
   "source": [
    "Применим тот же метод для проверки гипотезы о равенстве среднего двух генеральных совокупностей по взятым из них выборкам:\n",
    "`scipy.stats.ttest_ind (array1, array2, equal_var)`"
   ]
  },
  {
   "cell_type": "code",
   "execution_count": 40,
   "metadata": {},
   "outputs": [
    {
     "name": "stdout",
     "output_type": "stream",
     "text": [
      "p-значение: 3.966812188237664e-06\n",
      "Отвергаем нулевую гипотезу\n"
     ]
    }
   ],
   "source": [
    "# results = вызов метода для проверки гипотезы\n",
    "results = st.ttest_ind(data.query('year_of_release > 2013 and genre == \"Action\"')['user_score'].dropna(),\\\n",
    "                       data.query('year_of_release > 2013 and genre == \"Sports\"')['user_score'].dropna(), equal_var=False)\n",
    "# alpha = задайте значение уровня значимости\n",
    "alpha = 0.05\n",
    "# вывод значения p-value на экран \n",
    "print('p-значение:', results.pvalue)\n",
    "# условный оператор с выводом строки с ответом\n",
    "if results.pvalue < alpha:\n",
    "    print('Отвергаем нулевую гипотезу')\n",
    "else:\n",
    "    print('Не получилось отвергнуть нулевую гипотезу') "
   ]
  },
  {
   "cell_type": "markdown",
   "metadata": {},
   "source": [
    "Действительно, средние пользовательские рейтинги жанров Action и Sports разные."
   ]
  },
  {
   "cell_type": "markdown",
   "metadata": {},
   "source": [
    "\n",
    "   \n",
    "Так как обе генеральные совокупности большие, то придётся сравнивать их средние по выборкам из каждой совокупности. В этом случае точно не обойтись без статистического теста, а именно двухвыборочный t-критерий. \n",
    "\n",
    "Чтобы результаты двухвыборочного t-критерия были достоверными, должны выполняться следующие условия:\n",
    "\n",
    " - Наблюдения в одной выборке не должны зависеть от наблюдений в другой выборке.\n",
    " - Данные должны быть приблизительно нормально распределены.\n",
    " - Две выборки должны иметь примерно одинаковую дисперсию (если нет, то equal_var принимает значение False).\n",
    " - Данные в обеих выборках были получены методом случайной выборки .\n",
    "    \n"
   ]
  },
  {
   "cell_type": "markdown",
   "metadata": {},
   "source": [
    "### Общий вывод"
   ]
  },
  {
   "cell_type": "markdown",
   "metadata": {},
   "source": [
    "При исследовании игровой индустрии по данным с 1980 по 2016 годы для прогноза продаж на 2017 год было выявлено следующее.\n",
    " 1.\tПри предобработке данных было выявлено 40-50 % пропусков значений в рейтингах игр. Это связано со многими факторами:\\\n",
    "  1.1\tПри анализе рейтинга от организации ESRB, играм мог быть как не присвоен рейтинг (значение RP  («Rating Pending») — «Рейтинг ожидается»), так и в Японии больше всего игр не оцененных по этому рейтингу (видимо, они применяют свой рейтинг – CERO).\\\n",
    "  1.2\tПользовательский рейтинг так же имеет большую долю пропусков, в том числе встречается аббревиатура “tbd” (To Be Determined, то есть \"Будет определено\").\n",
    " 2.\tПри исследовании данных было выявлено следующее:\\\n",
    "  2.1. До 1991 года игровая индустрия выпускала достаточно мало игр, меньше 50 в год.\\\n",
    "  2.2. Больше всего игр было выпущено в 2006-2011 гг., этот период совпадает с бумом одновременного выхода большого количества игровых платформ на рынок (PlayStation 2 и 3, Xbox 360, Wii и DS от Nintendo). Также максимальные суммарные продажи миллион копий игр были именно по этим приставкам.\\\n",
    "  2.3. Каждая платформа имеет свой средний срок службы, а именно 10-12 лет.\\\n",
    "  2.4. Абсолютным лидером по продажам за все время стала платформа PS2, в 2004 году она продала больше всего млн. копий игр.\\\n",
    "  2.5. При прогнозировании на 2017 год максимальное внимание можно уделить платформам X360 и PS3, у них были самые высокие показатели выбросов продаж, свыше 20 млн. копий игр. Но хороший потенциал роста имеют платформы PS4, 3DS и XOne, они новые, только развивающиеся и еще не скоро уйдут с игрового рынка.\n",
    " 3. Влияние на продажи внешних факторов:\\\n",
    "  3.1. Оценка пользователей совершенно не влияет на продажи.\\\n",
    "  3.2. Оценка критиков имеет небольшое влияние на продажи.\n",
    " 4. Самыми популярными продаваемыми жанрами игр являются: жанр Platform, жанр Shooter, жанр Sports, жанр Fighting.\n",
    " 5. Портрет пользователя каждого региона:\\\n",
    "  5.1. Самые продаваемые платформы по регионам были следующие:\\\n",
    "у Северной Америки и у Европы - PS4 и XOne, у Японии - 3DS.\\\n",
    "  5.2. Cамые популярные жанры по регионам были следующие: у Северной Америки - Shooter, у Европы - Action, у Японии - Role-Playing.\\\n",
    "  5.3. У Северной Америки и у Европы совпадают продажи по регионам в зависимости от рейтинга ESRB: M («Mature»), E («Everyone»), T («Teen»).\n",
    " 6. Проверка гипотез:\\\n",
    "  6.1 Средние пользовательские рейтинги платформ Xbox One и PC одинаковые.\\\n",
    "  6.2. Средние пользовательские рейтинги жанров Action и Sports разные.\n"
   ]
  }
 ],
 "metadata": {
  "ExecuteTimeLog": [
   {
    "duration": 797,
    "start_time": "2023-02-27T14:13:35.186Z"
   },
   {
    "duration": 91,
    "start_time": "2023-02-27T14:14:05.768Z"
   },
   {
    "duration": 23,
    "start_time": "2023-02-27T14:14:19.404Z"
   },
   {
    "duration": 18,
    "start_time": "2023-02-27T14:16:43.491Z"
   },
   {
    "duration": 15,
    "start_time": "2023-02-27T14:16:54.547Z"
   },
   {
    "duration": 1297,
    "start_time": "2023-02-27T14:18:20.848Z"
   },
   {
    "duration": 832,
    "start_time": "2023-02-27T14:18:51.953Z"
   },
   {
    "duration": 964,
    "start_time": "2023-02-27T14:19:05.980Z"
   },
   {
    "duration": 3,
    "start_time": "2023-02-27T14:26:47.310Z"
   },
   {
    "duration": 21,
    "start_time": "2023-02-27T14:26:54.791Z"
   },
   {
    "duration": 17,
    "start_time": "2023-02-27T14:29:18.995Z"
   },
   {
    "duration": 3,
    "start_time": "2023-02-27T14:30:50.299Z"
   },
   {
    "duration": 8,
    "start_time": "2023-02-27T14:32:10.524Z"
   },
   {
    "duration": 12,
    "start_time": "2023-02-27T14:32:17.623Z"
   },
   {
    "duration": 19,
    "start_time": "2023-02-27T14:32:52.377Z"
   },
   {
    "duration": 460,
    "start_time": "2023-02-27T14:40:33.693Z"
   },
   {
    "duration": 33,
    "start_time": "2023-02-27T14:43:35.869Z"
   },
   {
    "duration": 47,
    "start_time": "2023-02-27T14:43:52.311Z"
   },
   {
    "duration": 24,
    "start_time": "2023-02-27T14:43:52.360Z"
   },
   {
    "duration": 26,
    "start_time": "2023-02-27T14:43:52.386Z"
   },
   {
    "duration": 1078,
    "start_time": "2023-02-27T14:43:52.414Z"
   },
   {
    "duration": 3,
    "start_time": "2023-02-27T14:43:53.494Z"
   },
   {
    "duration": 15,
    "start_time": "2023-02-27T14:43:53.499Z"
   },
   {
    "duration": 24,
    "start_time": "2023-02-27T14:43:53.515Z"
   },
   {
    "duration": 15,
    "start_time": "2023-02-27T14:43:53.540Z"
   },
   {
    "duration": 2,
    "start_time": "2023-02-27T14:43:53.557Z"
   },
   {
    "duration": 25,
    "start_time": "2023-02-27T14:43:53.561Z"
   },
   {
    "duration": 8,
    "start_time": "2023-02-27T14:43:53.588Z"
   },
   {
    "duration": 10,
    "start_time": "2023-02-27T14:46:28.758Z"
   },
   {
    "duration": 7,
    "start_time": "2023-02-27T14:47:17.254Z"
   },
   {
    "duration": 5,
    "start_time": "2023-02-27T14:47:50.232Z"
   },
   {
    "duration": 6,
    "start_time": "2023-02-27T14:52:40.000Z"
   },
   {
    "duration": 7,
    "start_time": "2023-02-27T14:52:47.824Z"
   },
   {
    "duration": 6,
    "start_time": "2023-02-27T14:53:10.356Z"
   },
   {
    "duration": 4,
    "start_time": "2023-02-27T14:57:36.973Z"
   },
   {
    "duration": 51,
    "start_time": "2023-02-27T14:58:55.248Z"
   },
   {
    "duration": 6,
    "start_time": "2023-02-27T14:59:24.164Z"
   },
   {
    "duration": 25,
    "start_time": "2023-02-27T14:59:46.810Z"
   },
   {
    "duration": 8,
    "start_time": "2023-02-27T15:00:34.051Z"
   },
   {
    "duration": 8,
    "start_time": "2023-02-27T15:01:05.289Z"
   },
   {
    "duration": 9,
    "start_time": "2023-02-27T15:05:31.180Z"
   },
   {
    "duration": 6,
    "start_time": "2023-02-27T15:05:38.300Z"
   },
   {
    "duration": 6,
    "start_time": "2023-02-27T15:16:36.531Z"
   },
   {
    "duration": 26,
    "start_time": "2023-02-27T15:16:53.151Z"
   },
   {
    "duration": 18,
    "start_time": "2023-02-27T15:18:17.606Z"
   },
   {
    "duration": 7,
    "start_time": "2023-02-27T15:18:48.050Z"
   },
   {
    "duration": 6,
    "start_time": "2023-02-27T15:19:28.728Z"
   },
   {
    "duration": 3,
    "start_time": "2023-02-27T15:20:36.809Z"
   },
   {
    "duration": 9,
    "start_time": "2023-02-27T15:20:55.505Z"
   },
   {
    "duration": 25,
    "start_time": "2023-02-27T15:21:06.360Z"
   },
   {
    "duration": 8,
    "start_time": "2023-02-27T15:21:16.749Z"
   },
   {
    "duration": 10,
    "start_time": "2023-02-27T15:21:57.430Z"
   },
   {
    "duration": 43,
    "start_time": "2023-02-27T15:23:54.812Z"
   },
   {
    "duration": 18,
    "start_time": "2023-02-27T15:23:54.857Z"
   },
   {
    "duration": 13,
    "start_time": "2023-02-27T15:23:54.877Z"
   },
   {
    "duration": 924,
    "start_time": "2023-02-27T15:23:54.893Z"
   },
   {
    "duration": 3,
    "start_time": "2023-02-27T15:23:55.819Z"
   },
   {
    "duration": 15,
    "start_time": "2023-02-27T15:23:55.823Z"
   },
   {
    "duration": 11,
    "start_time": "2023-02-27T15:23:55.840Z"
   },
   {
    "duration": 15,
    "start_time": "2023-02-27T15:23:55.852Z"
   },
   {
    "duration": 3,
    "start_time": "2023-02-27T15:23:55.868Z"
   },
   {
    "duration": 21,
    "start_time": "2023-02-27T15:23:55.873Z"
   },
   {
    "duration": 10,
    "start_time": "2023-02-27T15:23:55.895Z"
   },
   {
    "duration": 31,
    "start_time": "2023-02-27T15:23:55.906Z"
   },
   {
    "duration": 7,
    "start_time": "2023-02-27T15:23:55.939Z"
   },
   {
    "duration": 19,
    "start_time": "2023-02-27T15:23:55.947Z"
   },
   {
    "duration": 5,
    "start_time": "2023-02-27T15:23:55.968Z"
   },
   {
    "duration": 4,
    "start_time": "2023-02-27T15:23:55.974Z"
   },
   {
    "duration": 6,
    "start_time": "2023-02-27T15:23:55.979Z"
   },
   {
    "duration": 7,
    "start_time": "2023-02-27T15:40:34.375Z"
   },
   {
    "duration": 120,
    "start_time": "2023-02-27T15:41:09.109Z"
   },
   {
    "duration": 126,
    "start_time": "2023-02-27T15:41:47.207Z"
   },
   {
    "duration": 152,
    "start_time": "2023-02-27T15:41:51.243Z"
   },
   {
    "duration": 1432,
    "start_time": "2023-02-28T13:32:18.722Z"
   },
   {
    "duration": 25,
    "start_time": "2023-02-28T13:32:20.156Z"
   },
   {
    "duration": 14,
    "start_time": "2023-02-28T13:32:20.182Z"
   },
   {
    "duration": 951,
    "start_time": "2023-02-28T13:32:20.198Z"
   },
   {
    "duration": 4,
    "start_time": "2023-02-28T13:32:21.150Z"
   },
   {
    "duration": 24,
    "start_time": "2023-02-28T13:32:21.155Z"
   },
   {
    "duration": 26,
    "start_time": "2023-02-28T13:32:21.180Z"
   },
   {
    "duration": 24,
    "start_time": "2023-02-28T13:32:21.207Z"
   },
   {
    "duration": 10,
    "start_time": "2023-02-28T13:32:21.232Z"
   },
   {
    "duration": 37,
    "start_time": "2023-02-28T13:32:21.244Z"
   },
   {
    "duration": 25,
    "start_time": "2023-02-28T13:32:21.282Z"
   },
   {
    "duration": 8,
    "start_time": "2023-02-28T13:32:21.309Z"
   },
   {
    "duration": 8,
    "start_time": "2023-02-28T13:32:21.319Z"
   },
   {
    "duration": 19,
    "start_time": "2023-02-28T13:32:21.329Z"
   },
   {
    "duration": 9,
    "start_time": "2023-02-28T13:32:21.350Z"
   },
   {
    "duration": 7,
    "start_time": "2023-02-28T13:32:21.361Z"
   },
   {
    "duration": 7,
    "start_time": "2023-02-28T13:32:21.369Z"
   },
   {
    "duration": 12,
    "start_time": "2023-02-28T13:32:21.377Z"
   },
   {
    "duration": 171,
    "start_time": "2023-02-28T13:32:21.391Z"
   },
   {
    "duration": 112,
    "start_time": "2023-02-28T13:34:13.335Z"
   },
   {
    "duration": 27,
    "start_time": "2023-02-28T13:35:47.579Z"
   },
   {
    "duration": 21,
    "start_time": "2023-02-28T13:36:02.315Z"
   },
   {
    "duration": 16,
    "start_time": "2023-02-28T13:36:24.689Z"
   },
   {
    "duration": 31,
    "start_time": "2023-02-28T13:37:47.971Z"
   },
   {
    "duration": 11,
    "start_time": "2023-02-28T13:37:59.661Z"
   },
   {
    "duration": 23,
    "start_time": "2023-02-28T13:38:02.635Z"
   },
   {
    "duration": 8,
    "start_time": "2023-02-28T13:39:15.713Z"
   },
   {
    "duration": 9,
    "start_time": "2023-02-28T13:39:21.025Z"
   },
   {
    "duration": 10,
    "start_time": "2023-02-28T13:40:25.481Z"
   },
   {
    "duration": 14,
    "start_time": "2023-02-28T13:41:19.146Z"
   },
   {
    "duration": 4,
    "start_time": "2023-02-28T13:42:05.443Z"
   },
   {
    "duration": 12,
    "start_time": "2023-02-28T13:42:08.282Z"
   },
   {
    "duration": 4,
    "start_time": "2023-02-28T13:53:45.597Z"
   },
   {
    "duration": 10,
    "start_time": "2023-02-28T13:55:32.110Z"
   },
   {
    "duration": 341,
    "start_time": "2023-02-28T14:17:19.867Z"
   },
   {
    "duration": 10,
    "start_time": "2023-02-28T14:18:16.995Z"
   },
   {
    "duration": 0,
    "start_time": "2023-02-28T14:25:49.349Z"
   },
   {
    "duration": 0,
    "start_time": "2023-02-28T14:25:49.351Z"
   },
   {
    "duration": 0,
    "start_time": "2023-02-28T14:25:49.353Z"
   },
   {
    "duration": 0,
    "start_time": "2023-02-28T14:25:49.355Z"
   },
   {
    "duration": 0,
    "start_time": "2023-02-28T14:25:49.357Z"
   },
   {
    "duration": 0,
    "start_time": "2023-02-28T14:25:49.359Z"
   },
   {
    "duration": 0,
    "start_time": "2023-02-28T14:25:49.361Z"
   },
   {
    "duration": 0,
    "start_time": "2023-02-28T14:25:49.363Z"
   },
   {
    "duration": 0,
    "start_time": "2023-02-28T14:25:49.365Z"
   },
   {
    "duration": 0,
    "start_time": "2023-02-28T14:25:49.367Z"
   },
   {
    "duration": 0,
    "start_time": "2023-02-28T14:25:49.369Z"
   },
   {
    "duration": 1,
    "start_time": "2023-02-28T14:25:49.371Z"
   },
   {
    "duration": 0,
    "start_time": "2023-02-28T14:25:49.374Z"
   },
   {
    "duration": 0,
    "start_time": "2023-02-28T14:25:49.376Z"
   },
   {
    "duration": 0,
    "start_time": "2023-02-28T14:25:49.378Z"
   },
   {
    "duration": 0,
    "start_time": "2023-02-28T14:25:49.380Z"
   },
   {
    "duration": 0,
    "start_time": "2023-02-28T14:25:49.382Z"
   },
   {
    "duration": 0,
    "start_time": "2023-02-28T14:25:49.384Z"
   },
   {
    "duration": 48,
    "start_time": "2023-02-28T14:25:51.867Z"
   },
   {
    "duration": 51,
    "start_time": "2023-02-28T14:25:55.640Z"
   },
   {
    "duration": 23,
    "start_time": "2023-02-28T14:25:55.693Z"
   },
   {
    "duration": 17,
    "start_time": "2023-02-28T14:25:55.717Z"
   },
   {
    "duration": 1023,
    "start_time": "2023-02-28T14:25:55.737Z"
   },
   {
    "duration": 4,
    "start_time": "2023-02-28T14:25:56.762Z"
   },
   {
    "duration": 14,
    "start_time": "2023-02-28T14:25:56.767Z"
   },
   {
    "duration": 10,
    "start_time": "2023-02-28T14:25:56.783Z"
   },
   {
    "duration": 15,
    "start_time": "2023-02-28T14:25:56.794Z"
   },
   {
    "duration": 8,
    "start_time": "2023-02-28T14:25:56.811Z"
   },
   {
    "duration": 34,
    "start_time": "2023-02-28T14:25:56.821Z"
   },
   {
    "duration": 4,
    "start_time": "2023-02-28T14:25:56.856Z"
   },
   {
    "duration": 9,
    "start_time": "2023-02-28T14:25:56.861Z"
   },
   {
    "duration": 21,
    "start_time": "2023-02-28T14:25:56.871Z"
   },
   {
    "duration": 6,
    "start_time": "2023-02-28T14:25:56.894Z"
   },
   {
    "duration": 8,
    "start_time": "2023-02-28T14:25:56.902Z"
   },
   {
    "duration": 36,
    "start_time": "2023-02-28T14:25:56.912Z"
   },
   {
    "duration": 6,
    "start_time": "2023-02-28T14:25:56.950Z"
   },
   {
    "duration": 338,
    "start_time": "2023-02-28T14:25:56.957Z"
   },
   {
    "duration": 20,
    "start_time": "2023-02-28T14:32:46.074Z"
   },
   {
    "duration": 12,
    "start_time": "2023-02-28T15:10:52.830Z"
   },
   {
    "duration": 7,
    "start_time": "2023-02-28T15:11:39.666Z"
   },
   {
    "duration": 68,
    "start_time": "2023-02-28T15:12:52.354Z"
   },
   {
    "duration": 52,
    "start_time": "2023-02-28T15:13:33.037Z"
   },
   {
    "duration": 57,
    "start_time": "2023-02-28T15:13:40.065Z"
   },
   {
    "duration": 46,
    "start_time": "2023-02-28T15:13:46.770Z"
   },
   {
    "duration": 50,
    "start_time": "2023-02-28T15:13:51.545Z"
   },
   {
    "duration": 11,
    "start_time": "2023-02-28T15:14:00.639Z"
   },
   {
    "duration": 9,
    "start_time": "2023-02-28T15:14:21.443Z"
   },
   {
    "duration": 8,
    "start_time": "2023-02-28T15:14:53.066Z"
   },
   {
    "duration": 5,
    "start_time": "2023-02-28T15:15:02.362Z"
   },
   {
    "duration": 8,
    "start_time": "2023-02-28T15:16:01.625Z"
   },
   {
    "duration": 8,
    "start_time": "2023-02-28T15:16:18.419Z"
   },
   {
    "duration": 36,
    "start_time": "2023-02-28T15:50:07.840Z"
   },
   {
    "duration": 5,
    "start_time": "2023-02-28T15:50:18.420Z"
   },
   {
    "duration": 24,
    "start_time": "2023-02-28T15:50:26.475Z"
   },
   {
    "duration": 22,
    "start_time": "2023-02-28T15:50:45.716Z"
   },
   {
    "duration": 26,
    "start_time": "2023-02-28T15:51:09.853Z"
   },
   {
    "duration": 24,
    "start_time": "2023-02-28T15:51:21.061Z"
   },
   {
    "duration": 25,
    "start_time": "2023-02-28T15:52:02.201Z"
   },
   {
    "duration": 22,
    "start_time": "2023-02-28T15:52:12.380Z"
   },
   {
    "duration": 29,
    "start_time": "2023-02-28T15:53:34.701Z"
   },
   {
    "duration": 30,
    "start_time": "2023-02-28T15:54:14.500Z"
   },
   {
    "duration": 27,
    "start_time": "2023-02-28T15:54:30.518Z"
   },
   {
    "duration": 36,
    "start_time": "2023-02-28T15:55:17.440Z"
   },
   {
    "duration": 20,
    "start_time": "2023-02-28T15:55:34.565Z"
   },
   {
    "duration": 17,
    "start_time": "2023-02-28T15:55:50.702Z"
   },
   {
    "duration": 21,
    "start_time": "2023-02-28T15:56:07.199Z"
   },
   {
    "duration": 21,
    "start_time": "2023-02-28T15:56:20.242Z"
   },
   {
    "duration": 55,
    "start_time": "2023-02-28T15:57:02.413Z"
   },
   {
    "duration": 60,
    "start_time": "2023-02-28T15:57:32.721Z"
   },
   {
    "duration": 16,
    "start_time": "2023-02-28T15:58:00.386Z"
   },
   {
    "duration": 16,
    "start_time": "2023-02-28T15:58:16.559Z"
   },
   {
    "duration": 19,
    "start_time": "2023-02-28T15:58:25.381Z"
   },
   {
    "duration": 18,
    "start_time": "2023-02-28T15:58:35.897Z"
   },
   {
    "duration": 14,
    "start_time": "2023-02-28T15:58:46.966Z"
   },
   {
    "duration": 58,
    "start_time": "2023-02-28T15:59:32.602Z"
   },
   {
    "duration": 51,
    "start_time": "2023-02-28T15:59:36.723Z"
   },
   {
    "duration": 20,
    "start_time": "2023-02-28T15:59:44.152Z"
   },
   {
    "duration": 268,
    "start_time": "2023-02-28T16:04:26.645Z"
   },
   {
    "duration": 263,
    "start_time": "2023-02-28T16:05:47.401Z"
   },
   {
    "duration": 274,
    "start_time": "2023-02-28T16:06:04.053Z"
   },
   {
    "duration": 312,
    "start_time": "2023-02-28T16:07:13.203Z"
   },
   {
    "duration": 1193,
    "start_time": "2023-02-28T16:07:47.892Z"
   },
   {
    "duration": 561,
    "start_time": "2023-02-28T16:09:01.282Z"
   },
   {
    "duration": 36,
    "start_time": "2023-02-28T16:09:21.835Z"
   },
   {
    "duration": 1188,
    "start_time": "2023-02-28T16:10:11.970Z"
   },
   {
    "duration": 702,
    "start_time": "2023-02-28T16:10:35.128Z"
   },
   {
    "duration": 1233,
    "start_time": "2023-02-28T16:10:44.384Z"
   },
   {
    "duration": 24,
    "start_time": "2023-02-28T16:12:45.858Z"
   },
   {
    "duration": 8,
    "start_time": "2023-02-28T16:13:40.586Z"
   },
   {
    "duration": 198,
    "start_time": "2023-02-28T16:13:59.036Z"
   },
   {
    "duration": 30,
    "start_time": "2023-02-28T16:14:17.326Z"
   },
   {
    "duration": 245,
    "start_time": "2023-02-28T16:14:44.923Z"
   },
   {
    "duration": 221,
    "start_time": "2023-02-28T16:15:50.520Z"
   },
   {
    "duration": 235,
    "start_time": "2023-02-28T16:16:14.321Z"
   },
   {
    "duration": 208,
    "start_time": "2023-02-28T16:18:28.435Z"
   },
   {
    "duration": 197,
    "start_time": "2023-02-28T16:19:49.951Z"
   },
   {
    "duration": 212,
    "start_time": "2023-02-28T16:20:02.799Z"
   },
   {
    "duration": 199,
    "start_time": "2023-02-28T16:20:39.301Z"
   },
   {
    "duration": 207,
    "start_time": "2023-02-28T16:24:58.358Z"
   },
   {
    "duration": 200,
    "start_time": "2023-02-28T16:25:43.887Z"
   },
   {
    "duration": 3,
    "start_time": "2023-02-28T16:27:44.863Z"
   },
   {
    "duration": 4,
    "start_time": "2023-02-28T16:30:34.004Z"
   },
   {
    "duration": 4,
    "start_time": "2023-02-28T16:31:20.736Z"
   },
   {
    "duration": 28,
    "start_time": "2023-02-28T16:32:16.478Z"
   },
   {
    "duration": 33,
    "start_time": "2023-02-28T16:33:39.274Z"
   },
   {
    "duration": 1505,
    "start_time": "2023-02-28T16:33:57.667Z"
   },
   {
    "duration": 21,
    "start_time": "2023-02-28T16:34:47.172Z"
   },
   {
    "duration": 39,
    "start_time": "2023-02-28T16:35:41.824Z"
   },
   {
    "duration": 32,
    "start_time": "2023-02-28T16:36:05.721Z"
   },
   {
    "duration": 31,
    "start_time": "2023-02-28T16:37:57.966Z"
   },
   {
    "duration": 27,
    "start_time": "2023-02-28T16:38:15.411Z"
   },
   {
    "duration": 33,
    "start_time": "2023-02-28T16:38:40.357Z"
   },
   {
    "duration": 1549,
    "start_time": "2023-03-01T12:54:00.295Z"
   },
   {
    "duration": 26,
    "start_time": "2023-03-01T12:54:01.846Z"
   },
   {
    "duration": 116,
    "start_time": "2023-03-01T12:54:01.874Z"
   },
   {
    "duration": 1222,
    "start_time": "2023-03-01T12:54:01.993Z"
   },
   {
    "duration": 7,
    "start_time": "2023-03-01T12:54:03.217Z"
   },
   {
    "duration": 17,
    "start_time": "2023-03-01T12:54:03.226Z"
   },
   {
    "duration": 19,
    "start_time": "2023-03-01T12:54:03.244Z"
   },
   {
    "duration": 15,
    "start_time": "2023-03-01T12:54:03.265Z"
   },
   {
    "duration": 9,
    "start_time": "2023-03-01T12:54:03.282Z"
   },
   {
    "duration": 16,
    "start_time": "2023-03-01T12:54:03.306Z"
   },
   {
    "duration": 17,
    "start_time": "2023-03-01T12:54:03.324Z"
   },
   {
    "duration": 23,
    "start_time": "2023-03-01T12:54:03.342Z"
   },
   {
    "duration": 32,
    "start_time": "2023-03-01T12:54:03.367Z"
   },
   {
    "duration": 9,
    "start_time": "2023-03-01T12:54:03.400Z"
   },
   {
    "duration": 31,
    "start_time": "2023-03-01T12:54:03.411Z"
   },
   {
    "duration": 35,
    "start_time": "2023-03-01T12:54:03.444Z"
   },
   {
    "duration": 47,
    "start_time": "2023-03-01T12:54:03.481Z"
   },
   {
    "duration": 412,
    "start_time": "2023-03-01T12:54:03.530Z"
   },
   {
    "duration": 10,
    "start_time": "2023-03-01T12:54:03.944Z"
   },
   {
    "duration": 23,
    "start_time": "2023-03-01T12:54:03.955Z"
   },
   {
    "duration": 178,
    "start_time": "2023-03-01T12:54:03.980Z"
   },
   {
    "duration": 0,
    "start_time": "2023-03-01T12:54:04.161Z"
   },
   {
    "duration": 0,
    "start_time": "2023-03-01T12:54:04.163Z"
   },
   {
    "duration": 4,
    "start_time": "2023-03-01T12:55:52.799Z"
   },
   {
    "duration": 89,
    "start_time": "2023-03-01T12:56:12.236Z"
   },
   {
    "duration": 50,
    "start_time": "2023-03-01T12:56:19.785Z"
   },
   {
    "duration": 29,
    "start_time": "2023-03-01T12:56:41.355Z"
   },
   {
    "duration": 18,
    "start_time": "2023-03-01T12:56:54.848Z"
   },
   {
    "duration": 28,
    "start_time": "2023-03-01T12:56:59.732Z"
   },
   {
    "duration": 35,
    "start_time": "2023-03-01T12:57:16.658Z"
   },
   {
    "duration": 81,
    "start_time": "2023-03-01T12:57:51.382Z"
   },
   {
    "duration": 120,
    "start_time": "2023-03-01T12:58:24.426Z"
   },
   {
    "duration": 85,
    "start_time": "2023-03-01T12:59:07.737Z"
   },
   {
    "duration": 81,
    "start_time": "2023-03-01T12:59:14.735Z"
   },
   {
    "duration": 25,
    "start_time": "2023-03-01T12:59:38.555Z"
   },
   {
    "duration": 29,
    "start_time": "2023-03-01T12:59:52.427Z"
   },
   {
    "duration": 1538,
    "start_time": "2023-03-01T13:00:01.106Z"
   },
   {
    "duration": 1297,
    "start_time": "2023-03-01T13:00:13.271Z"
   },
   {
    "duration": 26,
    "start_time": "2023-03-01T13:00:36.800Z"
   },
   {
    "duration": 26,
    "start_time": "2023-03-01T13:00:49.000Z"
   },
   {
    "duration": 15,
    "start_time": "2023-03-01T13:01:21.516Z"
   },
   {
    "duration": 22,
    "start_time": "2023-03-01T13:01:47.279Z"
   },
   {
    "duration": 10,
    "start_time": "2023-03-01T13:14:48.217Z"
   },
   {
    "duration": 222,
    "start_time": "2023-03-01T13:22:42.383Z"
   },
   {
    "duration": 518,
    "start_time": "2023-03-01T13:23:56.079Z"
   },
   {
    "duration": 34,
    "start_time": "2023-03-01T13:24:02.080Z"
   },
   {
    "duration": 510,
    "start_time": "2023-03-01T13:24:20.903Z"
   },
   {
    "duration": 693,
    "start_time": "2023-03-01T13:25:24.659Z"
   },
   {
    "duration": 551,
    "start_time": "2023-03-01T13:25:33.487Z"
   },
   {
    "duration": 520,
    "start_time": "2023-03-01T13:25:56.247Z"
   },
   {
    "duration": 511,
    "start_time": "2023-03-01T13:27:31.076Z"
   },
   {
    "duration": 485,
    "start_time": "2023-03-01T13:27:56.420Z"
   },
   {
    "duration": 1012,
    "start_time": "2023-03-01T13:28:07.392Z"
   },
   {
    "duration": 593,
    "start_time": "2023-03-01T13:28:28.686Z"
   },
   {
    "duration": 284,
    "start_time": "2023-03-01T13:34:20.964Z"
   },
   {
    "duration": 24,
    "start_time": "2023-03-01T13:34:40.609Z"
   },
   {
    "duration": 18,
    "start_time": "2023-03-01T13:35:05.962Z"
   },
   {
    "duration": 152,
    "start_time": "2023-03-01T13:35:32.739Z"
   },
   {
    "duration": 321,
    "start_time": "2023-03-01T13:36:15.793Z"
   },
   {
    "duration": 27,
    "start_time": "2023-03-01T13:36:50.015Z"
   },
   {
    "duration": 20,
    "start_time": "2023-03-01T13:37:09.227Z"
   },
   {
    "duration": 300,
    "start_time": "2023-03-01T13:37:17.147Z"
   },
   {
    "duration": 90,
    "start_time": "2023-03-01T13:38:00.224Z"
   },
   {
    "duration": 10,
    "start_time": "2023-03-01T13:38:05.727Z"
   },
   {
    "duration": 72,
    "start_time": "2023-03-01T13:39:09.133Z"
   },
   {
    "duration": 23,
    "start_time": "2023-03-01T13:39:25.734Z"
   },
   {
    "duration": 7,
    "start_time": "2023-03-01T13:39:41.071Z"
   },
   {
    "duration": 410,
    "start_time": "2023-03-01T13:40:07.646Z"
   },
   {
    "duration": 363,
    "start_time": "2023-03-01T13:42:49.100Z"
   },
   {
    "duration": 26,
    "start_time": "2023-03-01T13:43:11.663Z"
   },
   {
    "duration": 19,
    "start_time": "2023-03-01T13:46:29.374Z"
   },
   {
    "duration": 312,
    "start_time": "2023-03-01T13:46:54.582Z"
   },
   {
    "duration": 349,
    "start_time": "2023-03-01T13:47:41.174Z"
   },
   {
    "duration": 16,
    "start_time": "2023-03-01T13:50:37.499Z"
   },
   {
    "duration": 16,
    "start_time": "2023-03-01T13:50:47.127Z"
   },
   {
    "duration": 13,
    "start_time": "2023-03-01T13:51:05.283Z"
   },
   {
    "duration": 13,
    "start_time": "2023-03-01T13:51:48.359Z"
   },
   {
    "duration": 14,
    "start_time": "2023-03-01T13:51:52.627Z"
   },
   {
    "duration": 1867,
    "start_time": "2023-03-01T13:55:18.673Z"
   },
   {
    "duration": 602,
    "start_time": "2023-03-01T13:59:39.667Z"
   },
   {
    "duration": 329,
    "start_time": "2023-03-01T14:00:32.098Z"
   },
   {
    "duration": 640,
    "start_time": "2023-03-01T14:00:41.034Z"
   },
   {
    "duration": 739,
    "start_time": "2023-03-01T14:01:13.993Z"
   },
   {
    "duration": 698,
    "start_time": "2023-03-01T14:01:52.306Z"
   },
   {
    "duration": 686,
    "start_time": "2023-03-01T14:02:11.177Z"
   },
   {
    "duration": 584,
    "start_time": "2023-03-01T14:02:38.332Z"
   },
   {
    "duration": 9,
    "start_time": "2023-03-01T14:04:10.933Z"
   },
   {
    "duration": 753,
    "start_time": "2023-03-01T14:06:53.693Z"
   },
   {
    "duration": 383,
    "start_time": "2023-03-01T14:07:27.656Z"
   },
   {
    "duration": 757,
    "start_time": "2023-03-01T14:07:49.745Z"
   },
   {
    "duration": 10,
    "start_time": "2023-03-01T14:08:13.387Z"
   },
   {
    "duration": 12,
    "start_time": "2023-03-01T14:08:20.952Z"
   },
   {
    "duration": 3,
    "start_time": "2023-03-01T14:12:30.295Z"
   },
   {
    "duration": 3,
    "start_time": "2023-03-01T14:13:37.139Z"
   },
   {
    "duration": 100,
    "start_time": "2023-03-01T14:43:01.974Z"
   },
   {
    "duration": 633,
    "start_time": "2023-03-01T14:48:09.232Z"
   },
   {
    "duration": 405,
    "start_time": "2023-03-01T14:57:37.913Z"
   },
   {
    "duration": 574,
    "start_time": "2023-03-01T14:58:18.621Z"
   },
   {
    "duration": 374,
    "start_time": "2023-03-01T15:00:01.749Z"
   },
   {
    "duration": 346,
    "start_time": "2023-03-01T15:05:36.723Z"
   },
   {
    "duration": 262,
    "start_time": "2023-03-01T15:15:19.093Z"
   },
   {
    "duration": 211,
    "start_time": "2023-03-01T15:16:28.548Z"
   },
   {
    "duration": 2004,
    "start_time": "2023-03-01T15:17:19.299Z"
   },
   {
    "duration": 447,
    "start_time": "2023-03-01T15:18:04.623Z"
   },
   {
    "duration": 15,
    "start_time": "2023-03-01T15:18:23.854Z"
   },
   {
    "duration": 26,
    "start_time": "2023-03-01T15:18:39.125Z"
   },
   {
    "duration": 292,
    "start_time": "2023-03-01T15:18:47.165Z"
   },
   {
    "duration": 25,
    "start_time": "2023-03-01T15:19:15.475Z"
   },
   {
    "duration": 13,
    "start_time": "2023-03-01T15:19:38.436Z"
   },
   {
    "duration": 14,
    "start_time": "2023-03-01T15:20:12.638Z"
   },
   {
    "duration": 11,
    "start_time": "2023-03-01T15:20:30.333Z"
   },
   {
    "duration": 466,
    "start_time": "2023-03-01T15:21:00.206Z"
   },
   {
    "duration": 454,
    "start_time": "2023-03-01T15:21:20.904Z"
   },
   {
    "duration": 387,
    "start_time": "2023-03-01T15:21:35.486Z"
   },
   {
    "duration": 369,
    "start_time": "2023-03-01T15:23:59.226Z"
   },
   {
    "duration": 11,
    "start_time": "2023-03-01T15:24:59.256Z"
   },
   {
    "duration": 1451,
    "start_time": "2023-03-04T12:22:49.450Z"
   },
   {
    "duration": 25,
    "start_time": "2023-03-04T12:22:50.903Z"
   },
   {
    "duration": 14,
    "start_time": "2023-03-04T12:22:50.930Z"
   },
   {
    "duration": 1053,
    "start_time": "2023-03-04T12:22:50.946Z"
   },
   {
    "duration": 4,
    "start_time": "2023-03-04T12:22:52.001Z"
   },
   {
    "duration": 30,
    "start_time": "2023-03-04T12:22:52.006Z"
   },
   {
    "duration": 26,
    "start_time": "2023-03-04T12:22:52.038Z"
   },
   {
    "duration": 20,
    "start_time": "2023-03-04T12:22:52.066Z"
   },
   {
    "duration": 9,
    "start_time": "2023-03-04T12:22:52.087Z"
   },
   {
    "duration": 23,
    "start_time": "2023-03-04T12:22:52.099Z"
   },
   {
    "duration": 4,
    "start_time": "2023-03-04T12:22:52.124Z"
   },
   {
    "duration": 14,
    "start_time": "2023-03-04T12:22:52.130Z"
   },
   {
    "duration": 24,
    "start_time": "2023-03-04T12:22:52.145Z"
   },
   {
    "duration": 16,
    "start_time": "2023-03-04T12:22:52.171Z"
   },
   {
    "duration": 18,
    "start_time": "2023-03-04T12:22:52.189Z"
   },
   {
    "duration": 37,
    "start_time": "2023-03-04T12:22:52.208Z"
   },
   {
    "duration": 12,
    "start_time": "2023-03-04T12:22:52.247Z"
   },
   {
    "duration": 438,
    "start_time": "2023-03-04T12:22:52.261Z"
   },
   {
    "duration": 9,
    "start_time": "2023-03-04T12:22:52.700Z"
   },
   {
    "duration": 11,
    "start_time": "2023-03-04T12:22:52.711Z"
   },
   {
    "duration": 316,
    "start_time": "2023-03-04T12:22:52.724Z"
   },
   {
    "duration": 9,
    "start_time": "2023-03-04T12:22:53.042Z"
   },
   {
    "duration": 686,
    "start_time": "2023-03-04T12:22:53.052Z"
   },
   {
    "duration": 333,
    "start_time": "2023-03-04T12:22:53.740Z"
   },
   {
    "duration": 417,
    "start_time": "2023-03-04T12:22:54.074Z"
   },
   {
    "duration": 404,
    "start_time": "2023-03-04T12:22:54.493Z"
   },
   {
    "duration": 376,
    "start_time": "2023-03-04T12:24:23.438Z"
   },
   {
    "duration": 520,
    "start_time": "2023-03-04T12:24:33.178Z"
   },
   {
    "duration": 108,
    "start_time": "2023-03-04T12:33:34.859Z"
   },
   {
    "duration": 16,
    "start_time": "2023-03-04T12:33:52.242Z"
   },
   {
    "duration": 211,
    "start_time": "2023-03-04T12:34:48.761Z"
   },
   {
    "duration": 6,
    "start_time": "2023-03-04T12:39:49.381Z"
   },
   {
    "duration": 27,
    "start_time": "2023-03-04T12:40:00.560Z"
   },
   {
    "duration": 797,
    "start_time": "2023-03-04T12:40:56.385Z"
   },
   {
    "duration": 711,
    "start_time": "2023-03-04T12:41:17.956Z"
   },
   {
    "duration": 12,
    "start_time": "2023-03-04T12:41:42.702Z"
   },
   {
    "duration": 943,
    "start_time": "2023-03-04T12:42:16.239Z"
   },
   {
    "duration": 703,
    "start_time": "2023-03-04T12:42:41.659Z"
   },
   {
    "duration": 785,
    "start_time": "2023-03-04T12:42:58.726Z"
   },
   {
    "duration": 16,
    "start_time": "2023-03-04T12:46:28.666Z"
   },
   {
    "duration": 6,
    "start_time": "2023-03-04T12:46:49.375Z"
   },
   {
    "duration": 15,
    "start_time": "2023-03-04T12:46:57.875Z"
   },
   {
    "duration": 12,
    "start_time": "2023-03-04T12:47:10.599Z"
   },
   {
    "duration": 685,
    "start_time": "2023-03-04T12:47:38.911Z"
   },
   {
    "duration": 10,
    "start_time": "2023-03-04T12:48:02.594Z"
   },
   {
    "duration": 241,
    "start_time": "2023-03-04T12:50:32.538Z"
   },
   {
    "duration": 179,
    "start_time": "2023-03-04T12:50:53.714Z"
   },
   {
    "duration": 181,
    "start_time": "2023-03-04T12:51:45.125Z"
   },
   {
    "duration": 197,
    "start_time": "2023-03-04T12:56:29.790Z"
   },
   {
    "duration": 179,
    "start_time": "2023-03-04T12:56:34.465Z"
   },
   {
    "duration": 280,
    "start_time": "2023-03-04T13:18:03.608Z"
   },
   {
    "duration": 199,
    "start_time": "2023-03-04T13:18:55.430Z"
   },
   {
    "duration": 327,
    "start_time": "2023-03-04T13:24:56.200Z"
   },
   {
    "duration": 11,
    "start_time": "2023-03-04T13:26:05.013Z"
   },
   {
    "duration": 9,
    "start_time": "2023-03-04T13:27:04.765Z"
   },
   {
    "duration": 8,
    "start_time": "2023-03-04T13:27:21.118Z"
   },
   {
    "duration": 13,
    "start_time": "2023-03-04T13:29:28.601Z"
   },
   {
    "duration": 13,
    "start_time": "2023-03-04T13:29:56.921Z"
   },
   {
    "duration": 21,
    "start_time": "2023-03-04T13:30:38.109Z"
   },
   {
    "duration": 49,
    "start_time": "2023-03-04T13:30:51.670Z"
   },
   {
    "duration": 53,
    "start_time": "2023-03-04T13:30:55.711Z"
   },
   {
    "duration": 15,
    "start_time": "2023-03-04T13:31:02.911Z"
   },
   {
    "duration": 16,
    "start_time": "2023-03-04T13:31:10.709Z"
   },
   {
    "duration": 48,
    "start_time": "2023-03-04T13:31:14.414Z"
   },
   {
    "duration": 15,
    "start_time": "2023-03-04T13:31:18.488Z"
   },
   {
    "duration": 15,
    "start_time": "2023-03-04T13:31:24.926Z"
   },
   {
    "duration": 14,
    "start_time": "2023-03-04T13:34:35.993Z"
   },
   {
    "duration": 16,
    "start_time": "2023-03-04T13:34:57.271Z"
   },
   {
    "duration": 16,
    "start_time": "2023-03-04T13:35:09.880Z"
   },
   {
    "duration": 19,
    "start_time": "2023-03-04T13:35:28.104Z"
   },
   {
    "duration": 16,
    "start_time": "2023-03-04T13:35:32.635Z"
   },
   {
    "duration": 14,
    "start_time": "2023-03-04T13:35:40.648Z"
   },
   {
    "duration": 44,
    "start_time": "2023-03-04T13:36:17.531Z"
   },
   {
    "duration": 23,
    "start_time": "2023-03-04T13:36:31.416Z"
   },
   {
    "duration": 14,
    "start_time": "2023-03-04T13:38:01.901Z"
   },
   {
    "duration": 15,
    "start_time": "2023-03-04T13:38:19.429Z"
   },
   {
    "duration": 13,
    "start_time": "2023-03-04T13:39:27.751Z"
   },
   {
    "duration": 14,
    "start_time": "2023-03-04T13:40:02.721Z"
   },
   {
    "duration": 14,
    "start_time": "2023-03-04T13:41:10.853Z"
   },
   {
    "duration": 10,
    "start_time": "2023-03-04T13:44:03.007Z"
   },
   {
    "duration": 1031,
    "start_time": "2023-03-04T13:44:53.102Z"
   },
   {
    "duration": 11,
    "start_time": "2023-03-04T13:45:20.219Z"
   },
   {
    "duration": 64,
    "start_time": "2023-03-04T13:47:16.467Z"
   },
   {
    "duration": 27,
    "start_time": "2023-03-04T13:47:16.533Z"
   },
   {
    "duration": 35,
    "start_time": "2023-03-04T13:47:16.562Z"
   },
   {
    "duration": 1434,
    "start_time": "2023-03-04T13:47:16.599Z"
   },
   {
    "duration": 9,
    "start_time": "2023-03-04T13:47:18.035Z"
   },
   {
    "duration": 55,
    "start_time": "2023-03-04T13:47:18.046Z"
   },
   {
    "duration": 11,
    "start_time": "2023-03-04T13:47:18.103Z"
   },
   {
    "duration": 26,
    "start_time": "2023-03-04T13:47:18.116Z"
   },
   {
    "duration": 78,
    "start_time": "2023-03-04T13:47:18.143Z"
   },
   {
    "duration": 19,
    "start_time": "2023-03-04T13:47:18.223Z"
   },
   {
    "duration": 33,
    "start_time": "2023-03-04T13:47:18.251Z"
   },
   {
    "duration": 17,
    "start_time": "2023-03-04T13:47:18.285Z"
   },
   {
    "duration": 19,
    "start_time": "2023-03-04T13:47:18.304Z"
   },
   {
    "duration": 8,
    "start_time": "2023-03-04T13:47:18.328Z"
   },
   {
    "duration": 46,
    "start_time": "2023-03-04T13:47:18.339Z"
   },
   {
    "duration": 17,
    "start_time": "2023-03-04T13:47:18.387Z"
   },
   {
    "duration": 11,
    "start_time": "2023-03-04T13:47:18.407Z"
   },
   {
    "duration": 402,
    "start_time": "2023-03-04T13:47:18.419Z"
   },
   {
    "duration": 30,
    "start_time": "2023-03-04T13:47:18.824Z"
   },
   {
    "duration": 29,
    "start_time": "2023-03-04T13:47:18.855Z"
   },
   {
    "duration": 406,
    "start_time": "2023-03-04T13:47:18.887Z"
   },
   {
    "duration": 9,
    "start_time": "2023-03-04T13:47:19.296Z"
   },
   {
    "duration": 711,
    "start_time": "2023-03-04T13:47:19.307Z"
   },
   {
    "duration": 402,
    "start_time": "2023-03-04T13:47:20.020Z"
   },
   {
    "duration": 656,
    "start_time": "2023-03-04T13:47:20.424Z"
   },
   {
    "duration": 518,
    "start_time": "2023-03-04T13:47:21.082Z"
   },
   {
    "duration": 15,
    "start_time": "2023-03-04T13:47:21.602Z"
   },
   {
    "duration": 258,
    "start_time": "2023-03-04T13:47:21.619Z"
   },
   {
    "duration": 232,
    "start_time": "2023-03-04T13:47:21.880Z"
   },
   {
    "duration": 827,
    "start_time": "2023-03-04T13:47:22.114Z"
   },
   {
    "duration": 20,
    "start_time": "2023-03-04T13:47:22.943Z"
   },
   {
    "duration": 357,
    "start_time": "2023-03-04T13:47:22.965Z"
   },
   {
    "duration": 43,
    "start_time": "2023-03-04T13:47:23.324Z"
   },
   {
    "duration": 37,
    "start_time": "2023-03-04T13:47:23.369Z"
   },
   {
    "duration": 14,
    "start_time": "2023-03-04T13:47:23.408Z"
   },
   {
    "duration": 1326,
    "start_time": "2023-03-04T13:47:23.424Z"
   },
   {
    "duration": 18,
    "start_time": "2023-03-04T13:47:24.759Z"
   },
   {
    "duration": 15,
    "start_time": "2023-03-04T13:47:45.667Z"
   },
   {
    "duration": 20,
    "start_time": "2023-03-04T13:48:24.883Z"
   },
   {
    "duration": 46,
    "start_time": "2023-03-04T14:00:26.868Z"
   },
   {
    "duration": 17,
    "start_time": "2023-03-04T14:00:53.055Z"
   },
   {
    "duration": 112,
    "start_time": "2023-03-04T14:01:00.105Z"
   },
   {
    "duration": 50,
    "start_time": "2023-03-04T14:01:06.418Z"
   },
   {
    "duration": 49,
    "start_time": "2023-03-04T14:01:28.651Z"
   },
   {
    "duration": 19,
    "start_time": "2023-03-04T14:01:28.702Z"
   },
   {
    "duration": 28,
    "start_time": "2023-03-04T14:01:28.722Z"
   },
   {
    "duration": 1025,
    "start_time": "2023-03-04T14:01:28.753Z"
   },
   {
    "duration": 3,
    "start_time": "2023-03-04T14:01:29.780Z"
   },
   {
    "duration": 13,
    "start_time": "2023-03-04T14:01:29.784Z"
   },
   {
    "duration": 10,
    "start_time": "2023-03-04T14:01:29.799Z"
   },
   {
    "duration": 47,
    "start_time": "2023-03-04T14:01:29.810Z"
   },
   {
    "duration": 8,
    "start_time": "2023-03-04T14:01:29.859Z"
   },
   {
    "duration": 8,
    "start_time": "2023-03-04T14:01:29.870Z"
   },
   {
    "duration": 4,
    "start_time": "2023-03-04T14:01:29.880Z"
   },
   {
    "duration": 8,
    "start_time": "2023-03-04T14:01:29.885Z"
   },
   {
    "duration": 58,
    "start_time": "2023-03-04T14:01:29.895Z"
   },
   {
    "duration": 7,
    "start_time": "2023-03-04T14:01:29.954Z"
   },
   {
    "duration": 4,
    "start_time": "2023-03-04T14:01:29.962Z"
   },
   {
    "duration": 6,
    "start_time": "2023-03-04T14:01:29.967Z"
   },
   {
    "duration": 6,
    "start_time": "2023-03-04T14:01:29.975Z"
   },
   {
    "duration": 368,
    "start_time": "2023-03-04T14:01:29.982Z"
   },
   {
    "duration": 11,
    "start_time": "2023-03-04T14:01:30.352Z"
   },
   {
    "duration": 13,
    "start_time": "2023-03-04T14:01:30.365Z"
   },
   {
    "duration": 363,
    "start_time": "2023-03-04T14:01:30.380Z"
   },
   {
    "duration": 10,
    "start_time": "2023-03-04T14:01:30.749Z"
   },
   {
    "duration": 761,
    "start_time": "2023-03-04T14:01:30.761Z"
   },
   {
    "duration": 352,
    "start_time": "2023-03-04T14:01:31.524Z"
   },
   {
    "duration": 235,
    "start_time": "2023-03-04T14:01:31.877Z"
   },
   {
    "duration": 13,
    "start_time": "2023-03-04T14:01:32.113Z"
   },
   {
    "duration": 207,
    "start_time": "2023-03-04T14:01:32.127Z"
   },
   {
    "duration": 203,
    "start_time": "2023-03-04T14:01:32.343Z"
   },
   {
    "duration": 618,
    "start_time": "2023-03-04T14:01:32.548Z"
   },
   {
    "duration": 9,
    "start_time": "2023-03-04T14:01:33.168Z"
   },
   {
    "duration": 243,
    "start_time": "2023-03-04T14:01:33.179Z"
   },
   {
    "duration": 30,
    "start_time": "2023-03-04T14:01:33.423Z"
   },
   {
    "duration": 22,
    "start_time": "2023-03-04T14:01:33.454Z"
   },
   {
    "duration": 11,
    "start_time": "2023-03-04T14:01:33.477Z"
   },
   {
    "duration": 1174,
    "start_time": "2023-03-04T14:01:33.490Z"
   },
   {
    "duration": 9,
    "start_time": "2023-03-04T14:01:34.666Z"
   },
   {
    "duration": 238,
    "start_time": "2023-03-04T14:02:46.368Z"
   },
   {
    "duration": 13,
    "start_time": "2023-03-04T14:30:33.029Z"
   },
   {
    "duration": 20,
    "start_time": "2023-03-04T14:30:43.521Z"
   },
   {
    "duration": 14,
    "start_time": "2023-03-04T14:31:00.155Z"
   },
   {
    "duration": 259,
    "start_time": "2023-03-04T14:31:04.236Z"
   },
   {
    "duration": 200,
    "start_time": "2023-03-04T14:31:08.934Z"
   },
   {
    "duration": 12,
    "start_time": "2023-03-04T14:31:13.660Z"
   },
   {
    "duration": 54,
    "start_time": "2023-03-04T14:31:51.418Z"
   },
   {
    "duration": 21,
    "start_time": "2023-03-04T14:31:51.475Z"
   },
   {
    "duration": 16,
    "start_time": "2023-03-04T14:31:51.497Z"
   },
   {
    "duration": 1128,
    "start_time": "2023-03-04T14:31:51.515Z"
   },
   {
    "duration": 5,
    "start_time": "2023-03-04T14:31:52.646Z"
   },
   {
    "duration": 26,
    "start_time": "2023-03-04T14:31:52.653Z"
   },
   {
    "duration": 31,
    "start_time": "2023-03-04T14:31:52.681Z"
   },
   {
    "duration": 25,
    "start_time": "2023-03-04T14:31:52.714Z"
   },
   {
    "duration": 10,
    "start_time": "2023-03-04T14:31:52.740Z"
   },
   {
    "duration": 14,
    "start_time": "2023-03-04T14:31:52.752Z"
   },
   {
    "duration": 5,
    "start_time": "2023-03-04T14:31:52.768Z"
   },
   {
    "duration": 16,
    "start_time": "2023-03-04T14:31:52.774Z"
   },
   {
    "duration": 20,
    "start_time": "2023-03-04T14:31:52.792Z"
   },
   {
    "duration": 10,
    "start_time": "2023-03-04T14:31:52.838Z"
   },
   {
    "duration": 8,
    "start_time": "2023-03-04T14:31:52.849Z"
   },
   {
    "duration": 23,
    "start_time": "2023-03-04T14:31:52.859Z"
   },
   {
    "duration": 14,
    "start_time": "2023-03-04T14:31:52.883Z"
   },
   {
    "duration": 355,
    "start_time": "2023-03-04T14:31:52.899Z"
   },
   {
    "duration": 8,
    "start_time": "2023-03-04T14:31:53.256Z"
   },
   {
    "duration": 3,
    "start_time": "2023-03-04T14:31:53.267Z"
   },
   {
    "duration": 355,
    "start_time": "2023-03-04T14:31:53.271Z"
   },
   {
    "duration": 15,
    "start_time": "2023-03-04T14:31:53.628Z"
   },
   {
    "duration": 775,
    "start_time": "2023-03-04T14:31:53.645Z"
   },
   {
    "duration": 327,
    "start_time": "2023-03-04T14:31:54.422Z"
   },
   {
    "duration": 244,
    "start_time": "2023-03-04T14:31:54.751Z"
   },
   {
    "duration": 14,
    "start_time": "2023-03-04T14:31:54.998Z"
   },
   {
    "duration": 212,
    "start_time": "2023-03-04T14:31:55.015Z"
   },
   {
    "duration": 207,
    "start_time": "2023-03-04T14:31:55.237Z"
   },
   {
    "duration": 10,
    "start_time": "2023-03-04T14:31:55.446Z"
   },
   {
    "duration": 218,
    "start_time": "2023-03-04T14:31:55.458Z"
   },
   {
    "duration": 18,
    "start_time": "2023-03-04T14:31:55.678Z"
   },
   {
    "duration": 16,
    "start_time": "2023-03-04T14:31:55.698Z"
   },
   {
    "duration": 32,
    "start_time": "2023-03-04T14:31:55.716Z"
   },
   {
    "duration": 1028,
    "start_time": "2023-03-04T14:31:55.749Z"
   },
   {
    "duration": 9,
    "start_time": "2023-03-04T14:31:56.780Z"
   },
   {
    "duration": 15,
    "start_time": "2023-03-04T14:38:20.920Z"
   },
   {
    "duration": 203,
    "start_time": "2023-03-04T14:48:25.397Z"
   },
   {
    "duration": 253,
    "start_time": "2023-03-04T14:48:42.293Z"
   },
   {
    "duration": 231,
    "start_time": "2023-03-04T14:49:25.357Z"
   },
   {
    "duration": 197,
    "start_time": "2023-03-04T14:50:21.710Z"
   },
   {
    "duration": 193,
    "start_time": "2023-03-04T14:51:01.203Z"
   },
   {
    "duration": 182,
    "start_time": "2023-03-04T14:51:46.726Z"
   },
   {
    "duration": 175,
    "start_time": "2023-03-04T14:51:53.537Z"
   },
   {
    "duration": 217,
    "start_time": "2023-03-04T14:54:47.748Z"
   },
   {
    "duration": 182,
    "start_time": "2023-03-04T14:55:07.442Z"
   },
   {
    "duration": 250,
    "start_time": "2023-03-04T14:56:55.319Z"
   },
   {
    "duration": 174,
    "start_time": "2023-03-04T14:58:30.615Z"
   },
   {
    "duration": 210,
    "start_time": "2023-03-04T14:59:10.122Z"
   },
   {
    "duration": 59,
    "start_time": "2023-03-04T15:34:15.861Z"
   },
   {
    "duration": 29,
    "start_time": "2023-03-04T15:34:15.923Z"
   },
   {
    "duration": 31,
    "start_time": "2023-03-04T15:34:15.955Z"
   },
   {
    "duration": 1394,
    "start_time": "2023-03-04T15:34:15.988Z"
   },
   {
    "duration": 4,
    "start_time": "2023-03-04T15:34:17.383Z"
   },
   {
    "duration": 26,
    "start_time": "2023-03-04T15:34:17.389Z"
   },
   {
    "duration": 33,
    "start_time": "2023-03-04T15:34:17.417Z"
   },
   {
    "duration": 47,
    "start_time": "2023-03-04T15:34:17.453Z"
   },
   {
    "duration": 11,
    "start_time": "2023-03-04T15:34:17.503Z"
   },
   {
    "duration": 11,
    "start_time": "2023-03-04T15:34:17.518Z"
   },
   {
    "duration": 5,
    "start_time": "2023-03-04T15:34:17.531Z"
   },
   {
    "duration": 24,
    "start_time": "2023-03-04T15:34:17.543Z"
   },
   {
    "duration": 22,
    "start_time": "2023-03-04T15:34:17.569Z"
   },
   {
    "duration": 8,
    "start_time": "2023-03-04T15:34:17.593Z"
   },
   {
    "duration": 14,
    "start_time": "2023-03-04T15:34:17.602Z"
   },
   {
    "duration": 16,
    "start_time": "2023-03-04T15:34:17.618Z"
   },
   {
    "duration": 28,
    "start_time": "2023-03-04T15:34:17.636Z"
   },
   {
    "duration": 397,
    "start_time": "2023-03-04T15:34:17.666Z"
   },
   {
    "duration": 12,
    "start_time": "2023-03-04T15:34:18.065Z"
   },
   {
    "duration": 34,
    "start_time": "2023-03-04T15:34:18.080Z"
   },
   {
    "duration": 401,
    "start_time": "2023-03-04T15:34:18.116Z"
   },
   {
    "duration": 29,
    "start_time": "2023-03-04T15:34:18.519Z"
   },
   {
    "duration": 592,
    "start_time": "2023-03-04T15:34:18.549Z"
   },
   {
    "duration": 358,
    "start_time": "2023-03-04T15:34:19.151Z"
   },
   {
    "duration": 251,
    "start_time": "2023-03-04T15:34:19.511Z"
   },
   {
    "duration": 14,
    "start_time": "2023-03-04T15:34:19.764Z"
   },
   {
    "duration": 260,
    "start_time": "2023-03-04T15:34:19.780Z"
   },
   {
    "duration": 195,
    "start_time": "2023-03-04T15:34:20.045Z"
   },
   {
    "duration": 20,
    "start_time": "2023-03-04T15:34:20.242Z"
   },
   {
    "duration": 21,
    "start_time": "2023-03-04T15:34:20.268Z"
   },
   {
    "duration": 262,
    "start_time": "2023-03-04T15:34:20.291Z"
   },
   {
    "duration": 20,
    "start_time": "2023-03-04T15:34:20.555Z"
   },
   {
    "duration": 16,
    "start_time": "2023-03-04T15:34:20.577Z"
   },
   {
    "duration": 13,
    "start_time": "2023-03-04T15:34:20.595Z"
   },
   {
    "duration": 1121,
    "start_time": "2023-03-04T15:34:20.611Z"
   },
   {
    "duration": 21,
    "start_time": "2023-03-04T15:34:21.739Z"
   },
   {
    "duration": 264,
    "start_time": "2023-03-04T15:39:15.158Z"
   },
   {
    "duration": 546,
    "start_time": "2023-03-04T15:39:52.238Z"
   },
   {
    "duration": 31,
    "start_time": "2023-03-04T15:50:59.026Z"
   },
   {
    "duration": 247,
    "start_time": "2023-03-04T15:51:35.218Z"
   },
   {
    "duration": 42,
    "start_time": "2023-03-04T15:52:30.115Z"
   },
   {
    "duration": 29,
    "start_time": "2023-03-04T15:52:45.683Z"
   },
   {
    "duration": 259,
    "start_time": "2023-03-04T15:53:14.811Z"
   },
   {
    "duration": 225,
    "start_time": "2023-03-04T15:53:26.962Z"
   },
   {
    "duration": 23,
    "start_time": "2023-03-04T15:53:37.883Z"
   },
   {
    "duration": 22,
    "start_time": "2023-03-04T15:53:45.387Z"
   },
   {
    "duration": 236,
    "start_time": "2023-03-04T15:53:48.180Z"
   },
   {
    "duration": 31,
    "start_time": "2023-03-04T15:54:20.024Z"
   },
   {
    "duration": 49,
    "start_time": "2023-03-04T15:55:37.059Z"
   },
   {
    "duration": 20,
    "start_time": "2023-03-04T15:55:37.111Z"
   },
   {
    "duration": 29,
    "start_time": "2023-03-04T15:55:37.133Z"
   },
   {
    "duration": 1147,
    "start_time": "2023-03-04T15:55:37.164Z"
   },
   {
    "duration": 4,
    "start_time": "2023-03-04T15:55:38.313Z"
   },
   {
    "duration": 33,
    "start_time": "2023-03-04T15:55:38.319Z"
   },
   {
    "duration": 21,
    "start_time": "2023-03-04T15:55:38.356Z"
   },
   {
    "duration": 26,
    "start_time": "2023-03-04T15:55:38.379Z"
   },
   {
    "duration": 11,
    "start_time": "2023-03-04T15:55:38.407Z"
   },
   {
    "duration": 23,
    "start_time": "2023-03-04T15:55:38.420Z"
   },
   {
    "duration": 4,
    "start_time": "2023-03-04T15:55:38.449Z"
   },
   {
    "duration": 17,
    "start_time": "2023-03-04T15:55:38.455Z"
   },
   {
    "duration": 35,
    "start_time": "2023-03-04T15:55:38.474Z"
   },
   {
    "duration": 8,
    "start_time": "2023-03-04T15:55:38.511Z"
   },
   {
    "duration": 8,
    "start_time": "2023-03-04T15:55:38.520Z"
   },
   {
    "duration": 24,
    "start_time": "2023-03-04T15:55:38.530Z"
   },
   {
    "duration": 12,
    "start_time": "2023-03-04T15:55:38.556Z"
   },
   {
    "duration": 425,
    "start_time": "2023-03-04T15:55:38.570Z"
   },
   {
    "duration": 8,
    "start_time": "2023-03-04T15:55:38.997Z"
   },
   {
    "duration": 8,
    "start_time": "2023-03-04T15:55:39.006Z"
   },
   {
    "duration": 331,
    "start_time": "2023-03-04T15:55:39.015Z"
   },
   {
    "duration": 12,
    "start_time": "2023-03-04T15:55:39.347Z"
   },
   {
    "duration": 694,
    "start_time": "2023-03-04T15:55:39.361Z"
   },
   {
    "duration": 364,
    "start_time": "2023-03-04T15:55:40.057Z"
   },
   {
    "duration": 235,
    "start_time": "2023-03-04T15:55:40.423Z"
   },
   {
    "duration": 13,
    "start_time": "2023-03-04T15:55:40.661Z"
   },
   {
    "duration": 489,
    "start_time": "2023-03-04T15:55:40.676Z"
   },
   {
    "duration": 201,
    "start_time": "2023-03-04T15:55:41.169Z"
   },
   {
    "duration": 10,
    "start_time": "2023-03-04T15:55:41.372Z"
   },
   {
    "duration": 33,
    "start_time": "2023-03-04T15:55:41.384Z"
   },
   {
    "duration": 235,
    "start_time": "2023-03-04T15:55:41.420Z"
   },
   {
    "duration": 19,
    "start_time": "2023-03-04T15:55:41.657Z"
   },
   {
    "duration": 22,
    "start_time": "2023-03-04T15:55:41.678Z"
   },
   {
    "duration": 0,
    "start_time": "2023-03-04T15:55:41.701Z"
   },
   {
    "duration": 0,
    "start_time": "2023-03-04T15:55:41.703Z"
   },
   {
    "duration": 0,
    "start_time": "2023-03-04T15:55:41.704Z"
   },
   {
    "duration": 0,
    "start_time": "2023-03-04T15:55:41.705Z"
   },
   {
    "duration": 12,
    "start_time": "2023-03-04T15:56:55.996Z"
   },
   {
    "duration": 268,
    "start_time": "2023-03-04T15:57:05.099Z"
   },
   {
    "duration": 248,
    "start_time": "2023-03-04T15:57:20.262Z"
   },
   {
    "duration": 279,
    "start_time": "2023-03-04T15:57:41.636Z"
   },
   {
    "duration": 23,
    "start_time": "2023-03-04T15:58:00.078Z"
   },
   {
    "duration": 237,
    "start_time": "2023-03-04T15:58:19.391Z"
   },
   {
    "duration": 21,
    "start_time": "2023-03-04T15:58:26.581Z"
   },
   {
    "duration": 10,
    "start_time": "2023-03-04T15:59:24.657Z"
   },
   {
    "duration": 243,
    "start_time": "2023-03-04T15:59:29.804Z"
   },
   {
    "duration": 228,
    "start_time": "2023-03-04T15:59:40.854Z"
   },
   {
    "duration": 689,
    "start_time": "2023-03-04T15:59:51.836Z"
   },
   {
    "duration": 246,
    "start_time": "2023-03-04T16:00:04.526Z"
   },
   {
    "duration": 28,
    "start_time": "2023-03-04T16:00:13.380Z"
   },
   {
    "duration": 258,
    "start_time": "2023-03-04T16:00:16.799Z"
   },
   {
    "duration": 263,
    "start_time": "2023-03-04T16:00:37.405Z"
   },
   {
    "duration": 289,
    "start_time": "2023-03-04T16:00:52.261Z"
   },
   {
    "duration": 280,
    "start_time": "2023-03-04T16:01:35.613Z"
   },
   {
    "duration": 292,
    "start_time": "2023-03-04T16:06:30.294Z"
   },
   {
    "duration": 368,
    "start_time": "2023-03-04T16:08:42.576Z"
   },
   {
    "duration": 425,
    "start_time": "2023-03-04T16:09:25.936Z"
   },
   {
    "duration": 315,
    "start_time": "2023-03-04T16:09:51.339Z"
   },
   {
    "duration": 284,
    "start_time": "2023-03-04T16:10:00.820Z"
   },
   {
    "duration": 22,
    "start_time": "2023-03-04T16:10:10.503Z"
   },
   {
    "duration": 267,
    "start_time": "2023-03-04T16:16:32.640Z"
   },
   {
    "duration": 274,
    "start_time": "2023-03-04T16:17:30.178Z"
   },
   {
    "duration": 273,
    "start_time": "2023-03-04T16:24:29.473Z"
   },
   {
    "duration": 859,
    "start_time": "2023-03-04T16:24:41.381Z"
   },
   {
    "duration": 345,
    "start_time": "2023-03-04T16:30:58.381Z"
   },
   {
    "duration": 11,
    "start_time": "2023-03-04T16:31:40.281Z"
   },
   {
    "duration": 340,
    "start_time": "2023-03-04T16:31:45.494Z"
   },
   {
    "duration": 65,
    "start_time": "2023-03-04T16:32:02.108Z"
   },
   {
    "duration": 31,
    "start_time": "2023-03-04T16:32:02.176Z"
   },
   {
    "duration": 33,
    "start_time": "2023-03-04T16:32:02.208Z"
   },
   {
    "duration": 1586,
    "start_time": "2023-03-04T16:32:02.244Z"
   },
   {
    "duration": 12,
    "start_time": "2023-03-04T16:32:03.832Z"
   },
   {
    "duration": 52,
    "start_time": "2023-03-04T16:32:03.851Z"
   },
   {
    "duration": 21,
    "start_time": "2023-03-04T16:32:03.905Z"
   },
   {
    "duration": 20,
    "start_time": "2023-03-04T16:32:03.928Z"
   },
   {
    "duration": 23,
    "start_time": "2023-03-04T16:32:03.950Z"
   },
   {
    "duration": 14,
    "start_time": "2023-03-04T16:32:03.977Z"
   },
   {
    "duration": 17,
    "start_time": "2023-03-04T16:32:03.994Z"
   },
   {
    "duration": 12,
    "start_time": "2023-03-04T16:32:04.013Z"
   },
   {
    "duration": 43,
    "start_time": "2023-03-04T16:32:04.027Z"
   },
   {
    "duration": 11,
    "start_time": "2023-03-04T16:32:04.075Z"
   },
   {
    "duration": 12,
    "start_time": "2023-03-04T16:32:04.088Z"
   },
   {
    "duration": 25,
    "start_time": "2023-03-04T16:32:04.103Z"
   },
   {
    "duration": 66,
    "start_time": "2023-03-04T16:32:04.130Z"
   },
   {
    "duration": 535,
    "start_time": "2023-03-04T16:32:04.198Z"
   },
   {
    "duration": 13,
    "start_time": "2023-03-04T16:32:04.735Z"
   },
   {
    "duration": 42,
    "start_time": "2023-03-04T16:32:04.750Z"
   },
   {
    "duration": 456,
    "start_time": "2023-03-04T16:32:04.795Z"
   },
   {
    "duration": 11,
    "start_time": "2023-03-04T16:32:05.256Z"
   },
   {
    "duration": 827,
    "start_time": "2023-03-04T16:32:05.269Z"
   },
   {
    "duration": 449,
    "start_time": "2023-03-04T16:32:06.098Z"
   },
   {
    "duration": 291,
    "start_time": "2023-03-04T16:32:06.550Z"
   },
   {
    "duration": 18,
    "start_time": "2023-03-04T16:32:06.843Z"
   },
   {
    "duration": 261,
    "start_time": "2023-03-04T16:32:06.863Z"
   },
   {
    "duration": 267,
    "start_time": "2023-03-04T16:32:07.128Z"
   },
   {
    "duration": 12,
    "start_time": "2023-03-04T16:32:07.397Z"
   },
   {
    "duration": 25,
    "start_time": "2023-03-04T16:32:07.412Z"
   },
   {
    "duration": 293,
    "start_time": "2023-03-04T16:32:07.444Z"
   },
   {
    "duration": 344,
    "start_time": "2023-03-04T16:32:07.739Z"
   },
   {
    "duration": 690,
    "start_time": "2023-03-04T16:32:08.086Z"
   },
   {
    "duration": 350,
    "start_time": "2023-03-04T16:32:08.779Z"
   },
   {
    "duration": 291,
    "start_time": "2023-03-04T16:34:37.188Z"
   },
   {
    "duration": 284,
    "start_time": "2023-03-04T16:34:52.082Z"
   },
   {
    "duration": 294,
    "start_time": "2023-03-04T16:35:22.718Z"
   },
   {
    "duration": 303,
    "start_time": "2023-03-04T16:35:53.331Z"
   },
   {
    "duration": 1817,
    "start_time": "2023-03-05T13:27:16.253Z"
   },
   {
    "duration": 21,
    "start_time": "2023-03-05T13:27:18.073Z"
   },
   {
    "duration": 12,
    "start_time": "2023-03-05T13:27:18.095Z"
   },
   {
    "duration": 932,
    "start_time": "2023-03-05T13:27:18.109Z"
   },
   {
    "duration": 6,
    "start_time": "2023-03-05T13:27:19.043Z"
   },
   {
    "duration": 11,
    "start_time": "2023-03-05T13:27:19.051Z"
   },
   {
    "duration": 11,
    "start_time": "2023-03-05T13:27:19.064Z"
   },
   {
    "duration": 16,
    "start_time": "2023-03-05T13:27:19.076Z"
   },
   {
    "duration": 10,
    "start_time": "2023-03-05T13:27:19.094Z"
   },
   {
    "duration": 9,
    "start_time": "2023-03-05T13:27:19.107Z"
   },
   {
    "duration": 5,
    "start_time": "2023-03-05T13:27:19.149Z"
   },
   {
    "duration": 9,
    "start_time": "2023-03-05T13:27:19.155Z"
   },
   {
    "duration": 18,
    "start_time": "2023-03-05T13:27:19.166Z"
   },
   {
    "duration": 8,
    "start_time": "2023-03-05T13:27:19.186Z"
   },
   {
    "duration": 5,
    "start_time": "2023-03-05T13:27:19.195Z"
   },
   {
    "duration": 8,
    "start_time": "2023-03-05T13:27:19.202Z"
   },
   {
    "duration": 39,
    "start_time": "2023-03-05T13:27:19.212Z"
   },
   {
    "duration": 310,
    "start_time": "2023-03-05T13:27:19.253Z"
   },
   {
    "duration": 9,
    "start_time": "2023-03-05T13:27:19.565Z"
   },
   {
    "duration": 5,
    "start_time": "2023-03-05T13:27:19.575Z"
   },
   {
    "duration": 401,
    "start_time": "2023-03-05T13:27:19.581Z"
   },
   {
    "duration": 8,
    "start_time": "2023-03-05T13:27:19.983Z"
   },
   {
    "duration": 520,
    "start_time": "2023-03-05T13:27:19.993Z"
   },
   {
    "duration": 298,
    "start_time": "2023-03-05T13:27:20.514Z"
   },
   {
    "duration": 199,
    "start_time": "2023-03-05T13:27:20.814Z"
   },
   {
    "duration": 13,
    "start_time": "2023-03-05T13:27:21.014Z"
   },
   {
    "duration": 174,
    "start_time": "2023-03-05T13:27:21.028Z"
   },
   {
    "duration": 156,
    "start_time": "2023-03-05T13:27:21.206Z"
   },
   {
    "duration": 8,
    "start_time": "2023-03-05T13:27:21.364Z"
   },
   {
    "duration": 17,
    "start_time": "2023-03-05T13:27:21.373Z"
   },
   {
    "duration": 175,
    "start_time": "2023-03-05T13:27:21.392Z"
   },
   {
    "duration": 202,
    "start_time": "2023-03-05T13:27:21.569Z"
   },
   {
    "duration": 352,
    "start_time": "2023-03-05T13:27:21.773Z"
   },
   {
    "duration": 227,
    "start_time": "2023-03-05T13:27:22.127Z"
   },
   {
    "duration": 5,
    "start_time": "2023-03-05T13:45:25.832Z"
   },
   {
    "duration": 8,
    "start_time": "2023-03-05T13:46:50.881Z"
   },
   {
    "duration": 93,
    "start_time": "2023-03-05T13:48:40.555Z"
   },
   {
    "duration": 8,
    "start_time": "2023-03-05T13:49:20.767Z"
   },
   {
    "duration": 8,
    "start_time": "2023-03-05T13:49:58.817Z"
   },
   {
    "duration": 10,
    "start_time": "2023-03-05T13:50:10.249Z"
   },
   {
    "duration": 9,
    "start_time": "2023-03-05T13:50:28.335Z"
   },
   {
    "duration": 10,
    "start_time": "2023-03-05T13:51:35.226Z"
   },
   {
    "duration": 51,
    "start_time": "2023-03-05T13:52:26.455Z"
   },
   {
    "duration": 765,
    "start_time": "2023-03-05T13:52:31.890Z"
   },
   {
    "duration": 49,
    "start_time": "2023-03-05T13:53:02.433Z"
   },
   {
    "duration": 20,
    "start_time": "2023-03-05T13:53:02.484Z"
   },
   {
    "duration": 44,
    "start_time": "2023-03-05T13:53:02.506Z"
   },
   {
    "duration": 913,
    "start_time": "2023-03-05T13:53:02.553Z"
   },
   {
    "duration": 4,
    "start_time": "2023-03-05T13:53:03.467Z"
   },
   {
    "duration": 15,
    "start_time": "2023-03-05T13:53:03.472Z"
   },
   {
    "duration": 26,
    "start_time": "2023-03-05T13:53:03.488Z"
   },
   {
    "duration": 24,
    "start_time": "2023-03-05T13:53:03.515Z"
   },
   {
    "duration": 21,
    "start_time": "2023-03-05T13:53:03.541Z"
   },
   {
    "duration": 24,
    "start_time": "2023-03-05T13:53:03.564Z"
   },
   {
    "duration": 13,
    "start_time": "2023-03-05T13:53:03.589Z"
   },
   {
    "duration": 45,
    "start_time": "2023-03-05T13:53:03.604Z"
   },
   {
    "duration": 43,
    "start_time": "2023-03-05T13:53:03.650Z"
   },
   {
    "duration": 11,
    "start_time": "2023-03-05T13:53:03.694Z"
   },
   {
    "duration": 29,
    "start_time": "2023-03-05T13:53:03.706Z"
   },
   {
    "duration": 22,
    "start_time": "2023-03-05T13:53:03.737Z"
   },
   {
    "duration": 37,
    "start_time": "2023-03-05T13:53:03.761Z"
   },
   {
    "duration": 305,
    "start_time": "2023-03-05T13:53:03.799Z"
   },
   {
    "duration": 9,
    "start_time": "2023-03-05T13:53:04.106Z"
   },
   {
    "duration": 11,
    "start_time": "2023-03-05T13:53:04.116Z"
   },
   {
    "duration": 406,
    "start_time": "2023-03-05T13:53:04.128Z"
   },
   {
    "duration": 16,
    "start_time": "2023-03-05T13:53:04.535Z"
   },
   {
    "duration": 528,
    "start_time": "2023-03-05T13:53:04.553Z"
   },
   {
    "duration": 305,
    "start_time": "2023-03-05T13:53:05.082Z"
   },
   {
    "duration": 186,
    "start_time": "2023-03-05T13:53:05.389Z"
   },
   {
    "duration": 12,
    "start_time": "2023-03-05T13:53:05.577Z"
   },
   {
    "duration": 183,
    "start_time": "2023-03-05T13:53:05.591Z"
   },
   {
    "duration": 150,
    "start_time": "2023-03-05T13:53:05.777Z"
   },
   {
    "duration": 22,
    "start_time": "2023-03-05T13:53:05.928Z"
   },
   {
    "duration": 20,
    "start_time": "2023-03-05T13:53:05.952Z"
   },
   {
    "duration": 218,
    "start_time": "2023-03-05T13:53:05.974Z"
   },
   {
    "duration": 223,
    "start_time": "2023-03-05T13:53:06.194Z"
   },
   {
    "duration": 331,
    "start_time": "2023-03-05T13:53:06.419Z"
   },
   {
    "duration": 227,
    "start_time": "2023-03-05T13:53:06.752Z"
   },
   {
    "duration": 10,
    "start_time": "2023-03-05T13:53:06.981Z"
   },
   {
    "duration": 19,
    "start_time": "2023-03-05T13:53:06.993Z"
   },
   {
    "duration": 21,
    "start_time": "2023-03-05T13:53:07.014Z"
   },
   {
    "duration": 9,
    "start_time": "2023-03-05T13:54:43.082Z"
   },
   {
    "duration": 10,
    "start_time": "2023-03-05T13:54:49.299Z"
   },
   {
    "duration": 26,
    "start_time": "2023-03-05T14:04:00.102Z"
   },
   {
    "duration": 10,
    "start_time": "2023-03-05T14:04:12.894Z"
   },
   {
    "duration": 14,
    "start_time": "2023-03-05T14:04:40.982Z"
   },
   {
    "duration": 25,
    "start_time": "2023-03-05T14:08:58.771Z"
   },
   {
    "duration": 9,
    "start_time": "2023-03-05T14:09:05.661Z"
   },
   {
    "duration": 12,
    "start_time": "2023-03-05T14:09:30.169Z"
   },
   {
    "duration": 1465,
    "start_time": "2023-03-05T21:37:21.739Z"
   },
   {
    "duration": 21,
    "start_time": "2023-03-05T21:37:23.206Z"
   },
   {
    "duration": 12,
    "start_time": "2023-03-05T21:37:23.228Z"
   },
   {
    "duration": 835,
    "start_time": "2023-03-05T21:37:23.242Z"
   },
   {
    "duration": 4,
    "start_time": "2023-03-05T21:37:24.078Z"
   },
   {
    "duration": 13,
    "start_time": "2023-03-05T21:37:24.083Z"
   },
   {
    "duration": 18,
    "start_time": "2023-03-05T21:37:24.097Z"
   },
   {
    "duration": 42,
    "start_time": "2023-03-05T21:37:24.116Z"
   },
   {
    "duration": 20,
    "start_time": "2023-03-05T21:37:24.159Z"
   },
   {
    "duration": 23,
    "start_time": "2023-03-05T21:37:24.182Z"
   },
   {
    "duration": 9,
    "start_time": "2023-03-05T21:37:24.206Z"
   },
   {
    "duration": 21,
    "start_time": "2023-03-05T21:37:24.216Z"
   },
   {
    "duration": 28,
    "start_time": "2023-03-05T21:37:24.239Z"
   },
   {
    "duration": 7,
    "start_time": "2023-03-05T21:37:24.268Z"
   },
   {
    "duration": 18,
    "start_time": "2023-03-05T21:37:24.277Z"
   },
   {
    "duration": 16,
    "start_time": "2023-03-05T21:37:24.297Z"
   },
   {
    "duration": 23,
    "start_time": "2023-03-05T21:37:24.315Z"
   },
   {
    "duration": 310,
    "start_time": "2023-03-05T21:37:24.340Z"
   },
   {
    "duration": 10,
    "start_time": "2023-03-05T21:37:24.651Z"
   },
   {
    "duration": 35,
    "start_time": "2023-03-05T21:37:24.663Z"
   },
   {
    "duration": 331,
    "start_time": "2023-03-05T21:37:24.699Z"
   },
   {
    "duration": 9,
    "start_time": "2023-03-05T21:37:25.032Z"
   },
   {
    "duration": 603,
    "start_time": "2023-03-05T21:37:25.043Z"
   },
   {
    "duration": 291,
    "start_time": "2023-03-05T21:37:25.648Z"
   },
   {
    "duration": 179,
    "start_time": "2023-03-05T21:37:25.941Z"
   },
   {
    "duration": 11,
    "start_time": "2023-03-05T21:37:26.122Z"
   },
   {
    "duration": 171,
    "start_time": "2023-03-05T21:37:26.135Z"
   },
   {
    "duration": 153,
    "start_time": "2023-03-05T21:37:26.309Z"
   },
   {
    "duration": 7,
    "start_time": "2023-03-05T21:37:26.464Z"
   },
   {
    "duration": 21,
    "start_time": "2023-03-05T21:37:26.473Z"
   },
   {
    "duration": 176,
    "start_time": "2023-03-05T21:37:26.495Z"
   },
   {
    "duration": 203,
    "start_time": "2023-03-05T21:37:26.672Z"
   },
   {
    "duration": 297,
    "start_time": "2023-03-05T21:37:26.878Z"
   },
   {
    "duration": 220,
    "start_time": "2023-03-05T21:37:27.178Z"
   },
   {
    "duration": 11,
    "start_time": "2023-03-05T21:37:27.400Z"
   },
   {
    "duration": 11,
    "start_time": "2023-03-05T21:37:27.413Z"
   },
   {
    "duration": 8,
    "start_time": "2023-03-05T21:37:44.892Z"
   },
   {
    "duration": 6,
    "start_time": "2023-03-05T21:38:25.605Z"
   },
   {
    "duration": 4,
    "start_time": "2023-03-05T21:58:58.642Z"
   },
   {
    "duration": 10,
    "start_time": "2023-03-05T21:59:39.155Z"
   },
   {
    "duration": 12,
    "start_time": "2023-03-05T21:59:57.195Z"
   },
   {
    "duration": 10,
    "start_time": "2023-03-05T22:00:35.503Z"
   },
   {
    "duration": 9,
    "start_time": "2023-03-05T22:00:47.748Z"
   },
   {
    "duration": 11,
    "start_time": "2023-03-05T22:02:42.322Z"
   },
   {
    "duration": 89,
    "start_time": "2023-03-05T22:03:55.971Z"
   },
   {
    "duration": 9,
    "start_time": "2023-03-05T22:04:30.889Z"
   },
   {
    "duration": 15,
    "start_time": "2023-03-05T22:04:52.372Z"
   },
   {
    "duration": 203,
    "start_time": "2023-03-05T22:08:57.447Z"
   },
   {
    "duration": 196,
    "start_time": "2023-03-05T22:11:18.468Z"
   },
   {
    "duration": 202,
    "start_time": "2023-03-05T22:12:00.063Z"
   },
   {
    "duration": 286,
    "start_time": "2023-03-05T22:12:21.384Z"
   },
   {
    "duration": 170,
    "start_time": "2023-03-05T22:18:17.392Z"
   },
   {
    "duration": 222,
    "start_time": "2023-03-05T22:19:05.681Z"
   },
   {
    "duration": 173,
    "start_time": "2023-03-05T22:19:16.025Z"
   },
   {
    "duration": 24,
    "start_time": "2023-03-05T22:23:58.188Z"
   },
   {
    "duration": 79,
    "start_time": "2023-03-05T22:24:09.033Z"
   },
   {
    "duration": 27,
    "start_time": "2023-03-05T22:24:09.115Z"
   },
   {
    "duration": 29,
    "start_time": "2023-03-05T22:24:09.145Z"
   },
   {
    "duration": 1229,
    "start_time": "2023-03-05T22:24:09.178Z"
   },
   {
    "duration": 4,
    "start_time": "2023-03-05T22:24:10.409Z"
   },
   {
    "duration": 11,
    "start_time": "2023-03-05T22:24:10.414Z"
   },
   {
    "duration": 31,
    "start_time": "2023-03-05T22:24:10.427Z"
   },
   {
    "duration": 19,
    "start_time": "2023-03-05T22:24:10.461Z"
   },
   {
    "duration": 19,
    "start_time": "2023-03-05T22:24:10.483Z"
   },
   {
    "duration": 10,
    "start_time": "2023-03-05T22:24:10.506Z"
   },
   {
    "duration": 5,
    "start_time": "2023-03-05T22:24:10.517Z"
   },
   {
    "duration": 31,
    "start_time": "2023-03-05T22:24:10.524Z"
   },
   {
    "duration": 24,
    "start_time": "2023-03-05T22:24:10.557Z"
   },
   {
    "duration": 8,
    "start_time": "2023-03-05T22:24:10.583Z"
   },
   {
    "duration": 5,
    "start_time": "2023-03-05T22:24:10.593Z"
   },
   {
    "duration": 15,
    "start_time": "2023-03-05T22:24:10.599Z"
   },
   {
    "duration": 17,
    "start_time": "2023-03-05T22:24:10.616Z"
   },
   {
    "duration": 22,
    "start_time": "2023-03-05T22:24:10.635Z"
   },
   {
    "duration": 337,
    "start_time": "2023-03-05T22:24:10.659Z"
   },
   {
    "duration": 8,
    "start_time": "2023-03-05T22:24:10.998Z"
   },
   {
    "duration": 13,
    "start_time": "2023-03-05T22:24:11.008Z"
   },
   {
    "duration": 314,
    "start_time": "2023-03-05T22:24:11.023Z"
   },
   {
    "duration": 18,
    "start_time": "2023-03-05T22:24:11.338Z"
   },
   {
    "duration": 631,
    "start_time": "2023-03-05T22:24:11.358Z"
   },
   {
    "duration": 377,
    "start_time": "2023-03-05T22:24:11.991Z"
   },
   {
    "duration": 210,
    "start_time": "2023-03-05T22:24:12.370Z"
   },
   {
    "duration": 227,
    "start_time": "2023-03-05T22:24:12.582Z"
   },
   {
    "duration": 13,
    "start_time": "2023-03-05T22:24:12.812Z"
   },
   {
    "duration": 189,
    "start_time": "2023-03-05T22:24:12.827Z"
   },
   {
    "duration": 182,
    "start_time": "2023-03-05T22:24:13.018Z"
   },
   {
    "duration": 9,
    "start_time": "2023-03-05T22:24:13.203Z"
   },
   {
    "duration": 17,
    "start_time": "2023-03-05T22:24:13.213Z"
   },
   {
    "duration": 217,
    "start_time": "2023-03-05T22:24:13.232Z"
   },
   {
    "duration": 21,
    "start_time": "2023-03-05T22:24:13.451Z"
   },
   {
    "duration": 0,
    "start_time": "2023-03-05T22:24:13.474Z"
   },
   {
    "duration": 0,
    "start_time": "2023-03-05T22:24:13.475Z"
   },
   {
    "duration": 0,
    "start_time": "2023-03-05T22:24:13.476Z"
   },
   {
    "duration": 0,
    "start_time": "2023-03-05T22:24:13.477Z"
   },
   {
    "duration": 0,
    "start_time": "2023-03-05T22:24:13.479Z"
   },
   {
    "duration": 22,
    "start_time": "2023-03-05T22:24:57.206Z"
   },
   {
    "duration": 4,
    "start_time": "2023-03-05T22:25:28.345Z"
   },
   {
    "duration": 24,
    "start_time": "2023-03-05T22:26:55.622Z"
   },
   {
    "duration": 303,
    "start_time": "2023-03-05T22:27:19.253Z"
   },
   {
    "duration": 16,
    "start_time": "2023-03-05T22:28:35.285Z"
   },
   {
    "duration": 4,
    "start_time": "2023-03-05T22:28:56.172Z"
   },
   {
    "duration": 10,
    "start_time": "2023-03-05T22:29:06.485Z"
   },
   {
    "duration": 416,
    "start_time": "2023-03-05T22:30:47.053Z"
   },
   {
    "duration": 288,
    "start_time": "2023-03-05T22:30:58.098Z"
   },
   {
    "duration": 296,
    "start_time": "2023-03-05T22:31:55.307Z"
   },
   {
    "duration": 272,
    "start_time": "2023-03-05T22:34:48.605Z"
   },
   {
    "duration": 56,
    "start_time": "2023-03-11T19:22:42.887Z"
   },
   {
    "duration": 1782,
    "start_time": "2023-03-11T19:22:48.410Z"
   },
   {
    "duration": 25,
    "start_time": "2023-03-11T19:22:50.194Z"
   },
   {
    "duration": 20,
    "start_time": "2023-03-11T19:22:50.221Z"
   },
   {
    "duration": 1198,
    "start_time": "2023-03-11T19:22:50.243Z"
   },
   {
    "duration": 12,
    "start_time": "2023-03-11T19:22:51.443Z"
   },
   {
    "duration": 19,
    "start_time": "2023-03-11T19:22:51.457Z"
   },
   {
    "duration": 13,
    "start_time": "2023-03-11T19:22:51.478Z"
   },
   {
    "duration": 19,
    "start_time": "2023-03-11T19:22:51.493Z"
   },
   {
    "duration": 10,
    "start_time": "2023-03-11T19:22:51.514Z"
   },
   {
    "duration": 14,
    "start_time": "2023-03-11T19:22:51.553Z"
   },
   {
    "duration": 6,
    "start_time": "2023-03-11T19:22:51.570Z"
   },
   {
    "duration": 10,
    "start_time": "2023-03-11T19:22:51.578Z"
   },
   {
    "duration": 21,
    "start_time": "2023-03-11T19:22:51.590Z"
   },
   {
    "duration": 42,
    "start_time": "2023-03-11T19:22:51.612Z"
   },
   {
    "duration": 5,
    "start_time": "2023-03-11T19:22:51.656Z"
   },
   {
    "duration": 15,
    "start_time": "2023-03-11T19:22:51.663Z"
   },
   {
    "duration": 8,
    "start_time": "2023-03-11T19:22:51.680Z"
   },
   {
    "duration": 10,
    "start_time": "2023-03-11T19:22:51.690Z"
   },
   {
    "duration": 406,
    "start_time": "2023-03-11T19:22:51.702Z"
   },
   {
    "duration": 8,
    "start_time": "2023-03-11T19:22:52.110Z"
   },
   {
    "duration": 4,
    "start_time": "2023-03-11T19:22:52.119Z"
   },
   {
    "duration": 448,
    "start_time": "2023-03-11T19:22:52.125Z"
   },
   {
    "duration": 12,
    "start_time": "2023-03-11T19:22:52.575Z"
   },
   {
    "duration": 667,
    "start_time": "2023-03-11T19:22:52.589Z"
   },
   {
    "duration": 413,
    "start_time": "2023-03-11T19:22:53.258Z"
   },
   {
    "duration": 238,
    "start_time": "2023-03-11T19:22:53.673Z"
   },
   {
    "duration": 276,
    "start_time": "2023-03-11T19:22:53.914Z"
   },
   {
    "duration": 17,
    "start_time": "2023-03-11T19:22:54.195Z"
   },
   {
    "duration": 215,
    "start_time": "2023-03-11T19:22:54.214Z"
   },
   {
    "duration": 186,
    "start_time": "2023-03-11T19:22:54.431Z"
   },
   {
    "duration": 9,
    "start_time": "2023-03-11T19:22:54.619Z"
   },
   {
    "duration": 30,
    "start_time": "2023-03-11T19:22:54.630Z"
   },
   {
    "duration": 225,
    "start_time": "2023-03-11T19:22:54.662Z"
   },
   {
    "duration": 446,
    "start_time": "2023-03-11T19:22:54.889Z"
   },
   {
    "duration": 257,
    "start_time": "2023-03-11T19:22:55.337Z"
   },
   {
    "duration": 232,
    "start_time": "2023-03-11T19:22:55.595Z"
   },
   {
    "duration": 257,
    "start_time": "2023-03-11T19:22:55.829Z"
   },
   {
    "duration": 13,
    "start_time": "2023-03-11T19:22:56.088Z"
   },
   {
    "duration": 12,
    "start_time": "2023-03-11T19:22:56.102Z"
   },
   {
    "duration": 2301,
    "start_time": "2023-07-11T15:49:05.797Z"
   },
   {
    "duration": 51,
    "start_time": "2023-07-11T15:49:08.106Z"
   },
   {
    "duration": 90,
    "start_time": "2023-07-11T15:49:08.161Z"
   },
   {
    "duration": 1401,
    "start_time": "2023-07-11T15:49:08.252Z"
   },
   {
    "duration": 46,
    "start_time": "2023-07-11T15:49:09.654Z"
   }
  ],
  "kernelspec": {
   "display_name": "Python 3 (ipykernel)",
   "language": "python",
   "name": "python3"
  },
  "language_info": {
   "codemirror_mode": {
    "name": "ipython",
    "version": 3
   },
   "file_extension": ".py",
   "mimetype": "text/x-python",
   "name": "python",
   "nbconvert_exporter": "python",
   "pygments_lexer": "ipython3",
   "version": "3.10.9"
  },
  "toc": {
   "base_numbering": 1,
   "nav_menu": {},
   "number_sections": true,
   "sideBar": true,
   "skip_h1_title": true,
   "title_cell": "Table of Contents",
   "title_sidebar": "Contents",
   "toc_cell": false,
   "toc_position": {},
   "toc_section_display": true,
   "toc_window_display": false
  }
 },
 "nbformat": 4,
 "nbformat_minor": 2
}
