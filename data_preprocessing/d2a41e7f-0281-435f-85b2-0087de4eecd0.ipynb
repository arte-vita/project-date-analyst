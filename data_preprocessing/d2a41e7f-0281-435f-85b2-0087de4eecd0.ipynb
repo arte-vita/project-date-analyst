{
 "cells": [
  {
   "cell_type": "markdown",
   "id": "386f2ae7",
   "metadata": {
    "deletable": false,
    "editable": false,
    "id": "386f2ae7"
   },
   "source": [
    "# Исследование надежности заемщиков\n"
   ]
  },
  {
   "cell_type": "markdown",
   "id": "ffe86f65",
   "metadata": {
    "deletable": false,
    "editable": false,
    "id": "ffe86f65"
   },
   "source": [
    "Во второй части проекта вы выполните шаги 3 и 4. Их вручную проверит ревьюер.\n",
    "Чтобы вам не пришлось писать код заново для шагов 1 и 2, мы добавили авторские решения в ячейки с кодом. \n",
    "\n"
   ]
  },
  {
   "cell_type": "markdown",
   "id": "26613308",
   "metadata": {
    "deletable": false,
    "editable": false,
    "id": "26613308"
   },
   "source": [
    "## Откройте таблицу и изучите общую информацию о данных"
   ]
  },
  {
   "cell_type": "markdown",
   "id": "3c9f838e",
   "metadata": {
    "deletable": false,
    "editable": false,
    "id": "3c9f838e"
   },
   "source": [
    "**Задание 1. Импортируйте библиотеку pandas. Считайте данные из csv-файла в датафрейм и сохраните в переменную `data`. Путь к файлу:**\n",
    "\n",
    "`/datasets/data.csv`"
   ]
  },
  {
   "cell_type": "code",
   "execution_count": 44,
   "id": "77a68a90",
   "metadata": {
    "deletable": false,
    "id": "77a68a90"
   },
   "outputs": [],
   "source": [
    "import pandas as pd\n",
    "\n",
    "try:\n",
    "    data = pd.read_csv('/datasets/data.csv')\n",
    "except:\n",
    "    data = pd.read_csv('https://code.s3.yandex.net/datasets/data.csv')"
   ]
  },
  {
   "cell_type": "markdown",
   "id": "45365635",
   "metadata": {
    "deletable": false,
    "editable": false,
    "id": "45365635"
   },
   "source": [
    "**Задание 2. Выведите первые 20 строчек датафрейма `data` на экран.**"
   ]
  },
  {
   "cell_type": "code",
   "execution_count": 45,
   "id": "b0451a9a",
   "metadata": {
    "deletable": false,
    "id": "b0451a9a",
    "outputId": "1a8f3ef2-d323-4ec2-ddf7-89670b5944c4"
   },
   "outputs": [
    {
     "data": {
      "text/html": [
       "<div>\n",
       "<style scoped>\n",
       "    .dataframe tbody tr th:only-of-type {\n",
       "        vertical-align: middle;\n",
       "    }\n",
       "\n",
       "    .dataframe tbody tr th {\n",
       "        vertical-align: top;\n",
       "    }\n",
       "\n",
       "    .dataframe thead th {\n",
       "        text-align: right;\n",
       "    }\n",
       "</style>\n",
       "<table border=\"1\" class=\"dataframe\">\n",
       "  <thead>\n",
       "    <tr style=\"text-align: right;\">\n",
       "      <th></th>\n",
       "      <th>children</th>\n",
       "      <th>days_employed</th>\n",
       "      <th>dob_years</th>\n",
       "      <th>education</th>\n",
       "      <th>education_id</th>\n",
       "      <th>family_status</th>\n",
       "      <th>family_status_id</th>\n",
       "      <th>gender</th>\n",
       "      <th>income_type</th>\n",
       "      <th>debt</th>\n",
       "      <th>total_income</th>\n",
       "      <th>purpose</th>\n",
       "    </tr>\n",
       "  </thead>\n",
       "  <tbody>\n",
       "    <tr>\n",
       "      <th>0</th>\n",
       "      <td>1</td>\n",
       "      <td>-8437.673028</td>\n",
       "      <td>42</td>\n",
       "      <td>высшее</td>\n",
       "      <td>0</td>\n",
       "      <td>женат / замужем</td>\n",
       "      <td>0</td>\n",
       "      <td>F</td>\n",
       "      <td>сотрудник</td>\n",
       "      <td>0</td>\n",
       "      <td>253875.639453</td>\n",
       "      <td>покупка жилья</td>\n",
       "    </tr>\n",
       "    <tr>\n",
       "      <th>1</th>\n",
       "      <td>1</td>\n",
       "      <td>-4024.803754</td>\n",
       "      <td>36</td>\n",
       "      <td>среднее</td>\n",
       "      <td>1</td>\n",
       "      <td>женат / замужем</td>\n",
       "      <td>0</td>\n",
       "      <td>F</td>\n",
       "      <td>сотрудник</td>\n",
       "      <td>0</td>\n",
       "      <td>112080.014102</td>\n",
       "      <td>приобретение автомобиля</td>\n",
       "    </tr>\n",
       "    <tr>\n",
       "      <th>2</th>\n",
       "      <td>0</td>\n",
       "      <td>-5623.422610</td>\n",
       "      <td>33</td>\n",
       "      <td>Среднее</td>\n",
       "      <td>1</td>\n",
       "      <td>женат / замужем</td>\n",
       "      <td>0</td>\n",
       "      <td>M</td>\n",
       "      <td>сотрудник</td>\n",
       "      <td>0</td>\n",
       "      <td>145885.952297</td>\n",
       "      <td>покупка жилья</td>\n",
       "    </tr>\n",
       "    <tr>\n",
       "      <th>3</th>\n",
       "      <td>3</td>\n",
       "      <td>-4124.747207</td>\n",
       "      <td>32</td>\n",
       "      <td>среднее</td>\n",
       "      <td>1</td>\n",
       "      <td>женат / замужем</td>\n",
       "      <td>0</td>\n",
       "      <td>M</td>\n",
       "      <td>сотрудник</td>\n",
       "      <td>0</td>\n",
       "      <td>267628.550329</td>\n",
       "      <td>дополнительное образование</td>\n",
       "    </tr>\n",
       "    <tr>\n",
       "      <th>4</th>\n",
       "      <td>0</td>\n",
       "      <td>340266.072047</td>\n",
       "      <td>53</td>\n",
       "      <td>среднее</td>\n",
       "      <td>1</td>\n",
       "      <td>гражданский брак</td>\n",
       "      <td>1</td>\n",
       "      <td>F</td>\n",
       "      <td>пенсионер</td>\n",
       "      <td>0</td>\n",
       "      <td>158616.077870</td>\n",
       "      <td>сыграть свадьбу</td>\n",
       "    </tr>\n",
       "    <tr>\n",
       "      <th>5</th>\n",
       "      <td>0</td>\n",
       "      <td>-926.185831</td>\n",
       "      <td>27</td>\n",
       "      <td>высшее</td>\n",
       "      <td>0</td>\n",
       "      <td>гражданский брак</td>\n",
       "      <td>1</td>\n",
       "      <td>M</td>\n",
       "      <td>компаньон</td>\n",
       "      <td>0</td>\n",
       "      <td>255763.565419</td>\n",
       "      <td>покупка жилья</td>\n",
       "    </tr>\n",
       "    <tr>\n",
       "      <th>6</th>\n",
       "      <td>0</td>\n",
       "      <td>-2879.202052</td>\n",
       "      <td>43</td>\n",
       "      <td>высшее</td>\n",
       "      <td>0</td>\n",
       "      <td>женат / замужем</td>\n",
       "      <td>0</td>\n",
       "      <td>F</td>\n",
       "      <td>компаньон</td>\n",
       "      <td>0</td>\n",
       "      <td>240525.971920</td>\n",
       "      <td>операции с жильем</td>\n",
       "    </tr>\n",
       "    <tr>\n",
       "      <th>7</th>\n",
       "      <td>0</td>\n",
       "      <td>-152.779569</td>\n",
       "      <td>50</td>\n",
       "      <td>СРЕДНЕЕ</td>\n",
       "      <td>1</td>\n",
       "      <td>женат / замужем</td>\n",
       "      <td>0</td>\n",
       "      <td>M</td>\n",
       "      <td>сотрудник</td>\n",
       "      <td>0</td>\n",
       "      <td>135823.934197</td>\n",
       "      <td>образование</td>\n",
       "    </tr>\n",
       "    <tr>\n",
       "      <th>8</th>\n",
       "      <td>2</td>\n",
       "      <td>-6929.865299</td>\n",
       "      <td>35</td>\n",
       "      <td>ВЫСШЕЕ</td>\n",
       "      <td>0</td>\n",
       "      <td>гражданский брак</td>\n",
       "      <td>1</td>\n",
       "      <td>F</td>\n",
       "      <td>сотрудник</td>\n",
       "      <td>0</td>\n",
       "      <td>95856.832424</td>\n",
       "      <td>на проведение свадьбы</td>\n",
       "    </tr>\n",
       "    <tr>\n",
       "      <th>9</th>\n",
       "      <td>0</td>\n",
       "      <td>-2188.756445</td>\n",
       "      <td>41</td>\n",
       "      <td>среднее</td>\n",
       "      <td>1</td>\n",
       "      <td>женат / замужем</td>\n",
       "      <td>0</td>\n",
       "      <td>M</td>\n",
       "      <td>сотрудник</td>\n",
       "      <td>0</td>\n",
       "      <td>144425.938277</td>\n",
       "      <td>покупка жилья для семьи</td>\n",
       "    </tr>\n",
       "    <tr>\n",
       "      <th>10</th>\n",
       "      <td>2</td>\n",
       "      <td>-4171.483647</td>\n",
       "      <td>36</td>\n",
       "      <td>высшее</td>\n",
       "      <td>0</td>\n",
       "      <td>женат / замужем</td>\n",
       "      <td>0</td>\n",
       "      <td>M</td>\n",
       "      <td>компаньон</td>\n",
       "      <td>0</td>\n",
       "      <td>113943.491460</td>\n",
       "      <td>покупка недвижимости</td>\n",
       "    </tr>\n",
       "    <tr>\n",
       "      <th>11</th>\n",
       "      <td>0</td>\n",
       "      <td>-792.701887</td>\n",
       "      <td>40</td>\n",
       "      <td>среднее</td>\n",
       "      <td>1</td>\n",
       "      <td>женат / замужем</td>\n",
       "      <td>0</td>\n",
       "      <td>F</td>\n",
       "      <td>сотрудник</td>\n",
       "      <td>0</td>\n",
       "      <td>77069.234271</td>\n",
       "      <td>покупка коммерческой недвижимости</td>\n",
       "    </tr>\n",
       "    <tr>\n",
       "      <th>12</th>\n",
       "      <td>0</td>\n",
       "      <td>NaN</td>\n",
       "      <td>65</td>\n",
       "      <td>среднее</td>\n",
       "      <td>1</td>\n",
       "      <td>гражданский брак</td>\n",
       "      <td>1</td>\n",
       "      <td>M</td>\n",
       "      <td>пенсионер</td>\n",
       "      <td>0</td>\n",
       "      <td>NaN</td>\n",
       "      <td>сыграть свадьбу</td>\n",
       "    </tr>\n",
       "    <tr>\n",
       "      <th>13</th>\n",
       "      <td>0</td>\n",
       "      <td>-1846.641941</td>\n",
       "      <td>54</td>\n",
       "      <td>неоконченное высшее</td>\n",
       "      <td>2</td>\n",
       "      <td>женат / замужем</td>\n",
       "      <td>0</td>\n",
       "      <td>F</td>\n",
       "      <td>сотрудник</td>\n",
       "      <td>0</td>\n",
       "      <td>130458.228857</td>\n",
       "      <td>приобретение автомобиля</td>\n",
       "    </tr>\n",
       "    <tr>\n",
       "      <th>14</th>\n",
       "      <td>0</td>\n",
       "      <td>-1844.956182</td>\n",
       "      <td>56</td>\n",
       "      <td>высшее</td>\n",
       "      <td>0</td>\n",
       "      <td>гражданский брак</td>\n",
       "      <td>1</td>\n",
       "      <td>F</td>\n",
       "      <td>компаньон</td>\n",
       "      <td>1</td>\n",
       "      <td>165127.911772</td>\n",
       "      <td>покупка жилой недвижимости</td>\n",
       "    </tr>\n",
       "    <tr>\n",
       "      <th>15</th>\n",
       "      <td>1</td>\n",
       "      <td>-972.364419</td>\n",
       "      <td>26</td>\n",
       "      <td>среднее</td>\n",
       "      <td>1</td>\n",
       "      <td>женат / замужем</td>\n",
       "      <td>0</td>\n",
       "      <td>F</td>\n",
       "      <td>сотрудник</td>\n",
       "      <td>0</td>\n",
       "      <td>116820.904450</td>\n",
       "      <td>строительство собственной недвижимости</td>\n",
       "    </tr>\n",
       "    <tr>\n",
       "      <th>16</th>\n",
       "      <td>0</td>\n",
       "      <td>-1719.934226</td>\n",
       "      <td>35</td>\n",
       "      <td>среднее</td>\n",
       "      <td>1</td>\n",
       "      <td>женат / замужем</td>\n",
       "      <td>0</td>\n",
       "      <td>F</td>\n",
       "      <td>сотрудник</td>\n",
       "      <td>0</td>\n",
       "      <td>289202.704229</td>\n",
       "      <td>недвижимость</td>\n",
       "    </tr>\n",
       "    <tr>\n",
       "      <th>17</th>\n",
       "      <td>0</td>\n",
       "      <td>-2369.999720</td>\n",
       "      <td>33</td>\n",
       "      <td>высшее</td>\n",
       "      <td>0</td>\n",
       "      <td>гражданский брак</td>\n",
       "      <td>1</td>\n",
       "      <td>M</td>\n",
       "      <td>сотрудник</td>\n",
       "      <td>0</td>\n",
       "      <td>90410.586745</td>\n",
       "      <td>строительство недвижимости</td>\n",
       "    </tr>\n",
       "    <tr>\n",
       "      <th>18</th>\n",
       "      <td>0</td>\n",
       "      <td>400281.136913</td>\n",
       "      <td>53</td>\n",
       "      <td>среднее</td>\n",
       "      <td>1</td>\n",
       "      <td>вдовец / вдова</td>\n",
       "      <td>2</td>\n",
       "      <td>F</td>\n",
       "      <td>пенсионер</td>\n",
       "      <td>0</td>\n",
       "      <td>56823.777243</td>\n",
       "      <td>на покупку подержанного автомобиля</td>\n",
       "    </tr>\n",
       "    <tr>\n",
       "      <th>19</th>\n",
       "      <td>0</td>\n",
       "      <td>-10038.818549</td>\n",
       "      <td>48</td>\n",
       "      <td>СРЕДНЕЕ</td>\n",
       "      <td>1</td>\n",
       "      <td>в разводе</td>\n",
       "      <td>3</td>\n",
       "      <td>F</td>\n",
       "      <td>сотрудник</td>\n",
       "      <td>0</td>\n",
       "      <td>242831.107982</td>\n",
       "      <td>на покупку своего автомобиля</td>\n",
       "    </tr>\n",
       "  </tbody>\n",
       "</table>\n",
       "</div>"
      ],
      "text/plain": [
       "    children  days_employed  dob_years            education  education_id  \\\n",
       "0          1   -8437.673028         42               высшее             0   \n",
       "1          1   -4024.803754         36              среднее             1   \n",
       "2          0   -5623.422610         33              Среднее             1   \n",
       "3          3   -4124.747207         32              среднее             1   \n",
       "4          0  340266.072047         53              среднее             1   \n",
       "5          0    -926.185831         27               высшее             0   \n",
       "6          0   -2879.202052         43               высшее             0   \n",
       "7          0    -152.779569         50              СРЕДНЕЕ             1   \n",
       "8          2   -6929.865299         35               ВЫСШЕЕ             0   \n",
       "9          0   -2188.756445         41              среднее             1   \n",
       "10         2   -4171.483647         36               высшее             0   \n",
       "11         0    -792.701887         40              среднее             1   \n",
       "12         0            NaN         65              среднее             1   \n",
       "13         0   -1846.641941         54  неоконченное высшее             2   \n",
       "14         0   -1844.956182         56               высшее             0   \n",
       "15         1    -972.364419         26              среднее             1   \n",
       "16         0   -1719.934226         35              среднее             1   \n",
       "17         0   -2369.999720         33               высшее             0   \n",
       "18         0  400281.136913         53              среднее             1   \n",
       "19         0  -10038.818549         48              СРЕДНЕЕ             1   \n",
       "\n",
       "       family_status  family_status_id gender income_type  debt  \\\n",
       "0    женат / замужем                 0      F   сотрудник     0   \n",
       "1    женат / замужем                 0      F   сотрудник     0   \n",
       "2    женат / замужем                 0      M   сотрудник     0   \n",
       "3    женат / замужем                 0      M   сотрудник     0   \n",
       "4   гражданский брак                 1      F   пенсионер     0   \n",
       "5   гражданский брак                 1      M   компаньон     0   \n",
       "6    женат / замужем                 0      F   компаньон     0   \n",
       "7    женат / замужем                 0      M   сотрудник     0   \n",
       "8   гражданский брак                 1      F   сотрудник     0   \n",
       "9    женат / замужем                 0      M   сотрудник     0   \n",
       "10   женат / замужем                 0      M   компаньон     0   \n",
       "11   женат / замужем                 0      F   сотрудник     0   \n",
       "12  гражданский брак                 1      M   пенсионер     0   \n",
       "13   женат / замужем                 0      F   сотрудник     0   \n",
       "14  гражданский брак                 1      F   компаньон     1   \n",
       "15   женат / замужем                 0      F   сотрудник     0   \n",
       "16   женат / замужем                 0      F   сотрудник     0   \n",
       "17  гражданский брак                 1      M   сотрудник     0   \n",
       "18    вдовец / вдова                 2      F   пенсионер     0   \n",
       "19         в разводе                 3      F   сотрудник     0   \n",
       "\n",
       "     total_income                                 purpose  \n",
       "0   253875.639453                           покупка жилья  \n",
       "1   112080.014102                 приобретение автомобиля  \n",
       "2   145885.952297                           покупка жилья  \n",
       "3   267628.550329              дополнительное образование  \n",
       "4   158616.077870                         сыграть свадьбу  \n",
       "5   255763.565419                           покупка жилья  \n",
       "6   240525.971920                       операции с жильем  \n",
       "7   135823.934197                             образование  \n",
       "8    95856.832424                   на проведение свадьбы  \n",
       "9   144425.938277                 покупка жилья для семьи  \n",
       "10  113943.491460                    покупка недвижимости  \n",
       "11   77069.234271       покупка коммерческой недвижимости  \n",
       "12            NaN                         сыграть свадьбу  \n",
       "13  130458.228857                 приобретение автомобиля  \n",
       "14  165127.911772              покупка жилой недвижимости  \n",
       "15  116820.904450  строительство собственной недвижимости  \n",
       "16  289202.704229                            недвижимость  \n",
       "17   90410.586745              строительство недвижимости  \n",
       "18   56823.777243      на покупку подержанного автомобиля  \n",
       "19  242831.107982            на покупку своего автомобиля  "
      ]
     },
     "execution_count": 45,
     "metadata": {},
     "output_type": "execute_result"
    }
   ],
   "source": [
    "data.head(20)"
   ]
  },
  {
   "cell_type": "markdown",
   "id": "0ed8f27f",
   "metadata": {
    "deletable": false,
    "editable": false,
    "id": "0ed8f27f"
   },
   "source": [
    "**Задание 3. Выведите основную информацию о датафрейме с помощью метода `info()`.**"
   ]
  },
  {
   "cell_type": "code",
   "execution_count": 46,
   "id": "ab3f863b",
   "metadata": {
    "deletable": false,
    "id": "ab3f863b",
    "outputId": "15376089-8dad-46c9-b520-c05248d43158"
   },
   "outputs": [
    {
     "name": "stdout",
     "output_type": "stream",
     "text": [
      "<class 'pandas.core.frame.DataFrame'>\n",
      "RangeIndex: 21525 entries, 0 to 21524\n",
      "Data columns (total 12 columns):\n",
      " #   Column            Non-Null Count  Dtype  \n",
      "---  ------            --------------  -----  \n",
      " 0   children          21525 non-null  int64  \n",
      " 1   days_employed     19351 non-null  float64\n",
      " 2   dob_years         21525 non-null  int64  \n",
      " 3   education         21525 non-null  object \n",
      " 4   education_id      21525 non-null  int64  \n",
      " 5   family_status     21525 non-null  object \n",
      " 6   family_status_id  21525 non-null  int64  \n",
      " 7   gender            21525 non-null  object \n",
      " 8   income_type       21525 non-null  object \n",
      " 9   debt              21525 non-null  int64  \n",
      " 10  total_income      19351 non-null  float64\n",
      " 11  purpose           21525 non-null  object \n",
      "dtypes: float64(2), int64(5), object(5)\n",
      "memory usage: 2.0+ MB\n"
     ]
    }
   ],
   "source": [
    "data.info()"
   ]
  },
  {
   "cell_type": "markdown",
   "id": "60e3e22d",
   "metadata": {
    "deletable": false,
    "editable": false,
    "id": "60e3e22d"
   },
   "source": [
    "## Предобработка данных"
   ]
  },
  {
   "cell_type": "markdown",
   "id": "03dc170c",
   "metadata": {
    "deletable": false,
    "editable": false,
    "id": "03dc170c"
   },
   "source": [
    "### Удаление пропусков"
   ]
  },
  {
   "cell_type": "markdown",
   "id": "a4f54eef",
   "metadata": {
    "deletable": false,
    "editable": false,
    "id": "a4f54eef"
   },
   "source": [
    "**Задание 4. Выведите количество пропущенных значений для каждого столбца. Используйте комбинацию двух методов.**"
   ]
  },
  {
   "cell_type": "code",
   "execution_count": 47,
   "id": "2dc372b2",
   "metadata": {
    "deletable": false,
    "id": "2dc372b2",
    "outputId": "81f4d817-781c-465c-ed15-91ce4446810d"
   },
   "outputs": [
    {
     "data": {
      "text/plain": [
       "children               0\n",
       "days_employed       2174\n",
       "dob_years              0\n",
       "education              0\n",
       "education_id           0\n",
       "family_status          0\n",
       "family_status_id       0\n",
       "gender                 0\n",
       "income_type            0\n",
       "debt                   0\n",
       "total_income        2174\n",
       "purpose                0\n",
       "dtype: int64"
      ]
     },
     "execution_count": 47,
     "metadata": {},
     "output_type": "execute_result"
    }
   ],
   "source": [
    "data.isna().sum()"
   ]
  },
  {
   "cell_type": "markdown",
   "id": "14f011b1",
   "metadata": {
    "deletable": false,
    "editable": false,
    "id": "14f011b1"
   },
   "source": [
    "**Задание 5. В двух столбцах есть пропущенные значения. Один из них — `days_employed`. Пропуски в этом столбце вы обработаете на следующем этапе. Другой столбец с пропущенными значениями — `total_income` — хранит данные о доходах. На сумму дохода сильнее всего влияет тип занятости, поэтому заполнить пропуски в этом столбце нужно медианным значением по каждому типу из столбца `income_type`. Например, у человека с типом занятости `сотрудник` пропуск в столбце `total_income` должен быть заполнен медианным доходом среди всех записей с тем же типом.**"
   ]
  },
  {
   "cell_type": "code",
   "execution_count": 48,
   "id": "bdabfb6e",
   "metadata": {
    "deletable": false,
    "id": "bdabfb6e"
   },
   "outputs": [],
   "source": [
    "for t in data['income_type'].unique():\n",
    "    data.loc[(data['income_type'] == t) & (data['total_income'].isna()), 'total_income'] = \\\n",
    "    data.loc[(data['income_type'] == t), 'total_income'].median()"
   ]
  },
  {
   "cell_type": "markdown",
   "id": "5be34059",
   "metadata": {
    "deletable": false,
    "editable": false,
    "id": "5be34059"
   },
   "source": [
    "### Обработка аномальных значений"
   ]
  },
  {
   "cell_type": "markdown",
   "id": "a87606cb",
   "metadata": {
    "deletable": false,
    "editable": false,
    "id": "a87606cb"
   },
   "source": [
    "**Задание 6. В данных могут встречаться артефакты (аномалии) — значения, которые не отражают действительность и появились по какой-то ошибке. таким артефактом будет отрицательное количество дней трудового стажа в столбце `days_employed`. Для реальных данных это нормально. Обработайте значения в этом столбце: замените все отрицательные значения положительными с помощью метода `abs()`.**"
   ]
  },
  {
   "cell_type": "code",
   "execution_count": 49,
   "id": "020c46cc",
   "metadata": {
    "deletable": false,
    "id": "020c46cc"
   },
   "outputs": [],
   "source": [
    "data['days_employed'] = data['days_employed'].abs()"
   ]
  },
  {
   "cell_type": "markdown",
   "id": "45538a3a",
   "metadata": {
    "deletable": false,
    "editable": false,
    "id": "45538a3a"
   },
   "source": [
    "**Задание 7. Для каждого типа занятости выведите медианное значение трудового стажа `days_employed` в днях.**"
   ]
  },
  {
   "cell_type": "code",
   "execution_count": 50,
   "id": "cd3e6328",
   "metadata": {
    "deletable": false,
    "id": "cd3e6328",
    "outputId": "801ef80e-522b-4668-f34e-565af7432bcf"
   },
   "outputs": [
    {
     "data": {
      "text/plain": [
       "income_type\n",
       "безработный        366413.652744\n",
       "в декрете            3296.759962\n",
       "госслужащий          2689.368353\n",
       "компаньон            1547.382223\n",
       "пенсионер          365213.306266\n",
       "предприниматель       520.848083\n",
       "сотрудник            1574.202821\n",
       "студент               578.751554\n",
       "Name: days_employed, dtype: float64"
      ]
     },
     "execution_count": 50,
     "metadata": {},
     "output_type": "execute_result"
    }
   ],
   "source": [
    "data.groupby('income_type')['days_employed'].agg('median')"
   ]
  },
  {
   "cell_type": "markdown",
   "id": "90c5f058",
   "metadata": {
    "deletable": false,
    "editable": false,
    "id": "90c5f058"
   },
   "source": [
    "У двух типов (безработные и пенсионеры) получатся аномально большие значения. Исправить такие значения сложно, поэтому оставьте их как есть."
   ]
  },
  {
   "cell_type": "markdown",
   "id": "9652e50d",
   "metadata": {
    "deletable": false,
    "editable": false,
    "id": "9652e50d"
   },
   "source": [
    "**Задание 8. Выведите перечень уникальных значений столбца `children`.**"
   ]
  },
  {
   "cell_type": "code",
   "execution_count": 51,
   "id": "dbb37b8e",
   "metadata": {
    "deletable": false,
    "id": "dbb37b8e",
    "outputId": "6975b15c-7f95-4697-d16d-a0c79b657b03"
   },
   "outputs": [
    {
     "data": {
      "text/plain": [
       "array([ 1,  0,  3,  2, -1,  4, 20,  5])"
      ]
     },
     "execution_count": 51,
     "metadata": {},
     "output_type": "execute_result"
    }
   ],
   "source": [
    "data['children'].unique()"
   ]
  },
  {
   "cell_type": "markdown",
   "id": "2b8b0715",
   "metadata": {
    "deletable": false,
    "editable": false,
    "id": "2b8b0715"
   },
   "source": [
    "**Задание 9. В столбце `children` есть два аномальных значения. Удалите строки, в которых встречаются такие аномальные значения из датафрейма `data`.**"
   ]
  },
  {
   "cell_type": "code",
   "execution_count": 52,
   "id": "20009df8",
   "metadata": {
    "deletable": false,
    "id": "20009df8"
   },
   "outputs": [],
   "source": [
    "data = data[(data['children'] != -1) & (data['children'] != 20)]"
   ]
  },
  {
   "cell_type": "markdown",
   "id": "8c6ac9f1",
   "metadata": {
    "deletable": false,
    "editable": false,
    "id": "8c6ac9f1"
   },
   "source": [
    "**Задание 10. Ещё раз выведите перечень уникальных значений столбца `children`, чтобы убедиться, что артефакты удалены.**"
   ]
  },
  {
   "cell_type": "code",
   "execution_count": 53,
   "id": "07337b81",
   "metadata": {
    "deletable": false,
    "id": "07337b81",
    "outputId": "b2097101-d49d-44d9-901b-32a65c9463d1"
   },
   "outputs": [
    {
     "data": {
      "text/plain": [
       "array([1, 0, 3, 2, 4, 5])"
      ]
     },
     "execution_count": 53,
     "metadata": {},
     "output_type": "execute_result"
    }
   ],
   "source": [
    "data['children'].unique()"
   ]
  },
  {
   "cell_type": "markdown",
   "id": "ee3f52d4",
   "metadata": {
    "deletable": false,
    "editable": false,
    "id": "ee3f52d4"
   },
   "source": [
    "### Удаление пропусков (продолжение)"
   ]
  },
  {
   "cell_type": "markdown",
   "id": "a700b0e4",
   "metadata": {
    "deletable": false,
    "editable": false,
    "id": "a700b0e4"
   },
   "source": [
    "**Задание 11. Заполните пропуски в столбце `days_employed` медианными значениями по каждого типа занятости `income_type`.**"
   ]
  },
  {
   "cell_type": "code",
   "execution_count": 54,
   "id": "61946b83",
   "metadata": {
    "deletable": false,
    "id": "61946b83"
   },
   "outputs": [],
   "source": [
    "for t in data['income_type'].unique():\n",
    "    data.loc[(data['income_type'] == t) & (data['days_employed'].isna()), 'days_employed'] = \\\n",
    "    data.loc[(data['income_type'] == t), 'days_employed'].median()"
   ]
  },
  {
   "cell_type": "markdown",
   "id": "550dcd9b",
   "metadata": {
    "deletable": false,
    "editable": false,
    "id": "550dcd9b"
   },
   "source": [
    "**Задание 12. Убедитесь, что все пропуски заполнены. Проверьте себя и ещё раз выведите количество пропущенных значений для каждого столбца с помощью двух методов.**"
   ]
  },
  {
   "cell_type": "code",
   "execution_count": 55,
   "id": "937c7014",
   "metadata": {
    "deletable": false,
    "id": "937c7014",
    "outputId": "8da1e4e1-358e-4e87-98c9-f261bce0a7b2"
   },
   "outputs": [
    {
     "data": {
      "text/plain": [
       "children            0\n",
       "days_employed       0\n",
       "dob_years           0\n",
       "education           0\n",
       "education_id        0\n",
       "family_status       0\n",
       "family_status_id    0\n",
       "gender              0\n",
       "income_type         0\n",
       "debt                0\n",
       "total_income        0\n",
       "purpose             0\n",
       "dtype: int64"
      ]
     },
     "execution_count": 55,
     "metadata": {},
     "output_type": "execute_result"
    }
   ],
   "source": [
    "data.isna().sum()"
   ]
  },
  {
   "cell_type": "markdown",
   "id": "d522e295",
   "metadata": {
    "deletable": false,
    "editable": false,
    "id": "d522e295"
   },
   "source": [
    "### Изменение типов данных"
   ]
  },
  {
   "cell_type": "markdown",
   "id": "c229c581",
   "metadata": {
    "deletable": false,
    "editable": false,
    "id": "c229c581"
   },
   "source": [
    "**Задание 13. Замените вещественный тип данных в столбце `total_income` на целочисленный с помощью метода `astype()`.**"
   ]
  },
  {
   "cell_type": "code",
   "execution_count": 56,
   "id": "31036462",
   "metadata": {
    "deletable": false,
    "id": "31036462"
   },
   "outputs": [],
   "source": [
    "data['total_income'] = data['total_income'].astype(int)"
   ]
  },
  {
   "cell_type": "markdown",
   "id": "b8e3d1d9",
   "metadata": {
    "deletable": false,
    "editable": false,
    "id": "b8e3d1d9"
   },
   "source": [
    "### Обработка дубликатов"
   ]
  },
  {
   "cell_type": "markdown",
   "id": "9be53c49",
   "metadata": {
    "deletable": false,
    "editable": false,
    "id": "9be53c49"
   },
   "source": [
    "**Задание 14. Обработайте неявные дубликаты в столбце `education`. В этом столбце есть одни и те же значения, но записанные по-разному: с использованием заглавных и строчных букв. Приведите их к нижнему регистру.**"
   ]
  },
  {
   "cell_type": "code",
   "execution_count": 57,
   "id": "d89e73e1",
   "metadata": {
    "deletable": false,
    "id": "d89e73e1"
   },
   "outputs": [],
   "source": [
    "data['education'] = data['education'].str.lower()"
   ]
  },
  {
   "cell_type": "markdown",
   "id": "01d4500e",
   "metadata": {
    "deletable": false,
    "editable": false,
    "id": "01d4500e"
   },
   "source": [
    "**Задание 15. Выведите на экран количество строк-дубликатов в данных. Если такие строки присутствуют, удалите их.**"
   ]
  },
  {
   "cell_type": "code",
   "execution_count": 58,
   "id": "e10efb23",
   "metadata": {
    "deletable": false,
    "id": "e10efb23",
    "outputId": "9684deba-1934-42d1-99e1-cda61740f822"
   },
   "outputs": [
    {
     "data": {
      "text/plain": [
       "71"
      ]
     },
     "execution_count": 58,
     "metadata": {},
     "output_type": "execute_result"
    }
   ],
   "source": [
    "data.duplicated().sum()"
   ]
  },
  {
   "cell_type": "code",
   "execution_count": 59,
   "id": "df853f20",
   "metadata": {
    "deletable": false,
    "id": "df853f20"
   },
   "outputs": [],
   "source": [
    "data = data.drop_duplicates()"
   ]
  },
  {
   "cell_type": "markdown",
   "id": "627be38f",
   "metadata": {
    "deletable": false,
    "editable": false,
    "id": "627be38f"
   },
   "source": [
    "### Категоризация данных"
   ]
  },
  {
   "cell_type": "markdown",
   "id": "4684c3e0",
   "metadata": {
    "deletable": false,
    "editable": false,
    "id": "4684c3e0"
   },
   "source": [
    "**Задание 16. На основании диапазонов, указанных ниже, создайте в датафрейме `data` столбец `total_income_category` с категориями:**\n",
    "\n",
    "- 0–30000 — `'E'`;\n",
    "- 30001–50000 — `'D'`;\n",
    "- 50001–200000 — `'C'`;\n",
    "- 200001–1000000 — `'B'`;\n",
    "- 1000001 и выше — `'A'`.\n",
    "\n",
    "\n",
    "**Например, кредитополучателю с доходом 25000 нужно назначить категорию `'E'`, а клиенту, получающему 235000, — `'B'`. Используйте собственную функцию с именем `categorize_income()` и метод `apply()`.**"
   ]
  },
  {
   "cell_type": "code",
   "execution_count": 60,
   "id": "78965238",
   "metadata": {
    "deletable": false,
    "id": "78965238"
   },
   "outputs": [],
   "source": [
    "def categorize_income(income):\n",
    "    try:\n",
    "        if 0 <= income <= 30000:\n",
    "            return 'E'\n",
    "        elif 30001 <= income <= 50000:\n",
    "            return 'D'\n",
    "        elif 50001 <= income <= 200000:\n",
    "            return 'C'\n",
    "        elif 200001 <= income <= 1000000:\n",
    "            return 'B'\n",
    "        elif income >= 1000001:\n",
    "            return 'A'\n",
    "    except:\n",
    "        pass"
   ]
  },
  {
   "cell_type": "code",
   "execution_count": 61,
   "id": "0980ada1",
   "metadata": {
    "deletable": false,
    "id": "0980ada1"
   },
   "outputs": [],
   "source": [
    "data['total_income_category'] = data['total_income'].apply(categorize_income)"
   ]
  },
  {
   "cell_type": "markdown",
   "id": "9917bba0",
   "metadata": {
    "deletable": false,
    "editable": false,
    "id": "9917bba0"
   },
   "source": [
    "**Задание 17. Выведите на экран перечень уникальных целей взятия кредита из столбца `purpose`.**"
   ]
  },
  {
   "cell_type": "code",
   "execution_count": 62,
   "id": "ee07b65e",
   "metadata": {
    "deletable": false,
    "id": "ee07b65e",
    "outputId": "673c12d9-7d7e-4ae0-9812-c622c89dd244"
   },
   "outputs": [
    {
     "data": {
      "text/plain": [
       "array(['покупка жилья', 'приобретение автомобиля',\n",
       "       'дополнительное образование', 'сыграть свадьбу',\n",
       "       'операции с жильем', 'образование', 'на проведение свадьбы',\n",
       "       'покупка жилья для семьи', 'покупка недвижимости',\n",
       "       'покупка коммерческой недвижимости', 'покупка жилой недвижимости',\n",
       "       'строительство собственной недвижимости', 'недвижимость',\n",
       "       'строительство недвижимости', 'на покупку подержанного автомобиля',\n",
       "       'на покупку своего автомобиля',\n",
       "       'операции с коммерческой недвижимостью',\n",
       "       'строительство жилой недвижимости', 'жилье',\n",
       "       'операции со своей недвижимостью', 'автомобили',\n",
       "       'заняться образованием', 'сделка с подержанным автомобилем',\n",
       "       'получение образования', 'автомобиль', 'свадьба',\n",
       "       'получение дополнительного образования', 'покупка своего жилья',\n",
       "       'операции с недвижимостью', 'получение высшего образования',\n",
       "       'свой автомобиль', 'сделка с автомобилем',\n",
       "       'профильное образование', 'высшее образование',\n",
       "       'покупка жилья для сдачи', 'на покупку автомобиля', 'ремонт жилью',\n",
       "       'заняться высшим образованием'], dtype=object)"
      ]
     },
     "execution_count": 62,
     "metadata": {},
     "output_type": "execute_result"
    }
   ],
   "source": [
    "data['purpose'].unique()"
   ]
  },
  {
   "cell_type": "markdown",
   "id": "52b79d56",
   "metadata": {
    "deletable": false,
    "editable": false,
    "id": "52b79d56"
   },
   "source": [
    "**Задание 18. Создайте функцию, которая на основании данных из столбца `purpose` сформирует новый столбец `purpose_category`, в который войдут следующие категории:**\n",
    "\n",
    "- `'операции с автомобилем'`,\n",
    "- `'операции с недвижимостью'`,\n",
    "- `'проведение свадьбы'`,\n",
    "- `'получение образования'`.\n",
    "\n",
    "**Например, если в столбце `purpose` находится подстрока `'на покупку автомобиля'`, то в столбце `purpose_category` должна появиться строка `'операции с автомобилем'`.**\n",
    "\n",
    "**Используйте собственную функцию с именем `categorize_purpose()` и метод `apply()`. Изучите данные в столбце `purpose` и определите, какие подстроки помогут вам правильно определить категорию.**"
   ]
  },
  {
   "cell_type": "code",
   "execution_count": 63,
   "id": "be41da5d",
   "metadata": {
    "deletable": false,
    "id": "be41da5d"
   },
   "outputs": [],
   "source": [
    "def categorize_purpose(row):\n",
    "    try:\n",
    "        if 'автом' in row:\n",
    "            return 'операции с автомобилем'\n",
    "        elif 'жил' in row or 'недвиж' in row:\n",
    "            return 'операции с недвижимостью'\n",
    "        elif 'свад' in row:\n",
    "            return 'проведение свадьбы'\n",
    "        elif 'образов' in row:\n",
    "            return 'получение образования'\n",
    "    except:\n",
    "        return 'нет категории'"
   ]
  },
  {
   "cell_type": "code",
   "execution_count": 64,
   "id": "94c4a19a",
   "metadata": {
    "deletable": false,
    "id": "94c4a19a"
   },
   "outputs": [],
   "source": [
    "data['purpose_category'] = data['purpose'].apply(categorize_purpose)"
   ]
  },
  {
   "cell_type": "markdown",
   "id": "3d596c34",
   "metadata": {
    "deletable": false,
    "editable": false,
    "id": "3d596c34"
   },
   "source": [
    "### Шаг 3. Исследуйте данные и ответьте на вопросы"
   ]
  },
  {
   "cell_type": "markdown",
   "id": "648db036",
   "metadata": {
    "deletable": false,
    "editable": false,
    "id": "648db036"
   },
   "source": [
    "#### 3.1 Есть ли зависимость между количеством детей и возвратом кредита в срок?"
   ]
  },
  {
   "cell_type": "markdown",
   "id": "7b1b1c52",
   "metadata": {},
   "source": [
    "Сгруппируем данные по количеству детей у каждого кредитора."
   ]
  },
  {
   "cell_type": "code",
   "execution_count": 65,
   "id": "7fcff25e",
   "metadata": {
    "deletable": false,
    "id": "7fcff25e"
   },
   "outputs": [
    {
     "data": {
      "text/plain": [
       "children\n",
       "0    14091\n",
       "1     4808\n",
       "2     2052\n",
       "3      330\n",
       "4       41\n",
       "5        9\n",
       "Name: children, dtype: int64"
      ]
     },
     "execution_count": 65,
     "metadata": {},
     "output_type": "execute_result"
    }
   ],
   "source": [
    "# применим метод groupby к столбцу children\n",
    "children = data.groupby('children')['children'].count()\n",
    "#выведем значение переменной children\n",
    "children"
   ]
  },
  {
   "cell_type": "markdown",
   "id": "defaf659",
   "metadata": {},
   "source": [
    "По группам с 3, 4 и 5 детьми небольшая выборка данных, укрупним категорию, создав одну группу - **'2 и более детей'**, применив категоризацию данных. Иначе сделанные выводы могут быть ошибочны."
   ]
  },
  {
   "cell_type": "code",
   "execution_count": 66,
   "id": "73862bb5",
   "metadata": {},
   "outputs": [
    {
     "data": {
      "text/plain": [
       "'2 и более детей'"
      ]
     },
     "execution_count": 66,
     "metadata": {},
     "output_type": "execute_result"
    }
   ],
   "source": [
    "#<создание функции children_group(), с одним параметром - children>\n",
    "def children_group(children):\n",
    "    if children == 0:\n",
    "        return 'Нет детей'\n",
    "    if children == 1:\n",
    "        return 'Один ребенок'\n",
    "    if children > 1:\n",
    "        return '2 и более детей'\n",
    "#проверим функцию, если параметр children = 3\n",
    "children_group(3)"
   ]
  },
  {
   "cell_type": "markdown",
   "id": "64c85b89",
   "metadata": {},
   "source": [
    "Написанная функция работает корректно.\\\n",
    "Создадим отдельный столбец с категориями по количеству детей **'children_group'**. Применим функцию children_group ко всему столбцу 'children' таблицы data."
   ]
  },
  {
   "cell_type": "code",
   "execution_count": 67,
   "id": "a3060d1e",
   "metadata": {
    "scrolled": true
   },
   "outputs": [
    {
     "data": {
      "text/html": [
       "<div>\n",
       "<style scoped>\n",
       "    .dataframe tbody tr th:only-of-type {\n",
       "        vertical-align: middle;\n",
       "    }\n",
       "\n",
       "    .dataframe tbody tr th {\n",
       "        vertical-align: top;\n",
       "    }\n",
       "\n",
       "    .dataframe thead th {\n",
       "        text-align: right;\n",
       "    }\n",
       "</style>\n",
       "<table border=\"1\" class=\"dataframe\">\n",
       "  <thead>\n",
       "    <tr style=\"text-align: right;\">\n",
       "      <th></th>\n",
       "      <th>children</th>\n",
       "      <th>days_employed</th>\n",
       "      <th>dob_years</th>\n",
       "      <th>education</th>\n",
       "      <th>education_id</th>\n",
       "      <th>family_status</th>\n",
       "      <th>family_status_id</th>\n",
       "      <th>gender</th>\n",
       "      <th>income_type</th>\n",
       "      <th>debt</th>\n",
       "      <th>total_income</th>\n",
       "      <th>purpose</th>\n",
       "      <th>total_income_category</th>\n",
       "      <th>purpose_category</th>\n",
       "      <th>children_group</th>\n",
       "    </tr>\n",
       "  </thead>\n",
       "  <tbody>\n",
       "    <tr>\n",
       "      <th>0</th>\n",
       "      <td>1</td>\n",
       "      <td>8437.673028</td>\n",
       "      <td>42</td>\n",
       "      <td>высшее</td>\n",
       "      <td>0</td>\n",
       "      <td>женат / замужем</td>\n",
       "      <td>0</td>\n",
       "      <td>F</td>\n",
       "      <td>сотрудник</td>\n",
       "      <td>0</td>\n",
       "      <td>253875</td>\n",
       "      <td>покупка жилья</td>\n",
       "      <td>B</td>\n",
       "      <td>операции с недвижимостью</td>\n",
       "      <td>Один ребенок</td>\n",
       "    </tr>\n",
       "    <tr>\n",
       "      <th>1</th>\n",
       "      <td>1</td>\n",
       "      <td>4024.803754</td>\n",
       "      <td>36</td>\n",
       "      <td>среднее</td>\n",
       "      <td>1</td>\n",
       "      <td>женат / замужем</td>\n",
       "      <td>0</td>\n",
       "      <td>F</td>\n",
       "      <td>сотрудник</td>\n",
       "      <td>0</td>\n",
       "      <td>112080</td>\n",
       "      <td>приобретение автомобиля</td>\n",
       "      <td>C</td>\n",
       "      <td>операции с автомобилем</td>\n",
       "      <td>Один ребенок</td>\n",
       "    </tr>\n",
       "    <tr>\n",
       "      <th>2</th>\n",
       "      <td>0</td>\n",
       "      <td>5623.422610</td>\n",
       "      <td>33</td>\n",
       "      <td>среднее</td>\n",
       "      <td>1</td>\n",
       "      <td>женат / замужем</td>\n",
       "      <td>0</td>\n",
       "      <td>M</td>\n",
       "      <td>сотрудник</td>\n",
       "      <td>0</td>\n",
       "      <td>145885</td>\n",
       "      <td>покупка жилья</td>\n",
       "      <td>C</td>\n",
       "      <td>операции с недвижимостью</td>\n",
       "      <td>Нет детей</td>\n",
       "    </tr>\n",
       "    <tr>\n",
       "      <th>3</th>\n",
       "      <td>3</td>\n",
       "      <td>4124.747207</td>\n",
       "      <td>32</td>\n",
       "      <td>среднее</td>\n",
       "      <td>1</td>\n",
       "      <td>женат / замужем</td>\n",
       "      <td>0</td>\n",
       "      <td>M</td>\n",
       "      <td>сотрудник</td>\n",
       "      <td>0</td>\n",
       "      <td>267628</td>\n",
       "      <td>дополнительное образование</td>\n",
       "      <td>B</td>\n",
       "      <td>получение образования</td>\n",
       "      <td>2 и более детей</td>\n",
       "    </tr>\n",
       "    <tr>\n",
       "      <th>4</th>\n",
       "      <td>0</td>\n",
       "      <td>340266.072047</td>\n",
       "      <td>53</td>\n",
       "      <td>среднее</td>\n",
       "      <td>1</td>\n",
       "      <td>гражданский брак</td>\n",
       "      <td>1</td>\n",
       "      <td>F</td>\n",
       "      <td>пенсионер</td>\n",
       "      <td>0</td>\n",
       "      <td>158616</td>\n",
       "      <td>сыграть свадьбу</td>\n",
       "      <td>C</td>\n",
       "      <td>проведение свадьбы</td>\n",
       "      <td>Нет детей</td>\n",
       "    </tr>\n",
       "    <tr>\n",
       "      <th>5</th>\n",
       "      <td>0</td>\n",
       "      <td>926.185831</td>\n",
       "      <td>27</td>\n",
       "      <td>высшее</td>\n",
       "      <td>0</td>\n",
       "      <td>гражданский брак</td>\n",
       "      <td>1</td>\n",
       "      <td>M</td>\n",
       "      <td>компаньон</td>\n",
       "      <td>0</td>\n",
       "      <td>255763</td>\n",
       "      <td>покупка жилья</td>\n",
       "      <td>B</td>\n",
       "      <td>операции с недвижимостью</td>\n",
       "      <td>Нет детей</td>\n",
       "    </tr>\n",
       "    <tr>\n",
       "      <th>6</th>\n",
       "      <td>0</td>\n",
       "      <td>2879.202052</td>\n",
       "      <td>43</td>\n",
       "      <td>высшее</td>\n",
       "      <td>0</td>\n",
       "      <td>женат / замужем</td>\n",
       "      <td>0</td>\n",
       "      <td>F</td>\n",
       "      <td>компаньон</td>\n",
       "      <td>0</td>\n",
       "      <td>240525</td>\n",
       "      <td>операции с жильем</td>\n",
       "      <td>B</td>\n",
       "      <td>операции с недвижимостью</td>\n",
       "      <td>Нет детей</td>\n",
       "    </tr>\n",
       "    <tr>\n",
       "      <th>7</th>\n",
       "      <td>0</td>\n",
       "      <td>152.779569</td>\n",
       "      <td>50</td>\n",
       "      <td>среднее</td>\n",
       "      <td>1</td>\n",
       "      <td>женат / замужем</td>\n",
       "      <td>0</td>\n",
       "      <td>M</td>\n",
       "      <td>сотрудник</td>\n",
       "      <td>0</td>\n",
       "      <td>135823</td>\n",
       "      <td>образование</td>\n",
       "      <td>C</td>\n",
       "      <td>получение образования</td>\n",
       "      <td>Нет детей</td>\n",
       "    </tr>\n",
       "    <tr>\n",
       "      <th>8</th>\n",
       "      <td>2</td>\n",
       "      <td>6929.865299</td>\n",
       "      <td>35</td>\n",
       "      <td>высшее</td>\n",
       "      <td>0</td>\n",
       "      <td>гражданский брак</td>\n",
       "      <td>1</td>\n",
       "      <td>F</td>\n",
       "      <td>сотрудник</td>\n",
       "      <td>0</td>\n",
       "      <td>95856</td>\n",
       "      <td>на проведение свадьбы</td>\n",
       "      <td>C</td>\n",
       "      <td>проведение свадьбы</td>\n",
       "      <td>2 и более детей</td>\n",
       "    </tr>\n",
       "    <tr>\n",
       "      <th>9</th>\n",
       "      <td>0</td>\n",
       "      <td>2188.756445</td>\n",
       "      <td>41</td>\n",
       "      <td>среднее</td>\n",
       "      <td>1</td>\n",
       "      <td>женат / замужем</td>\n",
       "      <td>0</td>\n",
       "      <td>M</td>\n",
       "      <td>сотрудник</td>\n",
       "      <td>0</td>\n",
       "      <td>144425</td>\n",
       "      <td>покупка жилья для семьи</td>\n",
       "      <td>C</td>\n",
       "      <td>операции с недвижимостью</td>\n",
       "      <td>Нет детей</td>\n",
       "    </tr>\n",
       "  </tbody>\n",
       "</table>\n",
       "</div>"
      ],
      "text/plain": [
       "   children  days_employed  dob_years education  education_id  \\\n",
       "0         1    8437.673028         42    высшее             0   \n",
       "1         1    4024.803754         36   среднее             1   \n",
       "2         0    5623.422610         33   среднее             1   \n",
       "3         3    4124.747207         32   среднее             1   \n",
       "4         0  340266.072047         53   среднее             1   \n",
       "5         0     926.185831         27    высшее             0   \n",
       "6         0    2879.202052         43    высшее             0   \n",
       "7         0     152.779569         50   среднее             1   \n",
       "8         2    6929.865299         35    высшее             0   \n",
       "9         0    2188.756445         41   среднее             1   \n",
       "\n",
       "      family_status  family_status_id gender income_type  debt  total_income  \\\n",
       "0   женат / замужем                 0      F   сотрудник     0        253875   \n",
       "1   женат / замужем                 0      F   сотрудник     0        112080   \n",
       "2   женат / замужем                 0      M   сотрудник     0        145885   \n",
       "3   женат / замужем                 0      M   сотрудник     0        267628   \n",
       "4  гражданский брак                 1      F   пенсионер     0        158616   \n",
       "5  гражданский брак                 1      M   компаньон     0        255763   \n",
       "6   женат / замужем                 0      F   компаньон     0        240525   \n",
       "7   женат / замужем                 0      M   сотрудник     0        135823   \n",
       "8  гражданский брак                 1      F   сотрудник     0         95856   \n",
       "9   женат / замужем                 0      M   сотрудник     0        144425   \n",
       "\n",
       "                      purpose total_income_category          purpose_category  \\\n",
       "0               покупка жилья                     B  операции с недвижимостью   \n",
       "1     приобретение автомобиля                     C    операции с автомобилем   \n",
       "2               покупка жилья                     C  операции с недвижимостью   \n",
       "3  дополнительное образование                     B     получение образования   \n",
       "4             сыграть свадьбу                     C        проведение свадьбы   \n",
       "5               покупка жилья                     B  операции с недвижимостью   \n",
       "6           операции с жильем                     B  операции с недвижимостью   \n",
       "7                 образование                     C     получение образования   \n",
       "8       на проведение свадьбы                     C        проведение свадьбы   \n",
       "9     покупка жилья для семьи                     C  операции с недвижимостью   \n",
       "\n",
       "    children_group  \n",
       "0     Один ребенок  \n",
       "1     Один ребенок  \n",
       "2        Нет детей  \n",
       "3  2 и более детей  \n",
       "4        Нет детей  \n",
       "5        Нет детей  \n",
       "6        Нет детей  \n",
       "7        Нет детей  \n",
       "8  2 и более детей  \n",
       "9        Нет детей  "
      ]
     },
     "execution_count": 67,
     "metadata": {},
     "output_type": "execute_result"
    }
   ],
   "source": [
    "data['children_group'] = data['children'].apply(children_group)\n",
    "#выведем первые 10 значений таблицы data\n",
    "data.head(10)"
   ]
  },
  {
   "cell_type": "markdown",
   "id": "4339fe8a",
   "metadata": {},
   "source": [
    "Создадим сводную таблицу **data_children**, чтобы отобразить данные по заемщикам по категории количество детей. "
   ]
  },
  {
   "cell_type": "code",
   "execution_count": 68,
   "id": "7eac01ac",
   "metadata": {},
   "outputs": [
    {
     "data": {
      "text/html": [
       "<div>\n",
       "<style scoped>\n",
       "    .dataframe tbody tr th:only-of-type {\n",
       "        vertical-align: middle;\n",
       "    }\n",
       "\n",
       "    .dataframe tbody tr th {\n",
       "        vertical-align: top;\n",
       "    }\n",
       "\n",
       "    .dataframe thead th {\n",
       "        text-align: right;\n",
       "    }\n",
       "</style>\n",
       "<table border=\"1\" class=\"dataframe\">\n",
       "  <thead>\n",
       "    <tr style=\"text-align: right;\">\n",
       "      <th></th>\n",
       "      <th>Кол-во заемщиков</th>\n",
       "      <th>Кол-во должников</th>\n",
       "      <th>Доля просрочек</th>\n",
       "      <th>Доля просрочек, в %</th>\n",
       "    </tr>\n",
       "    <tr>\n",
       "      <th>children_group</th>\n",
       "      <th></th>\n",
       "      <th></th>\n",
       "      <th></th>\n",
       "      <th></th>\n",
       "    </tr>\n",
       "  </thead>\n",
       "  <tbody>\n",
       "    <tr>\n",
       "      <th>2 и более детей</th>\n",
       "      <td>2432</td>\n",
       "      <td>225</td>\n",
       "      <td>0.092516</td>\n",
       "      <td>9.251645</td>\n",
       "    </tr>\n",
       "    <tr>\n",
       "      <th>Нет детей</th>\n",
       "      <td>14091</td>\n",
       "      <td>1063</td>\n",
       "      <td>0.075438</td>\n",
       "      <td>7.543822</td>\n",
       "    </tr>\n",
       "    <tr>\n",
       "      <th>Один ребенок</th>\n",
       "      <td>4808</td>\n",
       "      <td>444</td>\n",
       "      <td>0.092346</td>\n",
       "      <td>9.234609</td>\n",
       "    </tr>\n",
       "  </tbody>\n",
       "</table>\n",
       "</div>"
      ],
      "text/plain": [
       "                 Кол-во заемщиков  Кол-во должников  Доля просрочек  \\\n",
       "children_group                                                        \n",
       "2 и более детей              2432               225        0.092516   \n",
       "Нет детей                   14091              1063        0.075438   \n",
       "Один ребенок                 4808               444        0.092346   \n",
       "\n",
       "                 Доля просрочек, в %  \n",
       "children_group                        \n",
       "2 и более детей             9.251645  \n",
       "Нет детей                   7.543822  \n",
       "Один ребенок                9.234609  "
      ]
     },
     "execution_count": 68,
     "metadata": {},
     "output_type": "execute_result"
    }
   ],
   "source": [
    "#Применим функции 'count', 'sum', 'mean' к значениям из столбца 'debt'. \n",
    "data_children = data.pivot_table(index='children_group', values='debt', aggfunc=['count', 'sum', 'mean'])\n",
    "#Присвоим столбцам новые значения\n",
    "data_children.columns = ['Кол-во заемщиков', 'Кол-во должников', 'Доля просрочек']\n",
    "#Добавим новый столбец 'Доля просрочек, в %'\n",
    "data_children['Доля просрочек, в %'] = data_children['Доля просрочек'] * 100\n",
    "#Выведем полученную таблицу\n",
    "data_children"
   ]
  },
  {
   "cell_type": "markdown",
   "id": "6581fb5c",
   "metadata": {},
   "source": [
    "По полученным данным можно убедиться, что наиболее надеждым заемщиком явлеется категория заемщиков без детей, у них наименьшая доля просрочек - 7,5 %.\\\n",
    "У двух категорий заемщиков (с 1 ребенком и 2 и более детей) доля просрочек практически одинакова - 9,2 %. Разность между двумя этими группами должников составляет 0,02 процентных пункта.\n"
   ]
  },
  {
   "cell_type": "code",
   "execution_count": 69,
   "id": "11a7509b",
   "metadata": {},
   "outputs": [
    {
     "data": {
      "text/plain": [
       "'Разница между группами без детей и с детьми составляет 2% процентных пункта'"
      ]
     },
     "execution_count": 69,
     "metadata": {},
     "output_type": "execute_result"
    }
   ],
   "source": [
    "'Разница между группами без детей и с детьми составляет {:.0%} процентных пункта'.format(0.092516-0.075438)"
   ]
  },
  {
   "cell_type": "code",
   "execution_count": 70,
   "id": "58bf1a24",
   "metadata": {},
   "outputs": [
    {
     "data": {
      "text/plain": [
       "'Относительное отклонение доли должников группы с детьми от группы без детей составляет 23%'"
      ]
     },
     "execution_count": 70,
     "metadata": {},
     "output_type": "execute_result"
    }
   ],
   "source": [
    "'Относительное отклонение доли должников группы с детьми от группы без детей составляет {:.0%}'.format((0.092516-0.075438)/0.075438)\n"
   ]
  },
  {
   "cell_type": "markdown",
   "id": "2eb9088e",
   "metadata": {
    "deletable": false,
    "id": "2eb9088e"
   },
   "source": [
    "**Вывод:** "
   ]
  },
  {
   "cell_type": "markdown",
   "id": "a0d7b766",
   "metadata": {},
   "source": [
    "Наличие детей влияет на возвращение кредита с меньшими просрочками, у кредиторов без детей доля просрочек на 23 % меньше, чем у кредиторов с 1 и более ребенком."
   ]
  },
  {
   "cell_type": "markdown",
   "id": "74c9b3a7",
   "metadata": {
    "deletable": false,
    "editable": false,
    "id": "74c9b3a7"
   },
   "source": [
    "#### 3.2 Есть ли зависимость между семейным положением и возвратом кредита в срок?"
   ]
  },
  {
   "cell_type": "code",
   "execution_count": 71,
   "id": "8098ab3b",
   "metadata": {
    "deletable": false,
    "id": "8098ab3b",
    "scrolled": true
   },
   "outputs": [
    {
     "data": {
      "text/html": [
       "<div>\n",
       "<style scoped>\n",
       "    .dataframe tbody tr th:only-of-type {\n",
       "        vertical-align: middle;\n",
       "    }\n",
       "\n",
       "    .dataframe tbody tr th {\n",
       "        vertical-align: top;\n",
       "    }\n",
       "\n",
       "    .dataframe thead th {\n",
       "        text-align: right;\n",
       "    }\n",
       "</style>\n",
       "<table border=\"1\" class=\"dataframe\">\n",
       "  <thead>\n",
       "    <tr style=\"text-align: right;\">\n",
       "      <th></th>\n",
       "      <th>family_status</th>\n",
       "      <th>family_status_id</th>\n",
       "    </tr>\n",
       "  </thead>\n",
       "  <tbody>\n",
       "    <tr>\n",
       "      <th>0</th>\n",
       "      <td>женат / замужем</td>\n",
       "      <td>0</td>\n",
       "    </tr>\n",
       "    <tr>\n",
       "      <th>1</th>\n",
       "      <td>гражданский брак</td>\n",
       "      <td>1</td>\n",
       "    </tr>\n",
       "    <tr>\n",
       "      <th>2</th>\n",
       "      <td>вдовец / вдова</td>\n",
       "      <td>2</td>\n",
       "    </tr>\n",
       "    <tr>\n",
       "      <th>3</th>\n",
       "      <td>в разводе</td>\n",
       "      <td>3</td>\n",
       "    </tr>\n",
       "    <tr>\n",
       "      <th>4</th>\n",
       "      <td>Не женат / не замужем</td>\n",
       "      <td>4</td>\n",
       "    </tr>\n",
       "  </tbody>\n",
       "</table>\n",
       "</div>"
      ],
      "text/plain": [
       "           family_status  family_status_id\n",
       "0        женат / замужем                 0\n",
       "1       гражданский брак                 1\n",
       "2         вдовец / вдова                 2\n",
       "3              в разводе                 3\n",
       "4  Не женат / не замужем                 4"
      ]
     },
     "execution_count": 71,
     "metadata": {},
     "output_type": "execute_result"
    }
   ],
   "source": [
    "#декомпозируем данные с семейным положением для визуальной работой с таблицей\n",
    "family_status_sort = data[['family_status', 'family_status_id']]\n",
    "family_status_sort = family_status_sort.drop_duplicates().reset_index(drop=True)\n",
    "family_status_sort"
   ]
  },
  {
   "cell_type": "markdown",
   "id": "232cec49",
   "metadata": {},
   "source": [
    "Мы имеем 5 категорий семейного положения. Сгруппируем данные по категориям с помощью метода `groupby`"
   ]
  },
  {
   "cell_type": "code",
   "execution_count": 72,
   "id": "d3a0b7f6",
   "metadata": {},
   "outputs": [
    {
     "data": {
      "text/plain": [
       "family_status\n",
       "Не женат / не замужем     2796\n",
       "в разводе                 1189\n",
       "вдовец / вдова             951\n",
       "гражданский брак          4134\n",
       "женат / замужем          12261\n",
       "Name: family_status, dtype: int64"
      ]
     },
     "execution_count": 72,
     "metadata": {},
     "output_type": "execute_result"
    }
   ],
   "source": [
    "family_status = data.groupby('family_status')['family_status'].count()\n",
    "family_status"
   ]
  },
  {
   "cell_type": "markdown",
   "id": "71e4673a",
   "metadata": {},
   "source": [
    "Создавать отдельную категорию и включать туда категорию вдовец\\вдова нет необходимости, данных достаточно для проведения анализа.\\\n",
    "Создадим сводную таблицу **data_family_status**, чтобы отобразить данные по заемщикам по категории семейное положение."
   ]
  },
  {
   "cell_type": "code",
   "execution_count": 73,
   "id": "e451aeb9",
   "metadata": {},
   "outputs": [
    {
     "data": {
      "text/html": [
       "<div>\n",
       "<style scoped>\n",
       "    .dataframe tbody tr th:only-of-type {\n",
       "        vertical-align: middle;\n",
       "    }\n",
       "\n",
       "    .dataframe tbody tr th {\n",
       "        vertical-align: top;\n",
       "    }\n",
       "\n",
       "    .dataframe thead th {\n",
       "        text-align: right;\n",
       "    }\n",
       "</style>\n",
       "<table border=\"1\" class=\"dataframe\">\n",
       "  <thead>\n",
       "    <tr style=\"text-align: right;\">\n",
       "      <th></th>\n",
       "      <th>Кол-во заемщиков</th>\n",
       "      <th>Кол-во должников</th>\n",
       "      <th>Доля просрочек</th>\n",
       "      <th>Доля просрочек, в %</th>\n",
       "    </tr>\n",
       "    <tr>\n",
       "      <th>family_status</th>\n",
       "      <th></th>\n",
       "      <th></th>\n",
       "      <th></th>\n",
       "      <th></th>\n",
       "    </tr>\n",
       "  </thead>\n",
       "  <tbody>\n",
       "    <tr>\n",
       "      <th>Не женат / не замужем</th>\n",
       "      <td>2796</td>\n",
       "      <td>273</td>\n",
       "      <td>0.097639</td>\n",
       "      <td>9.763948</td>\n",
       "    </tr>\n",
       "    <tr>\n",
       "      <th>в разводе</th>\n",
       "      <td>1189</td>\n",
       "      <td>84</td>\n",
       "      <td>0.070648</td>\n",
       "      <td>7.064760</td>\n",
       "    </tr>\n",
       "    <tr>\n",
       "      <th>вдовец / вдова</th>\n",
       "      <td>951</td>\n",
       "      <td>63</td>\n",
       "      <td>0.066246</td>\n",
       "      <td>6.624606</td>\n",
       "    </tr>\n",
       "    <tr>\n",
       "      <th>гражданский брак</th>\n",
       "      <td>4134</td>\n",
       "      <td>385</td>\n",
       "      <td>0.093130</td>\n",
       "      <td>9.313014</td>\n",
       "    </tr>\n",
       "    <tr>\n",
       "      <th>женат / замужем</th>\n",
       "      <td>12261</td>\n",
       "      <td>927</td>\n",
       "      <td>0.075606</td>\n",
       "      <td>7.560558</td>\n",
       "    </tr>\n",
       "  </tbody>\n",
       "</table>\n",
       "</div>"
      ],
      "text/plain": [
       "                       Кол-во заемщиков  Кол-во должников  Доля просрочек  \\\n",
       "family_status                                                               \n",
       "Не женат / не замужем              2796               273        0.097639   \n",
       "в разводе                          1189                84        0.070648   \n",
       "вдовец / вдова                      951                63        0.066246   \n",
       "гражданский брак                   4134               385        0.093130   \n",
       "женат / замужем                   12261               927        0.075606   \n",
       "\n",
       "                       Доля просрочек, в %  \n",
       "family_status                               \n",
       "Не женат / не замужем             9.763948  \n",
       "в разводе                         7.064760  \n",
       "вдовец / вдова                    6.624606  \n",
       "гражданский брак                  9.313014  \n",
       "женат / замужем                   7.560558  "
      ]
     },
     "execution_count": 73,
     "metadata": {},
     "output_type": "execute_result"
    }
   ],
   "source": [
    "#Применим функции 'count', 'sum', 'mean' к значениям из столбца 'debt'. \n",
    "data_family_status = data.pivot_table(index='family_status', values='debt', aggfunc=['count', 'sum', 'mean'])\n",
    "#Присвоим столбцам новые значения\n",
    "data_family_status.columns = ['Кол-во заемщиков', 'Кол-во должников', 'Доля просрочек']\n",
    "#Добавим новый столбец 'Доля просрочек, в %'\n",
    "data_family_status['Доля просрочек, в %'] = data_family_status['Доля просрочек'] * 100\n",
    "#Выведем полученную таблицу\n",
    "data_family_status"
   ]
  },
  {
   "cell_type": "markdown",
   "id": "a931d523",
   "metadata": {},
   "source": [
    "Наиболее благонадежными заемщиками являются 3 категории: вдовец / вдова, в разводе и женат / замужем, доля просрочек у данных категорий составляет 6,6%, 7,1% и 7,6% соответсвенно.\\\n",
    "Наименее надежными являются две категории заемщиков: гражданский брак и не женат / не замужем, \tдоля просрочек у данных категорий составляет 9,3% и 9,7% соответвенно.\\\n",
    "Можно сделать вывод, что заемщики, состоящие в официальном браке реже выходят на просрочку, чем заемщики без официально оформленного брака.\n",
    "    "
   ]
  },
  {
   "cell_type": "code",
   "execution_count": 85,
   "id": "a443f0ae",
   "metadata": {},
   "outputs": [
    {
     "data": {
      "text/plain": [
       "'Разница между группами женат / замужем и не женат / не замужем составляет 2% процентных пункта'"
      ]
     },
     "execution_count": 85,
     "metadata": {},
     "output_type": "execute_result"
    }
   ],
   "source": [
    "'Разница между группами женат / замужем и не женат / не замужем составляет {:.0%} процентных пункта'.format(0.097639-0.075606)"
   ]
  },
  {
   "cell_type": "code",
   "execution_count": 86,
   "id": "3372d3f1",
   "metadata": {},
   "outputs": [
    {
     "data": {
      "text/plain": [
       "'Относительное отклонение доли должников группы женат / замужем и не женат / не замужем составляет 29%'"
      ]
     },
     "execution_count": 86,
     "metadata": {},
     "output_type": "execute_result"
    }
   ],
   "source": [
    "'Относительное отклонение доли должников группы женат / замужем и не женат / не замужем составляет {:.0%}'.format((0.097639-0.075606)/0.075606)"
   ]
  },
  {
   "cell_type": "markdown",
   "id": "c389ca63",
   "metadata": {
    "deletable": false,
    "id": "c389ca63"
   },
   "source": [
    "**Вывод:** "
   ]
  },
  {
   "cell_type": "markdown",
   "id": "753613aa",
   "metadata": {},
   "source": [
    "По имеющимся данным, семейное положение влияет на возвращение кредита, у кредиторов с официально оформленным браком доля просрочек на 29 % меньше, чем у кредиторов без официального оформленного брака."
   ]
  },
  {
   "cell_type": "markdown",
   "id": "9529de68",
   "metadata": {
    "deletable": false,
    "editable": false,
    "id": "9529de68"
   },
   "source": [
    "#### 3.3 Есть ли зависимость между уровнем дохода и возвратом кредита в срок?"
   ]
  },
  {
   "cell_type": "markdown",
   "id": "8ac8bc40",
   "metadata": {},
   "source": [
    "По данным исследования, мы имеем 5 категорий уровня дохода:\\\n",
    "-0–30000 — 'E';\\\n",
    "-30001–50000 — 'D';\\\n",
    "-50001–200000 — 'C';\\\n",
    "-200001–1000000 — 'B';\\\n",
    "-1000001 и выше — 'A'.\\\n",
    "Создадим сводную таблицу **data_income**, чтобы отобразить данные по заемщикам по категории уровень дохода."
   ]
  },
  {
   "cell_type": "code",
   "execution_count": 76,
   "id": "8787f44a",
   "metadata": {
    "deletable": false,
    "id": "8787f44a"
   },
   "outputs": [
    {
     "data": {
      "text/html": [
       "<div>\n",
       "<style scoped>\n",
       "    .dataframe tbody tr th:only-of-type {\n",
       "        vertical-align: middle;\n",
       "    }\n",
       "\n",
       "    .dataframe tbody tr th {\n",
       "        vertical-align: top;\n",
       "    }\n",
       "\n",
       "    .dataframe thead th {\n",
       "        text-align: right;\n",
       "    }\n",
       "</style>\n",
       "<table border=\"1\" class=\"dataframe\">\n",
       "  <thead>\n",
       "    <tr style=\"text-align: right;\">\n",
       "      <th></th>\n",
       "      <th>Кол-во заемщиков</th>\n",
       "      <th>Кол-во должников</th>\n",
       "      <th>Доля просрочек</th>\n",
       "      <th>Доля просрочек, в %</th>\n",
       "    </tr>\n",
       "    <tr>\n",
       "      <th>total_income_category</th>\n",
       "      <th></th>\n",
       "      <th></th>\n",
       "      <th></th>\n",
       "      <th></th>\n",
       "    </tr>\n",
       "  </thead>\n",
       "  <tbody>\n",
       "    <tr>\n",
       "      <th>A</th>\n",
       "      <td>25</td>\n",
       "      <td>2</td>\n",
       "      <td>0.080000</td>\n",
       "      <td>8.000000</td>\n",
       "    </tr>\n",
       "    <tr>\n",
       "      <th>B</th>\n",
       "      <td>5014</td>\n",
       "      <td>354</td>\n",
       "      <td>0.070602</td>\n",
       "      <td>7.060231</td>\n",
       "    </tr>\n",
       "    <tr>\n",
       "      <th>C</th>\n",
       "      <td>15921</td>\n",
       "      <td>1353</td>\n",
       "      <td>0.084982</td>\n",
       "      <td>8.498210</td>\n",
       "    </tr>\n",
       "    <tr>\n",
       "      <th>D</th>\n",
       "      <td>349</td>\n",
       "      <td>21</td>\n",
       "      <td>0.060172</td>\n",
       "      <td>6.017192</td>\n",
       "    </tr>\n",
       "    <tr>\n",
       "      <th>E</th>\n",
       "      <td>22</td>\n",
       "      <td>2</td>\n",
       "      <td>0.090909</td>\n",
       "      <td>9.090909</td>\n",
       "    </tr>\n",
       "  </tbody>\n",
       "</table>\n",
       "</div>"
      ],
      "text/plain": [
       "                       Кол-во заемщиков  Кол-во должников  Доля просрочек  \\\n",
       "total_income_category                                                       \n",
       "A                                    25                 2        0.080000   \n",
       "B                                  5014               354        0.070602   \n",
       "C                                 15921              1353        0.084982   \n",
       "D                                   349                21        0.060172   \n",
       "E                                    22                 2        0.090909   \n",
       "\n",
       "                       Доля просрочек, в %  \n",
       "total_income_category                       \n",
       "A                                 8.000000  \n",
       "B                                 7.060231  \n",
       "C                                 8.498210  \n",
       "D                                 6.017192  \n",
       "E                                 9.090909  "
      ]
     },
     "execution_count": 76,
     "metadata": {},
     "output_type": "execute_result"
    }
   ],
   "source": [
    "# Применим функции 'count', 'sum', 'mean' к значениям из столбца 'debt'.\n",
    "data_income = data.pivot_table(index='total_income_category', values='debt', aggfunc=['count', 'sum', 'mean'])\n",
    "#Присвоим столбцам новые значения\n",
    "data_income.columns = ['Кол-во заемщиков', 'Кол-во должников', 'Доля просрочек']\n",
    "#Добавим новый столбец 'Доля просрочек, в %'\n",
    "data_income['Доля просрочек, в %'] = data_income['Доля просрочек'] * 100\n",
    "#Выведем полученную таблицу\n",
    "data_income"
   ]
  },
  {
   "cell_type": "markdown",
   "id": "f08bcac6",
   "metadata": {},
   "source": [
    "По уровню дохода **A**, **D** и **E** недостаточно данных для корректного анализа. Анализ будем проводить только по двум самым большим уровням дохода: **B** и **C**."
   ]
  },
  {
   "cell_type": "code",
   "execution_count": 77,
   "id": "4bb64cdd",
   "metadata": {},
   "outputs": [
    {
     "data": {
      "text/html": [
       "<div>\n",
       "<style scoped>\n",
       "    .dataframe tbody tr th:only-of-type {\n",
       "        vertical-align: middle;\n",
       "    }\n",
       "\n",
       "    .dataframe tbody tr th {\n",
       "        vertical-align: top;\n",
       "    }\n",
       "\n",
       "    .dataframe thead th {\n",
       "        text-align: right;\n",
       "    }\n",
       "</style>\n",
       "<table border=\"1\" class=\"dataframe\">\n",
       "  <thead>\n",
       "    <tr style=\"text-align: right;\">\n",
       "      <th></th>\n",
       "      <th>Кол-во заемщиков</th>\n",
       "      <th>Кол-во должников</th>\n",
       "      <th>Доля просрочек</th>\n",
       "      <th>Доля просрочек, в %</th>\n",
       "    </tr>\n",
       "    <tr>\n",
       "      <th>total_income_category</th>\n",
       "      <th></th>\n",
       "      <th></th>\n",
       "      <th></th>\n",
       "      <th></th>\n",
       "    </tr>\n",
       "  </thead>\n",
       "  <tbody>\n",
       "    <tr>\n",
       "      <th>B</th>\n",
       "      <td>5014</td>\n",
       "      <td>354</td>\n",
       "      <td>0.070602</td>\n",
       "      <td>7.060231</td>\n",
       "    </tr>\n",
       "    <tr>\n",
       "      <th>C</th>\n",
       "      <td>15921</td>\n",
       "      <td>1353</td>\n",
       "      <td>0.084982</td>\n",
       "      <td>8.498210</td>\n",
       "    </tr>\n",
       "  </tbody>\n",
       "</table>\n",
       "</div>"
      ],
      "text/plain": [
       "                       Кол-во заемщиков  Кол-во должников  Доля просрочек  \\\n",
       "total_income_category                                                       \n",
       "B                                  5014               354        0.070602   \n",
       "C                                 15921              1353        0.084982   \n",
       "\n",
       "                       Доля просрочек, в %  \n",
       "total_income_category                       \n",
       "B                                 7.060231  \n",
       "C                                 8.498210  "
      ]
     },
     "execution_count": 77,
     "metadata": {},
     "output_type": "execute_result"
    }
   ],
   "source": [
    "#Применим индексацию для выбора уровней дохода B и C, полученные данные сохранять в отдельную таблицу не будем\n",
    "data_income.loc[['B', 'C']]"
   ]
  },
  {
   "cell_type": "markdown",
   "id": "15de5be9",
   "metadata": {},
   "source": [
    "Наиболее надежным заемщиком являются кредиторы с более высоким уровнем дохода **B (200001–1000000)**, доля просрочек у данной категории составляет 7,1%.\\\n",
    "Наименее надежным является категория с уровнем дохода **C (50001–200000)**, доля просрочек у данной категории составляет 8,5%.\n"
   ]
  },
  {
   "cell_type": "code",
   "execution_count": 78,
   "id": "cc0d1326",
   "metadata": {},
   "outputs": [
    {
     "data": {
      "text/plain": [
       "'Разница между группами с уровнем дохода B и C составляет 1% процентных пункта'"
      ]
     },
     "execution_count": 78,
     "metadata": {},
     "output_type": "execute_result"
    }
   ],
   "source": [
    "'Разница между группами с уровнем дохода B и C составляет {:.0%} процентных пункта'.format(0.084982-0.070602)"
   ]
  },
  {
   "cell_type": "code",
   "execution_count": 87,
   "id": "48838de5",
   "metadata": {},
   "outputs": [
    {
     "data": {
      "text/plain": [
       "'Относительное отклонение доли должников группы с уровнем дохода B и C составляет 20%'"
      ]
     },
     "execution_count": 87,
     "metadata": {},
     "output_type": "execute_result"
    }
   ],
   "source": [
    "'Относительное отклонение доли должников группы с уровнем дохода B и C составляет {:.0%}'.format((0.084982-0.070602)/0.070602)"
   ]
  },
  {
   "cell_type": "markdown",
   "id": "6dd14b57",
   "metadata": {
    "deletable": false,
    "id": "6dd14b57"
   },
   "source": [
    "**Вывод:** "
   ]
  },
  {
   "cell_type": "markdown",
   "id": "5afb6ea6",
   "metadata": {},
   "source": [
    "Можно сделать вывод, что чем больше уровень дохода у заемщика, тем доля просрочек будет ниже. В данном случае кредиторы с уровнем дохода B имеют меньшую долю просрочек на 20%, чем у категории C."
   ]
  },
  {
   "cell_type": "markdown",
   "id": "1dcc9b12",
   "metadata": {
    "deletable": false,
    "editable": false,
    "id": "1dcc9b12"
   },
   "source": [
    "#### 3.4 Как разные цели кредита влияют на его возврат в срок?"
   ]
  },
  {
   "cell_type": "markdown",
   "id": "8fe8a770",
   "metadata": {},
   "source": [
    "По данным исследования, мы имеем 4 категорий цели кредита:\n",
    "- операции с автомобилем,\n",
    "- операции с недвижимостью,\n",
    "-проведение свадьбы,\n",
    "- получение образования.\\\n",
    "Создадим сводную таблицу **data_purpose**, чтобы отобразить данные по заемщикам по целям кредита.\n"
   ]
  },
  {
   "cell_type": "code",
   "execution_count": 80,
   "id": "c602bc8b",
   "metadata": {
    "deletable": false,
    "id": "c602bc8b"
   },
   "outputs": [
    {
     "data": {
      "text/html": [
       "<div>\n",
       "<style scoped>\n",
       "    .dataframe tbody tr th:only-of-type {\n",
       "        vertical-align: middle;\n",
       "    }\n",
       "\n",
       "    .dataframe tbody tr th {\n",
       "        vertical-align: top;\n",
       "    }\n",
       "\n",
       "    .dataframe thead th {\n",
       "        text-align: right;\n",
       "    }\n",
       "</style>\n",
       "<table border=\"1\" class=\"dataframe\">\n",
       "  <thead>\n",
       "    <tr style=\"text-align: right;\">\n",
       "      <th></th>\n",
       "      <th>Кол-во заемщиков</th>\n",
       "      <th>Кол-во должников</th>\n",
       "      <th>Доля просрочек</th>\n",
       "      <th>Доля просрочек, в %</th>\n",
       "    </tr>\n",
       "    <tr>\n",
       "      <th>purpose_category</th>\n",
       "      <th></th>\n",
       "      <th></th>\n",
       "      <th></th>\n",
       "      <th></th>\n",
       "    </tr>\n",
       "  </thead>\n",
       "  <tbody>\n",
       "    <tr>\n",
       "      <th>операции с автомобилем</th>\n",
       "      <td>4279</td>\n",
       "      <td>400</td>\n",
       "      <td>0.093480</td>\n",
       "      <td>9.347978</td>\n",
       "    </tr>\n",
       "    <tr>\n",
       "      <th>операции с недвижимостью</th>\n",
       "      <td>10751</td>\n",
       "      <td>780</td>\n",
       "      <td>0.072551</td>\n",
       "      <td>7.255139</td>\n",
       "    </tr>\n",
       "    <tr>\n",
       "      <th>получение образования</th>\n",
       "      <td>3988</td>\n",
       "      <td>369</td>\n",
       "      <td>0.092528</td>\n",
       "      <td>9.252758</td>\n",
       "    </tr>\n",
       "    <tr>\n",
       "      <th>проведение свадьбы</th>\n",
       "      <td>2313</td>\n",
       "      <td>183</td>\n",
       "      <td>0.079118</td>\n",
       "      <td>7.911803</td>\n",
       "    </tr>\n",
       "  </tbody>\n",
       "</table>\n",
       "</div>"
      ],
      "text/plain": [
       "                          Кол-во заемщиков  Кол-во должников  Доля просрочек  \\\n",
       "purpose_category                                                               \n",
       "операции с автомобилем                4279               400        0.093480   \n",
       "операции с недвижимостью             10751               780        0.072551   \n",
       "получение образования                 3988               369        0.092528   \n",
       "проведение свадьбы                    2313               183        0.079118   \n",
       "\n",
       "                          Доля просрочек, в %  \n",
       "purpose_category                               \n",
       "операции с автомобилем               9.347978  \n",
       "операции с недвижимостью             7.255139  \n",
       "получение образования                9.252758  \n",
       "проведение свадьбы                   7.911803  "
      ]
     },
     "execution_count": 80,
     "metadata": {},
     "output_type": "execute_result"
    }
   ],
   "source": [
    "# Применим функции 'count', 'sum', 'mean' к значениям из столбца 'debt'.\n",
    "data_purpose = data.pivot_table(index='purpose_category', values='debt', aggfunc=['count', 'sum', 'mean'])\n",
    "#Присвоим столбцам новые значения\n",
    "data_purpose.columns = ['Кол-во заемщиков', 'Кол-во должников', 'Доля просрочек']\n",
    "#Добавим новый столбец 'Доля просрочек, в %'\n",
    "data_purpose['Доля просрочек, в %'] = data_purpose['Доля просрочек'] * 100\n",
    "#Выведем полученную таблицу\n",
    "data_purpose"
   ]
  },
  {
   "cell_type": "markdown",
   "id": "6d83e11a",
   "metadata": {},
   "source": [
    "По данным исследования, заемщики, цель кредита которых является операции с недвижимостью, более надежные, их доля просрочек составляет 7,3 %.\\\n",
    "Менее надежными являются кредиторы, цели кредита которых являются операции с автомобилем и получение образования, их доля просрочек составляет 9,3%."
   ]
  },
  {
   "cell_type": "code",
   "execution_count": 81,
   "id": "c950ecb1",
   "metadata": {},
   "outputs": [
    {
     "data": {
      "text/plain": [
       "'Разница между группами операции с недвижимостью и двух групп получение образования и операции с автомобилем составляет 2% процентных пункта'"
      ]
     },
     "execution_count": 81,
     "metadata": {},
     "output_type": "execute_result"
    }
   ],
   "source": [
    "'Разница между группами операции с недвижимостью и двух групп получение образования и операции с автомобилем составляет {:.0%} процентных пункта'.format(0.093480-0.072551)"
   ]
  },
  {
   "cell_type": "code",
   "execution_count": 82,
   "id": "41fdcfc5",
   "metadata": {},
   "outputs": [
    {
     "data": {
      "text/plain": [
       "'Относительное отклонение между этими группами составляет 29%'"
      ]
     },
     "execution_count": 82,
     "metadata": {},
     "output_type": "execute_result"
    }
   ],
   "source": [
    "'Относительное отклонение между этими группами составляет {:.0%}'.format((0.093480-0.072551)/0.072551)"
   ]
  },
  {
   "cell_type": "markdown",
   "id": "cf05ed63",
   "metadata": {
    "deletable": false,
    "id": "cf05ed63"
   },
   "source": [
    "**Вывод:** "
   ]
  },
  {
   "cell_type": "markdown",
   "id": "5cc43d41",
   "metadata": {},
   "source": [
    "Наиболее надежными заемщиками являются заемщики, цель кредита которых являются операции с недвижимостью."
   ]
  },
  {
   "cell_type": "markdown",
   "id": "46c1f10b",
   "metadata": {
    "deletable": false,
    "editable": false,
    "id": "46c1f10b"
   },
   "source": [
    "#### 3.5 Приведите возможные причины появления пропусков в исходных данных."
   ]
  },
  {
   "cell_type": "markdown",
   "id": "3697d2a9",
   "metadata": {
    "deletable": false,
    "id": "3697d2a9"
   },
   "source": [
    "*Ответ:* \\\n",
    "Пропуски имеют полностью случайный, случайные и неслучайный характер.\\\n",
    "Пропуск с полностью случайным характером не зависит ни от каких других значений. Пропуск легко восстановить по имени.\\\n",
    "Случайный пропуск зависит от других значений в наборе данных. Пропущенное значение связано с тем, что, например, такой категории не существует.\\\n",
    "Неслучайный пропуск зависит от других значений, в том числе и от значений собственного столбца.\\\n",
    "Также пропуска могут возникнут в случае технической ошибки (например при неправильной выгрузке) и от человеческого фактора (неправильно введенных данных).\n"
   ]
  },
  {
   "cell_type": "markdown",
   "id": "3137d257",
   "metadata": {
    "deletable": false,
    "editable": false,
    "id": "3137d257"
   },
   "source": [
    "#### 3.6 Объясните, почему заполнить пропуски медианным значением — лучшее решение для количественных переменных."
   ]
  },
  {
   "cell_type": "markdown",
   "id": "cf40012a",
   "metadata": {
    "deletable": false,
    "id": "cf40012a"
   },
   "source": [
    "*Ответ:* \\\n",
    "Строки с пропусками в количественных переменных можно удалить или заполнить характерными значениями.\\\n",
    "Метод удаления строк не всегда подходит для исследования, ведь в других столбцах могут содержаться данные, необходимые для анализа. А удаление этих данных приведет к искажению исследования.\\\n",
    "При заполнении пропусков характерными значениями применяют или среднее арифметическое, или медиану.\\\n",
    "Использование медианы наиболее предпочтительно, если выборка данных содержит неоднородные значения. При использовании среднего арифметического при заполнении пропусков, данные могут исказится в одну или другую сторону.\n"
   ]
  },
  {
   "cell_type": "markdown",
   "id": "57bc304e",
   "metadata": {
    "deletable": false,
    "editable": false,
    "id": "57bc304e"
   },
   "source": [
    "### Шаг 4: общий вывод."
   ]
  },
  {
   "cell_type": "markdown",
   "id": "a321c7cd",
   "metadata": {},
   "source": [
    "При исследовании влияния критериев количество детей, семейное положение, уровень дохода и цели кредита на долю просрочек заемщиков были получены следующие выводы.\\\n",
    "При влиянии отдельного критерия на возврат кредита в срок **наиболее надежными заемщиками** оказались (в скобках указана доля просрочек в %):\n",
    " - заемщики без детей (7,5%);\n",
    " - заемщики со семейным положением: вдовец / вдова (6,6%), в разводе (7,1%) и женат / замужем (7,6%);\n",
    " - заемщики с уровнем дохода В (7,1%);\n",
    " - заемщики с целью кредита операции с недвижимостью (7,3 %).\\\n",
    "**Наименее надежными заемщиками** оказались:\n",
    " - заемщики с 1 и более детьми (9,2%);\n",
    " - заемщики со семейным положением: гражданский брак (9,3%) и не женат / не замужем (9,7%);\n",
    " - заемщики с уровнем дохода С (8,5%);\n",
    " - заемщики с целью кредита операции с автомобилем и получение образования (9,3%)."
   ]
  },
  {
   "cell_type": "markdown",
   "id": "5144c4f9",
   "metadata": {},
   "source": [
    "Составим сводную таблицу при влиянии сразу 4 критериев и выясним, совпадают ли выводы с наиболее и наименее надежными заемщиками.  "
   ]
  },
  {
   "cell_type": "code",
   "execution_count": 90,
   "id": "db741ff5",
   "metadata": {},
   "outputs": [
    {
     "data": {
      "text/html": [
       "<div>\n",
       "<style scoped>\n",
       "    .dataframe tbody tr th:only-of-type {\n",
       "        vertical-align: middle;\n",
       "    }\n",
       "\n",
       "    .dataframe tbody tr th {\n",
       "        vertical-align: top;\n",
       "    }\n",
       "\n",
       "    .dataframe thead th {\n",
       "        text-align: right;\n",
       "    }\n",
       "</style>\n",
       "<table border=\"1\" class=\"dataframe\">\n",
       "  <thead>\n",
       "    <tr style=\"text-align: right;\">\n",
       "      <th></th>\n",
       "      <th></th>\n",
       "      <th></th>\n",
       "      <th></th>\n",
       "      <th>Кол-во заемщиков</th>\n",
       "      <th>Кол-во должников</th>\n",
       "      <th>Доля просрочек</th>\n",
       "    </tr>\n",
       "    <tr>\n",
       "      <th>purpose_category</th>\n",
       "      <th>children_group</th>\n",
       "      <th>family_status</th>\n",
       "      <th>total_income_category</th>\n",
       "      <th></th>\n",
       "      <th></th>\n",
       "      <th></th>\n",
       "    </tr>\n",
       "  </thead>\n",
       "  <tbody>\n",
       "    <tr>\n",
       "      <th rowspan=\"2\" valign=\"top\">операции с недвижимостью</th>\n",
       "      <th rowspan=\"2\" valign=\"top\">Нет детей</th>\n",
       "      <th>вдовец / вдова</th>\n",
       "      <th>C</th>\n",
       "      <td>382</td>\n",
       "      <td>19</td>\n",
       "      <td>0.049738</td>\n",
       "    </tr>\n",
       "    <tr>\n",
       "      <th>гражданский брак</th>\n",
       "      <th>B</th>\n",
       "      <td>147</td>\n",
       "      <td>8</td>\n",
       "      <td>0.054422</td>\n",
       "    </tr>\n",
       "    <tr>\n",
       "      <th>получение образования</th>\n",
       "      <th>Нет детей</th>\n",
       "      <th>женат / замужем</th>\n",
       "      <th>B</th>\n",
       "      <td>362</td>\n",
       "      <td>20</td>\n",
       "      <td>0.055249</td>\n",
       "    </tr>\n",
       "    <tr>\n",
       "      <th rowspan=\"2\" valign=\"top\">операции с недвижимостью</th>\n",
       "      <th>2 и более детей</th>\n",
       "      <th>женат / замужем</th>\n",
       "      <th>B</th>\n",
       "      <td>264</td>\n",
       "      <td>15</td>\n",
       "      <td>0.056818</td>\n",
       "    </tr>\n",
       "    <tr>\n",
       "      <th>Нет детей</th>\n",
       "      <th>женат / замужем</th>\n",
       "      <th>B</th>\n",
       "      <td>999</td>\n",
       "      <td>62</td>\n",
       "      <td>0.062062</td>\n",
       "    </tr>\n",
       "    <tr>\n",
       "      <th>проведение свадьбы</th>\n",
       "      <th>Нет детей</th>\n",
       "      <th>гражданский брак</th>\n",
       "      <th>B</th>\n",
       "      <td>350</td>\n",
       "      <td>22</td>\n",
       "      <td>0.062857</td>\n",
       "    </tr>\n",
       "    <tr>\n",
       "      <th>операции с недвижимостью</th>\n",
       "      <th>Нет детей</th>\n",
       "      <th>в разводе</th>\n",
       "      <th>B</th>\n",
       "      <td>111</td>\n",
       "      <td>7</td>\n",
       "      <td>0.063063</td>\n",
       "    </tr>\n",
       "    <tr>\n",
       "      <th>получение образования</th>\n",
       "      <th>Нет детей</th>\n",
       "      <th>вдовец / вдова</th>\n",
       "      <th>C</th>\n",
       "      <td>149</td>\n",
       "      <td>10</td>\n",
       "      <td>0.067114</td>\n",
       "    </tr>\n",
       "    <tr>\n",
       "      <th>операции с недвижимостью</th>\n",
       "      <th>Нет детей</th>\n",
       "      <th>женат / замужем</th>\n",
       "      <th>C</th>\n",
       "      <td>3143</td>\n",
       "      <td>212</td>\n",
       "      <td>0.067451</td>\n",
       "    </tr>\n",
       "    <tr>\n",
       "      <th>операции с автомобилем</th>\n",
       "      <th>Нет детей</th>\n",
       "      <th>женат / замужем</th>\n",
       "      <th>C</th>\n",
       "      <td>1231</td>\n",
       "      <td>86</td>\n",
       "      <td>0.069862</td>\n",
       "    </tr>\n",
       "  </tbody>\n",
       "</table>\n",
       "</div>"
      ],
      "text/plain": [
       "                                                                                 Кол-во заемщиков  \\\n",
       "purpose_category         children_group  family_status    total_income_category                     \n",
       "операции с недвижимостью Нет детей       вдовец / вдова   C                                   382   \n",
       "                                         гражданский брак B                                   147   \n",
       "получение образования    Нет детей       женат / замужем  B                                   362   \n",
       "операции с недвижимостью 2 и более детей женат / замужем  B                                   264   \n",
       "                         Нет детей       женат / замужем  B                                   999   \n",
       "проведение свадьбы       Нет детей       гражданский брак B                                   350   \n",
       "операции с недвижимостью Нет детей       в разводе        B                                   111   \n",
       "получение образования    Нет детей       вдовец / вдова   C                                   149   \n",
       "операции с недвижимостью Нет детей       женат / замужем  C                                  3143   \n",
       "операции с автомобилем   Нет детей       женат / замужем  C                                  1231   \n",
       "\n",
       "                                                                                 Кол-во должников  \\\n",
       "purpose_category         children_group  family_status    total_income_category                     \n",
       "операции с недвижимостью Нет детей       вдовец / вдова   C                                    19   \n",
       "                                         гражданский брак B                                     8   \n",
       "получение образования    Нет детей       женат / замужем  B                                    20   \n",
       "операции с недвижимостью 2 и более детей женат / замужем  B                                    15   \n",
       "                         Нет детей       женат / замужем  B                                    62   \n",
       "проведение свадьбы       Нет детей       гражданский брак B                                    22   \n",
       "операции с недвижимостью Нет детей       в разводе        B                                     7   \n",
       "получение образования    Нет детей       вдовец / вдова   C                                    10   \n",
       "операции с недвижимостью Нет детей       женат / замужем  C                                   212   \n",
       "операции с автомобилем   Нет детей       женат / замужем  C                                    86   \n",
       "\n",
       "                                                                                 Доля просрочек  \n",
       "purpose_category         children_group  family_status    total_income_category                  \n",
       "операции с недвижимостью Нет детей       вдовец / вдова   C                            0.049738  \n",
       "                                         гражданский брак B                            0.054422  \n",
       "получение образования    Нет детей       женат / замужем  B                            0.055249  \n",
       "операции с недвижимостью 2 и более детей женат / замужем  B                            0.056818  \n",
       "                         Нет детей       женат / замужем  B                            0.062062  \n",
       "проведение свадьбы       Нет детей       гражданский брак B                            0.062857  \n",
       "операции с недвижимостью Нет детей       в разводе        B                            0.063063  \n",
       "получение образования    Нет детей       вдовец / вдова   C                            0.067114  \n",
       "операции с недвижимостью Нет детей       женат / замужем  C                            0.067451  \n",
       "операции с автомобилем   Нет детей       женат / замужем  C                            0.069862  "
      ]
     },
     "execution_count": 90,
     "metadata": {},
     "output_type": "execute_result"
    }
   ],
   "source": [
    "#создадим сводную таблицу data_total\n",
    "data_total = data.pivot_table(index=['purpose_category', 'children_group','family_status', 'total_income_category'], values='debt', aggfunc=['count', 'sum', 'mean'])\n",
    "#Присвоим столбцам новые значения\n",
    "data_total.columns = ['Кол-во заемщиков', 'Кол-во должников', 'Доля просрочек']\n",
    "#Отсортируем таблицу по столбцу 'Доля просрочек' и отобразим наименьшие 10 значений. \n",
    "#При этом количество должников должно быть больше 5 человек\n",
    "data_total[data_total['Кол-во должников'] > 5].sort_values(by='Доля просрочек').head(10)"
   ]
  },
  {
   "cell_type": "markdown",
   "id": "81be673b",
   "metadata": {},
   "source": [
    "Гипотеза с наибольшими надежными заемщиками подтвердилась, при влиянии всех критериев надежный заемщик имеет следующие характеристики: не имеет детей, семейный статус - официально женат, уровень дохода B, цель кредита - операции с недвижимостью."
   ]
  },
  {
   "cell_type": "code",
   "execution_count": 89,
   "id": "59c21723",
   "metadata": {
    "scrolled": true
   },
   "outputs": [
    {
     "data": {
      "text/html": [
       "<div>\n",
       "<style scoped>\n",
       "    .dataframe tbody tr th:only-of-type {\n",
       "        vertical-align: middle;\n",
       "    }\n",
       "\n",
       "    .dataframe tbody tr th {\n",
       "        vertical-align: top;\n",
       "    }\n",
       "\n",
       "    .dataframe thead th {\n",
       "        text-align: right;\n",
       "    }\n",
       "</style>\n",
       "<table border=\"1\" class=\"dataframe\">\n",
       "  <thead>\n",
       "    <tr style=\"text-align: right;\">\n",
       "      <th></th>\n",
       "      <th></th>\n",
       "      <th></th>\n",
       "      <th></th>\n",
       "      <th>Кол-во заемщиков</th>\n",
       "      <th>Кол-во должников</th>\n",
       "      <th>Доля просрочек</th>\n",
       "    </tr>\n",
       "    <tr>\n",
       "      <th>purpose_category</th>\n",
       "      <th>children_group</th>\n",
       "      <th>family_status</th>\n",
       "      <th>total_income_category</th>\n",
       "      <th></th>\n",
       "      <th></th>\n",
       "      <th></th>\n",
       "    </tr>\n",
       "  </thead>\n",
       "  <tbody>\n",
       "    <tr>\n",
       "      <th>проведение свадьбы</th>\n",
       "      <th>Один ребенок</th>\n",
       "      <th>гражданский брак</th>\n",
       "      <th>C</th>\n",
       "      <td>397</td>\n",
       "      <td>46</td>\n",
       "      <td>0.115869</td>\n",
       "    </tr>\n",
       "    <tr>\n",
       "      <th>операции с автомобилем</th>\n",
       "      <th>Нет детей</th>\n",
       "      <th>Не женат / не замужем</th>\n",
       "      <th>B</th>\n",
       "      <td>119</td>\n",
       "      <td>14</td>\n",
       "      <td>0.117647</td>\n",
       "    </tr>\n",
       "    <tr>\n",
       "      <th>операции с недвижимостью</th>\n",
       "      <th>Один ребенок</th>\n",
       "      <th>Не женат / не замужем</th>\n",
       "      <th>B</th>\n",
       "      <td>66</td>\n",
       "      <td>8</td>\n",
       "      <td>0.121212</td>\n",
       "    </tr>\n",
       "    <tr>\n",
       "      <th>операции с автомобилем</th>\n",
       "      <th>Нет детей</th>\n",
       "      <th>Не женат / не замужем</th>\n",
       "      <th>C</th>\n",
       "      <td>396</td>\n",
       "      <td>49</td>\n",
       "      <td>0.123737</td>\n",
       "    </tr>\n",
       "    <tr>\n",
       "      <th>операции с недвижимостью</th>\n",
       "      <th>Один ребенок</th>\n",
       "      <th>гражданский брак</th>\n",
       "      <th>C</th>\n",
       "      <td>192</td>\n",
       "      <td>26</td>\n",
       "      <td>0.135417</td>\n",
       "    </tr>\n",
       "    <tr>\n",
       "      <th>получение образования</th>\n",
       "      <th>Нет детей</th>\n",
       "      <th>гражданский брак</th>\n",
       "      <th>C</th>\n",
       "      <td>195</td>\n",
       "      <td>29</td>\n",
       "      <td>0.148718</td>\n",
       "    </tr>\n",
       "    <tr>\n",
       "      <th rowspan=\"2\" valign=\"top\">операции с автомобилем</th>\n",
       "      <th rowspan=\"2\" valign=\"top\">Один ребенок</th>\n",
       "      <th>Не женат / не замужем</th>\n",
       "      <th>C</th>\n",
       "      <td>73</td>\n",
       "      <td>12</td>\n",
       "      <td>0.164384</td>\n",
       "    </tr>\n",
       "    <tr>\n",
       "      <th>гражданский брак</th>\n",
       "      <th>C</th>\n",
       "      <td>76</td>\n",
       "      <td>13</td>\n",
       "      <td>0.171053</td>\n",
       "    </tr>\n",
       "    <tr>\n",
       "      <th rowspan=\"2\" valign=\"top\">получение образования</th>\n",
       "      <th>Один ребенок</th>\n",
       "      <th>гражданский брак</th>\n",
       "      <th>C</th>\n",
       "      <td>73</td>\n",
       "      <td>14</td>\n",
       "      <td>0.191781</td>\n",
       "    </tr>\n",
       "    <tr>\n",
       "      <th>2 и более детей</th>\n",
       "      <th>гражданский брак</th>\n",
       "      <th>C</th>\n",
       "      <td>30</td>\n",
       "      <td>7</td>\n",
       "      <td>0.233333</td>\n",
       "    </tr>\n",
       "  </tbody>\n",
       "</table>\n",
       "</div>"
      ],
      "text/plain": [
       "                                                                                      Кол-во заемщиков  \\\n",
       "purpose_category         children_group  family_status         total_income_category                     \n",
       "проведение свадьбы       Один ребенок    гражданский брак      C                                   397   \n",
       "операции с автомобилем   Нет детей       Не женат / не замужем B                                   119   \n",
       "операции с недвижимостью Один ребенок    Не женат / не замужем B                                    66   \n",
       "операции с автомобилем   Нет детей       Не женат / не замужем C                                   396   \n",
       "операции с недвижимостью Один ребенок    гражданский брак      C                                   192   \n",
       "получение образования    Нет детей       гражданский брак      C                                   195   \n",
       "операции с автомобилем   Один ребенок    Не женат / не замужем C                                    73   \n",
       "                                         гражданский брак      C                                    76   \n",
       "получение образования    Один ребенок    гражданский брак      C                                    73   \n",
       "                         2 и более детей гражданский брак      C                                    30   \n",
       "\n",
       "                                                                                      Кол-во должников  \\\n",
       "purpose_category         children_group  family_status         total_income_category                     \n",
       "проведение свадьбы       Один ребенок    гражданский брак      C                                    46   \n",
       "операции с автомобилем   Нет детей       Не женат / не замужем B                                    14   \n",
       "операции с недвижимостью Один ребенок    Не женат / не замужем B                                     8   \n",
       "операции с автомобилем   Нет детей       Не женат / не замужем C                                    49   \n",
       "операции с недвижимостью Один ребенок    гражданский брак      C                                    26   \n",
       "получение образования    Нет детей       гражданский брак      C                                    29   \n",
       "операции с автомобилем   Один ребенок    Не женат / не замужем C                                    12   \n",
       "                                         гражданский брак      C                                    13   \n",
       "получение образования    Один ребенок    гражданский брак      C                                    14   \n",
       "                         2 и более детей гражданский брак      C                                     7   \n",
       "\n",
       "                                                                                      Доля просрочек  \n",
       "purpose_category         children_group  family_status         total_income_category                  \n",
       "проведение свадьбы       Один ребенок    гражданский брак      C                            0.115869  \n",
       "операции с автомобилем   Нет детей       Не женат / не замужем B                            0.117647  \n",
       "операции с недвижимостью Один ребенок    Не женат / не замужем B                            0.121212  \n",
       "операции с автомобилем   Нет детей       Не женат / не замужем C                            0.123737  \n",
       "операции с недвижимостью Один ребенок    гражданский брак      C                            0.135417  \n",
       "получение образования    Нет детей       гражданский брак      C                            0.148718  \n",
       "операции с автомобилем   Один ребенок    Не женат / не замужем C                            0.164384  \n",
       "                                         гражданский брак      C                            0.171053  \n",
       "получение образования    Один ребенок    гражданский брак      C                            0.191781  \n",
       "                         2 и более детей гражданский брак      C                            0.233333  "
      ]
     },
     "execution_count": 89,
     "metadata": {},
     "output_type": "execute_result"
    }
   ],
   "source": [
    "#Теперь отсортируем таблицу по столбцу 'Доля просрочек' и отобразим наибольшие 10 значений. \n",
    "#При этом количество должников должно быть больше 5 человек\n",
    "data_total[data_total['Кол-во должников'] > 5].sort_values(by='Доля просрочек').tail(10)"
   ]
  },
  {
   "cell_type": "markdown",
   "id": "1ab75d1c",
   "metadata": {
    "deletable": false,
    "id": "1ab75d1c"
   },
   "source": [
    "Гипотеза с наименее надежными заемщиками также подтвердилась, при влиянии всех критериев ненадежный заемщик имеет следующие характеристики: имеет 1 ребенка, семейный статус - официально не женат/гражданский брак, уровень дохода C, цель кредита - операции с автомобилем или получение образования."
   ]
  }
 ],
 "metadata": {
  "ExecuteTimeLog": [
   {
    "duration": 1041,
    "start_time": "2023-01-27T14:00:38.636Z"
   },
   {
    "duration": 24,
    "start_time": "2023-01-27T14:00:39.680Z"
   },
   {
    "duration": 15,
    "start_time": "2023-01-27T14:00:39.706Z"
   },
   {
    "duration": 9,
    "start_time": "2023-01-27T14:00:39.723Z"
   },
   {
    "duration": 51,
    "start_time": "2023-01-27T14:00:39.734Z"
   },
   {
    "duration": 3,
    "start_time": "2023-01-27T14:00:39.787Z"
   },
   {
    "duration": 10,
    "start_time": "2023-01-27T14:00:39.792Z"
   },
   {
    "duration": 4,
    "start_time": "2023-01-27T14:00:39.804Z"
   },
   {
    "duration": 15,
    "start_time": "2023-01-27T14:00:39.809Z"
   },
   {
    "duration": 7,
    "start_time": "2023-01-27T14:00:39.827Z"
   },
   {
    "duration": 58,
    "start_time": "2023-01-27T14:00:39.835Z"
   },
   {
    "duration": 10,
    "start_time": "2023-01-27T14:00:39.895Z"
   },
   {
    "duration": 3,
    "start_time": "2023-01-27T14:00:39.907Z"
   },
   {
    "duration": 17,
    "start_time": "2023-01-27T14:00:39.912Z"
   },
   {
    "duration": 47,
    "start_time": "2023-01-27T14:00:39.931Z"
   },
   {
    "duration": 24,
    "start_time": "2023-01-27T14:00:39.980Z"
   },
   {
    "duration": 4,
    "start_time": "2023-01-27T14:00:40.006Z"
   },
   {
    "duration": 16,
    "start_time": "2023-01-27T14:00:40.011Z"
   },
   {
    "duration": 7,
    "start_time": "2023-01-27T14:00:40.028Z"
   },
   {
    "duration": 10,
    "start_time": "2023-01-27T14:00:40.036Z"
   },
   {
    "duration": 34,
    "start_time": "2023-01-27T14:00:40.048Z"
   },
   {
    "duration": 67,
    "start_time": "2023-01-27T14:00:40.083Z"
   },
   {
    "duration": 0,
    "start_time": "2023-01-27T14:00:40.151Z"
   },
   {
    "duration": 0,
    "start_time": "2023-01-27T14:00:40.153Z"
   },
   {
    "duration": 0,
    "start_time": "2023-01-27T14:00:40.154Z"
   },
   {
    "duration": 6,
    "start_time": "2023-01-27T14:01:33.117Z"
   },
   {
    "duration": 5,
    "start_time": "2023-01-27T14:03:28.416Z"
   },
   {
    "duration": 7,
    "start_time": "2023-01-27T14:03:37.451Z"
   },
   {
    "duration": 48,
    "start_time": "2023-01-27T15:11:27.289Z"
   },
   {
    "duration": 3,
    "start_time": "2023-01-27T15:11:44.682Z"
   },
   {
    "duration": 10,
    "start_time": "2023-01-27T15:13:56.782Z"
   },
   {
    "duration": 5,
    "start_time": "2023-01-27T15:14:09.463Z"
   },
   {
    "duration": 5,
    "start_time": "2023-01-27T15:14:18.476Z"
   },
   {
    "duration": 5,
    "start_time": "2023-01-27T15:14:23.931Z"
   },
   {
    "duration": 5,
    "start_time": "2023-01-27T15:14:27.723Z"
   },
   {
    "duration": 196,
    "start_time": "2023-01-27T15:16:00.051Z"
   },
   {
    "duration": 6,
    "start_time": "2023-01-27T15:16:57.036Z"
   },
   {
    "duration": 66,
    "start_time": "2023-01-27T20:26:22.470Z"
   },
   {
    "duration": 848,
    "start_time": "2023-01-27T20:26:36.384Z"
   },
   {
    "duration": 46,
    "start_time": "2023-01-27T20:26:37.235Z"
   },
   {
    "duration": 25,
    "start_time": "2023-01-27T20:26:37.283Z"
   },
   {
    "duration": 10,
    "start_time": "2023-01-27T20:26:37.310Z"
   },
   {
    "duration": 66,
    "start_time": "2023-01-27T20:26:37.323Z"
   },
   {
    "duration": 4,
    "start_time": "2023-01-27T20:26:37.391Z"
   },
   {
    "duration": 22,
    "start_time": "2023-01-27T20:26:37.396Z"
   },
   {
    "duration": 69,
    "start_time": "2023-01-27T20:26:37.420Z"
   },
   {
    "duration": 15,
    "start_time": "2023-01-27T20:26:37.491Z"
   },
   {
    "duration": 6,
    "start_time": "2023-01-27T20:26:37.507Z"
   },
   {
    "duration": 60,
    "start_time": "2023-01-27T20:26:37.515Z"
   },
   {
    "duration": 13,
    "start_time": "2023-01-27T20:26:37.578Z"
   },
   {
    "duration": 11,
    "start_time": "2023-01-27T20:26:37.593Z"
   },
   {
    "duration": 17,
    "start_time": "2023-01-27T20:26:37.607Z"
   },
   {
    "duration": 53,
    "start_time": "2023-01-27T20:26:37.626Z"
   },
   {
    "duration": 20,
    "start_time": "2023-01-27T20:26:37.681Z"
   },
   {
    "duration": 3,
    "start_time": "2023-01-27T20:26:37.703Z"
   },
   {
    "duration": 15,
    "start_time": "2023-01-27T20:26:37.707Z"
   },
   {
    "duration": 7,
    "start_time": "2023-01-27T20:26:37.723Z"
   },
   {
    "duration": 31,
    "start_time": "2023-01-27T20:26:37.731Z"
   },
   {
    "duration": 31,
    "start_time": "2023-01-27T20:26:37.770Z"
   },
   {
    "duration": 14,
    "start_time": "2023-01-27T20:26:37.803Z"
   },
   {
    "duration": 13,
    "start_time": "2023-01-27T20:26:37.818Z"
   },
   {
    "duration": 41,
    "start_time": "2023-01-27T20:26:37.833Z"
   },
   {
    "duration": 7,
    "start_time": "2023-01-27T20:26:37.877Z"
   },
   {
    "duration": 269,
    "start_time": "2023-01-27T20:26:37.885Z"
   },
   {
    "duration": 21,
    "start_time": "2023-01-27T20:26:38.163Z"
   },
   {
    "duration": 18,
    "start_time": "2023-01-27T20:26:38.186Z"
   },
   {
    "duration": 14,
    "start_time": "2023-01-27T20:26:38.205Z"
   },
   {
    "duration": 16,
    "start_time": "2023-01-27T20:26:38.221Z"
   },
   {
    "duration": 9,
    "start_time": "2023-01-27T20:26:46.765Z"
   },
   {
    "duration": 9,
    "start_time": "2023-01-27T20:28:35.881Z"
   },
   {
    "duration": 18,
    "start_time": "2023-01-27T20:28:44.504Z"
   },
   {
    "duration": 13,
    "start_time": "2023-01-27T20:48:10.093Z"
   },
   {
    "duration": 63,
    "start_time": "2023-01-27T20:56:53.037Z"
   },
   {
    "duration": 4,
    "start_time": "2023-01-27T20:57:17.484Z"
   },
   {
    "duration": 51,
    "start_time": "2023-01-27T20:58:35.859Z"
   },
   {
    "duration": 3,
    "start_time": "2023-01-27T20:58:54.901Z"
   },
   {
    "duration": 13,
    "start_time": "2023-01-27T20:58:56.421Z"
   },
   {
    "duration": 4,
    "start_time": "2023-01-27T20:59:55.980Z"
   },
   {
    "duration": 28,
    "start_time": "2023-01-27T20:59:58.835Z"
   },
   {
    "duration": 6,
    "start_time": "2023-01-27T21:01:08.365Z"
   },
   {
    "duration": 20,
    "start_time": "2023-01-27T21:01:10.379Z"
   },
   {
    "duration": 0,
    "start_time": "2023-01-27T21:03:38.210Z"
   },
   {
    "duration": 0,
    "start_time": "2023-01-27T21:03:38.213Z"
   },
   {
    "duration": 4,
    "start_time": "2023-01-27T21:03:43.709Z"
   },
   {
    "duration": 12,
    "start_time": "2023-01-27T21:03:45.517Z"
   },
   {
    "duration": 4,
    "start_time": "2023-01-27T21:03:54.965Z"
   },
   {
    "duration": 14,
    "start_time": "2023-01-27T21:03:56.416Z"
   },
   {
    "duration": 13,
    "start_time": "2023-01-27T21:04:09.622Z"
   },
   {
    "duration": 8,
    "start_time": "2023-01-27T21:04:26.933Z"
   },
   {
    "duration": 12,
    "start_time": "2023-01-27T21:04:28.414Z"
   },
   {
    "duration": 7,
    "start_time": "2023-01-27T21:07:21.040Z"
   },
   {
    "duration": 843,
    "start_time": "2023-01-27T21:07:23.413Z"
   },
   {
    "duration": 3,
    "start_time": "2023-01-27T21:07:49.085Z"
   },
   {
    "duration": 6,
    "start_time": "2023-01-27T21:07:52.152Z"
   },
   {
    "duration": 46,
    "start_time": "2023-01-27T21:08:15.086Z"
   },
   {
    "duration": 4,
    "start_time": "2023-01-27T21:08:37.462Z"
   },
   {
    "duration": 5,
    "start_time": "2023-01-27T21:08:39.365Z"
   },
   {
    "duration": 3,
    "start_time": "2023-01-27T21:08:47.422Z"
   },
   {
    "duration": 6,
    "start_time": "2023-01-27T21:08:48.789Z"
   },
   {
    "duration": 4,
    "start_time": "2023-01-27T21:14:18.606Z"
   },
   {
    "duration": 16,
    "start_time": "2023-01-27T21:14:21.764Z"
   },
   {
    "duration": 891,
    "start_time": "2023-01-27T21:15:10.406Z"
   },
   {
    "duration": 817,
    "start_time": "2023-01-27T21:15:26.110Z"
   },
   {
    "duration": 4,
    "start_time": "2023-01-27T21:16:28.215Z"
   },
   {
    "duration": 700,
    "start_time": "2023-01-27T21:16:31.134Z"
   },
   {
    "duration": 3,
    "start_time": "2023-01-27T21:17:11.485Z"
   },
   {
    "duration": 4,
    "start_time": "2023-01-27T21:17:13.693Z"
   },
   {
    "duration": 3,
    "start_time": "2023-01-27T21:17:53.853Z"
   },
   {
    "duration": 4,
    "start_time": "2023-01-27T21:17:56.042Z"
   },
   {
    "duration": 3,
    "start_time": "2023-01-27T21:18:54.197Z"
   },
   {
    "duration": 727,
    "start_time": "2023-01-27T21:18:55.349Z"
   },
   {
    "duration": 4,
    "start_time": "2023-01-27T21:20:05.461Z"
   },
   {
    "duration": 1808,
    "start_time": "2023-01-27T21:20:07.639Z"
   },
   {
    "duration": 764,
    "start_time": "2023-01-27T21:20:49.647Z"
   },
   {
    "duration": 11,
    "start_time": "2023-01-27T21:21:09.269Z"
   },
   {
    "duration": 719,
    "start_time": "2023-01-27T21:21:23.682Z"
   },
   {
    "duration": 4,
    "start_time": "2023-01-27T21:21:59.099Z"
   },
   {
    "duration": 3,
    "start_time": "2023-01-27T21:23:03.208Z"
   },
   {
    "duration": 668,
    "start_time": "2023-01-27T21:23:06.072Z"
   },
   {
    "duration": 4,
    "start_time": "2023-01-27T21:24:27.702Z"
   },
   {
    "duration": 13,
    "start_time": "2023-01-27T21:24:29.438Z"
   },
   {
    "duration": 4,
    "start_time": "2023-01-27T21:24:53.917Z"
   },
   {
    "duration": 11,
    "start_time": "2023-01-27T21:24:55.384Z"
   },
   {
    "duration": 11,
    "start_time": "2023-01-27T21:26:15.413Z"
   },
   {
    "duration": 3,
    "start_time": "2023-01-27T21:28:02.024Z"
   },
   {
    "duration": 806,
    "start_time": "2023-01-27T21:28:10.009Z"
   },
   {
    "duration": 3,
    "start_time": "2023-01-27T21:28:41.628Z"
   },
   {
    "duration": 9,
    "start_time": "2023-01-27T21:28:49.239Z"
   },
   {
    "duration": 9,
    "start_time": "2023-01-27T22:58:19.857Z"
   },
   {
    "duration": 687,
    "start_time": "2023-01-27T22:58:28.734Z"
   },
   {
    "duration": 20,
    "start_time": "2023-01-27T22:58:29.424Z"
   },
   {
    "duration": 14,
    "start_time": "2023-01-27T22:58:29.446Z"
   },
   {
    "duration": 15,
    "start_time": "2023-01-27T22:58:29.461Z"
   },
   {
    "duration": 44,
    "start_time": "2023-01-27T22:58:29.479Z"
   },
   {
    "duration": 3,
    "start_time": "2023-01-27T22:58:29.525Z"
   },
   {
    "duration": 11,
    "start_time": "2023-01-27T22:58:29.530Z"
   },
   {
    "duration": 5,
    "start_time": "2023-01-27T22:58:29.542Z"
   },
   {
    "duration": 29,
    "start_time": "2023-01-27T22:58:29.548Z"
   },
   {
    "duration": 6,
    "start_time": "2023-01-27T22:58:29.579Z"
   },
   {
    "duration": 30,
    "start_time": "2023-01-27T22:58:29.586Z"
   },
   {
    "duration": 9,
    "start_time": "2023-01-27T22:58:29.617Z"
   },
   {
    "duration": 4,
    "start_time": "2023-01-27T22:58:29.627Z"
   },
   {
    "duration": 11,
    "start_time": "2023-01-27T22:58:29.633Z"
   },
   {
    "duration": 40,
    "start_time": "2023-01-27T22:58:29.645Z"
   },
   {
    "duration": 16,
    "start_time": "2023-01-27T22:58:29.687Z"
   },
   {
    "duration": 3,
    "start_time": "2023-01-27T22:58:29.704Z"
   },
   {
    "duration": 13,
    "start_time": "2023-01-27T22:58:29.709Z"
   },
   {
    "duration": 6,
    "start_time": "2023-01-27T22:58:29.723Z"
   },
   {
    "duration": 3,
    "start_time": "2023-01-27T22:58:29.730Z"
   },
   {
    "duration": 36,
    "start_time": "2023-01-27T22:58:29.735Z"
   },
   {
    "duration": 8,
    "start_time": "2023-01-27T22:58:29.773Z"
   },
   {
    "duration": 8,
    "start_time": "2023-01-27T22:58:29.782Z"
   },
   {
    "duration": 4,
    "start_time": "2023-01-27T22:58:29.791Z"
   },
   {
    "duration": 9,
    "start_time": "2023-01-27T22:58:29.796Z"
   },
   {
    "duration": 215,
    "start_time": "2023-01-27T22:58:29.806Z"
   },
   {
    "duration": 6,
    "start_time": "2023-01-27T22:58:30.023Z"
   },
   {
    "duration": 15,
    "start_time": "2023-01-27T22:58:30.031Z"
   },
   {
    "duration": 26,
    "start_time": "2023-01-27T22:58:30.047Z"
   },
   {
    "duration": 106,
    "start_time": "2023-01-27T22:58:30.075Z"
   },
   {
    "duration": 0,
    "start_time": "2023-01-27T22:58:30.183Z"
   },
   {
    "duration": 0,
    "start_time": "2023-01-27T22:58:30.184Z"
   },
   {
    "duration": 734,
    "start_time": "2023-01-28T18:49:58.517Z"
   },
   {
    "duration": 23,
    "start_time": "2023-01-28T18:49:59.253Z"
   },
   {
    "duration": 15,
    "start_time": "2023-01-28T18:49:59.277Z"
   },
   {
    "duration": 10,
    "start_time": "2023-01-28T18:49:59.295Z"
   },
   {
    "duration": 48,
    "start_time": "2023-01-28T18:49:59.306Z"
   },
   {
    "duration": 3,
    "start_time": "2023-01-28T18:49:59.356Z"
   },
   {
    "duration": 10,
    "start_time": "2023-01-28T18:49:59.361Z"
   },
   {
    "duration": 4,
    "start_time": "2023-01-28T18:49:59.373Z"
   },
   {
    "duration": 9,
    "start_time": "2023-01-28T18:49:59.379Z"
   },
   {
    "duration": 30,
    "start_time": "2023-01-28T18:49:59.391Z"
   },
   {
    "duration": 33,
    "start_time": "2023-01-28T18:49:59.422Z"
   },
   {
    "duration": 10,
    "start_time": "2023-01-28T18:49:59.456Z"
   },
   {
    "duration": 4,
    "start_time": "2023-01-28T18:49:59.467Z"
   },
   {
    "duration": 13,
    "start_time": "2023-01-28T18:49:59.472Z"
   },
   {
    "duration": 50,
    "start_time": "2023-01-28T18:49:59.487Z"
   },
   {
    "duration": 17,
    "start_time": "2023-01-28T18:49:59.539Z"
   },
   {
    "duration": 4,
    "start_time": "2023-01-28T18:49:59.557Z"
   },
   {
    "duration": 13,
    "start_time": "2023-01-28T18:49:59.563Z"
   },
   {
    "duration": 6,
    "start_time": "2023-01-28T18:49:59.577Z"
   },
   {
    "duration": 5,
    "start_time": "2023-01-28T18:49:59.584Z"
   },
   {
    "duration": 11,
    "start_time": "2023-01-28T18:49:59.620Z"
   },
   {
    "duration": 7,
    "start_time": "2023-01-28T18:49:59.633Z"
   },
   {
    "duration": 5,
    "start_time": "2023-01-28T18:49:59.642Z"
   },
   {
    "duration": 4,
    "start_time": "2023-01-28T18:49:59.649Z"
   },
   {
    "duration": 6,
    "start_time": "2023-01-28T18:49:59.654Z"
   },
   {
    "duration": 220,
    "start_time": "2023-01-28T18:49:59.662Z"
   },
   {
    "duration": 7,
    "start_time": "2023-01-28T18:49:59.884Z"
   },
   {
    "duration": 28,
    "start_time": "2023-01-28T18:49:59.894Z"
   },
   {
    "duration": 3,
    "start_time": "2023-01-28T18:49:59.925Z"
   },
   {
    "duration": 847,
    "start_time": "2023-01-28T18:49:59.930Z"
   },
   {
    "duration": 0,
    "start_time": "2023-01-28T18:50:00.779Z"
   },
   {
    "duration": 0,
    "start_time": "2023-01-28T18:50:00.780Z"
   },
   {
    "duration": 0,
    "start_time": "2023-01-28T18:50:00.781Z"
   },
   {
    "duration": 0,
    "start_time": "2023-01-28T18:50:00.782Z"
   },
   {
    "duration": 0,
    "start_time": "2023-01-28T18:50:00.784Z"
   },
   {
    "duration": 0,
    "start_time": "2023-01-28T18:50:00.785Z"
   },
   {
    "duration": 0,
    "start_time": "2023-01-28T18:50:00.787Z"
   },
   {
    "duration": 0,
    "start_time": "2023-01-28T18:50:00.788Z"
   },
   {
    "duration": 0,
    "start_time": "2023-01-28T18:50:00.789Z"
   },
   {
    "duration": 0,
    "start_time": "2023-01-28T18:50:00.790Z"
   },
   {
    "duration": 18,
    "start_time": "2023-01-28T18:52:41.959Z"
   },
   {
    "duration": 16,
    "start_time": "2023-01-28T18:54:20.096Z"
   },
   {
    "duration": 17,
    "start_time": "2023-01-28T18:54:31.323Z"
   },
   {
    "duration": 15,
    "start_time": "2023-01-28T18:56:28.381Z"
   },
   {
    "duration": 27,
    "start_time": "2023-01-28T18:58:24.323Z"
   },
   {
    "duration": 14,
    "start_time": "2023-01-28T18:59:10.679Z"
   },
   {
    "duration": 23,
    "start_time": "2023-01-28T18:59:53.545Z"
   },
   {
    "duration": 15,
    "start_time": "2023-01-28T19:00:22.612Z"
   },
   {
    "duration": 25,
    "start_time": "2023-01-28T19:01:05.385Z"
   },
   {
    "duration": 22,
    "start_time": "2023-01-28T19:02:03.751Z"
   },
   {
    "duration": 28,
    "start_time": "2023-01-28T19:02:52.424Z"
   },
   {
    "duration": 17,
    "start_time": "2023-01-28T19:03:18.546Z"
   },
   {
    "duration": 21,
    "start_time": "2023-01-28T19:03:35.550Z"
   },
   {
    "duration": 22,
    "start_time": "2023-01-28T19:03:48.676Z"
   },
   {
    "duration": 40,
    "start_time": "2023-01-28T19:04:05.354Z"
   },
   {
    "duration": 25,
    "start_time": "2023-01-28T19:04:17.946Z"
   },
   {
    "duration": 27,
    "start_time": "2023-01-28T19:04:35.772Z"
   },
   {
    "duration": 16,
    "start_time": "2023-01-28T19:05:47.618Z"
   },
   {
    "duration": 19,
    "start_time": "2023-01-28T19:06:24.605Z"
   },
   {
    "duration": 32,
    "start_time": "2023-01-28T19:07:09.876Z"
   },
   {
    "duration": 35,
    "start_time": "2023-01-28T19:14:43.380Z"
   },
   {
    "duration": 27,
    "start_time": "2023-01-28T19:17:19.604Z"
   },
   {
    "duration": 15,
    "start_time": "2023-01-28T19:21:30.030Z"
   },
   {
    "duration": 3,
    "start_time": "2023-01-28T20:03:57.709Z"
   },
   {
    "duration": 9,
    "start_time": "2023-01-28T20:04:41.408Z"
   },
   {
    "duration": 4,
    "start_time": "2023-01-28T20:04:49.845Z"
   },
   {
    "duration": 24,
    "start_time": "2023-01-28T20:05:46.446Z"
   },
   {
    "duration": 40,
    "start_time": "2023-01-28T20:06:18.541Z"
   },
   {
    "duration": 29,
    "start_time": "2023-01-28T20:06:34.240Z"
   },
   {
    "duration": 30,
    "start_time": "2023-01-28T20:20:48.756Z"
   },
   {
    "duration": 42,
    "start_time": "2023-01-28T20:21:39.105Z"
   },
   {
    "duration": 42,
    "start_time": "2023-01-28T20:26:11.756Z"
   },
   {
    "duration": 32,
    "start_time": "2023-01-28T20:26:49.172Z"
   },
   {
    "duration": 35,
    "start_time": "2023-01-28T20:27:02.382Z"
   },
   {
    "duration": 35,
    "start_time": "2023-01-28T20:28:39.152Z"
   },
   {
    "duration": 35,
    "start_time": "2023-01-28T20:30:10.740Z"
   },
   {
    "duration": 28,
    "start_time": "2023-01-28T20:31:18.032Z"
   },
   {
    "duration": 18,
    "start_time": "2023-01-28T20:31:20.346Z"
   },
   {
    "duration": 47,
    "start_time": "2023-01-28T20:32:21.253Z"
   },
   {
    "duration": 28,
    "start_time": "2023-01-28T20:32:30.512Z"
   },
   {
    "duration": 16,
    "start_time": "2023-01-28T20:33:07.198Z"
   },
   {
    "duration": 17,
    "start_time": "2023-01-28T20:33:16.005Z"
   },
   {
    "duration": 14,
    "start_time": "2023-01-28T20:34:02.537Z"
   },
   {
    "duration": 17,
    "start_time": "2023-01-28T20:34:16.512Z"
   },
   {
    "duration": 25,
    "start_time": "2023-01-28T20:34:45.554Z"
   },
   {
    "duration": 27,
    "start_time": "2023-01-28T20:34:54.707Z"
   },
   {
    "duration": 37,
    "start_time": "2023-01-28T20:35:05.420Z"
   },
   {
    "duration": 15,
    "start_time": "2023-01-28T20:35:07.335Z"
   },
   {
    "duration": 14,
    "start_time": "2023-01-28T20:38:28.137Z"
   },
   {
    "duration": 32,
    "start_time": "2023-01-28T20:38:54.083Z"
   },
   {
    "duration": 52,
    "start_time": "2023-01-28T20:42:51.668Z"
   },
   {
    "duration": 41,
    "start_time": "2023-01-28T20:46:55.669Z"
   },
   {
    "duration": 16,
    "start_time": "2023-01-28T20:47:30.275Z"
   },
   {
    "duration": 17,
    "start_time": "2023-01-28T20:48:38.682Z"
   },
   {
    "duration": 29,
    "start_time": "2023-01-28T20:54:42.646Z"
   },
   {
    "duration": 518,
    "start_time": "2023-01-28T21:04:25.718Z"
   },
   {
    "duration": 23,
    "start_time": "2023-01-28T21:04:26.238Z"
   },
   {
    "duration": 16,
    "start_time": "2023-01-28T21:04:26.262Z"
   },
   {
    "duration": 10,
    "start_time": "2023-01-28T21:04:26.280Z"
   },
   {
    "duration": 45,
    "start_time": "2023-01-28T21:04:26.292Z"
   },
   {
    "duration": 4,
    "start_time": "2023-01-28T21:04:26.339Z"
   },
   {
    "duration": 13,
    "start_time": "2023-01-28T21:04:26.344Z"
   },
   {
    "duration": 4,
    "start_time": "2023-01-28T21:04:26.359Z"
   },
   {
    "duration": 11,
    "start_time": "2023-01-28T21:04:26.365Z"
   },
   {
    "duration": 27,
    "start_time": "2023-01-28T21:04:26.378Z"
   },
   {
    "duration": 35,
    "start_time": "2023-01-28T21:04:26.407Z"
   },
   {
    "duration": 10,
    "start_time": "2023-01-28T21:04:26.444Z"
   },
   {
    "duration": 5,
    "start_time": "2023-01-28T21:04:26.456Z"
   },
   {
    "duration": 14,
    "start_time": "2023-01-28T21:04:26.464Z"
   },
   {
    "duration": 38,
    "start_time": "2023-01-28T21:04:26.480Z"
   },
   {
    "duration": 19,
    "start_time": "2023-01-28T21:04:26.519Z"
   },
   {
    "duration": 3,
    "start_time": "2023-01-28T21:04:26.540Z"
   },
   {
    "duration": 17,
    "start_time": "2023-01-28T21:04:26.545Z"
   },
   {
    "duration": 8,
    "start_time": "2023-01-28T21:04:26.564Z"
   },
   {
    "duration": 32,
    "start_time": "2023-01-28T21:04:26.573Z"
   },
   {
    "duration": 16,
    "start_time": "2023-01-28T21:04:26.607Z"
   },
   {
    "duration": 11,
    "start_time": "2023-01-28T21:04:26.624Z"
   },
   {
    "duration": 5,
    "start_time": "2023-01-28T21:04:26.637Z"
   },
   {
    "duration": 15,
    "start_time": "2023-01-28T21:04:26.644Z"
   },
   {
    "duration": 28,
    "start_time": "2023-01-28T21:04:26.660Z"
   },
   {
    "duration": 43,
    "start_time": "2023-01-28T21:04:26.690Z"
   },
   {
    "duration": 95,
    "start_time": "2023-01-28T21:04:26.735Z"
   },
   {
    "duration": 1,
    "start_time": "2023-01-28T21:04:26.831Z"
   },
   {
    "duration": 0,
    "start_time": "2023-01-28T21:04:26.833Z"
   },
   {
    "duration": 0,
    "start_time": "2023-01-28T21:04:26.834Z"
   },
   {
    "duration": 0,
    "start_time": "2023-01-28T21:04:26.835Z"
   },
   {
    "duration": 1,
    "start_time": "2023-01-28T21:04:26.837Z"
   },
   {
    "duration": 9,
    "start_time": "2023-01-28T21:04:39.433Z"
   },
   {
    "duration": 63,
    "start_time": "2023-01-28T21:04:47.464Z"
   },
   {
    "duration": 14,
    "start_time": "2023-01-28T21:04:47.529Z"
   },
   {
    "duration": 16,
    "start_time": "2023-01-28T21:04:47.545Z"
   },
   {
    "duration": 9,
    "start_time": "2023-01-28T21:04:47.563Z"
   },
   {
    "duration": 60,
    "start_time": "2023-01-28T21:04:47.573Z"
   },
   {
    "duration": 3,
    "start_time": "2023-01-28T21:04:47.635Z"
   },
   {
    "duration": 18,
    "start_time": "2023-01-28T21:04:47.640Z"
   },
   {
    "duration": 4,
    "start_time": "2023-01-28T21:04:47.660Z"
   },
   {
    "duration": 6,
    "start_time": "2023-01-28T21:04:47.666Z"
   },
   {
    "duration": 29,
    "start_time": "2023-01-28T21:04:47.675Z"
   },
   {
    "duration": 34,
    "start_time": "2023-01-28T21:04:47.706Z"
   },
   {
    "duration": 9,
    "start_time": "2023-01-28T21:04:47.742Z"
   },
   {
    "duration": 4,
    "start_time": "2023-01-28T21:04:47.753Z"
   },
   {
    "duration": 12,
    "start_time": "2023-01-28T21:04:47.759Z"
   },
   {
    "duration": 45,
    "start_time": "2023-01-28T21:04:47.772Z"
   },
   {
    "duration": 17,
    "start_time": "2023-01-28T21:04:47.818Z"
   },
   {
    "duration": 3,
    "start_time": "2023-01-28T21:04:47.837Z"
   },
   {
    "duration": 12,
    "start_time": "2023-01-28T21:04:47.842Z"
   },
   {
    "duration": 5,
    "start_time": "2023-01-28T21:04:47.856Z"
   },
   {
    "duration": 4,
    "start_time": "2023-01-28T21:04:47.862Z"
   },
   {
    "duration": 36,
    "start_time": "2023-01-28T21:04:47.867Z"
   },
   {
    "duration": 6,
    "start_time": "2023-01-28T21:04:47.905Z"
   },
   {
    "duration": 3,
    "start_time": "2023-01-28T21:04:47.912Z"
   },
   {
    "duration": 13,
    "start_time": "2023-01-28T21:04:47.916Z"
   },
   {
    "duration": 20,
    "start_time": "2023-01-28T21:04:47.930Z"
   },
   {
    "duration": 33,
    "start_time": "2023-01-28T21:04:47.951Z"
   },
   {
    "duration": 24,
    "start_time": "2023-01-28T21:04:47.985Z"
   },
   {
    "duration": 13,
    "start_time": "2023-01-28T21:04:48.011Z"
   },
   {
    "duration": 27,
    "start_time": "2023-01-28T21:04:48.025Z"
   },
   {
    "duration": 14,
    "start_time": "2023-01-28T21:04:48.053Z"
   },
   {
    "duration": 6,
    "start_time": "2023-01-28T21:04:48.068Z"
   },
   {
    "duration": 29,
    "start_time": "2023-01-28T21:04:48.075Z"
   },
   {
    "duration": 27,
    "start_time": "2023-01-28T21:05:23.646Z"
   },
   {
    "duration": 10,
    "start_time": "2023-01-28T21:05:31.552Z"
   },
   {
    "duration": 27,
    "start_time": "2023-01-28T21:06:26.740Z"
   },
   {
    "duration": 10,
    "start_time": "2023-01-28T21:09:05.957Z"
   },
   {
    "duration": 10,
    "start_time": "2023-01-28T21:10:22.073Z"
   },
   {
    "duration": 10,
    "start_time": "2023-01-28T21:10:25.033Z"
   },
   {
    "duration": 10,
    "start_time": "2023-01-28T21:10:44.514Z"
   },
   {
    "duration": 10,
    "start_time": "2023-01-28T21:11:01.850Z"
   },
   {
    "duration": 31,
    "start_time": "2023-01-28T21:21:11.914Z"
   },
   {
    "duration": 9,
    "start_time": "2023-01-28T21:22:55.388Z"
   },
   {
    "duration": 38,
    "start_time": "2023-01-28T21:25:33.703Z"
   },
   {
    "duration": 57,
    "start_time": "2023-01-28T21:27:00.979Z"
   },
   {
    "duration": 60,
    "start_time": "2023-01-28T21:28:00.411Z"
   },
   {
    "duration": 1185,
    "start_time": "2023-01-28T21:29:38.321Z"
   },
   {
    "duration": 1188,
    "start_time": "2023-01-28T21:31:11.523Z"
   },
   {
    "duration": 54,
    "start_time": "2023-01-28T21:31:34.249Z"
   },
   {
    "duration": 47,
    "start_time": "2023-01-28T21:32:07.885Z"
   },
   {
    "duration": 50,
    "start_time": "2023-01-28T21:33:00.553Z"
   },
   {
    "duration": 1314,
    "start_time": "2023-01-28T21:35:00.237Z"
   },
   {
    "duration": 1251,
    "start_time": "2023-01-28T21:35:24.977Z"
   },
   {
    "duration": 57,
    "start_time": "2023-01-28T21:35:53.717Z"
   },
   {
    "duration": 1123,
    "start_time": "2023-01-28T21:36:12.333Z"
   },
   {
    "duration": 57,
    "start_time": "2023-01-28T21:36:32.989Z"
   },
   {
    "duration": 75,
    "start_time": "2023-01-28T21:37:17.219Z"
   },
   {
    "duration": 51,
    "start_time": "2023-01-28T21:37:49.995Z"
   },
   {
    "duration": 52,
    "start_time": "2023-01-28T21:39:39.069Z"
   },
   {
    "duration": 57,
    "start_time": "2023-01-28T21:40:13.972Z"
   },
   {
    "duration": 54,
    "start_time": "2023-01-28T21:43:07.830Z"
   },
   {
    "duration": 54,
    "start_time": "2023-01-28T21:46:25.260Z"
   },
   {
    "duration": 52,
    "start_time": "2023-01-28T21:46:59.681Z"
   },
   {
    "duration": 11,
    "start_time": "2023-01-28T21:47:23.218Z"
   },
   {
    "duration": 55,
    "start_time": "2023-01-28T21:49:11.275Z"
   },
   {
    "duration": 16,
    "start_time": "2023-01-28T21:49:16.451Z"
   },
   {
    "duration": 8,
    "start_time": "2023-01-28T22:20:04.683Z"
   },
   {
    "duration": 29,
    "start_time": "2023-01-28T22:21:47.012Z"
   },
   {
    "duration": 31,
    "start_time": "2023-01-28T22:22:13.444Z"
   },
   {
    "duration": 25,
    "start_time": "2023-01-28T22:22:31.622Z"
   },
   {
    "duration": 9,
    "start_time": "2023-01-28T22:22:35.257Z"
   },
   {
    "duration": 29,
    "start_time": "2023-01-28T22:22:50.656Z"
   },
   {
    "duration": 585,
    "start_time": "2023-01-30T12:50:45.978Z"
   },
   {
    "duration": 29,
    "start_time": "2023-01-30T12:50:46.566Z"
   },
   {
    "duration": 25,
    "start_time": "2023-01-30T12:50:46.597Z"
   },
   {
    "duration": 33,
    "start_time": "2023-01-30T12:50:46.624Z"
   },
   {
    "duration": 51,
    "start_time": "2023-01-30T12:50:46.660Z"
   },
   {
    "duration": 4,
    "start_time": "2023-01-30T12:50:46.713Z"
   },
   {
    "duration": 55,
    "start_time": "2023-01-30T12:50:46.718Z"
   },
   {
    "duration": 21,
    "start_time": "2023-01-30T12:50:46.775Z"
   },
   {
    "duration": 30,
    "start_time": "2023-01-30T12:50:46.798Z"
   },
   {
    "duration": 33,
    "start_time": "2023-01-30T12:50:46.830Z"
   },
   {
    "duration": 82,
    "start_time": "2023-01-30T12:50:46.865Z"
   },
   {
    "duration": 15,
    "start_time": "2023-01-30T12:50:46.952Z"
   },
   {
    "duration": 45,
    "start_time": "2023-01-30T12:50:46.969Z"
   },
   {
    "duration": 19,
    "start_time": "2023-01-30T12:50:47.018Z"
   },
   {
    "duration": 33,
    "start_time": "2023-01-30T12:50:47.044Z"
   },
   {
    "duration": 28,
    "start_time": "2023-01-30T12:50:47.079Z"
   },
   {
    "duration": 5,
    "start_time": "2023-01-30T12:50:47.109Z"
   },
   {
    "duration": 39,
    "start_time": "2023-01-30T12:50:47.116Z"
   },
   {
    "duration": 9,
    "start_time": "2023-01-30T12:50:47.159Z"
   },
   {
    "duration": 8,
    "start_time": "2023-01-30T12:50:47.169Z"
   },
   {
    "duration": 15,
    "start_time": "2023-01-30T12:50:47.179Z"
   },
   {
    "duration": 12,
    "start_time": "2023-01-30T12:50:47.196Z"
   },
   {
    "duration": 3,
    "start_time": "2023-01-30T12:50:47.211Z"
   },
   {
    "duration": 16,
    "start_time": "2023-01-30T12:50:47.216Z"
   },
   {
    "duration": 49,
    "start_time": "2023-01-30T12:50:47.234Z"
   },
   {
    "duration": 37,
    "start_time": "2023-01-30T12:50:47.285Z"
   },
   {
    "duration": 11,
    "start_time": "2023-01-30T12:50:47.324Z"
   },
   {
    "duration": 11,
    "start_time": "2023-01-30T12:50:47.337Z"
   },
   {
    "duration": 47,
    "start_time": "2023-01-30T12:50:47.350Z"
   },
   {
    "duration": 49,
    "start_time": "2023-01-30T12:50:47.399Z"
   },
   {
    "duration": 15,
    "start_time": "2023-01-30T12:50:47.450Z"
   },
   {
    "duration": 41,
    "start_time": "2023-01-30T12:50:47.468Z"
   },
   {
    "duration": 75,
    "start_time": "2023-01-30T12:50:47.510Z"
   },
   {
    "duration": 14,
    "start_time": "2023-01-30T12:50:47.587Z"
   },
   {
    "duration": 5,
    "start_time": "2023-01-30T13:02:00.608Z"
   },
   {
    "duration": 13,
    "start_time": "2023-01-30T13:06:59.844Z"
   },
   {
    "duration": 5,
    "start_time": "2023-01-30T13:07:03.220Z"
   },
   {
    "duration": 21,
    "start_time": "2023-01-30T13:07:05.879Z"
   },
   {
    "duration": 51,
    "start_time": "2023-01-30T13:19:49.673Z"
   },
   {
    "duration": 4,
    "start_time": "2023-01-30T13:29:32.421Z"
   },
   {
    "duration": 73,
    "start_time": "2023-01-30T13:29:42.965Z"
   },
   {
    "duration": 4,
    "start_time": "2023-01-30T13:29:52.282Z"
   },
   {
    "duration": 11,
    "start_time": "2023-01-30T13:31:46.573Z"
   },
   {
    "duration": 6,
    "start_time": "2023-01-30T13:31:53.622Z"
   },
   {
    "duration": 9,
    "start_time": "2023-01-30T13:32:58.236Z"
   },
   {
    "duration": 4,
    "start_time": "2023-01-30T13:33:08.328Z"
   },
   {
    "duration": 51,
    "start_time": "2023-01-30T13:47:42.833Z"
   },
   {
    "duration": 99,
    "start_time": "2023-01-30T13:50:48.502Z"
   },
   {
    "duration": 7,
    "start_time": "2023-01-30T13:55:45.268Z"
   },
   {
    "duration": 96,
    "start_time": "2023-01-30T13:56:07.529Z"
   },
   {
    "duration": 4,
    "start_time": "2023-01-30T13:56:19.531Z"
   },
   {
    "duration": 6,
    "start_time": "2023-01-30T13:56:24.601Z"
   },
   {
    "duration": 10,
    "start_time": "2023-01-30T13:56:31.583Z"
   },
   {
    "duration": 5,
    "start_time": "2023-01-30T13:56:38.067Z"
   },
   {
    "duration": 6,
    "start_time": "2023-01-30T13:56:42.618Z"
   },
   {
    "duration": 5,
    "start_time": "2023-01-30T13:59:22.912Z"
   },
   {
    "duration": 7,
    "start_time": "2023-01-30T13:59:25.447Z"
   },
   {
    "duration": 32,
    "start_time": "2023-01-30T14:05:49.585Z"
   },
   {
    "duration": 11,
    "start_time": "2023-01-30T14:11:10.014Z"
   },
   {
    "duration": 5,
    "start_time": "2023-01-30T14:19:45.005Z"
   },
   {
    "duration": 6,
    "start_time": "2023-01-30T14:19:49.510Z"
   },
   {
    "duration": 736,
    "start_time": "2023-01-30T20:48:54.296Z"
   },
   {
    "duration": 23,
    "start_time": "2023-01-30T20:48:55.034Z"
   },
   {
    "duration": 20,
    "start_time": "2023-01-30T20:48:55.058Z"
   },
   {
    "duration": 10,
    "start_time": "2023-01-30T20:48:55.079Z"
   },
   {
    "duration": 38,
    "start_time": "2023-01-30T20:48:55.091Z"
   },
   {
    "duration": 3,
    "start_time": "2023-01-30T20:48:55.131Z"
   },
   {
    "duration": 17,
    "start_time": "2023-01-30T20:48:55.136Z"
   },
   {
    "duration": 7,
    "start_time": "2023-01-30T20:48:55.155Z"
   },
   {
    "duration": 23,
    "start_time": "2023-01-30T20:48:55.163Z"
   },
   {
    "duration": 9,
    "start_time": "2023-01-30T20:48:55.188Z"
   },
   {
    "duration": 67,
    "start_time": "2023-01-30T20:48:55.199Z"
   },
   {
    "duration": 9,
    "start_time": "2023-01-30T20:48:55.267Z"
   },
   {
    "duration": 34,
    "start_time": "2023-01-30T20:48:55.278Z"
   },
   {
    "duration": 40,
    "start_time": "2023-01-30T20:48:55.315Z"
   },
   {
    "duration": 38,
    "start_time": "2023-01-30T20:48:55.357Z"
   },
   {
    "duration": 16,
    "start_time": "2023-01-30T20:48:55.397Z"
   },
   {
    "duration": 3,
    "start_time": "2023-01-30T20:48:55.415Z"
   },
   {
    "duration": 13,
    "start_time": "2023-01-30T20:48:55.419Z"
   },
   {
    "duration": 5,
    "start_time": "2023-01-30T20:48:55.433Z"
   },
   {
    "duration": 4,
    "start_time": "2023-01-30T20:48:55.440Z"
   },
   {
    "duration": 12,
    "start_time": "2023-01-30T20:48:55.445Z"
   },
   {
    "duration": 5,
    "start_time": "2023-01-30T20:48:55.458Z"
   },
   {
    "duration": 29,
    "start_time": "2023-01-30T20:48:55.465Z"
   },
   {
    "duration": 21,
    "start_time": "2023-01-30T20:48:55.496Z"
   },
   {
    "duration": 32,
    "start_time": "2023-01-30T20:48:55.518Z"
   },
   {
    "duration": 4,
    "start_time": "2023-01-30T20:48:55.551Z"
   },
   {
    "duration": 10,
    "start_time": "2023-01-30T20:48:55.556Z"
   },
   {
    "duration": 35,
    "start_time": "2023-01-30T20:48:55.567Z"
   },
   {
    "duration": 7,
    "start_time": "2023-01-30T20:48:55.604Z"
   },
   {
    "duration": 28,
    "start_time": "2023-01-30T20:48:55.613Z"
   },
   {
    "duration": 4,
    "start_time": "2023-01-30T20:48:55.642Z"
   },
   {
    "duration": 6,
    "start_time": "2023-01-30T20:48:55.647Z"
   },
   {
    "duration": 61,
    "start_time": "2023-01-30T20:48:55.654Z"
   },
   {
    "duration": 8,
    "start_time": "2023-01-30T20:48:55.717Z"
   },
   {
    "duration": 7,
    "start_time": "2023-01-30T20:48:55.727Z"
   },
   {
    "duration": 5,
    "start_time": "2023-01-30T20:48:55.735Z"
   },
   {
    "duration": 53,
    "start_time": "2023-01-30T20:48:55.742Z"
   },
   {
    "duration": 48,
    "start_time": "2023-01-30T20:48:55.797Z"
   },
   {
    "duration": 10,
    "start_time": "2023-01-30T20:48:55.846Z"
   },
   {
    "duration": 63,
    "start_time": "2023-01-30T20:56:20.070Z"
   },
   {
    "duration": 4,
    "start_time": "2023-01-30T21:04:22.184Z"
   },
   {
    "duration": 4,
    "start_time": "2023-01-30T21:05:12.658Z"
   },
   {
    "duration": 4,
    "start_time": "2023-01-30T21:05:41.047Z"
   },
   {
    "duration": 71,
    "start_time": "2023-01-30T22:07:45.003Z"
   },
   {
    "duration": 15,
    "start_time": "2023-01-30T22:07:45.076Z"
   },
   {
    "duration": 17,
    "start_time": "2023-01-30T22:07:45.093Z"
   },
   {
    "duration": 14,
    "start_time": "2023-01-30T22:07:45.112Z"
   },
   {
    "duration": 32,
    "start_time": "2023-01-30T22:07:45.128Z"
   },
   {
    "duration": 3,
    "start_time": "2023-01-30T22:07:45.162Z"
   },
   {
    "duration": 31,
    "start_time": "2023-01-30T22:07:45.166Z"
   },
   {
    "duration": 4,
    "start_time": "2023-01-30T22:07:45.199Z"
   },
   {
    "duration": 8,
    "start_time": "2023-01-30T22:07:45.205Z"
   },
   {
    "duration": 6,
    "start_time": "2023-01-30T22:07:45.217Z"
   },
   {
    "duration": 44,
    "start_time": "2023-01-30T22:07:45.224Z"
   },
   {
    "duration": 27,
    "start_time": "2023-01-30T22:07:45.270Z"
   },
   {
    "duration": 4,
    "start_time": "2023-01-30T22:07:45.299Z"
   },
   {
    "duration": 12,
    "start_time": "2023-01-30T22:07:45.305Z"
   },
   {
    "duration": 22,
    "start_time": "2023-01-30T22:07:45.319Z"
   },
   {
    "duration": 16,
    "start_time": "2023-01-30T22:07:45.343Z"
   },
   {
    "duration": 32,
    "start_time": "2023-01-30T22:07:45.360Z"
   },
   {
    "duration": 10,
    "start_time": "2023-01-30T22:07:45.394Z"
   },
   {
    "duration": 8,
    "start_time": "2023-01-30T22:07:45.406Z"
   },
   {
    "duration": 4,
    "start_time": "2023-01-30T22:07:45.415Z"
   },
   {
    "duration": 12,
    "start_time": "2023-01-30T22:07:45.421Z"
   },
   {
    "duration": 6,
    "start_time": "2023-01-30T22:07:45.435Z"
   },
   {
    "duration": 5,
    "start_time": "2023-01-30T22:07:45.442Z"
   },
   {
    "duration": 51,
    "start_time": "2023-01-30T22:07:45.449Z"
   },
   {
    "duration": 48,
    "start_time": "2023-01-30T22:07:45.502Z"
   },
   {
    "duration": 4,
    "start_time": "2023-01-30T22:07:45.551Z"
   },
   {
    "duration": 16,
    "start_time": "2023-01-30T22:07:45.557Z"
   },
   {
    "duration": 15,
    "start_time": "2023-01-30T22:07:45.576Z"
   },
   {
    "duration": 13,
    "start_time": "2023-01-30T22:07:45.593Z"
   },
   {
    "duration": 30,
    "start_time": "2023-01-30T22:07:45.607Z"
   },
   {
    "duration": 4,
    "start_time": "2023-01-30T22:07:45.639Z"
   },
   {
    "duration": 13,
    "start_time": "2023-01-30T22:07:45.644Z"
   },
   {
    "duration": 43,
    "start_time": "2023-01-30T22:07:45.658Z"
   },
   {
    "duration": 8,
    "start_time": "2023-01-30T22:07:45.703Z"
   },
   {
    "duration": 10,
    "start_time": "2023-01-30T22:07:45.712Z"
   },
   {
    "duration": 24,
    "start_time": "2023-01-30T22:07:45.723Z"
   },
   {
    "duration": 32,
    "start_time": "2023-01-30T22:07:45.749Z"
   },
   {
    "duration": 4,
    "start_time": "2023-01-30T22:07:45.783Z"
   },
   {
    "duration": 4,
    "start_time": "2023-01-30T22:07:45.792Z"
   },
   {
    "duration": 52,
    "start_time": "2023-01-30T22:07:45.797Z"
   },
   {
    "duration": 10,
    "start_time": "2023-01-30T22:07:45.851Z"
   },
   {
    "duration": 4,
    "start_time": "2023-01-30T22:17:30.115Z"
   },
   {
    "duration": 4,
    "start_time": "2023-01-30T22:17:32.798Z"
   },
   {
    "duration": 3,
    "start_time": "2023-01-30T22:21:13.261Z"
   },
   {
    "duration": 52,
    "start_time": "2023-01-30T22:50:02.783Z"
   },
   {
    "duration": 11,
    "start_time": "2023-01-30T22:50:05.548Z"
   },
   {
    "duration": 54,
    "start_time": "2023-01-30T22:50:14.850Z"
   }
  ],
  "colab": {
   "provenance": []
  },
  "kernelspec": {
   "display_name": "Python 3 (ipykernel)",
   "language": "python",
   "name": "python3"
  },
  "language_info": {
   "codemirror_mode": {
    "name": "ipython",
    "version": 3
   },
   "file_extension": ".py",
   "mimetype": "text/x-python",
   "name": "python",
   "nbconvert_exporter": "python",
   "pygments_lexer": "ipython3",
   "version": "3.10.9"
  },
  "toc": {
   "base_numbering": 1,
   "nav_menu": {},
   "number_sections": true,
   "sideBar": true,
   "skip_h1_title": true,
   "title_cell": "Table of Contents",
   "title_sidebar": "Contents",
   "toc_cell": false,
   "toc_position": {},
   "toc_section_display": true,
   "toc_window_display": false
  }
 },
 "nbformat": 4,
 "nbformat_minor": 5
}
