{
 "cells": [
  {
   "cell_type": "markdown",
   "metadata": {},
   "source": [
    "# Проект - принятие решений в бизнесе\n",
    "\n",
    "Я аналитик крупного интернет-магазина. Вместе с отделом маркетинга я подготовила список гипотез для увеличения выручки.\n",
    "Приоритизируем гипотезы, запустим A/B-тест и проанализирум результаты. \n"
   ]
  },
  {
   "cell_type": "markdown",
   "metadata": {},
   "source": [
    "**План работы:**\n",
    "\n",
    "1  Загрузим данные и подготовим их к анализу:\\\n",
    "1.1  Откроем файл с данными и изучем общую информацию;\\\n",
    "1.2  Проведем предобработку данных.\\\n",
    "2  Приоритизация гипотез:\\\n",
    "2.1  Фреймворк ICE для приоритизации гипотез. Отсортируем их по убыванию приоритета;\\\n",
    "2.2  Фреймворк RICE для приоритизации гипотез. Отсортируем их по убыванию приоритета;\\\n",
    "2.3  Изменение приоритизаций гипотез при применении RICE вместо ICE. Выводы.\\\n",
    "3  Анализ A/B-теста:\\\n",
    "3.1  Построим график кумулятивной выручки по группам. Выводы и предположения;\\\n",
    "3.2  Построим график кумулятивного среднего чека по группам. Выводы и предположения;\\\n",
    "3.3  Построим график относительного изменения кумулятивного среднего чека группы B к группе A. Выводы и предположения;\\\n",
    "3.4  Построим график кумулятивного среднего количества заказов на посетителя по группам. Выводы и предположения;\\\n",
    "3.5  Построим график относительного изменения кумулятивного среднего количества заказов на посетителя группы B к группе A. Выводы и предположения;\\\n",
    "3.6  Построим точечный график количества заказов по пользователям. Выводы и предположения;\\\n",
    "3.7  Посчитаем 95-й и 99-й перцентили количества заказов на пользователя. Выберем границу для определения аномальных пользователей;\\\n",
    "3.8  Построим точечный график стоимостей заказов. Выводы и предположения;\\\n",
    "3.9  Посчитаем 95-й и 99-й перцентили стоимости заказов. Выберем границу для определения аномальных заказов;\\\n",
    "3.10  Посчитаем статистическую значимость различий в среднем количестве заказов на посетителя между группами по «сырым» данным. Выводы и предположения;\\\n",
    "3.11  Посчитаем статистическую значимость различий в среднем чеке заказа между группами по «сырым» данным. Выводы и предположения;\\\n",
    "3.12  Посчитаем статистическую значимость различий в среднем количестве заказов на посетителя между группами по «очищенным» данным. Выводы и предположения;\\\n",
    "3.13  Посчитаем статистическую значимость различий в среднем чеке заказа между группами по «очищенным» данным. Выводы и предположения;\\\n",
    "3.14  Примим решение по результатам теста и объясним его."
   ]
  },
  {
   "cell_type": "markdown",
   "metadata": {},
   "source": [
    "##  Загрузим данные и подготовим их к анализу\n",
    "  ### Откроем файл с данными и изучем общую информацию\n",
    "   "
   ]
  },
  {
   "cell_type": "code",
   "execution_count": 1,
   "metadata": {},
   "outputs": [],
   "source": [
    "#импортируем библиотеку pandas, matplotlib, datetime, seaborn, numpy, scipy.stats\n",
    "import pandas as pd\n",
    "from datetime import datetime, timedelta\n",
    "import scipy.stats as stats\n",
    "import seaborn as sns\n",
    "import numpy as np\n",
    "from matplotlib import pyplot as plt\n",
    "%matplotlib inline"
   ]
  },
  {
   "cell_type": "code",
   "execution_count": 2,
   "metadata": {},
   "outputs": [],
   "source": [
    "#загрузим датасеты\n",
    "#укажем два пути к файлу в случае ошибки \n",
    "try:\n",
    "    hypothesis = pd.read_csv('/datasets/hypothesis.csv')  # гипотезы\n",
    "except:\n",
    "    hypothesis = pd.read_csv(\"https://code.s3.yandex.net/datasets/hypothesis.csv\")"
   ]
  },
  {
   "cell_type": "code",
   "execution_count": 3,
   "metadata": {},
   "outputs": [],
   "source": [
    "try:\n",
    "    orders = pd.read_csv('/datasets/orders.csv')  # заказы\n",
    "except:\n",
    "    orders = pd.read_csv(\"https://code.s3.yandex.net/datasets/orders.csv\")"
   ]
  },
  {
   "cell_type": "code",
   "execution_count": 4,
   "metadata": {},
   "outputs": [],
   "source": [
    "try:\n",
    "    visitors = pd.read_csv('/datasets/visitors.csv')  # пользователи\n",
    "except:\n",
    "    visitors = pd.read_csv(\"https://code.s3.yandex.net/datasets/visitors.csvv\")"
   ]
  },
  {
   "cell_type": "code",
   "execution_count": 5,
   "metadata": {},
   "outputs": [],
   "source": [
    "#создадим список с датасетами\n",
    "df_list = [hypothesis, orders, visitors]\n",
    "#присвоим имена датасетам\n",
    "hypothesis.name =  'hypothesis'\n",
    "orders.name = 'orders'\n",
    "visitors.name = 'visitors'"
   ]
  },
  {
   "cell_type": "code",
   "execution_count": 6,
   "metadata": {},
   "outputs": [
    {
     "name": "stdout",
     "output_type": "stream",
     "text": [
      "\n",
      " Первые 10 строчек датасета hypothesis\n"
     ]
    },
    {
     "data": {
      "text/html": [
       "<div>\n",
       "<style scoped>\n",
       "    .dataframe tbody tr th:only-of-type {\n",
       "        vertical-align: middle;\n",
       "    }\n",
       "\n",
       "    .dataframe tbody tr th {\n",
       "        vertical-align: top;\n",
       "    }\n",
       "\n",
       "    .dataframe thead th {\n",
       "        text-align: right;\n",
       "    }\n",
       "</style>\n",
       "<table border=\"1\" class=\"dataframe\">\n",
       "  <thead>\n",
       "    <tr style=\"text-align: right;\">\n",
       "      <th></th>\n",
       "      <th>Hypothesis</th>\n",
       "      <th>Reach</th>\n",
       "      <th>Impact</th>\n",
       "      <th>Confidence</th>\n",
       "      <th>Efforts</th>\n",
       "    </tr>\n",
       "  </thead>\n",
       "  <tbody>\n",
       "    <tr>\n",
       "      <th>0</th>\n",
       "      <td>Добавить два новых канала привлечения трафика,...</td>\n",
       "      <td>3</td>\n",
       "      <td>10</td>\n",
       "      <td>8</td>\n",
       "      <td>6</td>\n",
       "    </tr>\n",
       "    <tr>\n",
       "      <th>1</th>\n",
       "      <td>Запустить собственную службу доставки, что сок...</td>\n",
       "      <td>2</td>\n",
       "      <td>5</td>\n",
       "      <td>4</td>\n",
       "      <td>10</td>\n",
       "    </tr>\n",
       "    <tr>\n",
       "      <th>2</th>\n",
       "      <td>Добавить блоки рекомендаций товаров на сайт ин...</td>\n",
       "      <td>8</td>\n",
       "      <td>3</td>\n",
       "      <td>7</td>\n",
       "      <td>3</td>\n",
       "    </tr>\n",
       "    <tr>\n",
       "      <th>3</th>\n",
       "      <td>Изменить структура категорий, что увеличит кон...</td>\n",
       "      <td>8</td>\n",
       "      <td>3</td>\n",
       "      <td>3</td>\n",
       "      <td>8</td>\n",
       "    </tr>\n",
       "    <tr>\n",
       "      <th>4</th>\n",
       "      <td>Изменить цвет фона главной страницы, чтобы уве...</td>\n",
       "      <td>3</td>\n",
       "      <td>1</td>\n",
       "      <td>1</td>\n",
       "      <td>1</td>\n",
       "    </tr>\n",
       "    <tr>\n",
       "      <th>5</th>\n",
       "      <td>Добавить страницу отзывов клиентов о магазине,...</td>\n",
       "      <td>3</td>\n",
       "      <td>2</td>\n",
       "      <td>2</td>\n",
       "      <td>3</td>\n",
       "    </tr>\n",
       "    <tr>\n",
       "      <th>6</th>\n",
       "      <td>Показать на главной странице баннеры с актуаль...</td>\n",
       "      <td>5</td>\n",
       "      <td>3</td>\n",
       "      <td>8</td>\n",
       "      <td>3</td>\n",
       "    </tr>\n",
       "    <tr>\n",
       "      <th>7</th>\n",
       "      <td>Добавить форму подписки на все основные страни...</td>\n",
       "      <td>10</td>\n",
       "      <td>7</td>\n",
       "      <td>8</td>\n",
       "      <td>5</td>\n",
       "    </tr>\n",
       "    <tr>\n",
       "      <th>8</th>\n",
       "      <td>Запустить акцию, дающую скидку на товар в день...</td>\n",
       "      <td>1</td>\n",
       "      <td>9</td>\n",
       "      <td>9</td>\n",
       "      <td>5</td>\n",
       "    </tr>\n",
       "  </tbody>\n",
       "</table>\n",
       "</div>"
      ],
      "text/plain": [
       "                                          Hypothesis  Reach  Impact  \\\n",
       "0  Добавить два новых канала привлечения трафика,...      3      10   \n",
       "1  Запустить собственную службу доставки, что сок...      2       5   \n",
       "2  Добавить блоки рекомендаций товаров на сайт ин...      8       3   \n",
       "3  Изменить структура категорий, что увеличит кон...      8       3   \n",
       "4  Изменить цвет фона главной страницы, чтобы уве...      3       1   \n",
       "5  Добавить страницу отзывов клиентов о магазине,...      3       2   \n",
       "6  Показать на главной странице баннеры с актуаль...      5       3   \n",
       "7  Добавить форму подписки на все основные страни...     10       7   \n",
       "8  Запустить акцию, дающую скидку на товар в день...      1       9   \n",
       "\n",
       "   Confidence  Efforts  \n",
       "0           8        6  \n",
       "1           4       10  \n",
       "2           7        3  \n",
       "3           3        8  \n",
       "4           1        1  \n",
       "5           2        3  \n",
       "6           8        3  \n",
       "7           8        5  \n",
       "8           9        5  "
      ]
     },
     "metadata": {},
     "output_type": "display_data"
    },
    {
     "name": "stdout",
     "output_type": "stream",
     "text": [
      "\n",
      " Основная информация о датасете hypothesis\n",
      "<class 'pandas.core.frame.DataFrame'>\n",
      "RangeIndex: 9 entries, 0 to 8\n",
      "Data columns (total 5 columns):\n",
      " #   Column      Non-Null Count  Dtype \n",
      "---  ------      --------------  ----- \n",
      " 0   Hypothesis  9 non-null      object\n",
      " 1   Reach       9 non-null      int64 \n",
      " 2   Impact      9 non-null      int64 \n",
      " 3   Confidence  9 non-null      int64 \n",
      " 4   Efforts     9 non-null      int64 \n",
      "dtypes: int64(4), object(1)\n",
      "memory usage: 488.0+ bytes\n",
      "\n",
      " Первые 10 строчек датасета orders\n"
     ]
    },
    {
     "data": {
      "text/html": [
       "<div>\n",
       "<style scoped>\n",
       "    .dataframe tbody tr th:only-of-type {\n",
       "        vertical-align: middle;\n",
       "    }\n",
       "\n",
       "    .dataframe tbody tr th {\n",
       "        vertical-align: top;\n",
       "    }\n",
       "\n",
       "    .dataframe thead th {\n",
       "        text-align: right;\n",
       "    }\n",
       "</style>\n",
       "<table border=\"1\" class=\"dataframe\">\n",
       "  <thead>\n",
       "    <tr style=\"text-align: right;\">\n",
       "      <th></th>\n",
       "      <th>transactionId</th>\n",
       "      <th>visitorId</th>\n",
       "      <th>date</th>\n",
       "      <th>revenue</th>\n",
       "      <th>group</th>\n",
       "    </tr>\n",
       "  </thead>\n",
       "  <tbody>\n",
       "    <tr>\n",
       "      <th>0</th>\n",
       "      <td>3667963787</td>\n",
       "      <td>3312258926</td>\n",
       "      <td>2019-08-15</td>\n",
       "      <td>1650</td>\n",
       "      <td>B</td>\n",
       "    </tr>\n",
       "    <tr>\n",
       "      <th>1</th>\n",
       "      <td>2804400009</td>\n",
       "      <td>3642806036</td>\n",
       "      <td>2019-08-15</td>\n",
       "      <td>730</td>\n",
       "      <td>B</td>\n",
       "    </tr>\n",
       "    <tr>\n",
       "      <th>2</th>\n",
       "      <td>2961555356</td>\n",
       "      <td>4069496402</td>\n",
       "      <td>2019-08-15</td>\n",
       "      <td>400</td>\n",
       "      <td>A</td>\n",
       "    </tr>\n",
       "    <tr>\n",
       "      <th>3</th>\n",
       "      <td>3797467345</td>\n",
       "      <td>1196621759</td>\n",
       "      <td>2019-08-15</td>\n",
       "      <td>9759</td>\n",
       "      <td>B</td>\n",
       "    </tr>\n",
       "    <tr>\n",
       "      <th>4</th>\n",
       "      <td>2282983706</td>\n",
       "      <td>2322279887</td>\n",
       "      <td>2019-08-15</td>\n",
       "      <td>2308</td>\n",
       "      <td>B</td>\n",
       "    </tr>\n",
       "    <tr>\n",
       "      <th>5</th>\n",
       "      <td>182168103</td>\n",
       "      <td>935554773</td>\n",
       "      <td>2019-08-15</td>\n",
       "      <td>2210</td>\n",
       "      <td>B</td>\n",
       "    </tr>\n",
       "    <tr>\n",
       "      <th>6</th>\n",
       "      <td>398296753</td>\n",
       "      <td>2900797465</td>\n",
       "      <td>2019-08-15</td>\n",
       "      <td>1860</td>\n",
       "      <td>B</td>\n",
       "    </tr>\n",
       "    <tr>\n",
       "      <th>7</th>\n",
       "      <td>2626614568</td>\n",
       "      <td>78758296</td>\n",
       "      <td>2019-08-15</td>\n",
       "      <td>1044</td>\n",
       "      <td>A</td>\n",
       "    </tr>\n",
       "    <tr>\n",
       "      <th>8</th>\n",
       "      <td>1576988021</td>\n",
       "      <td>295230930</td>\n",
       "      <td>2019-08-15</td>\n",
       "      <td>13710</td>\n",
       "      <td>A</td>\n",
       "    </tr>\n",
       "    <tr>\n",
       "      <th>9</th>\n",
       "      <td>1506739906</td>\n",
       "      <td>1882260405</td>\n",
       "      <td>2019-08-15</td>\n",
       "      <td>1855</td>\n",
       "      <td>B</td>\n",
       "    </tr>\n",
       "  </tbody>\n",
       "</table>\n",
       "</div>"
      ],
      "text/plain": [
       "   transactionId   visitorId        date  revenue group\n",
       "0     3667963787  3312258926  2019-08-15     1650     B\n",
       "1     2804400009  3642806036  2019-08-15      730     B\n",
       "2     2961555356  4069496402  2019-08-15      400     A\n",
       "3     3797467345  1196621759  2019-08-15     9759     B\n",
       "4     2282983706  2322279887  2019-08-15     2308     B\n",
       "5      182168103   935554773  2019-08-15     2210     B\n",
       "6      398296753  2900797465  2019-08-15     1860     B\n",
       "7     2626614568    78758296  2019-08-15     1044     A\n",
       "8     1576988021   295230930  2019-08-15    13710     A\n",
       "9     1506739906  1882260405  2019-08-15     1855     B"
      ]
     },
     "metadata": {},
     "output_type": "display_data"
    },
    {
     "name": "stdout",
     "output_type": "stream",
     "text": [
      "\n",
      " Основная информация о датасете orders\n",
      "<class 'pandas.core.frame.DataFrame'>\n",
      "RangeIndex: 1197 entries, 0 to 1196\n",
      "Data columns (total 5 columns):\n",
      " #   Column         Non-Null Count  Dtype \n",
      "---  ------         --------------  ----- \n",
      " 0   transactionId  1197 non-null   int64 \n",
      " 1   visitorId      1197 non-null   int64 \n",
      " 2   date           1197 non-null   object\n",
      " 3   revenue        1197 non-null   int64 \n",
      " 4   group          1197 non-null   object\n",
      "dtypes: int64(3), object(2)\n",
      "memory usage: 46.9+ KB\n",
      "\n",
      " Первые 10 строчек датасета visitors\n"
     ]
    },
    {
     "data": {
      "text/html": [
       "<div>\n",
       "<style scoped>\n",
       "    .dataframe tbody tr th:only-of-type {\n",
       "        vertical-align: middle;\n",
       "    }\n",
       "\n",
       "    .dataframe tbody tr th {\n",
       "        vertical-align: top;\n",
       "    }\n",
       "\n",
       "    .dataframe thead th {\n",
       "        text-align: right;\n",
       "    }\n",
       "</style>\n",
       "<table border=\"1\" class=\"dataframe\">\n",
       "  <thead>\n",
       "    <tr style=\"text-align: right;\">\n",
       "      <th></th>\n",
       "      <th>date</th>\n",
       "      <th>group</th>\n",
       "      <th>visitors</th>\n",
       "    </tr>\n",
       "  </thead>\n",
       "  <tbody>\n",
       "    <tr>\n",
       "      <th>0</th>\n",
       "      <td>2019-08-01</td>\n",
       "      <td>A</td>\n",
       "      <td>719</td>\n",
       "    </tr>\n",
       "    <tr>\n",
       "      <th>1</th>\n",
       "      <td>2019-08-02</td>\n",
       "      <td>A</td>\n",
       "      <td>619</td>\n",
       "    </tr>\n",
       "    <tr>\n",
       "      <th>2</th>\n",
       "      <td>2019-08-03</td>\n",
       "      <td>A</td>\n",
       "      <td>507</td>\n",
       "    </tr>\n",
       "    <tr>\n",
       "      <th>3</th>\n",
       "      <td>2019-08-04</td>\n",
       "      <td>A</td>\n",
       "      <td>717</td>\n",
       "    </tr>\n",
       "    <tr>\n",
       "      <th>4</th>\n",
       "      <td>2019-08-05</td>\n",
       "      <td>A</td>\n",
       "      <td>756</td>\n",
       "    </tr>\n",
       "    <tr>\n",
       "      <th>5</th>\n",
       "      <td>2019-08-06</td>\n",
       "      <td>A</td>\n",
       "      <td>667</td>\n",
       "    </tr>\n",
       "    <tr>\n",
       "      <th>6</th>\n",
       "      <td>2019-08-07</td>\n",
       "      <td>A</td>\n",
       "      <td>644</td>\n",
       "    </tr>\n",
       "    <tr>\n",
       "      <th>7</th>\n",
       "      <td>2019-08-08</td>\n",
       "      <td>A</td>\n",
       "      <td>610</td>\n",
       "    </tr>\n",
       "    <tr>\n",
       "      <th>8</th>\n",
       "      <td>2019-08-09</td>\n",
       "      <td>A</td>\n",
       "      <td>617</td>\n",
       "    </tr>\n",
       "    <tr>\n",
       "      <th>9</th>\n",
       "      <td>2019-08-10</td>\n",
       "      <td>A</td>\n",
       "      <td>406</td>\n",
       "    </tr>\n",
       "  </tbody>\n",
       "</table>\n",
       "</div>"
      ],
      "text/plain": [
       "         date group  visitors\n",
       "0  2019-08-01     A       719\n",
       "1  2019-08-02     A       619\n",
       "2  2019-08-03     A       507\n",
       "3  2019-08-04     A       717\n",
       "4  2019-08-05     A       756\n",
       "5  2019-08-06     A       667\n",
       "6  2019-08-07     A       644\n",
       "7  2019-08-08     A       610\n",
       "8  2019-08-09     A       617\n",
       "9  2019-08-10     A       406"
      ]
     },
     "metadata": {},
     "output_type": "display_data"
    },
    {
     "name": "stdout",
     "output_type": "stream",
     "text": [
      "\n",
      " Основная информация о датасете visitors\n",
      "<class 'pandas.core.frame.DataFrame'>\n",
      "RangeIndex: 62 entries, 0 to 61\n",
      "Data columns (total 3 columns):\n",
      " #   Column    Non-Null Count  Dtype \n",
      "---  ------    --------------  ----- \n",
      " 0   date      62 non-null     object\n",
      " 1   group     62 non-null     object\n",
      " 2   visitors  62 non-null     int64 \n",
      "dtypes: int64(1), object(2)\n",
      "memory usage: 1.6+ KB\n"
     ]
    }
   ],
   "source": [
    "#выведем первые 10 строчек датасетов на экран и выведем основную информацию с помощью метода info()\n",
    "for df in df_list:\n",
    "    print(f'\\n Первые 10 строчек датасета {df.name}')\n",
    "    display(df.head(10))\n",
    "    print(f'\\n Основная информация о датасете {df.name}')\n",
    "    df.info() "
   ]
  },
  {
   "cell_type": "markdown",
   "metadata": {},
   "source": [
    "В датасетах `hypothesis` и `orders` необходимо исправить название столбов, привести их к нижнему регистру и к змеиному виду.\\\n",
    "Все данные о времени в формате object в датасетах `visitors` и `orders` необходимо преобразовать в формат даты.\\\n",
    "Пропусков в столбцах нет, необходимо проверить датасеты на дубликаты."
   ]
  },
  {
   "cell_type": "markdown",
   "metadata": {},
   "source": [
    "### Предобработка данных"
   ]
  },
  {
   "cell_type": "code",
   "execution_count": 7,
   "metadata": {},
   "outputs": [],
   "source": [
    "#приведем столбцы датасета hypothesis к нижнему регистру\n",
    "hypothesis.columns = hypothesis.columns.str.lower()"
   ]
  },
  {
   "cell_type": "code",
   "execution_count": 8,
   "metadata": {},
   "outputs": [],
   "source": [
    "#приведем столбцы orders к змеиному регистру\n",
    "orders = orders.rename(columns = {'transactionId':'transaction_id', 'visitorId':'visitor_id'})"
   ]
  },
  {
   "cell_type": "code",
   "execution_count": 9,
   "metadata": {},
   "outputs": [],
   "source": [
    "# преобразуем данные о времени\n",
    "visitors['date'] = pd.to_datetime(visitors['date'])\n",
    "orders['date'] = pd.to_datetime(orders['date'])"
   ]
  },
  {
   "cell_type": "code",
   "execution_count": 10,
   "metadata": {},
   "outputs": [
    {
     "name": "stdout",
     "output_type": "stream",
     "text": [
      "\n",
      " Количество пропущенных значений в датасете hypothesis\n"
     ]
    },
    {
     "data": {
      "text/plain": [
       "hypothesis    0\n",
       "reach         0\n",
       "impact        0\n",
       "confidence    0\n",
       "efforts       0\n",
       "dtype: int64"
      ]
     },
     "metadata": {},
     "output_type": "display_data"
    },
    {
     "name": "stdout",
     "output_type": "stream",
     "text": [
      "\n",
      " Количество одинаковых строк в датасете hypothesis\n"
     ]
    },
    {
     "data": {
      "text/plain": [
       "0"
      ]
     },
     "metadata": {},
     "output_type": "display_data"
    },
    {
     "name": "stdout",
     "output_type": "stream",
     "text": [
      "\n",
      " Количество пропущенных значений в датасете orders\n"
     ]
    },
    {
     "data": {
      "text/plain": [
       "transactionId    0\n",
       "visitorId        0\n",
       "date             0\n",
       "revenue          0\n",
       "group            0\n",
       "dtype: int64"
      ]
     },
     "metadata": {},
     "output_type": "display_data"
    },
    {
     "name": "stdout",
     "output_type": "stream",
     "text": [
      "\n",
      " Количество одинаковых строк в датасете orders\n"
     ]
    },
    {
     "data": {
      "text/plain": [
       "0"
      ]
     },
     "metadata": {},
     "output_type": "display_data"
    },
    {
     "name": "stdout",
     "output_type": "stream",
     "text": [
      "\n",
      " Количество пропущенных значений в датасете visitors\n"
     ]
    },
    {
     "data": {
      "text/plain": [
       "date        0\n",
       "group       0\n",
       "visitors    0\n",
       "dtype: int64"
      ]
     },
     "metadata": {},
     "output_type": "display_data"
    },
    {
     "name": "stdout",
     "output_type": "stream",
     "text": [
      "\n",
      " Количество одинаковых строк в датасете visitors\n"
     ]
    },
    {
     "data": {
      "text/plain": [
       "0"
      ]
     },
     "metadata": {},
     "output_type": "display_data"
    }
   ],
   "source": [
    "#выведем количество пропущенных значений в датасетах для каждого столбца\n",
    "#и поищем количество одинаковых строк\n",
    "for df in df_list:\n",
    "    print(f'\\n Количество пропущенных значений в датасете {df.name}')\n",
    "    display(df.isna().sum())\n",
    "    print(f'\\n Количество одинаковых строк в датасете {df.name}')\n",
    "    display(df.duplicated().sum())"
   ]
  },
  {
   "cell_type": "markdown",
   "metadata": {},
   "source": [
    "В результате предобработки были переименованы столбцы (все буквы в названиях привели к нижнеми регистру, добавили нижнее подчеркивание), привели тип данных object в формат времени.\n",
    "Еще раз убедились, что датафреймы не имеют пропуски и одинаковых строк."
   ]
  },
  {
   "cell_type": "markdown",
   "metadata": {},
   "source": [
    "\n",
    "Изучим составы групп при проведении А/В-теста.\n"
   ]
  },
  {
   "cell_type": "code",
   "execution_count": 11,
   "metadata": {},
   "outputs": [
    {
     "data": {
      "text/plain": [
       "'Общее количество пользователей при проведениии А/В-теста - 1197 пользователей.'"
      ]
     },
     "execution_count": 11,
     "metadata": {},
     "output_type": "execute_result"
    }
   ],
   "source": [
    "total_ord = orders['visitor_id'].count()\n",
    "f'Общее количество пользователей при проведениии А/В-теста - {total_ord} пользователей.'"
   ]
  },
  {
   "cell_type": "code",
   "execution_count": 12,
   "metadata": {},
   "outputs": [
    {
     "data": {
      "text/plain": [
       "'Уникальное количество пользователей при проведениии А/В-теста - 1031 пользователей.'"
      ]
     },
     "execution_count": 12,
     "metadata": {},
     "output_type": "execute_result"
    }
   ],
   "source": [
    "uniq_ord = orders['visitor_id'].nunique()\n",
    "f'Уникальное количество пользователей при проведениии А/В-теста - {uniq_ord} пользователей.'"
   ]
  },
  {
   "cell_type": "code",
   "execution_count": 13,
   "metadata": {},
   "outputs": [
    {
     "name": "stdout",
     "output_type": "stream",
     "text": [
      "Уникальное количество пользователей группы А при проведениии А/В-теста - 503 пользователей.\n"
     ]
    },
    {
     "data": {
      "text/plain": [
       "'Общее количество пользователей группы А при проведениии А/В-теста - 557 пользователей.'"
      ]
     },
     "execution_count": 13,
     "metadata": {},
     "output_type": "execute_result"
    }
   ],
   "source": [
    "nuniqueA = orders.query('group == \"A\"')['visitor_id'].nunique()\n",
    "print(f'Уникальное количество пользователей группы А при проведениии А/В-теста - {nuniqueA} пользователей.')\n",
    "total_ordA = orders.query('group == \"A\"')['visitor_id'].count()\n",
    "f'Общее количество пользователей группы А при проведениии А/В-теста - {total_ordA} пользователей.'"
   ]
  },
  {
   "cell_type": "code",
   "execution_count": 14,
   "metadata": {},
   "outputs": [
    {
     "name": "stdout",
     "output_type": "stream",
     "text": [
      "Уникальное количество пользователей группы B при проведениии А/В-теста - 586 пользователей.\n"
     ]
    },
    {
     "data": {
      "text/plain": [
       "'Общее количество пользователей группы B при проведениии А/В-теста - 640 пользователей.'"
      ]
     },
     "execution_count": 14,
     "metadata": {},
     "output_type": "execute_result"
    }
   ],
   "source": [
    "nuniqueB = orders.query('group == \"B\"')['visitor_id'].nunique()\n",
    "print(f'Уникальное количество пользователей группы B при проведениии А/В-теста - {nuniqueB} пользователей.')\n",
    "total_ordB = orders.query('group == \"B\"')['visitor_id'].count()\n",
    "f'Общее количество пользователей группы B при проведениии А/В-теста - {total_ordB} пользователей.'"
   ]
  },
  {
   "cell_type": "markdown",
   "metadata": {},
   "source": [
    "Количество пользователей пересекается, проверим это следующим способом.\n",
    "\n",
    "Создадим 2 таблицы, разделив пользователей по группам теста: А и В (`test_a` и `test_b`).\\\n",
    "Создадим пустой список `test`, в который будем сохранять `visitor_id`, попадающий в группу А и В.\\\n",
    "Затем с помощью `query` отберем пользователей не из списка `test`, и перезапишем таблицу `orders`."
   ]
  },
  {
   "cell_type": "code",
   "execution_count": 15,
   "metadata": {},
   "outputs": [],
   "source": [
    "test_a = orders.query('group == \"A\"')['visitor_id']\n",
    "test_b = orders.query('group == \"B\"')['visitor_id']"
   ]
  },
  {
   "cell_type": "code",
   "execution_count": 16,
   "metadata": {},
   "outputs": [],
   "source": [
    "test = []\n",
    "for a in test_a:\n",
    "    for b in test_b:\n",
    "        if a == b:\n",
    "            test.append(a)"
   ]
  },
  {
   "cell_type": "code",
   "execution_count": 17,
   "metadata": {},
   "outputs": [
    {
     "data": {
      "text/plain": [
       "2       4069496402\n",
       "7         78758296\n",
       "8        295230930\n",
       "10       879864040\n",
       "12      3213223594\n",
       "           ...    \n",
       "1187     132143192\n",
       "1188    1022829655\n",
       "1193     370388673\n",
       "1194     573423106\n",
       "1195    1614305549\n",
       "Name: visitor_id, Length: 557, dtype: int64"
      ]
     },
     "execution_count": 17,
     "metadata": {},
     "output_type": "execute_result"
    }
   ],
   "source": [
    "test_a"
   ]
  },
  {
   "cell_type": "code",
   "execution_count": 18,
   "metadata": {},
   "outputs": [],
   "source": [
    "orders = orders.query('visitor_id not in @test')"
   ]
  },
  {
   "cell_type": "markdown",
   "metadata": {},
   "source": [
    "## Приоритизация гипотез\n",
    "В файле `/datasets/hypothesis.csv` 9 гипотез по увеличению выручки интернет-магазина с указанными параметрами Reach, Impact, Confidence, Effort.\n",
    "### Фреймворк ICE для приоритизации гипотез. Отсортируем их по убыванию приоритета"
   ]
  },
  {
   "cell_type": "code",
   "execution_count": 19,
   "metadata": {},
   "outputs": [
    {
     "data": {
      "text/html": [
       "<div>\n",
       "<style scoped>\n",
       "    .dataframe tbody tr th:only-of-type {\n",
       "        vertical-align: middle;\n",
       "    }\n",
       "\n",
       "    .dataframe tbody tr th {\n",
       "        vertical-align: top;\n",
       "    }\n",
       "\n",
       "    .dataframe thead th {\n",
       "        text-align: right;\n",
       "    }\n",
       "</style>\n",
       "<table border=\"1\" class=\"dataframe\">\n",
       "  <thead>\n",
       "    <tr style=\"text-align: right;\">\n",
       "      <th></th>\n",
       "      <th>hypothesis</th>\n",
       "      <th>ICE</th>\n",
       "    </tr>\n",
       "  </thead>\n",
       "  <tbody>\n",
       "    <tr>\n",
       "      <th>8</th>\n",
       "      <td>Запустить акцию, дающую скидку на товар в день...</td>\n",
       "      <td>16.2</td>\n",
       "    </tr>\n",
       "    <tr>\n",
       "      <th>0</th>\n",
       "      <td>Добавить два новых канала привлечения трафика,...</td>\n",
       "      <td>13.3</td>\n",
       "    </tr>\n",
       "    <tr>\n",
       "      <th>7</th>\n",
       "      <td>Добавить форму подписки на все основные страни...</td>\n",
       "      <td>11.2</td>\n",
       "    </tr>\n",
       "    <tr>\n",
       "      <th>6</th>\n",
       "      <td>Показать на главной странице баннеры с актуаль...</td>\n",
       "      <td>8.0</td>\n",
       "    </tr>\n",
       "    <tr>\n",
       "      <th>2</th>\n",
       "      <td>Добавить блоки рекомендаций товаров на сайт ин...</td>\n",
       "      <td>7.0</td>\n",
       "    </tr>\n",
       "    <tr>\n",
       "      <th>1</th>\n",
       "      <td>Запустить собственную службу доставки, что сок...</td>\n",
       "      <td>2.0</td>\n",
       "    </tr>\n",
       "    <tr>\n",
       "      <th>5</th>\n",
       "      <td>Добавить страницу отзывов клиентов о магазине,...</td>\n",
       "      <td>1.3</td>\n",
       "    </tr>\n",
       "    <tr>\n",
       "      <th>3</th>\n",
       "      <td>Изменить структура категорий, что увеличит кон...</td>\n",
       "      <td>1.1</td>\n",
       "    </tr>\n",
       "    <tr>\n",
       "      <th>4</th>\n",
       "      <td>Изменить цвет фона главной страницы, чтобы уве...</td>\n",
       "      <td>1.0</td>\n",
       "    </tr>\n",
       "  </tbody>\n",
       "</table>\n",
       "</div>"
      ],
      "text/plain": [
       "                                          hypothesis   ICE\n",
       "8  Запустить акцию, дающую скидку на товар в день...  16.2\n",
       "0  Добавить два новых канала привлечения трафика,...  13.3\n",
       "7  Добавить форму подписки на все основные страни...  11.2\n",
       "6  Показать на главной странице баннеры с актуаль...   8.0\n",
       "2  Добавить блоки рекомендаций товаров на сайт ин...   7.0\n",
       "1  Запустить собственную службу доставки, что сок...   2.0\n",
       "5  Добавить страницу отзывов клиентов о магазине,...   1.3\n",
       "3  Изменить структура категорий, что увеличит кон...   1.1\n",
       "4  Изменить цвет фона главной страницы, чтобы уве...   1.0"
      ]
     },
     "execution_count": 19,
     "metadata": {},
     "output_type": "execute_result"
    }
   ],
   "source": [
    "# Посчитаем ICE для гипотез\n",
    "hypothesis['ICE'] = (hypothesis['impact'] * hypothesis['confidence'] / hypothesis['efforts']).round(1)\n",
    "# Отсортируем гипотезы по убыванию приоритета\n",
    "hypothesis[['hypothesis', 'ICE']].sort_values(by='ICE', ascending=False).round(1)"
   ]
  },
  {
   "cell_type": "code",
   "execution_count": 20,
   "metadata": {},
   "outputs": [],
   "source": [
    "# вывод таблицы с отображением всего столбца\n",
    "pd.set_option('display.max_colwidth', 0)"
   ]
  },
  {
   "cell_type": "markdown",
   "metadata": {},
   "source": [
    "Наиболее перспективные по фреймворку ICE гипотезы: 8, 0, 7, 6 и 2."
   ]
  },
  {
   "cell_type": "markdown",
   "metadata": {},
   "source": [
    "### Фреймворк RICE для приоритизации гипотез. Отсортируем их по убыванию приоритета"
   ]
  },
  {
   "cell_type": "code",
   "execution_count": 21,
   "metadata": {},
   "outputs": [
    {
     "data": {
      "text/html": [
       "<div>\n",
       "<style scoped>\n",
       "    .dataframe tbody tr th:only-of-type {\n",
       "        vertical-align: middle;\n",
       "    }\n",
       "\n",
       "    .dataframe tbody tr th {\n",
       "        vertical-align: top;\n",
       "    }\n",
       "\n",
       "    .dataframe thead th {\n",
       "        text-align: right;\n",
       "    }\n",
       "</style>\n",
       "<table border=\"1\" class=\"dataframe\">\n",
       "  <thead>\n",
       "    <tr style=\"text-align: right;\">\n",
       "      <th></th>\n",
       "      <th>hypothesis</th>\n",
       "      <th>RICE</th>\n",
       "    </tr>\n",
       "  </thead>\n",
       "  <tbody>\n",
       "    <tr>\n",
       "      <th>7</th>\n",
       "      <td>Добавить форму подписки на все основные страницы, чтобы собрать базу клиентов для email-рассылок</td>\n",
       "      <td>112.0</td>\n",
       "    </tr>\n",
       "    <tr>\n",
       "      <th>2</th>\n",
       "      <td>Добавить блоки рекомендаций товаров на сайт интернет магазина, чтобы повысить конверсию и средний чек заказа</td>\n",
       "      <td>56.0</td>\n",
       "    </tr>\n",
       "    <tr>\n",
       "      <th>0</th>\n",
       "      <td>Добавить два новых канала привлечения трафика, что позволит привлекать на 30% больше пользователей</td>\n",
       "      <td>40.0</td>\n",
       "    </tr>\n",
       "    <tr>\n",
       "      <th>6</th>\n",
       "      <td>Показать на главной странице баннеры с актуальными акциями и распродажами, чтобы увеличить конверсию</td>\n",
       "      <td>40.0</td>\n",
       "    </tr>\n",
       "    <tr>\n",
       "      <th>8</th>\n",
       "      <td>Запустить акцию, дающую скидку на товар в день рождения</td>\n",
       "      <td>16.2</td>\n",
       "    </tr>\n",
       "    <tr>\n",
       "      <th>3</th>\n",
       "      <td>Изменить структура категорий, что увеличит конверсию, т.к. пользователи быстрее найдут нужный товар</td>\n",
       "      <td>9.0</td>\n",
       "    </tr>\n",
       "    <tr>\n",
       "      <th>1</th>\n",
       "      <td>Запустить собственную службу доставки, что сократит срок доставки заказов</td>\n",
       "      <td>4.0</td>\n",
       "    </tr>\n",
       "    <tr>\n",
       "      <th>5</th>\n",
       "      <td>Добавить страницу отзывов клиентов о магазине, что позволит увеличить количество заказов</td>\n",
       "      <td>4.0</td>\n",
       "    </tr>\n",
       "    <tr>\n",
       "      <th>4</th>\n",
       "      <td>Изменить цвет фона главной страницы, чтобы увеличить вовлеченность пользователей</td>\n",
       "      <td>3.0</td>\n",
       "    </tr>\n",
       "  </tbody>\n",
       "</table>\n",
       "</div>"
      ],
      "text/plain": [
       "                                                                                                     hypothesis  \\\n",
       "7  Добавить форму подписки на все основные страницы, чтобы собрать базу клиентов для email-рассылок               \n",
       "2  Добавить блоки рекомендаций товаров на сайт интернет магазина, чтобы повысить конверсию и средний чек заказа   \n",
       "0  Добавить два новых канала привлечения трафика, что позволит привлекать на 30% больше пользователей             \n",
       "6  Показать на главной странице баннеры с актуальными акциями и распродажами, чтобы увеличить конверсию           \n",
       "8  Запустить акцию, дающую скидку на товар в день рождения                                                        \n",
       "3  Изменить структура категорий, что увеличит конверсию, т.к. пользователи быстрее найдут нужный товар            \n",
       "1  Запустить собственную службу доставки, что сократит срок доставки заказов                                      \n",
       "5  Добавить страницу отзывов клиентов о магазине, что позволит увеличить количество заказов                       \n",
       "4  Изменить цвет фона главной страницы, чтобы увеличить вовлеченность пользователей                               \n",
       "\n",
       "    RICE  \n",
       "7  112.0  \n",
       "2  56.0   \n",
       "0  40.0   \n",
       "6  40.0   \n",
       "8  16.2   \n",
       "3  9.0    \n",
       "1  4.0    \n",
       "5  4.0    \n",
       "4  3.0    "
      ]
     },
     "execution_count": 21,
     "metadata": {},
     "output_type": "execute_result"
    }
   ],
   "source": [
    "# Посчитаем RICE для гипотез\n",
    "hypothesis['RICE'] = hypothesis['reach'] * hypothesis['impact'] * hypothesis['confidence'] / hypothesis['efforts']\n",
    "# Отсортируем гипотезы по убыванию приоритета\n",
    "hypothesis[['hypothesis', 'RICE']].sort_values(by='RICE', ascending=False)"
   ]
  },
  {
   "cell_type": "markdown",
   "metadata": {},
   "source": [
    "И снова наиболее перспективные по фреймворку RICE гипотезы: 7, 2, 0, 6 и 8."
   ]
  },
  {
   "cell_type": "markdown",
   "metadata": {},
   "source": [
    "###  Изменение приоритизаций гипотез при применении RICE вместо ICE. Выводы"
   ]
  },
  {
   "cell_type": "code",
   "execution_count": 22,
   "metadata": {},
   "outputs": [
    {
     "data": {
      "text/html": [
       "<div>\n",
       "<style scoped>\n",
       "    .dataframe tbody tr th:only-of-type {\n",
       "        vertical-align: middle;\n",
       "    }\n",
       "\n",
       "    .dataframe tbody tr th {\n",
       "        vertical-align: top;\n",
       "    }\n",
       "\n",
       "    .dataframe thead th {\n",
       "        text-align: right;\n",
       "    }\n",
       "</style>\n",
       "<table border=\"1\" class=\"dataframe\">\n",
       "  <thead>\n",
       "    <tr style=\"text-align: right;\">\n",
       "      <th></th>\n",
       "      <th>hypothesis</th>\n",
       "      <th>reach</th>\n",
       "      <th>impact</th>\n",
       "      <th>confidence</th>\n",
       "      <th>efforts</th>\n",
       "      <th>ICE</th>\n",
       "      <th>RICE</th>\n",
       "    </tr>\n",
       "  </thead>\n",
       "  <tbody>\n",
       "    <tr>\n",
       "      <th>0</th>\n",
       "      <td>Добавить два новых канала привлечения трафика, что позволит привлекать на 30% больше пользователей</td>\n",
       "      <td>3</td>\n",
       "      <td>10</td>\n",
       "      <td>8</td>\n",
       "      <td>6</td>\n",
       "      <td>13.3</td>\n",
       "      <td>40.0</td>\n",
       "    </tr>\n",
       "    <tr>\n",
       "      <th>1</th>\n",
       "      <td>Запустить собственную службу доставки, что сократит срок доставки заказов</td>\n",
       "      <td>2</td>\n",
       "      <td>5</td>\n",
       "      <td>4</td>\n",
       "      <td>10</td>\n",
       "      <td>2.0</td>\n",
       "      <td>4.0</td>\n",
       "    </tr>\n",
       "    <tr>\n",
       "      <th>2</th>\n",
       "      <td>Добавить блоки рекомендаций товаров на сайт интернет магазина, чтобы повысить конверсию и средний чек заказа</td>\n",
       "      <td>8</td>\n",
       "      <td>3</td>\n",
       "      <td>7</td>\n",
       "      <td>3</td>\n",
       "      <td>7.0</td>\n",
       "      <td>56.0</td>\n",
       "    </tr>\n",
       "    <tr>\n",
       "      <th>3</th>\n",
       "      <td>Изменить структура категорий, что увеличит конверсию, т.к. пользователи быстрее найдут нужный товар</td>\n",
       "      <td>8</td>\n",
       "      <td>3</td>\n",
       "      <td>3</td>\n",
       "      <td>8</td>\n",
       "      <td>1.1</td>\n",
       "      <td>9.0</td>\n",
       "    </tr>\n",
       "    <tr>\n",
       "      <th>4</th>\n",
       "      <td>Изменить цвет фона главной страницы, чтобы увеличить вовлеченность пользователей</td>\n",
       "      <td>3</td>\n",
       "      <td>1</td>\n",
       "      <td>1</td>\n",
       "      <td>1</td>\n",
       "      <td>1.0</td>\n",
       "      <td>3.0</td>\n",
       "    </tr>\n",
       "    <tr>\n",
       "      <th>5</th>\n",
       "      <td>Добавить страницу отзывов клиентов о магазине, что позволит увеличить количество заказов</td>\n",
       "      <td>3</td>\n",
       "      <td>2</td>\n",
       "      <td>2</td>\n",
       "      <td>3</td>\n",
       "      <td>1.3</td>\n",
       "      <td>4.0</td>\n",
       "    </tr>\n",
       "    <tr>\n",
       "      <th>6</th>\n",
       "      <td>Показать на главной странице баннеры с актуальными акциями и распродажами, чтобы увеличить конверсию</td>\n",
       "      <td>5</td>\n",
       "      <td>3</td>\n",
       "      <td>8</td>\n",
       "      <td>3</td>\n",
       "      <td>8.0</td>\n",
       "      <td>40.0</td>\n",
       "    </tr>\n",
       "    <tr>\n",
       "      <th>7</th>\n",
       "      <td>Добавить форму подписки на все основные страницы, чтобы собрать базу клиентов для email-рассылок</td>\n",
       "      <td>10</td>\n",
       "      <td>7</td>\n",
       "      <td>8</td>\n",
       "      <td>5</td>\n",
       "      <td>11.2</td>\n",
       "      <td>112.0</td>\n",
       "    </tr>\n",
       "    <tr>\n",
       "      <th>8</th>\n",
       "      <td>Запустить акцию, дающую скидку на товар в день рождения</td>\n",
       "      <td>1</td>\n",
       "      <td>9</td>\n",
       "      <td>9</td>\n",
       "      <td>5</td>\n",
       "      <td>16.2</td>\n",
       "      <td>16.2</td>\n",
       "    </tr>\n",
       "  </tbody>\n",
       "</table>\n",
       "</div>"
      ],
      "text/plain": [
       "                                                                                                     hypothesis  \\\n",
       "0  Добавить два новых канала привлечения трафика, что позволит привлекать на 30% больше пользователей             \n",
       "1  Запустить собственную службу доставки, что сократит срок доставки заказов                                      \n",
       "2  Добавить блоки рекомендаций товаров на сайт интернет магазина, чтобы повысить конверсию и средний чек заказа   \n",
       "3  Изменить структура категорий, что увеличит конверсию, т.к. пользователи быстрее найдут нужный товар            \n",
       "4  Изменить цвет фона главной страницы, чтобы увеличить вовлеченность пользователей                               \n",
       "5  Добавить страницу отзывов клиентов о магазине, что позволит увеличить количество заказов                       \n",
       "6  Показать на главной странице баннеры с актуальными акциями и распродажами, чтобы увеличить конверсию           \n",
       "7  Добавить форму подписки на все основные страницы, чтобы собрать базу клиентов для email-рассылок               \n",
       "8  Запустить акцию, дающую скидку на товар в день рождения                                                        \n",
       "\n",
       "   reach  impact  confidence  efforts   ICE   RICE  \n",
       "0  3      10      8           6        13.3  40.0   \n",
       "1  2      5       4           10       2.0   4.0    \n",
       "2  8      3       7           3        7.0   56.0   \n",
       "3  8      3       3           8        1.1   9.0    \n",
       "4  3      1       1           1        1.0   3.0    \n",
       "5  3      2       2           3        1.3   4.0    \n",
       "6  5      3       8           3        8.0   40.0   \n",
       "7  10     7       8           5        11.2  112.0  \n",
       "8  1      9       9           5        16.2  16.2   "
      ]
     },
     "execution_count": 22,
     "metadata": {},
     "output_type": "execute_result"
    }
   ],
   "source": [
    "hypothesis"
   ]
  },
  {
   "cell_type": "markdown",
   "metadata": {},
   "source": [
    "По обоим фреймворкам самыми перспективными гипотезами оказались одни и те же гипотезы **0, 2, 6, 7, 8**. Однако из-за высокого параметра охвата пользователей **Reach у гипотезы 7**, она становится первой во фреймворке RICE.\\\n",
    "**Гипотеза 7** `Добавить форму подписки на все основные страницы, чтобы собрать базу клиентов для email-рассылок`из-за охвата всех пользователей (параметр 10), довольно высоких показателей изменения пользовательского опыта Impact и уверенности в этом изменении Confidence (7 и 8) и среднего показателя стоимости введения этой гипотезы Efforts (5), является наиболее эффективной.\\\n",
    "**Гипотеза 8** `Запустить акцию, дающую скидку на товар в день рождения` несмотря на первое место в рейтинге ICE имеет наиболее низкий охват пользователей (1) из-за применения данной акции только 1 раз в год."
   ]
  },
  {
   "cell_type": "markdown",
   "metadata": {},
   "source": [
    "## Анализ A/B-теста\n",
    "Мы провели A/B-тест и получили результаты, которые описаны в файлах `/datasets/orders.csv` и `/datasets/visitors.csv`.\n",
    "\n",
    "Теперь необходимо проанализировать A/B-тест.\n",
    "### Построим график кумулятивной выручки по группам. Выводы и предположения\n",
    "\n",
    "Чтобы исключить проблему подсматривания, анализируют графики метрик.\\\n",
    "Изучают графики кумулятивных, или накапливаемых данных. По центральной предельной теореме значение кумулятивных метрик часто сходится и устанавливается около некоторого среднего. Тогда по графику кумулятивных метрик определяют, стоит останавливать тест или нет. "
   ]
  },
  {
   "cell_type": "code",
   "execution_count": 23,
   "metadata": {},
   "outputs": [
    {
     "data": {
      "text/html": [
       "<div>\n",
       "<style scoped>\n",
       "    .dataframe tbody tr th:only-of-type {\n",
       "        vertical-align: middle;\n",
       "    }\n",
       "\n",
       "    .dataframe tbody tr th {\n",
       "        vertical-align: top;\n",
       "    }\n",
       "\n",
       "    .dataframe thead th {\n",
       "        text-align: right;\n",
       "    }\n",
       "</style>\n",
       "<table border=\"1\" class=\"dataframe\">\n",
       "  <thead>\n",
       "    <tr style=\"text-align: right;\">\n",
       "      <th></th>\n",
       "      <th>date</th>\n",
       "      <th>group</th>\n",
       "      <th>orders</th>\n",
       "      <th>buyers</th>\n",
       "      <th>revenue</th>\n",
       "      <th>visitors</th>\n",
       "    </tr>\n",
       "  </thead>\n",
       "  <tbody>\n",
       "    <tr>\n",
       "      <th>0</th>\n",
       "      <td>2019-08-01</td>\n",
       "      <td>A</td>\n",
       "      <td>23</td>\n",
       "      <td>19</td>\n",
       "      <td>142779</td>\n",
       "      <td>719</td>\n",
       "    </tr>\n",
       "    <tr>\n",
       "      <th>1</th>\n",
       "      <td>2019-08-01</td>\n",
       "      <td>B</td>\n",
       "      <td>17</td>\n",
       "      <td>17</td>\n",
       "      <td>59758</td>\n",
       "      <td>713</td>\n",
       "    </tr>\n",
       "    <tr>\n",
       "      <th>2</th>\n",
       "      <td>2019-08-02</td>\n",
       "      <td>A</td>\n",
       "      <td>42</td>\n",
       "      <td>36</td>\n",
       "      <td>234381</td>\n",
       "      <td>1338</td>\n",
       "    </tr>\n",
       "    <tr>\n",
       "      <th>3</th>\n",
       "      <td>2019-08-02</td>\n",
       "      <td>B</td>\n",
       "      <td>40</td>\n",
       "      <td>39</td>\n",
       "      <td>221801</td>\n",
       "      <td>1294</td>\n",
       "    </tr>\n",
       "    <tr>\n",
       "      <th>4</th>\n",
       "      <td>2019-08-03</td>\n",
       "      <td>A</td>\n",
       "      <td>66</td>\n",
       "      <td>60</td>\n",
       "      <td>346854</td>\n",
       "      <td>1845</td>\n",
       "    </tr>\n",
       "  </tbody>\n",
       "</table>\n",
       "</div>"
      ],
      "text/plain": [
       "        date group  orders  buyers  revenue  visitors\n",
       "0 2019-08-01  A     23      19      142779   719     \n",
       "1 2019-08-01  B     17      17      59758    713     \n",
       "2 2019-08-02  A     42      36      234381   1338    \n",
       "3 2019-08-02  B     40      39      221801   1294    \n",
       "4 2019-08-03  A     66      60      346854   1845    "
      ]
     },
     "execution_count": 23,
     "metadata": {},
     "output_type": "execute_result"
    }
   ],
   "source": [
    "# создаем массив уникальных пар значений дат и групп теста\n",
    "datesGroups = orders[['date','group']].drop_duplicates()\n",
    "\n",
    "# получаем агрегированные кумулятивные по дням данные о заказах \n",
    "ordersAggregated = datesGroups.apply(\n",
    "    lambda x: orders[\n",
    "        np.logical_and(\n",
    "            orders['date'] <= x['date'], orders['group'] == x['group']\n",
    "        )\n",
    "    ].agg(\n",
    "        {\n",
    "            'date': 'max',\n",
    "            'group': 'max',\n",
    "            'transaction_id': 'nunique',\n",
    "            'visitor_id': 'nunique',\n",
    "            'revenue': 'sum',\n",
    "        }\n",
    "    ),\n",
    "    axis=1,\n",
    ").sort_values(by=['date', 'group'])\n",
    "\n",
    "# получаем агрегированные кумулятивные по дням данные о посетителях интернет-магазина \n",
    "visitorsAggregated = datesGroups.apply(\n",
    "    lambda x: visitors[\n",
    "        np.logical_and(\n",
    "            visitors['date'] <= x['date'], visitors['group'] == x['group']\n",
    "        )\n",
    "    ].agg({'date': 'max', 'group': 'max', 'visitors': 'sum'}),\n",
    "    axis=1,\n",
    ").sort_values(by=['date', 'group'])\n",
    "\n",
    "# объединяем кумулятивные данные в одной таблице и присваиваем ее столбцам понятные названия\n",
    "cumulativeData = ordersAggregated.merge(visitorsAggregated, left_on=['date', 'group'], right_on=['date', 'group'])\n",
    "cumulativeData.columns = ['date', 'group', 'orders', 'buyers', 'revenue', 'visitors']\n",
    "\n",
    "cumulativeData.head(5) "
   ]
  },
  {
   "cell_type": "markdown",
   "metadata": {},
   "source": [
    "Построим графики кумулятивной выручки по дням и группам A/B-тестирования."
   ]
  },
  {
   "cell_type": "code",
   "execution_count": 24,
   "metadata": {},
   "outputs": [
    {
     "data": {
      "text/plain": [
       "<matplotlib.legend.Legend at 0x7fc06f8c1730>"
      ]
     },
     "execution_count": 24,
     "metadata": {},
     "output_type": "execute_result"
    },
    {
     "data": {
      "image/png": "[encoded data removed]",
      "text/plain": [
       "<Figure size 864x576 with 1 Axes>"
      ]
     },
     "metadata": {
      "needs_background": "light"
     },
     "output_type": "display_data"
    }
   ],
   "source": [
    "# датафрейм с кумулятивным количеством заказов и кумулятивной выручкой по дням в группе А\n",
    "cumulativeRevenueA = cumulativeData[cumulativeData['group']=='A'][['date','revenue', 'orders']]\n",
    "\n",
    "# датафрейм с кумулятивным количеством заказов и кумулятивной выручкой по дням в группе B\n",
    "cumulativeRevenueB = cumulativeData[cumulativeData['group']=='B'][['date','revenue', 'orders']]\n",
    "\n",
    "# Строим график выручки группы А\n",
    "plt.figure(figsize=(12, 8))\n",
    "plt.xlabel('Дата проведения теста')\n",
    "plt.ylabel('Кумулятивная выручка, млн. руб.')\n",
    "plt.title('Графики кумулятивной выручки по дням и группам A/B-тестирования')\n",
    "plt.xticks(rotation=90, fontsize='10')\n",
    "plt.plot(cumulativeRevenueA['date'], cumulativeRevenueA['revenue'], label='A')\n",
    "\n",
    "# Строим график выручки группы B\n",
    "plt.plot(cumulativeRevenueB['date'], cumulativeRevenueB['revenue'], label='B')\n",
    "\n",
    "plt.legend()"
   ]
  },
  {
   "cell_type": "markdown",
   "metadata": {},
   "source": [
    "Выручка почти равномерно увеличивалась до середины теста. Но затем сегмент В значительно вырос по сравнению с сегментом А и вырвался вперед.\\\n",
    "Также график выручки группы В в одной точке резко растет.\\\n",
    "Эти признаки могут сигнализировать о всплесках числа заказов, либо о появлении аномально дорогих заказов в выборке. Такие выбросы необходимо удалить при заключительном анализе.\n",
    "\n",
    "### Построим график кумулятивного среднего чека по группам. Выводы и предположения\n"
   ]
  },
  {
   "cell_type": "code",
   "execution_count": 25,
   "metadata": {},
   "outputs": [
    {
     "data": {
      "text/plain": [
       "<matplotlib.legend.Legend at 0x7fc06f090a00>"
      ]
     },
     "execution_count": 25,
     "metadata": {},
     "output_type": "execute_result"
    },
    {
     "data": {
      "image/png": "[encoded data removed]",
      "text/plain": [
       "<Figure size 864x576 with 1 Axes>"
      ]
     },
     "metadata": {
      "needs_background": "light"
     },
     "output_type": "display_data"
    }
   ],
   "source": [
    "# Строим график среднего чека группы А\n",
    "plt.figure(figsize=(12, 8))\n",
    "plt.xlabel('Дата проведения теста')\n",
    "plt.ylabel('Средний чек, руб.')\n",
    "plt.title('Графики среднего чека по дням и группам A/B-тестирования')\n",
    "plt.xticks(rotation=90, fontsize='10')\n",
    "plt.plot(cumulativeRevenueA['date'], cumulativeRevenueA['revenue']/cumulativeRevenueA['orders'], label='A')\n",
    "# Строим график среднего чека группы В\n",
    "plt.plot(cumulativeRevenueB['date'], cumulativeRevenueB['revenue']/cumulativeRevenueB['orders'], label='B')\n",
    "plt.legend() "
   ]
  },
  {
   "cell_type": "markdown",
   "metadata": {},
   "source": [
    "Кумулятивное значение среднего чека по сегментам продолжает колебаться. Однако средний чек сегмента А становится равномерным ближе к концу теста. У сегмента В после резкого подъема в середине теста средний чек к концу теста падает.\\\n",
    "Возможно, в группу B в попали крупные заказы (резкий всплеск на графике). Тогда ей нужно больше данных, чтобы прийти к реальному среднему чеку и установиться на его уровне.\\\n",
    "Или требуется дополнительный анализ выбросов, которые так сильно искажают результаты.\n",
    "\n",
    "### Построим график относительного изменения кумулятивного среднего чека группы B к группе A. Выводы и предположения"
   ]
  },
  {
   "cell_type": "code",
   "execution_count": 26,
   "metadata": {},
   "outputs": [
    {
     "data": {
      "text/plain": [
       "<matplotlib.lines.Line2D at 0x7fc06f520340>"
      ]
     },
     "execution_count": 26,
     "metadata": {},
     "output_type": "execute_result"
    },
    {
     "data": {
      "image/png": "[encoded data removed]",
      "text/plain": [
       "<Figure size 864x576 with 1 Axes>"
      ]
     },
     "metadata": {
      "needs_background": "light"
     },
     "output_type": "display_data"
    }
   ],
   "source": [
    "# собираем данные в одном датафрейме\n",
    "mergedCumulativeRevenue = cumulativeRevenueA\\\n",
    "    .merge(cumulativeRevenueB, left_on='date', right_on='date', how='left', suffixes=['A', 'B'])\n",
    "\n",
    "# cтроим отношение средних чеков\n",
    "plt.figure(figsize=(12, 8))\n",
    "plt.xlabel('Дата проведения теста')\n",
    "plt.ylabel('Относительное изменение кумулятивного среднего чека')\n",
    "plt.xticks(rotation=90, fontsize='10')\n",
    "plt.title('График относительного изменения кумулятивного среднего чека группы B к группе A')\n",
    "plt.plot(mergedCumulativeRevenue['date'], \n",
    "         (mergedCumulativeRevenue['revenueB']/mergedCumulativeRevenue['ordersB'])\n",
    "         /(mergedCumulativeRevenue['revenueA']/mergedCumulativeRevenue['ordersA'])-1)\n",
    "\n",
    "# добавляем ось X\n",
    "plt.axhline(y=0, color='black', linestyle='--') "
   ]
  },
  {
   "cell_type": "markdown",
   "metadata": {},
   "source": [
    "В нескольких точках график различия между сегментами резко «скачет». Видимо, именно тогда были совершены аномальные заказы.\\\n",
    "Какие-либо выводы по данному графику делать рано.\n",
    "\n",
    "### Построим график кумулятивного среднего количества заказов на посетителя по группам. Выводы и предположения\n",
    "\n",
    "Построим графики кумулятивного среднего количества заказов на посетителя по дням и группам A/B-тестирования, используя данные из `cumulativeData`"
   ]
  },
  {
   "cell_type": "code",
   "execution_count": 27,
   "metadata": {},
   "outputs": [
    {
     "data": {
      "text/plain": [
       "<matplotlib.legend.Legend at 0x7fc06f4ab790>"
      ]
     },
     "execution_count": 27,
     "metadata": {},
     "output_type": "execute_result"
    },
    {
     "data": {
      "image/png": "[encoded data removed]",
      "text/plain": [
       "<Figure size 864x576 with 1 Axes>"
      ]
     },
     "metadata": {
      "needs_background": "light"
     },
     "output_type": "display_data"
    }
   ],
   "source": [
    "# датафрейм с кумулятивным количеством заказов и посетителями по дням в группе А\n",
    "cumulativeOrdersA = cumulativeData[cumulativeData['group']=='A'][['date', 'orders', 'visitors']]\n",
    "\n",
    "# датафрейм с кумулятивным количеством заказов и посетителями по дням в группе B\n",
    "cumulativeOrdersB = cumulativeData[cumulativeData['group']=='B'][['date', 'orders', 'visitors']]\n",
    "\n",
    "# Строим график среднего количества заказов группы А\n",
    "plt.figure(figsize=(12, 8))\n",
    "plt.xlabel('Дата проведения теста')\n",
    "plt.ylabel('Кумулятивное среднее количества заказов')\n",
    "plt.xticks(rotation=90, fontsize='10')\n",
    "plt.title('Графики кумулятивного среднего количества заказов на посетителя по группам')\n",
    "plt.plot(cumulativeOrdersA['date'], cumulativeOrdersA['orders'] / cumulativeOrdersA['visitors'], label='A')\n",
    "\n",
    "# Строим график среднего количества заказов группы B\n",
    "plt.plot(cumulativeOrdersB['date'], cumulativeOrdersB['orders'] / cumulativeOrdersB['visitors'], label='B')\n",
    "\n",
    "plt.legend()"
   ]
  },
  {
   "cell_type": "markdown",
   "metadata": {},
   "source": [
    "Кумулятивное значение среднего количества заказов на посетителя по сегментам имеет резкий всплеск в начале у обеих групп. Возможно, в первой половине теста имели место частые заказы или количество поситителей было меньше, чем в дальнейшем.\\\n",
    "Однако значение среднего количества заказов на посетителя сегмента В превышает сегмент А после стабилизации всплесков, но к концу теста оба значения имеют перспективу к уменьшению.\\\n",
    "Это говорит о том, что требуется более тщательно проверить выбросы при дальнейшем анализе.\n",
    "\n",
    "\n",
    "### Построим  график относительного изменения кумулятивного среднего количества заказов на посетителя группы B к группе A. Выводы и предположения"
   ]
  },
  {
   "cell_type": "code",
   "execution_count": 28,
   "metadata": {},
   "outputs": [
    {
     "data": {
      "text/plain": [
       "<matplotlib.lines.Line2D at 0x7fc06f41ad30>"
      ]
     },
     "execution_count": 28,
     "metadata": {},
     "output_type": "execute_result"
    },
    {
     "data": {
      "image/png": "[encoded data removed]",
      "text/plain": [
       "<Figure size 864x576 with 1 Axes>"
      ]
     },
     "metadata": {
      "needs_background": "light"
     },
     "output_type": "display_data"
    }
   ],
   "source": [
    "# собираем данные в одном датафрейме\n",
    "mergedCumulativeOrders = cumulativeOrdersA\\\n",
    "    .merge(cumulativeOrdersB, left_on='date', right_on='date', how='left', suffixes=['A', 'B'])\n",
    "\n",
    "# cтроим отношение среднего количества заказов на посетителя\n",
    "plt.figure(figsize=(12, 8))\n",
    "plt.xlabel('Дата проведения теста')\n",
    "plt.ylabel('Относительное изменение кумулятивного среднего количества заказов')\n",
    "plt.xticks(rotation=90, fontsize='10')\n",
    "plt.title('График относительного изменения кумулятивного среднего количества заказов на посетителя группы B к группе A')\n",
    "plt.plot(mergedCumulativeOrders['date'], \n",
    "         (mergedCumulativeOrders['ordersB']/mergedCumulativeOrders['visitorsB'])\n",
    "         /(mergedCumulativeOrders['ordersA']/mergedCumulativeOrders['visitorsA'])-1)\n",
    "\n",
    "# добавляем ось X\n",
    "plt.axhline(y=0, color='black', linestyle='--') \n",
    "plt.axhline(y=0.15, color='grey', linestyle='--')"
   ]
  },
  {
   "cell_type": "markdown",
   "metadata": {},
   "source": [
    "В начале теста группа B значительно проигрывала группе A, затем вырвалась вперёд. Потом по графику относительное изменение немного упало, но к концу оно постепенно растёт.\\\n",
    "Группа В показывает относительное изменение кумулятивного среднего количества заказов на посетителя в среднем на 15 % лучше группы А.\n",
    "\n",
    "### Построим точечный график количества заказов по пользователям. Выводы и предположения\n",
    "\n",
    "Изучим данные о заказах из датафрейма `orders`.\\\n",
    "Подсчитаем количество заказов по пользователям и посмотрим на результат:"
   ]
  },
  {
   "cell_type": "code",
   "execution_count": 29,
   "metadata": {},
   "outputs": [
    {
     "data": {
      "text/html": [
       "<div>\n",
       "<style scoped>\n",
       "    .dataframe tbody tr th:only-of-type {\n",
       "        vertical-align: middle;\n",
       "    }\n",
       "\n",
       "    .dataframe tbody tr th {\n",
       "        vertical-align: top;\n",
       "    }\n",
       "\n",
       "    .dataframe thead th {\n",
       "        text-align: right;\n",
       "    }\n",
       "</style>\n",
       "<table border=\"1\" class=\"dataframe\">\n",
       "  <thead>\n",
       "    <tr style=\"text-align: right;\">\n",
       "      <th></th>\n",
       "      <th>visitor_id</th>\n",
       "      <th>orders</th>\n",
       "    </tr>\n",
       "  </thead>\n",
       "  <tbody>\n",
       "    <tr>\n",
       "      <th>908</th>\n",
       "      <td>3967698036</td>\n",
       "      <td>3</td>\n",
       "    </tr>\n",
       "    <tr>\n",
       "      <th>55</th>\n",
       "      <td>249864742</td>\n",
       "      <td>3</td>\n",
       "    </tr>\n",
       "    <tr>\n",
       "      <th>478</th>\n",
       "      <td>2108163459</td>\n",
       "      <td>3</td>\n",
       "    </tr>\n",
       "    <tr>\n",
       "      <th>687</th>\n",
       "      <td>2988190573</td>\n",
       "      <td>3</td>\n",
       "    </tr>\n",
       "    <tr>\n",
       "      <th>890</th>\n",
       "      <td>3908431265</td>\n",
       "      <td>3</td>\n",
       "    </tr>\n",
       "    <tr>\n",
       "      <th>138</th>\n",
       "      <td>611059232</td>\n",
       "      <td>3</td>\n",
       "    </tr>\n",
       "    <tr>\n",
       "      <th>632</th>\n",
       "      <td>2742574263</td>\n",
       "      <td>3</td>\n",
       "    </tr>\n",
       "    <tr>\n",
       "      <th>157</th>\n",
       "      <td>678354126</td>\n",
       "      <td>2</td>\n",
       "    </tr>\n",
       "    <tr>\n",
       "      <th>323</th>\n",
       "      <td>1404560065</td>\n",
       "      <td>2</td>\n",
       "    </tr>\n",
       "    <tr>\n",
       "      <th>452</th>\n",
       "      <td>1985475298</td>\n",
       "      <td>2</td>\n",
       "    </tr>\n",
       "  </tbody>\n",
       "</table>\n",
       "</div>"
      ],
      "text/plain": [
       "     visitor_id  orders\n",
       "908  3967698036  3     \n",
       "55   249864742   3     \n",
       "478  2108163459  3     \n",
       "687  2988190573  3     \n",
       "890  3908431265  3     \n",
       "138  611059232   3     \n",
       "632  2742574263  3     \n",
       "157  678354126   2     \n",
       "323  1404560065  2     \n",
       "452  1985475298  2     "
      ]
     },
     "execution_count": 29,
     "metadata": {},
     "output_type": "execute_result"
    }
   ],
   "source": [
    "# Подсчитаем количество заказов по пользователям\n",
    "ordersByUsers = (\n",
    "    orders.groupby('visitor_id', as_index=False)\n",
    "    .agg({'transaction_id': 'nunique'})\n",
    ")\n",
    "# Переименуем столбцы\n",
    "ordersByUsers.columns = ['visitor_id', 'orders']\n",
    "# Отсортируем ordersByUsers по заказам\n",
    "ordersByUsers.sort_values(by='orders', ascending=False).head(10)"
   ]
  },
  {
   "cell_type": "markdown",
   "metadata": {},
   "source": [
    "В первой десятке пользователи, которые совершали от 2 до 3 заказов. Значительно больше, чем обычный пользователь за неделю.\n",
    "Построим гистрограмму распределения количества заказов на одного пользователя."
   ]
  },
  {
   "cell_type": "code",
   "execution_count": 30,
   "metadata": {},
   "outputs": [
    {
     "data": {
      "text/plain": [
       "(array([937.,   0.,   0.,   0.,   0.,  29.,   0.,   0.,   0.,   7.]),\n",
       " array([1. , 1.2, 1.4, 1.6, 1.8, 2. , 2.2, 2.4, 2.6, 2.8, 3. ]),\n",
       " <BarContainer object of 10 artists>)"
      ]
     },
     "execution_count": 30,
     "metadata": {},
     "output_type": "execute_result"
    },
    {
     "data": {
      "image/png": "[encoded data removed]",
      "text/plain": [
       "<Figure size 720x432 with 1 Axes>"
      ]
     },
     "metadata": {
      "needs_background": "light"
     },
     "output_type": "display_data"
    }
   ],
   "source": [
    "plt.figure(figsize=(10, 6))\n",
    "plt.xlabel('Количество пользователей')\n",
    "plt.ylabel('Количество заказов')\n",
    "plt.title('Гистрограмма распределения количества заказов на одного пользователя')\n",
    "plt.hist(ordersByUsers['orders']) "
   ]
  },
  {
   "cell_type": "markdown",
   "metadata": {},
   "source": [
    "Большинство покупателей заказывали только один раз. Но существует доля пользователей с 2-3 заказами.\\\n",
    "Построим точечную диаграмму числа заказов на одного пользователя:"
   ]
  },
  {
   "cell_type": "code",
   "execution_count": 31,
   "metadata": {},
   "outputs": [
    {
     "data": {
      "text/plain": [
       "<matplotlib.collections.PathCollection at 0x7fc06f1caf70>"
      ]
     },
     "execution_count": 31,
     "metadata": {},
     "output_type": "execute_result"
    },
    {
     "data": {
      "image/png": "[encoded data removed]",
      "text/plain": [
       "<Figure size 720x432 with 1 Axes>"
      ]
     },
     "metadata": {
      "needs_background": "light"
     },
     "output_type": "display_data"
    }
   ],
   "source": [
    "# сгенерируем номера наблюдений\n",
    "x_values = pd.Series(range(0,len(ordersByUsers)))\n",
    "# Построим точечную диаграмму\n",
    "plt.figure(figsize=(10, 6))\n",
    "plt.xlabel('Количество пользователей')\n",
    "plt.ylabel('Количество заказов')\n",
    "plt.title('Точечная диаграмма числа заказов на одного пользователя')\n",
    "plt.scatter(x_values, ordersByUsers['orders']) "
   ]
  },
  {
   "cell_type": "markdown",
   "metadata": {},
   "source": [
    "Выводы подтверждаются: много пользователей с 2-3 заказами. Их точная доля не ясна — непонятно, считать их аномалиями или нет.\n",
    "\n",
    "### Посчитаем 95-й и 99-й перцентили количества заказов на пользователя. Выберем границу для определения аномальных пользователей"
   ]
  },
  {
   "cell_type": "code",
   "execution_count": 32,
   "metadata": {},
   "outputs": [
    {
     "data": {
      "text/plain": [
       "array([1., 2.])"
      ]
     },
     "execution_count": 32,
     "metadata": {},
     "output_type": "execute_result"
    }
   ],
   "source": [
    "np.percentile(ordersByUsers['orders'], [95, 99])"
   ]
  },
  {
   "cell_type": "markdown",
   "metadata": {},
   "source": [
    "Не более 1% пользователей оформляли больше чем 2 заказа.\\\n",
    "Разумно выбрать 2 и более заказов на одного пользователя за верхнюю границу числа заказов, и отсеять аномальных пользователей по ней.\n",
    "\n",
    "### Построим точечный график стоимостей заказов. Выводы и предположения\n",
    "\n",
    "Исследуем аномально дорогие заказы, анализ самых дешёвых заказов из-за их маленькой стоимости анализировать не будем. \n"
   ]
  },
  {
   "cell_type": "code",
   "execution_count": 33,
   "metadata": {},
   "outputs": [
    {
     "data": {
      "text/html": [
       "<div>\n",
       "<style scoped>\n",
       "    .dataframe tbody tr th:only-of-type {\n",
       "        vertical-align: middle;\n",
       "    }\n",
       "\n",
       "    .dataframe tbody tr th {\n",
       "        vertical-align: top;\n",
       "    }\n",
       "\n",
       "    .dataframe thead th {\n",
       "        text-align: right;\n",
       "    }\n",
       "</style>\n",
       "<table border=\"1\" class=\"dataframe\">\n",
       "  <thead>\n",
       "    <tr style=\"text-align: right;\">\n",
       "      <th></th>\n",
       "      <th>transaction_id</th>\n",
       "      <th>visitor_id</th>\n",
       "      <th>date</th>\n",
       "      <th>revenue</th>\n",
       "      <th>group</th>\n",
       "    </tr>\n",
       "  </thead>\n",
       "  <tbody>\n",
       "    <tr>\n",
       "      <th>425</th>\n",
       "      <td>590470918</td>\n",
       "      <td>1920142716</td>\n",
       "      <td>2019-08-19</td>\n",
       "      <td>1294500</td>\n",
       "      <td>B</td>\n",
       "    </tr>\n",
       "    <tr>\n",
       "      <th>1196</th>\n",
       "      <td>3936777065</td>\n",
       "      <td>2108080724</td>\n",
       "      <td>2019-08-15</td>\n",
       "      <td>202740</td>\n",
       "      <td>B</td>\n",
       "    </tr>\n",
       "    <tr>\n",
       "      <th>1136</th>\n",
       "      <td>666610489</td>\n",
       "      <td>1307669133</td>\n",
       "      <td>2019-08-13</td>\n",
       "      <td>92550</td>\n",
       "      <td>A</td>\n",
       "    </tr>\n",
       "    <tr>\n",
       "      <th>744</th>\n",
       "      <td>3668308183</td>\n",
       "      <td>888512513</td>\n",
       "      <td>2019-08-27</td>\n",
       "      <td>86620</td>\n",
       "      <td>B</td>\n",
       "    </tr>\n",
       "    <tr>\n",
       "      <th>743</th>\n",
       "      <td>3603576309</td>\n",
       "      <td>4133034833</td>\n",
       "      <td>2019-08-09</td>\n",
       "      <td>67990</td>\n",
       "      <td>A</td>\n",
       "    </tr>\n",
       "    <tr>\n",
       "      <th>1103</th>\n",
       "      <td>1348774318</td>\n",
       "      <td>1164614297</td>\n",
       "      <td>2019-08-12</td>\n",
       "      <td>66350</td>\n",
       "      <td>A</td>\n",
       "    </tr>\n",
       "    <tr>\n",
       "      <th>1099</th>\n",
       "      <td>316924019</td>\n",
       "      <td>148427295</td>\n",
       "      <td>2019-08-12</td>\n",
       "      <td>65710</td>\n",
       "      <td>A</td>\n",
       "    </tr>\n",
       "    <tr>\n",
       "      <th>949</th>\n",
       "      <td>1347999392</td>\n",
       "      <td>887908475</td>\n",
       "      <td>2019-08-21</td>\n",
       "      <td>60450</td>\n",
       "      <td>A</td>\n",
       "    </tr>\n",
       "    <tr>\n",
       "      <th>940</th>\n",
       "      <td>2420050534</td>\n",
       "      <td>4003628586</td>\n",
       "      <td>2019-08-08</td>\n",
       "      <td>58550</td>\n",
       "      <td>B</td>\n",
       "    </tr>\n",
       "    <tr>\n",
       "      <th>131</th>\n",
       "      <td>3163614039</td>\n",
       "      <td>2254586615</td>\n",
       "      <td>2019-08-22</td>\n",
       "      <td>53904</td>\n",
       "      <td>A</td>\n",
       "    </tr>\n",
       "  </tbody>\n",
       "</table>\n",
       "</div>"
      ],
      "text/plain": [
       "      transaction_id  visitor_id       date  revenue group\n",
       "425   590470918       1920142716 2019-08-19  1294500  B   \n",
       "1196  3936777065      2108080724 2019-08-15  202740   B   \n",
       "1136  666610489       1307669133 2019-08-13  92550    A   \n",
       "744   3668308183      888512513  2019-08-27  86620    B   \n",
       "743   3603576309      4133034833 2019-08-09  67990    A   \n",
       "1103  1348774318      1164614297 2019-08-12  66350    A   \n",
       "1099  316924019       148427295  2019-08-12  65710    A   \n",
       "949   1347999392      887908475  2019-08-21  60450    A   \n",
       "940   2420050534      4003628586 2019-08-08  58550    B   \n",
       "131   3163614039      2254586615 2019-08-22  53904    A   "
      ]
     },
     "execution_count": 33,
     "metadata": {},
     "output_type": "execute_result"
    }
   ],
   "source": [
    "orders.sort_values(by='revenue', ascending=False).head(10)"
   ]
  },
  {
   "cell_type": "markdown",
   "metadata": {},
   "source": [
    "Среди самых дорогих заказов цены заказов находятся в диапазоне от 53 904 до 1 294 500 рублей. Если такой дорогой заказ попадёт в одну из групп теста, он сразу же исказит результаты и сделает победителем ту группу, где оказался.\n",
    "\n",
    "Построим точечную диаграмму распределения стоимостей заказов: "
   ]
  },
  {
   "cell_type": "code",
   "execution_count": 34,
   "metadata": {},
   "outputs": [
    {
     "data": {
      "text/plain": [
       "<matplotlib.collections.PathCollection at 0x7fc06f46fc10>"
      ]
     },
     "execution_count": 34,
     "metadata": {},
     "output_type": "execute_result"
    },
    {
     "data": {
      "image/png": "[encoded data removed]",
      "text/plain": [
       "<Figure size 720x432 with 1 Axes>"
      ]
     },
     "metadata": {
      "needs_background": "light"
     },
     "output_type": "display_data"
    }
   ],
   "source": [
    "# сгенерируем номера наблюдений\n",
    "x_values = pd.Series(range(0,len(orders['revenue'])))\n",
    "# Построим точечную диаграмму\n",
    "plt.figure(figsize=(10, 6))\n",
    "plt.xlabel('Количество заказов')\n",
    "plt.ylabel('Стоимость заказов, млн. руб.')\n",
    "plt.title('Точечная диаграмма распределения стоимостей заказов')\n",
    "plt.scatter(x_values, orders['revenue']) "
   ]
  },
  {
   "cell_type": "markdown",
   "metadata": {},
   "source": [
    "По точечносу графику видно, что дорогих заказов совсем немного. По графику можно выбрать приблизительную границу аномальных заказов более 50 000 рублей."
   ]
  },
  {
   "cell_type": "code",
   "execution_count": 35,
   "metadata": {},
   "outputs": [],
   "source": [
    "# уберем 2 выброса с выручкой свыше 200 000 рублей\n",
    "ord_clean = orders.query('revenue < 200000')['revenue']"
   ]
  },
  {
   "cell_type": "code",
   "execution_count": 36,
   "metadata": {},
   "outputs": [
    {
     "data": {
      "text/plain": [
       "<matplotlib.collections.PathCollection at 0x7fc06f0f3e20>"
      ]
     },
     "execution_count": 36,
     "metadata": {},
     "output_type": "execute_result"
    },
    {
     "data": {
      "image/png": "[encoded data removed]",
      "text/plain": [
       "<Figure size 720x432 with 1 Axes>"
      ]
     },
     "metadata": {
      "needs_background": "light"
     },
     "output_type": "display_data"
    }
   ],
   "source": [
    "# сгенерируем номера наблюдений\n",
    "x_values = pd.Series(range(0,len(ord_clean)))\n",
    "# Построим точечную диаграмму\n",
    "plt.figure(figsize=(10, 6))\n",
    "plt.xlabel('Количество заказов')\n",
    "plt.ylabel('Стоимость заказов, млн. руб.')\n",
    "plt.title('Точечная диаграмма распределения стоимостей заказов без выбросов')\n",
    "plt.scatter(x_values, ord_clean) "
   ]
  },
  {
   "cell_type": "markdown",
   "metadata": {},
   "source": [
    "Теперь по точечносу графику лучше видно, что дорогие заказы кроме двух выбросов свыше 200 000 рублей в основном свыше 60 000 рублей. По графику можно выбрать приблизительную границу аномальных заказов более 60 000 рублей.\\\n",
    "Посчитаем 95-й и 99-й перцентили стоимости заказов для боле точного определения границы аномальных значений стоимости заказа. \n",
    "\n",
    "### Посчитаем 95-й и 99-й перцентили стоимости заказов. Выберем границу для определения аномальных заказов."
   ]
  },
  {
   "cell_type": "code",
   "execution_count": 37,
   "metadata": {},
   "outputs": [
    {
     "data": {
      "text/plain": [
       "array([26785., 53904.])"
      ]
     },
     "execution_count": 37,
     "metadata": {},
     "output_type": "execute_result"
    }
   ],
   "source": [
    "np.percentile(orders['revenue'], [95, 99])"
   ]
  },
  {
   "cell_type": "markdown",
   "metadata": {},
   "source": [
    "Не более 5% заказов дороже 26 785 рублей и не более 1% дороже 53 904 рублей.\\\n",
    "Выберем 28 000 рублей и более за верхнюю границу стоимости заказа, и отсеем аномальных пользователей по ней.\n",
    "\n",
    "\n",
    "### Посчитаем статистическую значимость различий в среднем количестве заказов на посетителя между группами по «сырым» данным. Выводы и предположения\n",
    "\n",
    "Посчитаем статистическую значимость различий в среднем количестве заказов на пользователя между группами по «сырым» данным — без удаления аномальных пользователей.\\\n",
    "Сформулируем гипотезы. **Нулевая: различий в среднем количестве заказов между группами по «сырым» данным нет. Альтернативная: различия в среднем между группами по «сырым» данным есть**."
   ]
  },
  {
   "cell_type": "code",
   "execution_count": 38,
   "metadata": {},
   "outputs": [],
   "source": [
    "visitorsADaily = visitors[visitors['group'] == 'A'][['date', 'visitors']]\n",
    "visitorsADaily.columns = ['date', 'visitorsPerDateA']\n",
    "\n",
    "visitorsBDaily = visitors[visitors['group'] == 'B'][['date', 'visitors']]\n",
    "visitorsBDaily.columns = ['date', 'visitorsPerDateB']"
   ]
  },
  {
   "cell_type": "markdown",
   "metadata": {},
   "source": [
    "Посчитаем статистическую значимость различия в среднем количестве заказов между группами.\\\n",
    "Создадим переменные ordersByUsersA и ordersByUsersB. В них для пользователей, которые заказывали хотя бы 1 раз, укажем число совершённых заказов. "
   ]
  },
  {
   "cell_type": "code",
   "execution_count": 39,
   "metadata": {},
   "outputs": [],
   "source": [
    "ordersByUsersA = (\n",
    "    orders[orders['group'] == 'A']\n",
    "    .groupby('visitor_id', as_index=False)\n",
    "    .agg({'transaction_id': pd.Series.nunique})\n",
    ")\n",
    "ordersByUsersA.columns = ['visitor_id', 'orders']\n",
    "\n",
    "ordersByUsersB = (\n",
    "    orders[orders['group'] == 'B']\n",
    "    .groupby('visitor_id', as_index=False)\n",
    "    .agg({'transaction_id': pd.Series.nunique})\n",
    ")\n",
    "ordersByUsersB.columns = ['visitor_id', 'orders'] "
   ]
  },
  {
   "cell_type": "markdown",
   "metadata": {},
   "source": [
    "Объявим переменные sampleA и sampleB, в которых пользователям из разных групп будет соответствовать количество заказов. Тем, кто ничего не заказал, будут соответствовать нули. Это нужно, чтобы подготовить выборки к проверке критерием Манна-Уитни."
   ]
  },
  {
   "cell_type": "code",
   "execution_count": 40,
   "metadata": {},
   "outputs": [
    {
     "name": "stdout",
     "output_type": "stream",
     "text": [
      "p-value = 0.011 -  статистическая значимость различий в среднем количестве заказов на пользователя по сырым данным.\n",
      "16.0% относительный прирост среднего группы В к конверсии группы А по сырым данным.\n"
     ]
    }
   ],
   "source": [
    "sampleA = pd.concat(\n",
    "    [\n",
    "        ordersByUsersA['orders'],\n",
    "        pd.Series(\n",
    "            0,\n",
    "            index=np.arange(\n",
    "              visitorsADaily['visitorsPerDateA'].sum() - len(ordersByUsersA['orders'])\n",
    "            ),\n",
    "            name='orders',\n",
    "        ),\n",
    "    ],\n",
    "    axis=0,\n",
    ")\n",
    "\n",
    "sampleB = pd.concat(\n",
    "    [\n",
    "        ordersByUsersB['orders'],\n",
    "        pd.Series(\n",
    "            0,\n",
    "            index=np.arange(\n",
    "                visitorsBDaily['visitorsPerDateB'].sum() - len(ordersByUsersB['orders'])\n",
    "            ),\n",
    "            name='orders',\n",
    "        ),\n",
    "    ],\n",
    "    axis=0,\n",
    ")\n",
    "\n",
    "print(\"p-value = {0:.3f} -  статистическая значимость различий в среднем количестве заказов на пользователя по сырым данным.\"\\\n",
    "      .format(stats.mannwhitneyu(sampleA, sampleB)[1]))\n",
    "\n",
    "print(\"{0:.1%} относительный прирост среднего группы В к конверсии группы А по сырым данным.\"\\\n",
    "      .format(sampleB.mean() / sampleA.mean() - 1))"
   ]
  },
  {
   "cell_type": "markdown",
   "metadata": {},
   "source": [
    "P-value меньше 0.05, поэтому нулевую гипотезу отвергаем. Анализ сырых данных говорит о том, что в среднем количестве заказов между группамми есть статистически значимые различия. Относительный прирост среднего группы В к конверсии группы А равен 16 %.\\\n",
    "Необходимо сравнить средние чеки по сырым данным, а затем обе метрики еще раз после удаления аномальных значений.\n",
    "\n",
    "### Посчитаем статистическую значимость различий в среднем чеке заказа между группами по «сырым» данным. Выводы и предположения\n",
    "\n",
    "Теперь проверим статистическую значимость различий в среднем чеке между сегментами. **Нулевая гипотеза: различий в среднем чеке между группами по \"сырым\" данным нет. Альтернативная гипотеза: различия в среднем чеке между группами по \"сырым\" данным есть**.\\\n",
    "Чтобы рассчитать статистическую значимость различий в среднем чеке, передадим критерию mannwhitneyu() данные о выручке с заказов.\\\n",
    "А ещё найдём относительные различия в среднем чеке между группами:"
   ]
  },
  {
   "cell_type": "code",
   "execution_count": 41,
   "metadata": {},
   "outputs": [
    {
     "name": "stdout",
     "output_type": "stream",
     "text": [
      "p-value = 0.829 -  статистическая значимость различий в среднем чеке заказа между группами по сырым данным.\n",
      "28.7% относительный прирост среднего группы В к конверсии группы А по сырым данным.\n"
     ]
    }
   ],
   "source": [
    "print('p-value = {0:.3f} -  статистическая значимость различий в среднем чеке заказа между группами по сырым данным.'\\\n",
    "      .format(stats.mannwhitneyu(orders[orders['group']=='A']['revenue'], orders[orders['group']=='B']['revenue'])[1]))\n",
    "print('{0:.1%} относительный прирост среднего группы В к конверсии группы А по сырым данным.'\\\n",
    "      .format(orders[orders['group']=='B']['revenue'].mean()/orders[orders['group']=='A']['revenue'].mean()-1)) "
   ]
  },
  {
   "cell_type": "markdown",
   "metadata": {},
   "source": [
    "P-value значительно больше 0.05. Значит, причин отвергать нулевую гипотезу и считать, что в среднем чеке есть различия, нет.\\\n",
    "Впрочем, средний чек группы B выше среднего чека группы A аж на 28,7 %!\n",
    "\n",
    "### Посчитаем статистическую значимость различий в среднем количестве заказов на посетителя между группами по «очищенным» данным. Выводы и предположения\n",
    "\n",
    "Сформулируем гипотезы. **Нулевая: различий в среднем количестве заказов между группами по «очищенным» данным нет. Альтернативная: различия в среднем между группами по «очищенным» данным есть**.\\\n",
    "Примем за аномальных пользователей тех, кто совершил от 2 заказов или совершил заказ дороже 28 000 рублей. Так мы уберём 1% пользователей с наибольшим числом заказов и 5% пользователей с дорогими заказами. Сделаем срезы пользователей с числом заказов больше 1 — `usersWithManyOrders` и пользователей, совершивших заказы дороже 28 000 — `usersWithExpensiveOrders`. Объединим их в таблице `abnormalUsers`. \\\n",
    "Узнаем, сколько всего аномальных пользователей атрибутом `shape`."
   ]
  },
  {
   "cell_type": "code",
   "execution_count": 42,
   "metadata": {},
   "outputs": [
    {
     "name": "stdout",
     "output_type": "stream",
     "text": [
      "1099    148427295\n",
      "928     204675465\n",
      "33      249864742\n",
      "684     358944393\n",
      "36      366673373\n",
      "Name: visitor_id, dtype: int64\n",
      "83\n"
     ]
    }
   ],
   "source": [
    "usersWithManyOrders = pd.concat(\n",
    "    [\n",
    "        ordersByUsersA[ordersByUsersA['orders'] > 1]['visitor_id'],\n",
    "        ordersByUsersB[ordersByUsersB['orders'] > 1]['visitor_id'],\n",
    "    ],\n",
    "    axis=0,\n",
    ")\n",
    "usersWithExpensiveOrders = orders[orders['revenue'] > 28000]['visitor_id']\n",
    "abnormalUsers = (\n",
    "    pd.concat([usersWithManyOrders, usersWithExpensiveOrders], axis=0)\n",
    "    .drop_duplicates()\n",
    "    .sort_values()\n",
    ")\n",
    "print(abnormalUsers.head(5))\n",
    "print(abnormalUsers.shape[0]) "
   ]
  },
  {
   "cell_type": "markdown",
   "metadata": {},
   "source": [
    "Всего 83 аномальных пользователей.\\\n",
    "Узнаем, как их действия повлияли на результаты теста. Посчитаем статистическую значимость различий в среднем количестве заказов между группами теста по очищенным данным. Сначала подготовим выборки количества заказов по пользователям по группам теста:"
   ]
  },
  {
   "cell_type": "code",
   "execution_count": 43,
   "metadata": {},
   "outputs": [],
   "source": [
    " sampleAFiltered = pd.concat(\n",
    "    [\n",
    "        ordersByUsersA[\n",
    "            np.logical_not(ordersByUsersA['visitor_id'].isin(abnormalUsers))\n",
    "        ]['orders'],\n",
    "        pd.Series(\n",
    "            0,\n",
    "            index=np.arange(\n",
    "                visitorsADaily['visitorsPerDateA'].sum() - len(ordersByUsersA['orders'])\n",
    "            ),\n",
    "            name='orders',\n",
    "        ),\n",
    "    ],\n",
    "    axis=0,\n",
    ")\n",
    "\n",
    "sampleBFiltered = pd.concat(\n",
    "    [\n",
    "        ordersByUsersB[\n",
    "            np.logical_not(ordersByUsersB['visitor_id'].isin(abnormalUsers))\n",
    "        ]['orders'],\n",
    "        pd.Series(\n",
    "            0,\n",
    "            index=np.arange(\n",
    "                visitorsBDaily['visitorsPerDateB'].sum() - len(ordersByUsersB['orders'])\n",
    "            ),\n",
    "            name='orders',\n",
    "        ),\n",
    "    ],\n",
    "    axis=0,\n",
    ") "
   ]
  },
  {
   "cell_type": "code",
   "execution_count": 44,
   "metadata": {},
   "outputs": [
    {
     "name": "stdout",
     "output_type": "stream",
     "text": [
      "p-value = 0.012 -  статистическая значимость различий в среднем количестве заказов на пользователя по очищенным данным.\n",
      "18.1% относительный прирост среднего группы В к конверсии группы А по очищенным данным.\n"
     ]
    }
   ],
   "source": [
    "# Применим статистический критерий Манна-Уитни к полученным выборкам\n",
    "print('p-value = {0:.3f} -  статистическая значимость различий в среднем количестве заказов на пользователя по очищенным данным.'\\\n",
    "      .format(stats.mannwhitneyu(sampleAFiltered, sampleBFiltered)[1]))\n",
    "print('{0:.1%} относительный прирост среднего группы В к конверсии группы А по очищенным данным.'\\\n",
    "      .format(sampleBFiltered.mean()/sampleAFiltered.mean()-1)) "
   ]
  },
  {
   "cell_type": "markdown",
   "metadata": {},
   "source": [
    "Результаты по среднему количеству заказов практически не изменились. Из этого следует, что статистическая значимость достигнута, нулевую гипотезу отвергаем. Сегмент В значительно лучше сегмента А.\n",
    "\n",
    "### Посчитаем статистическую значимость различий в среднем чеке заказа между группами по «очищенным» данным. Выводы и предположения\n",
    "\n",
    "Проверим, произошло ли что-нибудь с результатами по среднему чеку.\\\n",
    "Сформируем гипотезы. **Нулевая гипотеза: различий в среднем чеке между группами по \"очищенным\" данным нет. Альтернативная гипотеза: различия в среднем чеке между группами по \"очищенным\" данным есть**."
   ]
  },
  {
   "cell_type": "code",
   "execution_count": 45,
   "metadata": {},
   "outputs": [
    {
     "name": "stdout",
     "output_type": "stream",
     "text": [
      "p-value = 0.851 -  статистическая значимость различий в среднем чеке заказа между группами по очищенным данным.\n",
      "-0.6% относительный снижение среднего группы В к конверсии группы А по очищенным данным.\n"
     ]
    }
   ],
   "source": [
    "print(\n",
    "    'p-value = {0:.3f} -  статистическая значимость различий в среднем чеке заказа между группами по очищенным данным.'.format(\n",
    "        stats.mannwhitneyu(\n",
    "            orders[\n",
    "                np.logical_and(\n",
    "                    orders['group'] == 'A',\n",
    "                    np.logical_not(orders['visitor_id'].isin(abnormalUsers)),\n",
    "                )\n",
    "            ]['revenue'],\n",
    "            orders[\n",
    "                np.logical_and(\n",
    "                    orders['group'] == 'B',\n",
    "                    np.logical_not(orders['visitor_id'].isin(abnormalUsers)),\n",
    "                )\n",
    "            ]['revenue'],\n",
    "        )[1]\n",
    "    )\n",
    ")\n",
    "\n",
    "print(\n",
    "    \"{0:.1%} относительный снижение среднего группы В к конверсии группы А по очищенным данным.\".format(\n",
    "        orders[\n",
    "            np.logical_and(\n",
    "                orders['group'] == 'B',\n",
    "                np.logical_not(orders['visitor_id'].isin(abnormalUsers)),\n",
    "            )\n",
    "        ]['revenue'].mean()\n",
    "        / orders[\n",
    "            np.logical_and(\n",
    "                orders['group'] == 'A',\n",
    "                np.logical_not(orders['visitor_id'].isin(abnormalUsers)),\n",
    "            )\n",
    "        ]['revenue'].mean()\n",
    "        - 1\n",
    "    )\n",
    ") "
   ]
  },
  {
   "cell_type": "markdown",
   "metadata": {},
   "source": [
    "P-value увеличился, и после удаления аномальных значений среднего чека разница между сегментами стала практически нулевой.\\\n",
    "Но  отвергать нулевую гипотезу нельзя.\\\n",
    "Хотя общие выводы по результатам теста не изменились, но аномальные значения повлияли на результаты A/B-теста.\n"
   ]
  },
  {
   "cell_type": "markdown",
   "metadata": {},
   "source": [
    "### Примим решение по результатам теста и объясним его\n",
    "\n",
    "Какие выводы по тесту можем сделать?\n",
    "Имеющиеся факты:\n",
    "- Есть статистически значимое различие по среднему количеству заказов между группами как по сырым данным, так и после фильтрации аномалий;\n",
    "- Нет статистически значимого различия по среднему чеку между группами ни по «сырым», ни по данным после фильтрации аномалий;\n",
    "- График различия среднего количества заказов между группами сообщает, что результаты группы B лучше группы A: имеют тенденцию к росту, либо зафиксировались около среднего значения.\n",
    "- График различия среднего чека колеблется: он-то и позволил найти аномалии. Сделать из этого графика определённые выводы нельзя."
   ]
  },
  {
   "cell_type": "code",
   "execution_count": 46,
   "metadata": {},
   "outputs": [
    {
     "data": {
      "text/plain": [
       "<matplotlib.lines.Line2D at 0x7fc06effd730>"
      ]
     },
     "execution_count": 46,
     "metadata": {},
     "output_type": "execute_result"
    },
    {
     "data": {
      "image/png": "[encoded data removed]",
      "text/plain": [
       "<Figure size 864x576 with 1 Axes>"
      ]
     },
     "metadata": {
      "needs_background": "light"
     },
     "output_type": "display_data"
    }
   ],
   "source": [
    "# собираем данные в одном датафрейме\n",
    "mergedCumulativeOrders = cumulativeOrdersA\\\n",
    "    .merge(cumulativeOrdersB, left_on='date', right_on='date', how='left', suffixes=['A', 'B'])\n",
    "\n",
    "# cтроим отношение среднего количества заказов на посетителя\n",
    "plt.figure(figsize=(12, 8))\n",
    "plt.xlabel('Дата проведения теста')\n",
    "plt.ylabel('Относительное изменение кумулятивного среднего количества заказов')\n",
    "plt.xticks(rotation=90, fontsize='10')\n",
    "plt.title('График относительного изменения кумулятивного среднего количества заказов на посетителя группы B к группе A')\n",
    "plt.plot(mergedCumulativeOrders['date'], \n",
    "         (mergedCumulativeOrders['ordersB']/mergedCumulativeOrders['visitorsB'])\n",
    "         /(mergedCumulativeOrders['ordersA']/mergedCumulativeOrders['visitorsA'])-1)\n",
    "\n",
    "# добавляем ось X\n",
    "plt.axhline(y=0, color='black', linestyle='--') \n",
    "plt.axhline(y=0.15, color='grey', linestyle='--')"
   ]
  },
  {
   "cell_type": "code",
   "execution_count": 47,
   "metadata": {},
   "outputs": [
    {
     "data": {
      "text/plain": [
       "<matplotlib.lines.Line2D at 0x7fc06efbf130>"
      ]
     },
     "execution_count": 47,
     "metadata": {},
     "output_type": "execute_result"
    },
    {
     "data": {
      "image/png": "[encoded data removed]",
      "text/plain": [
       "<Figure size 864x576 with 1 Axes>"
      ]
     },
     "metadata": {
      "needs_background": "light"
     },
     "output_type": "display_data"
    }
   ],
   "source": [
    "# собираем данные в одном датафрейме\n",
    "mergedCumulativeRevenue = cumulativeRevenueA\\\n",
    "    .merge(cumulativeRevenueB, left_on='date', right_on='date', how='left', suffixes=['A', 'B'])\n",
    "\n",
    "# cтроим отношение средних чеков\n",
    "plt.figure(figsize=(12, 8))\n",
    "plt.xlabel('Дата проведения теста')\n",
    "plt.ylabel('Относительное изменение кумулятивного среднего чека')\n",
    "plt.xticks(rotation=90, fontsize='10')\n",
    "plt.title('График относительного изменения кумулятивного среднего чека группы B к группе A')\n",
    "plt.plot(mergedCumulativeRevenue['date'], \n",
    "         (mergedCumulativeRevenue['revenueB']/mergedCumulativeRevenue['ordersB'])\n",
    "         /(mergedCumulativeRevenue['revenueA']/mergedCumulativeRevenue['ordersA'])-1)\n",
    "\n",
    "# добавляем ось X\n",
    "plt.axhline(y=0, color='black', linestyle='--') "
   ]
  },
  {
   "cell_type": "markdown",
   "metadata": {},
   "source": [
    "Исходя из обнаруженных фактов, **тест следует продолжить**. Вероятность, что при имеющихся данных сегмент B на самом деле лучше сегмента A — есть, осталось только достигнуть статистическую значимость по среднему чеку."
   ]
  },
  {
   "cell_type": "code",
   "execution_count": null,
   "metadata": {},
   "outputs": [],
   "source": []
  }
 ],
 "metadata": {
  "ExecuteTimeLog": [
   {
    "duration": 1449,
    "start_time": "2023-06-04T15:14:09.020Z"
   },
   {
    "duration": 78,
    "start_time": "2023-06-04T15:14:10.471Z"
   },
   {
    "duration": 197,
    "start_time": "2023-06-04T15:14:11.721Z"
   },
   {
    "duration": 74,
    "start_time": "2023-06-04T15:14:12.225Z"
   },
   {
    "duration": 3,
    "start_time": "2023-06-04T15:15:37.569Z"
   },
   {
    "duration": 131,
    "start_time": "2023-06-04T15:16:16.608Z"
   },
   {
    "duration": 45,
    "start_time": "2023-06-04T15:16:25.208Z"
   },
   {
    "duration": 3,
    "start_time": "2023-06-04T15:24:39.841Z"
   },
   {
    "duration": 9,
    "start_time": "2023-06-04T15:24:46.349Z"
   },
   {
    "duration": 4,
    "start_time": "2023-06-04T15:26:50.720Z"
   },
   {
    "duration": 12,
    "start_time": "2023-06-04T15:26:54.941Z"
   },
   {
    "duration": 6,
    "start_time": "2023-06-04T15:55:32.559Z"
   },
   {
    "duration": 87,
    "start_time": "2023-06-04T15:55:32.568Z"
   },
   {
    "duration": 74,
    "start_time": "2023-06-04T15:55:32.658Z"
   },
   {
    "duration": 16,
    "start_time": "2023-06-04T15:55:32.734Z"
   },
   {
    "duration": 4,
    "start_time": "2023-06-04T15:55:32.752Z"
   },
   {
    "duration": 80,
    "start_time": "2023-06-04T15:55:32.757Z"
   },
   {
    "duration": 20,
    "start_time": "2023-06-04T15:55:32.839Z"
   },
   {
    "duration": 23,
    "start_time": "2023-06-04T15:55:32.861Z"
   },
   {
    "duration": 42,
    "start_time": "2023-06-04T15:55:32.899Z"
   },
   {
    "duration": 24,
    "start_time": "2023-06-04T15:55:57.307Z"
   },
   {
    "duration": 18,
    "start_time": "2023-06-04T15:56:01.735Z"
   },
   {
    "duration": 22,
    "start_time": "2023-06-04T15:56:23.113Z"
   },
   {
    "duration": 33,
    "start_time": "2023-06-04T15:56:31.988Z"
   },
   {
    "duration": 32,
    "start_time": "2023-06-04T15:58:47.461Z"
   },
   {
    "duration": 6,
    "start_time": "2023-06-04T15:59:18.514Z"
   },
   {
    "duration": 24,
    "start_time": "2023-06-04T15:59:20.448Z"
   },
   {
    "duration": 18,
    "start_time": "2023-06-04T15:59:43.119Z"
   },
   {
    "duration": 5,
    "start_time": "2023-06-04T16:00:09.933Z"
   },
   {
    "duration": 85,
    "start_time": "2023-06-04T16:00:09.940Z"
   },
   {
    "duration": 40,
    "start_time": "2023-06-04T16:00:10.027Z"
   },
   {
    "duration": 30,
    "start_time": "2023-06-04T16:00:10.069Z"
   },
   {
    "duration": 17,
    "start_time": "2023-06-04T16:00:10.103Z"
   },
   {
    "duration": 68,
    "start_time": "2023-06-04T16:00:10.121Z"
   },
   {
    "duration": 21,
    "start_time": "2023-06-04T16:00:10.190Z"
   },
   {
    "duration": 20,
    "start_time": "2023-06-04T16:00:10.213Z"
   },
   {
    "duration": 30,
    "start_time": "2023-06-04T16:00:10.235Z"
   },
   {
    "duration": 87,
    "start_time": "2023-06-04T16:00:10.268Z"
   },
   {
    "duration": 8,
    "start_time": "2023-06-04T16:04:04.709Z"
   },
   {
    "duration": 11,
    "start_time": "2023-06-04T16:04:35.248Z"
   },
   {
    "duration": 15,
    "start_time": "2023-06-04T16:06:18.845Z"
   },
   {
    "duration": 13,
    "start_time": "2023-06-04T16:07:27.106Z"
   },
   {
    "duration": 2297,
    "start_time": "2023-06-04T16:12:14.373Z"
   },
   {
    "duration": 5,
    "start_time": "2023-06-04T16:12:18.827Z"
   },
   {
    "duration": 32,
    "start_time": "2023-06-04T16:12:18.835Z"
   },
   {
    "duration": 57,
    "start_time": "2023-06-04T16:12:18.869Z"
   },
   {
    "duration": 17,
    "start_time": "2023-06-04T16:12:18.928Z"
   },
   {
    "duration": 4,
    "start_time": "2023-06-04T16:12:18.947Z"
   },
   {
    "duration": 67,
    "start_time": "2023-06-04T16:12:18.953Z"
   },
   {
    "duration": 7,
    "start_time": "2023-06-04T16:12:19.022Z"
   },
   {
    "duration": 13,
    "start_time": "2023-06-04T16:12:19.031Z"
   },
   {
    "duration": 19,
    "start_time": "2023-06-04T16:12:19.047Z"
   },
   {
    "duration": 73,
    "start_time": "2023-06-04T16:12:19.068Z"
   },
   {
    "duration": 12,
    "start_time": "2023-06-04T16:12:19.143Z"
   },
   {
    "duration": 42,
    "start_time": "2023-06-04T16:12:19.157Z"
   },
   {
    "duration": 1861,
    "start_time": "2023-06-04T16:12:19.200Z"
   },
   {
    "duration": 6,
    "start_time": "2023-06-04T16:12:33.448Z"
   },
   {
    "duration": 5,
    "start_time": "2023-06-04T16:12:45.223Z"
   },
   {
    "duration": 7,
    "start_time": "2023-06-04T16:13:01.374Z"
   },
   {
    "duration": 5,
    "start_time": "2023-06-04T16:13:07.848Z"
   },
   {
    "duration": 3,
    "start_time": "2023-06-04T16:18:45.336Z"
   },
   {
    "duration": 4,
    "start_time": "2023-06-04T16:20:07.624Z"
   },
   {
    "duration": 7,
    "start_time": "2023-06-04T16:20:29.805Z"
   },
   {
    "duration": 5,
    "start_time": "2023-06-04T16:20:43.270Z"
   },
   {
    "duration": 8,
    "start_time": "2023-06-04T16:20:56.698Z"
   },
   {
    "duration": 4,
    "start_time": "2023-06-04T16:21:15.064Z"
   },
   {
    "duration": 4,
    "start_time": "2023-06-04T16:21:32.538Z"
   },
   {
    "duration": 4,
    "start_time": "2023-06-04T16:22:01.928Z"
   },
   {
    "duration": 3,
    "start_time": "2023-06-04T16:27:22.112Z"
   },
   {
    "duration": 27,
    "start_time": "2023-06-04T16:27:36.162Z"
   },
   {
    "duration": 16,
    "start_time": "2023-06-04T16:27:49.512Z"
   },
   {
    "duration": 22,
    "start_time": "2023-06-04T16:37:16.283Z"
   },
   {
    "duration": 14,
    "start_time": "2023-06-04T16:38:15.713Z"
   },
   {
    "duration": 12,
    "start_time": "2023-06-04T16:38:20.606Z"
   },
   {
    "duration": 4,
    "start_time": "2023-06-04T16:41:50.733Z"
   },
   {
    "duration": 4,
    "start_time": "2023-06-04T16:41:59.444Z"
   },
   {
    "duration": 15,
    "start_time": "2023-06-04T16:43:43.052Z"
   },
   {
    "duration": 6,
    "start_time": "2023-06-04T16:49:37.018Z"
   },
   {
    "duration": 45,
    "start_time": "2023-06-04T17:01:59.610Z"
   },
   {
    "duration": 9,
    "start_time": "2023-06-04T17:02:06.015Z"
   },
   {
    "duration": 49,
    "start_time": "2023-06-04T17:02:06.029Z"
   },
   {
    "duration": 62,
    "start_time": "2023-06-04T17:02:06.082Z"
   },
   {
    "duration": 16,
    "start_time": "2023-06-04T17:02:06.147Z"
   },
   {
    "duration": 3,
    "start_time": "2023-06-04T17:02:06.164Z"
   },
   {
    "duration": 104,
    "start_time": "2023-06-04T17:02:06.169Z"
   },
   {
    "duration": 12,
    "start_time": "2023-06-04T17:02:06.279Z"
   },
   {
    "duration": 60,
    "start_time": "2023-06-04T17:02:06.294Z"
   },
   {
    "duration": 15,
    "start_time": "2023-06-04T17:02:06.357Z"
   },
   {
    "duration": 120,
    "start_time": "2023-06-04T17:02:06.375Z"
   },
   {
    "duration": 20,
    "start_time": "2023-06-04T17:02:06.501Z"
   },
   {
    "duration": 88,
    "start_time": "2023-06-04T17:02:06.523Z"
   },
   {
    "duration": 52,
    "start_time": "2023-06-04T17:02:06.623Z"
   },
   {
    "duration": 91,
    "start_time": "2023-06-04T17:02:06.676Z"
   },
   {
    "duration": 16,
    "start_time": "2023-06-04T17:02:48.238Z"
   },
   {
    "duration": 10,
    "start_time": "2023-06-04T17:03:51.433Z"
   },
   {
    "duration": 364,
    "start_time": "2023-06-04T17:04:19.773Z"
   },
   {
    "duration": 343,
    "start_time": "2023-06-04T17:07:13.662Z"
   },
   {
    "duration": 373,
    "start_time": "2023-06-04T17:08:31.871Z"
   },
   {
    "duration": 451,
    "start_time": "2023-06-04T17:09:53.699Z"
   },
   {
    "duration": 231,
    "start_time": "2023-06-04T17:11:06.209Z"
   },
   {
    "duration": 308,
    "start_time": "2023-06-04T17:11:16.635Z"
   },
   {
    "duration": 293,
    "start_time": "2023-06-04T17:11:54.444Z"
   },
   {
    "duration": 364,
    "start_time": "2023-06-04T17:13:35.405Z"
   },
   {
    "duration": 248,
    "start_time": "2023-06-04T17:15:34.106Z"
   },
   {
    "duration": 325,
    "start_time": "2023-06-04T17:15:46.547Z"
   },
   {
    "duration": 225,
    "start_time": "2023-06-04T17:33:28.702Z"
   },
   {
    "duration": 345,
    "start_time": "2023-06-04T17:33:51.079Z"
   },
   {
    "duration": 270,
    "start_time": "2023-06-04T17:34:22.834Z"
   },
   {
    "duration": 386,
    "start_time": "2023-06-04T17:45:34.088Z"
   },
   {
    "duration": 107,
    "start_time": "2023-06-04T17:47:44.315Z"
   },
   {
    "duration": 275,
    "start_time": "2023-06-04T17:48:09.444Z"
   },
   {
    "duration": 457,
    "start_time": "2023-06-04T17:48:28.463Z"
   },
   {
    "duration": 372,
    "start_time": "2023-06-04T17:48:40.984Z"
   },
   {
    "duration": 317,
    "start_time": "2023-06-04T17:49:14.512Z"
   },
   {
    "duration": 87,
    "start_time": "2023-06-04T17:51:28.189Z"
   },
   {
    "duration": 1390,
    "start_time": "2023-06-05T18:24:57.540Z"
   },
   {
    "duration": 74,
    "start_time": "2023-06-05T18:24:58.932Z"
   },
   {
    "duration": 153,
    "start_time": "2023-06-05T18:24:59.008Z"
   },
   {
    "duration": 67,
    "start_time": "2023-06-05T18:24:59.164Z"
   },
   {
    "duration": 4,
    "start_time": "2023-06-05T18:24:59.232Z"
   },
   {
    "duration": 48,
    "start_time": "2023-06-05T18:24:59.237Z"
   },
   {
    "duration": 3,
    "start_time": "2023-06-05T18:24:59.286Z"
   },
   {
    "duration": 11,
    "start_time": "2023-06-05T18:24:59.291Z"
   },
   {
    "duration": 11,
    "start_time": "2023-06-05T18:24:59.303Z"
   },
   {
    "duration": 24,
    "start_time": "2023-06-05T18:24:59.317Z"
   },
   {
    "duration": 54,
    "start_time": "2023-06-05T18:24:59.342Z"
   },
   {
    "duration": 14,
    "start_time": "2023-06-05T18:24:59.397Z"
   },
   {
    "duration": 16,
    "start_time": "2023-06-05T18:24:59.412Z"
   },
   {
    "duration": 501,
    "start_time": "2023-06-05T18:24:59.430Z"
   },
   {
    "duration": 313,
    "start_time": "2023-06-05T18:24:59.932Z"
   },
   {
    "duration": 245,
    "start_time": "2023-06-05T18:25:00.247Z"
   },
   {
    "duration": 364,
    "start_time": "2023-06-05T18:25:00.495Z"
   },
   {
    "duration": 7,
    "start_time": "2023-06-05T18:38:22.685Z"
   },
   {
    "duration": 115,
    "start_time": "2023-06-05T18:38:32.540Z"
   },
   {
    "duration": 13,
    "start_time": "2023-06-05T18:39:26.710Z"
   },
   {
    "duration": 14,
    "start_time": "2023-06-05T18:41:30.163Z"
   },
   {
    "duration": 18,
    "start_time": "2023-06-05T18:41:38.919Z"
   },
   {
    "duration": 11,
    "start_time": "2023-06-05T18:41:45.927Z"
   },
   {
    "duration": 11,
    "start_time": "2023-06-05T18:42:04.239Z"
   },
   {
    "duration": 11,
    "start_time": "2023-06-05T18:42:08.592Z"
   },
   {
    "duration": 4,
    "start_time": "2023-06-05T18:42:14.556Z"
   },
   {
    "duration": 72,
    "start_time": "2023-06-05T18:42:14.562Z"
   },
   {
    "duration": 56,
    "start_time": "2023-06-05T18:42:14.636Z"
   },
   {
    "duration": 16,
    "start_time": "2023-06-05T18:42:14.693Z"
   },
   {
    "duration": 20,
    "start_time": "2023-06-05T18:42:14.712Z"
   },
   {
    "duration": 50,
    "start_time": "2023-06-05T18:42:14.733Z"
   },
   {
    "duration": 4,
    "start_time": "2023-06-05T18:42:14.786Z"
   },
   {
    "duration": 50,
    "start_time": "2023-06-05T18:42:14.792Z"
   },
   {
    "duration": 55,
    "start_time": "2023-06-05T18:42:14.844Z"
   },
   {
    "duration": 72,
    "start_time": "2023-06-05T18:42:14.900Z"
   },
   {
    "duration": 46,
    "start_time": "2023-06-05T18:42:14.974Z"
   },
   {
    "duration": 77,
    "start_time": "2023-06-05T18:42:15.021Z"
   },
   {
    "duration": 56,
    "start_time": "2023-06-05T18:42:15.100Z"
   },
   {
    "duration": 335,
    "start_time": "2023-06-05T18:42:15.157Z"
   },
   {
    "duration": 260,
    "start_time": "2023-06-05T18:42:15.493Z"
   },
   {
    "duration": 242,
    "start_time": "2023-06-05T18:42:15.754Z"
   },
   {
    "duration": 331,
    "start_time": "2023-06-05T18:42:15.998Z"
   },
   {
    "duration": 4,
    "start_time": "2023-06-05T18:42:51.797Z"
   },
   {
    "duration": 38,
    "start_time": "2023-06-05T18:42:51.804Z"
   },
   {
    "duration": 39,
    "start_time": "2023-06-05T18:42:51.844Z"
   },
   {
    "duration": 17,
    "start_time": "2023-06-05T18:42:51.885Z"
   },
   {
    "duration": 9,
    "start_time": "2023-06-05T18:42:51.905Z"
   },
   {
    "duration": 62,
    "start_time": "2023-06-05T18:42:51.916Z"
   },
   {
    "duration": 3,
    "start_time": "2023-06-05T18:42:51.980Z"
   },
   {
    "duration": 20,
    "start_time": "2023-06-05T18:42:51.984Z"
   },
   {
    "duration": 11,
    "start_time": "2023-06-05T18:42:52.005Z"
   },
   {
    "duration": 37,
    "start_time": "2023-06-05T18:42:52.018Z"
   },
   {
    "duration": 88,
    "start_time": "2023-06-05T18:42:52.056Z"
   },
   {
    "duration": 14,
    "start_time": "2023-06-05T18:42:52.145Z"
   },
   {
    "duration": 17,
    "start_time": "2023-06-05T18:42:52.161Z"
   },
   {
    "duration": 292,
    "start_time": "2023-06-05T18:42:52.180Z"
   },
   {
    "duration": 224,
    "start_time": "2023-06-05T18:42:52.478Z"
   },
   {
    "duration": 227,
    "start_time": "2023-06-05T18:42:52.704Z"
   },
   {
    "duration": 322,
    "start_time": "2023-06-05T18:42:52.933Z"
   },
   {
    "duration": 42,
    "start_time": "2023-06-05T18:43:32.949Z"
   },
   {
    "duration": 5,
    "start_time": "2023-06-05T18:49:59.690Z"
   },
   {
    "duration": 47,
    "start_time": "2023-06-05T18:49:59.697Z"
   },
   {
    "duration": 39,
    "start_time": "2023-06-05T18:49:59.746Z"
   },
   {
    "duration": 16,
    "start_time": "2023-06-05T18:49:59.786Z"
   },
   {
    "duration": 3,
    "start_time": "2023-06-05T18:49:59.804Z"
   },
   {
    "duration": 39,
    "start_time": "2023-06-05T18:49:59.809Z"
   },
   {
    "duration": 3,
    "start_time": "2023-06-05T18:49:59.849Z"
   },
   {
    "duration": 6,
    "start_time": "2023-06-05T18:49:59.854Z"
   },
   {
    "duration": 17,
    "start_time": "2023-06-05T18:49:59.861Z"
   },
   {
    "duration": 21,
    "start_time": "2023-06-05T18:49:59.880Z"
   },
   {
    "duration": 10,
    "start_time": "2023-06-05T18:49:59.903Z"
   },
   {
    "duration": 15,
    "start_time": "2023-06-05T18:49:59.914Z"
   },
   {
    "duration": 6,
    "start_time": "2023-06-05T18:49:59.930Z"
   },
   {
    "duration": 309,
    "start_time": "2023-06-05T18:49:59.938Z"
   },
   {
    "duration": 228,
    "start_time": "2023-06-05T18:50:00.248Z"
   },
   {
    "duration": 207,
    "start_time": "2023-06-05T18:50:00.478Z"
   },
   {
    "duration": 444,
    "start_time": "2023-06-05T18:50:00.686Z"
   },
   {
    "duration": 4,
    "start_time": "2023-06-05T19:03:37.044Z"
   },
   {
    "duration": 31,
    "start_time": "2023-06-05T19:03:37.050Z"
   },
   {
    "duration": 39,
    "start_time": "2023-06-05T19:03:37.083Z"
   },
   {
    "duration": 16,
    "start_time": "2023-06-05T19:03:37.123Z"
   },
   {
    "duration": 3,
    "start_time": "2023-06-05T19:03:37.141Z"
   },
   {
    "duration": 46,
    "start_time": "2023-06-05T19:03:37.146Z"
   },
   {
    "duration": 3,
    "start_time": "2023-06-05T19:03:37.194Z"
   },
   {
    "duration": 7,
    "start_time": "2023-06-05T19:03:37.199Z"
   },
   {
    "duration": 11,
    "start_time": "2023-06-05T19:03:37.208Z"
   },
   {
    "duration": 57,
    "start_time": "2023-06-05T19:03:37.220Z"
   },
   {
    "duration": 13,
    "start_time": "2023-06-05T19:03:37.279Z"
   },
   {
    "duration": 13,
    "start_time": "2023-06-05T19:03:37.293Z"
   },
   {
    "duration": 9,
    "start_time": "2023-06-05T19:03:37.308Z"
   },
   {
    "duration": 289,
    "start_time": "2023-06-05T19:03:37.319Z"
   },
   {
    "duration": 299,
    "start_time": "2023-06-05T19:03:37.610Z"
   },
   {
    "duration": 235,
    "start_time": "2023-06-05T19:03:37.911Z"
   },
   {
    "duration": 375,
    "start_time": "2023-06-05T19:03:38.148Z"
   },
   {
    "duration": 5,
    "start_time": "2023-06-05T19:07:37.521Z"
   },
   {
    "duration": 33,
    "start_time": "2023-06-05T19:07:37.527Z"
   },
   {
    "duration": 42,
    "start_time": "2023-06-05T19:07:37.562Z"
   },
   {
    "duration": 16,
    "start_time": "2023-06-05T19:07:37.605Z"
   },
   {
    "duration": 3,
    "start_time": "2023-06-05T19:07:37.624Z"
   },
   {
    "duration": 39,
    "start_time": "2023-06-05T19:07:37.628Z"
   },
   {
    "duration": 3,
    "start_time": "2023-06-05T19:07:37.669Z"
   },
   {
    "duration": 18,
    "start_time": "2023-06-05T19:07:37.674Z"
   },
   {
    "duration": 19,
    "start_time": "2023-06-05T19:07:37.694Z"
   },
   {
    "duration": 31,
    "start_time": "2023-06-05T19:07:37.715Z"
   },
   {
    "duration": 13,
    "start_time": "2023-06-05T19:07:37.749Z"
   },
   {
    "duration": 22,
    "start_time": "2023-06-05T19:07:37.764Z"
   },
   {
    "duration": 21,
    "start_time": "2023-06-05T19:07:37.788Z"
   },
   {
    "duration": 293,
    "start_time": "2023-06-05T19:07:37.811Z"
   },
   {
    "duration": 245,
    "start_time": "2023-06-05T19:07:38.106Z"
   },
   {
    "duration": 241,
    "start_time": "2023-06-05T19:07:38.353Z"
   },
   {
    "duration": 330,
    "start_time": "2023-06-05T19:07:38.596Z"
   },
   {
    "duration": 45,
    "start_time": "2023-06-05T19:07:46.397Z"
   },
   {
    "duration": 234,
    "start_time": "2023-06-05T19:25:12.855Z"
   },
   {
    "duration": 306,
    "start_time": "2023-06-05T19:44:49.205Z"
   },
   {
    "duration": 302,
    "start_time": "2023-06-05T19:47:57.239Z"
   },
   {
    "duration": 333,
    "start_time": "2023-06-05T19:48:24.368Z"
   },
   {
    "duration": 1172,
    "start_time": "2023-06-05T21:49:22.129Z"
   },
   {
    "duration": 28,
    "start_time": "2023-06-05T21:49:23.303Z"
   },
   {
    "duration": 39,
    "start_time": "2023-06-05T21:49:23.332Z"
   },
   {
    "duration": 17,
    "start_time": "2023-06-05T21:49:23.373Z"
   },
   {
    "duration": 3,
    "start_time": "2023-06-05T21:49:23.391Z"
   },
   {
    "duration": 48,
    "start_time": "2023-06-05T21:49:23.396Z"
   },
   {
    "duration": 3,
    "start_time": "2023-06-05T21:49:23.446Z"
   },
   {
    "duration": 17,
    "start_time": "2023-06-05T21:49:23.451Z"
   },
   {
    "duration": 12,
    "start_time": "2023-06-05T21:49:23.469Z"
   },
   {
    "duration": 28,
    "start_time": "2023-06-05T21:49:23.483Z"
   },
   {
    "duration": 13,
    "start_time": "2023-06-05T21:49:23.513Z"
   },
   {
    "duration": 14,
    "start_time": "2023-06-05T21:49:23.528Z"
   },
   {
    "duration": 47,
    "start_time": "2023-06-05T21:49:23.544Z"
   },
   {
    "duration": 286,
    "start_time": "2023-06-05T21:49:23.593Z"
   },
   {
    "duration": 322,
    "start_time": "2023-06-05T21:49:23.881Z"
   },
   {
    "duration": 223,
    "start_time": "2023-06-05T21:49:24.205Z"
   },
   {
    "duration": 329,
    "start_time": "2023-06-05T21:49:24.430Z"
   },
   {
    "duration": 251,
    "start_time": "2023-06-05T21:49:24.761Z"
   },
   {
    "duration": 320,
    "start_time": "2023-06-05T21:49:25.014Z"
   },
   {
    "duration": 126,
    "start_time": "2023-06-05T21:57:01.553Z"
   },
   {
    "duration": 279,
    "start_time": "2023-06-05T21:58:32.474Z"
   },
   {
    "duration": 2002,
    "start_time": "2023-06-06T14:08:33.005Z"
   },
   {
    "duration": 76,
    "start_time": "2023-06-06T14:08:35.009Z"
   },
   {
    "duration": 128,
    "start_time": "2023-06-06T14:08:35.087Z"
   },
   {
    "duration": 51,
    "start_time": "2023-06-06T14:08:35.218Z"
   },
   {
    "duration": 3,
    "start_time": "2023-06-06T14:08:35.272Z"
   },
   {
    "duration": 74,
    "start_time": "2023-06-06T14:08:35.277Z"
   },
   {
    "duration": 4,
    "start_time": "2023-06-06T14:08:35.353Z"
   },
   {
    "duration": 16,
    "start_time": "2023-06-06T14:08:35.358Z"
   },
   {
    "duration": 12,
    "start_time": "2023-06-06T14:08:35.376Z"
   },
   {
    "duration": 42,
    "start_time": "2023-06-06T14:08:35.391Z"
   },
   {
    "duration": 19,
    "start_time": "2023-06-06T14:08:35.435Z"
   },
   {
    "duration": 11,
    "start_time": "2023-06-06T14:08:35.455Z"
   },
   {
    "duration": 23,
    "start_time": "2023-06-06T14:08:35.468Z"
   },
   {
    "duration": 324,
    "start_time": "2023-06-06T14:08:35.493Z"
   },
   {
    "duration": 316,
    "start_time": "2023-06-06T14:08:35.818Z"
   },
   {
    "duration": 246,
    "start_time": "2023-06-06T14:08:36.136Z"
   },
   {
    "duration": 447,
    "start_time": "2023-06-06T14:08:36.385Z"
   },
   {
    "duration": 229,
    "start_time": "2023-06-06T14:08:36.838Z"
   },
   {
    "duration": 315,
    "start_time": "2023-06-06T14:08:37.069Z"
   },
   {
    "duration": 10,
    "start_time": "2023-06-06T14:08:37.386Z"
   },
   {
    "duration": 10,
    "start_time": "2023-06-06T14:11:25.185Z"
   },
   {
    "duration": 11,
    "start_time": "2023-06-06T14:12:11.444Z"
   },
   {
    "duration": 108,
    "start_time": "2023-06-06T14:15:44.450Z"
   },
   {
    "duration": 282,
    "start_time": "2023-06-06T14:16:21.667Z"
   },
   {
    "duration": 235,
    "start_time": "2023-06-06T14:16:31.443Z"
   },
   {
    "duration": 158,
    "start_time": "2023-06-06T14:16:40.009Z"
   },
   {
    "duration": 149,
    "start_time": "2023-06-06T14:17:22.787Z"
   },
   {
    "duration": 115,
    "start_time": "2023-06-06T14:20:21.226Z"
   },
   {
    "duration": 140,
    "start_time": "2023-06-06T14:21:10.755Z"
   },
   {
    "duration": 133,
    "start_time": "2023-06-06T14:21:33.669Z"
   },
   {
    "duration": 5,
    "start_time": "2023-06-06T14:22:45.470Z"
   },
   {
    "duration": 6,
    "start_time": "2023-06-06T14:27:01.094Z"
   },
   {
    "duration": 10,
    "start_time": "2023-06-06T14:32:48.701Z"
   },
   {
    "duration": 216,
    "start_time": "2023-06-06T14:34:53.958Z"
   },
   {
    "duration": 139,
    "start_time": "2023-06-06T14:35:02.254Z"
   },
   {
    "duration": 136,
    "start_time": "2023-06-06T14:35:39.477Z"
   },
   {
    "duration": 146,
    "start_time": "2023-06-06T14:38:27.485Z"
   },
   {
    "duration": 147,
    "start_time": "2023-06-06T14:38:48.551Z"
   },
   {
    "duration": 6,
    "start_time": "2023-06-06T14:43:55.129Z"
   },
   {
    "duration": 4,
    "start_time": "2023-06-06T15:07:04.637Z"
   },
   {
    "duration": 33,
    "start_time": "2023-06-06T15:07:04.643Z"
   },
   {
    "duration": 36,
    "start_time": "2023-06-06T15:07:04.678Z"
   },
   {
    "duration": 15,
    "start_time": "2023-06-06T15:07:04.715Z"
   },
   {
    "duration": 3,
    "start_time": "2023-06-06T15:07:04.733Z"
   },
   {
    "duration": 42,
    "start_time": "2023-06-06T15:07:04.738Z"
   },
   {
    "duration": 3,
    "start_time": "2023-06-06T15:07:04.782Z"
   },
   {
    "duration": 12,
    "start_time": "2023-06-06T15:07:04.786Z"
   },
   {
    "duration": 26,
    "start_time": "2023-06-06T15:07:04.800Z"
   },
   {
    "duration": 28,
    "start_time": "2023-06-06T15:07:04.827Z"
   },
   {
    "duration": 13,
    "start_time": "2023-06-06T15:07:04.858Z"
   },
   {
    "duration": 18,
    "start_time": "2023-06-06T15:07:04.873Z"
   },
   {
    "duration": 32,
    "start_time": "2023-06-06T15:07:04.893Z"
   },
   {
    "duration": 367,
    "start_time": "2023-06-06T15:07:04.927Z"
   },
   {
    "duration": 241,
    "start_time": "2023-06-06T15:07:05.296Z"
   },
   {
    "duration": 237,
    "start_time": "2023-06-06T15:07:05.538Z"
   },
   {
    "duration": 413,
    "start_time": "2023-06-06T15:07:05.777Z"
   },
   {
    "duration": 252,
    "start_time": "2023-06-06T15:07:06.191Z"
   },
   {
    "duration": 348,
    "start_time": "2023-06-06T15:07:06.445Z"
   },
   {
    "duration": 15,
    "start_time": "2023-06-06T15:07:06.795Z"
   },
   {
    "duration": 139,
    "start_time": "2023-06-06T15:07:06.824Z"
   },
   {
    "duration": 136,
    "start_time": "2023-06-06T15:07:06.965Z"
   },
   {
    "duration": 4,
    "start_time": "2023-06-06T15:07:07.103Z"
   },
   {
    "duration": 47,
    "start_time": "2023-06-06T15:07:07.109Z"
   },
   {
    "duration": 185,
    "start_time": "2023-06-06T15:07:07.157Z"
   },
   {
    "duration": 5,
    "start_time": "2023-06-06T15:07:07.344Z"
   },
   {
    "duration": 219,
    "start_time": "2023-06-06T15:07:07.350Z"
   },
   {
    "duration": 122,
    "start_time": "2023-06-06T15:09:43.239Z"
   },
   {
    "duration": 32,
    "start_time": "2023-06-06T15:11:14.759Z"
   },
   {
    "duration": 12,
    "start_time": "2023-06-06T15:19:16.673Z"
   },
   {
    "duration": 9,
    "start_time": "2023-06-06T15:26:56.980Z"
   },
   {
    "duration": 4,
    "start_time": "2023-06-06T15:28:43.594Z"
   },
   {
    "duration": 8,
    "start_time": "2023-06-06T15:29:18.852Z"
   },
   {
    "duration": 22,
    "start_time": "2023-06-06T15:29:46.603Z"
   },
   {
    "duration": 5,
    "start_time": "2023-06-06T15:30:21.173Z"
   },
   {
    "duration": 33,
    "start_time": "2023-06-06T15:30:21.180Z"
   },
   {
    "duration": 43,
    "start_time": "2023-06-06T15:30:21.215Z"
   },
   {
    "duration": 15,
    "start_time": "2023-06-06T15:30:21.260Z"
   },
   {
    "duration": 4,
    "start_time": "2023-06-06T15:30:21.278Z"
   },
   {
    "duration": 45,
    "start_time": "2023-06-06T15:30:21.284Z"
   },
   {
    "duration": 3,
    "start_time": "2023-06-06T15:30:21.341Z"
   },
   {
    "duration": 18,
    "start_time": "2023-06-06T15:30:21.345Z"
   },
   {
    "duration": 26,
    "start_time": "2023-06-06T15:30:21.364Z"
   },
   {
    "duration": 22,
    "start_time": "2023-06-06T15:30:21.392Z"
   },
   {
    "duration": 12,
    "start_time": "2023-06-06T15:30:21.416Z"
   },
   {
    "duration": 21,
    "start_time": "2023-06-06T15:30:21.430Z"
   },
   {
    "duration": 12,
    "start_time": "2023-06-06T15:30:21.453Z"
   },
   {
    "duration": 286,
    "start_time": "2023-06-06T15:30:21.468Z"
   },
   {
    "duration": 237,
    "start_time": "2023-06-06T15:30:21.756Z"
   },
   {
    "duration": 211,
    "start_time": "2023-06-06T15:30:21.995Z"
   },
   {
    "duration": 365,
    "start_time": "2023-06-06T15:30:22.208Z"
   },
   {
    "duration": 220,
    "start_time": "2023-06-06T15:30:22.574Z"
   },
   {
    "duration": 448,
    "start_time": "2023-06-06T15:30:22.796Z"
   },
   {
    "duration": 11,
    "start_time": "2023-06-06T15:30:23.245Z"
   },
   {
    "duration": 147,
    "start_time": "2023-06-06T15:30:23.258Z"
   },
   {
    "duration": 142,
    "start_time": "2023-06-06T15:30:23.407Z"
   },
   {
    "duration": 5,
    "start_time": "2023-06-06T15:30:23.550Z"
   },
   {
    "duration": 12,
    "start_time": "2023-06-06T15:30:23.556Z"
   },
   {
    "duration": 163,
    "start_time": "2023-06-06T15:30:23.569Z"
   },
   {
    "duration": 6,
    "start_time": "2023-06-06T15:30:23.737Z"
   },
   {
    "duration": 212,
    "start_time": "2023-06-06T15:30:23.744Z"
   },
   {
    "duration": 140,
    "start_time": "2023-06-06T15:30:23.958Z"
   },
   {
    "duration": 41,
    "start_time": "2023-06-06T15:30:24.100Z"
   },
   {
    "duration": 9,
    "start_time": "2023-06-06T15:30:24.143Z"
   },
   {
    "duration": 7,
    "start_time": "2023-06-06T15:30:24.154Z"
   },
   {
    "duration": 8,
    "start_time": "2023-06-06T15:30:24.163Z"
   },
   {
    "duration": 23,
    "start_time": "2023-06-06T15:30:24.172Z"
   },
   {
    "duration": 19,
    "start_time": "2023-06-06T15:34:09.255Z"
   },
   {
    "duration": 289,
    "start_time": "2023-06-06T15:47:16.969Z"
   },
   {
    "duration": 484,
    "start_time": "2023-06-06T15:48:15.585Z"
   },
   {
    "duration": 1418,
    "start_time": "2023-06-06T23:07:32.111Z"
   },
   {
    "duration": 60,
    "start_time": "2023-06-06T23:07:33.532Z"
   },
   {
    "duration": 82,
    "start_time": "2023-06-06T23:07:33.594Z"
   },
   {
    "duration": 52,
    "start_time": "2023-06-06T23:07:33.678Z"
   },
   {
    "duration": 3,
    "start_time": "2023-06-06T23:07:33.732Z"
   },
   {
    "duration": 50,
    "start_time": "2023-06-06T23:07:33.737Z"
   },
   {
    "duration": 3,
    "start_time": "2023-06-06T23:07:33.789Z"
   },
   {
    "duration": 7,
    "start_time": "2023-06-06T23:07:33.794Z"
   },
   {
    "duration": 10,
    "start_time": "2023-06-06T23:07:33.802Z"
   },
   {
    "duration": 43,
    "start_time": "2023-06-06T23:07:33.815Z"
   },
   {
    "duration": 14,
    "start_time": "2023-06-06T23:07:33.860Z"
   },
   {
    "duration": 11,
    "start_time": "2023-06-06T23:07:33.876Z"
   },
   {
    "duration": 21,
    "start_time": "2023-06-06T23:07:33.888Z"
   },
   {
    "duration": 324,
    "start_time": "2023-06-06T23:07:33.941Z"
   },
   {
    "duration": 328,
    "start_time": "2023-06-06T23:07:34.267Z"
   },
   {
    "duration": 242,
    "start_time": "2023-06-06T23:07:34.596Z"
   },
   {
    "duration": 383,
    "start_time": "2023-06-06T23:07:34.841Z"
   },
   {
    "duration": 256,
    "start_time": "2023-06-06T23:07:35.226Z"
   },
   {
    "duration": 343,
    "start_time": "2023-06-06T23:07:35.483Z"
   },
   {
    "duration": 19,
    "start_time": "2023-06-06T23:07:35.828Z"
   },
   {
    "duration": 241,
    "start_time": "2023-06-06T23:07:35.849Z"
   },
   {
    "duration": 160,
    "start_time": "2023-06-06T23:07:36.092Z"
   },
   {
    "duration": 6,
    "start_time": "2023-06-06T23:07:36.254Z"
   },
   {
    "duration": 15,
    "start_time": "2023-06-06T23:07:36.261Z"
   },
   {
    "duration": 179,
    "start_time": "2023-06-06T23:07:36.278Z"
   },
   {
    "duration": 5,
    "start_time": "2023-06-06T23:07:36.459Z"
   },
   {
    "duration": 251,
    "start_time": "2023-06-06T23:07:36.465Z"
   },
   {
    "duration": 135,
    "start_time": "2023-06-06T23:07:36.719Z"
   },
   {
    "duration": 28,
    "start_time": "2023-06-06T23:07:36.856Z"
   },
   {
    "duration": 11,
    "start_time": "2023-06-06T23:07:36.886Z"
   },
   {
    "duration": 10,
    "start_time": "2023-06-06T23:07:36.899Z"
   },
   {
    "duration": 36,
    "start_time": "2023-06-06T23:07:36.911Z"
   },
   {
    "duration": 24,
    "start_time": "2023-06-06T23:07:36.949Z"
   },
   {
    "duration": 15,
    "start_time": "2023-06-06T23:07:36.975Z"
   },
   {
    "duration": 315,
    "start_time": "2023-06-06T23:07:36.992Z"
   },
   {
    "duration": 355,
    "start_time": "2023-06-06T23:07:37.308Z"
   },
   {
    "duration": 1441,
    "start_time": "2023-06-07T14:06:54.142Z"
   },
   {
    "duration": 83,
    "start_time": "2023-06-07T14:06:55.585Z"
   },
   {
    "duration": 159,
    "start_time": "2023-06-07T14:06:55.670Z"
   },
   {
    "duration": 74,
    "start_time": "2023-06-07T14:06:55.830Z"
   },
   {
    "duration": 7,
    "start_time": "2023-06-07T14:06:55.907Z"
   },
   {
    "duration": 80,
    "start_time": "2023-06-07T14:06:55.933Z"
   },
   {
    "duration": 12,
    "start_time": "2023-06-07T14:06:56.014Z"
   },
   {
    "duration": 9,
    "start_time": "2023-06-07T14:06:56.027Z"
   },
   {
    "duration": 49,
    "start_time": "2023-06-07T14:06:56.038Z"
   },
   {
    "duration": 80,
    "start_time": "2023-06-07T14:06:56.088Z"
   },
   {
    "duration": 18,
    "start_time": "2023-06-07T14:06:56.170Z"
   },
   {
    "duration": 37,
    "start_time": "2023-06-07T14:06:56.190Z"
   },
   {
    "duration": 33,
    "start_time": "2023-06-07T14:06:56.233Z"
   },
   {
    "duration": 24,
    "start_time": "2023-06-07T14:06:56.269Z"
   },
   {
    "duration": 314,
    "start_time": "2023-06-07T14:06:56.294Z"
   },
   {
    "duration": 340,
    "start_time": "2023-06-07T14:06:56.609Z"
   },
   {
    "duration": 216,
    "start_time": "2023-06-07T14:06:56.951Z"
   },
   {
    "duration": 343,
    "start_time": "2023-06-07T14:06:57.168Z"
   },
   {
    "duration": 235,
    "start_time": "2023-06-07T14:06:57.515Z"
   },
   {
    "duration": 315,
    "start_time": "2023-06-07T14:06:57.751Z"
   },
   {
    "duration": 14,
    "start_time": "2023-06-07T14:06:58.068Z"
   },
   {
    "duration": 171,
    "start_time": "2023-06-07T14:06:58.083Z"
   },
   {
    "duration": 140,
    "start_time": "2023-06-07T14:06:58.255Z"
   },
   {
    "duration": 5,
    "start_time": "2023-06-07T14:06:58.397Z"
   },
   {
    "duration": 59,
    "start_time": "2023-06-07T14:06:58.403Z"
   },
   {
    "duration": 218,
    "start_time": "2023-06-07T14:06:58.464Z"
   },
   {
    "duration": 5,
    "start_time": "2023-06-07T14:06:58.683Z"
   },
   {
    "duration": 232,
    "start_time": "2023-06-07T14:06:58.689Z"
   },
   {
    "duration": 150,
    "start_time": "2023-06-07T14:06:58.925Z"
   },
   {
    "duration": 23,
    "start_time": "2023-06-07T14:06:59.076Z"
   },
   {
    "duration": 66,
    "start_time": "2023-06-07T14:06:59.100Z"
   },
   {
    "duration": 30,
    "start_time": "2023-06-07T14:06:59.168Z"
   },
   {
    "duration": 55,
    "start_time": "2023-06-07T14:06:59.200Z"
   },
   {
    "duration": 51,
    "start_time": "2023-06-07T14:06:59.257Z"
   },
   {
    "duration": 51,
    "start_time": "2023-06-07T14:06:59.309Z"
   },
   {
    "duration": 333,
    "start_time": "2023-06-07T14:06:59.362Z"
   },
   {
    "duration": 371,
    "start_time": "2023-06-07T14:06:59.697Z"
   },
   {
    "duration": 6,
    "start_time": "2023-06-07T14:08:05.507Z"
   },
   {
    "duration": 108,
    "start_time": "2023-06-07T14:08:17.184Z"
   },
   {
    "duration": 9,
    "start_time": "2023-06-07T14:08:30.764Z"
   },
   {
    "duration": 4,
    "start_time": "2023-06-07T14:08:44.044Z"
   },
   {
    "duration": 4,
    "start_time": "2023-06-07T14:09:40.967Z"
   },
   {
    "duration": 5,
    "start_time": "2023-06-07T14:09:55.756Z"
   },
   {
    "duration": 5,
    "start_time": "2023-06-07T14:10:41.179Z"
   },
   {
    "duration": 10,
    "start_time": "2023-06-07T14:10:45.611Z"
   },
   {
    "duration": 10,
    "start_time": "2023-06-07T14:11:47.445Z"
   },
   {
    "duration": 35,
    "start_time": "2023-06-07T14:12:50.226Z"
   },
   {
    "duration": 15,
    "start_time": "2023-06-07T14:13:08.998Z"
   },
   {
    "duration": 8,
    "start_time": "2023-06-07T14:13:58.493Z"
   },
   {
    "duration": 24,
    "start_time": "2023-06-07T14:14:11.660Z"
   },
   {
    "duration": 15,
    "start_time": "2023-06-07T14:16:27.270Z"
   },
   {
    "duration": 8,
    "start_time": "2023-06-07T14:16:49.264Z"
   },
   {
    "duration": 6,
    "start_time": "2023-06-07T14:17:01.469Z"
   },
   {
    "duration": 7,
    "start_time": "2023-06-07T14:17:35.188Z"
   },
   {
    "duration": 7,
    "start_time": "2023-06-07T14:17:54.437Z"
   },
   {
    "duration": 6,
    "start_time": "2023-06-07T14:18:39.549Z"
   },
   {
    "duration": 11,
    "start_time": "2023-06-07T14:20:56.854Z"
   },
   {
    "duration": 8,
    "start_time": "2023-06-07T14:21:02.843Z"
   },
   {
    "duration": 9,
    "start_time": "2023-06-07T14:22:11.295Z"
   },
   {
    "duration": 10,
    "start_time": "2023-06-07T14:22:16.243Z"
   },
   {
    "duration": 10,
    "start_time": "2023-06-07T14:22:26.398Z"
   },
   {
    "duration": 12,
    "start_time": "2023-06-07T14:22:28.159Z"
   },
   {
    "duration": 9,
    "start_time": "2023-06-07T14:22:57.072Z"
   },
   {
    "duration": 8,
    "start_time": "2023-06-07T14:23:08.984Z"
   },
   {
    "duration": 6,
    "start_time": "2023-06-07T14:23:30.237Z"
   },
   {
    "duration": 4,
    "start_time": "2023-06-07T14:23:34.991Z"
   },
   {
    "duration": 9,
    "start_time": "2023-06-07T14:23:53.542Z"
   },
   {
    "duration": 24,
    "start_time": "2023-06-07T14:24:03.314Z"
   },
   {
    "duration": 12,
    "start_time": "2023-06-07T14:24:17.833Z"
   },
   {
    "duration": 325,
    "start_time": "2023-06-07T14:29:31.104Z"
   },
   {
    "duration": 197,
    "start_time": "2023-06-07T14:29:37.013Z"
   },
   {
    "duration": 12,
    "start_time": "2023-06-07T14:29:45.851Z"
   },
   {
    "duration": 4,
    "start_time": "2023-06-07T14:34:08.143Z"
   },
   {
    "duration": 4,
    "start_time": "2023-06-07T14:34:20.942Z"
   },
   {
    "duration": 3,
    "start_time": "2023-06-07T14:34:37.458Z"
   },
   {
    "duration": 5,
    "start_time": "2023-06-07T14:34:40.401Z"
   },
   {
    "duration": 4,
    "start_time": "2023-06-07T14:34:55.202Z"
   },
   {
    "duration": 6,
    "start_time": "2023-06-07T14:35:25.603Z"
   },
   {
    "duration": 5,
    "start_time": "2023-06-07T14:36:42.506Z"
   },
   {
    "duration": 25,
    "start_time": "2023-06-07T14:37:43.612Z"
   },
   {
    "duration": 8,
    "start_time": "2023-06-07T14:39:14.283Z"
   },
   {
    "duration": 11,
    "start_time": "2023-06-07T14:39:48.397Z"
   },
   {
    "duration": 13,
    "start_time": "2023-06-07T14:50:51.687Z"
   },
   {
    "duration": 11,
    "start_time": "2023-06-07T14:51:12.150Z"
   },
   {
    "duration": 170,
    "start_time": "2023-06-07T14:51:19.455Z"
   },
   {
    "duration": 160,
    "start_time": "2023-06-07T14:51:30.006Z"
   },
   {
    "duration": 31,
    "start_time": "2023-06-07T14:51:39.206Z"
   },
   {
    "duration": 11,
    "start_time": "2023-06-07T14:52:33.658Z"
   },
   {
    "duration": 9,
    "start_time": "2023-06-07T14:53:57.783Z"
   },
   {
    "duration": 13,
    "start_time": "2023-06-07T14:54:07.067Z"
   },
   {
    "duration": 5,
    "start_time": "2023-06-07T14:57:12.976Z"
   },
   {
    "duration": 31,
    "start_time": "2023-06-07T14:57:12.983Z"
   },
   {
    "duration": 50,
    "start_time": "2023-06-07T14:57:13.015Z"
   },
   {
    "duration": 15,
    "start_time": "2023-06-07T14:57:13.066Z"
   },
   {
    "duration": 5,
    "start_time": "2023-06-07T14:57:13.083Z"
   },
   {
    "duration": 54,
    "start_time": "2023-06-07T14:57:13.091Z"
   },
   {
    "duration": 7,
    "start_time": "2023-06-07T14:57:13.146Z"
   },
   {
    "duration": 6,
    "start_time": "2023-06-07T14:57:13.154Z"
   },
   {
    "duration": 8,
    "start_time": "2023-06-07T14:57:13.161Z"
   },
   {
    "duration": 25,
    "start_time": "2023-06-07T14:57:13.170Z"
   },
   {
    "duration": 40,
    "start_time": "2023-06-07T14:57:13.196Z"
   },
   {
    "duration": 24,
    "start_time": "2023-06-07T14:57:13.237Z"
   },
   {
    "duration": 13,
    "start_time": "2023-06-07T14:57:13.264Z"
   },
   {
    "duration": 12,
    "start_time": "2023-06-07T14:57:13.279Z"
   },
   {
    "duration": 11,
    "start_time": "2023-06-07T14:57:13.293Z"
   },
   {
    "duration": 5,
    "start_time": "2023-06-07T14:57:13.306Z"
   },
   {
    "duration": 44,
    "start_time": "2023-06-07T14:57:13.315Z"
   },
   {
    "duration": 28,
    "start_time": "2023-06-07T14:57:13.360Z"
   },
   {
    "duration": 303,
    "start_time": "2023-06-07T14:57:13.390Z"
   },
   {
    "duration": 242,
    "start_time": "2023-06-07T14:57:13.694Z"
   },
   {
    "duration": 208,
    "start_time": "2023-06-07T14:57:13.948Z"
   },
   {
    "duration": 292,
    "start_time": "2023-06-07T14:57:14.157Z"
   },
   {
    "duration": 232,
    "start_time": "2023-06-07T14:57:14.451Z"
   },
   {
    "duration": 355,
    "start_time": "2023-06-07T14:57:14.684Z"
   },
   {
    "duration": 12,
    "start_time": "2023-06-07T14:57:15.046Z"
   },
   {
    "duration": 169,
    "start_time": "2023-06-07T14:57:15.060Z"
   },
   {
    "duration": 181,
    "start_time": "2023-06-07T14:57:15.230Z"
   },
   {
    "duration": 22,
    "start_time": "2023-06-07T14:57:15.413Z"
   },
   {
    "duration": 59,
    "start_time": "2023-06-07T14:57:15.436Z"
   },
   {
    "duration": 261,
    "start_time": "2023-06-07T14:57:15.497Z"
   },
   {
    "duration": 13,
    "start_time": "2023-06-07T14:57:15.759Z"
   },
   {
    "duration": 257,
    "start_time": "2023-06-07T14:57:15.773Z"
   },
   {
    "duration": 133,
    "start_time": "2023-06-07T14:57:16.033Z"
   },
   {
    "duration": 23,
    "start_time": "2023-06-07T14:57:16.168Z"
   },
   {
    "duration": 29,
    "start_time": "2023-06-07T14:57:16.192Z"
   },
   {
    "duration": 26,
    "start_time": "2023-06-07T14:57:16.235Z"
   },
   {
    "duration": 12,
    "start_time": "2023-06-07T14:57:16.263Z"
   },
   {
    "duration": 19,
    "start_time": "2023-06-07T14:57:16.277Z"
   },
   {
    "duration": 12,
    "start_time": "2023-06-07T14:57:16.298Z"
   },
   {
    "duration": 351,
    "start_time": "2023-06-07T14:57:16.311Z"
   },
   {
    "duration": 415,
    "start_time": "2023-06-07T14:57:16.664Z"
   },
   {
    "duration": 247,
    "start_time": "2023-06-07T15:02:44.098Z"
   },
   {
    "duration": 300,
    "start_time": "2023-06-07T15:06:14.246Z"
   },
   {
    "duration": 281,
    "start_time": "2023-06-07T15:06:29.387Z"
   },
   {
    "duration": 244,
    "start_time": "2023-06-07T15:06:49.601Z"
   },
   {
    "duration": 282,
    "start_time": "2023-06-07T15:08:28.543Z"
   },
   {
    "duration": 307,
    "start_time": "2023-06-07T15:10:18.841Z"
   },
   {
    "duration": 321,
    "start_time": "2023-06-07T15:10:48.369Z"
   },
   {
    "duration": 313,
    "start_time": "2023-06-07T15:10:58.643Z"
   },
   {
    "duration": 542,
    "start_time": "2023-06-07T15:11:05.108Z"
   },
   {
    "duration": 337,
    "start_time": "2023-06-07T15:11:11.804Z"
   },
   {
    "duration": 398,
    "start_time": "2023-06-07T15:11:32.187Z"
   },
   {
    "duration": 489,
    "start_time": "2023-06-07T15:11:42.122Z"
   },
   {
    "duration": 367,
    "start_time": "2023-06-07T15:12:19.170Z"
   },
   {
    "duration": 330,
    "start_time": "2023-06-07T15:12:33.471Z"
   },
   {
    "duration": 381,
    "start_time": "2023-06-07T15:12:50.992Z"
   },
   {
    "duration": 351,
    "start_time": "2023-06-07T15:13:03.736Z"
   },
   {
    "duration": 184,
    "start_time": "2023-06-07T15:13:39.279Z"
   },
   {
    "duration": 197,
    "start_time": "2023-06-07T15:13:48.142Z"
   },
   {
    "duration": 325,
    "start_time": "2023-06-07T15:13:54.277Z"
   },
   {
    "duration": 179,
    "start_time": "2023-06-07T15:14:32.596Z"
   },
   {
    "duration": 306,
    "start_time": "2023-06-07T15:14:41.692Z"
   },
   {
    "duration": 308,
    "start_time": "2023-06-07T15:16:32.242Z"
   },
   {
    "duration": 310,
    "start_time": "2023-06-07T15:16:42.942Z"
   },
   {
    "duration": 272,
    "start_time": "2023-06-07T15:16:58.677Z"
   },
   {
    "duration": 269,
    "start_time": "2023-06-07T15:17:29.406Z"
   },
   {
    "duration": 265,
    "start_time": "2023-06-07T15:17:44.672Z"
   },
   {
    "duration": 343,
    "start_time": "2023-06-07T15:18:06.902Z"
   },
   {
    "duration": 147,
    "start_time": "2023-06-07T15:20:10.333Z"
   },
   {
    "duration": 217,
    "start_time": "2023-06-07T15:20:21.891Z"
   },
   {
    "duration": 282,
    "start_time": "2023-06-07T15:22:51.985Z"
   },
   {
    "duration": 316,
    "start_time": "2023-06-07T15:24:12.644Z"
   },
   {
    "duration": 301,
    "start_time": "2023-06-07T15:25:02.948Z"
   },
   {
    "duration": 359,
    "start_time": "2023-06-07T15:25:39.296Z"
   },
   {
    "duration": 133,
    "start_time": "2023-06-07T15:26:15.644Z"
   },
   {
    "duration": 156,
    "start_time": "2023-06-07T15:26:40.881Z"
   },
   {
    "duration": 169,
    "start_time": "2023-06-07T15:27:17.877Z"
   },
   {
    "duration": 4,
    "start_time": "2023-06-07T15:28:01.484Z"
   },
   {
    "duration": 67,
    "start_time": "2023-06-07T15:28:01.490Z"
   },
   {
    "duration": 39,
    "start_time": "2023-06-07T15:28:01.558Z"
   },
   {
    "duration": 16,
    "start_time": "2023-06-07T15:28:01.598Z"
   },
   {
    "duration": 43,
    "start_time": "2023-06-07T15:28:01.616Z"
   },
   {
    "duration": 60,
    "start_time": "2023-06-07T15:28:01.661Z"
   },
   {
    "duration": 51,
    "start_time": "2023-06-07T15:28:01.722Z"
   },
   {
    "duration": 48,
    "start_time": "2023-06-07T15:28:01.775Z"
   },
   {
    "duration": 39,
    "start_time": "2023-06-07T15:28:01.825Z"
   },
   {
    "duration": 68,
    "start_time": "2023-06-07T15:28:01.867Z"
   },
   {
    "duration": 62,
    "start_time": "2023-06-07T15:28:01.937Z"
   },
   {
    "duration": 56,
    "start_time": "2023-06-07T15:28:02.001Z"
   },
   {
    "duration": 29,
    "start_time": "2023-06-07T15:28:02.058Z"
   },
   {
    "duration": 37,
    "start_time": "2023-06-07T15:28:02.089Z"
   },
   {
    "duration": 42,
    "start_time": "2023-06-07T15:28:02.133Z"
   },
   {
    "duration": 17,
    "start_time": "2023-06-07T15:28:02.177Z"
   },
   {
    "duration": 52,
    "start_time": "2023-06-07T15:28:02.196Z"
   },
   {
    "duration": 48,
    "start_time": "2023-06-07T15:28:02.250Z"
   },
   {
    "duration": 351,
    "start_time": "2023-06-07T15:28:02.300Z"
   },
   {
    "duration": 297,
    "start_time": "2023-06-07T15:28:02.652Z"
   },
   {
    "duration": 247,
    "start_time": "2023-06-07T15:28:02.951Z"
   },
   {
    "duration": 363,
    "start_time": "2023-06-07T15:28:03.200Z"
   },
   {
    "duration": 261,
    "start_time": "2023-06-07T15:28:03.564Z"
   },
   {
    "duration": 359,
    "start_time": "2023-06-07T15:28:03.826Z"
   },
   {
    "duration": 11,
    "start_time": "2023-06-07T15:28:04.187Z"
   },
   {
    "duration": 175,
    "start_time": "2023-06-07T15:28:04.199Z"
   },
   {
    "duration": 140,
    "start_time": "2023-06-07T15:28:04.375Z"
   },
   {
    "duration": 4,
    "start_time": "2023-06-07T15:28:04.516Z"
   },
   {
    "duration": 16,
    "start_time": "2023-06-07T15:28:04.525Z"
   },
   {
    "duration": 155,
    "start_time": "2023-06-07T15:28:04.546Z"
   },
   {
    "duration": 4,
    "start_time": "2023-06-07T15:28:04.703Z"
   },
   {
    "duration": 255,
    "start_time": "2023-06-07T15:28:04.708Z"
   },
   {
    "duration": 137,
    "start_time": "2023-06-07T15:28:04.965Z"
   },
   {
    "duration": 42,
    "start_time": "2023-06-07T15:28:05.103Z"
   },
   {
    "duration": 55,
    "start_time": "2023-06-07T15:28:05.147Z"
   },
   {
    "duration": 62,
    "start_time": "2023-06-07T15:28:05.204Z"
   },
   {
    "duration": 25,
    "start_time": "2023-06-07T15:28:05.268Z"
   },
   {
    "duration": 110,
    "start_time": "2023-06-07T15:28:05.296Z"
   },
   {
    "duration": 61,
    "start_time": "2023-06-07T15:28:05.408Z"
   },
   {
    "duration": 378,
    "start_time": "2023-06-07T15:28:05.471Z"
   },
   {
    "duration": 303,
    "start_time": "2023-06-07T15:28:05.852Z"
   },
   {
    "duration": 321,
    "start_time": "2023-06-07T15:29:41.484Z"
   },
   {
    "duration": 317,
    "start_time": "2023-06-07T15:30:14.940Z"
   },
   {
    "duration": 321,
    "start_time": "2023-06-07T15:33:01.439Z"
   },
   {
    "duration": 18,
    "start_time": "2023-06-07T15:33:31.884Z"
   },
   {
    "duration": 5,
    "start_time": "2023-06-07T15:34:12.003Z"
   },
   {
    "duration": 112,
    "start_time": "2023-06-07T15:34:36.976Z"
   },
   {
    "duration": 166,
    "start_time": "2023-06-07T15:34:43.490Z"
   },
   {
    "duration": 167,
    "start_time": "2023-06-07T15:35:24.946Z"
   },
   {
    "duration": 224,
    "start_time": "2023-06-07T15:35:55.782Z"
   },
   {
    "duration": 180,
    "start_time": "2023-06-07T15:36:56.908Z"
   },
   {
    "duration": 5,
    "start_time": "2023-06-07T15:37:58.092Z"
   },
   {
    "duration": 5,
    "start_time": "2023-06-07T15:38:03.781Z"
   },
   {
    "duration": 18,
    "start_time": "2023-06-07T15:38:30.044Z"
   },
   {
    "duration": 8,
    "start_time": "2023-06-07T15:38:36.344Z"
   },
   {
    "duration": 109,
    "start_time": "2023-06-07T15:39:17.894Z"
   },
   {
    "duration": 134,
    "start_time": "2023-06-07T15:39:23.447Z"
   },
   {
    "duration": 195,
    "start_time": "2023-06-07T15:39:34.386Z"
   },
   {
    "duration": 187,
    "start_time": "2023-06-07T15:39:51.798Z"
   },
   {
    "duration": 189,
    "start_time": "2023-06-07T15:39:56.796Z"
   },
   {
    "duration": 191,
    "start_time": "2023-06-07T15:40:37.542Z"
   },
   {
    "duration": 161,
    "start_time": "2023-06-07T15:41:27.939Z"
   },
   {
    "duration": 166,
    "start_time": "2023-06-07T15:41:47.710Z"
   },
   {
    "duration": 188,
    "start_time": "2023-06-07T15:42:00.278Z"
   },
   {
    "duration": 172,
    "start_time": "2023-06-07T15:42:05.383Z"
   },
   {
    "duration": 213,
    "start_time": "2023-06-07T15:43:05.252Z"
   },
   {
    "duration": 5,
    "start_time": "2023-06-07T15:43:32.300Z"
   },
   {
    "duration": 11,
    "start_time": "2023-06-07T15:43:44.687Z"
   },
   {
    "duration": 6,
    "start_time": "2023-06-07T15:44:11.905Z"
   },
   {
    "duration": 153,
    "start_time": "2023-06-07T15:44:19.447Z"
   },
   {
    "duration": 1346,
    "start_time": "2023-06-07T15:45:02.843Z"
   },
   {
    "duration": 147,
    "start_time": "2023-06-07T15:46:39.351Z"
   },
   {
    "duration": 23,
    "start_time": "2023-06-07T15:53:50.260Z"
   },
   {
    "duration": 6,
    "start_time": "2023-06-07T15:55:00.954Z"
   },
   {
    "duration": 28,
    "start_time": "2023-06-07T15:56:45.570Z"
   },
   {
    "duration": 25,
    "start_time": "2023-06-07T15:59:18.281Z"
   },
   {
    "duration": 37,
    "start_time": "2023-06-07T16:00:04.898Z"
   },
   {
    "duration": 57,
    "start_time": "2023-06-07T16:01:51.587Z"
   },
   {
    "duration": 23,
    "start_time": "2023-06-07T16:01:57.667Z"
   },
   {
    "duration": 29,
    "start_time": "2023-06-07T16:02:05.483Z"
   },
   {
    "duration": 34,
    "start_time": "2023-06-07T16:02:11.838Z"
   },
   {
    "duration": 23,
    "start_time": "2023-06-07T16:03:07.275Z"
   },
   {
    "duration": 23,
    "start_time": "2023-06-07T16:03:24.666Z"
   },
   {
    "duration": 5,
    "start_time": "2023-06-07T17:13:09.647Z"
   },
   {
    "duration": 39,
    "start_time": "2023-06-07T17:13:09.654Z"
   },
   {
    "duration": 48,
    "start_time": "2023-06-07T17:13:09.695Z"
   },
   {
    "duration": 15,
    "start_time": "2023-06-07T17:13:09.745Z"
   },
   {
    "duration": 3,
    "start_time": "2023-06-07T17:13:09.761Z"
   },
   {
    "duration": 69,
    "start_time": "2023-06-07T17:13:09.766Z"
   },
   {
    "duration": 3,
    "start_time": "2023-06-07T17:13:09.842Z"
   },
   {
    "duration": 24,
    "start_time": "2023-06-07T17:13:09.847Z"
   },
   {
    "duration": 93,
    "start_time": "2023-06-07T17:13:09.873Z"
   },
   {
    "duration": 46,
    "start_time": "2023-06-07T17:13:09.968Z"
   },
   {
    "duration": 29,
    "start_time": "2023-06-07T17:13:10.017Z"
   },
   {
    "duration": 24,
    "start_time": "2023-06-07T17:13:10.047Z"
   },
   {
    "duration": 16,
    "start_time": "2023-06-07T17:13:10.073Z"
   },
   {
    "duration": 17,
    "start_time": "2023-06-07T17:13:10.090Z"
   },
   {
    "duration": 63,
    "start_time": "2023-06-07T17:13:10.108Z"
   },
   {
    "duration": 26,
    "start_time": "2023-06-07T17:13:10.172Z"
   },
   {
    "duration": 37,
    "start_time": "2023-06-07T17:13:10.200Z"
   },
   {
    "duration": 29,
    "start_time": "2023-06-07T17:13:10.238Z"
   },
   {
    "duration": 283,
    "start_time": "2023-06-07T17:13:10.269Z"
   },
   {
    "duration": 219,
    "start_time": "2023-06-07T17:13:10.553Z"
   },
   {
    "duration": 244,
    "start_time": "2023-06-07T17:13:10.773Z"
   },
   {
    "duration": 343,
    "start_time": "2023-06-07T17:13:11.018Z"
   },
   {
    "duration": 267,
    "start_time": "2023-06-07T17:13:11.362Z"
   },
   {
    "duration": 342,
    "start_time": "2023-06-07T17:13:11.632Z"
   },
   {
    "duration": 11,
    "start_time": "2023-06-07T17:13:11.975Z"
   },
   {
    "duration": 148,
    "start_time": "2023-06-07T17:13:11.987Z"
   },
   {
    "duration": 138,
    "start_time": "2023-06-07T17:13:12.136Z"
   },
   {
    "duration": 4,
    "start_time": "2023-06-07T17:13:12.275Z"
   },
   {
    "duration": 19,
    "start_time": "2023-06-07T17:13:12.282Z"
   },
   {
    "duration": 174,
    "start_time": "2023-06-07T17:13:12.302Z"
   },
   {
    "duration": 5,
    "start_time": "2023-06-07T17:13:12.477Z"
   },
   {
    "duration": 162,
    "start_time": "2023-06-07T17:13:12.483Z"
   },
   {
    "duration": 4,
    "start_time": "2023-06-07T17:13:12.647Z"
   },
   {
    "duration": 26,
    "start_time": "2023-06-07T17:13:12.653Z"
   },
   {
    "duration": 152,
    "start_time": "2023-06-07T17:13:12.681Z"
   },
   {
    "duration": 26,
    "start_time": "2023-06-07T17:13:12.843Z"
   },
   {
    "duration": 10,
    "start_time": "2023-06-07T17:13:12.871Z"
   },
   {
    "duration": 10,
    "start_time": "2023-06-07T17:13:12.882Z"
   },
   {
    "duration": 53,
    "start_time": "2023-06-07T17:13:12.893Z"
   },
   {
    "duration": 50,
    "start_time": "2023-06-07T17:13:12.947Z"
   },
   {
    "duration": 189,
    "start_time": "2023-06-07T17:13:12.999Z"
   },
   {
    "duration": 353,
    "start_time": "2023-06-07T17:13:13.190Z"
   },
   {
    "duration": 314,
    "start_time": "2023-06-07T17:13:13.550Z"
   },
   {
    "duration": 13,
    "start_time": "2023-06-07T17:26:15.439Z"
   },
   {
    "duration": 9,
    "start_time": "2023-06-07T17:32:07.946Z"
   },
   {
    "duration": 8,
    "start_time": "2023-06-07T17:32:12.681Z"
   },
   {
    "duration": 29,
    "start_time": "2023-06-07T17:32:30.763Z"
   },
   {
    "duration": 9,
    "start_time": "2023-06-07T17:33:56.891Z"
   },
   {
    "duration": 28,
    "start_time": "2023-06-07T17:34:00.283Z"
   },
   {
    "duration": 282,
    "start_time": "2023-06-07T17:34:55.526Z"
   },
   {
    "duration": 32,
    "start_time": "2023-06-07T17:35:11.747Z"
   },
   {
    "duration": 26,
    "start_time": "2023-06-07T17:36:10.101Z"
   },
   {
    "duration": 15,
    "start_time": "2023-06-07T17:38:31.546Z"
   },
   {
    "duration": 32,
    "start_time": "2023-06-07T17:38:55.902Z"
   },
   {
    "duration": 13,
    "start_time": "2023-06-07T17:39:04.340Z"
   },
   {
    "duration": 19,
    "start_time": "2023-06-07T17:48:06.647Z"
   },
   {
    "duration": 4,
    "start_time": "2023-06-07T17:48:33.256Z"
   },
   {
    "duration": 5,
    "start_time": "2023-06-07T17:49:01.401Z"
   },
   {
    "duration": 4,
    "start_time": "2023-06-07T17:49:53.488Z"
   },
   {
    "duration": 6,
    "start_time": "2023-06-07T17:59:45.632Z"
   },
   {
    "duration": 17,
    "start_time": "2023-06-07T18:00:05.562Z"
   },
   {
    "duration": 11,
    "start_time": "2023-06-07T18:00:21.121Z"
   },
   {
    "duration": 3,
    "start_time": "2023-06-07T18:02:01.404Z"
   },
   {
    "duration": 14,
    "start_time": "2023-06-07T18:03:20.748Z"
   },
   {
    "duration": 14,
    "start_time": "2023-06-07T18:03:41.196Z"
   },
   {
    "duration": 35,
    "start_time": "2023-06-07T18:06:48.034Z"
   },
   {
    "duration": 30,
    "start_time": "2023-06-07T18:07:03.407Z"
   },
   {
    "duration": 10,
    "start_time": "2023-06-07T18:25:04.535Z"
   },
   {
    "duration": 14,
    "start_time": "2023-06-07T18:25:40.178Z"
   },
   {
    "duration": 14,
    "start_time": "2023-06-07T18:28:11.194Z"
   },
   {
    "duration": 5,
    "start_time": "2023-06-07T18:28:42.891Z"
   },
   {
    "duration": 13,
    "start_time": "2023-06-07T18:29:09.344Z"
   },
   {
    "duration": 4,
    "start_time": "2023-06-07T18:30:11.652Z"
   },
   {
    "duration": 13,
    "start_time": "2023-06-07T18:30:25.510Z"
   },
   {
    "duration": 5,
    "start_time": "2023-06-07T18:30:34.746Z"
   },
   {
    "duration": 6,
    "start_time": "2023-06-07T18:30:46.484Z"
   },
   {
    "duration": 6,
    "start_time": "2023-06-07T18:31:07.442Z"
   },
   {
    "duration": 4,
    "start_time": "2023-06-07T18:31:43.683Z"
   },
   {
    "duration": 124,
    "start_time": "2023-06-07T18:32:17.764Z"
   },
   {
    "duration": 100,
    "start_time": "2023-06-07T18:32:23.051Z"
   },
   {
    "duration": 11,
    "start_time": "2023-06-07T18:32:35.460Z"
   },
   {
    "duration": 104,
    "start_time": "2023-06-07T18:33:08.858Z"
   },
   {
    "duration": 6,
    "start_time": "2023-06-07T18:35:18.637Z"
   },
   {
    "duration": 1807,
    "start_time": "2023-06-07T18:38:06.764Z"
   },
   {
    "duration": 13,
    "start_time": "2023-06-07T18:38:43.342Z"
   },
   {
    "duration": 8,
    "start_time": "2023-06-07T18:38:53.182Z"
   },
   {
    "duration": 19,
    "start_time": "2023-06-07T18:39:16.906Z"
   },
   {
    "duration": 127,
    "start_time": "2023-06-07T18:39:56.363Z"
   },
   {
    "duration": 131,
    "start_time": "2023-06-07T18:40:19.613Z"
   },
   {
    "duration": 27,
    "start_time": "2023-06-07T18:40:43.957Z"
   },
   {
    "duration": 2,
    "start_time": "2023-06-07T18:47:28.776Z"
   },
   {
    "duration": 21,
    "start_time": "2023-06-07T18:49:43.904Z"
   },
   {
    "duration": 16,
    "start_time": "2023-06-07T18:52:58.154Z"
   },
   {
    "duration": 14,
    "start_time": "2023-06-07T18:54:34.855Z"
   },
   {
    "duration": 20,
    "start_time": "2023-06-07T18:55:15.612Z"
   },
   {
    "duration": 13,
    "start_time": "2023-06-07T19:03:41.957Z"
   },
   {
    "duration": 852,
    "start_time": "2023-06-07T19:03:59.501Z"
   },
   {
    "duration": 9,
    "start_time": "2023-06-07T19:04:11.076Z"
   },
   {
    "duration": 15,
    "start_time": "2023-06-07T19:04:49.843Z"
   },
   {
    "duration": 19,
    "start_time": "2023-06-07T19:08:45.643Z"
   },
   {
    "duration": 145,
    "start_time": "2023-06-07T19:09:30.745Z"
   },
   {
    "duration": 7,
    "start_time": "2023-06-07T19:09:37.246Z"
   },
   {
    "duration": 1817,
    "start_time": "2023-06-07T19:10:38.800Z"
   },
   {
    "duration": 18,
    "start_time": "2023-06-07T19:10:51.835Z"
   },
   {
    "duration": 18,
    "start_time": "2023-06-07T19:11:32.053Z"
   },
   {
    "duration": 10,
    "start_time": "2023-06-07T19:11:42.383Z"
   },
   {
    "duration": 9,
    "start_time": "2023-06-07T19:12:00.081Z"
   },
   {
    "duration": 13,
    "start_time": "2023-06-07T19:12:24.895Z"
   },
   {
    "duration": 208,
    "start_time": "2023-06-07T19:15:17.479Z"
   },
   {
    "duration": 123,
    "start_time": "2023-06-07T19:15:49.336Z"
   },
   {
    "duration": 215,
    "start_time": "2023-06-07T19:19:49.958Z"
   },
   {
    "duration": 152,
    "start_time": "2023-06-07T19:20:06.034Z"
   },
   {
    "duration": 180,
    "start_time": "2023-06-07T19:20:13.385Z"
   },
   {
    "duration": 114,
    "start_time": "2023-06-07T19:20:21.435Z"
   },
   {
    "duration": 26,
    "start_time": "2023-06-07T19:20:45.385Z"
   },
   {
    "duration": 15,
    "start_time": "2023-06-07T19:21:56.674Z"
   },
   {
    "duration": 17,
    "start_time": "2023-06-07T19:22:16.715Z"
   },
   {
    "duration": 19,
    "start_time": "2023-06-07T19:22:32.602Z"
   },
   {
    "duration": 16,
    "start_time": "2023-06-07T19:22:44.058Z"
   },
   {
    "duration": 33,
    "start_time": "2023-06-07T19:24:00.379Z"
   },
   {
    "duration": 14,
    "start_time": "2023-06-07T19:24:16.453Z"
   },
   {
    "duration": 14,
    "start_time": "2023-06-07T19:25:14.445Z"
   },
   {
    "duration": 11,
    "start_time": "2023-06-07T19:25:23.996Z"
   },
   {
    "duration": 6,
    "start_time": "2023-06-07T19:26:14.877Z"
   },
   {
    "duration": 23,
    "start_time": "2023-06-07T19:26:28.659Z"
   },
   {
    "duration": 27,
    "start_time": "2023-06-07T19:26:44.610Z"
   },
   {
    "duration": 26,
    "start_time": "2023-06-07T19:26:54.338Z"
   },
   {
    "duration": 14,
    "start_time": "2023-06-07T19:27:05.407Z"
   },
   {
    "duration": 9,
    "start_time": "2023-06-07T19:27:59.389Z"
   },
   {
    "duration": 19,
    "start_time": "2023-06-07T19:28:06.514Z"
   },
   {
    "duration": 501,
    "start_time": "2023-06-07T19:30:37.242Z"
   },
   {
    "duration": 12,
    "start_time": "2023-06-07T19:31:00.455Z"
   },
   {
    "duration": 6,
    "start_time": "2023-06-07T19:31:02.196Z"
   },
   {
    "duration": 13,
    "start_time": "2023-06-07T19:31:18.972Z"
   },
   {
    "duration": 8,
    "start_time": "2023-06-07T19:31:20.166Z"
   },
   {
    "duration": 52,
    "start_time": "2023-06-07T19:31:27.812Z"
   },
   {
    "duration": 17,
    "start_time": "2023-06-07T19:31:33.443Z"
   },
   {
    "duration": 10,
    "start_time": "2023-06-07T19:31:44.075Z"
   },
   {
    "duration": 11,
    "start_time": "2023-06-07T19:31:45.366Z"
   },
   {
    "duration": 7,
    "start_time": "2023-06-07T19:31:48.046Z"
   },
   {
    "duration": 13,
    "start_time": "2023-06-07T19:31:52.848Z"
   },
   {
    "duration": 2118,
    "start_time": "2023-06-07T19:32:17.190Z"
   },
   {
    "duration": 11,
    "start_time": "2023-06-07T19:32:24.269Z"
   },
   {
    "duration": 154,
    "start_time": "2023-06-07T19:32:36.901Z"
   },
   {
    "duration": 113,
    "start_time": "2023-06-07T19:32:45.078Z"
   },
   {
    "duration": 2305,
    "start_time": "2023-06-07T19:32:49.573Z"
   },
   {
    "duration": 5,
    "start_time": "2023-06-07T19:33:08.980Z"
   },
   {
    "duration": 12,
    "start_time": "2023-06-07T19:33:12.242Z"
   },
   {
    "duration": 15,
    "start_time": "2023-06-07T19:33:29.997Z"
   },
   {
    "duration": 9,
    "start_time": "2023-06-07T19:33:43.276Z"
   },
   {
    "duration": 8,
    "start_time": "2023-06-07T19:34:01.293Z"
   },
   {
    "duration": 3,
    "start_time": "2023-06-07T19:35:51.693Z"
   },
   {
    "duration": 5,
    "start_time": "2023-06-07T19:35:58.250Z"
   },
   {
    "duration": 37,
    "start_time": "2023-06-07T19:36:21.509Z"
   },
   {
    "duration": 10,
    "start_time": "2023-06-07T19:37:43.642Z"
   },
   {
    "duration": 16,
    "start_time": "2023-06-07T19:37:49.446Z"
   },
   {
    "duration": 3,
    "start_time": "2023-06-07T19:39:33.055Z"
   },
   {
    "duration": 17,
    "start_time": "2023-06-07T19:39:37.842Z"
   },
   {
    "duration": 8,
    "start_time": "2023-06-07T19:39:58.591Z"
   },
   {
    "duration": 3,
    "start_time": "2023-06-07T19:40:13.191Z"
   },
   {
    "duration": 8,
    "start_time": "2023-06-07T19:40:35.276Z"
   },
   {
    "duration": 9,
    "start_time": "2023-06-07T19:40:48.380Z"
   },
   {
    "duration": 16,
    "start_time": "2023-06-07T19:41:36.772Z"
   },
   {
    "duration": 12,
    "start_time": "2023-06-07T19:42:18.510Z"
   },
   {
    "duration": 138,
    "start_time": "2023-06-07T19:42:26.272Z"
   },
   {
    "duration": 5,
    "start_time": "2023-06-07T19:42:31.173Z"
   },
   {
    "duration": 16,
    "start_time": "2023-06-07T19:42:45.858Z"
   },
   {
    "duration": 6,
    "start_time": "2023-06-07T19:43:27.983Z"
   },
   {
    "duration": 6,
    "start_time": "2023-06-07T19:43:35.258Z"
   },
   {
    "duration": 13,
    "start_time": "2023-06-07T20:21:46.878Z"
   },
   {
    "duration": 16,
    "start_time": "2023-06-07T20:22:03.447Z"
   },
   {
    "duration": 19,
    "start_time": "2023-06-07T20:22:08.062Z"
   },
   {
    "duration": 218,
    "start_time": "2023-06-07T20:22:08.083Z"
   },
   {
    "duration": 186,
    "start_time": "2023-06-07T20:22:08.303Z"
   },
   {
    "duration": 118,
    "start_time": "2023-06-07T20:22:08.491Z"
   },
   {
    "duration": 17,
    "start_time": "2023-06-07T20:22:08.612Z"
   },
   {
    "duration": 142,
    "start_time": "2023-06-07T20:22:08.631Z"
   },
   {
    "duration": 5,
    "start_time": "2023-06-07T20:22:08.778Z"
   },
   {
    "duration": 29,
    "start_time": "2023-06-07T20:22:08.785Z"
   },
   {
    "duration": 67,
    "start_time": "2023-06-07T20:22:08.834Z"
   },
   {
    "duration": 94,
    "start_time": "2023-06-07T20:22:08.903Z"
   },
   {
    "duration": 23,
    "start_time": "2023-06-07T20:22:08.998Z"
   },
   {
    "duration": 74,
    "start_time": "2023-06-07T20:22:09.029Z"
   },
   {
    "duration": 58,
    "start_time": "2023-06-07T20:22:09.107Z"
   },
   {
    "duration": 49,
    "start_time": "2023-06-07T20:22:09.178Z"
   },
   {
    "duration": 76,
    "start_time": "2023-06-07T20:22:09.230Z"
   },
   {
    "duration": 6,
    "start_time": "2023-06-07T20:22:09.308Z"
   },
   {
    "duration": 87,
    "start_time": "2023-06-07T20:22:09.326Z"
   },
   {
    "duration": 16,
    "start_time": "2023-06-07T20:22:09.421Z"
   },
   {
    "duration": 44,
    "start_time": "2023-06-07T20:22:09.439Z"
   },
   {
    "duration": 37,
    "start_time": "2023-06-07T20:22:09.484Z"
   },
   {
    "duration": 539,
    "start_time": "2023-06-07T20:22:09.523Z"
   },
   {
    "duration": 343,
    "start_time": "2023-06-07T20:22:10.079Z"
   },
   {
    "duration": 311,
    "start_time": "2023-06-07T20:22:10.426Z"
   },
   {
    "duration": 426,
    "start_time": "2023-06-07T20:22:10.750Z"
   },
   {
    "duration": 305,
    "start_time": "2023-06-07T20:22:11.181Z"
   },
   {
    "duration": 490,
    "start_time": "2023-06-07T20:22:11.490Z"
   },
   {
    "duration": 24,
    "start_time": "2023-06-07T20:22:11.985Z"
   },
   {
    "duration": 373,
    "start_time": "2023-06-07T20:22:12.015Z"
   },
   {
    "duration": 234,
    "start_time": "2023-06-07T20:22:12.395Z"
   },
   {
    "duration": 14,
    "start_time": "2023-06-07T20:22:12.635Z"
   },
   {
    "duration": 66,
    "start_time": "2023-06-07T20:22:12.661Z"
   },
   {
    "duration": 385,
    "start_time": "2023-06-07T20:22:12.730Z"
   },
   {
    "duration": 15,
    "start_time": "2023-06-07T20:22:13.126Z"
   },
   {
    "duration": 464,
    "start_time": "2023-06-07T20:22:13.143Z"
   },
   {
    "duration": 9,
    "start_time": "2023-06-07T20:22:13.621Z"
   },
   {
    "duration": 99,
    "start_time": "2023-06-07T20:22:13.634Z"
   },
   {
    "duration": 332,
    "start_time": "2023-06-07T20:22:13.745Z"
   },
   {
    "duration": 44,
    "start_time": "2023-06-07T20:22:14.094Z"
   },
   {
    "duration": 57,
    "start_time": "2023-06-07T20:22:14.147Z"
   },
   {
    "duration": 28,
    "start_time": "2023-06-07T20:22:14.206Z"
   },
   {
    "duration": 159,
    "start_time": "2023-06-07T20:22:14.244Z"
   },
   {
    "duration": 45,
    "start_time": "2023-06-07T20:22:14.406Z"
   },
   {
    "duration": 145,
    "start_time": "2023-06-07T20:22:14.453Z"
   },
   {
    "duration": 523,
    "start_time": "2023-06-07T20:22:14.600Z"
   },
   {
    "duration": 476,
    "start_time": "2023-06-07T20:22:15.124Z"
   },
   {
    "duration": 38,
    "start_time": "2023-06-07T20:31:32.161Z"
   },
   {
    "duration": 35,
    "start_time": "2023-06-07T20:31:41.700Z"
   },
   {
    "duration": 15,
    "start_time": "2023-06-07T20:32:12.211Z"
   },
   {
    "duration": 13,
    "start_time": "2023-06-07T20:32:34.057Z"
   },
   {
    "duration": 13,
    "start_time": "2023-06-07T20:32:39.756Z"
   },
   {
    "duration": 11,
    "start_time": "2023-06-07T20:32:45.345Z"
   },
   {
    "duration": 103,
    "start_time": "2023-06-07T20:34:06.709Z"
   },
   {
    "duration": 7,
    "start_time": "2023-06-07T20:34:14.960Z"
   },
   {
    "duration": 19,
    "start_time": "2023-06-07T20:34:27.950Z"
   },
   {
    "duration": 6,
    "start_time": "2023-06-07T20:34:32.895Z"
   },
   {
    "duration": 23,
    "start_time": "2023-06-07T20:35:30.592Z"
   },
   {
    "duration": 5,
    "start_time": "2023-06-07T20:36:07.487Z"
   },
   {
    "duration": 12,
    "start_time": "2023-06-07T20:36:21.621Z"
   },
   {
    "duration": 27,
    "start_time": "2023-06-07T20:36:36.302Z"
   },
   {
    "duration": 3,
    "start_time": "2023-06-07T20:36:38.750Z"
   },
   {
    "duration": 4,
    "start_time": "2023-06-07T20:36:40.758Z"
   },
   {
    "duration": 4,
    "start_time": "2023-06-07T20:37:02.092Z"
   },
   {
    "duration": 18,
    "start_time": "2023-06-07T20:38:05.259Z"
   },
   {
    "duration": 6,
    "start_time": "2023-06-07T20:38:27.317Z"
   },
   {
    "duration": 12,
    "start_time": "2023-06-07T20:38:42.350Z"
   },
   {
    "duration": 33,
    "start_time": "2023-06-07T20:38:42.364Z"
   },
   {
    "duration": 69,
    "start_time": "2023-06-07T20:38:42.398Z"
   },
   {
    "duration": 16,
    "start_time": "2023-06-07T20:38:42.469Z"
   },
   {
    "duration": 3,
    "start_time": "2023-06-07T20:38:42.487Z"
   },
   {
    "duration": 62,
    "start_time": "2023-06-07T20:38:42.491Z"
   },
   {
    "duration": 3,
    "start_time": "2023-06-07T20:38:42.555Z"
   },
   {
    "duration": 14,
    "start_time": "2023-06-07T20:38:42.561Z"
   },
   {
    "duration": 13,
    "start_time": "2023-06-07T20:38:42.577Z"
   },
   {
    "duration": 55,
    "start_time": "2023-06-07T20:38:42.594Z"
   },
   {
    "duration": 13,
    "start_time": "2023-06-07T20:38:42.650Z"
   },
   {
    "duration": 13,
    "start_time": "2023-06-07T20:38:42.664Z"
   },
   {
    "duration": 15,
    "start_time": "2023-06-07T20:38:42.678Z"
   },
   {
    "duration": 11,
    "start_time": "2023-06-07T20:38:42.695Z"
   },
   {
    "duration": 44,
    "start_time": "2023-06-07T20:38:42.708Z"
   },
   {
    "duration": 102,
    "start_time": "2023-06-07T20:38:42.762Z"
   },
   {
    "duration": 24,
    "start_time": "2023-06-07T20:38:42.866Z"
   },
   {
    "duration": 15,
    "start_time": "2023-06-07T20:38:42.892Z"
   },
   {
    "duration": 4,
    "start_time": "2023-06-07T20:38:42.909Z"
   },
   {
    "duration": 55,
    "start_time": "2023-06-07T20:38:42.921Z"
   },
   {
    "duration": 14,
    "start_time": "2023-06-07T20:38:42.978Z"
   },
   {
    "duration": 299,
    "start_time": "2023-06-07T20:38:42.994Z"
   },
   {
    "duration": 250,
    "start_time": "2023-06-07T20:38:43.295Z"
   },
   {
    "duration": 230,
    "start_time": "2023-06-07T20:38:43.546Z"
   },
   {
    "duration": 315,
    "start_time": "2023-06-07T20:38:43.778Z"
   },
   {
    "duration": 241,
    "start_time": "2023-06-07T20:38:44.095Z"
   },
   {
    "duration": 391,
    "start_time": "2023-06-07T20:38:44.337Z"
   },
   {
    "duration": 19,
    "start_time": "2023-06-07T20:38:44.743Z"
   },
   {
    "duration": 172,
    "start_time": "2023-06-07T20:38:44.764Z"
   },
   {
    "duration": 195,
    "start_time": "2023-06-07T20:38:44.938Z"
   },
   {
    "duration": 7,
    "start_time": "2023-06-07T20:38:45.134Z"
   },
   {
    "duration": 41,
    "start_time": "2023-06-07T20:38:45.142Z"
   },
   {
    "duration": 177,
    "start_time": "2023-06-07T20:38:45.184Z"
   },
   {
    "duration": 6,
    "start_time": "2023-06-07T20:38:45.362Z"
   },
   {
    "duration": 179,
    "start_time": "2023-06-07T20:38:45.370Z"
   },
   {
    "duration": 5,
    "start_time": "2023-06-07T20:38:45.550Z"
   },
   {
    "duration": 15,
    "start_time": "2023-06-07T20:38:45.571Z"
   },
   {
    "duration": 170,
    "start_time": "2023-06-07T20:38:45.588Z"
   },
   {
    "duration": 32,
    "start_time": "2023-06-07T20:38:45.760Z"
   },
   {
    "duration": 19,
    "start_time": "2023-06-07T20:38:45.795Z"
   },
   {
    "duration": 103,
    "start_time": "2023-06-07T20:38:45.820Z"
   },
   {
    "duration": 54,
    "start_time": "2023-06-07T20:38:45.925Z"
   },
   {
    "duration": 52,
    "start_time": "2023-06-07T20:38:45.984Z"
   },
   {
    "duration": 63,
    "start_time": "2023-06-07T20:38:46.038Z"
   },
   {
    "duration": 466,
    "start_time": "2023-06-07T20:38:46.103Z"
   },
   {
    "duration": 365,
    "start_time": "2023-06-07T20:38:46.572Z"
   },
   {
    "duration": 7,
    "start_time": "2023-06-07T20:48:37.890Z"
   },
   {
    "duration": 1266,
    "start_time": "2023-06-14T16:18:26.154Z"
   },
   {
    "duration": 74,
    "start_time": "2023-06-14T16:18:27.422Z"
   },
   {
    "duration": 78,
    "start_time": "2023-06-14T16:18:27.498Z"
   },
   {
    "duration": 60,
    "start_time": "2023-06-14T16:18:27.579Z"
   },
   {
    "duration": 4,
    "start_time": "2023-06-14T16:18:27.640Z"
   },
   {
    "duration": 52,
    "start_time": "2023-06-14T16:18:27.645Z"
   },
   {
    "duration": 4,
    "start_time": "2023-06-14T16:18:27.699Z"
   },
   {
    "duration": 6,
    "start_time": "2023-06-14T16:18:27.705Z"
   },
   {
    "duration": 11,
    "start_time": "2023-06-14T16:18:27.713Z"
   },
   {
    "duration": 39,
    "start_time": "2023-06-14T16:18:27.759Z"
   },
   {
    "duration": 5,
    "start_time": "2023-06-14T16:18:27.800Z"
   },
   {
    "duration": 7,
    "start_time": "2023-06-14T16:18:27.807Z"
   },
   {
    "duration": 53,
    "start_time": "2023-06-14T16:18:27.816Z"
   },
   {
    "duration": 15,
    "start_time": "2023-06-14T16:18:27.871Z"
   },
   {
    "duration": 10,
    "start_time": "2023-06-14T16:18:27.888Z"
   },
   {
    "duration": 98,
    "start_time": "2023-06-14T16:18:27.900Z"
   },
   {
    "duration": 7,
    "start_time": "2023-06-14T16:18:28.000Z"
   },
   {
    "duration": 45,
    "start_time": "2023-06-14T16:18:28.008Z"
   },
   {
    "duration": 28,
    "start_time": "2023-06-14T16:18:28.055Z"
   },
   {
    "duration": 2,
    "start_time": "2023-06-14T16:18:28.085Z"
   },
   {
    "duration": 20,
    "start_time": "2023-06-14T16:18:28.089Z"
   },
   {
    "duration": 13,
    "start_time": "2023-06-14T16:18:28.111Z"
   },
   {
    "duration": 319,
    "start_time": "2023-06-14T16:18:28.126Z"
   },
   {
    "duration": 358,
    "start_time": "2023-06-14T16:18:28.446Z"
   },
   {
    "duration": 262,
    "start_time": "2023-06-14T16:18:28.807Z"
   },
   {
    "duration": 351,
    "start_time": "2023-06-14T16:18:29.071Z"
   },
   {
    "duration": 258,
    "start_time": "2023-06-14T16:18:29.424Z"
   },
   {
    "duration": 337,
    "start_time": "2023-06-14T16:18:29.686Z"
   },
   {
    "duration": 14,
    "start_time": "2023-06-14T16:18:30.025Z"
   },
   {
    "duration": 296,
    "start_time": "2023-06-14T16:18:30.041Z"
   },
   {
    "duration": 186,
    "start_time": "2023-06-14T16:18:30.339Z"
   },
   {
    "duration": 7,
    "start_time": "2023-06-14T16:18:30.527Z"
   },
   {
    "duration": 84,
    "start_time": "2023-06-14T16:18:30.536Z"
   },
   {
    "duration": 314,
    "start_time": "2023-06-14T16:18:30.621Z"
   },
   {
    "duration": 20,
    "start_time": "2023-06-14T16:18:30.937Z"
   },
   {
    "duration": 257,
    "start_time": "2023-06-14T16:18:30.959Z"
   },
   {
    "duration": 7,
    "start_time": "2023-06-14T16:18:31.218Z"
   },
   {
    "duration": 83,
    "start_time": "2023-06-14T16:18:31.227Z"
   },
   {
    "duration": 192,
    "start_time": "2023-06-14T16:18:31.312Z"
   },
   {
    "duration": 39,
    "start_time": "2023-06-14T16:18:31.506Z"
   },
   {
    "duration": 44,
    "start_time": "2023-06-14T16:18:31.548Z"
   },
   {
    "duration": 57,
    "start_time": "2023-06-14T16:18:31.594Z"
   },
   {
    "duration": 58,
    "start_time": "2023-06-14T16:18:31.654Z"
   },
   {
    "duration": 59,
    "start_time": "2023-06-14T16:18:31.714Z"
   },
   {
    "duration": 55,
    "start_time": "2023-06-14T16:18:31.775Z"
   },
   {
    "duration": 406,
    "start_time": "2023-06-14T16:18:31.832Z"
   },
   {
    "duration": 391,
    "start_time": "2023-06-14T16:18:32.241Z"
   }
  ],
  "kernelspec": {
   "display_name": "Python 3 (ipykernel)",
   "language": "python",
   "name": "python3"
  },
  "language_info": {
   "codemirror_mode": {
    "name": "ipython",
    "version": 3
   },
   "file_extension": ".py",
   "mimetype": "text/x-python",
   "name": "python",
   "nbconvert_exporter": "python",
   "pygments_lexer": "ipython3",
   "version": "3.10.9"
  },
  "toc": {
   "base_numbering": 1,
   "nav_menu": {},
   "number_sections": true,
   "sideBar": true,
   "skip_h1_title": true,
   "title_cell": "Table of Contents",
   "title_sidebar": "Contents",
   "toc_cell": false,
   "toc_position": {
    "height": "calc(100% - 180px)",
    "left": "10px",
    "top": "150px",
    "width": "383px"
   },
   "toc_section_display": true,
   "toc_window_display": false
  }
 },
 "nbformat": 4,
 "nbformat_minor": 2
}
