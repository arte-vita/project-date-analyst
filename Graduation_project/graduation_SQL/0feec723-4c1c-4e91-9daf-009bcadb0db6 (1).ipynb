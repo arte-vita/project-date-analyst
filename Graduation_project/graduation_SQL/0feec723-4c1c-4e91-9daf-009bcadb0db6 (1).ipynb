{
 "cells": [
  {
   "cell_type": "markdown",
   "metadata": {},
   "source": [
    "# SQL\n",
    "\n",
    "Моя компания решила купить крупный сервис для чтения книг по подписке.\\\n",
    "`Задача аналитика`: проанализировать базу данных с информацией о книгах, издательствах, авторах, а также пользовательские обзоры книг для сформулирования ценностное предложение для нового продукта.\n",
    "\n",
    "**Оглавление:**\n",
    "\n",
    "    1  Загрузим данные и подготовим их к анализу:\n",
    "    1.1  Пропишем доступ к базе данных;\n",
    "    1.2  Откроем файл с данными и изучем общую информацию.\n",
    "    2  Задачи:\n",
    "    2.1  Посчитаем, сколько книг вышло после 1 января 2000 года;\n",
    "    2.2  Для каждой книги посчитаем количество обзоров и среднюю оценку;\n",
    "    2.3  Определим издательство, которое выпустило наибольшее число книг толще 50 страниц — так мы исключим из анализа брошюры;\n",
    "    2.4 Определим автора с самой высокой средней оценкой книг — учитываем только книги с 50 и более оценками;\n",
    "    2.5 Посчитаем среднее количество обзоров от пользователей, которые поставили больше 48 оценок.\n",
    "    3  Общие выводы.\n",
    "\n"
   ]
  },
  {
   "cell_type": "markdown",
   "metadata": {},
   "source": [
    "## Загрузим данные и подготовим их к анализу:\n",
    "### Пропишем доступ к базе данных"
   ]
  },
  {
   "cell_type": "code",
   "execution_count": 1,
   "metadata": {},
   "outputs": [],
   "source": [
    "# импортируем библиотеки\n",
    "import pandas as pd\n",
    "from sqlalchemy import text, create_engine"
   ]
  },
  {
   "cell_type": "code",
   "execution_count": 2,
   "metadata": {},
   "outputs": [],
   "source": [
    "# устанавливаем параметры\n",
    "db_config = {'user': 'praktikum_student', # имя пользователя\n",
    "'pwd': 'Sdf4$2;d-d30pp', # пароль\n",
    "'host': 'rc1b-wcoijxj3yxfsf3fs.mdb.yandexcloud.net',\n",
    "'port': 6432, # порт подключения\n",
    "'db': 'data-analyst-final-project-db'} # название базы данных\n",
    "connection_string = 'postgresql://{user}:{pwd}@{host}:{port}/{db}'.format(**db_config)\n",
    "\n",
    "# сохраняем коннектор\n",
    "engine = create_engine(connection_string, connect_args={'sslmode':'require'})"
   ]
  },
  {
   "cell_type": "markdown",
   "metadata": {},
   "source": [
    "### Откроем файл с данными и изучем общую информацию"
   ]
  },
  {
   "cell_type": "code",
   "execution_count": 3,
   "metadata": {},
   "outputs": [
    {
     "data": {
      "text/html": [
       "<div>\n",
       "<style scoped>\n",
       "    .dataframe tbody tr th:only-of-type {\n",
       "        vertical-align: middle;\n",
       "    }\n",
       "\n",
       "    .dataframe tbody tr th {\n",
       "        vertical-align: top;\n",
       "    }\n",
       "\n",
       "    .dataframe thead th {\n",
       "        text-align: right;\n",
       "    }\n",
       "</style>\n",
       "<table border=\"1\" class=\"dataframe\">\n",
       "  <thead>\n",
       "    <tr style=\"text-align: right;\">\n",
       "      <th></th>\n",
       "      <th>book_id</th>\n",
       "      <th>author_id</th>\n",
       "      <th>title</th>\n",
       "      <th>num_pages</th>\n",
       "      <th>publication_date</th>\n",
       "      <th>publisher_id</th>\n",
       "    </tr>\n",
       "  </thead>\n",
       "  <tbody>\n",
       "    <tr>\n",
       "      <th>0</th>\n",
       "      <td>1</td>\n",
       "      <td>546</td>\n",
       "      <td>'Salem's Lot</td>\n",
       "      <td>594</td>\n",
       "      <td>2005-11-01</td>\n",
       "      <td>93</td>\n",
       "    </tr>\n",
       "    <tr>\n",
       "      <th>1</th>\n",
       "      <td>2</td>\n",
       "      <td>465</td>\n",
       "      <td>1 000 Places to See Before You Die</td>\n",
       "      <td>992</td>\n",
       "      <td>2003-05-22</td>\n",
       "      <td>336</td>\n",
       "    </tr>\n",
       "    <tr>\n",
       "      <th>2</th>\n",
       "      <td>3</td>\n",
       "      <td>407</td>\n",
       "      <td>13 Little Blue Envelopes (Little Blue Envelope...</td>\n",
       "      <td>322</td>\n",
       "      <td>2010-12-21</td>\n",
       "      <td>135</td>\n",
       "    </tr>\n",
       "    <tr>\n",
       "      <th>3</th>\n",
       "      <td>4</td>\n",
       "      <td>82</td>\n",
       "      <td>1491: New Revelations of the Americas Before C...</td>\n",
       "      <td>541</td>\n",
       "      <td>2006-10-10</td>\n",
       "      <td>309</td>\n",
       "    </tr>\n",
       "    <tr>\n",
       "      <th>4</th>\n",
       "      <td>5</td>\n",
       "      <td>125</td>\n",
       "      <td>1776</td>\n",
       "      <td>386</td>\n",
       "      <td>2006-07-04</td>\n",
       "      <td>268</td>\n",
       "    </tr>\n",
       "  </tbody>\n",
       "</table>\n",
       "</div>"
      ],
      "text/plain": [
       "   book_id  author_id                                              title  \\\n",
       "0        1        546                                       'Salem's Lot   \n",
       "1        2        465                 1 000 Places to See Before You Die   \n",
       "2        3        407  13 Little Blue Envelopes (Little Blue Envelope...   \n",
       "3        4         82  1491: New Revelations of the Americas Before C...   \n",
       "4        5        125                                               1776   \n",
       "\n",
       "   num_pages publication_date  publisher_id  \n",
       "0        594       2005-11-01            93  \n",
       "1        992       2003-05-22           336  \n",
       "2        322       2010-12-21           135  \n",
       "3        541       2006-10-10           309  \n",
       "4        386       2006-07-04           268  "
      ]
     },
     "execution_count": 3,
     "metadata": {},
     "output_type": "execute_result"
    }
   ],
   "source": [
    "# выведем первые строки таблицы books'\n",
    "query = '''SELECT * FROM books LIMIT 5'''\n",
    "\n",
    "con=engine.connect()\n",
    "\n",
    "pd.io.sql.read_sql(sql=text(query), con = con)"
   ]
  },
  {
   "cell_type": "markdown",
   "metadata": {},
   "source": [
    "Таблица `books` cодержит данные о книгах:\n",
    "- `book_id` — идентификатор книги;\n",
    "- `author_id` — идентификатор автора;\n",
    "- `title` — название книги;\n",
    "- `num_pages` — количество страниц;\n",
    "- `publication_date` — дата публикации книги;\n",
    "- `publisher_id` — идентификатор издателя.\\\n",
    "По ключам `book_id`, `author_id`, `publisher_id` таблица связана с другими датафреймами. "
   ]
  },
  {
   "cell_type": "code",
   "execution_count": 4,
   "metadata": {},
   "outputs": [
    {
     "data": {
      "text/html": [
       "<div>\n",
       "<style scoped>\n",
       "    .dataframe tbody tr th:only-of-type {\n",
       "        vertical-align: middle;\n",
       "    }\n",
       "\n",
       "    .dataframe tbody tr th {\n",
       "        vertical-align: top;\n",
       "    }\n",
       "\n",
       "    .dataframe thead th {\n",
       "        text-align: right;\n",
       "    }\n",
       "</style>\n",
       "<table border=\"1\" class=\"dataframe\">\n",
       "  <thead>\n",
       "    <tr style=\"text-align: right;\">\n",
       "      <th></th>\n",
       "      <th>author_id</th>\n",
       "      <th>author</th>\n",
       "    </tr>\n",
       "  </thead>\n",
       "  <tbody>\n",
       "    <tr>\n",
       "      <th>0</th>\n",
       "      <td>1</td>\n",
       "      <td>A.S. Byatt</td>\n",
       "    </tr>\n",
       "    <tr>\n",
       "      <th>1</th>\n",
       "      <td>2</td>\n",
       "      <td>Aesop/Laura Harris/Laura Gibbs</td>\n",
       "    </tr>\n",
       "    <tr>\n",
       "      <th>2</th>\n",
       "      <td>3</td>\n",
       "      <td>Agatha Christie</td>\n",
       "    </tr>\n",
       "    <tr>\n",
       "      <th>3</th>\n",
       "      <td>4</td>\n",
       "      <td>Alan Brennert</td>\n",
       "    </tr>\n",
       "    <tr>\n",
       "      <th>4</th>\n",
       "      <td>5</td>\n",
       "      <td>Alan Moore/David   Lloyd</td>\n",
       "    </tr>\n",
       "  </tbody>\n",
       "</table>\n",
       "</div>"
      ],
      "text/plain": [
       "   author_id                          author\n",
       "0          1                      A.S. Byatt\n",
       "1          2  Aesop/Laura Harris/Laura Gibbs\n",
       "2          3                 Agatha Christie\n",
       "3          4                   Alan Brennert\n",
       "4          5        Alan Moore/David   Lloyd"
      ]
     },
     "execution_count": 4,
     "metadata": {},
     "output_type": "execute_result"
    }
   ],
   "source": [
    "# выведем первые строки таблицы authors\n",
    "query = '''SELECT * FROM authors LIMIT 5'''\n",
    "\n",
    "con=engine.connect()\n",
    "\n",
    "pd.io.sql.read_sql(sql=text(query), con = con)"
   ]
  },
  {
   "cell_type": "markdown",
   "metadata": {},
   "source": [
    "Таблица `authors` cодержит данные об авторах:\n",
    "- `author_id` — идентификатор автора;\n",
    "- `author` — имя автора.\\\n",
    "По ключу `author_id` таблица связана с датафреймом `books`. "
   ]
  },
  {
   "cell_type": "code",
   "execution_count": 5,
   "metadata": {},
   "outputs": [
    {
     "data": {
      "text/html": [
       "<div>\n",
       "<style scoped>\n",
       "    .dataframe tbody tr th:only-of-type {\n",
       "        vertical-align: middle;\n",
       "    }\n",
       "\n",
       "    .dataframe tbody tr th {\n",
       "        vertical-align: top;\n",
       "    }\n",
       "\n",
       "    .dataframe thead th {\n",
       "        text-align: right;\n",
       "    }\n",
       "</style>\n",
       "<table border=\"1\" class=\"dataframe\">\n",
       "  <thead>\n",
       "    <tr style=\"text-align: right;\">\n",
       "      <th></th>\n",
       "      <th>publisher_id</th>\n",
       "      <th>publisher</th>\n",
       "    </tr>\n",
       "  </thead>\n",
       "  <tbody>\n",
       "    <tr>\n",
       "      <th>0</th>\n",
       "      <td>1</td>\n",
       "      <td>Ace</td>\n",
       "    </tr>\n",
       "    <tr>\n",
       "      <th>1</th>\n",
       "      <td>2</td>\n",
       "      <td>Ace Book</td>\n",
       "    </tr>\n",
       "    <tr>\n",
       "      <th>2</th>\n",
       "      <td>3</td>\n",
       "      <td>Ace Books</td>\n",
       "    </tr>\n",
       "    <tr>\n",
       "      <th>3</th>\n",
       "      <td>4</td>\n",
       "      <td>Ace Hardcover</td>\n",
       "    </tr>\n",
       "    <tr>\n",
       "      <th>4</th>\n",
       "      <td>5</td>\n",
       "      <td>Addison Wesley Publishing Company</td>\n",
       "    </tr>\n",
       "  </tbody>\n",
       "</table>\n",
       "</div>"
      ],
      "text/plain": [
       "   publisher_id                          publisher\n",
       "0             1                                Ace\n",
       "1             2                           Ace Book\n",
       "2             3                          Ace Books\n",
       "3             4                      Ace Hardcover\n",
       "4             5  Addison Wesley Publishing Company"
      ]
     },
     "execution_count": 5,
     "metadata": {},
     "output_type": "execute_result"
    }
   ],
   "source": [
    "# выведем первые строки таблицы publishers\n",
    "query = '''SELECT * FROM publishers LIMIT 5'''\n",
    "\n",
    "con=engine.connect()\n",
    "\n",
    "pd.io.sql.read_sql(sql=text(query), con = con)"
   ]
  },
  {
   "cell_type": "markdown",
   "metadata": {},
   "source": [
    "Таблица `publishers` cодержит данные об издательствах:\n",
    "- `publisher_id` — идентификатор издательства;\n",
    "- `publisher` — название издательства.\\\n",
    "По ключу `publisher_id` таблица связана с датафреймом `books`. "
   ]
  },
  {
   "cell_type": "code",
   "execution_count": 6,
   "metadata": {},
   "outputs": [
    {
     "data": {
      "text/html": [
       "<div>\n",
       "<style scoped>\n",
       "    .dataframe tbody tr th:only-of-type {\n",
       "        vertical-align: middle;\n",
       "    }\n",
       "\n",
       "    .dataframe tbody tr th {\n",
       "        vertical-align: top;\n",
       "    }\n",
       "\n",
       "    .dataframe thead th {\n",
       "        text-align: right;\n",
       "    }\n",
       "</style>\n",
       "<table border=\"1\" class=\"dataframe\">\n",
       "  <thead>\n",
       "    <tr style=\"text-align: right;\">\n",
       "      <th></th>\n",
       "      <th>rating_id</th>\n",
       "      <th>book_id</th>\n",
       "      <th>username</th>\n",
       "      <th>rating</th>\n",
       "    </tr>\n",
       "  </thead>\n",
       "  <tbody>\n",
       "    <tr>\n",
       "      <th>0</th>\n",
       "      <td>1</td>\n",
       "      <td>1</td>\n",
       "      <td>ryanfranco</td>\n",
       "      <td>4</td>\n",
       "    </tr>\n",
       "    <tr>\n",
       "      <th>1</th>\n",
       "      <td>2</td>\n",
       "      <td>1</td>\n",
       "      <td>grantpatricia</td>\n",
       "      <td>2</td>\n",
       "    </tr>\n",
       "    <tr>\n",
       "      <th>2</th>\n",
       "      <td>3</td>\n",
       "      <td>1</td>\n",
       "      <td>brandtandrea</td>\n",
       "      <td>5</td>\n",
       "    </tr>\n",
       "    <tr>\n",
       "      <th>3</th>\n",
       "      <td>4</td>\n",
       "      <td>2</td>\n",
       "      <td>lorichen</td>\n",
       "      <td>3</td>\n",
       "    </tr>\n",
       "    <tr>\n",
       "      <th>4</th>\n",
       "      <td>5</td>\n",
       "      <td>2</td>\n",
       "      <td>mariokeller</td>\n",
       "      <td>2</td>\n",
       "    </tr>\n",
       "  </tbody>\n",
       "</table>\n",
       "</div>"
      ],
      "text/plain": [
       "   rating_id  book_id       username  rating\n",
       "0          1        1     ryanfranco       4\n",
       "1          2        1  grantpatricia       2\n",
       "2          3        1   brandtandrea       5\n",
       "3          4        2       lorichen       3\n",
       "4          5        2    mariokeller       2"
      ]
     },
     "execution_count": 6,
     "metadata": {},
     "output_type": "execute_result"
    }
   ],
   "source": [
    "# выведем первые строки таблицы ratings\n",
    "query = '''SELECT * FROM ratings LIMIT 5'''\n",
    "\n",
    "con=engine.connect()\n",
    "\n",
    "pd.io.sql.read_sql(sql=text(query), con = con)"
   ]
  },
  {
   "cell_type": "markdown",
   "metadata": {},
   "source": [
    "Таблица `ratings` cодержит данные о пользовательских оценках книг:\n",
    "- `rating_id` — идентификатор оценки;\n",
    "- `book_id` — идентификатор книги;\n",
    "- `username` — имя пользователя, оставившего оценку;\n",
    "- `rating` — оценка книги.\\\n",
    "По ключу `book_id` таблица связана с датафреймами `books` и `reviews`. "
   ]
  },
  {
   "cell_type": "code",
   "execution_count": 7,
   "metadata": {},
   "outputs": [
    {
     "data": {
      "text/html": [
       "<div>\n",
       "<style scoped>\n",
       "    .dataframe tbody tr th:only-of-type {\n",
       "        vertical-align: middle;\n",
       "    }\n",
       "\n",
       "    .dataframe tbody tr th {\n",
       "        vertical-align: top;\n",
       "    }\n",
       "\n",
       "    .dataframe thead th {\n",
       "        text-align: right;\n",
       "    }\n",
       "</style>\n",
       "<table border=\"1\" class=\"dataframe\">\n",
       "  <thead>\n",
       "    <tr style=\"text-align: right;\">\n",
       "      <th></th>\n",
       "      <th>review_id</th>\n",
       "      <th>book_id</th>\n",
       "      <th>username</th>\n",
       "      <th>text</th>\n",
       "    </tr>\n",
       "  </thead>\n",
       "  <tbody>\n",
       "    <tr>\n",
       "      <th>0</th>\n",
       "      <td>1</td>\n",
       "      <td>1</td>\n",
       "      <td>brandtandrea</td>\n",
       "      <td>Mention society tell send professor analysis. Over provide race technology continue these.</td>\n",
       "    </tr>\n",
       "    <tr>\n",
       "      <th>1</th>\n",
       "      <td>2</td>\n",
       "      <td>1</td>\n",
       "      <td>ryanfranco</td>\n",
       "      <td>Foot glass pretty audience hit themselves. Among admit investment argue security.</td>\n",
       "    </tr>\n",
       "    <tr>\n",
       "      <th>2</th>\n",
       "      <td>3</td>\n",
       "      <td>2</td>\n",
       "      <td>lorichen</td>\n",
       "      <td>Listen treat keep worry. Miss husband tax but person sport treatment industry. Kitchen decision deep the. Social party body the.</td>\n",
       "    </tr>\n",
       "    <tr>\n",
       "      <th>3</th>\n",
       "      <td>4</td>\n",
       "      <td>3</td>\n",
       "      <td>johnsonamanda</td>\n",
       "      <td>Finally month interesting blue could nature cultural bit. Prepare beat finish grow that smile teach. Dream me play near.</td>\n",
       "    </tr>\n",
       "    <tr>\n",
       "      <th>4</th>\n",
       "      <td>5</td>\n",
       "      <td>3</td>\n",
       "      <td>scotttamara</td>\n",
       "      <td>Nation purpose heavy give wait song will. List dinner another whole positive radio fast. Music staff many green.</td>\n",
       "    </tr>\n",
       "  </tbody>\n",
       "</table>\n",
       "</div>"
      ],
      "text/plain": [
       "   review_id  book_id       username  \\\n",
       "0  1          1        brandtandrea    \n",
       "1  2          1        ryanfranco      \n",
       "2  3          2        lorichen        \n",
       "3  4          3        johnsonamanda   \n",
       "4  5          3        scotttamara     \n",
       "\n",
       "                                                                                                                               text  \n",
       "0  Mention society tell send professor analysis. Over provide race technology continue these.                                        \n",
       "1  Foot glass pretty audience hit themselves. Among admit investment argue security.                                                 \n",
       "2  Listen treat keep worry. Miss husband tax but person sport treatment industry. Kitchen decision deep the. Social party body the.  \n",
       "3  Finally month interesting blue could nature cultural bit. Prepare beat finish grow that smile teach. Dream me play near.          \n",
       "4  Nation purpose heavy give wait song will. List dinner another whole positive radio fast. Music staff many green.                  "
      ]
     },
     "execution_count": 7,
     "metadata": {},
     "output_type": "execute_result"
    }
   ],
   "source": [
    "#  отображение всех столбцов полностью\n",
    "pd.set_option('display.max_colwidth', 0)\n",
    "\n",
    "# выведем первые строки таблицы reviews\n",
    "query = '''SELECT * FROM reviews LIMIT 5'''\n",
    "\n",
    "con=engine.connect()\n",
    "\n",
    "pd.io.sql.read_sql(sql=text(query), con = con)"
   ]
  },
  {
   "cell_type": "markdown",
   "metadata": {},
   "source": [
    "Таблица `reviews` cодержит данные о пользовательских обзорах:\n",
    "- `review_id` — идентификатор обзора;\n",
    "- `book_id` — идентификатор книги;\n",
    "- `username` — имя автора обзора;\n",
    "- `text` — текст обзора.\\\n",
    "По ключу `book_id` таблица связана с датафреймами `books` и `ratings`. "
   ]
  },
  {
   "cell_type": "code",
   "execution_count": 8,
   "metadata": {},
   "outputs": [
    {
     "name": "stdout",
     "output_type": "stream",
     "text": [
      "\n",
      " Первые 5 строчек датасета books\n"
     ]
    },
    {
     "data": {
      "text/html": [
       "<div>\n",
       "<style scoped>\n",
       "    .dataframe tbody tr th:only-of-type {\n",
       "        vertical-align: middle;\n",
       "    }\n",
       "\n",
       "    .dataframe tbody tr th {\n",
       "        vertical-align: top;\n",
       "    }\n",
       "\n",
       "    .dataframe thead th {\n",
       "        text-align: right;\n",
       "    }\n",
       "</style>\n",
       "<table border=\"1\" class=\"dataframe\">\n",
       "  <thead>\n",
       "    <tr style=\"text-align: right;\">\n",
       "      <th></th>\n",
       "      <th>book_id</th>\n",
       "      <th>author_id</th>\n",
       "      <th>title</th>\n",
       "      <th>num_pages</th>\n",
       "      <th>publication_date</th>\n",
       "      <th>publisher_id</th>\n",
       "    </tr>\n",
       "  </thead>\n",
       "  <tbody>\n",
       "    <tr>\n",
       "      <th>0</th>\n",
       "      <td>1</td>\n",
       "      <td>546</td>\n",
       "      <td>'Salem's Lot</td>\n",
       "      <td>594</td>\n",
       "      <td>2005-11-01</td>\n",
       "      <td>93</td>\n",
       "    </tr>\n",
       "    <tr>\n",
       "      <th>1</th>\n",
       "      <td>2</td>\n",
       "      <td>465</td>\n",
       "      <td>1 000 Places to See Before You Die</td>\n",
       "      <td>992</td>\n",
       "      <td>2003-05-22</td>\n",
       "      <td>336</td>\n",
       "    </tr>\n",
       "    <tr>\n",
       "      <th>2</th>\n",
       "      <td>3</td>\n",
       "      <td>407</td>\n",
       "      <td>13 Little Blue Envelopes (Little Blue Envelope  #1)</td>\n",
       "      <td>322</td>\n",
       "      <td>2010-12-21</td>\n",
       "      <td>135</td>\n",
       "    </tr>\n",
       "    <tr>\n",
       "      <th>3</th>\n",
       "      <td>4</td>\n",
       "      <td>82</td>\n",
       "      <td>1491: New Revelations of the Americas Before Columbus</td>\n",
       "      <td>541</td>\n",
       "      <td>2006-10-10</td>\n",
       "      <td>309</td>\n",
       "    </tr>\n",
       "    <tr>\n",
       "      <th>4</th>\n",
       "      <td>5</td>\n",
       "      <td>125</td>\n",
       "      <td>1776</td>\n",
       "      <td>386</td>\n",
       "      <td>2006-07-04</td>\n",
       "      <td>268</td>\n",
       "    </tr>\n",
       "  </tbody>\n",
       "</table>\n",
       "</div>"
      ],
      "text/plain": [
       "   book_id  author_id                                                  title  \\\n",
       "0  1        546        'Salem's Lot                                            \n",
       "1  2        465        1 000 Places to See Before You Die                      \n",
       "2  3        407        13 Little Blue Envelopes (Little Blue Envelope  #1)     \n",
       "3  4        82         1491: New Revelations of the Americas Before Columbus   \n",
       "4  5        125        1776                                                    \n",
       "\n",
       "   num_pages publication_date  publisher_id  \n",
       "0  594        2005-11-01       93            \n",
       "1  992        2003-05-22       336           \n",
       "2  322        2010-12-21       135           \n",
       "3  541        2006-10-10       309           \n",
       "4  386        2006-07-04       268           "
      ]
     },
     "metadata": {},
     "output_type": "display_data"
    },
    {
     "name": "stdout",
     "output_type": "stream",
     "text": [
      "\n",
      " Первые 5 строчек датасета authors\n"
     ]
    },
    {
     "data": {
      "text/html": [
       "<div>\n",
       "<style scoped>\n",
       "    .dataframe tbody tr th:only-of-type {\n",
       "        vertical-align: middle;\n",
       "    }\n",
       "\n",
       "    .dataframe tbody tr th {\n",
       "        vertical-align: top;\n",
       "    }\n",
       "\n",
       "    .dataframe thead th {\n",
       "        text-align: right;\n",
       "    }\n",
       "</style>\n",
       "<table border=\"1\" class=\"dataframe\">\n",
       "  <thead>\n",
       "    <tr style=\"text-align: right;\">\n",
       "      <th></th>\n",
       "      <th>author_id</th>\n",
       "      <th>author</th>\n",
       "    </tr>\n",
       "  </thead>\n",
       "  <tbody>\n",
       "    <tr>\n",
       "      <th>0</th>\n",
       "      <td>1</td>\n",
       "      <td>A.S. Byatt</td>\n",
       "    </tr>\n",
       "    <tr>\n",
       "      <th>1</th>\n",
       "      <td>2</td>\n",
       "      <td>Aesop/Laura Harris/Laura Gibbs</td>\n",
       "    </tr>\n",
       "    <tr>\n",
       "      <th>2</th>\n",
       "      <td>3</td>\n",
       "      <td>Agatha Christie</td>\n",
       "    </tr>\n",
       "    <tr>\n",
       "      <th>3</th>\n",
       "      <td>4</td>\n",
       "      <td>Alan Brennert</td>\n",
       "    </tr>\n",
       "    <tr>\n",
       "      <th>4</th>\n",
       "      <td>5</td>\n",
       "      <td>Alan Moore/David   Lloyd</td>\n",
       "    </tr>\n",
       "  </tbody>\n",
       "</table>\n",
       "</div>"
      ],
      "text/plain": [
       "   author_id                          author\n",
       "0  1          A.S. Byatt                    \n",
       "1  2          Aesop/Laura Harris/Laura Gibbs\n",
       "2  3          Agatha Christie               \n",
       "3  4          Alan Brennert                 \n",
       "4  5          Alan Moore/David   Lloyd      "
      ]
     },
     "metadata": {},
     "output_type": "display_data"
    },
    {
     "name": "stdout",
     "output_type": "stream",
     "text": [
      "\n",
      " Первые 5 строчек датасета publishers\n"
     ]
    },
    {
     "data": {
      "text/html": [
       "<div>\n",
       "<style scoped>\n",
       "    .dataframe tbody tr th:only-of-type {\n",
       "        vertical-align: middle;\n",
       "    }\n",
       "\n",
       "    .dataframe tbody tr th {\n",
       "        vertical-align: top;\n",
       "    }\n",
       "\n",
       "    .dataframe thead th {\n",
       "        text-align: right;\n",
       "    }\n",
       "</style>\n",
       "<table border=\"1\" class=\"dataframe\">\n",
       "  <thead>\n",
       "    <tr style=\"text-align: right;\">\n",
       "      <th></th>\n",
       "      <th>publisher_id</th>\n",
       "      <th>publisher</th>\n",
       "    </tr>\n",
       "  </thead>\n",
       "  <tbody>\n",
       "    <tr>\n",
       "      <th>0</th>\n",
       "      <td>1</td>\n",
       "      <td>Ace</td>\n",
       "    </tr>\n",
       "    <tr>\n",
       "      <th>1</th>\n",
       "      <td>2</td>\n",
       "      <td>Ace Book</td>\n",
       "    </tr>\n",
       "    <tr>\n",
       "      <th>2</th>\n",
       "      <td>3</td>\n",
       "      <td>Ace Books</td>\n",
       "    </tr>\n",
       "    <tr>\n",
       "      <th>3</th>\n",
       "      <td>4</td>\n",
       "      <td>Ace Hardcover</td>\n",
       "    </tr>\n",
       "    <tr>\n",
       "      <th>4</th>\n",
       "      <td>5</td>\n",
       "      <td>Addison Wesley Publishing Company</td>\n",
       "    </tr>\n",
       "  </tbody>\n",
       "</table>\n",
       "</div>"
      ],
      "text/plain": [
       "   publisher_id                          publisher\n",
       "0  1             Ace                              \n",
       "1  2             Ace Book                         \n",
       "2  3             Ace Books                        \n",
       "3  4             Ace Hardcover                    \n",
       "4  5             Addison Wesley Publishing Company"
      ]
     },
     "metadata": {},
     "output_type": "display_data"
    },
    {
     "name": "stdout",
     "output_type": "stream",
     "text": [
      "\n",
      " Первые 5 строчек датасета ratings\n"
     ]
    },
    {
     "data": {
      "text/html": [
       "<div>\n",
       "<style scoped>\n",
       "    .dataframe tbody tr th:only-of-type {\n",
       "        vertical-align: middle;\n",
       "    }\n",
       "\n",
       "    .dataframe tbody tr th {\n",
       "        vertical-align: top;\n",
       "    }\n",
       "\n",
       "    .dataframe thead th {\n",
       "        text-align: right;\n",
       "    }\n",
       "</style>\n",
       "<table border=\"1\" class=\"dataframe\">\n",
       "  <thead>\n",
       "    <tr style=\"text-align: right;\">\n",
       "      <th></th>\n",
       "      <th>rating_id</th>\n",
       "      <th>book_id</th>\n",
       "      <th>username</th>\n",
       "      <th>rating</th>\n",
       "    </tr>\n",
       "  </thead>\n",
       "  <tbody>\n",
       "    <tr>\n",
       "      <th>0</th>\n",
       "      <td>1</td>\n",
       "      <td>1</td>\n",
       "      <td>ryanfranco</td>\n",
       "      <td>4</td>\n",
       "    </tr>\n",
       "    <tr>\n",
       "      <th>1</th>\n",
       "      <td>2</td>\n",
       "      <td>1</td>\n",
       "      <td>grantpatricia</td>\n",
       "      <td>2</td>\n",
       "    </tr>\n",
       "    <tr>\n",
       "      <th>2</th>\n",
       "      <td>3</td>\n",
       "      <td>1</td>\n",
       "      <td>brandtandrea</td>\n",
       "      <td>5</td>\n",
       "    </tr>\n",
       "    <tr>\n",
       "      <th>3</th>\n",
       "      <td>4</td>\n",
       "      <td>2</td>\n",
       "      <td>lorichen</td>\n",
       "      <td>3</td>\n",
       "    </tr>\n",
       "    <tr>\n",
       "      <th>4</th>\n",
       "      <td>5</td>\n",
       "      <td>2</td>\n",
       "      <td>mariokeller</td>\n",
       "      <td>2</td>\n",
       "    </tr>\n",
       "  </tbody>\n",
       "</table>\n",
       "</div>"
      ],
      "text/plain": [
       "   rating_id  book_id       username  rating\n",
       "0  1          1        ryanfranco     4     \n",
       "1  2          1        grantpatricia  2     \n",
       "2  3          1        brandtandrea   5     \n",
       "3  4          2        lorichen       3     \n",
       "4  5          2        mariokeller    2     "
      ]
     },
     "metadata": {},
     "output_type": "display_data"
    },
    {
     "name": "stdout",
     "output_type": "stream",
     "text": [
      "\n",
      " Первые 5 строчек датасета reviews\n"
     ]
    },
    {
     "data": {
      "text/html": [
       "<div>\n",
       "<style scoped>\n",
       "    .dataframe tbody tr th:only-of-type {\n",
       "        vertical-align: middle;\n",
       "    }\n",
       "\n",
       "    .dataframe tbody tr th {\n",
       "        vertical-align: top;\n",
       "    }\n",
       "\n",
       "    .dataframe thead th {\n",
       "        text-align: right;\n",
       "    }\n",
       "</style>\n",
       "<table border=\"1\" class=\"dataframe\">\n",
       "  <thead>\n",
       "    <tr style=\"text-align: right;\">\n",
       "      <th></th>\n",
       "      <th>review_id</th>\n",
       "      <th>book_id</th>\n",
       "      <th>username</th>\n",
       "      <th>text</th>\n",
       "    </tr>\n",
       "  </thead>\n",
       "  <tbody>\n",
       "    <tr>\n",
       "      <th>0</th>\n",
       "      <td>1</td>\n",
       "      <td>1</td>\n",
       "      <td>brandtandrea</td>\n",
       "      <td>Mention society tell send professor analysis. Over provide race technology continue these.</td>\n",
       "    </tr>\n",
       "    <tr>\n",
       "      <th>1</th>\n",
       "      <td>2</td>\n",
       "      <td>1</td>\n",
       "      <td>ryanfranco</td>\n",
       "      <td>Foot glass pretty audience hit themselves. Among admit investment argue security.</td>\n",
       "    </tr>\n",
       "    <tr>\n",
       "      <th>2</th>\n",
       "      <td>3</td>\n",
       "      <td>2</td>\n",
       "      <td>lorichen</td>\n",
       "      <td>Listen treat keep worry. Miss husband tax but person sport treatment industry. Kitchen decision deep the. Social party body the.</td>\n",
       "    </tr>\n",
       "    <tr>\n",
       "      <th>3</th>\n",
       "      <td>4</td>\n",
       "      <td>3</td>\n",
       "      <td>johnsonamanda</td>\n",
       "      <td>Finally month interesting blue could nature cultural bit. Prepare beat finish grow that smile teach. Dream me play near.</td>\n",
       "    </tr>\n",
       "    <tr>\n",
       "      <th>4</th>\n",
       "      <td>5</td>\n",
       "      <td>3</td>\n",
       "      <td>scotttamara</td>\n",
       "      <td>Nation purpose heavy give wait song will. List dinner another whole positive radio fast. Music staff many green.</td>\n",
       "    </tr>\n",
       "  </tbody>\n",
       "</table>\n",
       "</div>"
      ],
      "text/plain": [
       "   review_id  book_id       username  \\\n",
       "0  1          1        brandtandrea    \n",
       "1  2          1        ryanfranco      \n",
       "2  3          2        lorichen        \n",
       "3  4          3        johnsonamanda   \n",
       "4  5          3        scotttamara     \n",
       "\n",
       "                                                                                                                               text  \n",
       "0  Mention society tell send professor analysis. Over provide race technology continue these.                                        \n",
       "1  Foot glass pretty audience hit themselves. Among admit investment argue security.                                                 \n",
       "2  Listen treat keep worry. Miss husband tax but person sport treatment industry. Kitchen decision deep the. Social party body the.  \n",
       "3  Finally month interesting blue could nature cultural bit. Prepare beat finish grow that smile teach. Dream me play near.          \n",
       "4  Nation purpose heavy give wait song will. List dinner another whole positive radio fast. Music staff many green.                  "
      ]
     },
     "metadata": {},
     "output_type": "display_data"
    }
   ],
   "source": [
    "#создадим список с датасетами\n",
    "df_list = ['books', 'authors', 'publishers', 'ratings', 'reviews']\n",
    "\n",
    "for name in df_list:\n",
    "    print(f'\\n Первые 5 строчек датасета {name}')\n",
    "    query = ''f'SELECT * FROM {name} LIMIT 5'''\n",
    "    con=engine.connect()\n",
    "    display(pd.io.sql.read_sql(sql=text(query), con = con)) "
   ]
  },
  {
   "cell_type": "markdown",
   "metadata": {},
   "source": [
    "## Задачи:\n",
    "### Посчитаем, сколько книг вышло после 1 января 2000 года\n"
   ]
  },
  {
   "cell_type": "code",
   "execution_count": 9,
   "metadata": {},
   "outputs": [
    {
     "data": {
      "text/html": [
       "<div>\n",
       "<style scoped>\n",
       "    .dataframe tbody tr th:only-of-type {\n",
       "        vertical-align: middle;\n",
       "    }\n",
       "\n",
       "    .dataframe tbody tr th {\n",
       "        vertical-align: top;\n",
       "    }\n",
       "\n",
       "    .dataframe thead th {\n",
       "        text-align: right;\n",
       "    }\n",
       "</style>\n",
       "<table border=\"1\" class=\"dataframe\">\n",
       "  <thead>\n",
       "    <tr style=\"text-align: right;\">\n",
       "      <th></th>\n",
       "      <th>count</th>\n",
       "    </tr>\n",
       "  </thead>\n",
       "  <tbody>\n",
       "    <tr>\n",
       "      <th>0</th>\n",
       "      <td>819</td>\n",
       "    </tr>\n",
       "  </tbody>\n",
       "</table>\n",
       "</div>"
      ],
      "text/plain": [
       "   count\n",
       "0  819  "
      ]
     },
     "execution_count": 9,
     "metadata": {},
     "output_type": "execute_result"
    }
   ],
   "source": [
    "# выведем результат запроса\n",
    "query = '''SELECT COUNT(book_id) \n",
    "           FROM books \n",
    "           WHERE CAST (publication_date AS date) > '2000-01-01'\n",
    "           '''\n",
    "\n",
    "con=engine.connect()\n",
    "\n",
    "pd.io.sql.read_sql(sql=text(query), con = con)"
   ]
  },
  {
   "cell_type": "markdown",
   "metadata": {},
   "source": [
    "Большая часть книг из представленных для анализа вышло после 1 января 2000 года, а именно 819 книг из 1000 представленных.\n",
    "\n",
    "### Для каждой книги посчитаем количество обзоров и среднюю оценку\n"
   ]
  },
  {
   "cell_type": "raw",
   "metadata": {},
   "source": [
    "# выведем результат запроса\n",
    "query = '''SELECT b.book_id,\n",
    "               COUNT(r.review_id),\n",
    "               ROUND(AVG(ra.rating), 2)\n",
    "           FROM books b\n",
    "           LEFT JOIN reviews r ON b.book_id=r.book_id\n",
    "           LEFT JOIN ratings ra ON b.book_id=ra.book_id\n",
    "           GROUP BY b.book_id\n",
    "           \n",
    "           '''\n",
    "\n",
    "con=engine.connect()\n",
    "\n",
    "pd.io.sql.read_sql(sql=text(query), con = con)"
   ]
  },
  {
   "cell_type": "code",
   "execution_count": 10,
   "metadata": {},
   "outputs": [
    {
     "data": {
      "text/html": [
       "<div>\n",
       "<style scoped>\n",
       "    .dataframe tbody tr th:only-of-type {\n",
       "        vertical-align: middle;\n",
       "    }\n",
       "\n",
       "    .dataframe tbody tr th {\n",
       "        vertical-align: top;\n",
       "    }\n",
       "\n",
       "    .dataframe thead th {\n",
       "        text-align: right;\n",
       "    }\n",
       "</style>\n",
       "<table border=\"1\" class=\"dataframe\">\n",
       "  <thead>\n",
       "    <tr style=\"text-align: right;\">\n",
       "      <th></th>\n",
       "      <th>title</th>\n",
       "      <th>count_review</th>\n",
       "      <th>rate</th>\n",
       "    </tr>\n",
       "  </thead>\n",
       "  <tbody>\n",
       "    <tr>\n",
       "      <th>0</th>\n",
       "      <td>'Salem's Lot</td>\n",
       "      <td>2.0</td>\n",
       "      <td>3.67</td>\n",
       "    </tr>\n",
       "    <tr>\n",
       "      <th>1</th>\n",
       "      <td>1 000 Places to See Before You Die</td>\n",
       "      <td>1.0</td>\n",
       "      <td>2.50</td>\n",
       "    </tr>\n",
       "    <tr>\n",
       "      <th>2</th>\n",
       "      <td>13 Little Blue Envelopes (Little Blue Envelope  #1)</td>\n",
       "      <td>3.0</td>\n",
       "      <td>4.67</td>\n",
       "    </tr>\n",
       "    <tr>\n",
       "      <th>3</th>\n",
       "      <td>1491: New Revelations of the Americas Before Columbus</td>\n",
       "      <td>2.0</td>\n",
       "      <td>4.50</td>\n",
       "    </tr>\n",
       "    <tr>\n",
       "      <th>4</th>\n",
       "      <td>1776</td>\n",
       "      <td>4.0</td>\n",
       "      <td>4.00</td>\n",
       "    </tr>\n",
       "    <tr>\n",
       "      <th>...</th>\n",
       "      <td>...</td>\n",
       "      <td>...</td>\n",
       "      <td>...</td>\n",
       "    </tr>\n",
       "    <tr>\n",
       "      <th>995</th>\n",
       "      <td>Wyrd Sisters (Discworld  #6; Witches #2)</td>\n",
       "      <td>3.0</td>\n",
       "      <td>3.67</td>\n",
       "    </tr>\n",
       "    <tr>\n",
       "      <th>996</th>\n",
       "      <td>Xenocide (Ender's Saga  #3)</td>\n",
       "      <td>3.0</td>\n",
       "      <td>3.40</td>\n",
       "    </tr>\n",
       "    <tr>\n",
       "      <th>997</th>\n",
       "      <td>Year of Wonders</td>\n",
       "      <td>4.0</td>\n",
       "      <td>3.20</td>\n",
       "    </tr>\n",
       "    <tr>\n",
       "      <th>998</th>\n",
       "      <td>You Suck (A Love Story  #2)</td>\n",
       "      <td>2.0</td>\n",
       "      <td>4.50</td>\n",
       "    </tr>\n",
       "    <tr>\n",
       "      <th>999</th>\n",
       "      <td>Zen and the Art of Motorcycle Maintenance: An Inquiry Into Values (Phaedrus  #1)</td>\n",
       "      <td>4.0</td>\n",
       "      <td>3.83</td>\n",
       "    </tr>\n",
       "  </tbody>\n",
       "</table>\n",
       "<p>1000 rows × 3 columns</p>\n",
       "</div>"
      ],
      "text/plain": [
       "                                                                                title  \\\n",
       "0    'Salem's Lot                                                                       \n",
       "1    1 000 Places to See Before You Die                                                 \n",
       "2    13 Little Blue Envelopes (Little Blue Envelope  #1)                                \n",
       "3    1491: New Revelations of the Americas Before Columbus                              \n",
       "4    1776                                                                               \n",
       "..    ...                                                                               \n",
       "995  Wyrd Sisters (Discworld  #6; Witches #2)                                           \n",
       "996  Xenocide (Ender's Saga  #3)                                                        \n",
       "997  Year of Wonders                                                                    \n",
       "998  You Suck (A Love Story  #2)                                                        \n",
       "999  Zen and the Art of Motorcycle Maintenance: An Inquiry Into Values (Phaedrus  #1)   \n",
       "\n",
       "     count_review  rate  \n",
       "0    2.0           3.67  \n",
       "1    1.0           2.50  \n",
       "2    3.0           4.67  \n",
       "3    2.0           4.50  \n",
       "4    4.0           4.00  \n",
       "..   ...            ...  \n",
       "995  3.0           3.67  \n",
       "996  3.0           3.40  \n",
       "997  4.0           3.20  \n",
       "998  2.0           4.50  \n",
       "999  4.0           3.83  \n",
       "\n",
       "[1000 rows x 3 columns]"
      ]
     },
     "execution_count": 10,
     "metadata": {},
     "output_type": "execute_result"
    }
   ],
   "source": [
    "# выведем результат запроса\n",
    "query = '''SELECT b.title,\n",
    "                count_review,\n",
    "                rate\n",
    "           FROM books b\n",
    "           LEFT JOIN (SELECT book_id,\n",
    "                          COUNT(review_id) AS count_review\n",
    "                          FROM reviews \n",
    "                          GROUP BY book_id\n",
    "                          ORDER BY count_review DESC) AS r ON b.book_id=r.book_id\n",
    "           LEFT JOIN (SELECT book_id,\n",
    "                          ROUND(AVG(rating), 2) AS rate\n",
    "                      FROM ratings\n",
    "                      GROUP BY book_id\n",
    "                      ORDER BY book_id) AS ra ON b.book_id=ra.book_id\n",
    "           '''\n",
    "\n",
    "con=engine.connect()\n",
    "\n",
    "pd.io.sql.read_sql(sql=text(query), con = con)"
   ]
  },
  {
   "cell_type": "markdown",
   "metadata": {},
   "source": [
    "Количество обзоров и среднюю оценку можно выводить рядом с названием книги на главном экране. Это информация поможет читателям при выборе книг."
   ]
  },
  {
   "cell_type": "markdown",
   "metadata": {},
   "source": [
    "### Определим издательство, которое выпустило наибольшее число книг толще 50 страниц — так мы исключим из анализа брошюры"
   ]
  },
  {
   "cell_type": "raw",
   "metadata": {},
   "source": [
    "# выведем результат запроса\n",
    "query = '''WITH temp AS (SELECT p.publisher,\n",
    "                             COUNT(b.book_id) AS count_book\n",
    "                         FROM books b\n",
    "                         JOIN publishers p ON b.publisher_id=p.publisher_id\n",
    "                         WHERE b.num_pages > 50\n",
    "                         GROUP BY p.publisher\n",
    "                         ORDER BY count_book DESC\n",
    "                         LIMIT 1)\n",
    "           SELECT publisher\n",
    "           FROM temp\n",
    "           '''\n",
    "\n",
    "con=engine.connect()\n",
    "\n",
    "pd.io.sql.read_sql(sql=text(query), con = con)"
   ]
  },
  {
   "cell_type": "code",
   "execution_count": 11,
   "metadata": {},
   "outputs": [
    {
     "data": {
      "text/html": [
       "<div>\n",
       "<style scoped>\n",
       "    .dataframe tbody tr th:only-of-type {\n",
       "        vertical-align: middle;\n",
       "    }\n",
       "\n",
       "    .dataframe tbody tr th {\n",
       "        vertical-align: top;\n",
       "    }\n",
       "\n",
       "    .dataframe thead th {\n",
       "        text-align: right;\n",
       "    }\n",
       "</style>\n",
       "<table border=\"1\" class=\"dataframe\">\n",
       "  <thead>\n",
       "    <tr style=\"text-align: right;\">\n",
       "      <th></th>\n",
       "      <th>publisher</th>\n",
       "      <th>count_book</th>\n",
       "    </tr>\n",
       "  </thead>\n",
       "  <tbody>\n",
       "    <tr>\n",
       "      <th>0</th>\n",
       "      <td>Penguin Books</td>\n",
       "      <td>42</td>\n",
       "    </tr>\n",
       "  </tbody>\n",
       "</table>\n",
       "</div>"
      ],
      "text/plain": [
       "       publisher  count_book\n",
       "0  Penguin Books  42        "
      ]
     },
     "execution_count": 11,
     "metadata": {},
     "output_type": "execute_result"
    }
   ],
   "source": [
    "# выведем результат запроса\n",
    "query = '''SELECT p.publisher,\n",
    "                COUNT(b.book_id) AS count_book\n",
    "           FROM books b\n",
    "           JOIN publishers p ON b.publisher_id=p.publisher_id\n",
    "           WHERE b.num_pages > 50\n",
    "           GROUP BY p.publisher\n",
    "           ORDER BY count_book DESC\n",
    "           LIMIT 1\n",
    "           '''\n",
    "\n",
    "con=engine.connect()\n",
    "\n",
    "pd.io.sql.read_sql(sql=text(query), con = con)"
   ]
  },
  {
   "cell_type": "markdown",
   "metadata": {},
   "source": [
    "Через наше приложение с издательством Penguin Books можно создать совместную рассылку уведомлений о новых выпущенных книгах."
   ]
  },
  {
   "cell_type": "markdown",
   "metadata": {},
   "source": [
    "\n",
    "### Определим автора с самой высокой средней оценкой книг — учитываеме только книги с 50 и более оценками"
   ]
  },
  {
   "cell_type": "raw",
   "metadata": {},
   "source": [
    "# выведем результат запроса\n",
    "query = '''WITH temp AS (SELECT a.author,\n",
    "                             COUNT(r.rating_id),\n",
    "                             AVG(r.rating) AS avg_rating\n",
    "                         FROM ratings r\n",
    "                         JOIN books b ON b.book_id=r.book_id\n",
    "                         JOIN authors a ON b.author_id=a.author_id\n",
    "                         GROUP BY a.author\n",
    "                         HAVING COUNT(r.rating_id) > 50\n",
    "                         ORDER BY avg_rating DESC\n",
    "                         LIMIT 1)\n",
    "           SELECT author\n",
    "           FROM temp\n",
    "           '''\n",
    "\n",
    "con=engine.connect()\n",
    "\n",
    "pd.io.sql.read_sql(sql=text(query), con = con)"
   ]
  },
  {
   "cell_type": "code",
   "execution_count": 12,
   "metadata": {},
   "outputs": [
    {
     "data": {
      "text/html": [
       "<div>\n",
       "<style scoped>\n",
       "    .dataframe tbody tr th:only-of-type {\n",
       "        vertical-align: middle;\n",
       "    }\n",
       "\n",
       "    .dataframe tbody tr th {\n",
       "        vertical-align: top;\n",
       "    }\n",
       "\n",
       "    .dataframe thead th {\n",
       "        text-align: right;\n",
       "    }\n",
       "</style>\n",
       "<table border=\"1\" class=\"dataframe\">\n",
       "  <thead>\n",
       "    <tr style=\"text-align: right;\">\n",
       "      <th></th>\n",
       "      <th>author</th>\n",
       "      <th>rate</th>\n",
       "    </tr>\n",
       "  </thead>\n",
       "  <tbody>\n",
       "    <tr>\n",
       "      <th>0</th>\n",
       "      <td>J.K. Rowling/Mary GrandPré</td>\n",
       "      <td>4.2838</td>\n",
       "    </tr>\n",
       "  </tbody>\n",
       "</table>\n",
       "</div>"
      ],
      "text/plain": [
       "                       author    rate\n",
       "0  J.K. Rowling/Mary GrandPré  4.2838"
      ]
     },
     "execution_count": 12,
     "metadata": {},
     "output_type": "execute_result"
    }
   ],
   "source": [
    "# выведем результат запроса\n",
    "query = '''WITH temp AS (SELECT a.author,\n",
    "                                b.book_id,\n",
    "                             COUNT(r.rating_id),\n",
    "                             AVG(r.rating) AS avg_rating\n",
    "                         FROM ratings r\n",
    "                         JOIN books b ON b.book_id=r.book_id\n",
    "                         JOIN authors a ON b.author_id=a.author_id\n",
    "                         GROUP BY a.author, b.book_id\n",
    "                         HAVING COUNT(r.rating_id) >= 50\n",
    "                         ORDER BY avg_rating DESC)\n",
    "           SELECT author, \n",
    "               ROUND(AVG(avg_rating), 4) AS rate\n",
    "           FROM temp\n",
    "           GROUP BY author\n",
    "           ORDER BY rate DESC\n",
    "           LIMIT 1\n",
    "           '''\n",
    "\n",
    "con=engine.connect()\n",
    "\n",
    "pd.io.sql.read_sql(sql=text(query), con = con)"
   ]
  },
  {
   "cell_type": "markdown",
   "metadata": {},
   "source": [
    "В нашем сервисе необходимо разместить книги автора J.K. Rowling/Mary GrandPré, они пользуются большой популярностью."
   ]
  },
  {
   "cell_type": "markdown",
   "metadata": {},
   "source": [
    "### Посчитаем среднее количество обзоров от пользователей, которые поставили больше 48 оценок"
   ]
  },
  {
   "cell_type": "code",
   "execution_count": 13,
   "metadata": {},
   "outputs": [
    {
     "data": {
      "text/html": [
       "<div>\n",
       "<style scoped>\n",
       "    .dataframe tbody tr th:only-of-type {\n",
       "        vertical-align: middle;\n",
       "    }\n",
       "\n",
       "    .dataframe tbody tr th {\n",
       "        vertical-align: top;\n",
       "    }\n",
       "\n",
       "    .dataframe thead th {\n",
       "        text-align: right;\n",
       "    }\n",
       "</style>\n",
       "<table border=\"1\" class=\"dataframe\">\n",
       "  <thead>\n",
       "    <tr style=\"text-align: right;\">\n",
       "      <th></th>\n",
       "      <th>avg</th>\n",
       "    </tr>\n",
       "  </thead>\n",
       "  <tbody>\n",
       "    <tr>\n",
       "      <th>0</th>\n",
       "      <td>24.0</td>\n",
       "    </tr>\n",
       "  </tbody>\n",
       "</table>\n",
       "</div>"
      ],
      "text/plain": [
       "    avg\n",
       "0  24.0"
      ]
     },
     "execution_count": 13,
     "metadata": {},
     "output_type": "execute_result"
    }
   ],
   "source": [
    "# выведем результат запроса\n",
    "query = '''WITH rating_username AS (SELECT DISTINCT username,\n",
    "                                        COUNT(rating_id)\n",
    "                                    FROM ratings \n",
    "                                    GROUP BY username\n",
    "                                    HAVING COUNT(rating_id) > 48),\n",
    "           reviews_username AS (SELECT DISTINCT username,\n",
    "                                    COUNT(review_id) AS count_review\n",
    "                                    FROM reviews \n",
    "                                    GROUP BY username)\n",
    "           SELECT AVG(reu.count_review)\n",
    "           FROM reviews_username reu    \n",
    "           JOIN rating_username rau ON reu.username=rau.username\n",
    "         '''\n",
    "\n",
    "con=engine.connect()\n",
    "\n",
    "pd.io.sql.read_sql(sql=text(query), con = con)"
   ]
  },
  {
   "cell_type": "markdown",
   "metadata": {},
   "source": [
    "В приложении можно создать мотивацию для пользователей, ставящих оценки и пишущих обзоры, такую как скидку на подписку при соблюдении ряда условий (например, имеющие количество обзоров больше 24)."
   ]
  },
  {
   "cell_type": "markdown",
   "metadata": {},
   "source": [
    "## Общие выводы\n",
    "\n",
    "**Мы проанализировали базу данных сервиса для чтения книг и на основании этого сделали выводы:**\n",
    "- в базе представлены в основном современные книги, выпущенные после 1 января 2000 года - 819 штук;\n",
    "- для каждой книги было посчитано количество обзоров и среднюяя оценка;\n",
    "- издательство, которое выпустило наибольшее число книг толще 50 страниц, не считая брошюр - Penguin Books;\n",
    "- автор с самой высокой средней оценкой книг (среди книг с 50 и более оценками) - J.K. Rowling/Mary GrandPré;\n",
    "- среднее количество обзоров от пользователей, которые поставили больше 48 оценок - 24 обзора.\n",
    "\n",
    "\n",
    "**Рекомендации бизнесу:**\n",
    "- разбавить сервис книгами классическими - выпущенными ранее 1 января 2000 года, например школьную классику;\n",
    "- количество обзоров и среднюю оценку можно выводить рядом с названием книги на главном экране. Это информация поможет читателям при выборе книг;\n",
    "- через наше приложение с издательством Penguin Books можно создать совместную рассылку уведомлений о новых выпущенных книгах;\n",
    "- в нашем сервисе необходимо разместить книги автора J.K. Rowling/Mary GrandPré, они пользуются большой популярностью;\n",
    "- в приложении можно создать мотивацию для пользователей, ставящих оценки и пишущих обзоры, такую как скидку на подписку при соблюдении ряда условий (например, имеющие количество обзоров больше 24)."
   ]
  }
 ],
 "metadata": {
  "ExecuteTimeLog": [
   {
    "duration": 17927,
    "start_time": "2023-08-08T07:49:15.509Z"
   },
   {
    "duration": 50,
    "start_time": "2023-08-08T09:29:26.965Z"
   },
   {
    "duration": 25406,
    "start_time": "2023-08-08T09:30:25.838Z"
   },
   {
    "duration": 176,
    "start_time": "2023-08-08T09:30:51.246Z"
   },
   {
    "duration": 53,
    "start_time": "2023-08-08T09:30:51.423Z"
   },
   {
    "duration": 53,
    "start_time": "2023-08-08T09:30:51.478Z"
   },
   {
    "duration": 54,
    "start_time": "2023-08-08T09:30:51.533Z"
   },
   {
    "duration": 53,
    "start_time": "2023-08-08T09:32:47.895Z"
   },
   {
    "duration": 110,
    "start_time": "2023-08-08T09:54:12.901Z"
   },
   {
    "duration": 41,
    "start_time": "2023-08-08T09:56:04.816Z"
   },
   {
    "duration": 140,
    "start_time": "2023-08-08T09:56:54.552Z"
   },
   {
    "duration": 82,
    "start_time": "2023-08-08T09:57:07.656Z"
   },
   {
    "duration": 52,
    "start_time": "2023-08-08T09:57:33.521Z"
   },
   {
    "duration": 57,
    "start_time": "2023-08-08T10:13:46.029Z"
   },
   {
    "duration": 72,
    "start_time": "2023-08-08T10:14:21.262Z"
   },
   {
    "duration": 116,
    "start_time": "2023-08-08T10:15:17.817Z"
   },
   {
    "duration": 73,
    "start_time": "2023-08-08T10:24:39.629Z"
   },
   {
    "duration": 61,
    "start_time": "2023-08-08T10:25:18.286Z"
   },
   {
    "duration": 146,
    "start_time": "2023-08-08T10:25:32.390Z"
   },
   {
    "duration": 147,
    "start_time": "2023-08-08T10:26:04.948Z"
   },
   {
    "duration": 141,
    "start_time": "2023-08-08T10:26:42.394Z"
   },
   {
    "duration": 150,
    "start_time": "2023-08-08T10:26:56.765Z"
   },
   {
    "duration": 63,
    "start_time": "2023-08-08T10:27:26.437Z"
   },
   {
    "duration": 71,
    "start_time": "2023-08-08T10:27:32.229Z"
   },
   {
    "duration": 14121,
    "start_time": "2023-08-08T14:02:47.776Z"
   },
   {
    "duration": 267,
    "start_time": "2023-08-08T14:03:47.256Z"
   },
   {
    "duration": 140,
    "start_time": "2023-08-08T14:03:47.525Z"
   },
   {
    "duration": 52,
    "start_time": "2023-08-08T14:03:47.666Z"
   },
   {
    "duration": 50,
    "start_time": "2023-08-08T14:03:47.720Z"
   },
   {
    "duration": 53,
    "start_time": "2023-08-08T14:03:47.772Z"
   },
   {
    "duration": 56,
    "start_time": "2023-08-08T14:03:47.827Z"
   },
   {
    "duration": 87,
    "start_time": "2023-08-08T14:03:47.884Z"
   },
   {
    "duration": 76,
    "start_time": "2023-08-08T14:04:34.488Z"
   },
   {
    "duration": 85,
    "start_time": "2023-08-08T14:05:02.183Z"
   },
   {
    "duration": 85,
    "start_time": "2023-08-08T14:05:12.176Z"
   },
   {
    "duration": 74,
    "start_time": "2023-08-08T14:06:28.496Z"
   },
   {
    "duration": 73,
    "start_time": "2023-08-08T14:06:31.624Z"
   },
   {
    "duration": 64,
    "start_time": "2023-08-08T14:10:13.482Z"
   },
   {
    "duration": 51,
    "start_time": "2023-08-08T14:13:06.827Z"
   },
   {
    "duration": 51,
    "start_time": "2023-08-08T14:15:16.285Z"
   },
   {
    "duration": 54,
    "start_time": "2023-08-08T14:16:27.158Z"
   },
   {
    "duration": 139,
    "start_time": "2023-08-08T14:31:19.492Z"
   },
   {
    "duration": 59,
    "start_time": "2023-08-08T14:32:06.018Z"
   },
   {
    "duration": 151,
    "start_time": "2023-08-08T14:32:33.731Z"
   },
   {
    "duration": 157,
    "start_time": "2023-08-08T14:33:32.516Z"
   },
   {
    "duration": 56,
    "start_time": "2023-08-08T14:34:51.299Z"
   },
   {
    "duration": 56,
    "start_time": "2023-08-08T14:35:05.740Z"
   },
   {
    "duration": 54,
    "start_time": "2023-08-08T14:35:27.869Z"
   },
   {
    "duration": 56,
    "start_time": "2023-08-08T14:35:34.792Z"
   },
   {
    "duration": 58,
    "start_time": "2023-08-08T14:35:42.763Z"
   },
   {
    "duration": 74,
    "start_time": "2023-08-08T14:44:50.396Z"
   },
   {
    "duration": 80,
    "start_time": "2023-08-08T14:45:19.440Z"
   },
   {
    "duration": 82,
    "start_time": "2023-08-08T14:48:00.196Z"
   },
   {
    "duration": 55,
    "start_time": "2023-08-08T14:48:13.160Z"
   },
   {
    "duration": 52,
    "start_time": "2023-08-08T14:48:25.145Z"
   },
   {
    "duration": 54,
    "start_time": "2023-08-08T14:49:34.116Z"
   },
   {
    "duration": 54,
    "start_time": "2023-08-08T14:50:30.330Z"
   },
   {
    "duration": 105,
    "start_time": "2023-08-08T14:52:17.915Z"
   },
   {
    "duration": 70,
    "start_time": "2023-08-08T14:53:02.363Z"
   },
   {
    "duration": 42,
    "start_time": "2023-08-08T14:53:27.252Z"
   },
   {
    "duration": 55,
    "start_time": "2023-08-08T14:54:37.899Z"
   },
   {
    "duration": 55,
    "start_time": "2023-08-08T15:01:47.463Z"
   },
   {
    "duration": 3,
    "start_time": "2023-08-08T15:03:18.944Z"
   },
   {
    "duration": 252,
    "start_time": "2023-08-08T15:03:20.600Z"
   },
   {
    "duration": 4,
    "start_time": "2023-08-08T15:05:07.449Z"
   },
   {
    "duration": 237,
    "start_time": "2023-08-08T15:05:07.454Z"
   },
   {
    "duration": 150,
    "start_time": "2023-08-08T15:05:07.693Z"
   },
   {
    "duration": 53,
    "start_time": "2023-08-08T15:05:07.844Z"
   },
   {
    "duration": 51,
    "start_time": "2023-08-08T15:05:07.899Z"
   },
   {
    "duration": 52,
    "start_time": "2023-08-08T15:05:07.952Z"
   },
   {
    "duration": 51,
    "start_time": "2023-08-08T15:05:08.005Z"
   },
   {
    "duration": 74,
    "start_time": "2023-08-08T15:05:08.057Z"
   },
   {
    "duration": 51,
    "start_time": "2023-08-08T15:05:08.133Z"
   },
   {
    "duration": 54,
    "start_time": "2023-08-08T15:05:08.186Z"
   },
   {
    "duration": 53,
    "start_time": "2023-08-08T15:05:08.242Z"
   },
   {
    "duration": 7,
    "start_time": "2023-08-08T15:15:42.949Z"
   },
   {
    "duration": 3,
    "start_time": "2023-08-08T15:15:48.567Z"
   },
   {
    "duration": 267,
    "start_time": "2023-08-08T15:15:48.572Z"
   },
   {
    "duration": 6,
    "start_time": "2023-08-08T15:15:48.840Z"
   },
   {
    "duration": 0,
    "start_time": "2023-08-08T15:15:48.848Z"
   },
   {
    "duration": 0,
    "start_time": "2023-08-08T15:15:48.849Z"
   },
   {
    "duration": 0,
    "start_time": "2023-08-08T15:15:48.850Z"
   },
   {
    "duration": 0,
    "start_time": "2023-08-08T15:15:48.850Z"
   },
   {
    "duration": 0,
    "start_time": "2023-08-08T15:15:48.852Z"
   },
   {
    "duration": 0,
    "start_time": "2023-08-08T15:15:48.852Z"
   },
   {
    "duration": 0,
    "start_time": "2023-08-08T15:15:48.853Z"
   },
   {
    "duration": 0,
    "start_time": "2023-08-08T15:15:48.854Z"
   },
   {
    "duration": 0,
    "start_time": "2023-08-08T15:15:48.855Z"
   },
   {
    "duration": 4,
    "start_time": "2023-08-08T15:16:26.142Z"
   },
   {
    "duration": 255,
    "start_time": "2023-08-08T15:16:26.148Z"
   },
   {
    "duration": 164,
    "start_time": "2023-08-08T15:16:26.405Z"
   },
   {
    "duration": 50,
    "start_time": "2023-08-08T15:16:26.571Z"
   },
   {
    "duration": 51,
    "start_time": "2023-08-08T15:16:26.623Z"
   },
   {
    "duration": 51,
    "start_time": "2023-08-08T15:16:26.676Z"
   },
   {
    "duration": 49,
    "start_time": "2023-08-08T15:16:26.729Z"
   },
   {
    "duration": 74,
    "start_time": "2023-08-08T15:16:26.780Z"
   },
   {
    "duration": 52,
    "start_time": "2023-08-08T15:16:26.856Z"
   },
   {
    "duration": 54,
    "start_time": "2023-08-08T15:16:26.909Z"
   },
   {
    "duration": 54,
    "start_time": "2023-08-08T15:16:26.965Z"
   },
   {
    "duration": 3,
    "start_time": "2023-08-08T15:35:16.116Z"
   },
   {
    "duration": 258,
    "start_time": "2023-08-08T15:35:16.121Z"
   },
   {
    "duration": 145,
    "start_time": "2023-08-08T15:35:16.380Z"
   },
   {
    "duration": 51,
    "start_time": "2023-08-08T15:35:16.526Z"
   },
   {
    "duration": 51,
    "start_time": "2023-08-08T15:35:16.580Z"
   },
   {
    "duration": 53,
    "start_time": "2023-08-08T15:35:16.633Z"
   },
   {
    "duration": 53,
    "start_time": "2023-08-08T15:35:16.687Z"
   },
   {
    "duration": 83,
    "start_time": "2023-08-08T15:35:16.742Z"
   },
   {
    "duration": 52,
    "start_time": "2023-08-08T15:35:16.826Z"
   },
   {
    "duration": 62,
    "start_time": "2023-08-08T15:35:16.880Z"
   },
   {
    "duration": 54,
    "start_time": "2023-08-08T15:35:16.944Z"
   },
   {
    "duration": 539,
    "start_time": "2023-08-09T09:03:08.277Z"
   },
   {
    "duration": 11515,
    "start_time": "2023-08-09T09:03:08.818Z"
   },
   {
    "duration": 226,
    "start_time": "2023-08-09T09:03:20.335Z"
   },
   {
    "duration": 123,
    "start_time": "2023-08-09T09:03:20.564Z"
   },
   {
    "duration": 52,
    "start_time": "2023-08-09T09:03:20.688Z"
   },
   {
    "duration": 52,
    "start_time": "2023-08-09T09:03:20.743Z"
   },
   {
    "duration": 54,
    "start_time": "2023-08-09T09:03:20.796Z"
   },
   {
    "duration": 51,
    "start_time": "2023-08-09T09:03:20.852Z"
   },
   {
    "duration": 78,
    "start_time": "2023-08-09T09:03:20.904Z"
   },
   {
    "duration": 54,
    "start_time": "2023-08-09T09:03:20.984Z"
   },
   {
    "duration": 57,
    "start_time": "2023-08-09T09:03:21.040Z"
   },
   {
    "duration": 55,
    "start_time": "2023-08-09T09:03:21.099Z"
   },
   {
    "duration": 53,
    "start_time": "2023-08-09T09:06:19.176Z"
   },
   {
    "duration": 86,
    "start_time": "2023-08-09T09:11:29.747Z"
   },
   {
    "duration": 112,
    "start_time": "2023-08-09T09:12:07.311Z"
   },
   {
    "duration": 93,
    "start_time": "2023-08-09T09:15:12.579Z"
   },
   {
    "duration": 89,
    "start_time": "2023-08-09T09:16:55.638Z"
   },
   {
    "duration": 54,
    "start_time": "2023-08-09T09:17:56.724Z"
   },
   {
    "duration": 144,
    "start_time": "2023-08-09T09:18:37.684Z"
   },
   {
    "duration": 50,
    "start_time": "2023-08-09T09:18:42.348Z"
   },
   {
    "duration": 171,
    "start_time": "2023-08-09T09:18:46.950Z"
   },
   {
    "duration": 44,
    "start_time": "2023-08-09T09:18:52.908Z"
   },
   {
    "duration": 53,
    "start_time": "2023-08-09T09:19:07.408Z"
   },
   {
    "duration": 55,
    "start_time": "2023-08-09T09:19:21.772Z"
   },
   {
    "duration": 58,
    "start_time": "2023-08-09T09:19:30.807Z"
   },
   {
    "duration": 54,
    "start_time": "2023-08-09T09:19:59.404Z"
   },
   {
    "duration": 53,
    "start_time": "2023-08-09T09:20:03.508Z"
   },
   {
    "duration": 89,
    "start_time": "2023-08-09T09:20:12.581Z"
   },
   {
    "duration": 55,
    "start_time": "2023-08-09T09:23:13.598Z"
   },
   {
    "duration": 56,
    "start_time": "2023-08-09T09:23:48.600Z"
   },
   {
    "duration": 57,
    "start_time": "2023-08-09T09:24:35.063Z"
   },
   {
    "duration": 56,
    "start_time": "2023-08-09T09:24:40.576Z"
   },
   {
    "duration": 56,
    "start_time": "2023-08-09T09:25:21.792Z"
   },
   {
    "duration": 59,
    "start_time": "2023-08-09T09:25:42.303Z"
   },
   {
    "duration": 59,
    "start_time": "2023-08-09T09:25:58.856Z"
   },
   {
    "duration": 56,
    "start_time": "2023-08-09T09:26:10.807Z"
   },
   {
    "duration": 57,
    "start_time": "2023-08-09T09:26:54.000Z"
   },
   {
    "duration": 59,
    "start_time": "2023-08-09T09:27:38.960Z"
   },
   {
    "duration": 59,
    "start_time": "2023-08-09T09:28:27.173Z"
   },
   {
    "duration": 60,
    "start_time": "2023-08-09T09:28:38.963Z"
   },
   {
    "duration": 62,
    "start_time": "2023-08-09T09:28:48.945Z"
   },
   {
    "duration": 62,
    "start_time": "2023-08-09T09:29:08.760Z"
   },
   {
    "duration": 66,
    "start_time": "2023-08-09T09:30:42.178Z"
   },
   {
    "duration": 60,
    "start_time": "2023-08-09T09:32:20.073Z"
   },
   {
    "duration": 58,
    "start_time": "2023-08-09T09:33:14.682Z"
   },
   {
    "duration": 58,
    "start_time": "2023-08-09T09:34:00.442Z"
   },
   {
    "duration": 57,
    "start_time": "2023-08-09T09:34:11.939Z"
   },
   {
    "duration": 58,
    "start_time": "2023-08-09T09:34:26.316Z"
   },
   {
    "duration": 57,
    "start_time": "2023-08-09T09:34:37.218Z"
   },
   {
    "duration": 11,
    "start_time": "2023-08-09T09:41:07.603Z"
   },
   {
    "duration": 4,
    "start_time": "2023-08-09T09:41:32.229Z"
   },
   {
    "duration": 226,
    "start_time": "2023-08-09T09:43:47.982Z"
   },
   {
    "duration": 229,
    "start_time": "2023-08-09T09:43:55.182Z"
   },
   {
    "duration": 71,
    "start_time": "2023-08-09T09:44:25.663Z"
   },
   {
    "duration": 88,
    "start_time": "2023-08-09T09:44:37.130Z"
   },
   {
    "duration": 58,
    "start_time": "2023-08-09T09:44:43.304Z"
   },
   {
    "duration": 431,
    "start_time": "2023-08-09T09:44:49.670Z"
   },
   {
    "duration": 239,
    "start_time": "2023-08-09T09:45:34.774Z"
   },
   {
    "duration": 251,
    "start_time": "2023-08-09T09:45:57.941Z"
   },
   {
    "duration": 248,
    "start_time": "2023-08-09T09:46:24.399Z"
   },
   {
    "duration": 249,
    "start_time": "2023-08-09T09:46:40.206Z"
   },
   {
    "duration": 4,
    "start_time": "2023-08-09T09:48:46.612Z"
   },
   {
    "duration": 138,
    "start_time": "2023-08-09T09:48:46.618Z"
   },
   {
    "duration": 286,
    "start_time": "2023-08-09T09:48:46.759Z"
   },
   {
    "duration": 124,
    "start_time": "2023-08-09T09:48:47.047Z"
   },
   {
    "duration": 51,
    "start_time": "2023-08-09T09:48:47.175Z"
   },
   {
    "duration": 52,
    "start_time": "2023-08-09T09:48:47.228Z"
   },
   {
    "duration": 55,
    "start_time": "2023-08-09T09:48:47.282Z"
   },
   {
    "duration": 284,
    "start_time": "2023-08-09T09:48:47.340Z"
   },
   {
    "duration": 52,
    "start_time": "2023-08-09T09:48:47.626Z"
   },
   {
    "duration": 76,
    "start_time": "2023-08-09T09:48:47.680Z"
   },
   {
    "duration": 92,
    "start_time": "2023-08-09T09:48:47.758Z"
   },
   {
    "duration": 53,
    "start_time": "2023-08-09T09:48:47.852Z"
   },
   {
    "duration": 66,
    "start_time": "2023-08-09T09:48:47.906Z"
   },
   {
    "duration": 76,
    "start_time": "2023-08-09T09:48:47.973Z"
   },
   {
    "duration": 60,
    "start_time": "2023-08-09T09:48:48.052Z"
   },
   {
    "duration": 98,
    "start_time": "2023-08-09T09:48:48.114Z"
   },
   {
    "duration": 53,
    "start_time": "2023-08-09T09:57:53.634Z"
   },
   {
    "duration": 50,
    "start_time": "2023-08-09T09:58:03.496Z"
   },
   {
    "duration": 102,
    "start_time": "2023-08-09T10:00:30.543Z"
   },
   {
    "duration": 79,
    "start_time": "2023-08-09T10:02:20.523Z"
   },
   {
    "duration": 83,
    "start_time": "2023-08-09T10:02:33.262Z"
   },
   {
    "duration": 127,
    "start_time": "2023-08-09T10:02:52.274Z"
   },
   {
    "duration": 57,
    "start_time": "2023-08-09T10:03:10.579Z"
   },
   {
    "duration": 71,
    "start_time": "2023-08-09T10:05:51.172Z"
   },
   {
    "duration": 69,
    "start_time": "2023-08-09T10:06:07.037Z"
   },
   {
    "duration": 135,
    "start_time": "2023-08-09T10:06:15.805Z"
   },
   {
    "duration": 54,
    "start_time": "2023-08-09T10:06:28.052Z"
   },
   {
    "duration": 53,
    "start_time": "2023-08-09T10:06:41.630Z"
   },
   {
    "duration": 56,
    "start_time": "2023-08-09T10:06:53.329Z"
   },
   {
    "duration": 89,
    "start_time": "2023-08-09T10:07:25.564Z"
   },
   {
    "duration": 54,
    "start_time": "2023-08-09T10:07:41.718Z"
   },
   {
    "duration": 75,
    "start_time": "2023-08-09T10:09:43.081Z"
   },
   {
    "duration": 79,
    "start_time": "2023-08-09T10:10:20.006Z"
   },
   {
    "duration": 237,
    "start_time": "2023-08-09T10:10:55.136Z"
   },
   {
    "duration": 549,
    "start_time": "2023-08-09T11:37:26.955Z"
   },
   {
    "duration": 13311,
    "start_time": "2023-08-09T11:37:27.506Z"
   },
   {
    "duration": 64,
    "start_time": "2023-08-09T11:37:40.819Z"
   },
   {
    "duration": 70,
    "start_time": "2023-08-09T11:37:40.884Z"
   },
   {
    "duration": 10,
    "start_time": "2023-08-09T11:37:40.957Z"
   },
   {
    "duration": 17,
    "start_time": "2023-08-09T11:37:40.969Z"
   },
   {
    "duration": 13,
    "start_time": "2023-08-09T11:37:40.988Z"
   },
   {
    "duration": 49,
    "start_time": "2023-08-09T11:37:41.003Z"
   },
   {
    "duration": 22,
    "start_time": "2023-08-09T11:37:41.053Z"
   },
   {
    "duration": 26,
    "start_time": "2023-08-09T11:37:41.076Z"
   },
   {
    "duration": 31,
    "start_time": "2023-08-09T11:37:41.104Z"
   },
   {
    "duration": 12,
    "start_time": "2023-08-09T11:37:41.137Z"
   },
   {
    "duration": 11,
    "start_time": "2023-08-09T11:37:41.151Z"
   },
   {
    "duration": 15,
    "start_time": "2023-08-09T11:37:41.169Z"
   },
   {
    "duration": 17,
    "start_time": "2023-08-09T11:37:41.185Z"
   },
   {
    "duration": 15,
    "start_time": "2023-08-09T11:37:41.204Z"
   },
   {
    "duration": 28,
    "start_time": "2023-08-09T11:39:28.123Z"
   },
   {
    "duration": 28,
    "start_time": "2023-08-09T11:39:47.036Z"
   },
   {
    "duration": 28,
    "start_time": "2023-08-09T11:40:20.102Z"
   },
   {
    "duration": 40,
    "start_time": "2023-08-09T11:40:57.936Z"
   },
   {
    "duration": 35,
    "start_time": "2023-08-09T11:41:13.179Z"
   },
   {
    "duration": 50,
    "start_time": "2023-08-09T11:41:38.448Z"
   },
   {
    "duration": 34,
    "start_time": "2023-08-09T11:41:52.241Z"
   },
   {
    "duration": 27,
    "start_time": "2023-08-09T11:42:21.489Z"
   },
   {
    "duration": 30,
    "start_time": "2023-08-09T11:42:42.273Z"
   },
   {
    "duration": 29,
    "start_time": "2023-08-09T11:42:51.793Z"
   },
   {
    "duration": 28,
    "start_time": "2023-08-09T11:43:19.793Z"
   },
   {
    "duration": 25,
    "start_time": "2023-08-09T11:43:33.786Z"
   },
   {
    "duration": 31,
    "start_time": "2023-08-09T11:43:57.523Z"
   },
   {
    "duration": 88,
    "start_time": "2023-08-09T11:44:16.068Z"
   },
   {
    "duration": 15,
    "start_time": "2023-08-09T11:44:35.770Z"
   },
   {
    "duration": 43,
    "start_time": "2023-08-09T11:44:49.258Z"
   },
   {
    "duration": 21,
    "start_time": "2023-08-09T11:44:59.796Z"
   },
   {
    "duration": 15,
    "start_time": "2023-08-09T11:45:48.516Z"
   },
   {
    "duration": 25,
    "start_time": "2023-08-09T11:46:50.491Z"
   },
   {
    "duration": 13,
    "start_time": "2023-08-09T11:47:34.981Z"
   },
   {
    "duration": 131,
    "start_time": "2023-08-09T11:47:47.082Z"
   },
   {
    "duration": 31,
    "start_time": "2023-08-09T11:48:11.602Z"
   },
   {
    "duration": 16,
    "start_time": "2023-08-09T11:49:03.549Z"
   },
   {
    "duration": 26,
    "start_time": "2023-08-09T11:49:53.584Z"
   },
   {
    "duration": 20,
    "start_time": "2023-08-09T11:50:38.509Z"
   },
   {
    "duration": 19,
    "start_time": "2023-08-09T11:51:13.135Z"
   },
   {
    "duration": 17,
    "start_time": "2023-08-09T11:51:36.975Z"
   },
   {
    "duration": 17,
    "start_time": "2023-08-09T11:52:01.557Z"
   },
   {
    "duration": 27,
    "start_time": "2023-08-09T11:52:31.672Z"
   },
   {
    "duration": 15,
    "start_time": "2023-08-09T11:52:46.621Z"
   },
   {
    "duration": 18,
    "start_time": "2023-08-09T11:52:53.813Z"
   },
   {
    "duration": 22,
    "start_time": "2023-08-09T11:53:02.276Z"
   },
   {
    "duration": 17,
    "start_time": "2023-08-09T11:53:14.254Z"
   },
   {
    "duration": 17,
    "start_time": "2023-08-09T11:53:19.244Z"
   },
   {
    "duration": 23,
    "start_time": "2023-08-09T11:57:22.534Z"
   },
   {
    "duration": 22,
    "start_time": "2023-08-09T11:59:41.368Z"
   },
   {
    "duration": 24,
    "start_time": "2023-08-09T12:00:04.488Z"
   },
   {
    "duration": 26,
    "start_time": "2023-08-09T12:00:21.169Z"
   },
   {
    "duration": 23,
    "start_time": "2023-08-09T12:00:59.358Z"
   },
   {
    "duration": 23,
    "start_time": "2023-08-09T12:01:10.225Z"
   },
   {
    "duration": 28,
    "start_time": "2023-08-09T12:02:20.664Z"
   },
   {
    "duration": 27,
    "start_time": "2023-08-09T12:03:09.560Z"
   },
   {
    "duration": 23,
    "start_time": "2023-08-09T12:07:17.018Z"
   },
   {
    "duration": 23,
    "start_time": "2023-08-09T12:07:21.208Z"
   },
   {
    "duration": 51,
    "start_time": "2023-08-09T12:07:29.347Z"
   },
   {
    "duration": 62,
    "start_time": "2023-08-09T12:07:36.490Z"
   },
   {
    "duration": 93,
    "start_time": "2023-08-09T12:08:35.858Z"
   },
   {
    "duration": 14,
    "start_time": "2023-08-09T12:08:45.426Z"
   },
   {
    "duration": 24,
    "start_time": "2023-08-09T12:10:14.996Z"
   },
   {
    "duration": 20,
    "start_time": "2023-08-09T12:10:22.275Z"
   },
   {
    "duration": 17,
    "start_time": "2023-08-09T12:10:35.644Z"
   },
   {
    "duration": 16,
    "start_time": "2023-08-09T12:11:06.779Z"
   },
   {
    "duration": 16,
    "start_time": "2023-08-09T12:11:20.948Z"
   },
   {
    "duration": 19,
    "start_time": "2023-08-09T12:11:54.606Z"
   },
   {
    "duration": 24,
    "start_time": "2023-08-09T12:19:13.719Z"
   },
   {
    "duration": 21,
    "start_time": "2023-08-09T12:19:29.097Z"
   },
   {
    "duration": 23,
    "start_time": "2023-08-09T12:20:28.464Z"
   },
   {
    "duration": 16,
    "start_time": "2023-08-09T12:21:09.503Z"
   },
   {
    "duration": 16,
    "start_time": "2023-08-09T12:22:23.335Z"
   },
   {
    "duration": 17,
    "start_time": "2023-08-09T12:23:03.520Z"
   },
   {
    "duration": 22,
    "start_time": "2023-08-09T12:24:07.722Z"
   },
   {
    "duration": 17,
    "start_time": "2023-08-09T12:24:17.057Z"
   },
   {
    "duration": 57,
    "start_time": "2023-08-09T12:24:53.385Z"
   },
   {
    "duration": 16,
    "start_time": "2023-08-09T12:25:15.552Z"
   },
   {
    "duration": 21,
    "start_time": "2023-08-09T12:25:42.985Z"
   },
   {
    "duration": 17,
    "start_time": "2023-08-09T12:26:20.473Z"
   },
   {
    "duration": 16,
    "start_time": "2023-08-09T12:26:46.679Z"
   },
   {
    "duration": 15,
    "start_time": "2023-08-09T12:26:57.577Z"
   },
   {
    "duration": 25,
    "start_time": "2023-08-09T12:28:36.265Z"
   },
   {
    "duration": 4,
    "start_time": "2023-08-09T12:30:36.045Z"
   },
   {
    "duration": 3,
    "start_time": "2023-08-09T12:30:48.699Z"
   },
   {
    "duration": 21,
    "start_time": "2023-08-09T12:30:57.915Z"
   },
   {
    "duration": 3,
    "start_time": "2023-08-09T12:31:37.954Z"
   },
   {
    "duration": 15,
    "start_time": "2023-08-09T12:31:37.959Z"
   },
   {
    "duration": 78,
    "start_time": "2023-08-09T12:31:37.976Z"
   },
   {
    "duration": 46,
    "start_time": "2023-08-09T12:31:38.056Z"
   },
   {
    "duration": 11,
    "start_time": "2023-08-09T12:31:38.104Z"
   },
   {
    "duration": 16,
    "start_time": "2023-08-09T12:31:38.117Z"
   },
   {
    "duration": 19,
    "start_time": "2023-08-09T12:31:38.134Z"
   },
   {
    "duration": 46,
    "start_time": "2023-08-09T12:31:38.155Z"
   },
   {
    "duration": 12,
    "start_time": "2023-08-09T12:31:38.202Z"
   },
   {
    "duration": 34,
    "start_time": "2023-08-09T12:31:38.216Z"
   },
   {
    "duration": 25,
    "start_time": "2023-08-09T12:31:38.251Z"
   },
   {
    "duration": 11,
    "start_time": "2023-08-09T12:31:38.278Z"
   },
   {
    "duration": 13,
    "start_time": "2023-08-09T12:31:38.291Z"
   },
   {
    "duration": 31,
    "start_time": "2023-08-09T12:31:38.307Z"
   },
   {
    "duration": 21,
    "start_time": "2023-08-09T12:31:38.340Z"
   },
   {
    "duration": 20,
    "start_time": "2023-08-09T12:31:38.363Z"
   },
   {
    "duration": 544,
    "start_time": "2023-08-10T07:29:46.473Z"
   },
   {
    "duration": 13476,
    "start_time": "2023-08-10T07:29:47.019Z"
   },
   {
    "duration": 247,
    "start_time": "2023-08-10T07:30:00.497Z"
   },
   {
    "duration": 161,
    "start_time": "2023-08-10T07:30:00.746Z"
   },
   {
    "duration": 56,
    "start_time": "2023-08-10T07:30:00.909Z"
   },
   {
    "duration": 56,
    "start_time": "2023-08-10T07:30:00.966Z"
   },
   {
    "duration": 77,
    "start_time": "2023-08-10T07:30:01.024Z"
   },
   {
    "duration": 269,
    "start_time": "2023-08-10T07:30:01.104Z"
   },
   {
    "duration": 59,
    "start_time": "2023-08-10T07:30:01.374Z"
   },
   {
    "duration": 200,
    "start_time": "2023-08-10T07:30:01.435Z"
   },
   {
    "duration": 99,
    "start_time": "2023-08-10T07:30:01.637Z"
   },
   {
    "duration": 61,
    "start_time": "2023-08-10T07:30:01.738Z"
   },
   {
    "duration": 56,
    "start_time": "2023-08-10T07:30:01.801Z"
   },
   {
    "duration": 115,
    "start_time": "2023-08-10T07:30:01.860Z"
   },
   {
    "duration": 74,
    "start_time": "2023-08-10T07:30:01.977Z"
   },
   {
    "duration": 109,
    "start_time": "2023-08-10T07:30:02.054Z"
   },
   {
    "duration": 144,
    "start_time": "2023-08-10T07:30:51.042Z"
   },
   {
    "duration": 536,
    "start_time": "2023-08-10T07:30:58.540Z"
   },
   {
    "duration": 11810,
    "start_time": "2023-08-10T07:30:59.078Z"
   },
   {
    "duration": 243,
    "start_time": "2023-08-10T07:31:10.890Z"
   },
   {
    "duration": 175,
    "start_time": "2023-08-10T07:31:11.135Z"
   },
   {
    "duration": 56,
    "start_time": "2023-08-10T07:31:11.314Z"
   },
   {
    "duration": 56,
    "start_time": "2023-08-10T07:31:11.372Z"
   },
   {
    "duration": 57,
    "start_time": "2023-08-10T07:31:11.430Z"
   },
   {
    "duration": 270,
    "start_time": "2023-08-10T07:31:11.489Z"
   },
   {
    "duration": 54,
    "start_time": "2023-08-10T07:31:11.761Z"
   },
   {
    "duration": 87,
    "start_time": "2023-08-10T07:31:11.817Z"
   },
   {
    "duration": 57,
    "start_time": "2023-08-10T07:31:11.906Z"
   },
   {
    "duration": 61,
    "start_time": "2023-08-10T07:31:11.965Z"
   },
   {
    "duration": 59,
    "start_time": "2023-08-10T07:31:12.028Z"
   },
   {
    "duration": 534,
    "start_time": "2023-08-10T13:26:07.070Z"
   },
   {
    "duration": 12865,
    "start_time": "2023-08-10T13:26:07.606Z"
   },
   {
    "duration": 62,
    "start_time": "2023-08-10T13:26:20.473Z"
   },
   {
    "duration": 34,
    "start_time": "2023-08-10T13:26:20.537Z"
   },
   {
    "duration": 12,
    "start_time": "2023-08-10T13:26:20.573Z"
   },
   {
    "duration": 48,
    "start_time": "2023-08-10T13:26:20.586Z"
   },
   {
    "duration": 12,
    "start_time": "2023-08-10T13:26:20.635Z"
   },
   {
    "duration": 67,
    "start_time": "2023-08-10T13:26:20.648Z"
   },
   {
    "duration": 10,
    "start_time": "2023-08-10T13:26:20.717Z"
   },
   {
    "duration": 44,
    "start_time": "2023-08-10T13:26:20.729Z"
   },
   {
    "duration": 12,
    "start_time": "2023-08-10T13:26:20.775Z"
   },
   {
    "duration": 22,
    "start_time": "2023-08-10T13:26:20.789Z"
   },
   {
    "duration": 35,
    "start_time": "2023-08-10T13:26:20.813Z"
   }
  ],
  "kernelspec": {
   "display_name": "Python 3 (ipykernel)",
   "language": "python",
   "name": "python3"
  },
  "language_info": {
   "codemirror_mode": {
    "name": "ipython",
    "version": 3
   },
   "file_extension": ".py",
   "mimetype": "text/x-python",
   "name": "python",
   "nbconvert_exporter": "python",
   "pygments_lexer": "ipython3",
   "version": "3.10.9"
  },
  "toc": {
   "base_numbering": 1,
   "nav_menu": {},
   "number_sections": true,
   "sideBar": true,
   "skip_h1_title": true,
   "title_cell": "Table of Contents",
   "title_sidebar": "Contents",
   "toc_cell": false,
   "toc_position": {},
   "toc_section_display": true,
   "toc_window_display": false
  }
 },
 "nbformat": 4,
 "nbformat_minor": 2
}
