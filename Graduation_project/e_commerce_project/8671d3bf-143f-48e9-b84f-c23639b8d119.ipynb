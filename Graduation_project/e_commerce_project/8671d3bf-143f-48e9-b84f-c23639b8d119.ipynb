{
 "cells": [
  {
   "cell_type": "markdown",
   "metadata": {},
   "source": [
    "# Выявление профилей потребления\n",
    "\n",
    "Менеджеры продукта, отвечающие за пользовательский опыт, интернет-магазина товаров для дома и быта «Пока все ещё тут» наняли аналитика для сегментирования их покупателей по профилю потребления. Необходимо провести исследовательский анализ данных для разработки персонализированных предложений для покупателей интернет-магазина. Для этого необходимо проанализировать их покупки и сегментировать покупателей на основе их заказов. \n",
    "\n",
    "Для проверки  аналитик **сформировал гипотезу**, что приоритетный сегмент покупателей - который совершает частые покупки, а не сегмент покупателей с дорогими покупками. На первый сегмент необходимо обратить наибольшее внимания для увеличения выручки интернет-магазина.\\\n",
    "**Вторая гипотеза**, что выделенные сегменты покупателей статистически отличаются друг от друга и сегментация выполнена корректно.\\\n",
    "Необходимо проверить гипотезы и проанализировать результаты. \n",
    "\n",
    "По итогам исследования необходимо подготовить **презентацию и дашборд**.\\\n",
    "На дашборде будет отображена следующая информация (набор №2):\n",
    "1. Диаграмма, отображающая сумму покупок по дням.\n",
    "2. Гистограмма, отображающая распределение заказов по сумме.\n",
    "3. Необходимо добавить фильтр дашборда по дате совершения покупки."
   ]
  },
  {
   "cell_type": "markdown",
   "metadata": {},
   "source": [
    "**Оглавление**\n",
    "1. [Открытие и изучение данных](#start)\n",
    "2. [Предобработка данных](#preprocessing)\n",
    "    * [Обработка дубликатов](#duplicates)\n",
    "    * [Проверка на аномальные значений](#abnormal)\n",
    "    * [Изменение типа данных времени](#data_type)\n",
    "    * [Добавление столбцов:](#columns) \n",
    "       * [Выручка по позиции](#columns1)\n",
    "       * [Категоризация товара](#columns2)\n",
    "       * [Время, день, месяц покупки](#columns3)\n",
    "3. [Анализ данных](#analysis)\n",
    "    * [Данные за какой период исследования представлены](#analysis1)\n",
    "    * [Количество покупателей интернет-магазина](#analysis2)\n",
    "    * [Количество заказов в интернет-магазине](#analysis3)\n",
    "    * [Количество продаж](#analysis4)\n",
    "       * [По времени суток](#analysis4_1)\n",
    "       * [По дню недели](#analysis4_2)\n",
    "       * [По месяцам](#canalysis4_3)\n",
    "4. [Детализация исследования: сегментация покупателей](#detailed)\n",
    "    * [Лучшие покупатели по всем показателям](#detailed1)\n",
    "    * [Покупатели на пороге оттока](#detailed2)\n",
    "    * [Разовые покупатели](#detailed3)\n",
    "    * [Постоянные покупатели](#detailed4)\n",
    "5. [Формулировка и проверка гипотез](#hypotheses)\n",
    "    * [Средняя выручка на покупателя с высокой денежной ценностью различается с остальными покупателями](#hypotheses1)\n",
    "    * [Средняя частота заказов на покупателя на покупателя с высоким количеством заказов различается с остальными покупателями](#hypotheses2)\n",
    "6. [Вывод](#conclusions)"
   ]
  },
  {
   "cell_type": "markdown",
   "metadata": {},
   "source": [
    "## Открытие и изучение данных\n",
    "<a id=\"start\"></a> "
   ]
  },
  {
   "cell_type": "code",
   "execution_count": 1,
   "metadata": {},
   "outputs": [],
   "source": [
    "#импортируем библиотеку pandas, matplotlib, datetime, seaborn, numpy, scipy.stats, math, scipy, graph_objects, plotly\n",
    "import pandas as pd\n",
    "import plotly.express as px\n",
    "from plotly import graph_objects as go\n",
    "from datetime import datetime, timedelta\n",
    "import scipy.stats as stats\n",
    "import seaborn as sns\n",
    "import numpy as np\n",
    "import math as mth\n",
    "from scipy import stats as st\n",
    "from matplotlib import pyplot as plt\n",
    "from folium import Marker, Map, Choropleth\n",
    "from folium.plugins import MarkerCluster\n",
    "import json\n",
    "%matplotlib inline"
   ]
  },
  {
   "cell_type": "code",
   "execution_count": 2,
   "metadata": {},
   "outputs": [],
   "source": [
    "#укажем два пути к файлу в случае ошибки \n",
    "try:\n",
    "    data = pd.read_csv('/ecom_dataset_upd.csv') \n",
    "except:\n",
    "    google_id = \"1DkqEQWZoHh22YrsYcNUxSzlhgFqdl0tf\"\n",
    "    data = pd.read_csv(f\"https://drive.google.com/uc?export=download&id={google_id}\" )    "
   ]
  },
  {
   "cell_type": "code",
   "execution_count": 3,
   "metadata": {},
   "outputs": [],
   "source": [
    "#  отображение всех столбцов полностью\n",
    "pd.set_option('display.max_colwidth', 0)"
   ]
  },
  {
   "cell_type": "code",
   "execution_count": 4,
   "metadata": {},
   "outputs": [
    {
     "data": {
      "text/html": [
       "<div>\n",
       "<style scoped>\n",
       "    .dataframe tbody tr th:only-of-type {\n",
       "        vertical-align: middle;\n",
       "    }\n",
       "\n",
       "    .dataframe tbody tr th {\n",
       "        vertical-align: top;\n",
       "    }\n",
       "\n",
       "    .dataframe thead th {\n",
       "        text-align: right;\n",
       "    }\n",
       "</style>\n",
       "<table border=\"1\" class=\"dataframe\">\n",
       "  <thead>\n",
       "    <tr style=\"text-align: right;\">\n",
       "      <th></th>\n",
       "      <th>date</th>\n",
       "      <th>customer_id</th>\n",
       "      <th>order_id</th>\n",
       "      <th>product</th>\n",
       "      <th>quantity</th>\n",
       "      <th>price</th>\n",
       "    </tr>\n",
       "  </thead>\n",
       "  <tbody>\n",
       "    <tr>\n",
       "      <th>0</th>\n",
       "      <td>2018100100</td>\n",
       "      <td>ee47d746-6d2f-4d3c-9622-c31412542920</td>\n",
       "      <td>68477</td>\n",
       "      <td>Комнатное растение в горшке Алое Вера, d12, h30</td>\n",
       "      <td>1</td>\n",
       "      <td>142.0</td>\n",
       "    </tr>\n",
       "    <tr>\n",
       "      <th>1</th>\n",
       "      <td>2018100100</td>\n",
       "      <td>ee47d746-6d2f-4d3c-9622-c31412542920</td>\n",
       "      <td>68477</td>\n",
       "      <td>Комнатное растение в горшке Кофе Арабика, d12, h25</td>\n",
       "      <td>1</td>\n",
       "      <td>194.0</td>\n",
       "    </tr>\n",
       "    <tr>\n",
       "      <th>2</th>\n",
       "      <td>2018100100</td>\n",
       "      <td>ee47d746-6d2f-4d3c-9622-c31412542920</td>\n",
       "      <td>68477</td>\n",
       "      <td>Радермахера d-12 см h-20 см</td>\n",
       "      <td>1</td>\n",
       "      <td>112.0</td>\n",
       "    </tr>\n",
       "    <tr>\n",
       "      <th>3</th>\n",
       "      <td>2018100100</td>\n",
       "      <td>ee47d746-6d2f-4d3c-9622-c31412542920</td>\n",
       "      <td>68477</td>\n",
       "      <td>Хризолидокарпус Лутесценс d-9 см</td>\n",
       "      <td>1</td>\n",
       "      <td>179.0</td>\n",
       "    </tr>\n",
       "    <tr>\n",
       "      <th>4</th>\n",
       "      <td>2018100100</td>\n",
       "      <td>ee47d746-6d2f-4d3c-9622-c31412542920</td>\n",
       "      <td>68477</td>\n",
       "      <td>Циперус Зумула d-12 см h-25 см</td>\n",
       "      <td>1</td>\n",
       "      <td>112.0</td>\n",
       "    </tr>\n",
       "  </tbody>\n",
       "</table>\n",
       "</div>"
      ],
      "text/plain": [
       "         date                           customer_id  order_id  \\\n",
       "0  2018100100  ee47d746-6d2f-4d3c-9622-c31412542920  68477      \n",
       "1  2018100100  ee47d746-6d2f-4d3c-9622-c31412542920  68477      \n",
       "2  2018100100  ee47d746-6d2f-4d3c-9622-c31412542920  68477      \n",
       "3  2018100100  ee47d746-6d2f-4d3c-9622-c31412542920  68477      \n",
       "4  2018100100  ee47d746-6d2f-4d3c-9622-c31412542920  68477      \n",
       "\n",
       "                                              product  quantity  price  \n",
       "0  Комнатное растение в горшке Алое Вера, d12, h30     1         142.0  \n",
       "1  Комнатное растение в горшке Кофе Арабика, d12, h25  1         194.0  \n",
       "2  Радермахера d-12 см h-20 см                         1         112.0  \n",
       "3  Хризолидокарпус Лутесценс d-9 см                    1         179.0  \n",
       "4  Циперус Зумула d-12 см h-25 см                      1         112.0  "
      ]
     },
     "execution_count": 4,
     "metadata": {},
     "output_type": "execute_result"
    }
   ],
   "source": [
    "#выведем первые 5 строчек датасета на экран \n",
    "data.head()"
   ]
  },
  {
   "cell_type": "markdown",
   "metadata": {},
   "source": [
    "В датасете представлена информация о покупках из интернет-магазина товаров для дома и быта «Пока все ещё тут», отображающая дату заказа, идентификатор покупателя, идентификатор заказа, наименование товара, количество товара в заказе и цену товара."
   ]
  },
  {
   "cell_type": "code",
   "execution_count": 5,
   "metadata": {},
   "outputs": [
    {
     "name": "stdout",
     "output_type": "stream",
     "text": [
      "<class 'pandas.core.frame.DataFrame'>\n",
      "RangeIndex: 7474 entries, 0 to 7473\n",
      "Data columns (total 6 columns):\n",
      " #   Column       Non-Null Count  Dtype  \n",
      "---  ------       --------------  -----  \n",
      " 0   date         7474 non-null   int64  \n",
      " 1   customer_id  7474 non-null   object \n",
      " 2   order_id     7474 non-null   int64  \n",
      " 3   product      7474 non-null   object \n",
      " 4   quantity     7474 non-null   int64  \n",
      " 5   price        7474 non-null   float64\n",
      "dtypes: float64(1), int64(3), object(2)\n",
      "memory usage: 350.5+ KB\n"
     ]
    }
   ],
   "source": [
    "#выведем основную информацию с помощью метода info()\n",
    "data.info() "
   ]
  },
  {
   "cell_type": "markdown",
   "metadata": {},
   "source": [
    "В датасете представлено 7474 транзакций.\\\n",
    "В датасете нет пропусков, названия столбцов соответствуют стилю.\\\n",
    "Тип данных необходимо изменить только в столбце дата заказа. Все остальные типы данных в столбцах соответствуют информации в них."
   ]
  },
  {
   "cell_type": "markdown",
   "metadata": {},
   "source": [
    "## Предобработка данных\n",
    "<a id=\"preprocessing\"></a> "
   ]
  },
  {
   "cell_type": "markdown",
   "metadata": {},
   "source": [
    "### Обработка дубликатов\n",
    "<a id=\"duplicates\"></a> "
   ]
  },
  {
   "cell_type": "code",
   "execution_count": 6,
   "metadata": {},
   "outputs": [],
   "source": [
    "# сделаем все наименования товаров строчными\n",
    "data['product'] = data['product'].str.lower()\n",
    "# поменяем в наименованиях товаров букву 'ё' на 'е'\n",
    "data['product'] = data['product'].replace('ё', 'е')"
   ]
  },
  {
   "cell_type": "code",
   "execution_count": 7,
   "metadata": {},
   "outputs": [
    {
     "data": {
      "text/plain": [
       "0"
      ]
     },
     "execution_count": 7,
     "metadata": {},
     "output_type": "execute_result"
    }
   ],
   "source": [
    "# поищем количество одинаковых строк\n",
    "data.duplicated().sum()"
   ]
  },
  {
   "cell_type": "markdown",
   "metadata": {},
   "source": [
    "Явных дубликатов в датафрейме нет."
   ]
  },
  {
   "cell_type": "markdown",
   "metadata": {},
   "source": [
    "### Проверка на аномальные значений \n",
    "<a id=\"abnormal\"></a> \n",
    "\n",
    "- Проверим значения на аномальность, чтобы заказ `order_id` выполнялся одним уникальным пользователем `customer_id`."
   ]
  },
  {
   "cell_type": "code",
   "execution_count": 8,
   "metadata": {},
   "outputs": [],
   "source": [
    "# создадим список error_customer_id с номерами заказов, в котором у одного заказа несколько покупателей\n",
    "error_customer_id = data.groupby('order_id', as_index=False)['customer_id'].nunique()\\\n",
    "    .query('customer_id > 1')['order_id'].tolist()"
   ]
  },
  {
   "cell_type": "code",
   "execution_count": 9,
   "metadata": {},
   "outputs": [
    {
     "data": {
      "text/plain": [
       "'Число уникальных заказов с разными пользователями - 1.2%'"
      ]
     },
     "execution_count": 9,
     "metadata": {},
     "output_type": "execute_result"
    }
   ],
   "source": [
    "error_с = (data.shape[0] - data.query('order_id not in @error_customer_id').shape[0]) / data.shape[0]\n",
    "'Число уникальных заказов с разными пользователями - {0:.1%}'.format(error_с)"
   ]
  },
  {
   "cell_type": "code",
   "execution_count": 10,
   "metadata": {},
   "outputs": [],
   "source": [
    "# удалим из датафрейма заказы с несколькими покупателями, их количество около 1% датасета\n",
    "data = data.query('order_id not in @error_customer_id')"
   ]
  },
  {
   "cell_type": "markdown",
   "metadata": {},
   "source": [
    "- Вторая проверка на аномальные значение - чтобы заказ `order_id` выполнялся в одну дату `date`."
   ]
  },
  {
   "cell_type": "code",
   "execution_count": 11,
   "metadata": {},
   "outputs": [],
   "source": [
    "# создадим список error_date с номерами заказов, в котором у одного заказа несколько дат покупок\n",
    "error_date = data.groupby('order_id', as_index=False)['date'].nunique()\\\n",
    "    .query('date > 1')['order_id'].tolist()"
   ]
  },
  {
   "cell_type": "code",
   "execution_count": 12,
   "metadata": {},
   "outputs": [
    {
     "data": {
      "text/plain": [
       "'Число уникальных заказов с разными датами - 32.3%'"
      ]
     },
     "execution_count": 12,
     "metadata": {},
     "output_type": "execute_result"
    }
   ],
   "source": [
    "error_d = (data.shape[0] - data.query('order_id not in @error_date').shape[0]) / data.shape[0]\n",
    "'Число уникальных заказов с разными датами - {0:.1%}'.format(error_d)"
   ]
  },
  {
   "cell_type": "markdown",
   "metadata": {},
   "source": [
    "Практически треть датасета содержит аномальные значения. Здесь возможно два варианта:\n",
    "- это ошибка выгрузки, значения действительно неверны, но проверить наверняка мы не можем, как и удалить эти значения из-за большого количества.\n",
    "- другой вариант, что это разные заказы, но под одним номером (ошибочно не были присвоены новые номера), а покупатели, совершающие их - постоянные покупатели, в разные даты совершающие одни и те же покупки.\\\n",
    "Без уточнения у заказчика я склоняюсь ко второму варианту."
   ]
  },
  {
   "cell_type": "markdown",
   "metadata": {},
   "source": [
    "### Изменение типа данных времени\n",
    "<a id=\"data_type\"></a> "
   ]
  },
  {
   "cell_type": "code",
   "execution_count": 13,
   "metadata": {},
   "outputs": [],
   "source": [
    "# преобразуем данные о времени\n",
    "data['date'] = pd.to_datetime(data['date'], format='%Y%m%d%H')"
   ]
  },
  {
   "cell_type": "markdown",
   "metadata": {},
   "source": [
    "Преобразовали столбец `date` в формат даты и часа.\n",
    "\n",
    "### Добавление столбцов:\n",
    "<a id=\"columns\"></a> \n",
    "#### Сумма по транзакции\n",
    "<a id=\"columns1\"></a> "
   ]
  },
  {
   "cell_type": "code",
   "execution_count": 14,
   "metadata": {},
   "outputs": [],
   "source": [
    "# добавим столбец сумма по одной транзакции\n",
    "data['revenue'] = data['quantity'] * data['price']"
   ]
  },
  {
   "cell_type": "markdown",
   "metadata": {},
   "source": [
    "#### Категоризация товара\n",
    "<a id=\"columns2\"></a> \n",
    "\n",
    "Для понимания покупательской способности и предпочтений разделим товары на категории по их наименованию."
   ]
  },
  {
   "cell_type": "code",
   "execution_count": 15,
   "metadata": {},
   "outputs": [
    {
     "data": {
      "text/plain": [
       "рассада          1418\n",
       "пеларгония       818 \n",
       "сумка-тележка    358 \n",
       "сушилка          332 \n",
       "муляж            212 \n",
       "Name: 0, dtype: int64"
      ]
     },
     "execution_count": 15,
     "metadata": {},
     "output_type": "execute_result"
    }
   ],
   "source": [
    "# создадим таблицу product, разделив методом split наименование товара \n",
    "product = data['product'].str.split(' ', 10, expand=True)\n",
    "# отображение строки длиною в 100\n",
    "pd.set_option('max_rows', 100)\n",
    "# подсчитаем наиболее часто всречающиеся название товаров\n",
    "product[0].value_counts().head()"
   ]
  },
  {
   "cell_type": "code",
   "execution_count": 16,
   "metadata": {},
   "outputs": [],
   "source": [
    "# создадим словарь категорий товаров \n",
    "category_products = {'рассада':['рассада', 'томат', 'однолетн', 'арбуз', 'базилик', 'многолетн', 'огурец', 'клубника',\n",
    "                                'капуст', 'тимьян', 'мята', 'дыня', 'помидор', 'зелен', 'патиссон', 'садов', 'тыкв', 'яблок',\n",
    "                               'петрушка'],\n",
    "                    'комнатные растения и цветы':['пеларгония', 'петуния', 'цветок', 'фуксия', 'алиссум', 'камнеломка',\n",
    "                                                  'герань', 'калибрахоа', 'бакопа', 'тагетис', 'роза', 'вербена', 'космея',\n",
    "                                                 'портулак', 'бальзамин', 'газания', 'вербейник', 'колокольчик', 'комнатн',\n",
    "                                                 'гвоздика', 'виола', 'пуансеттия', 'антуриум', 'циперус', 'цикламен',\n",
    "                                                 'бегония', 'фиалка', 'эвкалипт', 'фуксия', 'декабрист', 'флокс', 'примула',\n",
    "                                                 'лобелия', 'кашпо', 'лаванда', 'эхеверия', 'калла', 'хлорофитум', \n",
    "                                                  'хризантема', 'настурция', 'барвинок', 'спатифиллум', 'мирт', 'лавр',\n",
    "                                                 'азалия', 'котовник', 'калатея', 'афеляндра', 'нивянник', 'дендробиум',\n",
    "                                                  'фаленопсис', 'розмарин', 'шеффлера', 'горш', 'цинния', 'седум',\n",
    "                                                 'гардения', 'чабер', 'незабудка', 'лапчатка'],\n",
    "                    'кухня':['кружка', 'тарелка', 'салатник', 'банка', 'нож', 'сковород', 'кастрюля', 'весы', \n",
    "                             'термокружка', 'чайник', 'доска', 'обед', 'крышк', 'выпечк', 'ложка', 'вилка', 'овсянница',\n",
    "                             'чайн', 'блюдо', 'хлебница', 'терка', 'овощеварка', 'фужер', 'кофе', 'миксер', 'блюдце',\n",
    "                            'миска', 'веник', 'емкость'],\n",
    "                    'декор':['штора', 'муляж', 'коврик', 'чехол', 'искусственн', 'ковер', 'салфетка', 'скатерть', 'новогодн',\n",
    "                             'декоративн', 'плед', 'покрывал', 'матрас'],\n",
    "                    'ванная комната':['сушилка', 'гладильн', 'таз', 'швабра', 'ёрш', 'щетка-сметка', 'термометр', 'щетка',\n",
    "                                      'ванн', 'мыло', 'полотенц', 'белья', 'зуб', 'тряпк'],\n",
    "                    'хранение':['вешал', 'корзина', 'полки', 'плечики', 'кофр', 'крючок', 'вешалка-плечики', 'контейнер'],\n",
    "                    'хозяйственные товары':['сумка-тележка', 'тележка', 'лестница-стремянка', 'стремянк', 'корыто',\n",
    "                                            'окномойка', 'подрукавник', 'перчатки', 'ведро', 'сумка', 'карниз', 'хозяйственн',\n",
    "                                           'багаж', 'подставк', 'ящик', 'стяжк', 'петл', 'вантуз']}"
   ]
  },
  {
   "cell_type": "code",
   "execution_count": 17,
   "metadata": {},
   "outputs": [],
   "source": [
    "# создадим функцию, которая будет принимать строку row\n",
    "def category(row):\n",
    "# с помощью метода split разделим строку на отдельные элементы\n",
    "    items = row.split(' ')\n",
    "# товар без категории обозначим 'без категории'   \n",
    "    category = 'без категории'\n",
    "    \n",
    "    for i in range(len(items)):\n",
    "        if category != 'без категории':\n",
    "            break\n",
    "        for key in category_products:\n",
    "            if category != 'без категории':\n",
    "                break\n",
    "            for k in range(len(category_products[key])):\n",
    "                item = items[i].strip()\n",
    "                temp = category_products[key][k]\n",
    "        \n",
    "                if temp in item:\n",
    "                    category = key\n",
    "                    break\n",
    "                  \n",
    "               \n",
    "    return category    "
   ]
  },
  {
   "cell_type": "code",
   "execution_count": 18,
   "metadata": {},
   "outputs": [],
   "source": [
    "# применим функцию к столбцу product\n",
    "data['category_products'] = data['product'].apply(category)"
   ]
  },
  {
   "cell_type": "code",
   "execution_count": 19,
   "metadata": {
    "scrolled": false
   },
   "outputs": [
    {
     "data": {
      "image/png": "[encoded data removed]",
      "text/plain": [
       "<Figure size 576x360 with 1 Axes>"
      ]
     },
     "metadata": {
      "needs_background": "light"
     },
     "output_type": "display_data"
    }
   ],
   "source": [
    "# подсчитаем количество наименований в каждой категории\n",
    "data.groupby('category_products')['category_products'].count().sort_values(ascending=True)\\\n",
    "    .plot(kind='bar', figsize=(8, 5), legend=False)\n",
    "plt.title('Категории товаров по наименованиям')\n",
    "plt.xlabel('Категории товаров')\n",
    "plt.ylabel('Количество наименований')\n",
    "plt.xticks(rotation=45)\n",
    "plt.show()"
   ]
  },
  {
   "cell_type": "markdown",
   "metadata": {},
   "source": [
    "В разрезе количества наименований по категориям большая часть покупаемых товаров представлена категориями `комнатные растения и цветы` и `рассада` - больше 2000 наименований."
   ]
  },
  {
   "cell_type": "markdown",
   "metadata": {},
   "source": [
    "#### Время, день, месяц покупки\n",
    "<a id=\"columns3\"></a>"
   ]
  },
  {
   "cell_type": "code",
   "execution_count": 20,
   "metadata": {},
   "outputs": [],
   "source": [
    "# добавим столбцы времени, дня недели и месяца покупки для анализа\n",
    "data['hour'] = data['date'].dt.hour\n",
    "data['weekday'] = data['date'].dt.weekday\n",
    "data['month'] = data['date'].dt.month"
   ]
  },
  {
   "cell_type": "markdown",
   "metadata": {},
   "source": [
    "## Анализ данных:\n",
    "<a id=\"analysis\"></a> "
   ]
  },
  {
   "cell_type": "markdown",
   "metadata": {},
   "source": [
    "### Данные за какой период исследования представлены\n",
    "<a id=\"analysis1\"></a> "
   ]
  },
  {
   "cell_type": "code",
   "execution_count": 21,
   "metadata": {},
   "outputs": [
    {
     "data": {
      "text/plain": [
       "Timestamp('2018-10-01 00:00:00')"
      ]
     },
     "metadata": {},
     "output_type": "display_data"
    },
    {
     "data": {
      "text/plain": [
       "Timestamp('2020-01-31 15:00:00')"
      ]
     },
     "execution_count": 21,
     "metadata": {},
     "output_type": "execute_result"
    }
   ],
   "source": [
    "# найдем максимальную и минимальную дату событий\n",
    "display(min(data['date']))\n",
    "max(data['date'])"
   ]
  },
  {
   "cell_type": "markdown",
   "metadata": {},
   "source": [
    "Мы располагаем данными с **12 часов ночи 1 октября 2018 года по 15 часов дня 31 января 2020 года**."
   ]
  },
  {
   "cell_type": "markdown",
   "metadata": {},
   "source": [
    "### Количество покупателей интернет-магазина\n",
    "<a id=\"analysis2\"></a>"
   ]
  },
  {
   "cell_type": "code",
   "execution_count": 22,
   "metadata": {},
   "outputs": [
    {
     "data": {
      "text/plain": [
       "'Общее количество уникальных покупателей интернет-магазина - 2413 покупателей.'"
      ]
     },
     "execution_count": 22,
     "metadata": {},
     "output_type": "execute_result"
    }
   ],
   "source": [
    "uniq_customer = data['customer_id'].nunique()\n",
    "f'Общее количество уникальных покупателей интернет-магазина - {uniq_customer} покупателей.'"
   ]
  },
  {
   "cell_type": "markdown",
   "metadata": {},
   "source": [
    "### Количество заказов в интернет-магазине\n",
    "<a id=\"analysis3\"></a>"
   ]
  },
  {
   "cell_type": "code",
   "execution_count": 23,
   "metadata": {},
   "outputs": [
    {
     "data": {
      "text/plain": [
       "'Количество заказов в интернет-магазине - 3492 заказов.'"
      ]
     },
     "execution_count": 23,
     "metadata": {},
     "output_type": "execute_result"
    }
   ],
   "source": [
    "uniq_order = data['order_id'].nunique()\n",
    "f'Количество заказов в интернет-магазине - {uniq_order} заказов.'"
   ]
  },
  {
   "cell_type": "markdown",
   "metadata": {},
   "source": [
    "### Количество продаж\n",
    "<a id=\"analysis4\"></a> \n",
    "\n",
    "Проанализируем, в какое время дня, в какой день недели и месяц покупатели делают самое большое количество покупок. Так как данные представлены за полтора года, в разрезе годов делать анализ не будем.\n",
    "\n",
    "#### По времени суток\n",
    "<a id=\"analysis4_1\"></a>"
   ]
  },
  {
   "cell_type": "code",
   "execution_count": 24,
   "metadata": {},
   "outputs": [
    {
     "data": {
      "image/png": "[encoded data removed]",
      "text/plain": [
       "<Figure size 720x504 with 1 Axes>"
      ]
     },
     "metadata": {
      "needs_background": "light"
     },
     "output_type": "display_data"
    }
   ],
   "source": [
    "# сгруппируем данные по времени и количеству продаж\n",
    "data.groupby('hour')['revenue'].count()\\\n",
    "    .plot(kind='bar', figsize=(10,7), grid=True)\n",
    "# оформим график\n",
    "plt.title('Время продажи')\n",
    "plt.xlabel('Часы продажи', fontsize=12)\n",
    "plt.ylabel('Количество продаж', fontsize=12)\n",
    "plt.show()"
   ]
  },
  {
   "cell_type": "markdown",
   "metadata": {},
   "source": [
    "Количество продаж в течение дня распределяется следующим образом.\\\n",
    "Самое большое количество продаж совершается с 8 утра до 22 вечера и достигает пика к часу дня, ночью с 23-00 до 7-00 покупательская активность падает."
   ]
  },
  {
   "cell_type": "markdown",
   "metadata": {},
   "source": [
    "#### По дню недели\n",
    "<a id=\"analysis4_2\"></a>"
   ]
  },
  {
   "cell_type": "code",
   "execution_count": 25,
   "metadata": {},
   "outputs": [
    {
     "data": {
      "image/png": "[encoded data removed]",
      "text/plain": [
       "<Figure size 720x504 with 1 Axes>"
      ]
     },
     "metadata": {
      "needs_background": "light"
     },
     "output_type": "display_data"
    }
   ],
   "source": [
    "# сгруппируем данные по дню недели и количеству продаж\n",
    "data.groupby('weekday')['revenue'].count()\\\n",
    "    .plot(kind='bar', figsize=(10,7), grid=True)\n",
    "plt.title('Дни недели продажи')\n",
    "plt.xlabel('Дни недели', fontsize=12)\n",
    "plt.ylabel('Количество продаж', fontsize=12)\n",
    "plt.show()"
   ]
  },
  {
   "cell_type": "markdown",
   "metadata": {},
   "source": [
    "Количество продаж по дням недели распределяется следующим образом.\\\n",
    "Самое большое количество покупок совершается в понедельник и во вторник, а в выходные дни наблюдаются самые низкие продажи.\\\n",
    "Это может быть связано с тем, что ассортимент товаров представлен в рассадой, цветами и мелкими хозяйственными товарами, основная целевая аудитория данного магазина - это дачники, которые в выходные дни проводят время за городом и делают покупки по будним дням."
   ]
  },
  {
   "cell_type": "markdown",
   "metadata": {},
   "source": [
    "#### По месяцам\n",
    "<a id=\"analysis4_3\"></a>\n",
    "Проверим количество продаж на сезонность, добавив на график категории товаров."
   ]
  },
  {
   "cell_type": "code",
   "execution_count": 26,
   "metadata": {},
   "outputs": [
    {
     "data": {
      "image/png": "[encoded data removed]",
      "text/plain": [
       "<Figure size 1440x720 with 1 Axes>"
      ]
     },
     "metadata": {
      "needs_background": "light"
     },
     "output_type": "display_data"
    }
   ],
   "source": [
    "# составим сводную таблицу по месяцу, категориям и количеству продаж\n",
    "data.pivot_table(index='month', columns='category_products', values='revenue', aggfunc='count')\\\n",
    "    .plot(kind='bar', figsize=(20, 10))\n",
    "plt.title('Месяцы продаж товаров по категориям', fontsize=15)\n",
    "plt.xlabel('Месяцы продаж', fontsize=15)\n",
    "plt.ylabel('Количество продаж', fontsize=15)\n",
    "plt.show()"
   ]
  },
  {
   "cell_type": "markdown",
   "metadata": {},
   "source": [
    "У магазина ярко представлена сезонность продаж:\n",
    "- категорию комнатные растения и цветы активно покупают с марта по июнь;\n",
    "- категорию рассада покупают с апреля по июнь;\n",
    "- июль - сентябрь самые низкие продажи по всем категориям;\n",
    "- с октября подъем продаж по всем категорием с постепенным спадом к январю.\\\n",
    "Проведенный анализ по сезонности продаж подтверждает тот факт, что основная категория покупателей - дачники, закупающие цветы и рассаду с марта по июнь для посадки, июль-сентябрь проводят за городом и возвращаются в город к октябрю.\n",
    "    "
   ]
  },
  {
   "cell_type": "markdown",
   "metadata": {},
   "source": [
    "## Детализация исследования: сегментация покупателей\n",
    "<a id=\"detailed\"></a> "
   ]
  },
  {
   "cell_type": "markdown",
   "metadata": {},
   "source": [
    "Для сегментации покупателей используем **RFM-анализ потребительской ценности**.\\\n",
    "Он группирует покупателей на основе истории их транзакций:\\\n",
    "`Recency (Давность)` — Как давно покупатель совершил покупку?\\\n",
    "`Frequency (Частота)` — Как часто он совершает покупки?\\\n",
    "`Monetary Value (Денежная ценность)` — Сколько он тратит?\\\n",
    "Объединим и сгруппируем покупателей в различные сегменты и упорядочим от наиболее ценных (наибольшая повторяемость, частота и ценность) до наименее ценных (наименьшая повторяемость, частота и ценность). "
   ]
  },
  {
   "cell_type": "code",
   "execution_count": 27,
   "metadata": {},
   "outputs": [],
   "source": [
    "# удалим из датафрейма заказы с несколькими датами и аномальный заказ с 1000 позициями\n",
    "rfm_data = data\\\n",
    "    .query('product != \"вантуз с деревянной ручкой d14 см красный, burstenmann, 0522/0000\" & order_id not in @error_date')"
   ]
  },
  {
   "cell_type": "markdown",
   "metadata": {},
   "source": [
    "Для RFM-анализа нам потребуются определенные данные о каждом из клиентов:\n",
    "\n",
    "- ID клиента для их идентификации - `customer_id`;\n",
    "- Давность (R) как количество дней с момента последней покупки - `date`;\n",
    "- Частота (F) как общее количество транзакций - `order_id`;\n",
    "- Деньги (М) как общая сумма потраченных денег - `revenue`."
   ]
  },
  {
   "cell_type": "code",
   "execution_count": 28,
   "metadata": {},
   "outputs": [],
   "source": [
    "# создадим датафрейм для rfm-анализа\n",
    "rfm_data = rfm_data.groupby('customer_id').agg({'date': lambda x: (max(data['date']) - x.max()).days, # Recency\n",
    "                                                'order_id': lambda x: len(x.unique()), # Frequency\n",
    "                                                'revenue': lambda x: x.sum()})    # Monetary"
   ]
  },
  {
   "cell_type": "code",
   "execution_count": 29,
   "metadata": {},
   "outputs": [],
   "source": [
    "# переименуем столбцы\n",
    "rfm_data.rename(columns={'date': 'recency', \n",
    "                         'order_id': 'frequency',\n",
    "                         'revenue': 'monetary_value'}, inplace=True)"
   ]
  },
  {
   "cell_type": "code",
   "execution_count": 30,
   "metadata": {},
   "outputs": [
    {
     "data": {
      "text/html": [
       "<div>\n",
       "<style scoped>\n",
       "    .dataframe tbody tr th:only-of-type {\n",
       "        vertical-align: middle;\n",
       "    }\n",
       "\n",
       "    .dataframe tbody tr th {\n",
       "        vertical-align: top;\n",
       "    }\n",
       "\n",
       "    .dataframe thead th {\n",
       "        text-align: right;\n",
       "    }\n",
       "</style>\n",
       "<table border=\"1\" class=\"dataframe\">\n",
       "  <thead>\n",
       "    <tr style=\"text-align: right;\">\n",
       "      <th></th>\n",
       "      <th>recency</th>\n",
       "      <th>frequency</th>\n",
       "      <th>monetary_value</th>\n",
       "    </tr>\n",
       "    <tr>\n",
       "      <th>customer_id</th>\n",
       "      <th></th>\n",
       "      <th></th>\n",
       "      <th></th>\n",
       "    </tr>\n",
       "  </thead>\n",
       "  <tbody>\n",
       "    <tr>\n",
       "      <th>000d6849-084e-4d9f-ac03-37174eaf60c4</th>\n",
       "      <td>107</td>\n",
       "      <td>1</td>\n",
       "      <td>555.0</td>\n",
       "    </tr>\n",
       "    <tr>\n",
       "      <th>001cee7f-0b29-4716-b202-0042213ab038</th>\n",
       "      <td>349</td>\n",
       "      <td>1</td>\n",
       "      <td>442.0</td>\n",
       "    </tr>\n",
       "    <tr>\n",
       "      <th>00299f34-5385-4d13-9aea-c80b81658e1b</th>\n",
       "      <td>108</td>\n",
       "      <td>1</td>\n",
       "      <td>914.0</td>\n",
       "    </tr>\n",
       "    <tr>\n",
       "      <th>002d4d3a-4a59-406b-86ec-c3314357e498</th>\n",
       "      <td>368</td>\n",
       "      <td>1</td>\n",
       "      <td>1649.0</td>\n",
       "    </tr>\n",
       "    <tr>\n",
       "      <th>003bbd39-0000-41ff-b7f9-2ddaec152037</th>\n",
       "      <td>123</td>\n",
       "      <td>1</td>\n",
       "      <td>2324.0</td>\n",
       "    </tr>\n",
       "  </tbody>\n",
       "</table>\n",
       "</div>"
      ],
      "text/plain": [
       "                                      recency  frequency  monetary_value\n",
       "customer_id                                                             \n",
       "000d6849-084e-4d9f-ac03-37174eaf60c4  107      1          555.0         \n",
       "001cee7f-0b29-4716-b202-0042213ab038  349      1          442.0         \n",
       "00299f34-5385-4d13-9aea-c80b81658e1b  108      1          914.0         \n",
       "002d4d3a-4a59-406b-86ec-c3314357e498  368      1          1649.0        \n",
       "003bbd39-0000-41ff-b7f9-2ddaec152037  123      1          2324.0        "
      ]
     },
     "execution_count": 30,
     "metadata": {},
     "output_type": "execute_result"
    }
   ],
   "source": [
    "# выведем полученную таблицу\n",
    "rfm_data.head()"
   ]
  },
  {
   "cell_type": "code",
   "execution_count": 31,
   "metadata": {},
   "outputs": [
    {
     "name": "stdout",
     "output_type": "stream",
     "text": [
      "<class 'pandas.core.frame.DataFrame'>\n",
      "Index: 2184 entries, 000d6849-084e-4d9f-ac03-37174eaf60c4 to ffe82299-3f5b-4214-87fe-3d36ecccfac3\n",
      "Data columns (total 3 columns):\n",
      " #   Column          Non-Null Count  Dtype  \n",
      "---  ------          --------------  -----  \n",
      " 0   recency         2184 non-null   int64  \n",
      " 1   frequency       2184 non-null   int64  \n",
      " 2   monetary_value  2184 non-null   float64\n",
      "dtypes: float64(1), int64(2)\n",
      "memory usage: 68.2+ KB\n"
     ]
    }
   ],
   "source": [
    "# проверим информацию по таблице\n",
    "rfm_data.info()"
   ]
  },
  {
   "cell_type": "markdown",
   "metadata": {},
   "source": [
    "Для RFM расчета используем квинтили — составление четырех равных частей на основе доступных значений."
   ]
  },
  {
   "cell_type": "code",
   "execution_count": 32,
   "metadata": {},
   "outputs": [
    {
     "data": {
      "text/html": [
       "<div>\n",
       "<style scoped>\n",
       "    .dataframe tbody tr th:only-of-type {\n",
       "        vertical-align: middle;\n",
       "    }\n",
       "\n",
       "    .dataframe tbody tr th {\n",
       "        vertical-align: top;\n",
       "    }\n",
       "\n",
       "    .dataframe thead th {\n",
       "        text-align: right;\n",
       "    }\n",
       "</style>\n",
       "<table border=\"1\" class=\"dataframe\">\n",
       "  <thead>\n",
       "    <tr style=\"text-align: right;\">\n",
       "      <th></th>\n",
       "      <th>recency</th>\n",
       "      <th>frequency</th>\n",
       "      <th>monetary_value</th>\n",
       "    </tr>\n",
       "  </thead>\n",
       "  <tbody>\n",
       "    <tr>\n",
       "      <th>0.25</th>\n",
       "      <td>65.0</td>\n",
       "      <td>1.0</td>\n",
       "      <td>400.50</td>\n",
       "    </tr>\n",
       "    <tr>\n",
       "      <th>0.50</th>\n",
       "      <td>190.5</td>\n",
       "      <td>1.0</td>\n",
       "      <td>843.75</td>\n",
       "    </tr>\n",
       "    <tr>\n",
       "      <th>0.75</th>\n",
       "      <td>338.0</td>\n",
       "      <td>2.0</td>\n",
       "      <td>1799.00</td>\n",
       "    </tr>\n",
       "  </tbody>\n",
       "</table>\n",
       "</div>"
      ],
      "text/plain": [
       "      recency  frequency  monetary_value\n",
       "0.25  65.0     1.0        400.50        \n",
       "0.50  190.5    1.0        843.75        \n",
       "0.75  338.0    2.0        1799.00       "
      ]
     },
     "execution_count": 32,
     "metadata": {},
     "output_type": "execute_result"
    }
   ],
   "source": [
    "quantiles = rfm_data.quantile(q = [0.25, 0.5, 0.75])\n",
    "quantiles"
   ]
  },
  {
   "cell_type": "code",
   "execution_count": 33,
   "metadata": {},
   "outputs": [],
   "source": [
    "# преобразуем квантили в словарь\n",
    "quantiles = quantiles.to_dict()\n",
    "# создадим копию таблицы rfm_data\n",
    "rfm_segment = rfm_data.copy()\n",
    "\n",
    "# создадим функцию r_class для упорядочивания давности (r) по сегментам (от 4 по 1, чем меньше давность, тем лучше) \n",
    "# аргументы (x = значение, p = давность, d = квантили)\n",
    "def r_class(x, p, d):\n",
    "    if x <= d[p][0.25]:\n",
    "        return 4\n",
    "    elif x <= d[p][0.50]:\n",
    "        return 3\n",
    "    elif x <= d[p][0.75]: \n",
    "        return 2\n",
    "    else:\n",
    "        return 1\n",
    "    \n",
    "# создадим функцию fm_class для упорядочивания частоты и денежного значения (f и m) по сегментам \n",
    "# (от 1 по 4, чем больше частота и денежное значение, тем лучше) \n",
    "# аргументы (x = значение, p = частота или денежное значение, d = квантили)\n",
    "def fm_class(x, p, d):\n",
    "    if x <= d[p][0.25]:\n",
    "        return 1\n",
    "    elif x <= d[p][0.50]:\n",
    "        return 2\n",
    "    elif x <= d[p][0.75]: \n",
    "        return 3\n",
    "    else:\n",
    "        return 4\n",
    "    \n",
    "# создадим столбцы по каждому сегменту и общий столбец rfm_class для общего рейтинга    \n",
    "rfm_segment['r_quartile'] = rfm_segment['recency'].apply(r_class, args=('recency',quantiles,))\n",
    "rfm_segment['f_quartile'] = rfm_segment['frequency'].apply(fm_class, args=('frequency',quantiles,))\n",
    "rfm_segment['m_quartile'] = rfm_segment['monetary_value'].apply(fm_class, args=('monetary_value',quantiles,))\n",
    "rfm_segment['rfm_class'] = rfm_segment.r_quartile.map(str) \\\n",
    "                            + rfm_segment.f_quartile.map(str) \\\n",
    "                            + rfm_segment.m_quartile.map(str)"
   ]
  },
  {
   "cell_type": "code",
   "execution_count": 34,
   "metadata": {},
   "outputs": [
    {
     "data": {
      "text/html": [
       "<div>\n",
       "<style scoped>\n",
       "    .dataframe tbody tr th:only-of-type {\n",
       "        vertical-align: middle;\n",
       "    }\n",
       "\n",
       "    .dataframe tbody tr th {\n",
       "        vertical-align: top;\n",
       "    }\n",
       "\n",
       "    .dataframe thead th {\n",
       "        text-align: right;\n",
       "    }\n",
       "</style>\n",
       "<table border=\"1\" class=\"dataframe\">\n",
       "  <thead>\n",
       "    <tr style=\"text-align: right;\">\n",
       "      <th></th>\n",
       "      <th>recency</th>\n",
       "      <th>frequency</th>\n",
       "      <th>monetary_value</th>\n",
       "      <th>r_quartile</th>\n",
       "      <th>f_quartile</th>\n",
       "      <th>m_quartile</th>\n",
       "      <th>rfm_class</th>\n",
       "    </tr>\n",
       "    <tr>\n",
       "      <th>customer_id</th>\n",
       "      <th></th>\n",
       "      <th></th>\n",
       "      <th></th>\n",
       "      <th></th>\n",
       "      <th></th>\n",
       "      <th></th>\n",
       "      <th></th>\n",
       "    </tr>\n",
       "  </thead>\n",
       "  <tbody>\n",
       "    <tr>\n",
       "      <th>000d6849-084e-4d9f-ac03-37174eaf60c4</th>\n",
       "      <td>107</td>\n",
       "      <td>1</td>\n",
       "      <td>555.0</td>\n",
       "      <td>3</td>\n",
       "      <td>1</td>\n",
       "      <td>2</td>\n",
       "      <td>312</td>\n",
       "    </tr>\n",
       "    <tr>\n",
       "      <th>001cee7f-0b29-4716-b202-0042213ab038</th>\n",
       "      <td>349</td>\n",
       "      <td>1</td>\n",
       "      <td>442.0</td>\n",
       "      <td>1</td>\n",
       "      <td>1</td>\n",
       "      <td>2</td>\n",
       "      <td>112</td>\n",
       "    </tr>\n",
       "    <tr>\n",
       "      <th>00299f34-5385-4d13-9aea-c80b81658e1b</th>\n",
       "      <td>108</td>\n",
       "      <td>1</td>\n",
       "      <td>914.0</td>\n",
       "      <td>3</td>\n",
       "      <td>1</td>\n",
       "      <td>3</td>\n",
       "      <td>313</td>\n",
       "    </tr>\n",
       "    <tr>\n",
       "      <th>002d4d3a-4a59-406b-86ec-c3314357e498</th>\n",
       "      <td>368</td>\n",
       "      <td>1</td>\n",
       "      <td>1649.0</td>\n",
       "      <td>1</td>\n",
       "      <td>1</td>\n",
       "      <td>3</td>\n",
       "      <td>113</td>\n",
       "    </tr>\n",
       "    <tr>\n",
       "      <th>003bbd39-0000-41ff-b7f9-2ddaec152037</th>\n",
       "      <td>123</td>\n",
       "      <td>1</td>\n",
       "      <td>2324.0</td>\n",
       "      <td>3</td>\n",
       "      <td>1</td>\n",
       "      <td>4</td>\n",
       "      <td>314</td>\n",
       "    </tr>\n",
       "  </tbody>\n",
       "</table>\n",
       "</div>"
      ],
      "text/plain": [
       "                                      recency  frequency  monetary_value  \\\n",
       "customer_id                                                                \n",
       "000d6849-084e-4d9f-ac03-37174eaf60c4  107      1          555.0            \n",
       "001cee7f-0b29-4716-b202-0042213ab038  349      1          442.0            \n",
       "00299f34-5385-4d13-9aea-c80b81658e1b  108      1          914.0            \n",
       "002d4d3a-4a59-406b-86ec-c3314357e498  368      1          1649.0           \n",
       "003bbd39-0000-41ff-b7f9-2ddaec152037  123      1          2324.0           \n",
       "\n",
       "                                      r_quartile  f_quartile  m_quartile  \\\n",
       "customer_id                                                                \n",
       "000d6849-084e-4d9f-ac03-37174eaf60c4  3           1           2            \n",
       "001cee7f-0b29-4716-b202-0042213ab038  1           1           2            \n",
       "00299f34-5385-4d13-9aea-c80b81658e1b  3           1           3            \n",
       "002d4d3a-4a59-406b-86ec-c3314357e498  1           1           3            \n",
       "003bbd39-0000-41ff-b7f9-2ddaec152037  3           1           4            \n",
       "\n",
       "                                     rfm_class  \n",
       "customer_id                                     \n",
       "000d6849-084e-4d9f-ac03-37174eaf60c4  312       \n",
       "001cee7f-0b29-4716-b202-0042213ab038  112       \n",
       "00299f34-5385-4d13-9aea-c80b81658e1b  313       \n",
       "002d4d3a-4a59-406b-86ec-c3314357e498  113       \n",
       "003bbd39-0000-41ff-b7f9-2ddaec152037  314       "
      ]
     },
     "execution_count": 34,
     "metadata": {},
     "output_type": "execute_result"
    }
   ],
   "source": [
    "# выведем полученную таблицу\n",
    "rfm_segment.head()"
   ]
  },
  {
   "cell_type": "markdown",
   "metadata": {},
   "source": [
    "### Лучшие покупатели по всем показателям\n",
    "<a id=\"detailed1\"></a> \n",
    "\n",
    "Это постоянные покупатели, которые часто и по несколько раз посещают магазин, делают крупные покупки.\\\n",
    "Покупателей сегмента 444 нет, поэтому для анализа возьмем также клиентов групп 344, 434, 443."
   ]
  },
  {
   "cell_type": "code",
   "execution_count": 35,
   "metadata": {},
   "outputs": [
    {
     "data": {
      "text/html": [
       "<div>\n",
       "<style scoped>\n",
       "    .dataframe tbody tr th:only-of-type {\n",
       "        vertical-align: middle;\n",
       "    }\n",
       "\n",
       "    .dataframe tbody tr th {\n",
       "        vertical-align: top;\n",
       "    }\n",
       "\n",
       "    .dataframe thead th {\n",
       "        text-align: right;\n",
       "    }\n",
       "</style>\n",
       "<table border=\"1\" class=\"dataframe\">\n",
       "  <thead>\n",
       "    <tr style=\"text-align: right;\">\n",
       "      <th></th>\n",
       "      <th>recency</th>\n",
       "      <th>frequency</th>\n",
       "      <th>monetary_value</th>\n",
       "      <th>r_quartile</th>\n",
       "      <th>f_quartile</th>\n",
       "      <th>m_quartile</th>\n",
       "      <th>rfm_class</th>\n",
       "    </tr>\n",
       "    <tr>\n",
       "      <th>customer_id</th>\n",
       "      <th></th>\n",
       "      <th></th>\n",
       "      <th></th>\n",
       "      <th></th>\n",
       "      <th></th>\n",
       "      <th></th>\n",
       "      <th></th>\n",
       "    </tr>\n",
       "  </thead>\n",
       "  <tbody>\n",
       "    <tr>\n",
       "      <th>73d1cd35-5e5f-4629-8cf2-3fda829d4e58</th>\n",
       "      <td>92</td>\n",
       "      <td>16</td>\n",
       "      <td>21009.0</td>\n",
       "      <td>3</td>\n",
       "      <td>4</td>\n",
       "      <td>4</td>\n",
       "      <td>344</td>\n",
       "    </tr>\n",
       "    <tr>\n",
       "      <th>f279d50f-a508-40b4-bde5-5cb4a1be3ad0</th>\n",
       "      <td>31</td>\n",
       "      <td>2</td>\n",
       "      <td>16557.0</td>\n",
       "      <td>4</td>\n",
       "      <td>3</td>\n",
       "      <td>4</td>\n",
       "      <td>434</td>\n",
       "    </tr>\n",
       "    <tr>\n",
       "      <th>b7dffbd3-810c-4125-889a-454ee093eb73</th>\n",
       "      <td>8</td>\n",
       "      <td>2</td>\n",
       "      <td>10168.0</td>\n",
       "      <td>4</td>\n",
       "      <td>3</td>\n",
       "      <td>4</td>\n",
       "      <td>434</td>\n",
       "    </tr>\n",
       "    <tr>\n",
       "      <th>ac250053-a236-467a-97d2-ddbb9bf4a1ba</th>\n",
       "      <td>49</td>\n",
       "      <td>2</td>\n",
       "      <td>8684.0</td>\n",
       "      <td>4</td>\n",
       "      <td>3</td>\n",
       "      <td>4</td>\n",
       "      <td>434</td>\n",
       "    </tr>\n",
       "    <tr>\n",
       "      <th>b16a52b7-499b-4be8-9220-19076ed22bc9</th>\n",
       "      <td>43</td>\n",
       "      <td>2</td>\n",
       "      <td>8307.0</td>\n",
       "      <td>4</td>\n",
       "      <td>3</td>\n",
       "      <td>4</td>\n",
       "      <td>434</td>\n",
       "    </tr>\n",
       "  </tbody>\n",
       "</table>\n",
       "</div>"
      ],
      "text/plain": [
       "                                      recency  frequency  monetary_value  \\\n",
       "customer_id                                                                \n",
       "73d1cd35-5e5f-4629-8cf2-3fda829d4e58  92       16         21009.0          \n",
       "f279d50f-a508-40b4-bde5-5cb4a1be3ad0  31       2          16557.0          \n",
       "b7dffbd3-810c-4125-889a-454ee093eb73  8        2          10168.0          \n",
       "ac250053-a236-467a-97d2-ddbb9bf4a1ba  49       2          8684.0           \n",
       "b16a52b7-499b-4be8-9220-19076ed22bc9  43       2          8307.0           \n",
       "\n",
       "                                      r_quartile  f_quartile  m_quartile  \\\n",
       "customer_id                                                                \n",
       "73d1cd35-5e5f-4629-8cf2-3fda829d4e58  3           4           4            \n",
       "f279d50f-a508-40b4-bde5-5cb4a1be3ad0  4           3           4            \n",
       "b7dffbd3-810c-4125-889a-454ee093eb73  4           3           4            \n",
       "ac250053-a236-467a-97d2-ddbb9bf4a1ba  4           3           4            \n",
       "b16a52b7-499b-4be8-9220-19076ed22bc9  4           3           4            \n",
       "\n",
       "                                     rfm_class  \n",
       "customer_id                                     \n",
       "73d1cd35-5e5f-4629-8cf2-3fda829d4e58  344       \n",
       "f279d50f-a508-40b4-bde5-5cb4a1be3ad0  434       \n",
       "b7dffbd3-810c-4125-889a-454ee093eb73  434       \n",
       "ac250053-a236-467a-97d2-ddbb9bf4a1ba  434       \n",
       "b16a52b7-499b-4be8-9220-19076ed22bc9  434       "
      ]
     },
     "execution_count": 35,
     "metadata": {},
     "output_type": "execute_result"
    }
   ],
   "source": [
    "#rfm_class = 444, 344, 434, 443\n",
    "best_customer = rfm_segment.query('rfm_class in [\"444\", \"344\", \"434\", \"443\"]').sort_values('monetary_value', ascending=False)\n",
    "best_customer.head()"
   ]
  },
  {
   "cell_type": "code",
   "execution_count": 36,
   "metadata": {},
   "outputs": [
    {
     "data": {
      "text/plain": [
       "'Число лучших покупателей по всем критериям показателей - 180'"
      ]
     },
     "execution_count": 36,
     "metadata": {},
     "output_type": "execute_result"
    }
   ],
   "source": [
    "'Число лучших покупателей по всем критериям показателей - {}'.format(best_customer.shape[0])"
   ]
  },
  {
   "cell_type": "markdown",
   "metadata": {},
   "source": [
    "Для данного сегмента можно на основе анализа их заказов делать персональные предложения или предложить гибкую систему скидок для увеличения суммы чека.\n",
    "\n",
    "### Покупатели на пороге оттока\n",
    "<a id=\"detailed2\"></a> \n",
    "\n",
    "Это покупатели, которые делали крупные покупки и довольно часто посещали магазин, но давно в него не заходили."
   ]
  },
  {
   "cell_type": "code",
   "execution_count": 37,
   "metadata": {},
   "outputs": [
    {
     "data": {
      "text/html": [
       "<div>\n",
       "<style scoped>\n",
       "    .dataframe tbody tr th:only-of-type {\n",
       "        vertical-align: middle;\n",
       "    }\n",
       "\n",
       "    .dataframe tbody tr th {\n",
       "        vertical-align: top;\n",
       "    }\n",
       "\n",
       "    .dataframe thead th {\n",
       "        text-align: right;\n",
       "    }\n",
       "</style>\n",
       "<table border=\"1\" class=\"dataframe\">\n",
       "  <thead>\n",
       "    <tr style=\"text-align: right;\">\n",
       "      <th></th>\n",
       "      <th>recency</th>\n",
       "      <th>frequency</th>\n",
       "      <th>monetary_value</th>\n",
       "      <th>r_quartile</th>\n",
       "      <th>f_quartile</th>\n",
       "      <th>m_quartile</th>\n",
       "      <th>rfm_class</th>\n",
       "    </tr>\n",
       "    <tr>\n",
       "      <th>customer_id</th>\n",
       "      <th></th>\n",
       "      <th></th>\n",
       "      <th></th>\n",
       "      <th></th>\n",
       "      <th></th>\n",
       "      <th></th>\n",
       "      <th></th>\n",
       "    </tr>\n",
       "  </thead>\n",
       "  <tbody>\n",
       "    <tr>\n",
       "      <th>c971fb21-d54c-4134-938f-16b62ee86d3b</th>\n",
       "      <td>331</td>\n",
       "      <td>125</td>\n",
       "      <td>152028.0</td>\n",
       "      <td>2</td>\n",
       "      <td>4</td>\n",
       "      <td>4</td>\n",
       "      <td>244</td>\n",
       "    </tr>\n",
       "    <tr>\n",
       "      <th>4d93d3f6-8b24-403b-a74b-f5173e40d7db</th>\n",
       "      <td>464</td>\n",
       "      <td>34</td>\n",
       "      <td>53728.0</td>\n",
       "      <td>1</td>\n",
       "      <td>4</td>\n",
       "      <td>4</td>\n",
       "      <td>144</td>\n",
       "    </tr>\n",
       "    <tr>\n",
       "      <th>58a4c3cc-504f-43ea-a74a-bae19e665552</th>\n",
       "      <td>381</td>\n",
       "      <td>2</td>\n",
       "      <td>53232.0</td>\n",
       "      <td>1</td>\n",
       "      <td>3</td>\n",
       "      <td>4</td>\n",
       "      <td>134</td>\n",
       "    </tr>\n",
       "    <tr>\n",
       "      <th>146cd9bf-a95c-4afb-915b-5f6684b17444</th>\n",
       "      <td>234</td>\n",
       "      <td>1</td>\n",
       "      <td>49432.0</td>\n",
       "      <td>2</td>\n",
       "      <td>1</td>\n",
       "      <td>4</td>\n",
       "      <td>214</td>\n",
       "    </tr>\n",
       "    <tr>\n",
       "      <th>498f12a4-6a62-4725-8516-cf5dc9ab8a3a</th>\n",
       "      <td>286</td>\n",
       "      <td>4</td>\n",
       "      <td>41900.0</td>\n",
       "      <td>2</td>\n",
       "      <td>4</td>\n",
       "      <td>4</td>\n",
       "      <td>244</td>\n",
       "    </tr>\n",
       "  </tbody>\n",
       "</table>\n",
       "</div>"
      ],
      "text/plain": [
       "                                      recency  frequency  monetary_value  \\\n",
       "customer_id                                                                \n",
       "c971fb21-d54c-4134-938f-16b62ee86d3b  331      125        152028.0         \n",
       "4d93d3f6-8b24-403b-a74b-f5173e40d7db  464      34         53728.0          \n",
       "58a4c3cc-504f-43ea-a74a-bae19e665552  381      2          53232.0          \n",
       "146cd9bf-a95c-4afb-915b-5f6684b17444  234      1          49432.0          \n",
       "498f12a4-6a62-4725-8516-cf5dc9ab8a3a  286      4          41900.0          \n",
       "\n",
       "                                      r_quartile  f_quartile  m_quartile  \\\n",
       "customer_id                                                                \n",
       "c971fb21-d54c-4134-938f-16b62ee86d3b  2           4           4            \n",
       "4d93d3f6-8b24-403b-a74b-f5173e40d7db  1           4           4            \n",
       "58a4c3cc-504f-43ea-a74a-bae19e665552  1           3           4            \n",
       "146cd9bf-a95c-4afb-915b-5f6684b17444  2           1           4            \n",
       "498f12a4-6a62-4725-8516-cf5dc9ab8a3a  2           4           4            \n",
       "\n",
       "                                     rfm_class  \n",
       "customer_id                                     \n",
       "c971fb21-d54c-4134-938f-16b62ee86d3b  244       \n",
       "4d93d3f6-8b24-403b-a74b-f5173e40d7db  144       \n",
       "58a4c3cc-504f-43ea-a74a-bae19e665552  134       \n",
       "146cd9bf-a95c-4afb-915b-5f6684b17444  214       \n",
       "498f12a4-6a62-4725-8516-cf5dc9ab8a3a  244       "
      ]
     },
     "execution_count": 37,
     "metadata": {},
     "output_type": "execute_result"
    }
   ],
   "source": [
    "low_r = rfm_segment.query('r_quartile <= 2').sort_values('monetary_value', ascending=False)\n",
    "low_r.head(5)"
   ]
  },
  {
   "cell_type": "code",
   "execution_count": 38,
   "metadata": {},
   "outputs": [
    {
     "data": {
      "text/plain": [
       "'Число покупателей на пороге оттока - 1092'"
      ]
     },
     "execution_count": 38,
     "metadata": {},
     "output_type": "execute_result"
    }
   ],
   "source": [
    "'Число покупателей на пороге оттока - {}'.format(low_r.shape[0])"
   ]
  },
  {
   "cell_type": "markdown",
   "metadata": {},
   "source": [
    "На пороге оттока половина проанализованных покупателей, достаточно большой показатель. Возможно, они переехали, сменили магазин на более выгодный или продали дачу.\\\n",
    "Для таких покупателей можно предложить сделать рассылку или персональную скидку для того, чтобы они вновь вернулись.\n",
    "\n",
    "### Разовые покупатели\n",
    "<a id=\"detailed3\"></a> \n",
    "\n",
    "Тип покупателей, которые давно сделали один недорогой заказ в магазине."
   ]
  },
  {
   "cell_type": "code",
   "execution_count": 39,
   "metadata": {},
   "outputs": [
    {
     "data": {
      "text/html": [
       "<div>\n",
       "<style scoped>\n",
       "    .dataframe tbody tr th:only-of-type {\n",
       "        vertical-align: middle;\n",
       "    }\n",
       "\n",
       "    .dataframe tbody tr th {\n",
       "        vertical-align: top;\n",
       "    }\n",
       "\n",
       "    .dataframe thead th {\n",
       "        text-align: right;\n",
       "    }\n",
       "</style>\n",
       "<table border=\"1\" class=\"dataframe\">\n",
       "  <thead>\n",
       "    <tr style=\"text-align: right;\">\n",
       "      <th></th>\n",
       "      <th>recency</th>\n",
       "      <th>frequency</th>\n",
       "      <th>monetary_value</th>\n",
       "      <th>r_quartile</th>\n",
       "      <th>f_quartile</th>\n",
       "      <th>m_quartile</th>\n",
       "      <th>rfm_class</th>\n",
       "    </tr>\n",
       "    <tr>\n",
       "      <th>customer_id</th>\n",
       "      <th></th>\n",
       "      <th></th>\n",
       "      <th></th>\n",
       "      <th></th>\n",
       "      <th></th>\n",
       "      <th></th>\n",
       "      <th></th>\n",
       "    </tr>\n",
       "  </thead>\n",
       "  <tbody>\n",
       "    <tr>\n",
       "      <th>32a85453-f14d-40c2-90ba-3851498a5f3b</th>\n",
       "      <td>486</td>\n",
       "      <td>1</td>\n",
       "      <td>374.0</td>\n",
       "      <td>1</td>\n",
       "      <td>1</td>\n",
       "      <td>1</td>\n",
       "      <td>111</td>\n",
       "    </tr>\n",
       "    <tr>\n",
       "      <th>f08d9018-438e-4e96-b519-f74c0302a433</th>\n",
       "      <td>486</td>\n",
       "      <td>1</td>\n",
       "      <td>359.0</td>\n",
       "      <td>1</td>\n",
       "      <td>1</td>\n",
       "      <td>1</td>\n",
       "      <td>111</td>\n",
       "    </tr>\n",
       "    <tr>\n",
       "      <th>5f75c73a-1305-4079-b040-2bcb42085002</th>\n",
       "      <td>485</td>\n",
       "      <td>1</td>\n",
       "      <td>299.0</td>\n",
       "      <td>1</td>\n",
       "      <td>1</td>\n",
       "      <td>1</td>\n",
       "      <td>111</td>\n",
       "    </tr>\n",
       "    <tr>\n",
       "      <th>eee7b1fa-ba81-4049-add6-370ee5e62e72</th>\n",
       "      <td>485</td>\n",
       "      <td>1</td>\n",
       "      <td>187.0</td>\n",
       "      <td>1</td>\n",
       "      <td>1</td>\n",
       "      <td>1</td>\n",
       "      <td>111</td>\n",
       "    </tr>\n",
       "    <tr>\n",
       "      <th>29a514f5-a27e-4939-85d5-874a0c3f7a2c</th>\n",
       "      <td>485</td>\n",
       "      <td>1</td>\n",
       "      <td>193.0</td>\n",
       "      <td>1</td>\n",
       "      <td>1</td>\n",
       "      <td>1</td>\n",
       "      <td>111</td>\n",
       "    </tr>\n",
       "  </tbody>\n",
       "</table>\n",
       "</div>"
      ],
      "text/plain": [
       "                                      recency  frequency  monetary_value  \\\n",
       "customer_id                                                                \n",
       "32a85453-f14d-40c2-90ba-3851498a5f3b  486      1          374.0            \n",
       "f08d9018-438e-4e96-b519-f74c0302a433  486      1          359.0            \n",
       "5f75c73a-1305-4079-b040-2bcb42085002  485      1          299.0            \n",
       "eee7b1fa-ba81-4049-add6-370ee5e62e72  485      1          187.0            \n",
       "29a514f5-a27e-4939-85d5-874a0c3f7a2c  485      1          193.0            \n",
       "\n",
       "                                      r_quartile  f_quartile  m_quartile  \\\n",
       "customer_id                                                                \n",
       "32a85453-f14d-40c2-90ba-3851498a5f3b  1           1           1            \n",
       "f08d9018-438e-4e96-b519-f74c0302a433  1           1           1            \n",
       "5f75c73a-1305-4079-b040-2bcb42085002  1           1           1            \n",
       "eee7b1fa-ba81-4049-add6-370ee5e62e72  1           1           1            \n",
       "29a514f5-a27e-4939-85d5-874a0c3f7a2c  1           1           1            \n",
       "\n",
       "                                     rfm_class  \n",
       "customer_id                                     \n",
       "32a85453-f14d-40c2-90ba-3851498a5f3b  111       \n",
       "f08d9018-438e-4e96-b519-f74c0302a433  111       \n",
       "5f75c73a-1305-4079-b040-2bcb42085002  111       \n",
       "eee7b1fa-ba81-4049-add6-370ee5e62e72  111       \n",
       "29a514f5-a27e-4939-85d5-874a0c3f7a2c  111       "
      ]
     },
     "execution_count": 39,
     "metadata": {},
     "output_type": "execute_result"
    }
   ],
   "source": [
    "one_customer = rfm_segment.query('rfm_class ==\"111\"').sort_values('recency',ascending=False)\n",
    "one_customer.head(5)"
   ]
  },
  {
   "cell_type": "code",
   "execution_count": 40,
   "metadata": {},
   "outputs": [
    {
     "data": {
      "text/plain": [
       "'Число разовых покупателей - 138'"
      ]
     },
     "execution_count": 40,
     "metadata": {},
     "output_type": "execute_result"
    }
   ],
   "source": [
    "'Число разовых покупателей - {}'.format(one_customer.shape[0])"
   ]
  },
  {
   "cell_type": "markdown",
   "metadata": {},
   "source": [
    "Единственная категория покупателей, для которых можно не делать персонализированное предложение.\n",
    "\n",
    "### Постоянные покупатели\n",
    "<a id=\"detailed4\"></a> \n",
    "\n",
    "Сегмент покупателей, чаще всего делающие заказы."
   ]
  },
  {
   "cell_type": "code",
   "execution_count": 41,
   "metadata": {},
   "outputs": [
    {
     "data": {
      "text/html": [
       "<div>\n",
       "<style scoped>\n",
       "    .dataframe tbody tr th:only-of-type {\n",
       "        vertical-align: middle;\n",
       "    }\n",
       "\n",
       "    .dataframe tbody tr th {\n",
       "        vertical-align: top;\n",
       "    }\n",
       "\n",
       "    .dataframe thead th {\n",
       "        text-align: right;\n",
       "    }\n",
       "</style>\n",
       "<table border=\"1\" class=\"dataframe\">\n",
       "  <thead>\n",
       "    <tr style=\"text-align: right;\">\n",
       "      <th></th>\n",
       "      <th>recency</th>\n",
       "      <th>frequency</th>\n",
       "      <th>monetary_value</th>\n",
       "      <th>r_quartile</th>\n",
       "      <th>f_quartile</th>\n",
       "      <th>m_quartile</th>\n",
       "      <th>rfm_class</th>\n",
       "    </tr>\n",
       "    <tr>\n",
       "      <th>customer_id</th>\n",
       "      <th></th>\n",
       "      <th></th>\n",
       "      <th></th>\n",
       "      <th></th>\n",
       "      <th></th>\n",
       "      <th></th>\n",
       "      <th></th>\n",
       "    </tr>\n",
       "  </thead>\n",
       "  <tbody>\n",
       "    <tr>\n",
       "      <th>c971fb21-d54c-4134-938f-16b62ee86d3b</th>\n",
       "      <td>331</td>\n",
       "      <td>125</td>\n",
       "      <td>152028.0</td>\n",
       "      <td>2</td>\n",
       "      <td>4</td>\n",
       "      <td>4</td>\n",
       "      <td>244</td>\n",
       "    </tr>\n",
       "    <tr>\n",
       "      <th>4d93d3f6-8b24-403b-a74b-f5173e40d7db</th>\n",
       "      <td>464</td>\n",
       "      <td>34</td>\n",
       "      <td>53728.0</td>\n",
       "      <td>1</td>\n",
       "      <td>4</td>\n",
       "      <td>4</td>\n",
       "      <td>144</td>\n",
       "    </tr>\n",
       "    <tr>\n",
       "      <th>498f12a4-6a62-4725-8516-cf5dc9ab8a3a</th>\n",
       "      <td>286</td>\n",
       "      <td>4</td>\n",
       "      <td>41900.0</td>\n",
       "      <td>2</td>\n",
       "      <td>4</td>\n",
       "      <td>4</td>\n",
       "      <td>244</td>\n",
       "    </tr>\n",
       "    <tr>\n",
       "      <th>73d1cd35-5e5f-4629-8cf2-3fda829d4e58</th>\n",
       "      <td>92</td>\n",
       "      <td>16</td>\n",
       "      <td>21009.0</td>\n",
       "      <td>3</td>\n",
       "      <td>4</td>\n",
       "      <td>4</td>\n",
       "      <td>344</td>\n",
       "    </tr>\n",
       "    <tr>\n",
       "      <th>639c4989-b0ab-412a-b7ec-be394cb2d372</th>\n",
       "      <td>451</td>\n",
       "      <td>3</td>\n",
       "      <td>12095.0</td>\n",
       "      <td>1</td>\n",
       "      <td>4</td>\n",
       "      <td>4</td>\n",
       "      <td>144</td>\n",
       "    </tr>\n",
       "  </tbody>\n",
       "</table>\n",
       "</div>"
      ],
      "text/plain": [
       "                                      recency  frequency  monetary_value  \\\n",
       "customer_id                                                                \n",
       "c971fb21-d54c-4134-938f-16b62ee86d3b  331      125        152028.0         \n",
       "4d93d3f6-8b24-403b-a74b-f5173e40d7db  464      34         53728.0          \n",
       "498f12a4-6a62-4725-8516-cf5dc9ab8a3a  286      4          41900.0          \n",
       "73d1cd35-5e5f-4629-8cf2-3fda829d4e58  92       16         21009.0          \n",
       "639c4989-b0ab-412a-b7ec-be394cb2d372  451      3          12095.0          \n",
       "\n",
       "                                      r_quartile  f_quartile  m_quartile  \\\n",
       "customer_id                                                                \n",
       "c971fb21-d54c-4134-938f-16b62ee86d3b  2           4           4            \n",
       "4d93d3f6-8b24-403b-a74b-f5173e40d7db  1           4           4            \n",
       "498f12a4-6a62-4725-8516-cf5dc9ab8a3a  2           4           4            \n",
       "73d1cd35-5e5f-4629-8cf2-3fda829d4e58  3           4           4            \n",
       "639c4989-b0ab-412a-b7ec-be394cb2d372  1           4           4            \n",
       "\n",
       "                                     rfm_class  \n",
       "customer_id                                     \n",
       "c971fb21-d54c-4134-938f-16b62ee86d3b  244       \n",
       "4d93d3f6-8b24-403b-a74b-f5173e40d7db  144       \n",
       "498f12a4-6a62-4725-8516-cf5dc9ab8a3a  244       \n",
       "73d1cd35-5e5f-4629-8cf2-3fda829d4e58  344       \n",
       "639c4989-b0ab-412a-b7ec-be394cb2d372  144       "
      ]
     },
     "execution_count": 41,
     "metadata": {},
     "output_type": "execute_result"
    }
   ],
   "source": [
    "high_f = rfm_segment.query('f_quartile > 3').sort_values('monetary_value', ascending=False)\n",
    "high_f.head(5)"
   ]
  },
  {
   "cell_type": "code",
   "execution_count": 42,
   "metadata": {},
   "outputs": [
    {
     "data": {
      "text/plain": [
       "'Число постоянных покупателей - 26'"
      ]
     },
     "execution_count": 42,
     "metadata": {},
     "output_type": "execute_result"
    }
   ],
   "source": [
    "'Число постоянных покупателей - {}'.format(high_f.shape[0])"
   ]
  },
  {
   "cell_type": "markdown",
   "metadata": {},
   "source": [
    "Таких покупателей не так много, можно предложить гибкую систему скидок для увеличения суммы чека."
   ]
  },
  {
   "cell_type": "markdown",
   "metadata": {},
   "source": [
    "## Формулировка и проверка гипотез\n",
    "<a id=\"hypotheses\"></a> \n",
    "\n",
    "Проверим, что предложенная сегментация имеет смысл с точки зрения бизнеса.\\\n",
    "Проверим продуктовые гипотезы о том, что средняя выручка и частота заказов на покупателя различается между сегментами.\n",
    "\n",
    "### Средняя выручка на покупателя с высокой денежной ценностью различается с остальными покупателями\n",
    "<a id=\"hypotheses1\"></a> "
   ]
  },
  {
   "cell_type": "markdown",
   "metadata": {},
   "source": [
    "Проверка гипотезы: Средняя выручка на покупателя с высокой денежной ценностью различается с остальными покупателями.\n",
    "\n",
    "**H_0**: Выручка (monetary_value) на покупателя с m > 2 = выручка (monetary_value) на покупателя с m <= 2.\\\n",
    "**H_a**: Выручка (monetary_value) на покупателя с m > 2 ≠ выручка (monetary_value) на покупателя с m <= 2.\n",
    "alpha = 0.05"
   ]
  },
  {
   "cell_type": "code",
   "execution_count": 43,
   "metadata": {},
   "outputs": [],
   "source": [
    "# поделим покупателей на группы, где high_m - покупатели с высокой денежной ценностью,\n",
    "# а low_m - остальные покупатели\n",
    "high_m = rfm_segment.query('m_quartile > 2').sort_values('monetary_value', ascending=False)\n",
    "low_m = rfm_segment.query('m_quartile <= 2').sort_values('monetary_value', ascending=False)"
   ]
  },
  {
   "cell_type": "code",
   "execution_count": 44,
   "metadata": {},
   "outputs": [
    {
     "name": "stdout",
     "output_type": "stream",
     "text": [
      "p-значение: 6.502878040242859e-40\n",
      "Отвергаем нулевую гипотезу\n"
     ]
    }
   ],
   "source": [
    "# вызов метода для проверки гипотезы\n",
    "results = st.ttest_ind(low_m['monetary_value'],\\\n",
    "                       high_m['monetary_value'], equal_var=False)\n",
    "# значение уровня значимости\n",
    "alpha = 0.05\n",
    "\n",
    "print('p-значение:', results.pvalue)\n",
    "\n",
    "if results.pvalue < alpha:\n",
    "    print('Отвергаем нулевую гипотезу')\n",
    "else:\n",
    "    print('Не получилось отвергнуть нулевую гипотезу') "
   ]
  },
  {
   "cell_type": "markdown",
   "metadata": {},
   "source": [
    "### Средняя частота заказов на покупателя на покупателя с высоким количеством заказов различается с остальными покупателями\n",
    "<a id=\"hypotheses2\"></a> \n",
    "\n",
    "Проверка гипотезы: Средняя частота заказов на покупателя с высоким количеством заказов различается с остальными покупателями.\n",
    "\n",
    "**H_0**: Средняя частота заказов (frequency) покупателей с высоким количеством заказов = Средняя частота заказов (frequency) остальных покупателей.\\\n",
    "**H_a**: Средняя частота заказов (frequency) покупателей с высоким количеством заказов ≠ средняя частота заказов (frequency) остальных покупателей.\n",
    "alpha = 0.05"
   ]
  },
  {
   "cell_type": "code",
   "execution_count": 45,
   "metadata": {},
   "outputs": [],
   "source": [
    "# поделим покупателей на группы, где high_f - покупатели с высоким количеством заказов,\n",
    "# а low_f - остальные покупатели\n",
    "high_f = rfm_segment.query('f_quartile > 2').sort_values('monetary_value', ascending=False)\n",
    "low_f = rfm_segment.query('f_quartile <= 2').sort_values('monetary_value', ascending=False)"
   ]
  },
  {
   "cell_type": "code",
   "execution_count": 46,
   "metadata": {},
   "outputs": [
    {
     "name": "stdout",
     "output_type": "stream",
     "text": [
      "p-значение: 8.008581127855814e-16\n",
      "Отвергаем нулевую гипотезу\n"
     ]
    },
    {
     "name": "stderr",
     "output_type": "stream",
     "text": [
      "/tmp/ipykernel_31/686510602.py:2: RuntimeWarning: Precision loss occurred in moment calculation due to catastrophic cancellation. This occurs when the data are nearly identical. Results may be unreliable.\n",
      "  results = st.ttest_ind(low_f['frequency'],\\\n"
     ]
    }
   ],
   "source": [
    "# вызов метода для проверки гипотезы\n",
    "results = st.ttest_ind(low_f['frequency'],\\\n",
    "                       high_f['frequency'], equal_var=False)\n",
    "# значение уровня значимости\n",
    "alpha = 0.05\n",
    "\n",
    "print('p-значение:', results.pvalue)\n",
    "\n",
    "if results.pvalue < alpha:\n",
    "    print('Отвергаем нулевую гипотезу')\n",
    "else:\n",
    "    print('Не получилось отвергнуть нулевую гипотезу') "
   ]
  },
  {
   "cell_type": "markdown",
   "metadata": {},
   "source": [
    "Продуктовые гипотезы о том, что средняя выручка и частота заказов на покупателя различается между сегментами, поделенными по признаку частота и денежная ценность, подтвердились при помощи статистических критериев. Предложенная сегментация имеет смысл с точки зрения бизнеса. "
   ]
  },
  {
   "cell_type": "markdown",
   "metadata": {},
   "source": [
    "## Вывод\n",
    "<a id=\"conclusions\"></a> "
   ]
  },
  {
   "cell_type": "markdown",
   "metadata": {},
   "source": [
    "Мы провели большую исследовательскую работу по сегментированию покупателей интернет-магазина товаров для дома и быта «Пока все ещё тут» по профилю потребления. При анализе данных датафрейма мы сделали промежуточные выводы, которые помогли лучше узнать потребителей и их покупательские способности.\n",
    "- Во время анализа были проанализированы данные с 12 часов ночи 1 октября 2018 года по 15 часов дня 31 января 2020 года.\n",
    "- Общее количество уникальных покупателей интернет-магазина - 2413 покупателей.\n",
    "- Количество заказов в интернет-магазине - 3492 заказов.\n",
    "- Количество продаж в течение дня:\n",
    "  - самое большое количество продаж совершается с 8 утра до 22 вечера;\n",
    "  - достигает пика к часу дня;\n",
    "  - ночью с 23-00 до 7-00 покупательская активность падает.\n",
    "- Количество продаж по дням недели:\n",
    "  - самое большое количество покупок совершается в понедельник и во вторник;\n",
    "  - в выходные дни наблюдаются самые низкие продажи.\n",
    "- Количество продаж по месяцам подвержено сезонности:\n",
    "  - категорию комнатные растения и цветы активно покупают с марта по июнь;\n",
    "  - категорию рассада покупают с апреля по июнь;\n",
    "  - июль - сентябрь самые низкие продажи по всем категориям;\n",
    "  - с октября подъем продаж по всем категорием с постепенным спадом к январю.\n"
   ]
  },
  {
   "cell_type": "markdown",
   "metadata": {},
   "source": [
    "Проведенный анализ выявил основную категорию покупателей магазина - дачники.\\\n",
    "Для заказчика был проведен RFM-анализ потребительской ценности для сегментации покупателей, который сгруппировал покупателей в различные сегменты и упорядочил их от наиболее ценных (наибольшая повторяемость, частота и ценность) до наименее ценных (наименьшая повторяемость, частота и ценность).\\\n",
    "На основе выделенных сегментов покупателей заказчик может разработать персонализированные предложения для каждого сегмента."
   ]
  },
  {
   "cell_type": "code",
   "execution_count": null,
   "metadata": {},
   "outputs": [],
   "source": []
  }
 ],
 "metadata": {
  "ExecuteTimeLog": [
   {
    "duration": 1886,
    "start_time": "2023-07-26T09:55:52.511Z"
   },
   {
    "duration": 7,
    "start_time": "2023-07-26T09:57:25.356Z"
   },
   {
    "duration": 1512,
    "start_time": "2023-07-26T09:57:25.366Z"
   },
   {
    "duration": 4,
    "start_time": "2023-07-26T09:57:26.880Z"
   },
   {
    "duration": 29,
    "start_time": "2023-07-26T09:57:26.886Z"
   },
   {
    "duration": 4,
    "start_time": "2023-07-26T09:58:01.210Z"
   },
   {
    "duration": 20,
    "start_time": "2023-07-26T09:58:17.301Z"
   },
   {
    "duration": 8,
    "start_time": "2023-07-26T09:58:30.871Z"
   },
   {
    "duration": 1232,
    "start_time": "2023-07-26T09:58:30.881Z"
   },
   {
    "duration": 4,
    "start_time": "2023-07-26T09:58:32.115Z"
   },
   {
    "duration": 28,
    "start_time": "2023-07-26T09:58:32.121Z"
   },
   {
    "duration": 20,
    "start_time": "2023-07-26T09:58:32.152Z"
   },
   {
    "duration": 16,
    "start_time": "2023-07-26T10:01:44.304Z"
   },
   {
    "duration": 10,
    "start_time": "2023-07-26T10:02:05.967Z"
   },
   {
    "duration": 12,
    "start_time": "2023-07-26T10:06:38.969Z"
   },
   {
    "duration": 6,
    "start_time": "2023-07-26T10:10:25.135Z"
   },
   {
    "duration": 1346,
    "start_time": "2023-07-26T10:10:25.143Z"
   },
   {
    "duration": 3,
    "start_time": "2023-07-26T10:10:26.491Z"
   },
   {
    "duration": 51,
    "start_time": "2023-07-26T10:10:26.495Z"
   },
   {
    "duration": 36,
    "start_time": "2023-07-26T10:10:26.549Z"
   },
   {
    "duration": 7,
    "start_time": "2023-07-26T10:12:47.108Z"
   },
   {
    "duration": 18,
    "start_time": "2023-07-26T10:12:52.101Z"
   },
   {
    "duration": 14,
    "start_time": "2023-07-26T10:13:17.786Z"
   },
   {
    "duration": 17,
    "start_time": "2023-07-26T10:13:18.857Z"
   },
   {
    "duration": 10,
    "start_time": "2023-07-26T10:15:34.568Z"
   },
   {
    "duration": 21,
    "start_time": "2023-07-26T10:15:35.244Z"
   },
   {
    "duration": 10,
    "start_time": "2023-07-26T10:15:53.920Z"
   },
   {
    "duration": 19,
    "start_time": "2023-07-26T10:15:54.436Z"
   },
   {
    "duration": 1663,
    "start_time": "2023-07-26T10:16:16.462Z"
   },
   {
    "duration": 1031,
    "start_time": "2023-07-26T10:16:18.127Z"
   },
   {
    "duration": 10,
    "start_time": "2023-07-26T10:16:19.160Z"
   },
   {
    "duration": 54,
    "start_time": "2023-07-26T10:16:19.172Z"
   },
   {
    "duration": 37,
    "start_time": "2023-07-26T10:16:19.228Z"
   },
   {
    "duration": 10,
    "start_time": "2023-07-26T10:16:19.267Z"
   },
   {
    "duration": 29,
    "start_time": "2023-07-26T10:16:19.278Z"
   },
   {
    "duration": 12,
    "start_time": "2023-07-26T10:25:04.867Z"
   },
   {
    "duration": 12,
    "start_time": "2023-07-26T10:26:00.878Z"
   },
   {
    "duration": 11,
    "start_time": "2023-07-26T10:26:01.422Z"
   },
   {
    "duration": 1683,
    "start_time": "2023-07-26T10:26:15.296Z"
   },
   {
    "duration": 1462,
    "start_time": "2023-07-26T10:26:16.981Z"
   },
   {
    "duration": 3,
    "start_time": "2023-07-26T10:26:18.446Z"
   },
   {
    "duration": 81,
    "start_time": "2023-07-26T10:26:18.450Z"
   },
   {
    "duration": 72,
    "start_time": "2023-07-26T10:26:18.534Z"
   },
   {
    "duration": 1116,
    "start_time": "2023-07-26T10:26:18.608Z"
   },
   {
    "duration": 0,
    "start_time": "2023-07-26T10:26:19.727Z"
   },
   {
    "duration": 0,
    "start_time": "2023-07-26T10:26:19.728Z"
   },
   {
    "duration": 6,
    "start_time": "2023-07-26T10:28:33.416Z"
   },
   {
    "duration": 11,
    "start_time": "2023-07-26T10:28:36.320Z"
   },
   {
    "duration": 6,
    "start_time": "2023-07-26T10:29:07.783Z"
   },
   {
    "duration": 1114,
    "start_time": "2023-07-26T10:29:07.792Z"
   },
   {
    "duration": 3,
    "start_time": "2023-07-26T10:29:08.908Z"
   },
   {
    "duration": 85,
    "start_time": "2023-07-26T10:29:08.913Z"
   },
   {
    "duration": 35,
    "start_time": "2023-07-26T10:29:09.000Z"
   },
   {
    "duration": 20,
    "start_time": "2023-07-26T10:29:09.037Z"
   },
   {
    "duration": 0,
    "start_time": "2023-07-26T10:29:09.059Z"
   },
   {
    "duration": 0,
    "start_time": "2023-07-26T10:29:09.061Z"
   },
   {
    "duration": 27,
    "start_time": "2023-07-26T10:29:19.160Z"
   },
   {
    "duration": 7,
    "start_time": "2023-07-26T10:29:43.035Z"
   },
   {
    "duration": 11,
    "start_time": "2023-07-26T10:30:09.895Z"
   },
   {
    "duration": 17,
    "start_time": "2023-07-26T10:30:14.687Z"
   },
   {
    "duration": 1672,
    "start_time": "2023-07-26T10:30:23.393Z"
   },
   {
    "duration": 1029,
    "start_time": "2023-07-26T10:30:25.073Z"
   },
   {
    "duration": 3,
    "start_time": "2023-07-26T10:30:26.104Z"
   },
   {
    "duration": 62,
    "start_time": "2023-07-26T10:30:26.109Z"
   },
   {
    "duration": 61,
    "start_time": "2023-07-26T10:30:26.174Z"
   },
   {
    "duration": 18,
    "start_time": "2023-07-26T10:30:26.237Z"
   },
   {
    "duration": 79,
    "start_time": "2023-07-26T10:30:26.257Z"
   },
   {
    "duration": 137,
    "start_time": "2023-07-26T10:30:26.338Z"
   },
   {
    "duration": 11,
    "start_time": "2023-07-26T10:33:11.619Z"
   },
   {
    "duration": 20,
    "start_time": "2023-07-26T10:33:13.396Z"
   },
   {
    "duration": 2283,
    "start_time": "2023-07-26T10:33:22.683Z"
   },
   {
    "duration": 999,
    "start_time": "2023-07-26T10:33:24.968Z"
   },
   {
    "duration": 2,
    "start_time": "2023-07-26T10:33:25.969Z"
   },
   {
    "duration": 15,
    "start_time": "2023-07-26T10:33:25.973Z"
   },
   {
    "duration": 28,
    "start_time": "2023-07-26T10:33:25.990Z"
   },
   {
    "duration": 2893,
    "start_time": "2023-07-26T10:33:26.020Z"
   },
   {
    "duration": 0,
    "start_time": "2023-07-26T10:33:28.915Z"
   },
   {
    "duration": 0,
    "start_time": "2023-07-26T10:33:28.916Z"
   },
   {
    "duration": 13,
    "start_time": "2023-07-26T10:33:45.026Z"
   },
   {
    "duration": 17,
    "start_time": "2023-07-26T10:33:47.401Z"
   },
   {
    "duration": 13,
    "start_time": "2023-07-26T10:37:17.175Z"
   },
   {
    "duration": 18,
    "start_time": "2023-07-26T10:38:04.509Z"
   },
   {
    "duration": 7,
    "start_time": "2023-07-26T10:38:32.005Z"
   },
   {
    "duration": 31,
    "start_time": "2023-07-26T10:38:33.079Z"
   },
   {
    "duration": 24,
    "start_time": "2023-07-26T10:40:40.195Z"
   },
   {
    "duration": 9,
    "start_time": "2023-07-26T10:42:46.718Z"
   },
   {
    "duration": 15,
    "start_time": "2023-07-26T10:43:04.489Z"
   },
   {
    "duration": 10,
    "start_time": "2023-07-26T10:45:42.166Z"
   },
   {
    "duration": 6,
    "start_time": "2023-07-26T10:45:56.816Z"
   },
   {
    "duration": 7,
    "start_time": "2023-07-26T10:46:13.902Z"
   },
   {
    "duration": 6,
    "start_time": "2023-07-26T10:46:42.731Z"
   },
   {
    "duration": 1818,
    "start_time": "2023-07-26T12:31:38.160Z"
   },
   {
    "duration": 1541,
    "start_time": "2023-07-26T12:31:39.981Z"
   },
   {
    "duration": 3,
    "start_time": "2023-07-26T12:31:41.524Z"
   },
   {
    "duration": 33,
    "start_time": "2023-07-26T12:31:41.528Z"
   },
   {
    "duration": 16,
    "start_time": "2023-07-26T12:31:41.563Z"
   },
   {
    "duration": 19,
    "start_time": "2023-07-26T12:31:41.581Z"
   },
   {
    "duration": 9,
    "start_time": "2023-07-26T12:31:41.602Z"
   },
   {
    "duration": 46,
    "start_time": "2023-07-26T12:31:41.614Z"
   },
   {
    "duration": 5,
    "start_time": "2023-07-26T12:31:41.663Z"
   },
   {
    "duration": 29,
    "start_time": "2023-07-26T12:31:41.670Z"
   },
   {
    "duration": 10,
    "start_time": "2023-07-26T12:32:58.204Z"
   },
   {
    "duration": 12,
    "start_time": "2023-07-26T12:32:59.707Z"
   },
   {
    "duration": 4,
    "start_time": "2023-07-26T12:33:43.515Z"
   },
   {
    "duration": 31,
    "start_time": "2023-07-26T12:34:31.925Z"
   },
   {
    "duration": 31,
    "start_time": "2023-07-26T12:34:50.150Z"
   },
   {
    "duration": 37,
    "start_time": "2023-07-26T12:35:01.694Z"
   },
   {
    "duration": 101,
    "start_time": "2023-07-26T12:35:37.815Z"
   },
   {
    "duration": 51,
    "start_time": "2023-07-26T12:36:01.179Z"
   },
   {
    "duration": 150,
    "start_time": "2023-07-26T12:40:24.579Z"
   },
   {
    "duration": 10,
    "start_time": "2023-07-26T12:40:36.827Z"
   },
   {
    "duration": 11,
    "start_time": "2023-07-26T12:40:56.110Z"
   },
   {
    "duration": 20,
    "start_time": "2023-07-26T12:41:41.801Z"
   },
   {
    "duration": 10,
    "start_time": "2023-07-26T12:41:52.537Z"
   },
   {
    "duration": 10,
    "start_time": "2023-07-26T12:42:07.161Z"
   },
   {
    "duration": 12,
    "start_time": "2023-07-26T12:43:12.552Z"
   },
   {
    "duration": 55,
    "start_time": "2023-07-26T12:43:43.858Z"
   },
   {
    "duration": 21,
    "start_time": "2023-07-26T12:43:46.083Z"
   },
   {
    "duration": 34,
    "start_time": "2023-07-26T12:44:18.611Z"
   },
   {
    "duration": 73,
    "start_time": "2023-07-26T12:44:25.803Z"
   },
   {
    "duration": 49,
    "start_time": "2023-07-26T12:44:29.981Z"
   },
   {
    "duration": 10,
    "start_time": "2023-07-26T12:45:41.536Z"
   },
   {
    "duration": 11,
    "start_time": "2023-07-26T12:45:50.632Z"
   },
   {
    "duration": 14,
    "start_time": "2023-07-26T12:46:24.904Z"
   },
   {
    "duration": 47,
    "start_time": "2023-07-26T12:46:49.260Z"
   },
   {
    "duration": 9,
    "start_time": "2023-07-26T12:47:20.119Z"
   },
   {
    "duration": 11,
    "start_time": "2023-07-26T12:50:21.648Z"
   },
   {
    "duration": 9,
    "start_time": "2023-07-26T12:50:27.750Z"
   },
   {
    "duration": 6,
    "start_time": "2023-07-26T12:51:44.229Z"
   },
   {
    "duration": 8,
    "start_time": "2023-07-26T12:51:55.558Z"
   },
   {
    "duration": 3,
    "start_time": "2023-07-26T12:52:02.601Z"
   },
   {
    "duration": 8,
    "start_time": "2023-07-26T12:52:03.118Z"
   },
   {
    "duration": 19,
    "start_time": "2023-07-26T12:59:43.324Z"
   },
   {
    "duration": 12,
    "start_time": "2023-07-26T13:13:58.332Z"
   },
   {
    "duration": 19,
    "start_time": "2023-07-26T13:14:11.053Z"
   },
   {
    "duration": 10,
    "start_time": "2023-07-26T13:14:18.983Z"
   },
   {
    "duration": 10,
    "start_time": "2023-07-26T13:14:50.848Z"
   },
   {
    "duration": 221,
    "start_time": "2023-07-26T13:15:16.542Z"
   },
   {
    "duration": 89,
    "start_time": "2023-07-26T13:15:33.160Z"
   },
   {
    "duration": 219,
    "start_time": "2023-07-26T13:15:41.986Z"
   },
   {
    "duration": 9,
    "start_time": "2023-07-26T13:15:53.555Z"
   },
   {
    "duration": 10,
    "start_time": "2023-07-26T13:16:08.449Z"
   },
   {
    "duration": 28,
    "start_time": "2023-07-26T13:16:30.265Z"
   },
   {
    "duration": 24,
    "start_time": "2023-07-26T13:16:45.271Z"
   },
   {
    "duration": 45,
    "start_time": "2023-07-26T13:18:58.980Z"
   },
   {
    "duration": 44,
    "start_time": "2023-07-26T13:19:23.785Z"
   },
   {
    "duration": 43,
    "start_time": "2023-07-26T13:19:27.810Z"
   },
   {
    "duration": 44,
    "start_time": "2023-07-26T13:19:42.268Z"
   },
   {
    "duration": 9,
    "start_time": "2023-07-26T14:13:13.587Z"
   },
   {
    "duration": 10,
    "start_time": "2023-07-26T14:13:36.282Z"
   },
   {
    "duration": 11,
    "start_time": "2023-07-26T14:17:45.533Z"
   },
   {
    "duration": 8,
    "start_time": "2023-07-26T14:18:22.556Z"
   },
   {
    "duration": 6,
    "start_time": "2023-07-26T14:19:47.349Z"
   },
   {
    "duration": 6,
    "start_time": "2023-07-26T14:19:50.496Z"
   },
   {
    "duration": 3,
    "start_time": "2023-07-26T14:31:57.715Z"
   },
   {
    "duration": 13,
    "start_time": "2023-07-26T14:31:59.537Z"
   },
   {
    "duration": 861,
    "start_time": "2023-07-26T14:32:11.340Z"
   },
   {
    "duration": 6,
    "start_time": "2023-07-26T14:32:20.748Z"
   },
   {
    "duration": 4,
    "start_time": "2023-07-26T14:32:50.210Z"
   },
   {
    "duration": 862,
    "start_time": "2023-07-26T14:32:52.058Z"
   },
   {
    "duration": 6,
    "start_time": "2023-07-26T14:32:53.008Z"
   },
   {
    "duration": 6,
    "start_time": "2023-07-26T14:35:01.639Z"
   },
   {
    "duration": 1160,
    "start_time": "2023-07-26T14:35:01.648Z"
   },
   {
    "duration": 3,
    "start_time": "2023-07-26T14:35:02.810Z"
   },
   {
    "duration": 43,
    "start_time": "2023-07-26T14:35:02.816Z"
   },
   {
    "duration": 48,
    "start_time": "2023-07-26T14:35:02.862Z"
   },
   {
    "duration": 24,
    "start_time": "2023-07-26T14:35:02.911Z"
   },
   {
    "duration": 46,
    "start_time": "2023-07-26T14:35:02.936Z"
   },
   {
    "duration": 29,
    "start_time": "2023-07-26T14:35:02.984Z"
   },
   {
    "duration": 45,
    "start_time": "2023-07-26T14:35:03.015Z"
   },
   {
    "duration": 86,
    "start_time": "2023-07-26T14:35:03.062Z"
   },
   {
    "duration": 9,
    "start_time": "2023-07-26T14:35:03.150Z"
   },
   {
    "duration": 27,
    "start_time": "2023-07-26T14:35:03.161Z"
   },
   {
    "duration": 38,
    "start_time": "2023-07-26T14:35:03.190Z"
   },
   {
    "duration": 887,
    "start_time": "2023-07-26T14:35:03.230Z"
   },
   {
    "duration": 5,
    "start_time": "2023-07-26T14:35:04.118Z"
   },
   {
    "duration": 35,
    "start_time": "2023-07-26T14:35:04.125Z"
   },
   {
    "duration": 5,
    "start_time": "2023-07-26T14:37:07.695Z"
   },
   {
    "duration": 934,
    "start_time": "2023-07-26T14:37:09.103Z"
   },
   {
    "duration": 19,
    "start_time": "2023-07-26T14:37:10.144Z"
   },
   {
    "duration": 5,
    "start_time": "2023-07-26T14:38:04.554Z"
   },
   {
    "duration": 19,
    "start_time": "2023-07-26T14:38:09.092Z"
   },
   {
    "duration": 6,
    "start_time": "2023-07-26T14:42:05.732Z"
   },
   {
    "duration": 4,
    "start_time": "2023-07-26T14:42:06.221Z"
   },
   {
    "duration": 899,
    "start_time": "2023-07-26T14:42:07.148Z"
   },
   {
    "duration": 20,
    "start_time": "2023-07-26T14:42:08.049Z"
   },
   {
    "duration": 13,
    "start_time": "2023-07-26T14:43:13.097Z"
   },
   {
    "duration": 8,
    "start_time": "2023-07-26T14:43:38.932Z"
   },
   {
    "duration": 6,
    "start_time": "2023-07-26T14:43:48.786Z"
   },
   {
    "duration": 21,
    "start_time": "2023-07-26T14:44:03.997Z"
   },
   {
    "duration": 89,
    "start_time": "2023-07-26T14:44:33.245Z"
   },
   {
    "duration": 21,
    "start_time": "2023-07-26T14:44:33.897Z"
   },
   {
    "duration": 7,
    "start_time": "2023-07-26T14:44:39.838Z"
   },
   {
    "duration": 6,
    "start_time": "2023-07-26T14:47:06.219Z"
   },
   {
    "duration": 920,
    "start_time": "2023-07-26T14:47:12.326Z"
   },
   {
    "duration": 8,
    "start_time": "2023-07-26T14:47:15.518Z"
   },
   {
    "duration": 6,
    "start_time": "2023-07-26T14:47:52.374Z"
   },
   {
    "duration": 4,
    "start_time": "2023-07-26T14:47:52.878Z"
   },
   {
    "duration": 1048,
    "start_time": "2023-07-26T14:47:54.534Z"
   },
   {
    "duration": 10,
    "start_time": "2023-07-26T14:47:56.463Z"
   },
   {
    "duration": 7,
    "start_time": "2023-07-26T14:48:00.281Z"
   },
   {
    "duration": 7,
    "start_time": "2023-07-26T14:50:06.392Z"
   },
   {
    "duration": 1031,
    "start_time": "2023-07-26T14:50:11.592Z"
   },
   {
    "duration": 7,
    "start_time": "2023-07-26T14:50:18.558Z"
   },
   {
    "duration": 10,
    "start_time": "2023-07-26T14:50:25.274Z"
   },
   {
    "duration": 8,
    "start_time": "2023-07-26T14:50:29.847Z"
   },
   {
    "duration": 7,
    "start_time": "2023-07-26T14:52:26.586Z"
   },
   {
    "duration": 1101,
    "start_time": "2023-07-26T14:52:29.249Z"
   },
   {
    "duration": 14,
    "start_time": "2023-07-26T14:52:31.033Z"
   },
   {
    "duration": 10,
    "start_time": "2023-07-26T14:52:33.552Z"
   },
   {
    "duration": 7,
    "start_time": "2023-07-26T14:52:43.001Z"
   },
   {
    "duration": 6,
    "start_time": "2023-07-26T14:52:57.286Z"
   },
   {
    "duration": 1120,
    "start_time": "2023-07-26T14:53:00.744Z"
   },
   {
    "duration": 9,
    "start_time": "2023-07-26T14:53:01.866Z"
   },
   {
    "duration": 7,
    "start_time": "2023-07-26T14:53:03.488Z"
   },
   {
    "duration": 8,
    "start_time": "2023-07-26T14:53:47.582Z"
   },
   {
    "duration": 7,
    "start_time": "2023-07-26T14:54:27.418Z"
   },
   {
    "duration": 1115,
    "start_time": "2023-07-26T14:54:30.462Z"
   },
   {
    "duration": 13,
    "start_time": "2023-07-26T14:54:31.609Z"
   },
   {
    "duration": 7,
    "start_time": "2023-07-26T14:54:33.394Z"
   },
   {
    "duration": 7,
    "start_time": "2023-07-26T14:54:37.829Z"
   },
   {
    "duration": 7,
    "start_time": "2023-07-26T14:56:12.193Z"
   },
   {
    "duration": 1143,
    "start_time": "2023-07-26T14:56:15.106Z"
   },
   {
    "duration": 9,
    "start_time": "2023-07-26T14:56:17.206Z"
   },
   {
    "duration": 7,
    "start_time": "2023-07-26T14:56:18.964Z"
   },
   {
    "duration": 9,
    "start_time": "2023-07-26T15:00:24.437Z"
   },
   {
    "duration": 1193,
    "start_time": "2023-07-26T15:00:26.980Z"
   },
   {
    "duration": 16,
    "start_time": "2023-07-26T15:00:28.175Z"
   },
   {
    "duration": 7,
    "start_time": "2023-07-26T15:00:30.509Z"
   },
   {
    "duration": 19,
    "start_time": "2023-07-26T15:00:41.868Z"
   },
   {
    "duration": 7,
    "start_time": "2023-07-26T15:01:46.559Z"
   },
   {
    "duration": 7,
    "start_time": "2023-07-26T15:01:57.533Z"
   },
   {
    "duration": 7,
    "start_time": "2023-07-26T15:02:50.503Z"
   },
   {
    "duration": 1398,
    "start_time": "2023-07-26T15:02:53.526Z"
   },
   {
    "duration": 21,
    "start_time": "2023-07-26T15:02:55.464Z"
   },
   {
    "duration": 9,
    "start_time": "2023-07-26T15:03:00.093Z"
   },
   {
    "duration": 8,
    "start_time": "2023-07-26T15:03:22.654Z"
   },
   {
    "duration": 1241,
    "start_time": "2023-07-26T15:03:24.996Z"
   },
   {
    "duration": 10,
    "start_time": "2023-07-26T15:03:26.365Z"
   },
   {
    "duration": 21,
    "start_time": "2023-07-26T15:03:27.950Z"
   },
   {
    "duration": 7,
    "start_time": "2023-07-26T15:03:31.302Z"
   },
   {
    "duration": 7,
    "start_time": "2023-07-26T15:03:39.401Z"
   },
   {
    "duration": 7,
    "start_time": "2023-07-26T15:04:10.466Z"
   },
   {
    "duration": 7,
    "start_time": "2023-07-26T15:04:21.981Z"
   },
   {
    "duration": 7,
    "start_time": "2023-07-26T15:04:30.478Z"
   },
   {
    "duration": 7,
    "start_time": "2023-07-26T15:04:42.487Z"
   },
   {
    "duration": 116,
    "start_time": "2023-07-26T15:06:01.311Z"
   },
   {
    "duration": 8,
    "start_time": "2023-07-26T15:08:22.904Z"
   },
   {
    "duration": 1316,
    "start_time": "2023-07-26T15:08:26.082Z"
   },
   {
    "duration": 9,
    "start_time": "2023-07-26T15:08:28.983Z"
   },
   {
    "duration": 21,
    "start_time": "2023-07-26T15:08:30.136Z"
   },
   {
    "duration": 7,
    "start_time": "2023-07-26T15:08:34.016Z"
   },
   {
    "duration": 7,
    "start_time": "2023-07-26T15:10:08.606Z"
   },
   {
    "duration": 1315,
    "start_time": "2023-07-26T15:10:11.154Z"
   },
   {
    "duration": 9,
    "start_time": "2023-07-26T15:10:12.471Z"
   },
   {
    "duration": 21,
    "start_time": "2023-07-26T15:10:12.932Z"
   },
   {
    "duration": 7,
    "start_time": "2023-07-26T15:10:54.003Z"
   },
   {
    "duration": 1419,
    "start_time": "2023-07-26T15:11:00.287Z"
   },
   {
    "duration": 9,
    "start_time": "2023-07-26T15:11:01.790Z"
   },
   {
    "duration": 22,
    "start_time": "2023-07-26T15:11:02.465Z"
   },
   {
    "duration": 8,
    "start_time": "2023-07-26T15:11:05.977Z"
   },
   {
    "duration": 17,
    "start_time": "2023-07-26T15:12:13.586Z"
   },
   {
    "duration": 10,
    "start_time": "2023-07-26T16:08:12.985Z"
   },
   {
    "duration": 1417,
    "start_time": "2023-07-26T16:08:12.998Z"
   },
   {
    "duration": 3,
    "start_time": "2023-07-26T16:08:14.418Z"
   },
   {
    "duration": 24,
    "start_time": "2023-07-26T16:08:14.423Z"
   },
   {
    "duration": 14,
    "start_time": "2023-07-26T16:08:14.450Z"
   },
   {
    "duration": 16,
    "start_time": "2023-07-26T16:08:14.474Z"
   },
   {
    "duration": 26,
    "start_time": "2023-07-26T16:08:14.493Z"
   },
   {
    "duration": 12,
    "start_time": "2023-07-26T16:08:14.520Z"
   },
   {
    "duration": 8,
    "start_time": "2023-07-26T16:08:14.534Z"
   },
   {
    "duration": 11,
    "start_time": "2023-07-26T16:08:14.544Z"
   },
   {
    "duration": 12,
    "start_time": "2023-07-26T16:08:14.557Z"
   },
   {
    "duration": 1448,
    "start_time": "2023-07-26T16:08:14.571Z"
   },
   {
    "duration": 9,
    "start_time": "2023-07-26T16:08:16.021Z"
   },
   {
    "duration": 34,
    "start_time": "2023-07-26T16:08:16.032Z"
   },
   {
    "duration": 10,
    "start_time": "2023-07-26T16:08:16.067Z"
   },
   {
    "duration": 21,
    "start_time": "2023-07-26T16:08:16.078Z"
   },
   {
    "duration": 22,
    "start_time": "2023-07-26T16:09:01.395Z"
   },
   {
    "duration": 15,
    "start_time": "2023-07-26T16:09:01.760Z"
   },
   {
    "duration": 9,
    "start_time": "2023-07-26T16:09:07.606Z"
   },
   {
    "duration": 5,
    "start_time": "2023-07-26T16:09:08.561Z"
   },
   {
    "duration": 1584,
    "start_time": "2023-07-26T16:09:09.515Z"
   },
   {
    "duration": 11,
    "start_time": "2023-07-26T16:09:11.103Z"
   },
   {
    "duration": 32,
    "start_time": "2023-07-26T16:09:11.578Z"
   },
   {
    "duration": 7,
    "start_time": "2023-07-26T16:09:15.478Z"
   },
   {
    "duration": 27,
    "start_time": "2023-07-26T16:23:51.149Z"
   },
   {
    "duration": 7,
    "start_time": "2023-07-26T16:24:15.235Z"
   },
   {
    "duration": 11,
    "start_time": "2023-07-26T16:24:35.403Z"
   },
   {
    "duration": 17,
    "start_time": "2023-07-26T16:25:30.026Z"
   },
   {
    "duration": 9,
    "start_time": "2023-07-26T16:27:24.316Z"
   },
   {
    "duration": 1402,
    "start_time": "2023-07-26T16:27:24.327Z"
   },
   {
    "duration": 3,
    "start_time": "2023-07-26T16:27:25.731Z"
   },
   {
    "duration": 21,
    "start_time": "2023-07-26T16:27:25.736Z"
   },
   {
    "duration": 26,
    "start_time": "2023-07-26T16:27:25.758Z"
   },
   {
    "duration": 23,
    "start_time": "2023-07-26T16:27:25.787Z"
   },
   {
    "duration": 11,
    "start_time": "2023-07-26T16:27:25.812Z"
   },
   {
    "duration": 16,
    "start_time": "2023-07-26T16:27:25.825Z"
   },
   {
    "duration": 18,
    "start_time": "2023-07-26T16:27:25.842Z"
   },
   {
    "duration": 21,
    "start_time": "2023-07-26T16:27:25.863Z"
   },
   {
    "duration": 56,
    "start_time": "2023-07-26T16:27:25.886Z"
   },
   {
    "duration": 1421,
    "start_time": "2023-07-26T16:27:25.944Z"
   },
   {
    "duration": 10,
    "start_time": "2023-07-26T16:27:27.367Z"
   },
   {
    "duration": 33,
    "start_time": "2023-07-26T16:27:27.387Z"
   },
   {
    "duration": 38,
    "start_time": "2023-07-26T16:27:27.422Z"
   },
   {
    "duration": 26,
    "start_time": "2023-07-26T16:27:27.462Z"
   },
   {
    "duration": 37,
    "start_time": "2023-07-26T16:27:27.490Z"
   },
   {
    "duration": 22,
    "start_time": "2023-07-26T16:27:27.528Z"
   },
   {
    "duration": 16,
    "start_time": "2023-07-26T16:28:48.896Z"
   },
   {
    "duration": 11,
    "start_time": "2023-07-26T16:29:42.141Z"
   },
   {
    "duration": 10,
    "start_time": "2023-07-26T16:29:54.515Z"
   },
   {
    "duration": 5,
    "start_time": "2023-07-26T16:30:09.643Z"
   },
   {
    "duration": 1942,
    "start_time": "2023-07-27T10:49:32.701Z"
   },
   {
    "duration": 949,
    "start_time": "2023-07-27T10:49:34.645Z"
   },
   {
    "duration": 3,
    "start_time": "2023-07-27T10:49:35.596Z"
   },
   {
    "duration": 35,
    "start_time": "2023-07-27T10:49:35.600Z"
   },
   {
    "duration": 13,
    "start_time": "2023-07-27T10:49:35.637Z"
   },
   {
    "duration": 26,
    "start_time": "2023-07-27T10:49:35.652Z"
   },
   {
    "duration": 16,
    "start_time": "2023-07-27T10:49:35.680Z"
   },
   {
    "duration": 14,
    "start_time": "2023-07-27T10:49:35.698Z"
   },
   {
    "duration": 20,
    "start_time": "2023-07-27T10:49:35.715Z"
   },
   {
    "duration": 17,
    "start_time": "2023-07-27T10:49:35.737Z"
   },
   {
    "duration": 22,
    "start_time": "2023-07-27T10:49:35.756Z"
   },
   {
    "duration": 1488,
    "start_time": "2023-07-27T10:49:35.780Z"
   },
   {
    "duration": 11,
    "start_time": "2023-07-27T10:49:37.270Z"
   },
   {
    "duration": 32,
    "start_time": "2023-07-27T10:49:37.284Z"
   },
   {
    "duration": 55,
    "start_time": "2023-07-27T10:49:37.318Z"
   },
   {
    "duration": 28,
    "start_time": "2023-07-27T10:49:37.375Z"
   },
   {
    "duration": 48,
    "start_time": "2023-07-27T10:49:37.405Z"
   },
   {
    "duration": 21,
    "start_time": "2023-07-27T10:49:37.455Z"
   },
   {
    "duration": 10,
    "start_time": "2023-07-27T10:49:37.478Z"
   },
   {
    "duration": 31,
    "start_time": "2023-07-27T10:49:37.490Z"
   },
   {
    "duration": 20,
    "start_time": "2023-07-27T10:56:03.009Z"
   },
   {
    "duration": 127,
    "start_time": "2023-07-27T10:56:18.370Z"
   },
   {
    "duration": 110,
    "start_time": "2023-07-27T10:56:47.225Z"
   },
   {
    "duration": 40,
    "start_time": "2023-07-27T10:57:34.147Z"
   },
   {
    "duration": 6,
    "start_time": "2023-07-27T10:57:56.020Z"
   },
   {
    "duration": 1213,
    "start_time": "2023-07-27T10:57:56.028Z"
   },
   {
    "duration": 2,
    "start_time": "2023-07-27T10:57:57.243Z"
   },
   {
    "duration": 41,
    "start_time": "2023-07-27T10:57:57.247Z"
   },
   {
    "duration": 14,
    "start_time": "2023-07-27T10:57:57.290Z"
   },
   {
    "duration": 12,
    "start_time": "2023-07-27T10:57:57.306Z"
   },
   {
    "duration": 20,
    "start_time": "2023-07-27T10:57:57.320Z"
   },
   {
    "duration": 12,
    "start_time": "2023-07-27T10:57:57.341Z"
   },
   {
    "duration": 16,
    "start_time": "2023-07-27T10:57:57.355Z"
   },
   {
    "duration": 38,
    "start_time": "2023-07-27T10:57:57.372Z"
   },
   {
    "duration": 15,
    "start_time": "2023-07-27T10:57:57.412Z"
   },
   {
    "duration": 10,
    "start_time": "2023-07-27T10:57:57.429Z"
   },
   {
    "duration": 1339,
    "start_time": "2023-07-27T10:57:57.441Z"
   },
   {
    "duration": 15,
    "start_time": "2023-07-27T10:57:58.782Z"
   },
   {
    "duration": 16,
    "start_time": "2023-07-27T10:57:58.799Z"
   },
   {
    "duration": 7,
    "start_time": "2023-07-27T10:57:58.817Z"
   },
   {
    "duration": 26,
    "start_time": "2023-07-27T10:57:58.826Z"
   },
   {
    "duration": 20,
    "start_time": "2023-07-27T10:58:51.361Z"
   },
   {
    "duration": 10,
    "start_time": "2023-07-27T11:05:41.145Z"
   },
   {
    "duration": 14,
    "start_time": "2023-07-27T11:05:49.295Z"
   },
   {
    "duration": 5,
    "start_time": "2023-07-27T11:13:36.052Z"
   },
   {
    "duration": 6,
    "start_time": "2023-07-27T11:13:43.067Z"
   },
   {
    "duration": 935,
    "start_time": "2023-07-27T11:13:43.075Z"
   },
   {
    "duration": 3,
    "start_time": "2023-07-27T11:13:44.011Z"
   },
   {
    "duration": 28,
    "start_time": "2023-07-27T11:13:44.015Z"
   },
   {
    "duration": 34,
    "start_time": "2023-07-27T11:13:44.046Z"
   },
   {
    "duration": 42,
    "start_time": "2023-07-27T11:13:44.082Z"
   },
   {
    "duration": 40,
    "start_time": "2023-07-27T11:13:44.125Z"
   },
   {
    "duration": 20,
    "start_time": "2023-07-27T11:13:44.167Z"
   },
   {
    "duration": 24,
    "start_time": "2023-07-27T11:13:44.189Z"
   },
   {
    "duration": 22,
    "start_time": "2023-07-27T11:13:44.215Z"
   },
   {
    "duration": 72,
    "start_time": "2023-07-27T11:13:44.239Z"
   },
   {
    "duration": 14,
    "start_time": "2023-07-27T11:13:44.312Z"
   },
   {
    "duration": 47,
    "start_time": "2023-07-27T11:13:44.327Z"
   },
   {
    "duration": 201,
    "start_time": "2023-07-27T11:13:44.376Z"
   },
   {
    "duration": 15,
    "start_time": "2023-07-27T11:13:44.579Z"
   },
   {
    "duration": 48,
    "start_time": "2023-07-27T11:13:44.596Z"
   },
   {
    "duration": 9,
    "start_time": "2023-07-27T11:13:44.645Z"
   },
   {
    "duration": 41,
    "start_time": "2023-07-27T11:13:44.655Z"
   },
   {
    "duration": 15,
    "start_time": "2023-07-27T11:14:08.952Z"
   },
   {
    "duration": 14,
    "start_time": "2023-07-27T11:31:05.192Z"
   },
   {
    "duration": 7,
    "start_time": "2023-07-27T11:31:12.562Z"
   },
   {
    "duration": 5,
    "start_time": "2023-07-27T11:31:19.065Z"
   },
   {
    "duration": 3,
    "start_time": "2023-07-27T11:35:01.679Z"
   },
   {
    "duration": 16,
    "start_time": "2023-07-27T11:35:02.853Z"
   },
   {
    "duration": 5,
    "start_time": "2023-07-27T11:37:33.065Z"
   },
   {
    "duration": 6,
    "start_time": "2023-07-27T11:44:14.776Z"
   },
   {
    "duration": 4,
    "start_time": "2023-07-27T11:44:30.657Z"
   },
   {
    "duration": 8,
    "start_time": "2023-07-27T11:44:55.901Z"
   },
   {
    "duration": 7,
    "start_time": "2023-07-27T11:45:06.976Z"
   },
   {
    "duration": 8,
    "start_time": "2023-07-27T11:45:20.991Z"
   },
   {
    "duration": 7,
    "start_time": "2023-07-27T11:45:25.461Z"
   },
   {
    "duration": 7,
    "start_time": "2023-07-27T11:48:18.553Z"
   },
   {
    "duration": 6,
    "start_time": "2023-07-27T11:48:41.585Z"
   },
   {
    "duration": 11,
    "start_time": "2023-07-27T11:49:00.749Z"
   },
   {
    "duration": 13,
    "start_time": "2023-07-27T11:49:57.913Z"
   },
   {
    "duration": 11,
    "start_time": "2023-07-27T11:51:52.517Z"
   },
   {
    "duration": 15,
    "start_time": "2023-07-27T11:52:41.177Z"
   },
   {
    "duration": 14,
    "start_time": "2023-07-27T11:53:07.507Z"
   },
   {
    "duration": 14,
    "start_time": "2023-07-27T11:53:27.145Z"
   },
   {
    "duration": 11,
    "start_time": "2023-07-27T11:54:51.896Z"
   },
   {
    "duration": 11,
    "start_time": "2023-07-27T11:55:22.280Z"
   },
   {
    "duration": 195,
    "start_time": "2023-07-27T11:58:52.373Z"
   },
   {
    "duration": 201,
    "start_time": "2023-07-27T11:59:06.096Z"
   },
   {
    "duration": 193,
    "start_time": "2023-07-27T11:59:27.901Z"
   },
   {
    "duration": 184,
    "start_time": "2023-07-27T12:00:54.089Z"
   },
   {
    "duration": 213,
    "start_time": "2023-07-27T12:01:56.453Z"
   },
   {
    "duration": 1705,
    "start_time": "2023-07-27T14:07:50.933Z"
   },
   {
    "duration": 1116,
    "start_time": "2023-07-27T14:07:52.640Z"
   },
   {
    "duration": 3,
    "start_time": "2023-07-27T14:07:53.758Z"
   },
   {
    "duration": 33,
    "start_time": "2023-07-27T14:07:53.763Z"
   },
   {
    "duration": 49,
    "start_time": "2023-07-27T14:07:53.797Z"
   },
   {
    "duration": 19,
    "start_time": "2023-07-27T14:07:53.848Z"
   },
   {
    "duration": 15,
    "start_time": "2023-07-27T14:07:53.868Z"
   },
   {
    "duration": 17,
    "start_time": "2023-07-27T14:07:53.886Z"
   },
   {
    "duration": 6,
    "start_time": "2023-07-27T14:07:53.905Z"
   },
   {
    "duration": 49,
    "start_time": "2023-07-27T14:07:53.914Z"
   },
   {
    "duration": 8,
    "start_time": "2023-07-27T14:07:53.965Z"
   },
   {
    "duration": 19,
    "start_time": "2023-07-27T14:07:53.975Z"
   },
   {
    "duration": 239,
    "start_time": "2023-07-27T14:07:53.996Z"
   },
   {
    "duration": 256,
    "start_time": "2023-07-27T14:07:54.237Z"
   },
   {
    "duration": 97,
    "start_time": "2023-07-27T14:07:54.494Z"
   },
   {
    "duration": 22,
    "start_time": "2023-07-27T14:07:54.593Z"
   },
   {
    "duration": 21,
    "start_time": "2023-07-27T14:07:54.617Z"
   },
   {
    "duration": 21,
    "start_time": "2023-07-27T14:07:54.640Z"
   },
   {
    "duration": 26,
    "start_time": "2023-07-27T14:07:54.663Z"
   },
   {
    "duration": 22,
    "start_time": "2023-07-27T14:07:54.691Z"
   },
   {
    "duration": 14,
    "start_time": "2023-07-27T14:10:18.571Z"
   },
   {
    "duration": 27,
    "start_time": "2023-07-27T14:11:01.971Z"
   },
   {
    "duration": 118,
    "start_time": "2023-07-27T14:11:44.893Z"
   },
   {
    "duration": 289,
    "start_time": "2023-07-27T14:11:56.308Z"
   },
   {
    "duration": 14,
    "start_time": "2023-07-27T14:13:11.079Z"
   },
   {
    "duration": 5,
    "start_time": "2023-07-27T15:15:51.850Z"
   },
   {
    "duration": 7,
    "start_time": "2023-07-27T15:16:21.205Z"
   },
   {
    "duration": 25,
    "start_time": "2023-07-27T15:16:28.154Z"
   },
   {
    "duration": 6,
    "start_time": "2023-07-27T15:18:25.016Z"
   },
   {
    "duration": 5,
    "start_time": "2023-07-27T15:19:44.558Z"
   },
   {
    "duration": 8,
    "start_time": "2023-07-27T15:19:51.674Z"
   },
   {
    "duration": 5,
    "start_time": "2023-07-27T15:21:09.946Z"
   },
   {
    "duration": 10,
    "start_time": "2023-07-27T15:21:15.922Z"
   },
   {
    "duration": 7,
    "start_time": "2023-07-27T15:21:36.846Z"
   },
   {
    "duration": 16,
    "start_time": "2023-07-27T15:24:24.850Z"
   },
   {
    "duration": 7,
    "start_time": "2023-07-27T15:24:39.796Z"
   },
   {
    "duration": 13,
    "start_time": "2023-07-27T15:25:26.054Z"
   },
   {
    "duration": 8,
    "start_time": "2023-07-27T15:25:35.070Z"
   },
   {
    "duration": 11,
    "start_time": "2023-07-27T15:26:42.607Z"
   },
   {
    "duration": 13,
    "start_time": "2023-07-27T15:26:55.286Z"
   },
   {
    "duration": 12,
    "start_time": "2023-07-27T15:27:25.470Z"
   },
   {
    "duration": 129,
    "start_time": "2023-07-27T15:28:25.982Z"
   },
   {
    "duration": 105,
    "start_time": "2023-07-27T15:28:38.678Z"
   },
   {
    "duration": 9,
    "start_time": "2023-07-27T15:29:14.901Z"
   },
   {
    "duration": 12,
    "start_time": "2023-07-27T15:29:27.158Z"
   },
   {
    "duration": 18,
    "start_time": "2023-07-27T15:29:45.204Z"
   },
   {
    "duration": 16,
    "start_time": "2023-07-27T15:30:11.347Z"
   },
   {
    "duration": 32,
    "start_time": "2023-07-27T15:30:48.594Z"
   },
   {
    "duration": 13,
    "start_time": "2023-07-27T15:46:47.054Z"
   },
   {
    "duration": 12,
    "start_time": "2023-07-27T15:47:16.750Z"
   },
   {
    "duration": 12,
    "start_time": "2023-07-27T15:47:50.298Z"
   },
   {
    "duration": 12,
    "start_time": "2023-07-27T15:47:53.647Z"
   },
   {
    "duration": 6,
    "start_time": "2023-07-27T15:48:07.171Z"
   },
   {
    "duration": 1595,
    "start_time": "2023-07-27T15:48:07.180Z"
   },
   {
    "duration": 6,
    "start_time": "2023-07-27T15:48:08.777Z"
   },
   {
    "duration": 15,
    "start_time": "2023-07-27T15:48:08.785Z"
   },
   {
    "duration": 16,
    "start_time": "2023-07-27T15:48:08.804Z"
   },
   {
    "duration": 19,
    "start_time": "2023-07-27T15:48:08.822Z"
   },
   {
    "duration": 25,
    "start_time": "2023-07-27T15:48:08.843Z"
   },
   {
    "duration": 13,
    "start_time": "2023-07-27T15:48:08.870Z"
   },
   {
    "duration": 27,
    "start_time": "2023-07-27T15:48:08.885Z"
   },
   {
    "duration": 45,
    "start_time": "2023-07-27T15:48:08.913Z"
   },
   {
    "duration": 8,
    "start_time": "2023-07-27T15:48:08.961Z"
   },
   {
    "duration": 11,
    "start_time": "2023-07-27T15:48:08.971Z"
   },
   {
    "duration": 166,
    "start_time": "2023-07-27T15:48:08.984Z"
   },
   {
    "duration": 192,
    "start_time": "2023-07-27T15:48:09.154Z"
   },
   {
    "duration": 15,
    "start_time": "2023-07-27T15:48:09.348Z"
   },
   {
    "duration": 7,
    "start_time": "2023-07-27T15:48:09.365Z"
   },
   {
    "duration": 16,
    "start_time": "2023-07-27T15:48:09.373Z"
   },
   {
    "duration": 8,
    "start_time": "2023-07-27T15:48:09.391Z"
   },
   {
    "duration": 29,
    "start_time": "2023-07-27T15:48:09.401Z"
   },
   {
    "duration": 17,
    "start_time": "2023-07-27T15:48:09.432Z"
   },
   {
    "duration": 20,
    "start_time": "2023-07-27T15:48:09.459Z"
   },
   {
    "duration": 10,
    "start_time": "2023-07-27T15:48:09.482Z"
   },
   {
    "duration": 24,
    "start_time": "2023-07-27T15:48:09.494Z"
   },
   {
    "duration": 13,
    "start_time": "2023-07-27T15:48:19.498Z"
   },
   {
    "duration": 13,
    "start_time": "2023-07-27T15:49:40.762Z"
   },
   {
    "duration": 30,
    "start_time": "2023-07-27T15:49:46.989Z"
   },
   {
    "duration": 44,
    "start_time": "2023-07-27T15:50:04.263Z"
   },
   {
    "duration": 6,
    "start_time": "2023-07-27T15:50:10.797Z"
   },
   {
    "duration": 1134,
    "start_time": "2023-07-27T15:50:10.805Z"
   },
   {
    "duration": 4,
    "start_time": "2023-07-27T15:50:11.940Z"
   },
   {
    "duration": 27,
    "start_time": "2023-07-27T15:50:11.946Z"
   },
   {
    "duration": 26,
    "start_time": "2023-07-27T15:50:11.975Z"
   },
   {
    "duration": 11,
    "start_time": "2023-07-27T15:50:12.002Z"
   },
   {
    "duration": 19,
    "start_time": "2023-07-27T15:50:12.015Z"
   },
   {
    "duration": 15,
    "start_time": "2023-07-27T15:50:12.035Z"
   },
   {
    "duration": 9,
    "start_time": "2023-07-27T15:50:12.051Z"
   },
   {
    "duration": 73,
    "start_time": "2023-07-27T15:50:12.063Z"
   },
   {
    "duration": 8,
    "start_time": "2023-07-27T15:50:12.138Z"
   },
   {
    "duration": 18,
    "start_time": "2023-07-27T15:50:12.148Z"
   },
   {
    "duration": 171,
    "start_time": "2023-07-27T15:50:12.168Z"
   },
   {
    "duration": 179,
    "start_time": "2023-07-27T15:50:12.341Z"
   },
   {
    "duration": 9,
    "start_time": "2023-07-27T15:50:12.522Z"
   },
   {
    "duration": 46,
    "start_time": "2023-07-27T15:50:12.532Z"
   },
   {
    "duration": 16,
    "start_time": "2023-07-27T15:50:12.580Z"
   },
   {
    "duration": 39,
    "start_time": "2023-07-27T15:50:12.597Z"
   },
   {
    "duration": 15,
    "start_time": "2023-07-27T15:50:12.638Z"
   },
   {
    "duration": 27,
    "start_time": "2023-07-27T15:50:12.654Z"
   },
   {
    "duration": 20,
    "start_time": "2023-07-27T15:50:12.682Z"
   },
   {
    "duration": 36,
    "start_time": "2023-07-27T15:50:12.703Z"
   },
   {
    "duration": 40,
    "start_time": "2023-07-27T15:50:12.740Z"
   },
   {
    "duration": 14,
    "start_time": "2023-07-27T15:52:51.789Z"
   },
   {
    "duration": 6,
    "start_time": "2023-07-27T15:54:19.866Z"
   },
   {
    "duration": 1387,
    "start_time": "2023-07-27T15:54:19.874Z"
   },
   {
    "duration": 3,
    "start_time": "2023-07-27T15:54:21.263Z"
   },
   {
    "duration": 42,
    "start_time": "2023-07-27T15:54:21.267Z"
   },
   {
    "duration": 24,
    "start_time": "2023-07-27T15:54:21.312Z"
   },
   {
    "duration": 14,
    "start_time": "2023-07-27T15:54:21.338Z"
   },
   {
    "duration": 27,
    "start_time": "2023-07-27T15:54:21.354Z"
   },
   {
    "duration": 13,
    "start_time": "2023-07-27T15:54:21.382Z"
   },
   {
    "duration": 8,
    "start_time": "2023-07-27T15:54:21.397Z"
   },
   {
    "duration": 40,
    "start_time": "2023-07-27T15:54:21.407Z"
   },
   {
    "duration": 10,
    "start_time": "2023-07-27T15:54:21.449Z"
   },
   {
    "duration": 22,
    "start_time": "2023-07-27T15:54:21.461Z"
   },
   {
    "duration": 179,
    "start_time": "2023-07-27T15:54:21.486Z"
   },
   {
    "duration": 186,
    "start_time": "2023-07-27T15:54:21.666Z"
   },
   {
    "duration": 12,
    "start_time": "2023-07-27T15:54:21.854Z"
   },
   {
    "duration": 122,
    "start_time": "2023-07-27T15:54:21.868Z"
   },
   {
    "duration": 17,
    "start_time": "2023-07-27T15:54:21.992Z"
   },
   {
    "duration": 7,
    "start_time": "2023-07-27T15:54:22.011Z"
   },
   {
    "duration": 22,
    "start_time": "2023-07-27T15:54:22.020Z"
   },
   {
    "duration": 39,
    "start_time": "2023-07-27T15:54:22.043Z"
   },
   {
    "duration": 11,
    "start_time": "2023-07-27T15:54:22.084Z"
   },
   {
    "duration": 18,
    "start_time": "2023-07-27T15:54:22.097Z"
   },
   {
    "duration": 17,
    "start_time": "2023-07-27T15:57:34.123Z"
   },
   {
    "duration": 1497,
    "start_time": "2023-07-27T16:03:26.154Z"
   },
   {
    "duration": 1250,
    "start_time": "2023-07-27T16:03:27.653Z"
   },
   {
    "duration": 3,
    "start_time": "2023-07-27T16:03:28.905Z"
   },
   {
    "duration": 20,
    "start_time": "2023-07-27T16:03:28.910Z"
   },
   {
    "duration": 13,
    "start_time": "2023-07-27T16:03:28.932Z"
   },
   {
    "duration": 20,
    "start_time": "2023-07-27T16:03:28.947Z"
   },
   {
    "duration": 18,
    "start_time": "2023-07-27T16:03:28.969Z"
   },
   {
    "duration": 13,
    "start_time": "2023-07-27T16:03:28.989Z"
   },
   {
    "duration": 7,
    "start_time": "2023-07-27T16:03:29.004Z"
   },
   {
    "duration": 49,
    "start_time": "2023-07-27T16:03:29.012Z"
   },
   {
    "duration": 8,
    "start_time": "2023-07-27T16:03:29.064Z"
   },
   {
    "duration": 33,
    "start_time": "2023-07-27T16:03:29.073Z"
   },
   {
    "duration": 174,
    "start_time": "2023-07-27T16:03:29.108Z"
   },
   {
    "duration": 202,
    "start_time": "2023-07-27T16:03:29.285Z"
   },
   {
    "duration": 7,
    "start_time": "2023-07-27T16:03:29.489Z"
   },
   {
    "duration": 20,
    "start_time": "2023-07-27T16:03:29.497Z"
   },
   {
    "duration": 113,
    "start_time": "2023-07-27T16:03:29.518Z"
   },
   {
    "duration": 6,
    "start_time": "2023-07-27T16:03:29.633Z"
   },
   {
    "duration": 21,
    "start_time": "2023-07-27T16:03:29.641Z"
   },
   {
    "duration": 28,
    "start_time": "2023-07-27T16:03:29.664Z"
   },
   {
    "duration": 489,
    "start_time": "2023-07-27T16:03:29.693Z"
   },
   {
    "duration": 1483,
    "start_time": "2023-07-27T16:04:17.298Z"
   },
   {
    "duration": 1505,
    "start_time": "2023-07-27T16:04:18.783Z"
   },
   {
    "duration": 3,
    "start_time": "2023-07-27T16:04:20.290Z"
   },
   {
    "duration": 17,
    "start_time": "2023-07-27T16:04:20.294Z"
   },
   {
    "duration": 27,
    "start_time": "2023-07-27T16:04:20.314Z"
   },
   {
    "duration": 11,
    "start_time": "2023-07-27T16:04:20.343Z"
   },
   {
    "duration": 13,
    "start_time": "2023-07-27T16:04:20.355Z"
   },
   {
    "duration": 13,
    "start_time": "2023-07-27T16:04:20.369Z"
   },
   {
    "duration": 6,
    "start_time": "2023-07-27T16:04:20.384Z"
   },
   {
    "duration": 37,
    "start_time": "2023-07-27T16:04:20.392Z"
   },
   {
    "duration": 8,
    "start_time": "2023-07-27T16:04:20.430Z"
   },
   {
    "duration": 9,
    "start_time": "2023-07-27T16:04:20.459Z"
   },
   {
    "duration": 163,
    "start_time": "2023-07-27T16:04:20.470Z"
   },
   {
    "duration": 192,
    "start_time": "2023-07-27T16:04:20.636Z"
   },
   {
    "duration": 7,
    "start_time": "2023-07-27T16:04:20.830Z"
   },
   {
    "duration": 29,
    "start_time": "2023-07-27T16:04:20.839Z"
   },
   {
    "duration": 104,
    "start_time": "2023-07-27T16:04:20.870Z"
   },
   {
    "duration": 23,
    "start_time": "2023-07-27T16:04:20.975Z"
   },
   {
    "duration": 11,
    "start_time": "2023-07-27T16:04:20.999Z"
   },
   {
    "duration": 37,
    "start_time": "2023-07-27T16:04:21.012Z"
   },
   {
    "duration": 443,
    "start_time": "2023-07-27T16:04:21.050Z"
   },
   {
    "duration": 10,
    "start_time": "2023-07-27T16:04:21.495Z"
   },
   {
    "duration": 25,
    "start_time": "2023-07-27T16:04:21.507Z"
   },
   {
    "duration": 171,
    "start_time": "2023-07-27T16:06:21.794Z"
   },
   {
    "duration": 22,
    "start_time": "2023-07-27T16:06:43.574Z"
   },
   {
    "duration": 1482,
    "start_time": "2023-07-27T16:07:54.566Z"
   },
   {
    "duration": 974,
    "start_time": "2023-07-27T16:07:56.049Z"
   },
   {
    "duration": 2,
    "start_time": "2023-07-27T16:07:57.025Z"
   },
   {
    "duration": 16,
    "start_time": "2023-07-27T16:07:57.029Z"
   },
   {
    "duration": 11,
    "start_time": "2023-07-27T16:07:57.048Z"
   },
   {
    "duration": 12,
    "start_time": "2023-07-27T16:07:57.061Z"
   },
   {
    "duration": 16,
    "start_time": "2023-07-27T16:07:57.074Z"
   },
   {
    "duration": 12,
    "start_time": "2023-07-27T16:07:57.092Z"
   },
   {
    "duration": 5,
    "start_time": "2023-07-27T16:07:57.106Z"
   },
   {
    "duration": 46,
    "start_time": "2023-07-27T16:07:57.113Z"
   },
   {
    "duration": 6,
    "start_time": "2023-07-27T16:07:57.161Z"
   },
   {
    "duration": 7,
    "start_time": "2023-07-27T16:07:57.169Z"
   },
   {
    "duration": 171,
    "start_time": "2023-07-27T16:07:57.178Z"
   },
   {
    "duration": 193,
    "start_time": "2023-07-27T16:07:57.352Z"
   },
   {
    "duration": 15,
    "start_time": "2023-07-27T16:07:57.547Z"
   },
   {
    "duration": 14,
    "start_time": "2023-07-27T16:07:57.564Z"
   },
   {
    "duration": 114,
    "start_time": "2023-07-27T16:07:57.579Z"
   },
   {
    "duration": 14,
    "start_time": "2023-07-27T16:07:57.695Z"
   },
   {
    "duration": 11,
    "start_time": "2023-07-27T16:07:57.710Z"
   },
   {
    "duration": 171,
    "start_time": "2023-07-27T16:07:57.723Z"
   },
   {
    "duration": 24,
    "start_time": "2023-07-27T16:07:57.896Z"
   },
   {
    "duration": 471,
    "start_time": "2023-07-27T16:07:57.922Z"
   },
   {
    "duration": 10,
    "start_time": "2023-07-27T16:07:58.395Z"
   },
   {
    "duration": 15,
    "start_time": "2023-07-27T16:07:58.407Z"
   },
   {
    "duration": 164,
    "start_time": "2023-07-27T16:08:34.486Z"
   },
   {
    "duration": 164,
    "start_time": "2023-07-27T16:09:02.591Z"
   },
   {
    "duration": 8,
    "start_time": "2023-07-27T16:09:07.750Z"
   },
   {
    "duration": 167,
    "start_time": "2023-07-27T16:10:02.258Z"
   },
   {
    "duration": 6,
    "start_time": "2023-07-27T16:10:14.507Z"
   },
   {
    "duration": 8,
    "start_time": "2023-07-27T16:10:45.796Z"
   },
   {
    "duration": 160,
    "start_time": "2023-07-27T16:10:55.699Z"
   },
   {
    "duration": 13,
    "start_time": "2023-07-27T16:13:16.173Z"
   },
   {
    "duration": 118,
    "start_time": "2023-07-27T16:14:17.313Z"
   },
   {
    "duration": 11,
    "start_time": "2023-07-27T16:14:35.075Z"
   },
   {
    "duration": 1518,
    "start_time": "2023-07-27T16:15:41.212Z"
   },
   {
    "duration": 1448,
    "start_time": "2023-07-27T16:15:42.732Z"
   },
   {
    "duration": 3,
    "start_time": "2023-07-27T16:15:44.182Z"
   },
   {
    "duration": 20,
    "start_time": "2023-07-27T16:15:44.188Z"
   },
   {
    "duration": 18,
    "start_time": "2023-07-27T16:15:44.210Z"
   },
   {
    "duration": 28,
    "start_time": "2023-07-27T16:15:44.231Z"
   },
   {
    "duration": 14,
    "start_time": "2023-07-27T16:15:44.261Z"
   },
   {
    "duration": 17,
    "start_time": "2023-07-27T16:15:44.277Z"
   },
   {
    "duration": 12,
    "start_time": "2023-07-27T16:15:44.297Z"
   },
   {
    "duration": 56,
    "start_time": "2023-07-27T16:15:44.313Z"
   },
   {
    "duration": 8,
    "start_time": "2023-07-27T16:15:44.371Z"
   },
   {
    "duration": 25,
    "start_time": "2023-07-27T16:15:44.381Z"
   },
   {
    "duration": 176,
    "start_time": "2023-07-27T16:15:44.408Z"
   },
   {
    "duration": 202,
    "start_time": "2023-07-27T16:15:44.586Z"
   },
   {
    "duration": 8,
    "start_time": "2023-07-27T16:15:44.790Z"
   },
   {
    "duration": 29,
    "start_time": "2023-07-27T16:15:44.800Z"
   },
   {
    "duration": 106,
    "start_time": "2023-07-27T16:15:44.831Z"
   },
   {
    "duration": 6,
    "start_time": "2023-07-27T16:15:44.939Z"
   },
   {
    "duration": 23,
    "start_time": "2023-07-27T16:15:44.946Z"
   },
   {
    "duration": 185,
    "start_time": "2023-07-27T16:15:44.971Z"
   },
   {
    "duration": 11,
    "start_time": "2023-07-27T16:15:45.159Z"
   },
   {
    "duration": 487,
    "start_time": "2023-07-27T16:15:45.172Z"
   },
   {
    "duration": 11,
    "start_time": "2023-07-27T16:15:45.661Z"
   },
   {
    "duration": 20,
    "start_time": "2023-07-27T16:15:45.674Z"
   },
   {
    "duration": 167,
    "start_time": "2023-07-27T16:17:47.218Z"
   },
   {
    "duration": 235,
    "start_time": "2023-07-27T16:18:06.503Z"
   },
   {
    "duration": 240,
    "start_time": "2023-07-27T16:18:55.354Z"
   },
   {
    "duration": 448,
    "start_time": "2023-07-27T16:20:16.899Z"
   },
   {
    "duration": 560,
    "start_time": "2023-07-27T16:21:54.412Z"
   },
   {
    "duration": 103,
    "start_time": "2023-07-27T16:22:17.966Z"
   },
   {
    "duration": 444,
    "start_time": "2023-07-27T16:22:23.176Z"
   },
   {
    "duration": 453,
    "start_time": "2023-07-27T16:22:26.649Z"
   },
   {
    "duration": 428,
    "start_time": "2023-07-27T16:22:53.218Z"
   },
   {
    "duration": 168,
    "start_time": "2023-07-27T16:23:18.269Z"
   },
   {
    "duration": 164,
    "start_time": "2023-07-27T16:23:25.821Z"
   },
   {
    "duration": 176,
    "start_time": "2023-07-27T16:23:31.816Z"
   },
   {
    "duration": 249,
    "start_time": "2023-07-27T16:23:42.150Z"
   },
   {
    "duration": 549,
    "start_time": "2023-07-27T16:24:17.474Z"
   },
   {
    "duration": 17,
    "start_time": "2023-07-27T16:25:35.576Z"
   },
   {
    "duration": 10,
    "start_time": "2023-07-27T16:26:40.174Z"
   },
   {
    "duration": 10,
    "start_time": "2023-07-27T16:26:55.510Z"
   },
   {
    "duration": 49,
    "start_time": "2023-07-27T16:28:18.673Z"
   },
   {
    "duration": 1601,
    "start_time": "2023-07-27T16:28:21.416Z"
   },
   {
    "duration": 1357,
    "start_time": "2023-07-27T16:28:23.020Z"
   },
   {
    "duration": 3,
    "start_time": "2023-07-27T16:28:24.379Z"
   },
   {
    "duration": 14,
    "start_time": "2023-07-27T16:28:24.384Z"
   },
   {
    "duration": 12,
    "start_time": "2023-07-27T16:28:24.399Z"
   },
   {
    "duration": 12,
    "start_time": "2023-07-27T16:28:24.412Z"
   },
   {
    "duration": 35,
    "start_time": "2023-07-27T16:28:24.426Z"
   },
   {
    "duration": 12,
    "start_time": "2023-07-27T16:28:24.463Z"
   },
   {
    "duration": 5,
    "start_time": "2023-07-27T16:28:24.477Z"
   },
   {
    "duration": 38,
    "start_time": "2023-07-27T16:28:24.485Z"
   },
   {
    "duration": 8,
    "start_time": "2023-07-27T16:28:24.525Z"
   },
   {
    "duration": 30,
    "start_time": "2023-07-27T16:28:24.534Z"
   },
   {
    "duration": 183,
    "start_time": "2023-07-27T16:28:24.566Z"
   },
   {
    "duration": 190,
    "start_time": "2023-07-27T16:28:24.751Z"
   },
   {
    "duration": 16,
    "start_time": "2023-07-27T16:28:24.943Z"
   },
   {
    "duration": 13,
    "start_time": "2023-07-27T16:28:24.961Z"
   },
   {
    "duration": 102,
    "start_time": "2023-07-27T16:28:24.976Z"
   },
   {
    "duration": 6,
    "start_time": "2023-07-27T16:28:25.081Z"
   },
   {
    "duration": 12,
    "start_time": "2023-07-27T16:28:25.088Z"
   },
   {
    "duration": 273,
    "start_time": "2023-07-27T16:28:25.101Z"
   },
   {
    "duration": 172,
    "start_time": "2023-07-27T16:28:25.376Z"
   },
   {
    "duration": 442,
    "start_time": "2023-07-27T16:28:25.550Z"
   },
   {
    "duration": 11,
    "start_time": "2023-07-27T16:28:25.994Z"
   },
   {
    "duration": 11,
    "start_time": "2023-07-27T16:28:26.007Z"
   },
   {
    "duration": 42,
    "start_time": "2023-07-27T16:28:26.020Z"
   },
   {
    "duration": 15,
    "start_time": "2023-07-27T16:28:50.050Z"
   },
   {
    "duration": 10,
    "start_time": "2023-07-27T16:29:18.153Z"
   },
   {
    "duration": 22,
    "start_time": "2023-07-27T16:32:26.017Z"
   },
   {
    "duration": 10,
    "start_time": "2023-07-27T16:33:23.904Z"
   },
   {
    "duration": 86,
    "start_time": "2023-07-27T16:33:28.670Z"
   },
   {
    "duration": 11,
    "start_time": "2023-07-27T16:33:41.272Z"
   },
   {
    "duration": 12,
    "start_time": "2023-07-27T16:35:59.459Z"
   },
   {
    "duration": 12,
    "start_time": "2023-07-27T16:36:16.145Z"
   },
   {
    "duration": 12,
    "start_time": "2023-07-27T16:37:07.067Z"
   },
   {
    "duration": 10,
    "start_time": "2023-07-27T16:39:59.516Z"
   },
   {
    "duration": 8,
    "start_time": "2023-07-27T16:40:27.296Z"
   },
   {
    "duration": 15,
    "start_time": "2023-07-27T16:40:51.291Z"
   },
   {
    "duration": 12,
    "start_time": "2023-07-27T16:41:06.759Z"
   },
   {
    "duration": 11,
    "start_time": "2023-07-27T16:41:11.257Z"
   },
   {
    "duration": 10,
    "start_time": "2023-07-27T16:46:35.108Z"
   },
   {
    "duration": 7,
    "start_time": "2023-07-27T16:46:42.800Z"
   },
   {
    "duration": 7,
    "start_time": "2023-07-27T16:46:53.400Z"
   },
   {
    "duration": 15,
    "start_time": "2023-07-27T16:47:43.195Z"
   },
   {
    "duration": 7,
    "start_time": "2023-07-27T16:48:13.297Z"
   },
   {
    "duration": 8,
    "start_time": "2023-07-27T16:48:36.799Z"
   },
   {
    "duration": 9,
    "start_time": "2023-07-27T16:48:45.918Z"
   },
   {
    "duration": 9,
    "start_time": "2023-07-27T16:48:58.701Z"
   },
   {
    "duration": 8,
    "start_time": "2023-07-27T16:49:12.298Z"
   },
   {
    "duration": 9,
    "start_time": "2023-07-27T16:49:25.393Z"
   },
   {
    "duration": 9,
    "start_time": "2023-07-27T16:49:31.095Z"
   },
   {
    "duration": 8,
    "start_time": "2023-07-27T16:49:37.998Z"
   },
   {
    "duration": 9,
    "start_time": "2023-07-27T16:49:43.562Z"
   },
   {
    "duration": 8,
    "start_time": "2023-07-27T16:49:48.496Z"
   },
   {
    "duration": 16,
    "start_time": "2023-07-27T16:50:03.422Z"
   },
   {
    "duration": 14,
    "start_time": "2023-07-27T16:57:20.597Z"
   },
   {
    "duration": 9,
    "start_time": "2023-07-27T17:06:38.364Z"
   },
   {
    "duration": 6,
    "start_time": "2023-07-27T17:07:08.295Z"
   },
   {
    "duration": 8,
    "start_time": "2023-07-27T17:07:12.820Z"
   },
   {
    "duration": 15,
    "start_time": "2023-07-27T17:08:15.748Z"
   },
   {
    "duration": 10,
    "start_time": "2023-07-27T17:08:25.796Z"
   },
   {
    "duration": 145,
    "start_time": "2023-07-27T17:08:44.552Z"
   },
   {
    "duration": 14,
    "start_time": "2023-07-27T17:08:57.852Z"
   },
   {
    "duration": 9,
    "start_time": "2023-07-27T17:09:50.609Z"
   },
   {
    "duration": 11,
    "start_time": "2023-07-27T17:10:05.335Z"
   },
   {
    "duration": 8,
    "start_time": "2023-07-27T17:12:52.873Z"
   },
   {
    "duration": 4,
    "start_time": "2023-07-27T17:13:45.244Z"
   },
   {
    "duration": 8,
    "start_time": "2023-07-27T17:22:48.456Z"
   },
   {
    "duration": 6,
    "start_time": "2023-07-27T17:22:53.656Z"
   },
   {
    "duration": 6,
    "start_time": "2023-07-27T17:22:54.710Z"
   },
   {
    "duration": 10,
    "start_time": "2023-07-27T17:42:50.367Z"
   },
   {
    "duration": 147,
    "start_time": "2023-07-27T17:47:36.752Z"
   },
   {
    "duration": 6,
    "start_time": "2023-07-27T17:47:45.744Z"
   },
   {
    "duration": 10,
    "start_time": "2023-07-27T17:47:46.621Z"
   },
   {
    "duration": 6,
    "start_time": "2023-07-27T17:47:51.571Z"
   },
   {
    "duration": 9,
    "start_time": "2023-07-27T17:47:56.198Z"
   },
   {
    "duration": 11,
    "start_time": "2023-07-27T17:47:56.391Z"
   },
   {
    "duration": 4,
    "start_time": "2023-07-27T17:48:01.856Z"
   },
   {
    "duration": 11,
    "start_time": "2023-07-27T17:48:28.213Z"
   },
   {
    "duration": 103,
    "start_time": "2023-07-27T17:49:21.544Z"
   },
   {
    "duration": 104,
    "start_time": "2023-07-27T17:49:41.812Z"
   },
   {
    "duration": 8,
    "start_time": "2023-07-27T17:49:58.910Z"
   },
   {
    "duration": 6,
    "start_time": "2023-07-27T17:50:08.509Z"
   },
   {
    "duration": 5,
    "start_time": "2023-07-27T17:50:10.164Z"
   },
   {
    "duration": 12,
    "start_time": "2023-07-27T17:50:54.710Z"
   },
   {
    "duration": 6,
    "start_time": "2023-07-27T17:51:10.551Z"
   },
   {
    "duration": 13,
    "start_time": "2023-07-27T17:51:11.005Z"
   },
   {
    "duration": 7,
    "start_time": "2023-07-27T17:51:16.603Z"
   },
   {
    "duration": 9,
    "start_time": "2023-07-27T17:51:42.176Z"
   },
   {
    "duration": 10,
    "start_time": "2023-07-27T17:51:42.621Z"
   },
   {
    "duration": 10,
    "start_time": "2023-07-27T17:52:03.698Z"
   },
   {
    "duration": 7,
    "start_time": "2023-07-27T17:52:41.918Z"
   },
   {
    "duration": 13,
    "start_time": "2023-07-27T17:53:01.514Z"
   },
   {
    "duration": 6,
    "start_time": "2023-07-27T17:53:09.348Z"
   },
   {
    "duration": 14,
    "start_time": "2023-07-27T17:54:47.051Z"
   },
   {
    "duration": 9,
    "start_time": "2023-07-27T17:55:15.543Z"
   },
   {
    "duration": 7,
    "start_time": "2023-07-27T17:55:30.002Z"
   },
   {
    "duration": 12,
    "start_time": "2023-07-27T17:55:35.262Z"
   },
   {
    "duration": 23,
    "start_time": "2023-07-27T17:55:43.976Z"
   },
   {
    "duration": 18,
    "start_time": "2023-07-27T17:56:32.147Z"
   },
   {
    "duration": 15,
    "start_time": "2023-07-27T17:56:58.105Z"
   },
   {
    "duration": 10,
    "start_time": "2023-07-27T17:57:08.147Z"
   },
   {
    "duration": 11,
    "start_time": "2023-07-27T18:03:43.098Z"
   },
   {
    "duration": 30,
    "start_time": "2023-07-27T18:05:30.847Z"
   },
   {
    "duration": 8,
    "start_time": "2023-07-27T18:06:45.102Z"
   },
   {
    "duration": 1119,
    "start_time": "2023-07-27T18:06:45.113Z"
   },
   {
    "duration": 3,
    "start_time": "2023-07-27T18:06:46.235Z"
   },
   {
    "duration": 13,
    "start_time": "2023-07-27T18:06:46.240Z"
   },
   {
    "duration": 24,
    "start_time": "2023-07-27T18:06:46.256Z"
   },
   {
    "duration": 11,
    "start_time": "2023-07-27T18:06:46.282Z"
   },
   {
    "duration": 14,
    "start_time": "2023-07-27T18:06:46.294Z"
   },
   {
    "duration": 13,
    "start_time": "2023-07-27T18:06:46.310Z"
   },
   {
    "duration": 7,
    "start_time": "2023-07-27T18:06:46.325Z"
   },
   {
    "duration": 44,
    "start_time": "2023-07-27T18:06:46.334Z"
   },
   {
    "duration": 6,
    "start_time": "2023-07-27T18:06:46.380Z"
   },
   {
    "duration": 38,
    "start_time": "2023-07-27T18:06:46.388Z"
   },
   {
    "duration": 8,
    "start_time": "2023-07-27T18:06:46.428Z"
   },
   {
    "duration": 27,
    "start_time": "2023-07-27T18:06:46.439Z"
   },
   {
    "duration": 165,
    "start_time": "2023-07-27T18:06:46.469Z"
   },
   {
    "duration": 204,
    "start_time": "2023-07-27T18:06:46.635Z"
   },
   {
    "duration": 31,
    "start_time": "2023-07-27T18:06:46.841Z"
   },
   {
    "duration": 16,
    "start_time": "2023-07-27T18:06:46.875Z"
   },
   {
    "duration": 31,
    "start_time": "2023-07-27T18:06:46.893Z"
   },
   {
    "duration": 6,
    "start_time": "2023-07-27T18:06:46.926Z"
   },
   {
    "duration": 6,
    "start_time": "2023-07-27T18:06:46.933Z"
   },
   {
    "duration": 279,
    "start_time": "2023-07-27T18:06:46.940Z"
   },
   {
    "duration": 298,
    "start_time": "2023-07-27T18:06:47.220Z"
   },
   {
    "duration": 495,
    "start_time": "2023-07-27T18:06:47.519Z"
   },
   {
    "duration": 12,
    "start_time": "2023-07-27T18:06:48.016Z"
   },
   {
    "duration": 48,
    "start_time": "2023-07-27T18:06:48.029Z"
   },
   {
    "duration": 22,
    "start_time": "2023-07-27T18:07:26.820Z"
   },
   {
    "duration": 14,
    "start_time": "2023-07-27T18:08:18.559Z"
   },
   {
    "duration": 10,
    "start_time": "2023-07-27T18:08:40.901Z"
   },
   {
    "duration": 33,
    "start_time": "2023-07-27T18:09:21.047Z"
   },
   {
    "duration": 41,
    "start_time": "2023-07-27T18:09:43.255Z"
   },
   {
    "duration": 21,
    "start_time": "2023-07-27T18:10:48.399Z"
   },
   {
    "duration": 15,
    "start_time": "2023-07-27T18:13:39.909Z"
   },
   {
    "duration": 12,
    "start_time": "2023-07-27T18:14:12.422Z"
   },
   {
    "duration": 14,
    "start_time": "2023-07-27T18:14:41.551Z"
   },
   {
    "duration": 16,
    "start_time": "2023-07-27T18:15:31.305Z"
   },
   {
    "duration": 11,
    "start_time": "2023-07-27T18:16:01.594Z"
   },
   {
    "duration": 25,
    "start_time": "2023-07-27T18:16:18.550Z"
   },
   {
    "duration": 14,
    "start_time": "2023-07-27T18:17:39.202Z"
   },
   {
    "duration": 19,
    "start_time": "2023-07-27T18:20:36.606Z"
   },
   {
    "duration": 84,
    "start_time": "2023-07-27T18:21:35.250Z"
   },
   {
    "duration": 29,
    "start_time": "2023-07-27T18:21:39.650Z"
   },
   {
    "duration": 10,
    "start_time": "2023-07-27T18:25:50.009Z"
   },
   {
    "duration": 4,
    "start_time": "2023-07-27T18:25:52.605Z"
   },
   {
    "duration": 4,
    "start_time": "2023-07-27T18:26:03.173Z"
   },
   {
    "duration": 12,
    "start_time": "2023-07-27T18:26:34.109Z"
   },
   {
    "duration": 6,
    "start_time": "2023-07-27T18:27:12.172Z"
   },
   {
    "duration": 1430,
    "start_time": "2023-07-27T18:27:12.180Z"
   },
   {
    "duration": 2,
    "start_time": "2023-07-27T18:27:13.612Z"
   },
   {
    "duration": 12,
    "start_time": "2023-07-27T18:27:13.616Z"
   },
   {
    "duration": 15,
    "start_time": "2023-07-27T18:27:13.631Z"
   },
   {
    "duration": 10,
    "start_time": "2023-07-27T18:27:13.648Z"
   },
   {
    "duration": 15,
    "start_time": "2023-07-27T18:27:13.660Z"
   },
   {
    "duration": 9,
    "start_time": "2023-07-27T18:27:13.677Z"
   },
   {
    "duration": 7,
    "start_time": "2023-07-27T18:27:13.687Z"
   },
   {
    "duration": 6,
    "start_time": "2023-07-27T18:27:13.695Z"
   },
   {
    "duration": 5,
    "start_time": "2023-07-27T18:27:13.703Z"
   },
   {
    "duration": 15,
    "start_time": "2023-07-27T18:27:13.709Z"
   },
   {
    "duration": 50,
    "start_time": "2023-07-27T18:27:13.725Z"
   },
   {
    "duration": 16,
    "start_time": "2023-07-27T18:27:13.778Z"
   },
   {
    "duration": 40,
    "start_time": "2023-07-27T18:27:13.795Z"
   },
   {
    "duration": 4,
    "start_time": "2023-07-27T18:27:13.837Z"
   },
   {
    "duration": 49,
    "start_time": "2023-07-27T18:27:13.842Z"
   },
   {
    "duration": 8,
    "start_time": "2023-07-27T18:27:13.893Z"
   },
   {
    "duration": 8,
    "start_time": "2023-07-27T18:27:13.903Z"
   },
   {
    "duration": 209,
    "start_time": "2023-07-27T18:27:13.913Z"
   },
   {
    "duration": 227,
    "start_time": "2023-07-27T18:27:14.124Z"
   },
   {
    "duration": 11,
    "start_time": "2023-07-27T18:27:14.354Z"
   },
   {
    "duration": 24,
    "start_time": "2023-07-27T18:27:14.367Z"
   },
   {
    "duration": 30,
    "start_time": "2023-07-27T18:27:14.393Z"
   },
   {
    "duration": 10,
    "start_time": "2023-07-27T18:27:14.425Z"
   },
   {
    "duration": 16,
    "start_time": "2023-07-27T18:27:14.437Z"
   },
   {
    "duration": 260,
    "start_time": "2023-07-27T18:27:14.455Z"
   },
   {
    "duration": 182,
    "start_time": "2023-07-27T18:27:14.717Z"
   },
   {
    "duration": 594,
    "start_time": "2023-07-27T18:27:14.901Z"
   },
   {
    "duration": 11,
    "start_time": "2023-07-27T18:27:15.497Z"
   },
   {
    "duration": 17,
    "start_time": "2023-07-27T18:27:15.510Z"
   },
   {
    "duration": 10,
    "start_time": "2023-07-27T18:27:28.356Z"
   },
   {
    "duration": 4,
    "start_time": "2023-07-27T18:28:54.497Z"
   },
   {
    "duration": 9,
    "start_time": "2023-07-27T18:29:01.715Z"
   },
   {
    "duration": 15,
    "start_time": "2023-07-27T18:31:13.401Z"
   },
   {
    "duration": 9,
    "start_time": "2023-07-27T18:36:02.131Z"
   },
   {
    "duration": 5,
    "start_time": "2023-07-27T18:37:17.509Z"
   },
   {
    "duration": 5,
    "start_time": "2023-07-27T18:37:30.887Z"
   },
   {
    "duration": 10,
    "start_time": "2023-07-27T18:37:34.696Z"
   },
   {
    "duration": 7,
    "start_time": "2023-07-27T18:37:41.847Z"
   },
   {
    "duration": 1320,
    "start_time": "2023-07-27T18:37:41.857Z"
   },
   {
    "duration": 2,
    "start_time": "2023-07-27T18:37:43.179Z"
   },
   {
    "duration": 20,
    "start_time": "2023-07-27T18:37:43.183Z"
   },
   {
    "duration": 17,
    "start_time": "2023-07-27T18:37:43.205Z"
   },
   {
    "duration": 14,
    "start_time": "2023-07-27T18:37:43.224Z"
   },
   {
    "duration": 13,
    "start_time": "2023-07-27T18:37:43.239Z"
   },
   {
    "duration": 13,
    "start_time": "2023-07-27T18:37:43.260Z"
   },
   {
    "duration": 9,
    "start_time": "2023-07-27T18:37:43.275Z"
   },
   {
    "duration": 10,
    "start_time": "2023-07-27T18:37:43.286Z"
   },
   {
    "duration": 8,
    "start_time": "2023-07-27T18:37:43.298Z"
   },
   {
    "duration": 15,
    "start_time": "2023-07-27T18:37:43.307Z"
   },
   {
    "duration": 38,
    "start_time": "2023-07-27T18:37:43.323Z"
   },
   {
    "duration": 21,
    "start_time": "2023-07-27T18:37:43.366Z"
   },
   {
    "duration": 15,
    "start_time": "2023-07-27T18:37:43.389Z"
   },
   {
    "duration": 5,
    "start_time": "2023-07-27T18:37:43.406Z"
   },
   {
    "duration": 68,
    "start_time": "2023-07-27T18:37:43.412Z"
   },
   {
    "duration": 8,
    "start_time": "2023-07-27T18:37:43.482Z"
   },
   {
    "duration": 10,
    "start_time": "2023-07-27T18:37:43.491Z"
   },
   {
    "duration": 170,
    "start_time": "2023-07-27T18:37:43.503Z"
   },
   {
    "duration": 188,
    "start_time": "2023-07-27T18:37:43.675Z"
   },
   {
    "duration": 9,
    "start_time": "2023-07-27T18:37:43.865Z"
   },
   {
    "duration": 14,
    "start_time": "2023-07-27T18:37:43.877Z"
   },
   {
    "duration": 14,
    "start_time": "2023-07-27T18:37:43.893Z"
   },
   {
    "duration": 5,
    "start_time": "2023-07-27T18:37:43.909Z"
   },
   {
    "duration": 6,
    "start_time": "2023-07-27T18:37:43.915Z"
   },
   {
    "duration": 343,
    "start_time": "2023-07-27T18:37:43.923Z"
   },
   {
    "duration": 218,
    "start_time": "2023-07-27T18:37:44.267Z"
   },
   {
    "duration": 492,
    "start_time": "2023-07-27T18:37:44.486Z"
   },
   {
    "duration": 13,
    "start_time": "2023-07-27T18:37:44.980Z"
   },
   {
    "duration": 73,
    "start_time": "2023-07-27T18:37:44.995Z"
   },
   {
    "duration": 12,
    "start_time": "2023-07-27T18:39:30.158Z"
   },
   {
    "duration": 6,
    "start_time": "2023-07-27T18:39:38.404Z"
   },
   {
    "duration": 1019,
    "start_time": "2023-07-27T18:39:38.411Z"
   },
   {
    "duration": 3,
    "start_time": "2023-07-27T18:39:39.431Z"
   },
   {
    "duration": 14,
    "start_time": "2023-07-27T18:39:39.435Z"
   },
   {
    "duration": 13,
    "start_time": "2023-07-27T18:39:39.451Z"
   },
   {
    "duration": 13,
    "start_time": "2023-07-27T18:39:39.466Z"
   },
   {
    "duration": 12,
    "start_time": "2023-07-27T18:39:39.481Z"
   },
   {
    "duration": 9,
    "start_time": "2023-07-27T18:39:39.495Z"
   },
   {
    "duration": 8,
    "start_time": "2023-07-27T18:39:39.506Z"
   },
   {
    "duration": 9,
    "start_time": "2023-07-27T18:39:39.515Z"
   },
   {
    "duration": 10,
    "start_time": "2023-07-27T18:39:39.525Z"
   },
   {
    "duration": 36,
    "start_time": "2023-07-27T18:39:39.536Z"
   },
   {
    "duration": 19,
    "start_time": "2023-07-27T18:39:39.573Z"
   },
   {
    "duration": 78,
    "start_time": "2023-07-27T18:39:39.594Z"
   },
   {
    "duration": 86,
    "start_time": "2023-07-27T18:39:39.674Z"
   },
   {
    "duration": 7,
    "start_time": "2023-07-27T18:39:39.761Z"
   },
   {
    "duration": 42,
    "start_time": "2023-07-27T18:39:39.769Z"
   },
   {
    "duration": 135,
    "start_time": "2023-07-27T18:39:39.812Z"
   },
   {
    "duration": 13,
    "start_time": "2023-07-27T18:39:39.949Z"
   },
   {
    "duration": 168,
    "start_time": "2023-07-27T18:39:39.963Z"
   },
   {
    "duration": 183,
    "start_time": "2023-07-27T18:39:40.133Z"
   },
   {
    "duration": 7,
    "start_time": "2023-07-27T18:39:40.317Z"
   },
   {
    "duration": 13,
    "start_time": "2023-07-27T18:39:40.326Z"
   },
   {
    "duration": 30,
    "start_time": "2023-07-27T18:39:40.340Z"
   },
   {
    "duration": 7,
    "start_time": "2023-07-27T18:39:40.372Z"
   },
   {
    "duration": 5,
    "start_time": "2023-07-27T18:39:40.380Z"
   },
   {
    "duration": 264,
    "start_time": "2023-07-27T18:39:40.386Z"
   },
   {
    "duration": 174,
    "start_time": "2023-07-27T18:39:40.652Z"
   },
   {
    "duration": 461,
    "start_time": "2023-07-27T18:39:40.828Z"
   },
   {
    "duration": 11,
    "start_time": "2023-07-27T18:39:41.291Z"
   },
   {
    "duration": 18,
    "start_time": "2023-07-27T18:39:41.304Z"
   },
   {
    "duration": 6,
    "start_time": "2023-07-27T18:39:52.820Z"
   },
   {
    "duration": 1146,
    "start_time": "2023-07-27T18:39:52.843Z"
   },
   {
    "duration": 3,
    "start_time": "2023-07-27T18:39:53.991Z"
   },
   {
    "duration": 22,
    "start_time": "2023-07-27T18:39:53.996Z"
   },
   {
    "duration": 22,
    "start_time": "2023-07-27T18:39:54.020Z"
   },
   {
    "duration": 27,
    "start_time": "2023-07-27T18:39:54.045Z"
   },
   {
    "duration": 18,
    "start_time": "2023-07-27T18:39:54.075Z"
   },
   {
    "duration": 15,
    "start_time": "2023-07-27T18:39:54.095Z"
   },
   {
    "duration": 10,
    "start_time": "2023-07-27T18:39:54.112Z"
   },
   {
    "duration": 8,
    "start_time": "2023-07-27T18:39:54.124Z"
   },
   {
    "duration": 34,
    "start_time": "2023-07-27T18:39:54.133Z"
   },
   {
    "duration": 11,
    "start_time": "2023-07-27T18:39:54.169Z"
   },
   {
    "duration": 22,
    "start_time": "2023-07-27T18:39:54.182Z"
   },
   {
    "duration": 20,
    "start_time": "2023-07-27T18:39:54.206Z"
   },
   {
    "duration": 47,
    "start_time": "2023-07-27T18:39:54.229Z"
   },
   {
    "duration": 5,
    "start_time": "2023-07-27T18:39:54.279Z"
   },
   {
    "duration": 44,
    "start_time": "2023-07-27T18:39:54.285Z"
   },
   {
    "duration": 31,
    "start_time": "2023-07-27T18:39:54.330Z"
   },
   {
    "duration": 22,
    "start_time": "2023-07-27T18:39:54.363Z"
   },
   {
    "duration": 178,
    "start_time": "2023-07-27T18:39:54.388Z"
   },
   {
    "duration": 193,
    "start_time": "2023-07-27T18:39:54.569Z"
   },
   {
    "duration": 9,
    "start_time": "2023-07-27T18:39:54.764Z"
   },
   {
    "duration": 14,
    "start_time": "2023-07-27T18:39:54.774Z"
   },
   {
    "duration": 14,
    "start_time": "2023-07-27T18:39:54.790Z"
   },
   {
    "duration": 5,
    "start_time": "2023-07-27T18:39:54.806Z"
   },
   {
    "duration": 12,
    "start_time": "2023-07-27T18:39:54.813Z"
   },
   {
    "duration": 369,
    "start_time": "2023-07-27T18:39:54.827Z"
   },
   {
    "duration": 193,
    "start_time": "2023-07-27T18:39:55.198Z"
   },
   {
    "duration": 498,
    "start_time": "2023-07-27T18:39:55.394Z"
   },
   {
    "duration": 11,
    "start_time": "2023-07-27T18:39:55.894Z"
   },
   {
    "duration": 15,
    "start_time": "2023-07-27T18:39:55.907Z"
   },
   {
    "duration": 33,
    "start_time": "2023-07-27T18:41:27.050Z"
   },
   {
    "duration": 22,
    "start_time": "2023-07-27T18:42:14.220Z"
   },
   {
    "duration": 20,
    "start_time": "2023-07-27T18:42:21.918Z"
   },
   {
    "duration": 41,
    "start_time": "2023-07-27T18:42:48.754Z"
   },
   {
    "duration": 33,
    "start_time": "2023-07-27T18:44:18.870Z"
   },
   {
    "duration": 22,
    "start_time": "2023-07-27T18:44:56.008Z"
   },
   {
    "duration": 41,
    "start_time": "2023-07-27T18:46:11.950Z"
   },
   {
    "duration": 18,
    "start_time": "2023-07-27T18:50:04.451Z"
   },
   {
    "duration": 12,
    "start_time": "2023-07-27T18:50:46.555Z"
   },
   {
    "duration": 12,
    "start_time": "2023-07-27T18:51:49.805Z"
   },
   {
    "duration": 11,
    "start_time": "2023-07-27T18:52:43.259Z"
   },
   {
    "duration": 26,
    "start_time": "2023-07-27T18:52:51.460Z"
   },
   {
    "duration": 23,
    "start_time": "2023-07-27T18:53:01.759Z"
   },
   {
    "duration": 20,
    "start_time": "2023-07-27T18:54:54.052Z"
   },
   {
    "duration": 11,
    "start_time": "2023-07-27T18:55:38.018Z"
   },
   {
    "duration": 10,
    "start_time": "2023-07-27T18:55:38.613Z"
   },
   {
    "duration": 7,
    "start_time": "2023-07-27T18:55:39.946Z"
   },
   {
    "duration": 10,
    "start_time": "2023-07-27T18:55:51.242Z"
   },
   {
    "duration": 45,
    "start_time": "2023-07-27T18:57:09.899Z"
   },
   {
    "duration": 10,
    "start_time": "2023-07-27T18:57:39.359Z"
   },
   {
    "duration": 8,
    "start_time": "2023-07-27T19:00:16.494Z"
   },
   {
    "duration": 8,
    "start_time": "2023-07-27T19:00:30.121Z"
   },
   {
    "duration": 9,
    "start_time": "2023-07-27T19:00:45.220Z"
   },
   {
    "duration": 13,
    "start_time": "2023-07-27T19:10:33.203Z"
   },
   {
    "duration": 12,
    "start_time": "2023-07-27T19:11:00.582Z"
   },
   {
    "duration": 25,
    "start_time": "2023-07-27T19:12:29.350Z"
   },
   {
    "duration": 29,
    "start_time": "2023-07-27T19:13:14.168Z"
   },
   {
    "duration": 8,
    "start_time": "2023-07-27T19:14:02.806Z"
   },
   {
    "duration": 7,
    "start_time": "2023-07-27T19:14:04.915Z"
   },
   {
    "duration": 1072,
    "start_time": "2023-07-27T19:14:04.926Z"
   },
   {
    "duration": 4,
    "start_time": "2023-07-27T19:14:06.001Z"
   },
   {
    "duration": 12,
    "start_time": "2023-07-27T19:14:06.007Z"
   },
   {
    "duration": 15,
    "start_time": "2023-07-27T19:14:06.021Z"
   },
   {
    "duration": 26,
    "start_time": "2023-07-27T19:14:06.038Z"
   },
   {
    "duration": 16,
    "start_time": "2023-07-27T19:14:06.067Z"
   },
   {
    "duration": 14,
    "start_time": "2023-07-27T19:14:06.085Z"
   },
   {
    "duration": 10,
    "start_time": "2023-07-27T19:14:06.101Z"
   },
   {
    "duration": 13,
    "start_time": "2023-07-27T19:14:06.113Z"
   },
   {
    "duration": 37,
    "start_time": "2023-07-27T19:14:06.128Z"
   },
   {
    "duration": 9,
    "start_time": "2023-07-27T19:14:06.168Z"
   },
   {
    "duration": 12,
    "start_time": "2023-07-27T19:14:06.179Z"
   },
   {
    "duration": 15,
    "start_time": "2023-07-27T19:14:06.194Z"
   },
   {
    "duration": 52,
    "start_time": "2023-07-27T19:14:06.211Z"
   },
   {
    "duration": 8,
    "start_time": "2023-07-27T19:14:06.265Z"
   },
   {
    "duration": 16,
    "start_time": "2023-07-27T19:14:06.274Z"
   },
   {
    "duration": 191,
    "start_time": "2023-07-27T19:14:06.291Z"
   },
   {
    "duration": 226,
    "start_time": "2023-07-27T19:14:06.484Z"
   },
   {
    "duration": 8,
    "start_time": "2023-07-27T19:14:06.711Z"
   },
   {
    "duration": 13,
    "start_time": "2023-07-27T19:14:06.721Z"
   },
   {
    "duration": 38,
    "start_time": "2023-07-27T19:14:06.736Z"
   },
   {
    "duration": 6,
    "start_time": "2023-07-27T19:14:06.775Z"
   },
   {
    "duration": 9,
    "start_time": "2023-07-27T19:14:06.783Z"
   },
   {
    "duration": 271,
    "start_time": "2023-07-27T19:14:06.793Z"
   },
   {
    "duration": 175,
    "start_time": "2023-07-27T19:14:07.066Z"
   },
   {
    "duration": 601,
    "start_time": "2023-07-27T19:14:07.242Z"
   },
   {
    "duration": 31,
    "start_time": "2023-07-27T19:14:07.845Z"
   },
   {
    "duration": 28,
    "start_time": "2023-07-27T19:14:07.878Z"
   },
   {
    "duration": 105,
    "start_time": "2023-07-27T19:14:07.908Z"
   },
   {
    "duration": 225,
    "start_time": "2023-07-27T19:16:04.746Z"
   },
   {
    "duration": 471,
    "start_time": "2023-07-27T19:16:13.250Z"
   },
   {
    "duration": 162,
    "start_time": "2023-07-27T19:20:04.677Z"
   },
   {
    "duration": 280,
    "start_time": "2023-07-27T19:20:21.301Z"
   },
   {
    "duration": 12,
    "start_time": "2023-07-27T19:20:53.197Z"
   },
   {
    "duration": 2000,
    "start_time": "2023-07-28T10:51:52.749Z"
   },
   {
    "duration": 1510,
    "start_time": "2023-07-28T10:51:54.757Z"
   },
   {
    "duration": 4,
    "start_time": "2023-07-28T10:51:56.269Z"
   },
   {
    "duration": 17,
    "start_time": "2023-07-28T10:51:56.274Z"
   },
   {
    "duration": 15,
    "start_time": "2023-07-28T10:51:56.293Z"
   },
   {
    "duration": 47,
    "start_time": "2023-07-28T10:51:56.310Z"
   },
   {
    "duration": 15,
    "start_time": "2023-07-28T10:51:56.359Z"
   },
   {
    "duration": 20,
    "start_time": "2023-07-28T10:51:56.376Z"
   },
   {
    "duration": 7,
    "start_time": "2023-07-28T10:51:56.398Z"
   },
   {
    "duration": 6,
    "start_time": "2023-07-28T10:51:56.407Z"
   },
   {
    "duration": 15,
    "start_time": "2023-07-28T10:51:56.415Z"
   },
   {
    "duration": 31,
    "start_time": "2023-07-28T10:51:56.432Z"
   },
   {
    "duration": 19,
    "start_time": "2023-07-28T10:51:56.465Z"
   },
   {
    "duration": 4,
    "start_time": "2023-07-28T10:51:56.487Z"
   },
   {
    "duration": 73,
    "start_time": "2023-07-28T10:51:56.493Z"
   },
   {
    "duration": 11,
    "start_time": "2023-07-28T10:51:56.568Z"
   },
   {
    "duration": 16,
    "start_time": "2023-07-28T10:51:56.581Z"
   },
   {
    "duration": 180,
    "start_time": "2023-07-28T10:51:56.600Z"
   },
   {
    "duration": 225,
    "start_time": "2023-07-28T10:51:56.782Z"
   },
   {
    "duration": 8,
    "start_time": "2023-07-28T10:51:57.009Z"
   },
   {
    "duration": 25,
    "start_time": "2023-07-28T10:51:57.019Z"
   },
   {
    "duration": 101,
    "start_time": "2023-07-28T10:51:57.057Z"
   },
   {
    "duration": 11,
    "start_time": "2023-07-28T10:51:57.165Z"
   },
   {
    "duration": 13,
    "start_time": "2023-07-28T10:51:57.178Z"
   },
   {
    "duration": 333,
    "start_time": "2023-07-28T10:51:57.193Z"
   },
   {
    "duration": 228,
    "start_time": "2023-07-28T10:51:57.528Z"
   },
   {
    "duration": 520,
    "start_time": "2023-07-28T10:51:57.758Z"
   },
   {
    "duration": 13,
    "start_time": "2023-07-28T10:51:58.281Z"
   },
   {
    "duration": 19,
    "start_time": "2023-07-28T10:51:58.296Z"
   },
   {
    "duration": 28,
    "start_time": "2023-07-28T11:01:38.845Z"
   },
   {
    "duration": 9,
    "start_time": "2023-07-28T11:02:37.219Z"
   },
   {
    "duration": 41,
    "start_time": "2023-07-28T11:05:53.622Z"
   },
   {
    "duration": 9,
    "start_time": "2023-07-28T11:14:02.277Z"
   },
   {
    "duration": 1212,
    "start_time": "2023-07-28T11:14:02.288Z"
   },
   {
    "duration": 3,
    "start_time": "2023-07-28T11:14:03.503Z"
   },
   {
    "duration": 22,
    "start_time": "2023-07-28T11:14:03.507Z"
   },
   {
    "duration": 16,
    "start_time": "2023-07-28T11:14:03.531Z"
   },
   {
    "duration": 9,
    "start_time": "2023-07-28T11:14:03.549Z"
   },
   {
    "duration": 14,
    "start_time": "2023-07-28T11:14:03.560Z"
   },
   {
    "duration": 10,
    "start_time": "2023-07-28T11:14:03.575Z"
   },
   {
    "duration": 8,
    "start_time": "2023-07-28T11:14:03.589Z"
   },
   {
    "duration": 16,
    "start_time": "2023-07-28T11:14:03.598Z"
   },
   {
    "duration": 8,
    "start_time": "2023-07-28T11:14:03.616Z"
   },
   {
    "duration": 35,
    "start_time": "2023-07-28T11:14:03.626Z"
   },
   {
    "duration": 13,
    "start_time": "2023-07-28T11:14:03.662Z"
   },
   {
    "duration": 11,
    "start_time": "2023-07-28T11:14:03.677Z"
   },
   {
    "duration": 37,
    "start_time": "2023-07-28T11:14:03.690Z"
   },
   {
    "duration": 8,
    "start_time": "2023-07-28T11:14:03.729Z"
   },
   {
    "duration": 40,
    "start_time": "2023-07-28T11:14:03.757Z"
   },
   {
    "duration": 160,
    "start_time": "2023-07-28T11:14:03.799Z"
   },
   {
    "duration": 214,
    "start_time": "2023-07-28T11:14:03.961Z"
   },
   {
    "duration": 10,
    "start_time": "2023-07-28T11:14:04.177Z"
   },
   {
    "duration": 25,
    "start_time": "2023-07-28T11:14:04.190Z"
   },
   {
    "duration": 8,
    "start_time": "2023-07-28T11:14:04.217Z"
   },
   {
    "duration": 31,
    "start_time": "2023-07-28T11:14:04.227Z"
   },
   {
    "duration": 291,
    "start_time": "2023-07-28T11:14:04.260Z"
   },
   {
    "duration": 162,
    "start_time": "2023-07-28T11:14:04.557Z"
   },
   {
    "duration": 570,
    "start_time": "2023-07-28T11:14:04.721Z"
   },
   {
    "duration": 12,
    "start_time": "2023-07-28T11:14:05.294Z"
   },
   {
    "duration": 18,
    "start_time": "2023-07-28T11:14:05.309Z"
   },
   {
    "duration": 29,
    "start_time": "2023-07-28T11:14:05.329Z"
   },
   {
    "duration": 23426,
    "start_time": "2023-07-28T11:14:05.361Z"
   },
   {
    "duration": 19,
    "start_time": "2023-07-28T11:14:28.789Z"
   },
   {
    "duration": 18,
    "start_time": "2023-07-28T11:15:21.328Z"
   },
   {
    "duration": 38,
    "start_time": "2023-07-28T11:15:29.672Z"
   },
   {
    "duration": 34,
    "start_time": "2023-07-28T11:15:55.462Z"
   },
   {
    "duration": 22931,
    "start_time": "2023-07-28T11:16:21.693Z"
   },
   {
    "duration": 22401,
    "start_time": "2023-07-28T11:18:28.508Z"
   },
   {
    "duration": 8,
    "start_time": "2023-07-28T11:19:30.414Z"
   },
   {
    "duration": 1392,
    "start_time": "2023-07-28T11:19:47.969Z"
   },
   {
    "duration": 8,
    "start_time": "2023-07-28T11:20:16.242Z"
   },
   {
    "duration": 7,
    "start_time": "2023-07-28T11:20:20.430Z"
   },
   {
    "duration": 941,
    "start_time": "2023-07-28T11:20:20.439Z"
   },
   {
    "duration": 3,
    "start_time": "2023-07-28T11:20:21.382Z"
   },
   {
    "duration": 15,
    "start_time": "2023-07-28T11:20:21.388Z"
   },
   {
    "duration": 48,
    "start_time": "2023-07-28T11:20:21.405Z"
   },
   {
    "duration": 17,
    "start_time": "2023-07-28T11:20:21.454Z"
   },
   {
    "duration": 32,
    "start_time": "2023-07-28T11:20:21.473Z"
   },
   {
    "duration": 28,
    "start_time": "2023-07-28T11:20:21.507Z"
   },
   {
    "duration": 18,
    "start_time": "2023-07-28T11:20:21.537Z"
   },
   {
    "duration": 9,
    "start_time": "2023-07-28T11:20:21.558Z"
   },
   {
    "duration": 31,
    "start_time": "2023-07-28T11:20:21.569Z"
   },
   {
    "duration": 42,
    "start_time": "2023-07-28T11:20:21.602Z"
   },
   {
    "duration": 17,
    "start_time": "2023-07-28T11:20:21.646Z"
   },
   {
    "duration": 8,
    "start_time": "2023-07-28T11:20:21.665Z"
   },
   {
    "duration": 51,
    "start_time": "2023-07-28T11:20:21.674Z"
   },
   {
    "duration": 7,
    "start_time": "2023-07-28T11:20:21.727Z"
   },
   {
    "duration": 16,
    "start_time": "2023-07-28T11:20:21.737Z"
   },
   {
    "duration": 153,
    "start_time": "2023-07-28T11:20:21.754Z"
   },
   {
    "duration": 190,
    "start_time": "2023-07-28T11:20:21.909Z"
   },
   {
    "duration": 7,
    "start_time": "2023-07-28T11:20:22.101Z"
   },
   {
    "duration": 15,
    "start_time": "2023-07-28T11:20:22.110Z"
   },
   {
    "duration": 29,
    "start_time": "2023-07-28T11:20:22.127Z"
   },
   {
    "duration": 5,
    "start_time": "2023-07-28T11:20:22.158Z"
   },
   {
    "duration": 266,
    "start_time": "2023-07-28T11:20:22.165Z"
   },
   {
    "duration": 248,
    "start_time": "2023-07-28T11:20:22.433Z"
   },
   {
    "duration": 473,
    "start_time": "2023-07-28T11:20:22.683Z"
   },
   {
    "duration": 14,
    "start_time": "2023-07-28T11:20:23.158Z"
   },
   {
    "duration": 23,
    "start_time": "2023-07-28T11:20:23.176Z"
   },
   {
    "duration": 9,
    "start_time": "2023-07-28T11:20:23.200Z"
   },
   {
    "duration": 21720,
    "start_time": "2023-07-28T11:20:23.210Z"
   },
   {
    "duration": 8,
    "start_time": "2023-07-28T11:20:44.932Z"
   },
   {
    "duration": 12,
    "start_time": "2023-07-28T11:20:50.924Z"
   },
   {
    "duration": 3,
    "start_time": "2023-07-28T11:22:53.828Z"
   },
   {
    "duration": 9,
    "start_time": "2023-07-28T11:22:55.017Z"
   },
   {
    "duration": 11,
    "start_time": "2023-07-28T11:24:04.237Z"
   },
   {
    "duration": 11,
    "start_time": "2023-07-28T11:26:20.925Z"
   },
   {
    "duration": 24053,
    "start_time": "2023-07-28T11:26:29.012Z"
   },
   {
    "duration": 4,
    "start_time": "2023-07-28T11:27:06.602Z"
   },
   {
    "duration": 8,
    "start_time": "2023-07-28T11:27:07.630Z"
   },
   {
    "duration": 11,
    "start_time": "2023-07-28T11:27:11.820Z"
   },
   {
    "duration": 27,
    "start_time": "2023-07-28T11:38:10.993Z"
   },
   {
    "duration": 16,
    "start_time": "2023-07-28T11:38:38.687Z"
   },
   {
    "duration": 11,
    "start_time": "2023-07-28T11:42:24.154Z"
   },
   {
    "duration": 20,
    "start_time": "2023-07-28T11:43:34.067Z"
   },
   {
    "duration": 19,
    "start_time": "2023-07-28T11:43:44.441Z"
   },
   {
    "duration": 18,
    "start_time": "2023-07-28T11:43:52.399Z"
   },
   {
    "duration": 15,
    "start_time": "2023-07-28T11:44:09.644Z"
   },
   {
    "duration": 9,
    "start_time": "2023-07-28T11:44:14.938Z"
   },
   {
    "duration": 1003,
    "start_time": "2023-07-28T11:44:14.949Z"
   },
   {
    "duration": 3,
    "start_time": "2023-07-28T11:44:15.954Z"
   },
   {
    "duration": 20,
    "start_time": "2023-07-28T11:44:15.959Z"
   },
   {
    "duration": 29,
    "start_time": "2023-07-28T11:44:15.981Z"
   },
   {
    "duration": 23,
    "start_time": "2023-07-28T11:44:16.012Z"
   },
   {
    "duration": 33,
    "start_time": "2023-07-28T11:44:16.037Z"
   },
   {
    "duration": 24,
    "start_time": "2023-07-28T11:44:16.072Z"
   },
   {
    "duration": 13,
    "start_time": "2023-07-28T11:44:16.099Z"
   },
   {
    "duration": 7,
    "start_time": "2023-07-28T11:44:16.114Z"
   },
   {
    "duration": 17,
    "start_time": "2023-07-28T11:44:16.123Z"
   },
   {
    "duration": 19,
    "start_time": "2023-07-28T11:44:16.142Z"
   },
   {
    "duration": 17,
    "start_time": "2023-07-28T11:44:16.163Z"
   },
   {
    "duration": 13,
    "start_time": "2023-07-28T11:44:16.185Z"
   },
   {
    "duration": 70,
    "start_time": "2023-07-28T11:44:16.201Z"
   },
   {
    "duration": 11,
    "start_time": "2023-07-28T11:44:16.273Z"
   },
   {
    "duration": 21,
    "start_time": "2023-07-28T11:44:16.287Z"
   },
   {
    "duration": 153,
    "start_time": "2023-07-28T11:44:16.310Z"
   },
   {
    "duration": 271,
    "start_time": "2023-07-28T11:44:16.466Z"
   },
   {
    "duration": 20,
    "start_time": "2023-07-28T11:44:16.739Z"
   },
   {
    "duration": 19,
    "start_time": "2023-07-28T11:44:16.761Z"
   },
   {
    "duration": 8,
    "start_time": "2023-07-28T11:44:16.781Z"
   },
   {
    "duration": 20,
    "start_time": "2023-07-28T11:44:16.791Z"
   },
   {
    "duration": 278,
    "start_time": "2023-07-28T11:44:16.813Z"
   },
   {
    "duration": 178,
    "start_time": "2023-07-28T11:44:17.093Z"
   },
   {
    "duration": 567,
    "start_time": "2023-07-28T11:44:17.273Z"
   },
   {
    "duration": 17,
    "start_time": "2023-07-28T11:44:17.842Z"
   },
   {
    "duration": 15,
    "start_time": "2023-07-28T11:44:17.862Z"
   },
   {
    "duration": 19,
    "start_time": "2023-07-28T11:44:17.879Z"
   },
   {
    "duration": 24658,
    "start_time": "2023-07-28T11:44:17.900Z"
   },
   {
    "duration": 4,
    "start_time": "2023-07-28T11:44:42.560Z"
   },
   {
    "duration": 22,
    "start_time": "2023-07-28T11:44:42.566Z"
   },
   {
    "duration": 12,
    "start_time": "2023-07-28T11:44:42.590Z"
   },
   {
    "duration": 22,
    "start_time": "2023-07-28T11:44:42.604Z"
   },
   {
    "duration": 11,
    "start_time": "2023-07-28T11:44:42.628Z"
   },
   {
    "duration": 12,
    "start_time": "2023-07-28T11:44:42.657Z"
   },
   {
    "duration": 10,
    "start_time": "2023-07-28T11:45:14.045Z"
   },
   {
    "duration": 11,
    "start_time": "2023-07-28T11:45:53.047Z"
   },
   {
    "duration": 10,
    "start_time": "2023-07-28T11:46:30.087Z"
   },
   {
    "duration": 12,
    "start_time": "2023-07-28T11:46:38.188Z"
   },
   {
    "duration": 16,
    "start_time": "2023-07-28T11:46:44.250Z"
   },
   {
    "duration": 19,
    "start_time": "2023-07-28T11:46:59.265Z"
   },
   {
    "duration": 13,
    "start_time": "2023-07-28T11:47:06.341Z"
   },
   {
    "duration": 17,
    "start_time": "2023-07-28T11:47:16.137Z"
   },
   {
    "duration": 11,
    "start_time": "2023-07-28T11:47:59.412Z"
   },
   {
    "duration": 19,
    "start_time": "2023-07-28T11:48:08.757Z"
   },
   {
    "duration": 20,
    "start_time": "2023-07-28T11:48:39.462Z"
   },
   {
    "duration": 10,
    "start_time": "2023-07-28T11:50:03.535Z"
   },
   {
    "duration": 16,
    "start_time": "2023-07-28T11:50:15.311Z"
   },
   {
    "duration": 14,
    "start_time": "2023-07-28T11:52:06.041Z"
   },
   {
    "duration": 19,
    "start_time": "2023-07-28T11:53:01.345Z"
   },
   {
    "duration": 12,
    "start_time": "2023-07-28T11:56:56.132Z"
   },
   {
    "duration": 11,
    "start_time": "2023-07-28T12:01:09.754Z"
   },
   {
    "duration": 8,
    "start_time": "2023-07-28T12:01:35.136Z"
   },
   {
    "duration": 10,
    "start_time": "2023-07-28T12:02:57.040Z"
   },
   {
    "duration": 5,
    "start_time": "2023-07-28T12:03:11.970Z"
   },
   {
    "duration": 7,
    "start_time": "2023-07-28T12:04:12.356Z"
   },
   {
    "duration": 2630,
    "start_time": "2023-07-28T12:05:33.053Z"
   },
   {
    "duration": 17,
    "start_time": "2023-07-28T12:07:50.964Z"
   },
   {
    "duration": 16,
    "start_time": "2023-07-28T12:08:20.550Z"
   },
   {
    "duration": 16,
    "start_time": "2023-07-28T12:09:14.954Z"
   },
   {
    "duration": 24,
    "start_time": "2023-07-28T12:09:35.821Z"
   },
   {
    "duration": 14,
    "start_time": "2023-07-28T12:09:47.602Z"
   },
   {
    "duration": 16,
    "start_time": "2023-07-28T12:09:57.453Z"
   },
   {
    "duration": 10,
    "start_time": "2023-07-28T12:10:09.340Z"
   },
   {
    "duration": 19,
    "start_time": "2023-07-28T12:10:17.605Z"
   },
   {
    "duration": 1920,
    "start_time": "2023-07-28T14:20:14.602Z"
   },
   {
    "duration": 1352,
    "start_time": "2023-07-28T14:20:16.524Z"
   },
   {
    "duration": 3,
    "start_time": "2023-07-28T14:20:17.878Z"
   },
   {
    "duration": 26,
    "start_time": "2023-07-28T14:20:17.883Z"
   },
   {
    "duration": 14,
    "start_time": "2023-07-28T14:20:17.911Z"
   },
   {
    "duration": 26,
    "start_time": "2023-07-28T14:20:17.927Z"
   },
   {
    "duration": 23,
    "start_time": "2023-07-28T14:20:17.955Z"
   },
   {
    "duration": 13,
    "start_time": "2023-07-28T14:20:17.980Z"
   },
   {
    "duration": 8,
    "start_time": "2023-07-28T14:20:17.995Z"
   },
   {
    "duration": 15,
    "start_time": "2023-07-28T14:20:18.006Z"
   },
   {
    "duration": 11,
    "start_time": "2023-07-28T14:20:18.023Z"
   },
   {
    "duration": 25,
    "start_time": "2023-07-28T14:20:18.036Z"
   },
   {
    "duration": 22,
    "start_time": "2023-07-28T14:20:18.062Z"
   },
   {
    "duration": 13,
    "start_time": "2023-07-28T14:20:18.086Z"
   },
   {
    "duration": 46,
    "start_time": "2023-07-28T14:20:18.101Z"
   },
   {
    "duration": 11,
    "start_time": "2023-07-28T14:20:18.148Z"
   },
   {
    "duration": 18,
    "start_time": "2023-07-28T14:20:18.161Z"
   },
   {
    "duration": 214,
    "start_time": "2023-07-28T14:20:18.181Z"
   },
   {
    "duration": 258,
    "start_time": "2023-07-28T14:20:18.398Z"
   },
   {
    "duration": 9,
    "start_time": "2023-07-28T14:20:18.658Z"
   },
   {
    "duration": 113,
    "start_time": "2023-07-28T14:20:18.669Z"
   },
   {
    "duration": 12,
    "start_time": "2023-07-28T14:20:18.784Z"
   },
   {
    "duration": 15,
    "start_time": "2023-07-28T14:20:18.798Z"
   },
   {
    "duration": 354,
    "start_time": "2023-07-28T14:20:18.815Z"
   },
   {
    "duration": 175,
    "start_time": "2023-07-28T14:20:19.171Z"
   },
   {
    "duration": 526,
    "start_time": "2023-07-28T14:20:19.348Z"
   },
   {
    "duration": 12,
    "start_time": "2023-07-28T14:20:19.876Z"
   },
   {
    "duration": 15,
    "start_time": "2023-07-28T14:20:19.891Z"
   },
   {
    "duration": 12,
    "start_time": "2023-07-28T14:20:19.908Z"
   },
   {
    "duration": 24088,
    "start_time": "2023-07-28T14:20:19.922Z"
   },
   {
    "duration": 3,
    "start_time": "2023-07-28T14:20:44.012Z"
   },
   {
    "duration": 22,
    "start_time": "2023-07-28T14:20:44.017Z"
   },
   {
    "duration": 16,
    "start_time": "2023-07-28T14:20:44.041Z"
   },
   {
    "duration": 19,
    "start_time": "2023-07-28T14:20:44.059Z"
   },
   {
    "duration": 14,
    "start_time": "2023-07-28T14:20:44.080Z"
   },
   {
    "duration": 24,
    "start_time": "2023-07-28T14:20:44.096Z"
   },
   {
    "duration": 34,
    "start_time": "2023-07-28T14:20:44.122Z"
   },
   {
    "duration": 14,
    "start_time": "2023-07-28T14:20:44.158Z"
   },
   {
    "duration": 21,
    "start_time": "2023-07-28T14:20:44.174Z"
   },
   {
    "duration": 10,
    "start_time": "2023-07-28T14:20:44.198Z"
   },
   {
    "duration": 58,
    "start_time": "2023-07-28T14:20:44.210Z"
   },
   {
    "duration": 7,
    "start_time": "2023-07-28T14:31:27.942Z"
   },
   {
    "duration": 988,
    "start_time": "2023-07-28T14:31:27.951Z"
   },
   {
    "duration": 3,
    "start_time": "2023-07-28T14:31:28.941Z"
   },
   {
    "duration": 21,
    "start_time": "2023-07-28T14:31:28.946Z"
   },
   {
    "duration": 22,
    "start_time": "2023-07-28T14:31:28.969Z"
   },
   {
    "duration": 17,
    "start_time": "2023-07-28T14:31:28.993Z"
   },
   {
    "duration": 32,
    "start_time": "2023-07-28T14:31:29.012Z"
   },
   {
    "duration": 11,
    "start_time": "2023-07-28T14:31:29.046Z"
   },
   {
    "duration": 8,
    "start_time": "2023-07-28T14:31:29.058Z"
   },
   {
    "duration": 8,
    "start_time": "2023-07-28T14:31:29.068Z"
   },
   {
    "duration": 16,
    "start_time": "2023-07-28T14:31:29.078Z"
   },
   {
    "duration": 8,
    "start_time": "2023-07-28T14:31:29.096Z"
   },
   {
    "duration": 47,
    "start_time": "2023-07-28T14:31:29.106Z"
   },
   {
    "duration": 5,
    "start_time": "2023-07-28T14:31:29.155Z"
   },
   {
    "duration": 42,
    "start_time": "2023-07-28T14:31:29.161Z"
   },
   {
    "duration": 11,
    "start_time": "2023-07-28T14:31:29.204Z"
   },
   {
    "duration": 19,
    "start_time": "2023-07-28T14:31:29.217Z"
   },
   {
    "duration": 194,
    "start_time": "2023-07-28T14:31:29.237Z"
   },
   {
    "duration": 211,
    "start_time": "2023-07-28T14:31:29.433Z"
   },
   {
    "duration": 8,
    "start_time": "2023-07-28T14:31:29.652Z"
   },
   {
    "duration": 17,
    "start_time": "2023-07-28T14:31:29.662Z"
   },
   {
    "duration": 7,
    "start_time": "2023-07-28T14:31:29.681Z"
   },
   {
    "duration": 11,
    "start_time": "2023-07-28T14:31:29.690Z"
   },
   {
    "duration": 307,
    "start_time": "2023-07-28T14:31:29.702Z"
   },
   {
    "duration": 195,
    "start_time": "2023-07-28T14:31:30.012Z"
   },
   {
    "duration": 609,
    "start_time": "2023-07-28T14:31:30.210Z"
   },
   {
    "duration": 12,
    "start_time": "2023-07-28T14:31:30.820Z"
   },
   {
    "duration": 106,
    "start_time": "2023-07-28T14:31:30.851Z"
   },
   {
    "duration": 51,
    "start_time": "2023-07-28T14:31:30.958Z"
   },
   {
    "duration": 25039,
    "start_time": "2023-07-28T14:31:31.011Z"
   },
   {
    "duration": 4,
    "start_time": "2023-07-28T14:31:56.052Z"
   },
   {
    "duration": 35,
    "start_time": "2023-07-28T14:31:56.058Z"
   },
   {
    "duration": 17,
    "start_time": "2023-07-28T14:31:56.094Z"
   },
   {
    "duration": 18,
    "start_time": "2023-07-28T14:31:56.113Z"
   },
   {
    "duration": 18,
    "start_time": "2023-07-28T14:31:56.133Z"
   },
   {
    "duration": 17,
    "start_time": "2023-07-28T14:31:56.153Z"
   },
   {
    "duration": 14,
    "start_time": "2023-07-28T14:31:56.172Z"
   },
   {
    "duration": 13,
    "start_time": "2023-07-28T14:31:56.187Z"
   },
   {
    "duration": 15,
    "start_time": "2023-07-28T14:31:56.202Z"
   },
   {
    "duration": 36,
    "start_time": "2023-07-28T14:31:56.219Z"
   },
   {
    "duration": 22,
    "start_time": "2023-07-28T14:31:56.257Z"
   },
   {
    "duration": 597,
    "start_time": "2023-07-28T14:44:25.128Z"
   },
   {
    "duration": 265,
    "start_time": "2023-07-28T14:45:26.008Z"
   },
   {
    "duration": 204,
    "start_time": "2023-07-28T14:45:38.396Z"
   },
   {
    "duration": 136,
    "start_time": "2023-07-28T14:47:10.609Z"
   },
   {
    "duration": 263,
    "start_time": "2023-07-28T14:47:18.713Z"
   },
   {
    "duration": 259,
    "start_time": "2023-07-28T14:47:54.233Z"
   },
   {
    "duration": 235,
    "start_time": "2023-07-28T14:57:21.668Z"
   },
   {
    "duration": 493,
    "start_time": "2023-07-28T14:59:00.902Z"
   },
   {
    "duration": 1831,
    "start_time": "2023-07-29T11:54:29.948Z"
   },
   {
    "duration": 1274,
    "start_time": "2023-07-29T11:54:31.781Z"
   },
   {
    "duration": 7,
    "start_time": "2023-07-29T11:54:33.065Z"
   },
   {
    "duration": 16,
    "start_time": "2023-07-29T11:54:33.074Z"
   },
   {
    "duration": 12,
    "start_time": "2023-07-29T11:54:33.092Z"
   },
   {
    "duration": 11,
    "start_time": "2023-07-29T11:54:33.105Z"
   },
   {
    "duration": 12,
    "start_time": "2023-07-29T11:54:33.117Z"
   },
   {
    "duration": 29,
    "start_time": "2023-07-29T11:54:33.131Z"
   },
   {
    "duration": 10,
    "start_time": "2023-07-29T11:54:33.166Z"
   },
   {
    "duration": 10,
    "start_time": "2023-07-29T11:54:33.179Z"
   },
   {
    "duration": 19,
    "start_time": "2023-07-29T11:54:33.191Z"
   },
   {
    "duration": 15,
    "start_time": "2023-07-29T11:54:33.211Z"
   },
   {
    "duration": 12,
    "start_time": "2023-07-29T11:54:33.229Z"
   },
   {
    "duration": 26,
    "start_time": "2023-07-29T11:54:33.243Z"
   },
   {
    "duration": 37,
    "start_time": "2023-07-29T11:54:33.273Z"
   },
   {
    "duration": 7,
    "start_time": "2023-07-29T11:54:33.312Z"
   },
   {
    "duration": 11,
    "start_time": "2023-07-29T11:54:33.321Z"
   },
   {
    "duration": 174,
    "start_time": "2023-07-29T11:54:33.334Z"
   },
   {
    "duration": 261,
    "start_time": "2023-07-29T11:54:33.510Z"
   },
   {
    "duration": 8,
    "start_time": "2023-07-29T11:54:33.774Z"
   },
   {
    "duration": 208,
    "start_time": "2023-07-29T11:54:33.784Z"
   },
   {
    "duration": 63,
    "start_time": "2023-07-29T11:54:33.994Z"
   },
   {
    "duration": 9,
    "start_time": "2023-07-29T11:54:34.060Z"
   },
   {
    "duration": 608,
    "start_time": "2023-07-29T11:54:34.070Z"
   },
   {
    "duration": 201,
    "start_time": "2023-07-29T11:54:34.680Z"
   },
   {
    "duration": 618,
    "start_time": "2023-07-29T11:54:34.883Z"
   },
   {
    "duration": 8,
    "start_time": "2023-07-29T11:54:35.503Z"
   },
   {
    "duration": 22948,
    "start_time": "2023-07-29T11:54:35.514Z"
   },
   {
    "duration": 8,
    "start_time": "2023-07-29T11:54:58.470Z"
   },
   {
    "duration": 14,
    "start_time": "2023-07-29T11:54:58.481Z"
   },
   {
    "duration": 12,
    "start_time": "2023-07-29T11:54:58.497Z"
   },
   {
    "duration": 21,
    "start_time": "2023-07-29T11:54:58.511Z"
   },
   {
    "duration": 38,
    "start_time": "2023-07-29T11:54:58.534Z"
   },
   {
    "duration": 16,
    "start_time": "2023-07-29T11:54:58.574Z"
   },
   {
    "duration": 24,
    "start_time": "2023-07-29T11:54:58.592Z"
   },
   {
    "duration": 13,
    "start_time": "2023-07-29T11:54:58.618Z"
   },
   {
    "duration": 37,
    "start_time": "2023-07-29T11:54:58.634Z"
   },
   {
    "duration": 8,
    "start_time": "2023-07-29T11:54:58.673Z"
   },
   {
    "duration": 33,
    "start_time": "2023-07-29T11:54:58.683Z"
   },
   {
    "duration": 15,
    "start_time": "2023-07-29T12:15:09.928Z"
   },
   {
    "duration": 13,
    "start_time": "2023-07-29T12:15:22.780Z"
   },
   {
    "duration": 109,
    "start_time": "2023-07-29T12:18:48.989Z"
   },
   {
    "duration": 13,
    "start_time": "2023-07-29T12:18:52.220Z"
   },
   {
    "duration": 10,
    "start_time": "2023-07-29T12:18:53.480Z"
   },
   {
    "duration": 14,
    "start_time": "2023-07-29T12:19:06.819Z"
   },
   {
    "duration": 11,
    "start_time": "2023-07-29T12:19:10.491Z"
   },
   {
    "duration": 3,
    "start_time": "2023-07-29T12:19:26.965Z"
   },
   {
    "duration": 3,
    "start_time": "2023-07-29T12:19:32.789Z"
   },
   {
    "duration": 4,
    "start_time": "2023-07-29T12:20:54.093Z"
   },
   {
    "duration": 4,
    "start_time": "2023-07-29T12:21:47.451Z"
   },
   {
    "duration": 12,
    "start_time": "2023-07-29T12:29:17.082Z"
   },
   {
    "duration": 4,
    "start_time": "2023-07-29T12:29:18.182Z"
   },
   {
    "duration": 11,
    "start_time": "2023-07-29T12:30:26.217Z"
   },
   {
    "duration": 14,
    "start_time": "2023-07-29T12:36:08.121Z"
   },
   {
    "duration": 4,
    "start_time": "2023-07-29T12:36:08.748Z"
   },
   {
    "duration": 12,
    "start_time": "2023-07-29T12:38:23.330Z"
   },
   {
    "duration": 13,
    "start_time": "2023-07-29T12:40:04.225Z"
   },
   {
    "duration": 4,
    "start_time": "2023-07-29T12:40:12.230Z"
   },
   {
    "duration": 18,
    "start_time": "2023-07-29T12:40:19.431Z"
   },
   {
    "duration": 4,
    "start_time": "2023-07-29T12:40:20.292Z"
   },
   {
    "duration": 6,
    "start_time": "2023-07-29T12:43:38.028Z"
   },
   {
    "duration": 983,
    "start_time": "2023-07-29T12:43:38.037Z"
   },
   {
    "duration": 3,
    "start_time": "2023-07-29T12:43:39.022Z"
   },
   {
    "duration": 12,
    "start_time": "2023-07-29T12:43:39.027Z"
   },
   {
    "duration": 15,
    "start_time": "2023-07-29T12:43:39.041Z"
   },
   {
    "duration": 14,
    "start_time": "2023-07-29T12:43:39.058Z"
   },
   {
    "duration": 16,
    "start_time": "2023-07-29T12:43:39.074Z"
   },
   {
    "duration": 11,
    "start_time": "2023-07-29T12:43:39.092Z"
   },
   {
    "duration": 9,
    "start_time": "2023-07-29T12:43:39.104Z"
   },
   {
    "duration": 5,
    "start_time": "2023-07-29T12:43:39.114Z"
   },
   {
    "duration": 41,
    "start_time": "2023-07-29T12:43:39.121Z"
   },
   {
    "duration": 8,
    "start_time": "2023-07-29T12:43:39.164Z"
   },
   {
    "duration": 11,
    "start_time": "2023-07-29T12:43:39.174Z"
   },
   {
    "duration": 4,
    "start_time": "2023-07-29T12:43:39.188Z"
   },
   {
    "duration": 64,
    "start_time": "2023-07-29T12:43:39.193Z"
   },
   {
    "duration": 9,
    "start_time": "2023-07-29T12:43:39.259Z"
   },
   {
    "duration": 7,
    "start_time": "2023-07-29T12:43:39.270Z"
   },
   {
    "duration": 159,
    "start_time": "2023-07-29T12:43:39.278Z"
   },
   {
    "duration": 171,
    "start_time": "2023-07-29T12:43:39.439Z"
   },
   {
    "duration": 7,
    "start_time": "2023-07-29T12:43:39.612Z"
   },
   {
    "duration": 14,
    "start_time": "2023-07-29T12:43:39.621Z"
   },
   {
    "duration": 24,
    "start_time": "2023-07-29T12:43:39.636Z"
   },
   {
    "duration": 16,
    "start_time": "2023-07-29T12:43:39.661Z"
   },
   {
    "duration": 234,
    "start_time": "2023-07-29T12:43:39.679Z"
   },
   {
    "duration": 149,
    "start_time": "2023-07-29T12:43:39.914Z"
   },
   {
    "duration": 502,
    "start_time": "2023-07-29T12:43:40.065Z"
   },
   {
    "duration": 8,
    "start_time": "2023-07-29T12:43:40.569Z"
   },
   {
    "duration": 22258,
    "start_time": "2023-07-29T12:43:40.579Z"
   },
   {
    "duration": 4,
    "start_time": "2023-07-29T12:44:02.839Z"
   },
   {
    "duration": 24,
    "start_time": "2023-07-29T12:44:02.845Z"
   },
   {
    "duration": 22,
    "start_time": "2023-07-29T12:44:02.871Z"
   },
   {
    "duration": 19,
    "start_time": "2023-07-29T12:44:02.895Z"
   },
   {
    "duration": 22,
    "start_time": "2023-07-29T12:44:02.916Z"
   },
   {
    "duration": 16,
    "start_time": "2023-07-29T12:44:02.940Z"
   },
   {
    "duration": 19,
    "start_time": "2023-07-29T12:44:02.958Z"
   },
   {
    "duration": 4,
    "start_time": "2023-07-29T12:44:02.979Z"
   },
   {
    "duration": 17,
    "start_time": "2023-07-29T12:44:02.984Z"
   },
   {
    "duration": 5,
    "start_time": "2023-07-29T12:44:03.003Z"
   },
   {
    "duration": 21,
    "start_time": "2023-07-29T12:44:03.010Z"
   },
   {
    "duration": 24,
    "start_time": "2023-07-29T12:44:03.033Z"
   },
   {
    "duration": 11,
    "start_time": "2023-07-29T12:44:03.061Z"
   },
   {
    "duration": 18,
    "start_time": "2023-07-29T12:44:03.073Z"
   },
   {
    "duration": 16,
    "start_time": "2023-07-29T13:26:24.959Z"
   },
   {
    "duration": 8,
    "start_time": "2023-07-29T13:27:24.265Z"
   },
   {
    "duration": 6,
    "start_time": "2023-07-29T13:28:54.822Z"
   },
   {
    "duration": 4,
    "start_time": "2023-07-29T13:29:36.738Z"
   },
   {
    "duration": 5,
    "start_time": "2023-07-29T13:29:53.682Z"
   },
   {
    "duration": 4,
    "start_time": "2023-07-29T13:30:15.571Z"
   },
   {
    "duration": 5,
    "start_time": "2023-07-29T13:30:18.000Z"
   },
   {
    "duration": 5,
    "start_time": "2023-07-29T13:30:32.123Z"
   },
   {
    "duration": 4,
    "start_time": "2023-07-29T13:30:34.015Z"
   },
   {
    "duration": 2037,
    "start_time": "2023-07-31T11:21:33.783Z"
   },
   {
    "duration": 1172,
    "start_time": "2023-07-31T11:21:35.822Z"
   },
   {
    "duration": 8,
    "start_time": "2023-07-31T11:21:37.000Z"
   },
   {
    "duration": 25,
    "start_time": "2023-07-31T11:21:37.011Z"
   },
   {
    "duration": 14,
    "start_time": "2023-07-31T11:21:37.039Z"
   },
   {
    "duration": 21,
    "start_time": "2023-07-31T11:21:37.065Z"
   },
   {
    "duration": 31,
    "start_time": "2023-07-31T11:21:37.089Z"
   },
   {
    "duration": 13,
    "start_time": "2023-07-31T11:21:37.122Z"
   },
   {
    "duration": 14,
    "start_time": "2023-07-31T11:21:37.137Z"
   },
   {
    "duration": 28,
    "start_time": "2023-07-31T11:21:37.153Z"
   },
   {
    "duration": 11,
    "start_time": "2023-07-31T11:21:37.186Z"
   },
   {
    "duration": 23,
    "start_time": "2023-07-31T11:21:37.198Z"
   },
   {
    "duration": 16,
    "start_time": "2023-07-31T11:21:37.224Z"
   },
   {
    "duration": 23,
    "start_time": "2023-07-31T11:21:37.245Z"
   },
   {
    "duration": 43,
    "start_time": "2023-07-31T11:21:37.272Z"
   },
   {
    "duration": 10,
    "start_time": "2023-07-31T11:21:37.317Z"
   },
   {
    "duration": 26,
    "start_time": "2023-07-31T11:21:37.331Z"
   },
   {
    "duration": 260,
    "start_time": "2023-07-31T11:21:37.359Z"
   },
   {
    "duration": 259,
    "start_time": "2023-07-31T11:21:37.621Z"
   },
   {
    "duration": 8,
    "start_time": "2023-07-31T11:21:37.883Z"
   },
   {
    "duration": 143,
    "start_time": "2023-07-31T11:21:37.892Z"
   },
   {
    "duration": 23,
    "start_time": "2023-07-31T11:21:38.037Z"
   },
   {
    "duration": 21,
    "start_time": "2023-07-31T11:21:38.063Z"
   },
   {
    "duration": 320,
    "start_time": "2023-07-31T11:21:38.087Z"
   },
   {
    "duration": 201,
    "start_time": "2023-07-31T11:21:38.409Z"
   },
   {
    "duration": 623,
    "start_time": "2023-07-31T11:21:38.613Z"
   },
   {
    "duration": 18,
    "start_time": "2023-07-31T11:21:39.239Z"
   },
   {
    "duration": 34,
    "start_time": "2023-07-31T11:22:04.956Z"
   },
   {
    "duration": 1081,
    "start_time": "2023-07-31T11:22:04.992Z"
   },
   {
    "duration": 3,
    "start_time": "2023-07-31T11:22:06.075Z"
   },
   {
    "duration": 44,
    "start_time": "2023-07-31T11:22:06.080Z"
   },
   {
    "duration": 22,
    "start_time": "2023-07-31T11:22:06.126Z"
   },
   {
    "duration": 29,
    "start_time": "2023-07-31T11:22:06.150Z"
   },
   {
    "duration": 31,
    "start_time": "2023-07-31T11:22:06.184Z"
   },
   {
    "duration": 16,
    "start_time": "2023-07-31T11:22:06.217Z"
   },
   {
    "duration": 12,
    "start_time": "2023-07-31T11:22:06.235Z"
   },
   {
    "duration": 20,
    "start_time": "2023-07-31T11:22:06.250Z"
   },
   {
    "duration": 78,
    "start_time": "2023-07-31T11:22:06.275Z"
   },
   {
    "duration": 57,
    "start_time": "2023-07-31T11:22:06.355Z"
   },
   {
    "duration": 31,
    "start_time": "2023-07-31T11:22:06.414Z"
   },
   {
    "duration": 26,
    "start_time": "2023-07-31T11:22:06.447Z"
   },
   {
    "duration": 58,
    "start_time": "2023-07-31T11:22:06.476Z"
   },
   {
    "duration": 9,
    "start_time": "2023-07-31T11:22:06.537Z"
   },
   {
    "duration": 14,
    "start_time": "2023-07-31T11:22:06.549Z"
   },
   {
    "duration": 163,
    "start_time": "2023-07-31T11:22:06.565Z"
   },
   {
    "duration": 182,
    "start_time": "2023-07-31T11:22:06.730Z"
   },
   {
    "duration": 7,
    "start_time": "2023-07-31T11:22:06.914Z"
   },
   {
    "duration": 58,
    "start_time": "2023-07-31T11:22:06.922Z"
   },
   {
    "duration": 11,
    "start_time": "2023-07-31T11:22:06.982Z"
   },
   {
    "duration": 35,
    "start_time": "2023-07-31T11:22:06.995Z"
   },
   {
    "duration": 273,
    "start_time": "2023-07-31T11:22:07.033Z"
   },
   {
    "duration": 189,
    "start_time": "2023-07-31T11:22:07.309Z"
   },
   {
    "duration": 464,
    "start_time": "2023-07-31T11:22:07.500Z"
   },
   {
    "duration": 10,
    "start_time": "2023-07-31T11:22:07.971Z"
   },
   {
    "duration": 26059,
    "start_time": "2023-07-31T11:22:07.983Z"
   },
   {
    "duration": 4,
    "start_time": "2023-07-31T11:22:34.044Z"
   },
   {
    "duration": 29,
    "start_time": "2023-07-31T11:22:34.050Z"
   },
   {
    "duration": 25,
    "start_time": "2023-07-31T11:22:34.082Z"
   },
   {
    "duration": 34,
    "start_time": "2023-07-31T11:22:34.109Z"
   },
   {
    "duration": 32,
    "start_time": "2023-07-31T11:22:34.145Z"
   },
   {
    "duration": 26,
    "start_time": "2023-07-31T11:22:34.179Z"
   },
   {
    "duration": 29,
    "start_time": "2023-07-31T11:22:34.208Z"
   },
   {
    "duration": 5,
    "start_time": "2023-07-31T11:22:34.238Z"
   },
   {
    "duration": 34,
    "start_time": "2023-07-31T11:22:34.245Z"
   },
   {
    "duration": 7,
    "start_time": "2023-07-31T11:22:34.282Z"
   },
   {
    "duration": 24,
    "start_time": "2023-07-31T11:22:34.291Z"
   },
   {
    "duration": 13,
    "start_time": "2023-07-31T11:22:34.318Z"
   },
   {
    "duration": 43,
    "start_time": "2023-07-31T11:22:34.333Z"
   },
   {
    "duration": 5,
    "start_time": "2023-07-31T11:22:34.379Z"
   },
   {
    "duration": 18,
    "start_time": "2023-07-31T11:22:34.385Z"
   },
   {
    "duration": 19,
    "start_time": "2023-07-31T11:22:34.405Z"
   },
   {
    "duration": 19,
    "start_time": "2023-07-31T11:22:34.426Z"
   },
   {
    "duration": 10,
    "start_time": "2023-07-31T11:45:07.787Z"
   },
   {
    "duration": 6,
    "start_time": "2023-07-31T11:45:37.058Z"
   },
   {
    "duration": 5,
    "start_time": "2023-07-31T11:48:21.071Z"
   },
   {
    "duration": 4,
    "start_time": "2023-07-31T11:48:40.754Z"
   },
   {
    "duration": 7,
    "start_time": "2023-07-31T12:11:40.660Z"
   },
   {
    "duration": 6,
    "start_time": "2023-07-31T12:12:13.156Z"
   },
   {
    "duration": 19,
    "start_time": "2023-07-31T12:12:31.174Z"
   },
   {
    "duration": 11,
    "start_time": "2023-07-31T12:13:13.825Z"
   },
   {
    "duration": 10,
    "start_time": "2023-07-31T12:13:23.563Z"
   },
   {
    "duration": 9,
    "start_time": "2023-07-31T12:13:32.157Z"
   },
   {
    "duration": 10,
    "start_time": "2023-07-31T12:13:56.614Z"
   },
   {
    "duration": 12,
    "start_time": "2023-07-31T12:14:08.975Z"
   },
   {
    "duration": 8,
    "start_time": "2023-07-31T12:15:04.567Z"
   },
   {
    "duration": 6,
    "start_time": "2023-07-31T12:15:16.256Z"
   },
   {
    "duration": 17,
    "start_time": "2023-07-31T12:15:59.470Z"
   },
   {
    "duration": 6,
    "start_time": "2023-07-31T12:16:32.652Z"
   },
   {
    "duration": 7,
    "start_time": "2023-07-31T12:16:38.873Z"
   },
   {
    "duration": 12,
    "start_time": "2023-07-31T12:18:52.068Z"
   },
   {
    "duration": 6,
    "start_time": "2023-07-31T12:18:53.217Z"
   },
   {
    "duration": 7,
    "start_time": "2023-07-31T12:19:18.176Z"
   },
   {
    "duration": 14,
    "start_time": "2023-07-31T12:19:48.556Z"
   },
   {
    "duration": 15,
    "start_time": "2023-07-31T12:20:05.369Z"
   },
   {
    "duration": 6,
    "start_time": "2023-07-31T12:20:24.660Z"
   },
   {
    "duration": 1504,
    "start_time": "2023-07-31T12:20:24.668Z"
   },
   {
    "duration": 4,
    "start_time": "2023-07-31T12:20:26.173Z"
   },
   {
    "duration": 15,
    "start_time": "2023-07-31T12:20:26.178Z"
   },
   {
    "duration": 21,
    "start_time": "2023-07-31T12:20:26.195Z"
   },
   {
    "duration": 21,
    "start_time": "2023-07-31T12:20:26.218Z"
   },
   {
    "duration": 20,
    "start_time": "2023-07-31T12:20:26.241Z"
   },
   {
    "duration": 41,
    "start_time": "2023-07-31T12:20:26.262Z"
   },
   {
    "duration": 17,
    "start_time": "2023-07-31T12:20:26.305Z"
   },
   {
    "duration": 25,
    "start_time": "2023-07-31T12:20:26.324Z"
   },
   {
    "duration": 25,
    "start_time": "2023-07-31T12:20:26.351Z"
   },
   {
    "duration": 32,
    "start_time": "2023-07-31T12:20:26.378Z"
   },
   {
    "duration": 18,
    "start_time": "2023-07-31T12:20:26.412Z"
   },
   {
    "duration": 13,
    "start_time": "2023-07-31T12:20:26.434Z"
   },
   {
    "duration": 43,
    "start_time": "2023-07-31T12:20:26.448Z"
   },
   {
    "duration": 8,
    "start_time": "2023-07-31T12:20:26.493Z"
   },
   {
    "duration": 17,
    "start_time": "2023-07-31T12:20:26.502Z"
   },
   {
    "duration": 185,
    "start_time": "2023-07-31T12:20:26.521Z"
   },
   {
    "duration": 208,
    "start_time": "2023-07-31T12:20:26.708Z"
   },
   {
    "duration": 8,
    "start_time": "2023-07-31T12:20:26.917Z"
   },
   {
    "duration": 34,
    "start_time": "2023-07-31T12:20:26.927Z"
   },
   {
    "duration": 6,
    "start_time": "2023-07-31T12:20:26.963Z"
   },
   {
    "duration": 20,
    "start_time": "2023-07-31T12:20:26.971Z"
   },
   {
    "duration": 364,
    "start_time": "2023-07-31T12:20:26.992Z"
   },
   {
    "duration": 188,
    "start_time": "2023-07-31T12:20:27.358Z"
   },
   {
    "duration": 460,
    "start_time": "2023-07-31T12:20:27.548Z"
   },
   {
    "duration": 9,
    "start_time": "2023-07-31T12:20:28.010Z"
   },
   {
    "duration": 24064,
    "start_time": "2023-07-31T12:20:28.020Z"
   },
   {
    "duration": 5,
    "start_time": "2023-07-31T12:20:52.086Z"
   },
   {
    "duration": 14,
    "start_time": "2023-07-31T12:20:52.092Z"
   },
   {
    "duration": 19,
    "start_time": "2023-07-31T12:20:52.108Z"
   },
   {
    "duration": 40,
    "start_time": "2023-07-31T12:20:52.129Z"
   },
   {
    "duration": 27,
    "start_time": "2023-07-31T12:20:52.171Z"
   },
   {
    "duration": 29,
    "start_time": "2023-07-31T12:20:52.200Z"
   },
   {
    "duration": 37,
    "start_time": "2023-07-31T12:20:52.230Z"
   },
   {
    "duration": 27,
    "start_time": "2023-07-31T12:20:52.270Z"
   },
   {
    "duration": 23,
    "start_time": "2023-07-31T12:20:52.299Z"
   },
   {
    "duration": 5,
    "start_time": "2023-07-31T12:20:52.325Z"
   },
   {
    "duration": 26,
    "start_time": "2023-07-31T12:20:52.332Z"
   },
   {
    "duration": 4,
    "start_time": "2023-07-31T12:20:52.360Z"
   },
   {
    "duration": 50,
    "start_time": "2023-07-31T12:20:52.369Z"
   },
   {
    "duration": 26,
    "start_time": "2023-07-31T12:20:52.421Z"
   },
   {
    "duration": 17,
    "start_time": "2023-07-31T12:20:52.449Z"
   },
   {
    "duration": 7,
    "start_time": "2023-07-31T12:20:52.468Z"
   },
   {
    "duration": 39,
    "start_time": "2023-07-31T12:20:52.477Z"
   },
   {
    "duration": 21,
    "start_time": "2023-07-31T12:20:52.518Z"
   },
   {
    "duration": 27,
    "start_time": "2023-07-31T12:20:52.541Z"
   },
   {
    "duration": 10,
    "start_time": "2023-07-31T12:20:52.570Z"
   },
   {
    "duration": 5,
    "start_time": "2023-07-31T12:22:24.762Z"
   },
   {
    "duration": 6,
    "start_time": "2023-07-31T12:22:31.123Z"
   },
   {
    "duration": 6,
    "start_time": "2023-07-31T12:26:44.455Z"
   },
   {
    "duration": 1188,
    "start_time": "2023-07-31T12:26:44.463Z"
   },
   {
    "duration": 3,
    "start_time": "2023-07-31T12:26:45.654Z"
   },
   {
    "duration": 27,
    "start_time": "2023-07-31T12:26:45.658Z"
   },
   {
    "duration": 30,
    "start_time": "2023-07-31T12:26:45.687Z"
   },
   {
    "duration": 26,
    "start_time": "2023-07-31T12:26:45.719Z"
   },
   {
    "duration": 41,
    "start_time": "2023-07-31T12:26:45.747Z"
   },
   {
    "duration": 13,
    "start_time": "2023-07-31T12:26:45.789Z"
   },
   {
    "duration": 22,
    "start_time": "2023-07-31T12:26:45.804Z"
   },
   {
    "duration": 22,
    "start_time": "2023-07-31T12:26:45.829Z"
   },
   {
    "duration": 11,
    "start_time": "2023-07-31T12:26:45.853Z"
   },
   {
    "duration": 10,
    "start_time": "2023-07-31T12:26:45.866Z"
   },
   {
    "duration": 16,
    "start_time": "2023-07-31T12:26:45.878Z"
   },
   {
    "duration": 4,
    "start_time": "2023-07-31T12:26:45.898Z"
   },
   {
    "duration": 68,
    "start_time": "2023-07-31T12:26:45.904Z"
   },
   {
    "duration": 39,
    "start_time": "2023-07-31T12:26:45.974Z"
   },
   {
    "duration": 8,
    "start_time": "2023-07-31T12:26:46.016Z"
   },
   {
    "duration": 152,
    "start_time": "2023-07-31T12:26:46.027Z"
   },
   {
    "duration": 179,
    "start_time": "2023-07-31T12:26:46.181Z"
   },
   {
    "duration": 8,
    "start_time": "2023-07-31T12:26:46.362Z"
   },
   {
    "duration": 21,
    "start_time": "2023-07-31T12:26:46.372Z"
   },
   {
    "duration": 7,
    "start_time": "2023-07-31T12:26:46.395Z"
   },
   {
    "duration": 7,
    "start_time": "2023-07-31T12:26:46.403Z"
   },
   {
    "duration": 289,
    "start_time": "2023-07-31T12:26:46.412Z"
   },
   {
    "duration": 157,
    "start_time": "2023-07-31T12:26:46.703Z"
   },
   {
    "duration": 606,
    "start_time": "2023-07-31T12:26:46.863Z"
   },
   {
    "duration": 10,
    "start_time": "2023-07-31T12:26:47.471Z"
   },
   {
    "duration": 22836,
    "start_time": "2023-07-31T12:26:47.484Z"
   },
   {
    "duration": 4,
    "start_time": "2023-07-31T12:27:10.322Z"
   },
   {
    "duration": 13,
    "start_time": "2023-07-31T12:27:10.328Z"
   },
   {
    "duration": 27,
    "start_time": "2023-07-31T12:27:10.343Z"
   },
   {
    "duration": 16,
    "start_time": "2023-07-31T12:27:10.371Z"
   },
   {
    "duration": 26,
    "start_time": "2023-07-31T12:27:10.389Z"
   },
   {
    "duration": 24,
    "start_time": "2023-07-31T12:27:10.417Z"
   },
   {
    "duration": 21,
    "start_time": "2023-07-31T12:27:10.443Z"
   },
   {
    "duration": 6,
    "start_time": "2023-07-31T12:27:10.466Z"
   },
   {
    "duration": 13,
    "start_time": "2023-07-31T12:27:10.473Z"
   },
   {
    "duration": 4,
    "start_time": "2023-07-31T12:27:10.488Z"
   },
   {
    "duration": 13,
    "start_time": "2023-07-31T12:27:10.493Z"
   },
   {
    "duration": 4,
    "start_time": "2023-07-31T12:27:10.507Z"
   },
   {
    "duration": 49,
    "start_time": "2023-07-31T12:27:10.514Z"
   },
   {
    "duration": 18,
    "start_time": "2023-07-31T12:27:10.565Z"
   },
   {
    "duration": 13,
    "start_time": "2023-07-31T12:27:10.585Z"
   },
   {
    "duration": 5,
    "start_time": "2023-07-31T12:27:10.600Z"
   },
   {
    "duration": 16,
    "start_time": "2023-07-31T12:27:10.607Z"
   },
   {
    "duration": 6,
    "start_time": "2023-07-31T12:27:10.624Z"
   },
   {
    "duration": 1465,
    "start_time": "2023-08-01T12:16:40.289Z"
   },
   {
    "duration": 1353,
    "start_time": "2023-08-01T12:16:41.756Z"
   },
   {
    "duration": 4,
    "start_time": "2023-08-01T12:16:43.110Z"
   },
   {
    "duration": 47,
    "start_time": "2023-08-01T12:16:43.116Z"
   },
   {
    "duration": 41,
    "start_time": "2023-08-01T12:16:43.165Z"
   },
   {
    "duration": 25,
    "start_time": "2023-08-01T12:16:43.208Z"
   },
   {
    "duration": 25,
    "start_time": "2023-08-01T12:16:43.235Z"
   },
   {
    "duration": 20,
    "start_time": "2023-08-01T12:16:43.262Z"
   },
   {
    "duration": 8,
    "start_time": "2023-08-01T12:16:43.283Z"
   },
   {
    "duration": 9,
    "start_time": "2023-08-01T12:16:43.292Z"
   },
   {
    "duration": 21,
    "start_time": "2023-08-01T12:16:43.302Z"
   },
   {
    "duration": 8,
    "start_time": "2023-08-01T12:16:43.324Z"
   },
   {
    "duration": 13,
    "start_time": "2023-08-01T12:16:43.333Z"
   },
   {
    "duration": 7,
    "start_time": "2023-08-01T12:16:43.349Z"
   },
   {
    "duration": 41,
    "start_time": "2023-08-01T12:16:43.358Z"
   },
   {
    "duration": 7,
    "start_time": "2023-08-01T12:16:43.401Z"
   },
   {
    "duration": 24,
    "start_time": "2023-08-01T12:16:43.410Z"
   },
   {
    "duration": 170,
    "start_time": "2023-08-01T12:16:43.435Z"
   },
   {
    "duration": 187,
    "start_time": "2023-08-01T12:16:43.606Z"
   },
   {
    "duration": 7,
    "start_time": "2023-08-01T12:16:43.795Z"
   },
   {
    "duration": 103,
    "start_time": "2023-08-01T12:16:43.804Z"
   },
   {
    "duration": 5,
    "start_time": "2023-08-01T12:16:43.908Z"
   },
   {
    "duration": 6,
    "start_time": "2023-08-01T12:16:43.915Z"
   },
   {
    "duration": 253,
    "start_time": "2023-08-01T12:16:43.923Z"
   },
   {
    "duration": 157,
    "start_time": "2023-08-01T12:16:44.178Z"
   },
   {
    "duration": 439,
    "start_time": "2023-08-01T12:16:44.337Z"
   },
   {
    "duration": 8,
    "start_time": "2023-08-01T12:16:44.778Z"
   },
   {
    "duration": 19970,
    "start_time": "2023-08-01T12:16:44.787Z"
   },
   {
    "duration": 3,
    "start_time": "2023-08-01T12:17:04.759Z"
   },
   {
    "duration": 30,
    "start_time": "2023-08-01T12:17:04.763Z"
   },
   {
    "duration": 32,
    "start_time": "2023-08-01T12:17:04.794Z"
   },
   {
    "duration": 26,
    "start_time": "2023-08-01T12:17:04.828Z"
   },
   {
    "duration": 24,
    "start_time": "2023-08-01T12:17:04.855Z"
   },
   {
    "duration": 33,
    "start_time": "2023-08-01T12:17:04.880Z"
   },
   {
    "duration": 22,
    "start_time": "2023-08-01T12:17:04.914Z"
   },
   {
    "duration": 34,
    "start_time": "2023-08-01T12:17:04.938Z"
   },
   {
    "duration": 26,
    "start_time": "2023-08-01T12:17:04.974Z"
   },
   {
    "duration": 30,
    "start_time": "2023-08-01T12:17:05.002Z"
   },
   {
    "duration": 42,
    "start_time": "2023-08-01T12:17:05.034Z"
   },
   {
    "duration": 18,
    "start_time": "2023-08-01T12:17:05.077Z"
   },
   {
    "duration": 21,
    "start_time": "2023-08-01T12:17:05.099Z"
   },
   {
    "duration": 26,
    "start_time": "2023-08-01T12:17:05.122Z"
   },
   {
    "duration": 28,
    "start_time": "2023-08-01T12:17:05.150Z"
   },
   {
    "duration": 34,
    "start_time": "2023-08-01T12:17:05.180Z"
   },
   {
    "duration": 82,
    "start_time": "2023-08-01T12:17:05.216Z"
   },
   {
    "duration": 43,
    "start_time": "2023-08-01T12:17:05.300Z"
   },
   {
    "duration": 1829,
    "start_time": "2023-08-01T13:42:06.372Z"
   },
   {
    "duration": 1478,
    "start_time": "2023-08-01T13:42:08.203Z"
   },
   {
    "duration": 3,
    "start_time": "2023-08-01T13:42:09.684Z"
   },
   {
    "duration": 26,
    "start_time": "2023-08-01T13:42:09.688Z"
   },
   {
    "duration": 13,
    "start_time": "2023-08-01T13:42:09.716Z"
   },
   {
    "duration": 27,
    "start_time": "2023-08-01T13:42:09.730Z"
   },
   {
    "duration": 15,
    "start_time": "2023-08-01T13:42:09.759Z"
   },
   {
    "duration": 12,
    "start_time": "2023-08-01T13:42:09.776Z"
   },
   {
    "duration": 7,
    "start_time": "2023-08-01T13:42:09.790Z"
   },
   {
    "duration": 15,
    "start_time": "2023-08-01T13:42:09.799Z"
   },
   {
    "duration": 10,
    "start_time": "2023-08-01T13:42:09.816Z"
   },
   {
    "duration": 33,
    "start_time": "2023-08-01T13:42:09.828Z"
   },
   {
    "duration": 17,
    "start_time": "2023-08-01T13:42:09.863Z"
   },
   {
    "duration": 4,
    "start_time": "2023-08-01T13:42:09.885Z"
   },
   {
    "duration": 35,
    "start_time": "2023-08-01T13:42:09.891Z"
   },
   {
    "duration": 32,
    "start_time": "2023-08-01T13:42:09.928Z"
   },
   {
    "duration": 14,
    "start_time": "2023-08-01T13:42:09.962Z"
   },
   {
    "duration": 166,
    "start_time": "2023-08-01T13:42:09.978Z"
   },
   {
    "duration": 207,
    "start_time": "2023-08-01T13:42:10.146Z"
   },
   {
    "duration": 8,
    "start_time": "2023-08-01T13:42:10.356Z"
   },
   {
    "duration": 117,
    "start_time": "2023-08-01T13:42:10.366Z"
   },
   {
    "duration": 8,
    "start_time": "2023-08-01T13:42:10.484Z"
   },
   {
    "duration": 11,
    "start_time": "2023-08-01T13:42:10.494Z"
   },
   {
    "duration": 273,
    "start_time": "2023-08-01T13:42:10.507Z"
   },
   {
    "duration": 163,
    "start_time": "2023-08-01T13:42:10.782Z"
   },
   {
    "duration": 470,
    "start_time": "2023-08-01T13:42:10.947Z"
   },
   {
    "duration": 9,
    "start_time": "2023-08-01T13:42:11.419Z"
   },
   {
    "duration": 24131,
    "start_time": "2023-08-01T13:42:11.430Z"
   },
   {
    "duration": 4,
    "start_time": "2023-08-01T13:42:35.564Z"
   },
   {
    "duration": 14,
    "start_time": "2023-08-01T13:42:35.570Z"
   },
   {
    "duration": 36,
    "start_time": "2023-08-01T13:42:35.586Z"
   },
   {
    "duration": 18,
    "start_time": "2023-08-01T13:42:35.624Z"
   },
   {
    "duration": 27,
    "start_time": "2023-08-01T13:42:35.644Z"
   },
   {
    "duration": 18,
    "start_time": "2023-08-01T13:42:35.673Z"
   },
   {
    "duration": 22,
    "start_time": "2023-08-01T13:42:35.693Z"
   },
   {
    "duration": 4,
    "start_time": "2023-08-01T13:42:35.717Z"
   },
   {
    "duration": 13,
    "start_time": "2023-08-01T13:42:35.723Z"
   },
   {
    "duration": 23,
    "start_time": "2023-08-01T13:42:35.738Z"
   },
   {
    "duration": 16,
    "start_time": "2023-08-01T13:42:35.763Z"
   },
   {
    "duration": 15,
    "start_time": "2023-08-01T13:42:35.781Z"
   },
   {
    "duration": 14,
    "start_time": "2023-08-01T13:42:35.800Z"
   },
   {
    "duration": 16,
    "start_time": "2023-08-01T13:42:35.815Z"
   },
   {
    "duration": 16,
    "start_time": "2023-08-01T13:42:35.832Z"
   },
   {
    "duration": 20,
    "start_time": "2023-08-01T13:42:35.850Z"
   },
   {
    "duration": 10,
    "start_time": "2023-08-01T13:42:35.872Z"
   },
   {
    "duration": 39,
    "start_time": "2023-08-01T13:42:35.884Z"
   },
   {
    "duration": 27,
    "start_time": "2023-08-01T13:43:04.854Z"
   },
   {
    "duration": 6,
    "start_time": "2023-08-01T13:43:29.372Z"
   },
   {
    "duration": 8,
    "start_time": "2023-08-01T13:44:15.270Z"
   },
   {
    "duration": 8,
    "start_time": "2023-08-01T13:44:22.059Z"
   },
   {
    "duration": 6,
    "start_time": "2023-08-01T13:47:45.220Z"
   },
   {
    "duration": 8,
    "start_time": "2023-08-01T13:48:05.766Z"
   },
   {
    "duration": 14,
    "start_time": "2023-08-01T13:48:43.485Z"
   },
   {
    "duration": 136,
    "start_time": "2023-08-01T13:55:47.262Z"
   },
   {
    "duration": 11,
    "start_time": "2023-08-01T13:58:21.154Z"
   },
   {
    "duration": 17,
    "start_time": "2023-08-01T13:58:56.625Z"
   },
   {
    "duration": 13,
    "start_time": "2023-08-01T13:59:05.942Z"
   },
   {
    "duration": 17,
    "start_time": "2023-08-01T14:00:53.671Z"
   },
   {
    "duration": 18,
    "start_time": "2023-08-01T14:01:03.474Z"
   },
   {
    "duration": 13,
    "start_time": "2023-08-01T14:01:16.872Z"
   },
   {
    "duration": 23,
    "start_time": "2023-08-01T14:01:29.705Z"
   },
   {
    "duration": 10,
    "start_time": "2023-08-01T14:02:49.589Z"
   },
   {
    "duration": 32,
    "start_time": "2023-08-01T14:02:56.658Z"
   },
   {
    "duration": 16,
    "start_time": "2023-08-01T14:03:48.869Z"
   },
   {
    "duration": 24,
    "start_time": "2023-08-01T14:03:49.972Z"
   },
   {
    "duration": 316,
    "start_time": "2023-08-01T14:08:14.949Z"
   }
  ],
  "kernelspec": {
   "display_name": "Python 3 (ipykernel)",
   "language": "python",
   "name": "python3"
  },
  "language_info": {
   "codemirror_mode": {
    "name": "ipython",
    "version": 3
   },
   "file_extension": ".py",
   "mimetype": "text/x-python",
   "name": "python",
   "nbconvert_exporter": "python",
   "pygments_lexer": "ipython3",
   "version": "3.10.9"
  },
  "toc": {
   "base_numbering": 1,
   "nav_menu": {},
   "number_sections": true,
   "sideBar": true,
   "skip_h1_title": true,
   "title_cell": "Table of Contents",
   "title_sidebar": "Contents",
   "toc_cell": false,
   "toc_position": {
    "height": "calc(100% - 180px)",
    "left": "10px",
    "top": "150px",
    "width": "243px"
   },
   "toc_section_display": true,
   "toc_window_display": false
  }
 },
 "nbformat": 4,
 "nbformat_minor": 2
}
